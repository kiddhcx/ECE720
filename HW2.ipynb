{
  "cells": [
    {
      "cell_type": "markdown",
      "metadata": {
        "id": "view-in-github",
        "colab_type": "text"
      },
      "source": [
        "<a href=\"https://colab.research.google.com/github/kiddhcx/ECE720/blob/main/HW2.ipynb\" target=\"_parent\"><img src=\"https://colab.research.google.com/assets/colab-badge.svg\" alt=\"Open In Colab\"/></a>"
      ]
    },
    {
      "cell_type": "markdown",
      "metadata": {
        "id": "b5a8ad2e"
      },
      "source": [
        "# ECE 720 Assignment Hands-on Project 2"
      ],
      "id": "b5a8ad2e"
    },
    {
      "cell_type": "markdown",
      "metadata": {
        "id": "90d5331d"
      },
      "source": [
        "In this assignment, we will explore how to test a DL model.\n",
        "\n",
        "Before working on the assignment, it is highly recommended to read two papers: [DeepGauge: Multi-Granularity Testing Criteria for Deep Learning Systems](https://arxiv.org/pdf/1803.07519.pdf) and [DeepHunter: A Coverage-Guided Fuzz Testing Framework for Deep Neural Networks](https://dl.acm.org/doi/pdf/10.1145/3293882.3330579?casa_token=mGUOGHi9qrcAAAAA:G28BWlY6XueMERjYHKWyW7w5jfGQrzF3fyml6ThPX0Rq8yUE4NYTz28s83fllXvaRItcpflNbBtdEYs). Our materials will be highly relevant to these two papers.\n"
      ],
      "id": "90d5331d"
    },
    {
      "cell_type": "code",
      "execution_count": 3,
      "metadata": {
        "colab": {
          "base_uri": "https://localhost:8080/"
        },
        "id": "uyXTIyYSZ7Mh",
        "outputId": "efe1a5f7-0935-46eb-acb7-f99af7c687b4"
      },
      "outputs": [
        {
          "output_type": "stream",
          "name": "stdout",
          "text": [
            "--2022-03-03 22:46:45--  https://github.com/momentum-openspace/momentum-openspace.github.io/raw/new-template/files/asg2/asg2.zip\n",
            "Resolving github.com (github.com)... 140.82.114.4\n",
            "Connecting to github.com (github.com)|140.82.114.4|:443... connected.\n",
            "HTTP request sent, awaiting response... 302 Found\n",
            "Location: https://raw.githubusercontent.com/momentum-openspace/momentum-openspace.github.io/new-template/files/asg2/asg2.zip [following]\n",
            "--2022-03-03 22:46:45--  https://raw.githubusercontent.com/momentum-openspace/momentum-openspace.github.io/new-template/files/asg2/asg2.zip\n",
            "Resolving raw.githubusercontent.com (raw.githubusercontent.com)... 185.199.108.133, 185.199.109.133, 185.199.110.133, ...\n",
            "Connecting to raw.githubusercontent.com (raw.githubusercontent.com)|185.199.108.133|:443... connected.\n",
            "HTTP request sent, awaiting response... 200 OK\n",
            "Length: 770861 (753K) [application/zip]\n",
            "Saving to: ‘asg2.zip’\n",
            "\n",
            "asg2.zip            100%[===================>] 752.79K  --.-KB/s    in 0.007s  \n",
            "\n",
            "2022-03-03 22:46:45 (108 MB/s) - ‘asg2.zip’ saved [770861/770861]\n",
            "\n",
            "Archive:  asg2.zip\n",
            "  inflating: all_utils.cpython-37.pyc  \n",
            "  inflating: __MACOSX/._all_utils.cpython-37.pyc  \n",
            "  inflating: all_utils.cpython-38.pyc  \n",
            "  inflating: __MACOSX/._all_utils.cpython-38.pyc  \n",
            "  inflating: all_utils.cpython-39.pyc  \n",
            "  inflating: __MACOSX/._all_utils.cpython-39.pyc  \n",
            "  inflating: lenet.pt                \n",
            "   creating: pic/\n",
            "  inflating: pic/Intro.png           \n",
            "  inflating: pic/traditional.png     \n",
            "  inflating: pic/alg_2.png           \n",
            "  inflating: pic/alg_1.png           \n",
            "  inflating: pic/lenet_vis.png       \n",
            "  inflating: pic/AI.png              \n",
            "  inflating: train_idx.pt            \n"
          ]
        }
      ],
      "source": [
        "! wget https://github.com/momentum-openspace/momentum-openspace.github.io/raw/new-template/files/asg2/asg2.zip\n",
        "! unzip asg2.zip"
      ],
      "id": "uyXTIyYSZ7Mh"
    },
    {
      "cell_type": "code",
      "execution_count": 4,
      "metadata": {
        "id": "DtTjWTr62YZS",
        "scrolled": true
      },
      "outputs": [],
      "source": [
        "import imp\n",
        "import platform\n",
        "\n",
        "py_version = platform.python_version().split('.')[1]\n",
        "if py_version == '7':\n",
        "    all_utils = imp.load_compiled(\"all_utils\", \"./all_utils.cpython-37.pyc\")\n",
        "elif py_version == '8':\n",
        "    all_utils = imp.load_compiled(\"all_utils\", \"./all_utils.cpython-38.pyc\")\n",
        "elif py_version == '9':\n",
        "    all_utils = imp.load_compiled(\"all_utils\", \"./all_utils.cpython-39.pyc\")\n",
        "else:\n",
        "    raise NotImplementedError('Only supports Python>=3.7')"
      ],
      "id": "DtTjWTr62YZS"
    },
    {
      "cell_type": "markdown",
      "metadata": {
        "id": "01af4c0a"
      },
      "source": [
        "### Content:\n",
        "\n",
        "1. The difference between traditional software and AI model <font color='red'> (4 points)</font>\n",
        "\n",
        "    - Please summarize the characteristics of traditional software and compare it to AI model (2 points)\n",
        "    - Please summarize the characteristics of AI model and compare it to traditional software (2 points)\n",
        "    \n",
        "    \n",
        "2. Quality assurance of DL models <font color='red'> (13 points)</font>\n",
        "\n",
        "    2.1 Testing metric <font color='red'> (7 points)</font>\n",
        "    \n",
        "    - Profile the DNN on training data (3 points)\n",
        "    - Implement Neuron Boundary Coverage (4 points)\n",
        "    \n",
        "    2.2 Mutation <font color='red'> (6 points)</font>\n",
        "\n",
        "    - Answer the question (2 points)\n",
        "    - Complete Algorithm2 (4 points)\n",
        "\n",
        "3. Experiments <font color='red'> (3 points)</font>\n",
        "    \n",
        "    - Conduct experiments on mutation testing.\n"
      ],
      "id": "01af4c0a"
    },
    {
      "cell_type": "markdown",
      "metadata": {
        "id": "d7863c4e"
      },
      "source": [
        "## 1. The difference between traditional software and AI model <font color='red' size=5> (4 points)</font>"
      ],
      "id": "d7863c4e"
    },
    {
      "cell_type": "markdown",
      "metadata": {
        "id": "e9140225"
      },
      "source": [
        "![Intro.png](https://raw.githubusercontent.com/momentum-openspace/momentum-openspace.github.io/new-template/files/asg2/pic/Intro.png)"
      ],
      "id": "e9140225"
    },
    {
      "cell_type": "markdown",
      "metadata": {
        "id": "5a61d722"
      },
      "source": [
        "<center> Difference between traditional software and AI models (From DeepHunter)</center>"
      ],
      "id": "5a61d722"
    },
    {
      "cell_type": "code",
      "execution_count": 5,
      "metadata": {
        "id": "fc0d5db5"
      },
      "outputs": [],
      "source": [
        "# Load necessary package for the experiments\n",
        "import torch\n",
        "import torch.nn as nn\n",
        "import torch.nn.functional as F\n",
        "import torch.optim as optim\n",
        "import torch.utils.data as data\n",
        "\n",
        "import torchvision.transforms as transforms\n",
        "import torchvision.datasets as datasets\n",
        "import matplotlib.pyplot as plt\n",
        "import numpy as np\n",
        "\n",
        "def plot_image(image):\n",
        "    fig = plt.figure()\n",
        "    image = np.squeeze(image)\n",
        "    plt.imshow(image, cmap='bone')"
      ],
      "id": "fc0d5db5"
    },
    {
      "cell_type": "code",
      "execution_count": 6,
      "metadata": {
        "colab": {
          "base_uri": "https://localhost:8080/",
          "height": 422,
          "referenced_widgets": [
            "5f3ba9df68ef4e70b8e2c412b5218c10",
            "b18a10498964432397908d82857e76c2",
            "9dcb64548b54471690130784352dc99a",
            "2dd5fdbfd81d40afa5e6a0d6556f4541",
            "71d2b900831042c281769a1368d9c636",
            "b4f41cdb6bf244e88c26599f45cb577c",
            "060cd9cb43034f63b0b8b1b321dea44c",
            "e8fe11228bca49f0a79224a9243bba1f",
            "a562da5ddd794b70a2cf178248ccac0c",
            "bdc8f76f3bd5434988ce91d0d93d287c",
            "1f28f5f3a95c4a848f73b2efff7e9d9e",
            "8ce7d289cf4a419b8299c234e906724e",
            "50ebe5fb2d424e86b6e93674d4139f32",
            "3d1a3d6c0fc14197bc5c9d9c7545430c",
            "5147ce78d3574755bbbbad148a7fea3e",
            "45e36cfa984d48488c3fe97bb3b47c79",
            "ffbd92e92760490ba933b49ed916c994",
            "b4d9f6e7e4b940b69da792c08d2bed62",
            "d2fecfc3fe424765b5758fc4d9d965b6",
            "9a5adeb615964cba9fb513ee49f2eb7c",
            "acb7e353300f414db35da2998fb1f8a1",
            "4dcd9b3dd4ef4be3b2acaecadf2b3a93",
            "ce2222b4a0b7430f9774d9db02a87b98",
            "0f67f0e0ecf847bb835406cc9b5303e1",
            "2066f43bc9d44503a69aae8826231831",
            "d7427b0a079a4eaea61fcb7baba9147e",
            "f91054aa45b24b309f8fb79e539f7699",
            "b23c43f7fe4846efa32623f70354e243",
            "37eab09ce8c642d280e6d6c8b0dce3d8",
            "03eafb3d46784baf854879a3b71b7bbb",
            "40d176873d0f46758cbc3b9448e129cd",
            "ba3ace1f5538480386cfee917bbec1bd",
            "a6b8efce58f94687a9174ea347c54e64",
            "ea913de78a46468dbf473e83fccda67d",
            "1a3273bf1b67482489befab41452f72c",
            "f361c72e0e964146a6f1fa0e37e061ea",
            "cdb28c795c3441809e18ad205d79e3cc",
            "674b975b7944448abb0cc75718868e38",
            "3ebac2b5f10e45d1a9a517935f1d4366",
            "3c4b219a8f2f45a8890f83bea863d877",
            "c21a6045c2c944e19587c650a0259f3e",
            "f591bdc22d1a4ff0b198499d493f5501",
            "29bea219d3e04d1e805d13d5cf2756f8",
            "23990abe56be4acaba09a67e4e59c9b9"
          ]
        },
        "id": "52807591",
        "outputId": "0b6e7ed8-a05c-4812-fcc5-d3602f119c39",
        "scrolled": true
      },
      "outputs": [
        {
          "output_type": "stream",
          "name": "stdout",
          "text": [
            "Downloading http://yann.lecun.com/exdb/mnist/train-images-idx3-ubyte.gz\n",
            "Downloading http://yann.lecun.com/exdb/mnist/train-images-idx3-ubyte.gz to ./data/MNIST/raw/train-images-idx3-ubyte.gz\n"
          ]
        },
        {
          "output_type": "display_data",
          "data": {
            "application/vnd.jupyter.widget-view+json": {
              "model_id": "5f3ba9df68ef4e70b8e2c412b5218c10",
              "version_minor": 0,
              "version_major": 2
            },
            "text/plain": [
              "  0%|          | 0/9912422 [00:00<?, ?it/s]"
            ]
          },
          "metadata": {}
        },
        {
          "output_type": "stream",
          "name": "stdout",
          "text": [
            "Extracting ./data/MNIST/raw/train-images-idx3-ubyte.gz to ./data/MNIST/raw\n",
            "\n",
            "Downloading http://yann.lecun.com/exdb/mnist/train-labels-idx1-ubyte.gz\n",
            "Downloading http://yann.lecun.com/exdb/mnist/train-labels-idx1-ubyte.gz to ./data/MNIST/raw/train-labels-idx1-ubyte.gz\n"
          ]
        },
        {
          "output_type": "display_data",
          "data": {
            "application/vnd.jupyter.widget-view+json": {
              "model_id": "8ce7d289cf4a419b8299c234e906724e",
              "version_minor": 0,
              "version_major": 2
            },
            "text/plain": [
              "  0%|          | 0/28881 [00:00<?, ?it/s]"
            ]
          },
          "metadata": {}
        },
        {
          "output_type": "stream",
          "name": "stdout",
          "text": [
            "Extracting ./data/MNIST/raw/train-labels-idx1-ubyte.gz to ./data/MNIST/raw\n",
            "\n",
            "Downloading http://yann.lecun.com/exdb/mnist/t10k-images-idx3-ubyte.gz\n",
            "Downloading http://yann.lecun.com/exdb/mnist/t10k-images-idx3-ubyte.gz to ./data/MNIST/raw/t10k-images-idx3-ubyte.gz\n"
          ]
        },
        {
          "output_type": "display_data",
          "data": {
            "application/vnd.jupyter.widget-view+json": {
              "model_id": "ce2222b4a0b7430f9774d9db02a87b98",
              "version_minor": 0,
              "version_major": 2
            },
            "text/plain": [
              "  0%|          | 0/1648877 [00:00<?, ?it/s]"
            ]
          },
          "metadata": {}
        },
        {
          "output_type": "stream",
          "name": "stdout",
          "text": [
            "Extracting ./data/MNIST/raw/t10k-images-idx3-ubyte.gz to ./data/MNIST/raw\n",
            "\n",
            "Downloading http://yann.lecun.com/exdb/mnist/t10k-labels-idx1-ubyte.gz\n",
            "Downloading http://yann.lecun.com/exdb/mnist/t10k-labels-idx1-ubyte.gz to ./data/MNIST/raw/t10k-labels-idx1-ubyte.gz\n"
          ]
        },
        {
          "output_type": "display_data",
          "data": {
            "application/vnd.jupyter.widget-view+json": {
              "model_id": "ea913de78a46468dbf473e83fccda67d",
              "version_minor": 0,
              "version_major": 2
            },
            "text/plain": [
              "  0%|          | 0/4542 [00:00<?, ?it/s]"
            ]
          },
          "metadata": {}
        },
        {
          "output_type": "stream",
          "name": "stdout",
          "text": [
            "Extracting ./data/MNIST/raw/t10k-labels-idx1-ubyte.gz to ./data/MNIST/raw\n",
            "\n"
          ]
        }
      ],
      "source": [
        "# Get ready for MNIST dataset\n",
        "data_path = './data'\n",
        "train_data = datasets.MNIST(root=data_path, train=True, download=True)"
      ],
      "id": "52807591"
    },
    {
      "cell_type": "markdown",
      "metadata": {
        "id": "cefb5c19"
      },
      "source": [
        "### 1.1 Traditional software"
      ],
      "id": "cefb5c19"
    },
    {
      "cell_type": "markdown",
      "metadata": {
        "id": "932cbd9a"
      },
      "source": [
        "Now assume you are a developer who wants to develop a software for recognizing hand-written digit."
      ],
      "id": "932cbd9a"
    },
    {
      "cell_type": "code",
      "execution_count": 8,
      "metadata": {
        "id": "32efa840"
      },
      "outputs": [],
      "source": [
        "# Turn images into numpy array.\n",
        "number_a = np.array(train_data[0][0])\n",
        "number_b = np.array(train_data[600][0])"
      ],
      "id": "32efa840"
    },
    {
      "cell_type": "code",
      "execution_count": 8,
      "metadata": {
        "colab": {
          "base_uri": "https://localhost:8080/",
          "height": 232
        },
        "id": "1331717d",
        "outputId": "51d9de1a-6dbd-4e3f-a282-aa2fcc21d1e8"
      },
      "outputs": [
        {
          "output_type": "execute_result",
          "data": {
            "text/plain": [
              "Text(0.5, 0, 'Image b')"
            ]
          },
          "metadata": {},
          "execution_count": 8
        },
        {
          "output_type": "display_data",
          "data": {
            "image/png": "[encoded data removed]",
            "text/plain": [
              "<Figure size 432x288 with 2 Axes>"
            ]
          },
          "metadata": {
            "needs_background": "light"
          }
        }
      ],
      "source": [
        "# Visualize two examples.\n",
        "fig = plt.figure()\n",
        "ax = fig.add_subplot(1, 2, 1)\n",
        "ax.imshow(number_a, cmap='bone')\n",
        "ax.set_xlabel(\"Image a\")\n",
        "ax = fig.add_subplot(1, 2, 2)\n",
        "ax.imshow(number_b, cmap='bone')\n",
        "ax.set_xlabel(\"Image b\")"
      ],
      "id": "1331717d"
    },
    {
      "cell_type": "code",
      "execution_count": 9,
      "metadata": {
        "colab": {
          "base_uri": "https://localhost:8080/"
        },
        "id": "3e22fc43",
        "outputId": "41688fa5-2207-4025-894e-b5b0cf7ccc02"
      },
      "outputs": [
        {
          "output_type": "stream",
          "name": "stdout",
          "text": [
            "The sum of pixel value of image A is: 27525\n",
            "The sum of pixel value of image B is: 15734\n"
          ]
        }
      ],
      "source": [
        "# Compute the sum of pixel value of each images.\n",
        "print(\"The sum of pixel value of image A is: {}\".format(np.sum(number_a.reshape(-1))))\n",
        "print(\"The sum of pixel value of image B is: {}\".format(np.sum(number_b.reshape(-1))))"
      ],
      "id": "3e22fc43"
    },
    {
      "cell_type": "markdown",
      "metadata": {
        "id": "188fc137"
      },
      "source": [
        "You may go through the examples above and find that number \"5\" has larger sum of pixel value than that of number \"9\", based on this observation, a naive judegement could be made: For those images with sum of pixel value is above `20000`, it is the digit `5`, otherwise it is the digit `9`"
      ],
      "id": "188fc137"
    },
    {
      "cell_type": "code",
      "execution_count": 10,
      "metadata": {
        "colab": {
          "base_uri": "https://localhost:8080/"
        },
        "id": "164de35e",
        "outputId": "f3be012c-7a3a-4f8f-ee04-612610019afd"
      },
      "outputs": [
        {
          "output_type": "stream",
          "name": "stdout",
          "text": [
            "Image a is 5\n",
            "Image b is 9\n"
          ]
        }
      ],
      "source": [
        "def recognize_digit(image):\n",
        "    # --- Below is the logic of this function ---\n",
        "    if np.sum(image.reshape(-1)) > 20000:\n",
        "        return 5\n",
        "    else:\n",
        "        return 9\n",
        "    # --- Above is the logic of this function ---\n",
        "\n",
        "print(\"Image a is {}\".format(recognize_digit(number_a)) )\n",
        "print(\"Image b is {}\".format(recognize_digit(number_b)) )"
      ],
      "id": "164de35e"
    },
    {
      "cell_type": "markdown",
      "metadata": {
        "id": "fbc7e130"
      },
      "source": [
        "<font color='blue' size=4> Please summarize the characteristics of traditional software and compare it to AI model</font> <font color='red' size=4> (2 points)</font>"
      ],
      "id": "fbc7e130"
    },
    {
      "cell_type": "markdown",
      "metadata": {
        "id": "T-Hg-KvCtWc7"
      },
      "source": [
        "![traditional.png](https://raw.githubusercontent.com/momentum-openspace/momentum-openspace.github.io/new-template/files/asg2/pic/traditional.png)"
      ],
      "id": "T-Hg-KvCtWc7"
    },
    {
      "cell_type": "markdown",
      "metadata": {
        "id": "eb9a17ec"
      },
      "source": [
        "### 1.2 AI model"
      ],
      "id": "eb9a17ec"
    },
    {
      "cell_type": "markdown",
      "metadata": {
        "id": "d91bd88f"
      },
      "source": [
        "Now let's see the AI model. We have a pre-trained AI model ready for you and let's load it."
      ],
      "id": "d91bd88f"
    },
    {
      "cell_type": "code",
      "execution_count": 31,
      "metadata": {
        "id": "b87b3901"
      },
      "outputs": [],
      "source": [
        "from all_utils import Lenet5\n",
        "from all_utils import load_model\n",
        "\n",
        "model = load_model(Lenet5, \"./lenet.pt\")"
      ],
      "id": "b87b3901"
    },
    {
      "cell_type": "markdown",
      "metadata": {
        "id": "94bbf6d3"
      },
      "source": [
        "<center> The AI model architecture </center>"
      ],
      "id": "94bbf6d3"
    },
    {
      "cell_type": "markdown",
      "metadata": {
        "id": "ee6fe059"
      },
      "source": [
        "<img src=\"https://raw.githubusercontent.com/momentum-openspace/momentum-openspace.github.io/new-template/files/asg2/pic/lenet_vis.png\" height=1000 weight=600> "
      ],
      "id": "ee6fe059"
    },
    {
      "cell_type": "markdown",
      "metadata": {
        "id": "3ddd9b44"
      },
      "source": [
        "The above figure shows the computation graph of the AI model. In each element, there are some computations going on. All the blue components with \".weight\" can also be taken as \"neurons.\" \n",
        "\n",
        "Let's predict the image using AI model."
      ],
      "id": "3ddd9b44"
    },
    {
      "cell_type": "code",
      "execution_count": 32,
      "metadata": {
        "colab": {
          "base_uri": "https://localhost:8080/"
        },
        "id": "ee1713d1",
        "outputId": "e1d8f6a0-8b3e-4327-cc4f-e9a8e298bf7e"
      },
      "outputs": [
        {
          "output_type": "stream",
          "name": "stdout",
          "text": [
            "Image a is 5\n",
            "Image b is 9\n"
          ]
        }
      ],
      "source": [
        "def recognize_digit_AI(image, model):\n",
        "    tensor = all_utils.image_to_tensor(image)\n",
        "    # --- Below is the prediction made by the model ---\n",
        "    with torch.no_grad():\n",
        "        result = model(tensor)\n",
        "    # --- Above is the prediction made by the model ---\n",
        "    return np.argmax(result.cpu(), axis = 1)[0]\n",
        "\n",
        "print(\"Image a is {}\".format(recognize_digit_AI(number_a, model)) )\n",
        "print(\"Image b is {}\".format(recognize_digit_AI(number_b, model)) )"
      ],
      "id": "ee1713d1"
    },
    {
      "cell_type": "markdown",
      "metadata": {
        "id": "c88ff572"
      },
      "source": [
        "<font color='blue' size=4> Please summarize the characteristics of AI model and compare it to traditional software </font> <font color='red' size=4> (2 points)</font>"
      ],
      "id": "c88ff572"
    },
    {
      "cell_type": "markdown",
      "metadata": {
        "id": "7563f45a"
      },
      "source": [
        "Hint: Neurons in the AI model can interact with each other. They are connected with complex non-linear activation functions."
      ],
      "id": "7563f45a"
    },
    {
      "cell_type": "markdown",
      "metadata": {
        "id": "b5306096"
      },
      "source": [
        "![Title](https://raw.githubusercontent.com/momentum-openspace/momentum-openspace.github.io/new-template/files/asg2/pic/AI.png)"
      ],
      "id": "b5306096"
    },
    {
      "cell_type": "markdown",
      "metadata": {
        "id": "f13e7478"
      },
      "source": [
        "## 2. Quality assurance of DL models <font color='red' size=5> (13 points)</font>"
      ],
      "id": "f13e7478"
    },
    {
      "cell_type": "markdown",
      "metadata": {
        "id": "64b7cb08"
      },
      "source": [
        "So far, we have explored the differences between deep learning models and traditional software. Now let's think about one of the main topics in this course: how to improve the quality of machine learning systems. \n",
        "\n",
        "To do this, let's first review the developing process of classical software:\n",
        "\n",
        "`Software development --> Software testing --> Software debugging --> Software development.`\n",
        "\n",
        "And machine learning systems have similar process:\n",
        "\n",
        "`Model training --> Model evaluation --> Model debugging/ Architecture improvement --> Model (re)training.`\n",
        "\n",
        "Normally Model evaluation is done by testing on test set. Similar to the software testing procedure, this is a very important step towards quality assurance of DL models. However, there are multiple questions remaining:\n",
        "\n",
        "1. The size of the test set is usually limited, because it could be expensive to collect data with labeled data. Hence it's hard to cover all the corner cases in the test set. \n",
        "\n",
        "    a. To solve this problem, we need to develop a method to generate more test cases. \n",
        "    b. Like test generation in traditional automated software testing, we need to generate \"valid\" test cases. For example, you can not generate a cat image to test the handwritten digit recognition system.\n",
        "    \n",
        "\n",
        "2. Let's suppose that you now have a large enough test set. The next question is, how can we tell whether the ML system has been comprehensively tested or not. Or, in other words, what is the criteria to stop the testing and how to measure whether the ML system has been well-tested?\n",
        "\n",
        "    a. The \"code coverage\" metric is usually used in traditional software, and we also have practiced it in the last assignment. If we know that every logical branch in the software has been covered in the testing, we can be more confident to say that this software has been comprehensive tested.  \n",
        "    \n",
        "    \n",
        "3. Now if you have a testing metric like \"code coverage\" and a test case generation method for testing machine learning systems, the next step is to generate as diverse test cases as you can to improve the testing coverage. Is it possible to \"guide\" the test case generation process instead of do it randomly?\n",
        "\n",
        "We will cover all these three questions in the following"
      ],
      "id": "64b7cb08"
    },
    {
      "cell_type": "markdown",
      "metadata": {
        "id": "06b69b7f"
      },
      "source": [
        "### Goal: Test AI models efficiently\n",
        "\n",
        "### TODO:\n",
        "\n",
        "### 1. Define a testing metric that is suitable for testing DL models.\n",
        "    \n",
        "### 2. Find possible test cases generation methods.\n",
        "    \n",
        "### 3. Design metric-guidance testing technique."
      ],
      "id": "06b69b7f"
    },
    {
      "cell_type": "markdown",
      "metadata": {
        "id": "601bb649"
      },
      "source": [
        "### 2.1 Testing metric <font color='red' size=3> (7 points)</font>"
      ],
      "id": "601bb649"
    },
    {
      "cell_type": "markdown",
      "metadata": {
        "id": "d0b2e15c"
      },
      "source": [
        "#### 2.1.1 Definition of \"neuron\""
      ],
      "id": "d0b2e15c"
    },
    {
      "cell_type": "markdown",
      "metadata": {
        "id": "0f6536e3"
      },
      "source": [
        "In a DNN with only linear layer enabled ([MLP](https://en.wikipedia.org/wiki/Multilayer_perceptron)), the term \"neuron\" represents a computing unit. Each neuron is fully-connected with all neurons on the next layer, and each connection has a weight. \n",
        "\n",
        "`output = linear_layer(input)`.\n",
        "    \n",
        "However, in another kind of neural network called Convolutional Neural Networks (CNNs), which is known more prevalent in the image classification task, there is a special computation unit called \"convolution\". We refer the reader to a nice resource from Stanford University: [Convolutional Neural Networks (CNNs / ConvNets)](https://cs231n.github.io/convolutional-networks/) if you are not familiar with CNNs. Generally speaking, it is more ambiguous to describe a \"neuron\" in CNNs. We will follow the insights in the aforementioned material:\n",
        "\n",
        "> Every entry in the 3D output volume can also be interpreted as an output of a neuron that looks at only a small region in the input and shares parameters with all neurons to the left and right spatially (since these numbers all result from applying the same filter).\n",
        "    \n"
      ],
      "id": "0f6536e3"
    },
    {
      "cell_type": "code",
      "execution_count": 24,
      "metadata": {
        "id": "2919d5b2",
        "scrolled": true
      },
      "outputs": [],
      "source": [
        "# Before the experiment, let's first load the data\n",
        "train_loader = all_utils.get_training_loader(\"./train_idx.pt\")\n",
        "test_loader = all_utils.get_test_loader()"
      ],
      "id": "2919d5b2"
    },
    {
      "cell_type": "markdown",
      "metadata": {
        "id": "d47c78ef"
      },
      "source": [
        "Notice: \n",
        "\n",
        "Here the train_loader and test_loader are `torch.utils.data.DataLoader` (reference: [dataloader](https://pytorch.org/docs/stable/data.html#torch.utils.data.DataLoader)). It works like an iterator that automatically returns you the image in each `batch`. The batch size is set to 64 here. In other words, for the tensor returned by the loader, the returned tensor shape is (64, 1, 28, 28), where 64 is the batch_size, 1 is the number of channel, the remaining two dimensions are the height and width of the image. \n",
        "\n",
        "(64, 1, 28, 28) --> (N, C, H, W)\n",
        "\n",
        "While doing image processing, the image is usually in the format (H, W, C), where channel is in the last dimension.\n",
        "\n",
        "You may wonder why pytorch chooses (N, C, H, W). This is because in this format the memory access pattern is beneficial for convolution implementations. If you are interested for this, you can check this [presentation](https://developer.download.nvidia.com/video/gputechconf/gtc/2019/presentation/s9926-tensor-core-performance-the-ultimate-guide.pdf)"
      ],
      "id": "d47c78ef"
    },
    {
      "cell_type": "markdown",
      "metadata": {
        "id": "33d7f961"
      },
      "source": [
        "#### 2.1.2 Introduction to DNN testing metric: Neuron Boundary Coverage"
      ],
      "id": "33d7f961"
    },
    {
      "cell_type": "markdown",
      "metadata": {
        "id": "61481c82"
      },
      "source": [
        "In this section we will explore the testing metric at Neuron-level. You can check for the paper [DeepGauge](https://dl.acm.org/doi/pdf/10.1145/3238147.3238202?casa_token=xNahdy3nsNUAAAAA:FVq-aGLpMPYO9s2MgstFsej05GTcGLCnaOZzse1k61C92jqyli4iCYLFHYopNk8PIPzqbVSwDqssC4I) for more information.\n",
        "\n",
        "Intuitively, we have \"code coverage\" for classical software. If we takes the neurons as the basic components in a DNN, we can also define neuron-based coverage metric to measure how good the testing is and guide the testing. This is the basic logic behind Neuron-Level Coverage Criteria in [DeepGauge](https://dl.acm.org/doi/pdf/10.1145/3238147.3238202?casa_token=xNahdy3nsNUAAAAA:FVq-aGLpMPYO9s2MgstFsej05GTcGLCnaOZzse1k61C92jqyli4iCYLFHYopNk8PIPzqbVSwDqssC4I). \n",
        "\n",
        "The functionality (i.e., neuron output) for each neuron of a DNN should follow some statistical distribution, and this distribution is implicitly determined by the training data. The output distribution analysis would allow to approximately characterize how wide the range of each neuron's output on the training data."
      ],
      "id": "61481c82"
    },
    {
      "cell_type": "markdown",
      "metadata": {
        "id": "cfb5706b"
      },
      "source": [
        "So, we can first analyze the output distribution of a neuron in the training data, find its distribution, and then analyze the output distribution of a neuron in the test data. If the later one \"covers\" the former, we can conclude that the testing data has covered some cases which the model never saw in the training process.\n",
        "\n",
        "Now let's take a look at the Neuron Boundary Coverage (NBC)."
      ],
      "id": "cfb5706b"
    },
    {
      "cell_type": "markdown",
      "metadata": {
        "id": "f441a00f"
      },
      "source": [
        "<font color='red' size=3> Definition 1</font> \n",
        "\n",
        "For a neuron n, let $high_n$ and $low_n$ be its upper and lower boundary output values, respectively, on the value range of its activation function, where $high_n$ and $low_n$ are derived from the training dataset analysis.\n",
        "\n",
        "<font color='red' size=3> Definition 2</font> \n",
        "\n",
        "For a test input $x \\in T$ , we say that a DNN is located in its major function region given x iff $\\forall n \\in N : \\phi(x,n) \\in [low_n, high_n]$ ."
      ],
      "id": "f441a00f"
    },
    {
      "cell_type": "markdown",
      "metadata": {
        "id": "570463d4"
      },
      "source": [
        "As you can see, here we define the \"distribution\" of a neuron by measuring its **output range**. Based on this, we then define:"
      ],
      "id": "570463d4"
    },
    {
      "cell_type": "markdown",
      "metadata": {
        "id": "b0fefe8f"
      },
      "source": [
        "<font color='red' size=3> Definition 3</font> \n",
        "\n",
        "UpperCornerNeuron = {$n \\in N | \\exists x \\in T: \\phi(x, n) \\in (high_n, +\\infty)$};\n",
        "\n",
        "LowerCornerNeuron = {$n \\in N | \\exists x \\in T: \\phi(x, n) \\in (-\\infty, low_n)$};"
      ],
      "id": "b0fefe8f"
    },
    {
      "cell_type": "markdown",
      "metadata": {
        "id": "bfca3352"
      },
      "source": [
        "Definition 3 define two types of situations where the output of neuron is in the corner-case regions (Not present in the training data.) We assume that if at test time, the more corner cases you find, the better chance you can test the DNN thoroughly."
      ],
      "id": "bfca3352"
    },
    {
      "cell_type": "markdown",
      "metadata": {
        "id": "471755aa"
      },
      "source": [
        "Finally, we give the definition of Neuron Boundary Coverage:\n",
        "\n",
        "<font color='red' size=3> Definition 4</font>\n",
        "\n",
        "NBCov(T) = $\\frac{|UpperCornerNeuron| + |LowerCornerNeuron|}{2 \\times |N|}$\n",
        "\n",
        "Where $|\\cdot|$ indicates the number, e.g., $|N|$ indicates the number of all neurons."
      ],
      "id": "471755aa"
    },
    {
      "cell_type": "markdown",
      "metadata": {
        "id": "b6f8a9a9"
      },
      "source": [
        "**In the following, we will implement NBC.**"
      ],
      "id": "b6f8a9a9"
    },
    {
      "cell_type": "markdown",
      "metadata": {
        "id": "06cf873e"
      },
      "source": [
        "<font color='blue' size=4> Profile the DNN on training data</font>"
      ],
      "id": "06cf873e"
    },
    {
      "cell_type": "markdown",
      "metadata": {
        "id": "d17af30d"
      },
      "source": [
        "We will first profile the DNN on training data to get the output range.\n",
        "\n",
        "(What we are doing here is just like instrumentation in traditional software testing.)\n",
        "\n",
        "To get the output of each neuron, we need to get the output of each intermediate layer. For PyTorch, this can be done using hook. If you are interested in thie technique, you can check this video: [PyTorch Hooks Explained - In-depth Tutorial](https://www.youtube.com/watch?v=syLFCVYua6Q). While in this assignment we have implemented a function called `feature_list` that returns all the intermediate result for you:\n",
        "\n",
        "```\n",
        "logits, out_list, name_list = model.feature_list(data)\n",
        "# logits: the final output\n",
        "# output_list: the output of each intermediate layer\n",
        "# name_list: the list of names for each intermediate layer\n",
        "```\n",
        "\n",
        "Use this function, let's profile the DNN"
      ],
      "id": "d17af30d"
    },
    {
      "cell_type": "markdown",
      "metadata": {
        "id": "e0fc0081"
      },
      "source": [
        "<font color='blue' size=3> Please complete the todo listed in the function shown below</font> <font color='red' size=3> (3 points)</font>"
      ],
      "id": "e0fc0081"
    },
    {
      "cell_type": "markdown",
      "metadata": {
        "id": "16b328ce"
      },
      "source": [
        "Functions that you \\*may\\* need to use here:\n",
        "\n",
        "[function Tensor.reshape](https://pytorch.org/docs/stable/generated/torch.reshape.html)\n",
        "\n",
        "    Returns a tensor with the same data and number of elements as input, but with the specified shape. \n",
        "    `torch.tensor([1, 2]).reshape`\n",
        "\n",
        "[function Tensor.max](https://pytorch.org/docs/stable/generated/torch.max.html?highlight=max#torch.max)\n",
        "    \n",
        "    Returns the maximum value of all elements in the input tensor.\n",
        "    `torch.tensor([1, 2]).max`\n",
        "\n",
        "[function Tensor.min](https://pytorch.org/docs/stable/generated/torch.min.html?highlight=min#torch.min)\n",
        "    \n",
        "    Returns the minimum value of all elements in the input tensor.\n",
        "    `torch.tensor([1, 2]).min`\n",
        "\n",
        "[torch.flatten](https://pytorch.org/docs/stable/generated/torch.flatten.html?highlight=flatten#torch.flatten)\n",
        "    \n",
        "    Flattens input by reshaping it into a one-dimensional tensor. "
      ],
      "id": "16b328ce"
    },
    {
      "cell_type": "code",
      "execution_count": 36,
      "metadata": {
        "id": "23dff3db"
      },
      "outputs": [],
      "source": [
        "import collections\n",
        "def profile_DNN(net, dataloader):\n",
        "    \"\"\"\n",
        "    Profile the DNN and return a cov_dict contains the necessary information\n",
        "    ---\n",
        "    Args\n",
        "        net: torch.nn.Module Deep learning model.\n",
        "        dataloader: torch.utils.data.DataLoader The pytorch dataloader.\n",
        "    Returns:\n",
        "        cov_dict: a dict contains (layer_name, neuron_id) --> (neurons_min, neurons_max) mapping.\n",
        "    \n",
        "    \"\"\"\n",
        "    net.eval()\n",
        "    cov_dict = collections.OrderedDict()\n",
        "    batch_num = len(dataloader)\n",
        "    for idx, (data, label) in enumerate(dataloader):\n",
        "        with torch.no_grad():\n",
        "            logits, out_list, name_list = net.feature_list(data)\n",
        "        if idx % 100 == 0:\n",
        "            print(\"* finish {}/{} proportion\".format(idx, batch_num))\n",
        "        \n",
        "        # Iterate through all output layers in the output list\n",
        "        for layer_id in range(len(out_list)):\n",
        "            cur_layer = name_list[layer_id] # record the name of current layer\n",
        "            \n",
        "            '''\n",
        "            Recall the definition of neurons. For a linear layer, the output is [Batch_size, neurons]\n",
        "            While for a convolutional layer, the output is [Batch_size, channel, H, w]\n",
        "            As we define that every entry in the 3D output volume is one neuron, \n",
        "            the number of neurons in conv layer is just channel * H * W.\n",
        "            '''\n",
        "            \n",
        "            cur_neuron_num = 1\n",
        "            \n",
        "            '''\n",
        "            Please compute the number of neurons in the DNN and store the result in cur_neuron_num.\n",
        "            '''\n",
        "            \n",
        "            # ======Below is TODO====== #\n",
        "            if len(out_list[layer_id].shape) == 4:\n",
        "              cur_neuron_num = out_list[layer_id].shape[1] * out_list[layer_id].shape[2] * out_list[layer_id].shape[3]\n",
        "            else:\n",
        "              cur_neuron_num = out_list[layer_id].shape[1]\n",
        "            # ======Above is TODO====== #\n",
        "            \n",
        "            '''\n",
        "            Please records the max value and min value over **batch** (the first dimension) from the **out_list**\n",
        "            Hint: you can use torch.flatten or reshape to turn a multi-dimension tensor\n",
        "            into one-dimension tensor to [C, H, W] --> [N] can be easily used to represent neurons.\n",
        "            Data structure used here: out_list, neurons_max, neurons_min\n",
        "            '''\n",
        "            \n",
        "            # ======Below is TODO====== #\n",
        "            out_list[layer_id] = torch.flatten(out_list[layer_id],start_dim=1)\n",
        "            neurons_max = torch.max(out_list[layer_id],0)\n",
        "            neurons_min = torch.min(out_list[layer_id],0)\n",
        "            \n",
        "            # ======Above is TODO====== #\n",
        "            for neuron_id in range(cur_neuron_num):\n",
        "                # Please record the range of the neuron for key (cur_layer, neuron_id).\n",
        "                if (cur_layer, neuron_id) not in cov_dict:\n",
        "                    # The fisrt time to record the pair.\n",
        "                    cov_dict[(cur_layer, neuron_id)] = [None, None] # Initialize [Lower, upper]\n",
        "                \n",
        "                profile_data_list = cov_dict[(cur_layer, neuron_id)]\n",
        "\n",
        "                '''\n",
        "                Please compare the result in neurons_max, neurons_min with that in profile_data_list\n",
        "                If neurons_max is larger than the data in profile_data_list\n",
        "                store it in the upper_bound and store back to the profile_data_list.\n",
        "                Data structure used here: lower_bound, upper_bound, neurons_min, neurons_max\n",
        "                '''\n",
        "                \n",
        "                # ======Below is TODO====== #\n",
        "                if profile_data_list == [None,None]:\n",
        "                  upper_bound = neurons_max.values[neuron_id]\n",
        "                  lower_bound = neurons_min.values[neuron_id]\n",
        "                else:\n",
        "                  if neurons_max.values[neuron_id] > profile_data_list[1]:\n",
        "                    upper_bound = neurons_max.values[neuron_id]\n",
        "                  else:\n",
        "                    upper_bound = profile_data_list[1]\n",
        "                  if neurons_min.values[neuron_id] < profile_data_list[0]:\n",
        "                    lower_bound = neurons_min.values[neuron_id]\n",
        "                  else:\n",
        "                    lower_bound = profile_data_list[0]\n",
        "                # ======Above is TODO====== #\n",
        "\n",
        "                profile_data_list[0] = lower_bound\n",
        "                profile_data_list[1] = upper_bound\n",
        "                cov_dict[(cur_layer, neuron_id)] = profile_data_list  \n",
        "    return cov_dict"
      ],
      "id": "23dff3db"
    },
    {
      "cell_type": "code",
      "execution_count": 35,
      "metadata": {
        "id": "836f8188"
      },
      "outputs": [],
      "source": [
        "from all_utils import check_cov_list"
      ],
      "id": "836f8188"
    },
    {
      "cell_type": "code",
      "execution_count": 37,
      "metadata": {
        "colab": {
          "base_uri": "https://localhost:8080/",
          "height": 174
        },
        "id": "122feebc",
        "outputId": "ad9c697b-c664-48cb-983a-226addcc40c6",
        "scrolled": true
      },
      "outputs": [
        {
          "output_type": "stream",
          "name": "stdout",
          "text": [
            "* finish 0/750 proportion\n",
            "* finish 100/750 proportion\n",
            "* finish 200/750 proportion\n",
            "* finish 300/750 proportion\n",
            "* finish 400/750 proportion\n",
            "* finish 500/750 proportion\n",
            "* finish 600/750 proportion\n",
            "* finish 700/750 proportion\n"
          ]
        },
        {
          "output_type": "execute_result",
          "data": {
            "application/vnd.google.colaboratory.intrinsic+json": {
              "type": "string"
            },
            "text/plain": [
              "'Congratulation! You have passed the sanity check'"
            ]
          },
          "metadata": {},
          "execution_count": 37
        }
      ],
      "source": [
        "train_cov_dict = profile_DNN(model, train_loader)\n",
        "check_cov_list(train_cov_dict)"
      ],
      "id": "122feebc"
    },
    {
      "cell_type": "markdown",
      "metadata": {
        "id": "04fc431d"
      },
      "source": [
        "Well Done! Let's now implement the NBC metric"
      ],
      "id": "04fc431d"
    },
    {
      "cell_type": "markdown",
      "metadata": {
        "id": "6e7d4e55"
      },
      "source": [
        "<font color='blue' size=4> Implement NBC</font>"
      ],
      "id": "6e7d4e55"
    },
    {
      "cell_type": "markdown",
      "metadata": {
        "id": "b90a5c2d"
      },
      "source": [
        "<font color='blue' size=3> Please complete the todo listed in the function shown below</font> <font color='red' size=3> (4 points)</font>"
      ],
      "id": "b90a5c2d"
    },
    {
      "cell_type": "code",
      "execution_count": 28,
      "metadata": {
        "id": "1f17b3f7"
      },
      "outputs": [],
      "source": [
        "def compute_NBCov(net, dataloader, cov_dict):\n",
        "    \"\"\"\n",
        "    Compute the Neuron Boundary Coverage metric on a given data loader.\n",
        "    ---\n",
        "    Args\n",
        "        net: torch.nn.Module Deep learning model.\n",
        "        dataloader: torch.utils.data.DataLoader The pytorch dataloader.\n",
        "        cov_dict: a dict contains (layer_name, neuron_id) --> (neurons_min, neurons_max) mapping.\n",
        "    Returns:\n",
        "        result: the coverage result\n",
        "    \n",
        "    \"\"\"\n",
        "    net.eval()\n",
        "    coverage_recorder = collections.OrderedDict()\n",
        "    batch_num = len(dataloader)\n",
        "    for idx, (data, label) in enumerate(dataloader):\n",
        "        with torch.no_grad():\n",
        "            logits, out_list, name_list = net.feature_list(data)\n",
        "        if idx % 100 == 0:\n",
        "            print(\"* finish {}/{} proportion\".format(idx, batch_num))\n",
        "        \n",
        "        # Iterate through all output layers in the output list\n",
        "        for layer_id in range(len(out_list)):\n",
        "            # record the name of current layer\n",
        "            cur_layer = name_list[layer_id]\n",
        "            cur_neuron_num = 1\n",
        "            \n",
        "            '''\n",
        "            Please compute the number of neurons in the DNN and store the result in cur_neuron_num.\n",
        "            Compute neurons_max and neurons_min based on **out_list**\n",
        "            '''\n",
        "\n",
        "            # ======Below is TODO====== #\n",
        "            if len(out_list[layer_id].shape) == 4:\n",
        "              cur_neuron_num = out_list[layer_id].shape[1] * out_list[layer_id].shape[2] * out_list[layer_id].shape[3]\n",
        "            else:\n",
        "              cur_neuron_num = out_list[layer_id].shape[1]   \n",
        "\n",
        "            out_list[layer_id] = torch.flatten(out_list[layer_id],start_dim=1)\n",
        "            neurons_max = torch.max(out_list[layer_id],0)\n",
        "            neurons_min = torch.min(out_list[layer_id],0)\n",
        "            # ======Above is TODO====== #\n",
        "\n",
        "            # Compare the result in cov_dict and record neurons who has been covered.\n",
        "            for neuron_id in range(cur_neuron_num):\n",
        "                if (cur_layer, neuron_id) not in coverage_recorder:\n",
        "                    # Init the coverage_recorder\n",
        "                    # [(cur_layer, neuron_id)] = [0, 0] (LowerCornerNeuron, UpperCornerNeuron)\n",
        "                    coverage_recorder[(cur_layer, neuron_id)] = [0, 0] # LowerCornerNeuron, UpperCornerNeuron\n",
        "                \n",
        "                '''\n",
        "                Compare the output in neurons_min(neurons_max) and and cov_dict\n",
        "                If the neuron is covered in LowerCorner, set LowerCornerNeuron = 1\n",
        "                If the neuron is covered in UpperCorner, set UpperCornerNeuron = 1\n",
        "                Data sturcture used here: cov_dict, neurons_min, neurons_max, coverage_recorder\n",
        "                '''\n",
        "                \n",
        "                # ======Below is TODO====== #\n",
        "                if neurons_min.values[neuron_id] < cov_dict[(cur_layer, neuron_id)][0]:\n",
        "                  coverage_recorder[(cur_layer, neuron_id)][0] = 1\n",
        "                if neurons_max.values[neuron_id] > cov_dict[(cur_layer, neuron_id)][1]:\n",
        "                  coverage_recorder[(cur_layer, neuron_id)][1] = 1  \n",
        "                # ======Above is TODO====== #\n",
        "    \n",
        "    num_of_coverage_neuron = 0\n",
        "    \n",
        "    '''\n",
        "    Compute the number of neurons that are covered\n",
        "    Data sturcture used here: coverage_recorder, result\n",
        "    '''\n",
        "    \n",
        "    # ======Below is TODO====== #\n",
        "    for value in coverage_recorder.values():\n",
        "      N = len(coverage_recorder.values())\n",
        "      if value != [0,0]:\n",
        "        num_of_coverage_neuron += 1\n",
        "    print(num_of_coverage_neuron)\n",
        "    result = num_of_coverage_neuron/N\n",
        "    # ======Above is TODO====== #\n",
        "    \n",
        "    return result"
      ],
      "id": "1f17b3f7"
    },
    {
      "cell_type": "code",
      "execution_count": 35,
      "metadata": {
        "colab": {
          "base_uri": "https://localhost:8080/"
        },
        "id": "0f1c4189",
        "outputId": "4e02550e-cfc3-4905-f9d6-6fc17f957bf5"
      },
      "outputs": [
        {
          "output_type": "stream",
          "name": "stdout",
          "text": [
            "* finish 0/157 proportion\n",
            "* finish 100/157 proportion\n",
            "1306\n",
            "Your cov result is 0.2782275244993609\n"
          ]
        }
      ],
      "source": [
        "cov_result = compute_NBCov(model, test_loader, train_cov_dict)\n",
        "print(\"Your cov result is {}\".format(cov_result))"
      ],
      "id": "0f1c4189"
    },
    {
      "cell_type": "markdown",
      "metadata": {
        "id": "01bf737a"
      },
      "source": [
        "### 2.2 Mutation <font color='red' size=3> (6 points)</font>"
      ],
      "id": "01bf737a"
    },
    {
      "cell_type": "markdown",
      "metadata": {
        "id": "f0522196"
      },
      "source": [
        "We have successfully implemented one testing metric. Now let's move to the next task: test generation.\n",
        "\n",
        "As we've mentioned before, the size of test set is usually limited, but it's necessary to have more test cases if we want to know whether the trained DNN works well in a diverse environment. \n",
        "\n",
        "In traditional software testing, there is a technique called [mutation testing](https://en.wikipedia.org/wiki/Mutation_testing). Based on a limited number of initial testing programs (seeds), we can apply mutations (modifying a program in small ways) on them to get more testing cases.\n",
        "\n",
        "In mutation testing, there are two things to keep in mind:\n",
        "\n",
        "1. How to define the mutation operations, so the test cases after mutation is valid.\n",
        "\n",
        "2. What's the expeceted behavior of the system under test for the mutated result?"
      ],
      "id": "f0522196"
    },
    {
      "cell_type": "markdown",
      "metadata": {
        "id": "d5d0d9a2"
      },
      "source": [
        "#### 2.2.1 Mutation Testing: generate valid test cases <font color='red' size=3> (6 points)</font>"
      ],
      "id": "d5d0d9a2"
    },
    {
      "cell_type": "markdown",
      "metadata": {
        "id": "9840574d"
      },
      "source": [
        "#### Mutation on images:\n",
        "\n",
        "Since we are testing an image classifier, we need to search for transformations that are capable of transforming an image while keeping its semantics. There are many choices available, for example:\n",
        "    \n",
        "1. image_brightness: adjust the brightness of image.\n",
        "\n",
        "2. image_noise: add some noise to the image.\n",
        "\n",
        "3. image_scale: scale the image.\n",
        "\n",
        "4. ..."
      ],
      "id": "9840574d"
    },
    {
      "cell_type": "code",
      "execution_count": 9,
      "metadata": {
        "id": "543d739d",
        "colab": {
          "base_uri": "https://localhost:8080/",
          "height": 265
        },
        "outputId": "f6c900e5-456e-4917-fa37-9a2c77e0835f"
      },
      "outputs": [
        {
          "output_type": "display_data",
          "data": {
            "image/png": "[encoded data removed]",
            "text/plain": [
              "<Figure size 432x288 with 1 Axes>"
            ]
          },
          "metadata": {
            "needs_background": "light"
          }
        }
      ],
      "source": [
        "# Let's see some examples\n",
        "# This is image_scale\n",
        "from all_utils import image_scale\n",
        "seed = np.expand_dims(number_a, 0)\n",
        "result = image_scale(seed, 2)\n",
        "plot_image(result)"
      ],
      "id": "543d739d"
    },
    {
      "cell_type": "code",
      "execution_count": 10,
      "metadata": {
        "id": "65107b0f",
        "colab": {
          "base_uri": "https://localhost:8080/",
          "height": 265
        },
        "outputId": "f0b43832-9d99-4e7f-f534-4032329001c7"
      },
      "outputs": [
        {
          "output_type": "display_data",
          "data": {
            "image/png": "[encoded data removed]",
            "text/plain": [
              "<Figure size 432x288 with 1 Axes>"
            ]
          },
          "metadata": {
            "needs_background": "light"
          }
        }
      ],
      "source": [
        "# Let's see some examples\n",
        "# This is image_noise\n",
        "from all_utils import image_noise\n",
        "seed = np.expand_dims(number_a, 0)\n",
        "result = image_noise(seed, 1)\n",
        "plot_image(result)"
      ],
      "id": "65107b0f"
    },
    {
      "cell_type": "markdown",
      "metadata": {
        "id": "f78695d5"
      },
      "source": [
        "These transformations are already been implemented, which could be classified as two types: \n",
        "\n",
        "class A (pixel value transformation).\n",
        "\n",
        "class B (Affine transformation)."
      ],
      "id": "f78695d5"
    },
    {
      "cell_type": "code",
      "execution_count": 11,
      "metadata": {
        "id": "3044e352"
      },
      "outputs": [],
      "source": [
        "from all_utils import Mutators\n",
        "mutator_instance = Mutators()"
      ],
      "id": "3044e352"
    },
    {
      "cell_type": "code",
      "execution_count": 12,
      "metadata": {
        "id": "208c44a2",
        "colab": {
          "base_uri": "https://localhost:8080/"
        },
        "outputId": "df8b2c15-ea5f-45d4-ca09-0cd23ab48cbe"
      },
      "outputs": [
        {
          "output_type": "stream",
          "name": "stdout",
          "text": [
            "===Pixel value transformation===\n",
            "image_pixel_change\n",
            "image_noise\n",
            "\n",
            "===Affine transformation===\n",
            "image_scale\n",
            "image_shear\n",
            "image_rotation\n",
            "image_contrast\n",
            "image_brightness\n",
            "image_blur\n"
          ]
        }
      ],
      "source": [
        "print(\"===Pixel value transformation===\")\n",
        "for i in mutator_instance.classA:\n",
        "    print(mutator_instance.transformations[i].__name__)\n",
        "print()\n",
        "print(\"===Affine transformation===\")\n",
        "for i in mutator_instance.classB:\n",
        "    print(mutator_instance.transformations[i].__name__)"
      ],
      "id": "208c44a2"
    },
    {
      "cell_type": "markdown",
      "metadata": {
        "id": "8189bce2"
      },
      "source": [
        "We can easily define what is valid test cases for classical software. For example, a program that add `int a` with `int b` should not receive two imaginary numbers as input. But what is \"valid\" for DNN? Let's take a look at some definitions from DeepHunter."
      ],
      "id": "8189bce2"
    },
    {
      "cell_type": "markdown",
      "metadata": {
        "id": "f90c3808"
      },
      "source": [
        "<font color='red' size=3> Definition 5</font> \n",
        "\n",
        "Given an ideal human oracle O and a test x of a specific input domain, we define metamorphic mutation $M$ on $x$, if\n",
        "$\\forall x  \\in M(x)$, we have $O(x') = O(x)$ .\n",
        "\n",
        "This is to say, the metamorphic mutation does not change the semantic of the image. At least human should identify $x$ and $x'$ as the same image"
      ],
      "id": "f90c3808"
    },
    {
      "cell_type": "markdown",
      "metadata": {
        "id": "1f03d080"
      },
      "source": [
        "<font color='red' size=3> Definition 6</font> \n",
        "\n",
        "An image $s'$ is one-time mutated from $s$ if $s'$ is generated after a transformation $t$ on $s$ (denoted as $s \\stackrel{t}{\\longrightarrow}$ $s'$). An image $s'$ is sequentially mutated from s if $s'$ is generated after a sequence of one-time mutations (denoted as $s \\stackrel{t_0, t_1, \\ldots, t_n}{\\longrightarrow}$ $s'$).\n",
        "\n",
        "Allow sequential mutataion can greatly improve the diversity of th testing"
      ],
      "id": "1f03d080"
    },
    {
      "cell_type": "markdown",
      "metadata": {
        "id": "f84d30d0"
      },
      "source": [
        "<font color='green' size=3> Summary: No matter for one-time mutations or a sequence of mutations, we have to ensure that they are metamorphic mutations</font> "
      ],
      "id": "f84d30d0"
    },
    {
      "cell_type": "markdown",
      "metadata": {
        "id": "a5c683bd"
      },
      "source": [
        "<font color='red' size=3> Definition 7</font>\n",
        "\n",
        "The image $s'$ after transformation, and the original image $s$ are the same if:\n",
        "\n",
        "1. There are no more than one affine transformation between $s'$ and $s$.\n",
        "\n",
        "2. The pixel value changes between $s'$ and $s$ satisfied:\n",
        "\n",
        "\\begin{equation*}\n",
        "    f(s, s') = \\left\\{\\begin{array}{lr}\n",
        "        L_{\\infty}(s, s')  \\leq 255 &\\qquad \\text{if} \n",
        "        \\quad L_0(s, s') < \\alpha \\times size(s) \\\\\n",
        "        L_{\\infty}(s, s') < \\beta \\times 255 & \\text{otherwise} \\\\\n",
        "        \\end{array}\\right\\} \\\\\n",
        "\\end{equation*}\n",
        "\n",
        "(Equation 1 in [DeepHunter: A Coverage-Guided Fuzz Testing Framework for Deep Neural Networks](https://dl.acm.org/doi/pdf/10.1145/3293882.3330579?casa_token=mGUOGHi9qrcAAAAA:G28BWlY6XueMERjYHKWyW7w5jfGQrzF3fyml6ThPX0Rq8yUE4NYTz28s83fllXvaRItcpflNbBtdEYs))\n",
        "\n",
        "Where:\n",
        "\n",
        "\\begin{equation*}\n",
        "\\begin{aligned}\n",
        "    L_0(s, s') &= L_0(s_0, s_{j-1}) + L_0(s_j, s') \\\\\n",
        "    L_{\\infty}(s, s') &= L_0(s_0, s_{j-1}) + L_0(s_j, s') \\\\\n",
        "\\end{aligned}\n",
        "\\end{equation*}\n",
        "\n",
        "$s_{j-1}$ is the transformed image before one affine transformation\n",
        "\n",
        "$L_0$ and $L_{\\infty}$ is the 0-norm and infinity-norm. $L_0(a, b) = sum((a - b) != 0)$, $L_0(a, b) = sum((a - b) != 0)$, $L_{\\infty}(a, b) = max((a-b))$"
      ],
      "id": "a5c683bd"
    },
    {
      "cell_type": "markdown",
      "metadata": {
        "id": "c316587f"
      },
      "source": [
        "The intuition behind Definition 7:\n",
        "\n",
        "1. The pixel value should not be changed too much, so the semantic of the transformed image does not change. This change is measured by the subtraction.\n",
        "\n",
        "2. Affine transformation will change the position of each pixel, making the norm measurement inaccurate (Take a look at `image_scale` example). As a result, we cut the sequence of transformations into two parts, measuring each independently."
      ],
      "id": "c316587f"
    },
    {
      "cell_type": "markdown",
      "metadata": {
        "id": "87df8163"
      },
      "source": [
        "Based on all the definitions above, we have Algorithm 2 in [DeepHunter: A Coverage-Guided Fuzz Testing Framework for Deep Neural Networks](https://dl.acm.org/doi/pdf/10.1145/3293882.3330579?casa_token=mGUOGHi9qrcAAAAA:G28BWlY6XueMERjYHKWyW7w5jfGQrzF3fyml6ThPX0Rq8yUE4NYTz28s83fllXvaRItcpflNbBtdEYs)"
      ],
      "id": "87df8163"
    },
    {
      "cell_type": "markdown",
      "metadata": {
        "id": "184dacef"
      },
      "source": [
        "![Title](https://raw.githubusercontent.com/momentum-openspace/momentum-openspace.github.io/new-template/files/asg2/pic/alg_2.png)"
      ],
      "id": "184dacef"
    },
    {
      "cell_type": "markdown",
      "metadata": {
        "id": "17dfa018"
      },
      "source": [
        "<font color='blue' size=4> Please answer the following question</font> <font color='red' size=4> (2 points)</font>"
      ],
      "id": "17dfa018"
    },
    {
      "cell_type": "markdown",
      "metadata": {
        "id": "8d1907bb"
      },
      "source": [
        "<font color='blue' size=3> For all images returned in Algorithm 2, how many mutations are applied for each image if the success flag is True ? How does sequential mutations done in Deephunter? </font>"
      ],
      "id": "8d1907bb"
    },
    {
      "cell_type": "markdown",
      "metadata": {
        "id": "c29f72fd"
      },
      "source": [
        "Hint: Take a look at algorithm 1"
      ],
      "id": "c29f72fd"
    },
    {
      "cell_type": "markdown",
      "metadata": {
        "id": "eb91f542"
      },
      "source": [
        "![Title](https://raw.githubusercontent.com/momentum-openspace/momentum-openspace.github.io/new-template/files/asg2/pic/alg_1.png)"
      ],
      "id": "eb91f542"
    },
    {
      "cell_type": "markdown",
      "metadata": {
        "id": "0f631676"
      },
      "source": [
        "<font color='blue' size=4> Please complete the todo listed in the function shown below</font> <font color='red' size=4> (4 points)</font>"
      ],
      "id": "0f631676"
    },
    {
      "cell_type": "markdown",
      "metadata": {
        "id": "e5e427df"
      },
      "source": [
        "<font color='blue' size=3> Please also attach three images after mutating in the final report</font> "
      ],
      "id": "e5e427df"
    },
    {
      "cell_type": "code",
      "execution_count": 13,
      "metadata": {
        "id": "f08f8c2d"
      },
      "outputs": [],
      "source": [
        "import random\n",
        "from all_utils import Mutators\n",
        "import cv2\n",
        "import time\n",
        "import copy\n",
        "\n",
        "# We are going to implement Line 5 ~ 18 in Algorithm 2 in the original paper.\n",
        "\n",
        "\n",
        "def mutate_one(ref_img, \n",
        "               img, \n",
        "               has_Affine, \n",
        "               l0_ref, \n",
        "               linf_ref,\n",
        "               alpha=0.02,\n",
        "               beta=0.20, \n",
        "               try_num=50):\n",
        "    \"\"\"\n",
        "    Mutate the image for once.\n",
        "    Line 5 ~ 18 in Algorithm 2 in the original paper.\n",
        "    Args\n",
        "    ---\n",
        "        ref_img: reference image. s0' in the original paper. In the format (C, H, W)\n",
        "            Notice: s0 is the original reference image and we actually does not need it here.\n",
        "        img: the seed. s in the original paper. In the format (C, H, W)\n",
        "        has_Affine: Flag for indicating whether we have applied affine transformation on the image.\n",
        "        l0_ref: The value for L_0(s_0, s_{j-1}). It is used to compute L_0(s_0, s_n) in the equation 2.\n",
        "        linf_ref: The value for L_infinity(s_0, s_{j-1}). It is used to \n",
        "            compute L_infinity(s_0, s_n) in the equation 2.\n",
        "        alpha: alpha in equation 1.\n",
        "        betra: beta in equation 1.\n",
        "        try_num: TRY_NUM in Algorithm 2.\n",
        "        \n",
        "    Returns:\n",
        "        ref_img: reference image. s0' in the original paper.\n",
        "        img: the image after transformation\n",
        "        has_Affine: Updated flag\n",
        "        changed: whether there is actually change for the image.\n",
        "        l0_ref: updated l0_ref.\n",
        "        linf_ref: updated line_ref.\n",
        "    \"\"\"\n",
        "    # ref_img is the reference image, img is the seed\n",
        "\n",
        "    # cl means the current state of transformation\n",
        "    # 0 means it can select both of Affine and Pixel transformations\n",
        "    # 1 means it only select pixel transformation because an Affine transformation has been used before\n",
        "\n",
        "    # l0_ref, linf_ref: if the current seed is mutated from affine transformation, we will record the l0, l_inf\n",
        "    # between initial image and the reference image. i.e., L0(s_0,s_{j-1}) L_inf(s_0,s_{j-1}) in Equation 2 of the paper\n",
        "\n",
        "    # tyr_num is the maximum number of trials in Algorithm 2\n",
        "    \n",
        "    if isinstance(ref_img, torch.Tensor):\n",
        "        ref_img = ref_img.numpy()\n",
        "        img = img.numpy()\n",
        "        is_torch = True\n",
        "    else:\n",
        "        is_torch = False\n",
        "        \n",
        "    c, h, w = img.shape\n",
        "    mutator_instance = Mutators()\n",
        "    # a, b is the alpha and beta in Equation 1 in the paper\n",
        "\n",
        "    # l0_threshold: alpha * size(s), l_infinity_threshold: beta * 255 in Equation 1\n",
        "    l0_threshold = int(alpha * c * h * w)\n",
        "    l_infinity_threshold = int(beta * 255)\n",
        "    ori_shape = ref_img.shape\n",
        "    \n",
        "    for ii in range(try_num):\n",
        "        random.seed(time.time())\n",
        "        if has_Affine == 0:  # 0: can choose class A and B Line-6 of the algorithm\n",
        "            tid = random.sample(mutator_instance.classA + mutator_instance.classB, 1)[0]\n",
        "            # Randomly select one transformation   Line-7 in Algorithm2\n",
        "            transformation = mutator_instance.transformations[tid]\n",
        "            params = mutator_instance.params[tid]\n",
        "            # Randomly select one parameter Line 10 in Algo2\n",
        "            param = random.sample(params, 1)[0]\n",
        "\n",
        "            # Perform the transformation  Line 11 in Algo2\n",
        "            img_new = transformation(copy.deepcopy(img), param)\n",
        "            img_new = img_new.reshape(ori_shape)\n",
        "            \n",
        "            \n",
        "            '''\n",
        "            Notice: the Equation 1 and Line 12 in Algo2 is satisfied \n",
        "            if the transformation is affine transformation\n",
        "            So the line 12 of the algorithm is moved down.\n",
        "            '''\n",
        "            \n",
        "            if tid in mutator_instance.classA: # Line\n",
        "                \n",
        "                '''\n",
        "                check whether it is a valid mutation. i.e., Equation 1 and Line 12 in Algo2\n",
        "                You need to compute l0_ref, linf_ref, and compare them with their own\n",
        "                threshold.\n",
        "                Data structure used here:  ref_img, img_new, l0_ref, l0_threshold\n",
        "                linf_ref, l_infinity_threshold\n",
        "                '''\n",
        "                \n",
        "                # ======Below is TODO====== #\n",
        "               \n",
        "                l0 = np.linalg.norm((ref_img-img_new).flatten(), ord = 0)\n",
        "                l0 = l0 + l0_ref\n",
        "                linf = np.linalg.norm((ref_img-img_new).flatten(), ord = np.inf)\n",
        "                linf = linf + linf_ref\n",
        "                if (linf_ref <= 255 and l0_ref < l0_threshold) or (linf_ref < l_infinity_threshold and l0_ref > l0_threshold): \n",
        "                # line 12 of the algorithm 2. We move the comparision down here.\n",
        "            \n",
        "\n",
        "                  return ref_img, img, has_Affine, True, l0_ref, linf_ref # Please fill the return field.\n",
        "                # ======Above is TODO====== #\n",
        "                \n",
        "                else:  # B, C\n",
        "                \n",
        "                  '''\n",
        "                  If the current transformation is an Affine trans, we will update the reference image and\n",
        "                  the transformation state of the seed.\n",
        "                  '''\n",
        "                \n",
        "                  ref_img = transformation(copy.deepcopy(ref_img), param)\n",
        "                  ref_img = ref_img.reshape(ori_shape)\n",
        "                    \n",
        "                  # ======Below is TODO====== #\n",
        "                  has_Affine = 1\n",
        "                  return ref_img, img, has_Affine, False, l0_ref, linf_ref # Please fill the return field.\n",
        "                  # ======Above is TODO====== #\n",
        "      \n",
        "        elif has_Affine == 1: # 0: can only choose class A. Line 6 of the original algorithm fails.\n",
        "          tid = random.sample(mutator_instance.classA, 1)[0]\n",
        "          transformation = mutator_instance.transformations[tid]\n",
        "          params = mutator_instance.params[tid]\n",
        "          param = random.sample(params, 1)[0]\n",
        "          img_new = transformation(copy.deepcopy(img), param)\n",
        "            \n",
        "            \n",
        "          '''\n",
        "          Compute the value in Equation 2 in the paper.\n",
        "          So the comparision can be done below.\n",
        "          Data structure used here: ref_img, img_new, l0_ref, linf_ref\n",
        "          '''\n",
        "            \n",
        "          # ======Below is TODO====== #\n",
        "          l0 = np.linalg.norm((ref_img-img_new).flatten(), ord = 0)\n",
        "          l0 = l0 + l0_ref\n",
        "          linf = np.linalg.norm((ref_img-img_new).flatten(), ord = np.inf)\n",
        "          linf = linf + linf_ref\n",
        "          if (linf_ref <= 255 and l0_ref < l0_threshold) or (linf_ref < l_infinity_threshold and l0_ref > l0_threshold):\n",
        "             # The if statement is satisified, we can return the result.\n",
        "             return ref_img, img, has_Affine, True, l0_ref, linf_ref # Fill the return field.\n",
        "            \n",
        "          # ======Above is TODO====== #\n",
        "  # Otherwise the mutation is failed. Line 20 in Algo 2\n",
        "    return ref_img, img, has_Affine, False, l0_ref, linf_ref"
      ],
      "id": "f08f8c2d"
    },
    {
      "cell_type": "code",
      "execution_count": 14,
      "metadata": {
        "id": "0c501087"
      },
      "outputs": [],
      "source": [
        "seed = np.expand_dims(number_a, 0)"
      ],
      "id": "0c501087"
    },
    {
      "cell_type": "code",
      "execution_count": 15,
      "metadata": {
        "id": "830608c6"
      },
      "outputs": [],
      "source": [
        "ref_img_list = list()\n",
        "new_img_list = list()\n",
        "affline_flag_list = list()\n",
        "l0_ref_list = list()\n",
        "linf_ref_list = list()"
      ],
      "id": "830608c6"
    },
    {
      "cell_type": "code",
      "execution_count": 20,
      "metadata": {
        "id": "30adf1ff"
      },
      "outputs": [],
      "source": [
        "result = mutate_one(\n",
        "        seed,\n",
        "        seed,\n",
        "        False,\n",
        "        0,\n",
        "        0\n",
        ")\n",
        "result = all_utils.turn_numpy_into_torch_array(result)\n",
        "# Below are the data structures that store the necessary info\n",
        "# for future mutation.\n",
        "ref_img_list.append(result[0])\n",
        "new_img_list.append(result[1]) # T in the original paper\n",
        "affline_flag_list.append(result[2])\n",
        "l0_ref_list.append(result[3])\n",
        "linf_ref_list.append(result[4])"
      ],
      "id": "30adf1ff"
    },
    {
      "cell_type": "code",
      "execution_count": 21,
      "metadata": {
        "id": "3a93bfa6",
        "colab": {
          "base_uri": "https://localhost:8080/",
          "height": 265
        },
        "outputId": "3a0bb638-f4fc-47a8-cb79-9508ed719a7d"
      },
      "outputs": [
        {
          "output_type": "display_data",
          "data": {
            "image/png": "[encoded data removed]",
            "text/plain": [
              "<Figure size 432x288 with 1 Axes>"
            ]
          },
          "metadata": {
            "needs_background": "light"
          }
        }
      ],
      "source": [
        "plot_image(result[1])"
      ],
      "id": "3a93bfa6"
    },
    {
      "cell_type": "markdown",
      "metadata": {
        "id": "2ada28a2"
      },
      "source": [
        "## 3. Experiments <font color='red' size=5> (3 points)</font>"
      ],
      "id": "2ada28a2"
    },
    {
      "cell_type": "markdown",
      "metadata": {
        "id": "f1793ae4"
      },
      "source": [
        "In this section, you are asked to use `Algorithm 2` to do the mutation testing and use function `compute_NBCov` to evaluate the results.\n",
        "\n",
        "There are multiple ways to do the mutation testing:\n",
        "\n",
        "1. Just mutate every image for once in the test set. And combine the test set and mutated images as new dataset for testing.\n",
        "\n",
        "2. Implement Algorithm 1 in the original paper to guide the testing.\n",
        "\n",
        "3. Random select part of the images for testing.\n",
        "\n",
        "4. ...\n",
        "\n",
        "This is an open-ended question, feel free to use any ideas that come to your mind"
      ],
      "id": "f1793ae4"
    },
    {
      "cell_type": "markdown",
      "metadata": {
        "id": "b746137a"
      },
      "source": [
        "Here is an example to build self-defined dataset."
      ],
      "id": "b746137a"
    },
    {
      "cell_type": "code",
      "execution_count": 18,
      "metadata": {
        "id": "b030645e"
      },
      "outputs": [],
      "source": [
        "from torch.utils.data import TensorDataset"
      ],
      "id": "b030645e"
    },
    {
      "cell_type": "code",
      "execution_count": 25,
      "metadata": {
        "id": "264a4d14"
      },
      "outputs": [],
      "source": [
        "test_image_set = list()\n",
        "labels = list()\n",
        "\n",
        "for imgs, label in test_loader:\n",
        "    for i in range(len(imgs)):\n",
        "        test_image_set.append(imgs[i].unsqueeze(0))\n",
        "        labels.append(int(label[i]))\n",
        "        \n",
        "        # ======Below is TODO====== #\n",
        "        # Please remember to use `result = all_utils.turn_numpy_into_torch_array(result)`\n",
        "        result = mutate_one(\n",
        "        imgs[i],\n",
        "        imgs[i],\n",
        "        False,\n",
        "        0,\n",
        "        0)   \n",
        "        result = all_utils.turn_numpy_into_torch_array(result)\n",
        "        test_image_set.append(imgs[i].unsqueeze(0))\n",
        "        labels.append(int(label[i]))\n",
        "        # ======Above is TODO====== #"
      ],
      "id": "264a4d14"
    },
    {
      "cell_type": "code",
      "execution_count": 26,
      "metadata": {
        "id": "cfa5a26c"
      },
      "outputs": [],
      "source": [
        "new_test_dataset = TensorDataset(torch.cat(test_image_set), torch.tensor(labels))\n",
        "new_test_dataloader = torch.utils.data.DataLoader(new_test_dataset, batch_size=64)"
      ],
      "id": "cfa5a26c"
    },
    {
      "cell_type": "code",
      "execution_count": 33,
      "metadata": {
        "id": "9e58e7ca",
        "colab": {
          "base_uri": "https://localhost:8080/",
          "height": 182
        },
        "outputId": "150b0dee-d9c9-4a3a-ad37-a2d4dfa754da"
      },
      "outputs": [
        {
          "output_type": "error",
          "ename": "NameError",
          "evalue": "ignored",
          "traceback": [
            "\u001b[0;31m---------------------------------------------------------------------------\u001b[0m",
            "\u001b[0;31mNameError\u001b[0m                                 Traceback (most recent call last)",
            "\u001b[0;32m<ipython-input-33-e1f25cfdfc30>\u001b[0m in \u001b[0;36m<module>\u001b[0;34m()\u001b[0m\n\u001b[1;32m      1\u001b[0m \u001b[0;31m# train_cov_dict is obtained at section 2.1.2\u001b[0m\u001b[0;34m\u001b[0m\u001b[0;34m\u001b[0m\u001b[0;34m\u001b[0m\u001b[0m\n\u001b[0;32m----> 2\u001b[0;31m \u001b[0mcov_result\u001b[0m \u001b[0;34m=\u001b[0m \u001b[0mcompute_NBCov\u001b[0m\u001b[0;34m(\u001b[0m\u001b[0mmodel\u001b[0m\u001b[0;34m,\u001b[0m \u001b[0mnew_test_dataloader\u001b[0m\u001b[0;34m,\u001b[0m \u001b[0mtrain_cov_dict\u001b[0m\u001b[0;34m)\u001b[0m\u001b[0;34m\u001b[0m\u001b[0;34m\u001b[0m\u001b[0m\n\u001b[0m",
            "\u001b[0;31mNameError\u001b[0m: name 'train_cov_dict' is not defined"
          ]
        }
      ],
      "source": [
        "# train_cov_dict is obtained at section 2.1.2\n",
        "cov_result = compute_NBCov(model, new_test_dataloader, train_cov_dict)"
      ],
      "id": "9e58e7ca"
    },
    {
      "cell_type": "code",
      "execution_count": null,
      "metadata": {
        "id": "ePN1txNn9jjN"
      },
      "outputs": [],
      "source": [
        "print(cov_result)"
      ],
      "id": "ePN1txNn9jjN"
    }
  ],
  "metadata": {
    "colab": {
      "collapsed_sections": [],
      "name": "HW2.ipynb",
      "provenance": [],
      "include_colab_link": true
    },
    "kernelspec": {
      "display_name": "Python 3 (ipykernel)",
      "language": "python",
      "name": "python3"
    },
    "language_info": {
      "codemirror_mode": {
        "name": "ipython",
        "version": 3
      },
      "file_extension": ".py",
      "mimetype": "text/x-python",
      "name": "python",
      "nbconvert_exporter": "python",
      "pygments_lexer": "ipython3",
      "version": "3.8.9"
    },
    "widgets": {
      "application/vnd.jupyter.widget-state+json": {
        "5f3ba9df68ef4e70b8e2c412b5218c10": {
          "model_module": "@jupyter-widgets/controls",
          "model_name": "HBoxModel",
          "model_module_version": "1.5.0",
          "state": {
            "_view_name": "HBoxView",
            "_dom_classes": [],
            "_model_name": "HBoxModel",
            "_view_module": "@jupyter-widgets/controls",
            "_model_module_version": "1.5.0",
            "_view_count": null,
            "_view_module_version": "1.5.0",
            "box_style": "",
            "layout": "IPY_MODEL_b18a10498964432397908d82857e76c2",
            "_model_module": "@jupyter-widgets/controls",
            "children": [
              "IPY_MODEL_9dcb64548b54471690130784352dc99a",
              "IPY_MODEL_2dd5fdbfd81d40afa5e6a0d6556f4541",
              "IPY_MODEL_71d2b900831042c281769a1368d9c636"
            ]
          }
        },
        "b18a10498964432397908d82857e76c2": {
          "model_module": "@jupyter-widgets/base",
          "model_name": "LayoutModel",
          "model_module_version": "1.2.0",
          "state": {
            "_view_name": "LayoutView",
            "grid_template_rows": null,
            "right": null,
            "justify_content": null,
            "_view_module": "@jupyter-widgets/base",
            "overflow": null,
            "_model_module_version": "1.2.0",
            "_view_count": null,
            "flex_flow": null,
            "width": null,
            "min_width": null,
            "border": null,
            "align_items": null,
            "bottom": null,
            "_model_module": "@jupyter-widgets/base",
            "top": null,
            "grid_column": null,
            "overflow_y": null,
            "overflow_x": null,
            "grid_auto_flow": null,
            "grid_area": null,
            "grid_template_columns": null,
            "flex": null,
            "_model_name": "LayoutModel",
            "justify_items": null,
            "grid_row": null,
            "max_height": null,
            "align_content": null,
            "visibility": null,
            "align_self": null,
            "height": null,
            "min_height": null,
            "padding": null,
            "grid_auto_rows": null,
            "grid_gap": null,
            "max_width": null,
            "order": null,
            "_view_module_version": "1.2.0",
            "grid_template_areas": null,
            "object_position": null,
            "object_fit": null,
            "grid_auto_columns": null,
            "margin": null,
            "display": null,
            "left": null
          }
        },
        "9dcb64548b54471690130784352dc99a": {
          "model_module": "@jupyter-widgets/controls",
          "model_name": "HTMLModel",
          "model_module_version": "1.5.0",
          "state": {
            "_view_name": "HTMLView",
            "style": "IPY_MODEL_b4f41cdb6bf244e88c26599f45cb577c",
            "_dom_classes": [],
            "description": "",
            "_model_name": "HTMLModel",
            "placeholder": "​",
            "_view_module": "@jupyter-widgets/controls",
            "_model_module_version": "1.5.0",
            "value": "",
            "_view_count": null,
            "_view_module_version": "1.5.0",
            "description_tooltip": null,
            "_model_module": "@jupyter-widgets/controls",
            "layout": "IPY_MODEL_060cd9cb43034f63b0b8b1b321dea44c"
          }
        },
        "2dd5fdbfd81d40afa5e6a0d6556f4541": {
          "model_module": "@jupyter-widgets/controls",
          "model_name": "FloatProgressModel",
          "model_module_version": "1.5.0",
          "state": {
            "_view_name": "ProgressView",
            "style": "IPY_MODEL_e8fe11228bca49f0a79224a9243bba1f",
            "_dom_classes": [],
            "description": "",
            "_model_name": "FloatProgressModel",
            "bar_style": "success",
            "max": 9912422,
            "_view_module": "@jupyter-widgets/controls",
            "_model_module_version": "1.5.0",
            "value": 9912422,
            "_view_count": null,
            "_view_module_version": "1.5.0",
            "orientation": "horizontal",
            "min": 0,
            "description_tooltip": null,
            "_model_module": "@jupyter-widgets/controls",
            "layout": "IPY_MODEL_a562da5ddd794b70a2cf178248ccac0c"
          }
        },
        "71d2b900831042c281769a1368d9c636": {
          "model_module": "@jupyter-widgets/controls",
          "model_name": "HTMLModel",
          "model_module_version": "1.5.0",
          "state": {
            "_view_name": "HTMLView",
            "style": "IPY_MODEL_bdc8f76f3bd5434988ce91d0d93d287c",
            "_dom_classes": [],
            "description": "",
            "_model_name": "HTMLModel",
            "placeholder": "​",
            "_view_module": "@jupyter-widgets/controls",
            "_model_module_version": "1.5.0",
            "value": " 9913344/? [00:00&lt;00:00, 42249675.91it/s]",
            "_view_count": null,
            "_view_module_version": "1.5.0",
            "description_tooltip": null,
            "_model_module": "@jupyter-widgets/controls",
            "layout": "IPY_MODEL_1f28f5f3a95c4a848f73b2efff7e9d9e"
          }
        },
        "b4f41cdb6bf244e88c26599f45cb577c": {
          "model_module": "@jupyter-widgets/controls",
          "model_name": "DescriptionStyleModel",
          "model_module_version": "1.5.0",
          "state": {
            "_view_name": "StyleView",
            "_model_name": "DescriptionStyleModel",
            "description_width": "",
            "_view_module": "@jupyter-widgets/base",
            "_model_module_version": "1.5.0",
            "_view_count": null,
            "_view_module_version": "1.2.0",
            "_model_module": "@jupyter-widgets/controls"
          }
        },
        "060cd9cb43034f63b0b8b1b321dea44c": {
          "model_module": "@jupyter-widgets/base",
          "model_name": "LayoutModel",
          "model_module_version": "1.2.0",
          "state": {
            "_view_name": "LayoutView",
            "grid_template_rows": null,
            "right": null,
            "justify_content": null,
            "_view_module": "@jupyter-widgets/base",
            "overflow": null,
            "_model_module_version": "1.2.0",
            "_view_count": null,
            "flex_flow": null,
            "width": null,
            "min_width": null,
            "border": null,
            "align_items": null,
            "bottom": null,
            "_model_module": "@jupyter-widgets/base",
            "top": null,
            "grid_column": null,
            "overflow_y": null,
            "overflow_x": null,
            "grid_auto_flow": null,
            "grid_area": null,
            "grid_template_columns": null,
            "flex": null,
            "_model_name": "LayoutModel",
            "justify_items": null,
            "grid_row": null,
            "max_height": null,
            "align_content": null,
            "visibility": null,
            "align_self": null,
            "height": null,
            "min_height": null,
            "padding": null,
            "grid_auto_rows": null,
            "grid_gap": null,
            "max_width": null,
            "order": null,
            "_view_module_version": "1.2.0",
            "grid_template_areas": null,
            "object_position": null,
            "object_fit": null,
            "grid_auto_columns": null,
            "margin": null,
            "display": null,
            "left": null
          }
        },
        "e8fe11228bca49f0a79224a9243bba1f": {
          "model_module": "@jupyter-widgets/controls",
          "model_name": "ProgressStyleModel",
          "model_module_version": "1.5.0",
          "state": {
            "_view_name": "StyleView",
            "_model_name": "ProgressStyleModel",
            "description_width": "",
            "_view_module": "@jupyter-widgets/base",
            "_model_module_version": "1.5.0",
            "_view_count": null,
            "_view_module_version": "1.2.0",
            "bar_color": null,
            "_model_module": "@jupyter-widgets/controls"
          }
        },
        "a562da5ddd794b70a2cf178248ccac0c": {
          "model_module": "@jupyter-widgets/base",
          "model_name": "LayoutModel",
          "model_module_version": "1.2.0",
          "state": {
            "_view_name": "LayoutView",
            "grid_template_rows": null,
            "right": null,
            "justify_content": null,
            "_view_module": "@jupyter-widgets/base",
            "overflow": null,
            "_model_module_version": "1.2.0",
            "_view_count": null,
            "flex_flow": null,
            "width": null,
            "min_width": null,
            "border": null,
            "align_items": null,
            "bottom": null,
            "_model_module": "@jupyter-widgets/base",
            "top": null,
            "grid_column": null,
            "overflow_y": null,
            "overflow_x": null,
            "grid_auto_flow": null,
            "grid_area": null,
            "grid_template_columns": null,
            "flex": null,
            "_model_name": "LayoutModel",
            "justify_items": null,
            "grid_row": null,
            "max_height": null,
            "align_content": null,
            "visibility": null,
            "align_self": null,
            "height": null,
            "min_height": null,
            "padding": null,
            "grid_auto_rows": null,
            "grid_gap": null,
            "max_width": null,
            "order": null,
            "_view_module_version": "1.2.0",
            "grid_template_areas": null,
            "object_position": null,
            "object_fit": null,
            "grid_auto_columns": null,
            "margin": null,
            "display": null,
            "left": null
          }
        },
        "bdc8f76f3bd5434988ce91d0d93d287c": {
          "model_module": "@jupyter-widgets/controls",
          "model_name": "DescriptionStyleModel",
          "model_module_version": "1.5.0",
          "state": {
            "_view_name": "StyleView",
            "_model_name": "DescriptionStyleModel",
            "description_width": "",
            "_view_module": "@jupyter-widgets/base",
            "_model_module_version": "1.5.0",
            "_view_count": null,
            "_view_module_version": "1.2.0",
            "_model_module": "@jupyter-widgets/controls"
          }
        },
        "1f28f5f3a95c4a848f73b2efff7e9d9e": {
          "model_module": "@jupyter-widgets/base",
          "model_name": "LayoutModel",
          "model_module_version": "1.2.0",
          "state": {
            "_view_name": "LayoutView",
            "grid_template_rows": null,
            "right": null,
            "justify_content": null,
            "_view_module": "@jupyter-widgets/base",
            "overflow": null,
            "_model_module_version": "1.2.0",
            "_view_count": null,
            "flex_flow": null,
            "width": null,
            "min_width": null,
            "border": null,
            "align_items": null,
            "bottom": null,
            "_model_module": "@jupyter-widgets/base",
            "top": null,
            "grid_column": null,
            "overflow_y": null,
            "overflow_x": null,
            "grid_auto_flow": null,
            "grid_area": null,
            "grid_template_columns": null,
            "flex": null,
            "_model_name": "LayoutModel",
            "justify_items": null,
            "grid_row": null,
            "max_height": null,
            "align_content": null,
            "visibility": null,
            "align_self": null,
            "height": null,
            "min_height": null,
            "padding": null,
            "grid_auto_rows": null,
            "grid_gap": null,
            "max_width": null,
            "order": null,
            "_view_module_version": "1.2.0",
            "grid_template_areas": null,
            "object_position": null,
            "object_fit": null,
            "grid_auto_columns": null,
            "margin": null,
            "display": null,
            "left": null
          }
        },
        "8ce7d289cf4a419b8299c234e906724e": {
          "model_module": "@jupyter-widgets/controls",
          "model_name": "HBoxModel",
          "model_module_version": "1.5.0",
          "state": {
            "_view_name": "HBoxView",
            "_dom_classes": [],
            "_model_name": "HBoxModel",
            "_view_module": "@jupyter-widgets/controls",
            "_model_module_version": "1.5.0",
            "_view_count": null,
            "_view_module_version": "1.5.0",
            "box_style": "",
            "layout": "IPY_MODEL_50ebe5fb2d424e86b6e93674d4139f32",
            "_model_module": "@jupyter-widgets/controls",
            "children": [
              "IPY_MODEL_3d1a3d6c0fc14197bc5c9d9c7545430c",
              "IPY_MODEL_5147ce78d3574755bbbbad148a7fea3e",
              "IPY_MODEL_45e36cfa984d48488c3fe97bb3b47c79"
            ]
          }
        },
        "50ebe5fb2d424e86b6e93674d4139f32": {
          "model_module": "@jupyter-widgets/base",
          "model_name": "LayoutModel",
          "model_module_version": "1.2.0",
          "state": {
            "_view_name": "LayoutView",
            "grid_template_rows": null,
            "right": null,
            "justify_content": null,
            "_view_module": "@jupyter-widgets/base",
            "overflow": null,
            "_model_module_version": "1.2.0",
            "_view_count": null,
            "flex_flow": null,
            "width": null,
            "min_width": null,
            "border": null,
            "align_items": null,
            "bottom": null,
            "_model_module": "@jupyter-widgets/base",
            "top": null,
            "grid_column": null,
            "overflow_y": null,
            "overflow_x": null,
            "grid_auto_flow": null,
            "grid_area": null,
            "grid_template_columns": null,
            "flex": null,
            "_model_name": "LayoutModel",
            "justify_items": null,
            "grid_row": null,
            "max_height": null,
            "align_content": null,
            "visibility": null,
            "align_self": null,
            "height": null,
            "min_height": null,
            "padding": null,
            "grid_auto_rows": null,
            "grid_gap": null,
            "max_width": null,
            "order": null,
            "_view_module_version": "1.2.0",
            "grid_template_areas": null,
            "object_position": null,
            "object_fit": null,
            "grid_auto_columns": null,
            "margin": null,
            "display": null,
            "left": null
          }
        },
        "3d1a3d6c0fc14197bc5c9d9c7545430c": {
          "model_module": "@jupyter-widgets/controls",
          "model_name": "HTMLModel",
          "model_module_version": "1.5.0",
          "state": {
            "_view_name": "HTMLView",
            "style": "IPY_MODEL_ffbd92e92760490ba933b49ed916c994",
            "_dom_classes": [],
            "description": "",
            "_model_name": "HTMLModel",
            "placeholder": "​",
            "_view_module": "@jupyter-widgets/controls",
            "_model_module_version": "1.5.0",
            "value": "",
            "_view_count": null,
            "_view_module_version": "1.5.0",
            "description_tooltip": null,
            "_model_module": "@jupyter-widgets/controls",
            "layout": "IPY_MODEL_b4d9f6e7e4b940b69da792c08d2bed62"
          }
        },
        "5147ce78d3574755bbbbad148a7fea3e": {
          "model_module": "@jupyter-widgets/controls",
          "model_name": "FloatProgressModel",
          "model_module_version": "1.5.0",
          "state": {
            "_view_name": "ProgressView",
            "style": "IPY_MODEL_d2fecfc3fe424765b5758fc4d9d965b6",
            "_dom_classes": [],
            "description": "",
            "_model_name": "FloatProgressModel",
            "bar_style": "success",
            "max": 28881,
            "_view_module": "@jupyter-widgets/controls",
            "_model_module_version": "1.5.0",
            "value": 28881,
            "_view_count": null,
            "_view_module_version": "1.5.0",
            "orientation": "horizontal",
            "min": 0,
            "description_tooltip": null,
            "_model_module": "@jupyter-widgets/controls",
            "layout": "IPY_MODEL_9a5adeb615964cba9fb513ee49f2eb7c"
          }
        },
        "45e36cfa984d48488c3fe97bb3b47c79": {
          "model_module": "@jupyter-widgets/controls",
          "model_name": "HTMLModel",
          "model_module_version": "1.5.0",
          "state": {
            "_view_name": "HTMLView",
            "style": "IPY_MODEL_acb7e353300f414db35da2998fb1f8a1",
            "_dom_classes": [],
            "description": "",
            "_model_name": "HTMLModel",
            "placeholder": "​",
            "_view_module": "@jupyter-widgets/controls",
            "_model_module_version": "1.5.0",
            "value": " 29696/? [00:00&lt;00:00, 815405.80it/s]",
            "_view_count": null,
            "_view_module_version": "1.5.0",
            "description_tooltip": null,
            "_model_module": "@jupyter-widgets/controls",
            "layout": "IPY_MODEL_4dcd9b3dd4ef4be3b2acaecadf2b3a93"
          }
        },
        "ffbd92e92760490ba933b49ed916c994": {
          "model_module": "@jupyter-widgets/controls",
          "model_name": "DescriptionStyleModel",
          "model_module_version": "1.5.0",
          "state": {
            "_view_name": "StyleView",
            "_model_name": "DescriptionStyleModel",
            "description_width": "",
            "_view_module": "@jupyter-widgets/base",
            "_model_module_version": "1.5.0",
            "_view_count": null,
            "_view_module_version": "1.2.0",
            "_model_module": "@jupyter-widgets/controls"
          }
        },
        "b4d9f6e7e4b940b69da792c08d2bed62": {
          "model_module": "@jupyter-widgets/base",
          "model_name": "LayoutModel",
          "model_module_version": "1.2.0",
          "state": {
            "_view_name": "LayoutView",
            "grid_template_rows": null,
            "right": null,
            "justify_content": null,
            "_view_module": "@jupyter-widgets/base",
            "overflow": null,
            "_model_module_version": "1.2.0",
            "_view_count": null,
            "flex_flow": null,
            "width": null,
            "min_width": null,
            "border": null,
            "align_items": null,
            "bottom": null,
            "_model_module": "@jupyter-widgets/base",
            "top": null,
            "grid_column": null,
            "overflow_y": null,
            "overflow_x": null,
            "grid_auto_flow": null,
            "grid_area": null,
            "grid_template_columns": null,
            "flex": null,
            "_model_name": "LayoutModel",
            "justify_items": null,
            "grid_row": null,
            "max_height": null,
            "align_content": null,
            "visibility": null,
            "align_self": null,
            "height": null,
            "min_height": null,
            "padding": null,
            "grid_auto_rows": null,
            "grid_gap": null,
            "max_width": null,
            "order": null,
            "_view_module_version": "1.2.0",
            "grid_template_areas": null,
            "object_position": null,
            "object_fit": null,
            "grid_auto_columns": null,
            "margin": null,
            "display": null,
            "left": null
          }
        },
        "d2fecfc3fe424765b5758fc4d9d965b6": {
          "model_module": "@jupyter-widgets/controls",
          "model_name": "ProgressStyleModel",
          "model_module_version": "1.5.0",
          "state": {
            "_view_name": "StyleView",
            "_model_name": "ProgressStyleModel",
            "description_width": "",
            "_view_module": "@jupyter-widgets/base",
            "_model_module_version": "1.5.0",
            "_view_count": null,
            "_view_module_version": "1.2.0",
            "bar_color": null,
            "_model_module": "@jupyter-widgets/controls"
          }
        },
        "9a5adeb615964cba9fb513ee49f2eb7c": {
          "model_module": "@jupyter-widgets/base",
          "model_name": "LayoutModel",
          "model_module_version": "1.2.0",
          "state": {
            "_view_name": "LayoutView",
            "grid_template_rows": null,
            "right": null,
            "justify_content": null,
            "_view_module": "@jupyter-widgets/base",
            "overflow": null,
            "_model_module_version": "1.2.0",
            "_view_count": null,
            "flex_flow": null,
            "width": null,
            "min_width": null,
            "border": null,
            "align_items": null,
            "bottom": null,
            "_model_module": "@jupyter-widgets/base",
            "top": null,
            "grid_column": null,
            "overflow_y": null,
            "overflow_x": null,
            "grid_auto_flow": null,
            "grid_area": null,
            "grid_template_columns": null,
            "flex": null,
            "_model_name": "LayoutModel",
            "justify_items": null,
            "grid_row": null,
            "max_height": null,
            "align_content": null,
            "visibility": null,
            "align_self": null,
            "height": null,
            "min_height": null,
            "padding": null,
            "grid_auto_rows": null,
            "grid_gap": null,
            "max_width": null,
            "order": null,
            "_view_module_version": "1.2.0",
            "grid_template_areas": null,
            "object_position": null,
            "object_fit": null,
            "grid_auto_columns": null,
            "margin": null,
            "display": null,
            "left": null
          }
        },
        "acb7e353300f414db35da2998fb1f8a1": {
          "model_module": "@jupyter-widgets/controls",
          "model_name": "DescriptionStyleModel",
          "model_module_version": "1.5.0",
          "state": {
            "_view_name": "StyleView",
            "_model_name": "DescriptionStyleModel",
            "description_width": "",
            "_view_module": "@jupyter-widgets/base",
            "_model_module_version": "1.5.0",
            "_view_count": null,
            "_view_module_version": "1.2.0",
            "_model_module": "@jupyter-widgets/controls"
          }
        },
        "4dcd9b3dd4ef4be3b2acaecadf2b3a93": {
          "model_module": "@jupyter-widgets/base",
          "model_name": "LayoutModel",
          "model_module_version": "1.2.0",
          "state": {
            "_view_name": "LayoutView",
            "grid_template_rows": null,
            "right": null,
            "justify_content": null,
            "_view_module": "@jupyter-widgets/base",
            "overflow": null,
            "_model_module_version": "1.2.0",
            "_view_count": null,
            "flex_flow": null,
            "width": null,
            "min_width": null,
            "border": null,
            "align_items": null,
            "bottom": null,
            "_model_module": "@jupyter-widgets/base",
            "top": null,
            "grid_column": null,
            "overflow_y": null,
            "overflow_x": null,
            "grid_auto_flow": null,
            "grid_area": null,
            "grid_template_columns": null,
            "flex": null,
            "_model_name": "LayoutModel",
            "justify_items": null,
            "grid_row": null,
            "max_height": null,
            "align_content": null,
            "visibility": null,
            "align_self": null,
            "height": null,
            "min_height": null,
            "padding": null,
            "grid_auto_rows": null,
            "grid_gap": null,
            "max_width": null,
            "order": null,
            "_view_module_version": "1.2.0",
            "grid_template_areas": null,
            "object_position": null,
            "object_fit": null,
            "grid_auto_columns": null,
            "margin": null,
            "display": null,
            "left": null
          }
        },
        "ce2222b4a0b7430f9774d9db02a87b98": {
          "model_module": "@jupyter-widgets/controls",
          "model_name": "HBoxModel",
          "model_module_version": "1.5.0",
          "state": {
            "_view_name": "HBoxView",
            "_dom_classes": [],
            "_model_name": "HBoxModel",
            "_view_module": "@jupyter-widgets/controls",
            "_model_module_version": "1.5.0",
            "_view_count": null,
            "_view_module_version": "1.5.0",
            "box_style": "",
            "layout": "IPY_MODEL_0f67f0e0ecf847bb835406cc9b5303e1",
            "_model_module": "@jupyter-widgets/controls",
            "children": [
              "IPY_MODEL_2066f43bc9d44503a69aae8826231831",
              "IPY_MODEL_d7427b0a079a4eaea61fcb7baba9147e",
              "IPY_MODEL_f91054aa45b24b309f8fb79e539f7699"
            ]
          }
        },
        "0f67f0e0ecf847bb835406cc9b5303e1": {
          "model_module": "@jupyter-widgets/base",
          "model_name": "LayoutModel",
          "model_module_version": "1.2.0",
          "state": {
            "_view_name": "LayoutView",
            "grid_template_rows": null,
            "right": null,
            "justify_content": null,
            "_view_module": "@jupyter-widgets/base",
            "overflow": null,
            "_model_module_version": "1.2.0",
            "_view_count": null,
            "flex_flow": null,
            "width": null,
            "min_width": null,
            "border": null,
            "align_items": null,
            "bottom": null,
            "_model_module": "@jupyter-widgets/base",
            "top": null,
            "grid_column": null,
            "overflow_y": null,
            "overflow_x": null,
            "grid_auto_flow": null,
            "grid_area": null,
            "grid_template_columns": null,
            "flex": null,
            "_model_name": "LayoutModel",
            "justify_items": null,
            "grid_row": null,
            "max_height": null,
            "align_content": null,
            "visibility": null,
            "align_self": null,
            "height": null,
            "min_height": null,
            "padding": null,
            "grid_auto_rows": null,
            "grid_gap": null,
            "max_width": null,
            "order": null,
            "_view_module_version": "1.2.0",
            "grid_template_areas": null,
            "object_position": null,
            "object_fit": null,
            "grid_auto_columns": null,
            "margin": null,
            "display": null,
            "left": null
          }
        },
        "2066f43bc9d44503a69aae8826231831": {
          "model_module": "@jupyter-widgets/controls",
          "model_name": "HTMLModel",
          "model_module_version": "1.5.0",
          "state": {
            "_view_name": "HTMLView",
            "style": "IPY_MODEL_b23c43f7fe4846efa32623f70354e243",
            "_dom_classes": [],
            "description": "",
            "_model_name": "HTMLModel",
            "placeholder": "​",
            "_view_module": "@jupyter-widgets/controls",
            "_model_module_version": "1.5.0",
            "value": "",
            "_view_count": null,
            "_view_module_version": "1.5.0",
            "description_tooltip": null,
            "_model_module": "@jupyter-widgets/controls",
            "layout": "IPY_MODEL_37eab09ce8c642d280e6d6c8b0dce3d8"
          }
        },
        "d7427b0a079a4eaea61fcb7baba9147e": {
          "model_module": "@jupyter-widgets/controls",
          "model_name": "FloatProgressModel",
          "model_module_version": "1.5.0",
          "state": {
            "_view_name": "ProgressView",
            "style": "IPY_MODEL_03eafb3d46784baf854879a3b71b7bbb",
            "_dom_classes": [],
            "description": "",
            "_model_name": "FloatProgressModel",
            "bar_style": "success",
            "max": 1648877,
            "_view_module": "@jupyter-widgets/controls",
            "_model_module_version": "1.5.0",
            "value": 1648877,
            "_view_count": null,
            "_view_module_version": "1.5.0",
            "orientation": "horizontal",
            "min": 0,
            "description_tooltip": null,
            "_model_module": "@jupyter-widgets/controls",
            "layout": "IPY_MODEL_40d176873d0f46758cbc3b9448e129cd"
          }
        },
        "f91054aa45b24b309f8fb79e539f7699": {
          "model_module": "@jupyter-widgets/controls",
          "model_name": "HTMLModel",
          "model_module_version": "1.5.0",
          "state": {
            "_view_name": "HTMLView",
            "style": "IPY_MODEL_ba3ace1f5538480386cfee917bbec1bd",
            "_dom_classes": [],
            "description": "",
            "_model_name": "HTMLModel",
            "placeholder": "​",
            "_view_module": "@jupyter-widgets/controls",
            "_model_module_version": "1.5.0",
            "value": " 1649664/? [00:00&lt;00:00, 26179015.42it/s]",
            "_view_count": null,
            "_view_module_version": "1.5.0",
            "description_tooltip": null,
            "_model_module": "@jupyter-widgets/controls",
            "layout": "IPY_MODEL_a6b8efce58f94687a9174ea347c54e64"
          }
        },
        "b23c43f7fe4846efa32623f70354e243": {
          "model_module": "@jupyter-widgets/controls",
          "model_name": "DescriptionStyleModel",
          "model_module_version": "1.5.0",
          "state": {
            "_view_name": "StyleView",
            "_model_name": "DescriptionStyleModel",
            "description_width": "",
            "_view_module": "@jupyter-widgets/base",
            "_model_module_version": "1.5.0",
            "_view_count": null,
            "_view_module_version": "1.2.0",
            "_model_module": "@jupyter-widgets/controls"
          }
        },
        "37eab09ce8c642d280e6d6c8b0dce3d8": {
          "model_module": "@jupyter-widgets/base",
          "model_name": "LayoutModel",
          "model_module_version": "1.2.0",
          "state": {
            "_view_name": "LayoutView",
            "grid_template_rows": null,
            "right": null,
            "justify_content": null,
            "_view_module": "@jupyter-widgets/base",
            "overflow": null,
            "_model_module_version": "1.2.0",
            "_view_count": null,
            "flex_flow": null,
            "width": null,
            "min_width": null,
            "border": null,
            "align_items": null,
            "bottom": null,
            "_model_module": "@jupyter-widgets/base",
            "top": null,
            "grid_column": null,
            "overflow_y": null,
            "overflow_x": null,
            "grid_auto_flow": null,
            "grid_area": null,
            "grid_template_columns": null,
            "flex": null,
            "_model_name": "LayoutModel",
            "justify_items": null,
            "grid_row": null,
            "max_height": null,
            "align_content": null,
            "visibility": null,
            "align_self": null,
            "height": null,
            "min_height": null,
            "padding": null,
            "grid_auto_rows": null,
            "grid_gap": null,
            "max_width": null,
            "order": null,
            "_view_module_version": "1.2.0",
            "grid_template_areas": null,
            "object_position": null,
            "object_fit": null,
            "grid_auto_columns": null,
            "margin": null,
            "display": null,
            "left": null
          }
        },
        "03eafb3d46784baf854879a3b71b7bbb": {
          "model_module": "@jupyter-widgets/controls",
          "model_name": "ProgressStyleModel",
          "model_module_version": "1.5.0",
          "state": {
            "_view_name": "StyleView",
            "_model_name": "ProgressStyleModel",
            "description_width": "",
            "_view_module": "@jupyter-widgets/base",
            "_model_module_version": "1.5.0",
            "_view_count": null,
            "_view_module_version": "1.2.0",
            "bar_color": null,
            "_model_module": "@jupyter-widgets/controls"
          }
        },
        "40d176873d0f46758cbc3b9448e129cd": {
          "model_module": "@jupyter-widgets/base",
          "model_name": "LayoutModel",
          "model_module_version": "1.2.0",
          "state": {
            "_view_name": "LayoutView",
            "grid_template_rows": null,
            "right": null,
            "justify_content": null,
            "_view_module": "@jupyter-widgets/base",
            "overflow": null,
            "_model_module_version": "1.2.0",
            "_view_count": null,
            "flex_flow": null,
            "width": null,
            "min_width": null,
            "border": null,
            "align_items": null,
            "bottom": null,
            "_model_module": "@jupyter-widgets/base",
            "top": null,
            "grid_column": null,
            "overflow_y": null,
            "overflow_x": null,
            "grid_auto_flow": null,
            "grid_area": null,
            "grid_template_columns": null,
            "flex": null,
            "_model_name": "LayoutModel",
            "justify_items": null,
            "grid_row": null,
            "max_height": null,
            "align_content": null,
            "visibility": null,
            "align_self": null,
            "height": null,
            "min_height": null,
            "padding": null,
            "grid_auto_rows": null,
            "grid_gap": null,
            "max_width": null,
            "order": null,
            "_view_module_version": "1.2.0",
            "grid_template_areas": null,
            "object_position": null,
            "object_fit": null,
            "grid_auto_columns": null,
            "margin": null,
            "display": null,
            "left": null
          }
        },
        "ba3ace1f5538480386cfee917bbec1bd": {
          "model_module": "@jupyter-widgets/controls",
          "model_name": "DescriptionStyleModel",
          "model_module_version": "1.5.0",
          "state": {
            "_view_name": "StyleView",
            "_model_name": "DescriptionStyleModel",
            "description_width": "",
            "_view_module": "@jupyter-widgets/base",
            "_model_module_version": "1.5.0",
            "_view_count": null,
            "_view_module_version": "1.2.0",
            "_model_module": "@jupyter-widgets/controls"
          }
        },
        "a6b8efce58f94687a9174ea347c54e64": {
          "model_module": "@jupyter-widgets/base",
          "model_name": "LayoutModel",
          "model_module_version": "1.2.0",
          "state": {
            "_view_name": "LayoutView",
            "grid_template_rows": null,
            "right": null,
            "justify_content": null,
            "_view_module": "@jupyter-widgets/base",
            "overflow": null,
            "_model_module_version": "1.2.0",
            "_view_count": null,
            "flex_flow": null,
            "width": null,
            "min_width": null,
            "border": null,
            "align_items": null,
            "bottom": null,
            "_model_module": "@jupyter-widgets/base",
            "top": null,
            "grid_column": null,
            "overflow_y": null,
            "overflow_x": null,
            "grid_auto_flow": null,
            "grid_area": null,
            "grid_template_columns": null,
            "flex": null,
            "_model_name": "LayoutModel",
            "justify_items": null,
            "grid_row": null,
            "max_height": null,
            "align_content": null,
            "visibility": null,
            "align_self": null,
            "height": null,
            "min_height": null,
            "padding": null,
            "grid_auto_rows": null,
            "grid_gap": null,
            "max_width": null,
            "order": null,
            "_view_module_version": "1.2.0",
            "grid_template_areas": null,
            "object_position": null,
            "object_fit": null,
            "grid_auto_columns": null,
            "margin": null,
            "display": null,
            "left": null
          }
        },
        "ea913de78a46468dbf473e83fccda67d": {
          "model_module": "@jupyter-widgets/controls",
          "model_name": "HBoxModel",
          "model_module_version": "1.5.0",
          "state": {
            "_view_name": "HBoxView",
            "_dom_classes": [],
            "_model_name": "HBoxModel",
            "_view_module": "@jupyter-widgets/controls",
            "_model_module_version": "1.5.0",
            "_view_count": null,
            "_view_module_version": "1.5.0",
            "box_style": "",
            "layout": "IPY_MODEL_1a3273bf1b67482489befab41452f72c",
            "_model_module": "@jupyter-widgets/controls",
            "children": [
              "IPY_MODEL_f361c72e0e964146a6f1fa0e37e061ea",
              "IPY_MODEL_cdb28c795c3441809e18ad205d79e3cc",
              "IPY_MODEL_674b975b7944448abb0cc75718868e38"
            ]
          }
        },
        "1a3273bf1b67482489befab41452f72c": {
          "model_module": "@jupyter-widgets/base",
          "model_name": "LayoutModel",
          "model_module_version": "1.2.0",
          "state": {
            "_view_name": "LayoutView",
            "grid_template_rows": null,
            "right": null,
            "justify_content": null,
            "_view_module": "@jupyter-widgets/base",
            "overflow": null,
            "_model_module_version": "1.2.0",
            "_view_count": null,
            "flex_flow": null,
            "width": null,
            "min_width": null,
            "border": null,
            "align_items": null,
            "bottom": null,
            "_model_module": "@jupyter-widgets/base",
            "top": null,
            "grid_column": null,
            "overflow_y": null,
            "overflow_x": null,
            "grid_auto_flow": null,
            "grid_area": null,
            "grid_template_columns": null,
            "flex": null,
            "_model_name": "LayoutModel",
            "justify_items": null,
            "grid_row": null,
            "max_height": null,
            "align_content": null,
            "visibility": null,
            "align_self": null,
            "height": null,
            "min_height": null,
            "padding": null,
            "grid_auto_rows": null,
            "grid_gap": null,
            "max_width": null,
            "order": null,
            "_view_module_version": "1.2.0",
            "grid_template_areas": null,
            "object_position": null,
            "object_fit": null,
            "grid_auto_columns": null,
            "margin": null,
            "display": null,
            "left": null
          }
        },
        "f361c72e0e964146a6f1fa0e37e061ea": {
          "model_module": "@jupyter-widgets/controls",
          "model_name": "HTMLModel",
          "model_module_version": "1.5.0",
          "state": {
            "_view_name": "HTMLView",
            "style": "IPY_MODEL_3ebac2b5f10e45d1a9a517935f1d4366",
            "_dom_classes": [],
            "description": "",
            "_model_name": "HTMLModel",
            "placeholder": "​",
            "_view_module": "@jupyter-widgets/controls",
            "_model_module_version": "1.5.0",
            "value": "",
            "_view_count": null,
            "_view_module_version": "1.5.0",
            "description_tooltip": null,
            "_model_module": "@jupyter-widgets/controls",
            "layout": "IPY_MODEL_3c4b219a8f2f45a8890f83bea863d877"
          }
        },
        "cdb28c795c3441809e18ad205d79e3cc": {
          "model_module": "@jupyter-widgets/controls",
          "model_name": "FloatProgressModel",
          "model_module_version": "1.5.0",
          "state": {
            "_view_name": "ProgressView",
            "style": "IPY_MODEL_c21a6045c2c944e19587c650a0259f3e",
            "_dom_classes": [],
            "description": "",
            "_model_name": "FloatProgressModel",
            "bar_style": "success",
            "max": 4542,
            "_view_module": "@jupyter-widgets/controls",
            "_model_module_version": "1.5.0",
            "value": 4542,
            "_view_count": null,
            "_view_module_version": "1.5.0",
            "orientation": "horizontal",
            "min": 0,
            "description_tooltip": null,
            "_model_module": "@jupyter-widgets/controls",
            "layout": "IPY_MODEL_f591bdc22d1a4ff0b198499d493f5501"
          }
        },
        "674b975b7944448abb0cc75718868e38": {
          "model_module": "@jupyter-widgets/controls",
          "model_name": "HTMLModel",
          "model_module_version": "1.5.0",
          "state": {
            "_view_name": "HTMLView",
            "style": "IPY_MODEL_29bea219d3e04d1e805d13d5cf2756f8",
            "_dom_classes": [],
            "description": "",
            "_model_name": "HTMLModel",
            "placeholder": "​",
            "_view_module": "@jupyter-widgets/controls",
            "_model_module_version": "1.5.0",
            "value": " 5120/? [00:00&lt;00:00, 107932.73it/s]",
            "_view_count": null,
            "_view_module_version": "1.5.0",
            "description_tooltip": null,
            "_model_module": "@jupyter-widgets/controls",
            "layout": "IPY_MODEL_23990abe56be4acaba09a67e4e59c9b9"
          }
        },
        "3ebac2b5f10e45d1a9a517935f1d4366": {
          "model_module": "@jupyter-widgets/controls",
          "model_name": "DescriptionStyleModel",
          "model_module_version": "1.5.0",
          "state": {
            "_view_name": "StyleView",
            "_model_name": "DescriptionStyleModel",
            "description_width": "",
            "_view_module": "@jupyter-widgets/base",
            "_model_module_version": "1.5.0",
            "_view_count": null,
            "_view_module_version": "1.2.0",
            "_model_module": "@jupyter-widgets/controls"
          }
        },
        "3c4b219a8f2f45a8890f83bea863d877": {
          "model_module": "@jupyter-widgets/base",
          "model_name": "LayoutModel",
          "model_module_version": "1.2.0",
          "state": {
            "_view_name": "LayoutView",
            "grid_template_rows": null,
            "right": null,
            "justify_content": null,
            "_view_module": "@jupyter-widgets/base",
            "overflow": null,
            "_model_module_version": "1.2.0",
            "_view_count": null,
            "flex_flow": null,
            "width": null,
            "min_width": null,
            "border": null,
            "align_items": null,
            "bottom": null,
            "_model_module": "@jupyter-widgets/base",
            "top": null,
            "grid_column": null,
            "overflow_y": null,
            "overflow_x": null,
            "grid_auto_flow": null,
            "grid_area": null,
            "grid_template_columns": null,
            "flex": null,
            "_model_name": "LayoutModel",
            "justify_items": null,
            "grid_row": null,
            "max_height": null,
            "align_content": null,
            "visibility": null,
            "align_self": null,
            "height": null,
            "min_height": null,
            "padding": null,
            "grid_auto_rows": null,
            "grid_gap": null,
            "max_width": null,
            "order": null,
            "_view_module_version": "1.2.0",
            "grid_template_areas": null,
            "object_position": null,
            "object_fit": null,
            "grid_auto_columns": null,
            "margin": null,
            "display": null,
            "left": null
          }
        },
        "c21a6045c2c944e19587c650a0259f3e": {
          "model_module": "@jupyter-widgets/controls",
          "model_name": "ProgressStyleModel",
          "model_module_version": "1.5.0",
          "state": {
            "_view_name": "StyleView",
            "_model_name": "ProgressStyleModel",
            "description_width": "",
            "_view_module": "@jupyter-widgets/base",
            "_model_module_version": "1.5.0",
            "_view_count": null,
            "_view_module_version": "1.2.0",
            "bar_color": null,
            "_model_module": "@jupyter-widgets/controls"
          }
        },
        "f591bdc22d1a4ff0b198499d493f5501": {
          "model_module": "@jupyter-widgets/base",
          "model_name": "LayoutModel",
          "model_module_version": "1.2.0",
          "state": {
            "_view_name": "LayoutView",
            "grid_template_rows": null,
            "right": null,
            "justify_content": null,
            "_view_module": "@jupyter-widgets/base",
            "overflow": null,
            "_model_module_version": "1.2.0",
            "_view_count": null,
            "flex_flow": null,
            "width": null,
            "min_width": null,
            "border": null,
            "align_items": null,
            "bottom": null,
            "_model_module": "@jupyter-widgets/base",
            "top": null,
            "grid_column": null,
            "overflow_y": null,
            "overflow_x": null,
            "grid_auto_flow": null,
            "grid_area": null,
            "grid_template_columns": null,
            "flex": null,
            "_model_name": "LayoutModel",
            "justify_items": null,
            "grid_row": null,
            "max_height": null,
            "align_content": null,
            "visibility": null,
            "align_self": null,
            "height": null,
            "min_height": null,
            "padding": null,
            "grid_auto_rows": null,
            "grid_gap": null,
            "max_width": null,
            "order": null,
            "_view_module_version": "1.2.0",
            "grid_template_areas": null,
            "object_position": null,
            "object_fit": null,
            "grid_auto_columns": null,
            "margin": null,
            "display": null,
            "left": null
          }
        },
        "29bea219d3e04d1e805d13d5cf2756f8": {
          "model_module": "@jupyter-widgets/controls",
          "model_name": "DescriptionStyleModel",
          "model_module_version": "1.5.0",
          "state": {
            "_view_name": "StyleView",
            "_model_name": "DescriptionStyleModel",
            "description_width": "",
            "_view_module": "@jupyter-widgets/base",
            "_model_module_version": "1.5.0",
            "_view_count": null,
            "_view_module_version": "1.2.0",
            "_model_module": "@jupyter-widgets/controls"
          }
        },
        "23990abe56be4acaba09a67e4e59c9b9": {
          "model_module": "@jupyter-widgets/base",
          "model_name": "LayoutModel",
          "model_module_version": "1.2.0",
          "state": {
            "_view_name": "LayoutView",
            "grid_template_rows": null,
            "right": null,
            "justify_content": null,
            "_view_module": "@jupyter-widgets/base",
            "overflow": null,
            "_model_module_version": "1.2.0",
            "_view_count": null,
            "flex_flow": null,
            "width": null,
            "min_width": null,
            "border": null,
            "align_items": null,
            "bottom": null,
            "_model_module": "@jupyter-widgets/base",
            "top": null,
            "grid_column": null,
            "overflow_y": null,
            "overflow_x": null,
            "grid_auto_flow": null,
            "grid_area": null,
            "grid_template_columns": null,
            "flex": null,
            "_model_name": "LayoutModel",
            "justify_items": null,
            "grid_row": null,
            "max_height": null,
            "align_content": null,
            "visibility": null,
            "align_self": null,
            "height": null,
            "min_height": null,
            "padding": null,
            "grid_auto_rows": null,
            "grid_gap": null,
            "max_width": null,
            "order": null,
            "_view_module_version": "1.2.0",
            "grid_template_areas": null,
            "object_position": null,
            "object_fit": null,
            "grid_auto_columns": null,
            "margin": null,
            "display": null,
            "left": null
          }
        }
      }
    }
  },
  "nbformat": 4,
  "nbformat_minor": 5
}