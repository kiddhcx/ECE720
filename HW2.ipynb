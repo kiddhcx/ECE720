{
  "cells": [
    {
      "cell_type": "markdown",
      "metadata": {
        "id": "view-in-github",
        "colab_type": "text"
      },
      "source": [
        "<a href=\"https://colab.research.google.com/github/kiddhcx/ECE720/blob/main/HW2.ipynb\" target=\"_parent\"><img src=\"https://colab.research.google.com/assets/colab-badge.svg\" alt=\"Open In Colab\"/></a>"
      ]
    },
    {
      "cell_type": "markdown",
      "id": "b5a8ad2e",
      "metadata": {
        "id": "b5a8ad2e"
      },
      "source": [
        "# ECE 720 Assignment Hands-on Project 2"
      ]
    },
    {
      "cell_type": "markdown",
      "id": "90d5331d",
      "metadata": {
        "id": "90d5331d"
      },
      "source": [
        "In this assignment, we will explore how to test a DL model.\n",
        "\n",
        "Before working on the assignment, it is highly recommended to read two papers: [DeepGauge: Multi-Granularity Testing Criteria for Deep Learning Systems](https://arxiv.org/pdf/1803.07519.pdf) and [DeepHunter: A Coverage-Guided Fuzz Testing Framework for Deep Neural Networks](https://dl.acm.org/doi/pdf/10.1145/3293882.3330579?casa_token=mGUOGHi9qrcAAAAA:G28BWlY6XueMERjYHKWyW7w5jfGQrzF3fyml6ThPX0Rq8yUE4NYTz28s83fllXvaRItcpflNbBtdEYs). Our materials will be highly relevant to these two papers.\n"
      ]
    },
    {
      "cell_type": "code",
      "execution_count": null,
      "id": "uyXTIyYSZ7Mh",
      "metadata": {
        "colab": {
          "base_uri": "https://localhost:8080/"
        },
        "id": "uyXTIyYSZ7Mh",
        "outputId": "4b4aaf10-ba9c-4d10-8787-e9ac56b7ac8c"
      },
      "outputs": [
        {
          "output_type": "stream",
          "name": "stdout",
          "text": [
            "--2022-03-02 21:37:38--  https://github.com/momentum-openspace/momentum-openspace.github.io/raw/new-template/files/asg2/asg2.zip\n",
            "Resolving github.com (github.com)... 52.192.72.89\n",
            "Connecting to github.com (github.com)|52.192.72.89|:443... connected.\n",
            "HTTP request sent, awaiting response... 302 Found\n",
            "Location: https://raw.githubusercontent.com/momentum-openspace/momentum-openspace.github.io/new-template/files/asg2/asg2.zip [following]\n",
            "--2022-03-02 21:37:39--  https://raw.githubusercontent.com/momentum-openspace/momentum-openspace.github.io/new-template/files/asg2/asg2.zip\n",
            "Resolving raw.githubusercontent.com (raw.githubusercontent.com)... 185.199.108.133, 185.199.109.133, 185.199.110.133, ...\n",
            "Connecting to raw.githubusercontent.com (raw.githubusercontent.com)|185.199.108.133|:443... connected.\n",
            "HTTP request sent, awaiting response... 200 OK\n",
            "Length: 770861 (753K) [application/zip]\n",
            "Saving to: ‘asg2.zip’\n",
            "\n",
            "asg2.zip            100%[===================>] 752.79K  --.-KB/s    in 0.05s   \n",
            "\n",
            "2022-03-02 21:37:39 (13.4 MB/s) - ‘asg2.zip’ saved [770861/770861]\n",
            "\n",
            "Archive:  asg2.zip\n",
            "  inflating: all_utils.cpython-37.pyc  \n",
            "  inflating: __MACOSX/._all_utils.cpython-37.pyc  \n",
            "  inflating: all_utils.cpython-38.pyc  \n",
            "  inflating: __MACOSX/._all_utils.cpython-38.pyc  \n",
            "  inflating: all_utils.cpython-39.pyc  \n",
            "  inflating: __MACOSX/._all_utils.cpython-39.pyc  \n",
            "  inflating: lenet.pt                \n",
            "   creating: pic/\n",
            "  inflating: pic/Intro.png           \n",
            "  inflating: pic/traditional.png     \n",
            "  inflating: pic/alg_2.png           \n",
            "  inflating: pic/alg_1.png           \n",
            "  inflating: pic/lenet_vis.png       \n",
            "  inflating: pic/AI.png              \n",
            "  inflating: train_idx.pt            \n"
          ]
        }
      ],
      "source": [
        "! wget https://github.com/momentum-openspace/momentum-openspace.github.io/raw/new-template/files/asg2/asg2.zip\n",
        "! unzip asg2.zip"
      ]
    },
    {
      "cell_type": "code",
      "execution_count": null,
      "id": "DtTjWTr62YZS",
      "metadata": {
        "id": "DtTjWTr62YZS",
        "scrolled": true
      },
      "outputs": [],
      "source": [
        "import imp\n",
        "import platform\n",
        "\n",
        "py_version = platform.python_version().split('.')[1]\n",
        "if py_version == '7':\n",
        "    all_utils = imp.load_compiled(\"all_utils\", \"./all_utils.cpython-37.pyc\")\n",
        "elif py_version == '8':\n",
        "    all_utils = imp.load_compiled(\"all_utils\", \"./all_utils.cpython-38.pyc\")\n",
        "elif py_version == '9':\n",
        "    all_utils = imp.load_compiled(\"all_utils\", \"./all_utils.cpython-39.pyc\")\n",
        "else:\n",
        "    raise NotImplementedError('Only supports Python>=3.7')"
      ]
    },
    {
      "cell_type": "markdown",
      "id": "01af4c0a",
      "metadata": {
        "id": "01af4c0a"
      },
      "source": [
        "### Content:\n",
        "\n",
        "1. The difference between traditional software and AI model <font color='red'> (4 points)</font>\n",
        "\n",
        "    - Please summarize the characteristics of traditional software and compare it to AI model (2 points)\n",
        "    - Please summarize the characteristics of AI model and compare it to traditional software (2 points)\n",
        "    \n",
        "    \n",
        "2. Quality assurance of DL models <font color='red'> (13 points)</font>\n",
        "\n",
        "    2.1 Testing metric <font color='red'> (7 points)</font>\n",
        "    \n",
        "    - Profile the DNN on training data (3 points)\n",
        "    - Implement Neuron Boundary Coverage (4 points)\n",
        "    \n",
        "    2.2 Mutation <font color='red'> (6 points)</font>\n",
        "\n",
        "    - Answer the question (2 points)\n",
        "    - Complete Algorithm2 (4 points)\n",
        "\n",
        "3. Experiments <font color='red'> (3 points)</font>\n",
        "    \n",
        "    - Conduct experiments on mutation testing.\n"
      ]
    },
    {
      "cell_type": "markdown",
      "id": "d7863c4e",
      "metadata": {
        "id": "d7863c4e"
      },
      "source": [
        "## 1. The difference between traditional software and AI model <font color='red' size=5> (4 points)</font>"
      ]
    },
    {
      "cell_type": "markdown",
      "id": "e9140225",
      "metadata": {
        "id": "e9140225"
      },
      "source": [
        "![Intro.png](https://raw.githubusercontent.com/momentum-openspace/momentum-openspace.github.io/new-template/files/asg2/pic/Intro.png)"
      ]
    },
    {
      "cell_type": "markdown",
      "id": "5a61d722",
      "metadata": {
        "id": "5a61d722"
      },
      "source": [
        "<center> Difference between traditional software and AI models (From DeepHunter)</center>"
      ]
    },
    {
      "cell_type": "code",
      "execution_count": null,
      "id": "fc0d5db5",
      "metadata": {
        "id": "fc0d5db5"
      },
      "outputs": [],
      "source": [
        "# Load necessary package for the experiments\n",
        "import torch\n",
        "import torch.nn as nn\n",
        "import torch.nn.functional as F\n",
        "import torch.optim as optim\n",
        "import torch.utils.data as data\n",
        "\n",
        "import torchvision.transforms as transforms\n",
        "import torchvision.datasets as datasets\n",
        "import matplotlib.pyplot as plt\n",
        "import numpy as np\n",
        "\n",
        "def plot_image(image):\n",
        "    fig = plt.figure()\n",
        "    image = np.squeeze(image)\n",
        "    plt.imshow(image, cmap='bone')"
      ]
    },
    {
      "cell_type": "code",
      "execution_count": null,
      "id": "52807591",
      "metadata": {
        "id": "52807591",
        "scrolled": true,
        "colab": {
          "base_uri": "https://localhost:8080/",
          "height": 422,
          "referenced_widgets": [
            "f8d56248120a4a839c6635f3681103a3",
            "de492813fee94011b1a056d7c0752e3f",
            "68b0130b084d4db5a1503d0a86c6a6ec",
            "69c6a989b5524fd59450e0b37dd23224",
            "c9e6f6fba4724405ad9babb876a64cef",
            "8298ff08c59a4b3a997c971033c85fbb",
            "3efc89b2399b4a75b3fbe827e78ed2fd",
            "18234619f9f046e09fff9d837ed06f9b",
            "b8d07692044c4acf95673122c4201051",
            "389cac77f9314976967b608434c77b18",
            "a169f0c04c7e44008039ac175a70c180",
            "ec8c3705c14c4465847420af0f0105ba",
            "ebc36fa0789544788f82c7055622466d",
            "a6ea36742b704ccea67a81d47f7c9a2e",
            "3e53c5fbabcb4698b545a395701f8097",
            "2e1bd124a8404c469572029958c226b0",
            "b54d1ad5c67d4240a311b8f4509af749",
            "e27a941a784a444385674cf068b75d78",
            "a27f679e13994e43b3ec7490e3eece22",
            "340898da1efd417896bc0b09d576effa",
            "fa0b66fe9aeb4a3ba197fc0ebd715b07",
            "a99184c4f17a4415b96f113b17d4d291",
            "1c49c952f9f241d783e76a73d253df8d",
            "329c896bf51647d68172dfd18eab96d1",
            "f4ce7f93c6d04b97ad79a02b82ccea48",
            "fb88660cecb14a759530c412a15b38ef",
            "d02fb1c6641b4784b88b3f2767aa0356",
            "dc4f3f153f5e47188e71ea1d064d5f7a",
            "3d60511f231a439b8f0b08cc149cacf1",
            "fab57bb906174a4db502ece82e0259ed",
            "81ea365842dd4c8cac0ce9032da79212",
            "156b23f4a29d4fa09517d49ffc8d5922",
            "b121fef25c634c6a86f6e398a269c689",
            "11eaed6420b745609b347e076f7f1cb6",
            "0c00981a636f4940961a7ce2678dfacd",
            "31befbe1a731468da5ba6bf6e7152640",
            "49658c203e6942598258eeed4914c672",
            "314b621be6394b8abf47270a071ca6b7",
            "7de4db27d5f447f4a813eaf7def2bd1a",
            "53261a690ca8481cbce3d37438ed8a36",
            "328c043c6b8c4c5780fecd9b12ae7d5a",
            "65ae7566b0a24e7b8b6857ba5134fee1",
            "c5a30a384c644a93a88e322354b86d74",
            "b7e99205f6ac4cd09e4fc3d3ec1a8bf0"
          ]
        },
        "outputId": "02b7157b-3d81-4834-e671-0aa4c9468130"
      },
      "outputs": [
        {
          "output_type": "stream",
          "name": "stdout",
          "text": [
            "Downloading http://yann.lecun.com/exdb/mnist/train-images-idx3-ubyte.gz\n",
            "Downloading http://yann.lecun.com/exdb/mnist/train-images-idx3-ubyte.gz to ./data/MNIST/raw/train-images-idx3-ubyte.gz\n"
          ]
        },
        {
          "output_type": "display_data",
          "data": {
            "application/vnd.jupyter.widget-view+json": {
              "model_id": "f8d56248120a4a839c6635f3681103a3",
              "version_minor": 0,
              "version_major": 2
            },
            "text/plain": [
              "  0%|          | 0/9912422 [00:00<?, ?it/s]"
            ]
          },
          "metadata": {}
        },
        {
          "output_type": "stream",
          "name": "stdout",
          "text": [
            "Extracting ./data/MNIST/raw/train-images-idx3-ubyte.gz to ./data/MNIST/raw\n",
            "\n",
            "Downloading http://yann.lecun.com/exdb/mnist/train-labels-idx1-ubyte.gz\n",
            "Downloading http://yann.lecun.com/exdb/mnist/train-labels-idx1-ubyte.gz to ./data/MNIST/raw/train-labels-idx1-ubyte.gz\n"
          ]
        },
        {
          "output_type": "display_data",
          "data": {
            "application/vnd.jupyter.widget-view+json": {
              "model_id": "ec8c3705c14c4465847420af0f0105ba",
              "version_minor": 0,
              "version_major": 2
            },
            "text/plain": [
              "  0%|          | 0/28881 [00:00<?, ?it/s]"
            ]
          },
          "metadata": {}
        },
        {
          "output_type": "stream",
          "name": "stdout",
          "text": [
            "Extracting ./data/MNIST/raw/train-labels-idx1-ubyte.gz to ./data/MNIST/raw\n",
            "\n",
            "Downloading http://yann.lecun.com/exdb/mnist/t10k-images-idx3-ubyte.gz\n",
            "Downloading http://yann.lecun.com/exdb/mnist/t10k-images-idx3-ubyte.gz to ./data/MNIST/raw/t10k-images-idx3-ubyte.gz\n"
          ]
        },
        {
          "output_type": "display_data",
          "data": {
            "application/vnd.jupyter.widget-view+json": {
              "model_id": "1c49c952f9f241d783e76a73d253df8d",
              "version_minor": 0,
              "version_major": 2
            },
            "text/plain": [
              "  0%|          | 0/1648877 [00:00<?, ?it/s]"
            ]
          },
          "metadata": {}
        },
        {
          "output_type": "stream",
          "name": "stdout",
          "text": [
            "Extracting ./data/MNIST/raw/t10k-images-idx3-ubyte.gz to ./data/MNIST/raw\n",
            "\n",
            "Downloading http://yann.lecun.com/exdb/mnist/t10k-labels-idx1-ubyte.gz\n",
            "Downloading http://yann.lecun.com/exdb/mnist/t10k-labels-idx1-ubyte.gz to ./data/MNIST/raw/t10k-labels-idx1-ubyte.gz\n"
          ]
        },
        {
          "output_type": "display_data",
          "data": {
            "application/vnd.jupyter.widget-view+json": {
              "model_id": "11eaed6420b745609b347e076f7f1cb6",
              "version_minor": 0,
              "version_major": 2
            },
            "text/plain": [
              "  0%|          | 0/4542 [00:00<?, ?it/s]"
            ]
          },
          "metadata": {}
        },
        {
          "output_type": "stream",
          "name": "stdout",
          "text": [
            "Extracting ./data/MNIST/raw/t10k-labels-idx1-ubyte.gz to ./data/MNIST/raw\n",
            "\n"
          ]
        }
      ],
      "source": [
        "# Get ready for MNIST dataset\n",
        "data_path = './data'\n",
        "train_data = datasets.MNIST(root=data_path, train=True, download=True)"
      ]
    },
    {
      "cell_type": "markdown",
      "id": "cefb5c19",
      "metadata": {
        "id": "cefb5c19"
      },
      "source": [
        "### 1.1 Traditional software"
      ]
    },
    {
      "cell_type": "markdown",
      "id": "932cbd9a",
      "metadata": {
        "id": "932cbd9a"
      },
      "source": [
        "Now assume you are a developer who wants to develop a software for recognizing hand-written digit."
      ]
    },
    {
      "cell_type": "code",
      "execution_count": null,
      "id": "32efa840",
      "metadata": {
        "id": "32efa840"
      },
      "outputs": [],
      "source": [
        "# Turn images into numpy array.\n",
        "number_a = np.array(train_data[0][0])\n",
        "number_b = np.array(train_data[600][0])"
      ]
    },
    {
      "cell_type": "code",
      "execution_count": null,
      "id": "1331717d",
      "metadata": {
        "colab": {
          "base_uri": "https://localhost:8080/",
          "height": 232
        },
        "id": "1331717d",
        "outputId": "359d51a6-b25d-47c2-decb-d3c28047a025"
      },
      "outputs": [
        {
          "output_type": "execute_result",
          "data": {
            "text/plain": [
              "Text(0.5, 0, 'Image b')"
            ]
          },
          "metadata": {},
          "execution_count": 6
        },
        {
          "output_type": "display_data",
          "data": {
            "image/png": "[encoded data removed]",
            "text/plain": [
              "<Figure size 432x288 with 2 Axes>"
            ]
          },
          "metadata": {
            "needs_background": "light"
          }
        }
      ],
      "source": [
        "# Visualize two examples.\n",
        "fig = plt.figure()\n",
        "ax = fig.add_subplot(1, 2, 1)\n",
        "ax.imshow(number_a, cmap='bone')\n",
        "ax.set_xlabel(\"Image a\")\n",
        "ax = fig.add_subplot(1, 2, 2)\n",
        "ax.imshow(number_b, cmap='bone')\n",
        "ax.set_xlabel(\"Image b\")"
      ]
    },
    {
      "cell_type": "code",
      "execution_count": null,
      "id": "3e22fc43",
      "metadata": {
        "colab": {
          "base_uri": "https://localhost:8080/"
        },
        "id": "3e22fc43",
        "outputId": "8d6e7c35-c8e8-48e8-ae38-2f2dc6674a63"
      },
      "outputs": [
        {
          "output_type": "stream",
          "name": "stdout",
          "text": [
            "The sum of pixel value of image A is: 27525\n",
            "The sum of pixel value of image B is: 15734\n"
          ]
        }
      ],
      "source": [
        "# Compute the sum of pixel value of each images.\n",
        "print(\"The sum of pixel value of image A is: {}\".format(np.sum(number_a.reshape(-1))))\n",
        "print(\"The sum of pixel value of image B is: {}\".format(np.sum(number_b.reshape(-1))))"
      ]
    },
    {
      "cell_type": "markdown",
      "id": "188fc137",
      "metadata": {
        "id": "188fc137"
      },
      "source": [
        "You may go through the examples above and find that number \"5\" has larger sum of pixel value than that of number \"9\", based on this observation, a naive judegement could be made: For those images with sum of pixel value is above `20000`, it is the digit `5`, otherwise it is the digit `9`"
      ]
    },
    {
      "cell_type": "code",
      "execution_count": null,
      "id": "164de35e",
      "metadata": {
        "colab": {
          "base_uri": "https://localhost:8080/"
        },
        "id": "164de35e",
        "outputId": "f2a561f7-d7ef-41e8-d34f-d2f5c869d22a"
      },
      "outputs": [
        {
          "output_type": "stream",
          "name": "stdout",
          "text": [
            "Image a is 5\n",
            "Image b is 9\n"
          ]
        }
      ],
      "source": [
        "def recognize_digit(image):\n",
        "    # --- Below is the logic of this function ---\n",
        "    if np.sum(image.reshape(-1)) > 20000:\n",
        "        return 5\n",
        "    else:\n",
        "        return 9\n",
        "    # --- Above is the logic of this function ---\n",
        "\n",
        "print(\"Image a is {}\".format(recognize_digit(number_a)) )\n",
        "print(\"Image b is {}\".format(recognize_digit(number_b)) )"
      ]
    },
    {
      "cell_type": "markdown",
      "id": "fbc7e130",
      "metadata": {
        "id": "fbc7e130"
      },
      "source": [
        "<font color='blue' size=4> Please summarize the characteristics of traditional software and compare it to AI model</font> <font color='red' size=4> (2 points)</font>"
      ]
    },
    {
      "cell_type": "markdown",
      "id": "T-Hg-KvCtWc7",
      "metadata": {
        "id": "T-Hg-KvCtWc7"
      },
      "source": [
        "![traditional.png](https://raw.githubusercontent.com/momentum-openspace/momentum-openspace.github.io/new-template/files/asg2/pic/traditional.png)"
      ]
    },
    {
      "cell_type": "markdown",
      "id": "eb9a17ec",
      "metadata": {
        "id": "eb9a17ec"
      },
      "source": [
        "### 1.2 AI model"
      ]
    },
    {
      "cell_type": "markdown",
      "id": "d91bd88f",
      "metadata": {
        "id": "d91bd88f"
      },
      "source": [
        "Now let's see the AI model. We have a pre-trained AI model ready for you and let's load it."
      ]
    },
    {
      "cell_type": "code",
      "execution_count": null,
      "id": "b87b3901",
      "metadata": {
        "id": "b87b3901"
      },
      "outputs": [],
      "source": [
        "from all_utils import Lenet5\n",
        "from all_utils import load_model\n",
        "\n",
        "model = load_model(Lenet5, \"./lenet.pt\")"
      ]
    },
    {
      "cell_type": "markdown",
      "id": "94bbf6d3",
      "metadata": {
        "id": "94bbf6d3"
      },
      "source": [
        "<center> The AI model architecture </center>"
      ]
    },
    {
      "cell_type": "markdown",
      "id": "ee6fe059",
      "metadata": {
        "id": "ee6fe059"
      },
      "source": [
        "<img src=\"https://raw.githubusercontent.com/momentum-openspace/momentum-openspace.github.io/new-template/files/asg2/pic/lenet_vis.png\" height=1000 weight=600> "
      ]
    },
    {
      "cell_type": "markdown",
      "id": "3ddd9b44",
      "metadata": {
        "id": "3ddd9b44"
      },
      "source": [
        "The above figure shows the computation graph of the AI model. In each element, there are some computations going on. All the blue components with \".weight\" can also be taken as \"neurons.\" \n",
        "\n",
        "Let's predict the image using AI model."
      ]
    },
    {
      "cell_type": "code",
      "execution_count": null,
      "id": "ee1713d1",
      "metadata": {
        "colab": {
          "base_uri": "https://localhost:8080/"
        },
        "id": "ee1713d1",
        "outputId": "25a1cadc-f2a5-4468-8f7c-f0e9609fa676"
      },
      "outputs": [
        {
          "output_type": "stream",
          "name": "stdout",
          "text": [
            "Image a is 5\n",
            "Image b is 9\n"
          ]
        }
      ],
      "source": [
        "def recognize_digit_AI(image, model):\n",
        "    tensor = all_utils.image_to_tensor(image)\n",
        "    # --- Below is the prediction made by the model ---\n",
        "    with torch.no_grad():\n",
        "        result = model(tensor)\n",
        "    # --- Above is the prediction made by the model ---\n",
        "    return np.argmax(result.cpu(), axis = 1)[0]\n",
        "\n",
        "print(\"Image a is {}\".format(recognize_digit_AI(number_a, model)) )\n",
        "print(\"Image b is {}\".format(recognize_digit_AI(number_b, model)) )"
      ]
    },
    {
      "cell_type": "markdown",
      "id": "c88ff572",
      "metadata": {
        "id": "c88ff572"
      },
      "source": [
        "<font color='blue' size=4> Please summarize the characteristics of AI model and compare it to traditional software </font> <font color='red' size=4> (2 points)</font>"
      ]
    },
    {
      "cell_type": "markdown",
      "id": "7563f45a",
      "metadata": {
        "id": "7563f45a"
      },
      "source": [
        "Hint: Neurons in the AI model can interact with each other. They are connected with complex non-linear activation functions."
      ]
    },
    {
      "cell_type": "markdown",
      "id": "b5306096",
      "metadata": {
        "id": "b5306096"
      },
      "source": [
        "![Title](https://raw.githubusercontent.com/momentum-openspace/momentum-openspace.github.io/new-template/files/asg2/pic/AI.png)"
      ]
    },
    {
      "cell_type": "markdown",
      "id": "f13e7478",
      "metadata": {
        "id": "f13e7478"
      },
      "source": [
        "## 2. Quality assurance of DL models <font color='red' size=5> (13 points)</font>"
      ]
    },
    {
      "cell_type": "markdown",
      "id": "64b7cb08",
      "metadata": {
        "id": "64b7cb08"
      },
      "source": [
        "So far, we have explored the differences between deep learning models and traditional software. Now let's think about one of the main topics in this course: how to improve the quality of machine learning systems. \n",
        "\n",
        "To do this, let's first review the developing process of classical software:\n",
        "\n",
        "`Software development --> Software testing --> Software debugging --> Software development.`\n",
        "\n",
        "And machine learning systems have similar process:\n",
        "\n",
        "`Model training --> Model evaluation --> Model debugging/ Architecture improvement --> Model (re)training.`\n",
        "\n",
        "Normally Model evaluation is done by testing on test set. Similar to the software testing procedure, this is a very important step towards quality assurance of DL models. However, there are multiple questions remaining:\n",
        "\n",
        "1. The size of the test set is usually limited, because it could be expensive to collect data with labeled data. Hence it's hard to cover all the corner cases in the test set. \n",
        "\n",
        "    a. To solve this problem, we need to develop a method to generate more test cases. \n",
        "    b. Like test generation in traditional automated software testing, we need to generate \"valid\" test cases. For example, you can not generate a cat image to test the handwritten digit recognition system.\n",
        "    \n",
        "\n",
        "2. Let's suppose that you now have a large enough test set. The next question is, how can we tell whether the ML system has been comprehensively tested or not. Or, in other words, what is the criteria to stop the testing and how to measure whether the ML system has been well-tested?\n",
        "\n",
        "    a. The \"code coverage\" metric is usually used in traditional software, and we also have practiced it in the last assignment. If we know that every logical branch in the software has been covered in the testing, we can be more confident to say that this software has been comprehensive tested.  \n",
        "    \n",
        "    \n",
        "3. Now if you have a testing metric like \"code coverage\" and a test case generation method for testing machine learning systems, the next step is to generate as diverse test cases as you can to improve the testing coverage. Is it possible to \"guide\" the test case generation process instead of do it randomly?\n",
        "\n",
        "We will cover all these three questions in the following"
      ]
    },
    {
      "cell_type": "markdown",
      "id": "06b69b7f",
      "metadata": {
        "id": "06b69b7f"
      },
      "source": [
        "### Goal: Test AI models efficiently\n",
        "\n",
        "### TODO:\n",
        "\n",
        "### 1. Define a testing metric that is suitable for testing DL models.\n",
        "    \n",
        "### 2. Find possible test cases generation methods.\n",
        "    \n",
        "### 3. Design metric-guidance testing technique."
      ]
    },
    {
      "cell_type": "markdown",
      "id": "601bb649",
      "metadata": {
        "id": "601bb649"
      },
      "source": [
        "### 2.1 Testing metric <font color='red' size=3> (7 points)</font>"
      ]
    },
    {
      "cell_type": "markdown",
      "id": "d0b2e15c",
      "metadata": {
        "id": "d0b2e15c"
      },
      "source": [
        "#### 2.1.1 Definition of \"neuron\""
      ]
    },
    {
      "cell_type": "markdown",
      "id": "0f6536e3",
      "metadata": {
        "id": "0f6536e3"
      },
      "source": [
        "In a DNN with only linear layer enabled ([MLP](https://en.wikipedia.org/wiki/Multilayer_perceptron)), the term \"neuron\" represents a computing unit. Each neuron is fully-connected with all neurons on the next layer, and each connection has a weight. \n",
        "\n",
        "`output = linear_layer(input)`.\n",
        "    \n",
        "However, in another kind of neural network called Convolutional Neural Networks (CNNs), which is known more prevalent in the image classification task, there is a special computation unit called \"convolution\". We refer the reader to a nice resource from Stanford University: [Convolutional Neural Networks (CNNs / ConvNets)](https://cs231n.github.io/convolutional-networks/) if you are not familiar with CNNs. Generally speaking, it is more ambiguous to describe a \"neuron\" in CNNs. We will follow the insights in the aforementioned material:\n",
        "\n",
        "> Every entry in the 3D output volume can also be interpreted as an output of a neuron that looks at only a small region in the input and shares parameters with all neurons to the left and right spatially (since these numbers all result from applying the same filter).\n",
        "    \n"
      ]
    },
    {
      "cell_type": "code",
      "execution_count": null,
      "id": "2919d5b2",
      "metadata": {
        "id": "2919d5b2",
        "scrolled": true
      },
      "outputs": [],
      "source": [
        "# Before the experiment, let's first load the data\n",
        "train_loader = all_utils.get_training_loader(\"./train_idx.pt\")\n",
        "test_loader = all_utils.get_test_loader()"
      ]
    },
    {
      "cell_type": "markdown",
      "id": "d47c78ef",
      "metadata": {
        "id": "d47c78ef"
      },
      "source": [
        "Notice: \n",
        "\n",
        "Here the train_loader and test_loader are `torch.utils.data.DataLoader` (reference: [dataloader](https://pytorch.org/docs/stable/data.html#torch.utils.data.DataLoader)). It works like an iterator that automatically returns you the image in each `batch`. The batch size is set to 64 here. In other words, for the tensor returned by the loader, the returned tensor shape is (64, 1, 28, 28), where 64 is the batch_size, 1 is the number of channel, the remaining two dimensions are the height and width of the image. \n",
        "\n",
        "(64, 1, 28, 28) --> (N, C, H, W)\n",
        "\n",
        "While doing image processing, the image is usually in the format (H, W, C), where channel is in the last dimension.\n",
        "\n",
        "You may wonder why pytorch chooses (N, C, H, W). This is because in this format the memory access pattern is beneficial for convolution implementations. If you are interested for this, you can check this [presentation](https://developer.download.nvidia.com/video/gputechconf/gtc/2019/presentation/s9926-tensor-core-performance-the-ultimate-guide.pdf)"
      ]
    },
    {
      "cell_type": "markdown",
      "id": "33d7f961",
      "metadata": {
        "id": "33d7f961"
      },
      "source": [
        "#### 2.1.2 Introduction to DNN testing metric: Neuron Boundary Coverage"
      ]
    },
    {
      "cell_type": "markdown",
      "id": "61481c82",
      "metadata": {
        "id": "61481c82"
      },
      "source": [
        "In this section we will explore the testing metric at Neuron-level. You can check for the paper [DeepGauge](https://dl.acm.org/doi/pdf/10.1145/3238147.3238202?casa_token=xNahdy3nsNUAAAAA:FVq-aGLpMPYO9s2MgstFsej05GTcGLCnaOZzse1k61C92jqyli4iCYLFHYopNk8PIPzqbVSwDqssC4I) for more information.\n",
        "\n",
        "Intuitively, we have \"code coverage\" for classical software. If we takes the neurons as the basic components in a DNN, we can also define neuron-based coverage metric to measure how good the testing is and guide the testing. This is the basic logic behind Neuron-Level Coverage Criteria in [DeepGauge](https://dl.acm.org/doi/pdf/10.1145/3238147.3238202?casa_token=xNahdy3nsNUAAAAA:FVq-aGLpMPYO9s2MgstFsej05GTcGLCnaOZzse1k61C92jqyli4iCYLFHYopNk8PIPzqbVSwDqssC4I). \n",
        "\n",
        "The functionality (i.e., neuron output) for each neuron of a DNN should follow some statistical distribution, and this distribution is implicitly determined by the training data. The output distribution analysis would allow to approximately characterize how wide the range of each neuron's output on the training data."
      ]
    },
    {
      "cell_type": "markdown",
      "id": "cfb5706b",
      "metadata": {
        "id": "cfb5706b"
      },
      "source": [
        "So, we can first analyze the output distribution of a neuron in the training data, find its distribution, and then analyze the output distribution of a neuron in the test data. If the later one \"covers\" the former, we can conclude that the testing data has covered some cases which the model never saw in the training process.\n",
        "\n",
        "Now let's take a look at the Neuron Boundary Coverage (NBC)."
      ]
    },
    {
      "cell_type": "markdown",
      "id": "f441a00f",
      "metadata": {
        "id": "f441a00f"
      },
      "source": [
        "<font color='red' size=3> Definition 1</font> \n",
        "\n",
        "For a neuron n, let $high_n$ and $low_n$ be its upper and lower boundary output values, respectively, on the value range of its activation function, where $high_n$ and $low_n$ are derived from the training dataset analysis.\n",
        "\n",
        "<font color='red' size=3> Definition 2</font> \n",
        "\n",
        "For a test input $x \\in T$ , we say that a DNN is located in its major function region given x iff $\\forall n \\in N : \\phi(x,n) \\in [low_n, high_n]$ ."
      ]
    },
    {
      "cell_type": "markdown",
      "id": "570463d4",
      "metadata": {
        "id": "570463d4"
      },
      "source": [
        "As you can see, here we define the \"distribution\" of a neuron by measuring its **output range**. Based on this, we then define:"
      ]
    },
    {
      "cell_type": "markdown",
      "id": "b0fefe8f",
      "metadata": {
        "id": "b0fefe8f"
      },
      "source": [
        "<font color='red' size=3> Definition 3</font> \n",
        "\n",
        "UpperCornerNeuron = {$n \\in N | \\exists x \\in T: \\phi(x, n) \\in (high_n, +\\infty)$};\n",
        "\n",
        "LowerCornerNeuron = {$n \\in N | \\exists x \\in T: \\phi(x, n) \\in (-\\infty, low_n)$};"
      ]
    },
    {
      "cell_type": "markdown",
      "id": "bfca3352",
      "metadata": {
        "id": "bfca3352"
      },
      "source": [
        "Definition 3 define two types of situations where the output of neuron is in the corner-case regions (Not present in the training data.) We assume that if at test time, the more corner cases you find, the better chance you can test the DNN thoroughly."
      ]
    },
    {
      "cell_type": "markdown",
      "id": "471755aa",
      "metadata": {
        "id": "471755aa"
      },
      "source": [
        "Finally, we give the definition of Neuron Boundary Coverage:\n",
        "\n",
        "<font color='red' size=3> Definition 4</font>\n",
        "\n",
        "NBCov(T) = $\\frac{|UpperCornerNeuron| + |LowerCornerNeuron|}{2 \\times |N|}$\n",
        "\n",
        "Where $|\\cdot|$ indicates the number, e.g., $|N|$ indicates the number of all neurons."
      ]
    },
    {
      "cell_type": "markdown",
      "id": "b6f8a9a9",
      "metadata": {
        "id": "b6f8a9a9"
      },
      "source": [
        "**In the following, we will implement NBC.**"
      ]
    },
    {
      "cell_type": "markdown",
      "id": "06cf873e",
      "metadata": {
        "id": "06cf873e"
      },
      "source": [
        "<font color='blue' size=4> Profile the DNN on training data</font>"
      ]
    },
    {
      "cell_type": "markdown",
      "id": "d17af30d",
      "metadata": {
        "id": "d17af30d"
      },
      "source": [
        "We will first profile the DNN on training data to get the output range.\n",
        "\n",
        "(What we are doing here is just like instrumentation in traditional software testing.)\n",
        "\n",
        "To get the output of each neuron, we need to get the output of each intermediate layer. For PyTorch, this can be done using hook. If you are interested in thie technique, you can check this video: [PyTorch Hooks Explained - In-depth Tutorial](https://www.youtube.com/watch?v=syLFCVYua6Q). While in this assignment we have implemented a function called `feature_list` that returns all the intermediate result for you:\n",
        "\n",
        "```\n",
        "logits, out_list, name_list = model.feature_list(data)\n",
        "# logits: the final output\n",
        "# output_list: the output of each intermediate layer\n",
        "# name_list: the list of names for each intermediate layer\n",
        "```\n",
        "\n",
        "Use this function, let's profile the DNN"
      ]
    },
    {
      "cell_type": "markdown",
      "id": "e0fc0081",
      "metadata": {
        "id": "e0fc0081"
      },
      "source": [
        "<font color='blue' size=3> Please complete the todo listed in the function shown below</font> <font color='red' size=3> (3 points)</font>"
      ]
    },
    {
      "cell_type": "markdown",
      "id": "16b328ce",
      "metadata": {
        "id": "16b328ce"
      },
      "source": [
        "Functions that you \\*may\\* need to use here:\n",
        "\n",
        "[function Tensor.reshape](https://pytorch.org/docs/stable/generated/torch.reshape.html)\n",
        "\n",
        "    Returns a tensor with the same data and number of elements as input, but with the specified shape. \n",
        "    `torch.tensor([1, 2]).reshape`\n",
        "\n",
        "[function Tensor.max](https://pytorch.org/docs/stable/generated/torch.max.html?highlight=max#torch.max)\n",
        "    \n",
        "    Returns the maximum value of all elements in the input tensor.\n",
        "    `torch.tensor([1, 2]).max`\n",
        "\n",
        "[function Tensor.min](https://pytorch.org/docs/stable/generated/torch.min.html?highlight=min#torch.min)\n",
        "    \n",
        "    Returns the minimum value of all elements in the input tensor.\n",
        "    `torch.tensor([1, 2]).min`\n",
        "\n",
        "[torch.flatten](https://pytorch.org/docs/stable/generated/torch.flatten.html?highlight=flatten#torch.flatten)\n",
        "    \n",
        "    Flattens input by reshaping it into a one-dimensional tensor. "
      ]
    },
    {
      "cell_type": "code",
      "execution_count": null,
      "id": "23dff3db",
      "metadata": {
        "id": "23dff3db"
      },
      "outputs": [],
      "source": [
        "import collections\n",
        "def profile_DNN(net, dataloader):\n",
        "    \"\"\"\n",
        "    Profile the DNN and return a cov_dict contains the necessary information\n",
        "    ---\n",
        "    Args\n",
        "        net: torch.nn.Module Deep learning model.\n",
        "        dataloader: torch.utils.data.DataLoader The pytorch dataloader.\n",
        "    Returns:\n",
        "        cov_dict: a dict contains (layer_name, neuron_id) --> (neurons_min, neurons_max) mapping.\n",
        "    \n",
        "    \"\"\"\n",
        "    net.eval()\n",
        "    cov_dict = collections.OrderedDict()\n",
        "    batch_num = len(dataloader)\n",
        "    for idx, (data, label) in enumerate(dataloader):\n",
        "        with torch.no_grad():\n",
        "            logits, out_list, name_list = net.feature_list(data)\n",
        "        if idx % 100 == 0:\n",
        "            print(\"* finish {}/{} proportion\".format(idx, batch_num))\n",
        "        \n",
        "        # Iterate through all output layers in the output list\n",
        "        for layer_id in range(len(out_list)):\n",
        "            cur_layer = name_list[layer_id] # record the name of current layer\n",
        "            \n",
        "            '''\n",
        "            Recall the definition of neurons. For a linear layer, the output is [Batch_size, neurons]\n",
        "            While for a convolutional layer, the output is [Batch_size, channel, H, w]\n",
        "            As we define that every entry in the 3D output volume is one neuron, \n",
        "            the number of neurons in conv layer is just channel * H * W.\n",
        "            '''\n",
        "            \n",
        "            cur_neuron_num = 1\n",
        "            \n",
        "            '''\n",
        "            Please compute the number of neurons in the DNN and store the result in cur_neuron_num.\n",
        "            '''\n",
        "            \n",
        "            # ======Below is TODO====== #\n",
        "            if len(out_list[layer_id].shape) == 4:\n",
        "              cur_neuron_num = out_list[layer_id].shape[1] * out_list[layer_id].shape[2] * out_list[layer_id].shape[3]\n",
        "            else:\n",
        "              cur_neuron_num = out_list[layer_id].shape[1]\n",
        "            # ======Above is TODO====== #\n",
        "            \n",
        "            '''\n",
        "            Please records the max value and min value over **batch** (the first dimension) from the **out_list**\n",
        "            Hint: you can use torch.flatten or reshape to turn a multi-dimension tensor\n",
        "            into one-dimension tensor to [C, H, W] --> [N] can be easily used to represent neurons.\n",
        "            Data structure used here: out_list, neurons_max, neurons_min\n",
        "            '''\n",
        "            \n",
        "            # ======Below is TODO====== #\n",
        "            out_list[layer_id] = torch.flatten(out_list[layer_id],start_dim=1)\n",
        "            neurons_max = torch.max(out_list[layer_id][1])\n",
        "            neurons_min = torch.min(out_list[layer_id][1])\n",
        "            # ======Above is TODO====== #\n",
        "\n",
        "            for neuron_id in range(cur_neuron_num):\n",
        "                # Please record the range of the neuron for key (cur_layer, neuron_id).\n",
        "                if (cur_layer, neuron_id) not in cov_dict:\n",
        "                    # The fisrt time to record the pair.\n",
        "                    cov_dict[(cur_layer, neuron_id)] = [None, None] # Initialize [Lower, upper]\n",
        "                \n",
        "                profile_data_list = cov_dict[(cur_layer, neuron_id)]\n",
        "\n",
        "                '''\n",
        "                Please compare the result in neurons_max, neurons_min with that in profile_data_list\n",
        "                If neurons_max is larger than the data in profile_data_list\n",
        "                store it in the upper_bound and store back to the profile_data_list.\n",
        "                Data structure used here: lower_bound, upper_bound, neurons_min, neurons_max\n",
        "                '''\n",
        "                \n",
        "                # ======Below is TODO====== #\n",
        "                if profile_data_list == [None,None]:\n",
        "                  upper_bound = neurons_max\n",
        "                  lower_bound = neurons_min\n",
        "                else:\n",
        "                  if neurons_max > profile_data_list[1]:\n",
        "                    upper_bound = neurons_max.item()\n",
        "                  if neurons_min > profile_data_list[0]:\n",
        "                    lower_bound = neurons_min.item()\n",
        "                # ======Above is TODO====== #\n",
        "\n",
        "                profile_data_list[0] = lower_bound\n",
        "                profile_data_list[1] = upper_bound\n",
        "                cov_dict[(cur_layer, neuron_id)] = profile_data_list     \n",
        "    return cov_dict"
      ]
    },
    {
      "cell_type": "code",
      "execution_count": null,
      "id": "836f8188",
      "metadata": {
        "id": "836f8188"
      },
      "outputs": [],
      "source": [
        "from all_utils import check_cov_list"
      ]
    },
    {
      "cell_type": "code",
      "execution_count": null,
      "id": "122feebc",
      "metadata": {
        "colab": {
          "base_uri": "https://localhost:8080/",
          "height": 212
        },
        "id": "122feebc",
        "outputId": "039adc7a-a6a3-4cda-d69e-18e991b69e45",
        "scrolled": true
      },
      "outputs": [
        {
          "output_type": "stream",
          "name": "stdout",
          "text": [
            "* finish 0/750 proportion\n",
            "* finish 100/750 proportion\n",
            "* finish 200/750 proportion\n",
            "* finish 300/750 proportion\n",
            "* finish 400/750 proportion\n",
            "* finish 500/750 proportion\n",
            "* finish 600/750 proportion\n",
            "* finish 700/750 proportion\n",
            "OrderedDict([(('conv1', 0), [-0.6823444962501526, 30.985029220581055]), (('conv1', 1), [-0.6823444962501526, 30.985029220581055]), (('conv1', 2), [-0.6823444962501526, 30.985029220581055]), (('conv1', 3), [-0.6823444962501526, 30.985029220581055]), (('conv1', 4), [-0.6823444962501526, 30.985029220581055]), (('conv1', 5), [-0.6823444962501526, 30.985029220581055]), (('conv1', 6), [-0.6823444962501526, 30.985029220581055]), (('conv1', 7), [-0.6823444962501526, 30.985029220581055]), (('conv1', 8), [-0.6823444962501526, 30.985029220581055]), (('conv1', 9), [-0.6823444962501526, 30.985029220581055]), (('conv1', 10), [-0.6823444962501526, 30.985029220581055]), (('conv1', 11), [-0.6823444962501526, 30.985029220581055]), (('conv1', 12), [-0.6823444962501526, 30.985029220581055]), (('conv1', 13), [-0.6823444962501526, 30.985029220581055]), (('conv1', 14), [-0.6823444962501526, 30.985029220581055]), (('conv1', 15), [-0.6823444962501526, 30.985029220581055]), (('conv1', 16), [-0.6823444962501526, 30.985029220581055]), (('conv1', 17), [-0.6823444962501526, 30.985029220581055]), (('conv1', 18), [-0.6823444962501526, 30.985029220581055]), (('conv1', 19), [-0.6823444962501526, 30.985029220581055]), (('conv1', 20), [-0.6823444962501526, 30.985029220581055]), (('conv1', 21), [-0.6823444962501526, 30.985029220581055]), (('conv1', 22), [-0.6823444962501526, 30.985029220581055]), (('conv1', 23), [-0.6823444962501526, 30.985029220581055]), (('conv1', 24), [-0.6823444962501526, 30.985029220581055]), (('conv1', 25), [-0.6823444962501526, 30.985029220581055]), (('conv1', 26), [-0.6823444962501526, 30.985029220581055]), (('conv1', 27), [-0.6823444962501526, 30.985029220581055]), (('conv1', 28), [-0.6823444962501526, 30.985029220581055]), (('conv1', 29), [-0.6823444962501526, 30.985029220581055]), (('conv1', 30), [-0.6823444962501526, 30.985029220581055]), (('conv1', 31), [-0.6823444962501526, 30.985029220581055]), (('conv1', 32), [-0.6823444962501526, 30.985029220581055]), (('conv1', 33), [-0.6823444962501526, 30.985029220581055]), (('conv1', 34), [-0.6823444962501526, 30.985029220581055]), (('conv1', 35), [-0.6823444962501526, 30.985029220581055]), (('conv1', 36), [-0.6823444962501526, 30.985029220581055]), (('conv1', 37), [-0.6823444962501526, 30.985029220581055]), (('conv1', 38), [-0.6823444962501526, 30.985029220581055]), (('conv1', 39), [-0.6823444962501526, 30.985029220581055]), (('conv1', 40), [-0.6823444962501526, 30.985029220581055]), (('conv1', 41), [-0.6823444962501526, 30.985029220581055]), (('conv1', 42), [-0.6823444962501526, 30.985029220581055]), (('conv1', 43), [-0.6823444962501526, 30.985029220581055]), (('conv1', 44), [-0.6823444962501526, 30.985029220581055]), (('conv1', 45), [-0.6823444962501526, 30.985029220581055]), (('conv1', 46), [-0.6823444962501526, 30.985029220581055]), (('conv1', 47), [-0.6823444962501526, 30.985029220581055]), (('conv1', 48), [-0.6823444962501526, 30.985029220581055]), (('conv1', 49), [-0.6823444962501526, 30.985029220581055]), (('conv1', 50), [-0.6823444962501526, 30.985029220581055]), (('conv1', 51), [-0.6823444962501526, 30.985029220581055]), (('conv1', 52), [-0.6823444962501526, 30.985029220581055]), (('conv1', 53), [-0.6823444962501526, 30.985029220581055]), (('conv1', 54), [-0.6823444962501526, 30.985029220581055]), (('conv1', 55), [-0.6823444962501526, 30.985029220581055]), (('conv1', 56), [-0.6823444962501526, 30.985029220581055]), (('conv1', 57), [-0.6823444962501526, 30.985029220581055]), (('conv1', 58), [-0.6823444962501526, 30.985029220581055]), (('conv1', 59), [-0.6823444962501526, 30.985029220581055]), (('conv1', 60), [-0.6823444962501526, 30.985029220581055]), (('conv1', 61), [-0.6823444962501526, 30.985029220581055]), (('conv1', 62), [-0.6823444962501526, 30.985029220581055]), (('conv1', 63), [-0.6823444962501526, 30.985029220581055]), (('conv1', 64), [-0.6823444962501526, 30.985029220581055]), (('conv1', 65), [-0.6823444962501526, 30.985029220581055]), (('conv1', 66), [-0.6823444962501526, 30.985029220581055]), (('conv1', 67), [-0.6823444962501526, 30.985029220581055]), (('conv1', 68), [-0.6823444962501526, 30.985029220581055]), (('conv1', 69), [-0.6823444962501526, 30.985029220581055]), (('conv1', 70), [-0.6823444962501526, 30.985029220581055]), (('conv1', 71), [-0.6823444962501526, 30.985029220581055]), (('conv1', 72), [-0.6823444962501526, 30.985029220581055]), (('conv1', 73), [-0.6823444962501526, 30.985029220581055]), (('conv1', 74), [-0.6823444962501526, 30.985029220581055]), (('conv1', 75), [-0.6823444962501526, 30.985029220581055]), (('conv1', 76), [-0.6823444962501526, 30.985029220581055]), (('conv1', 77), [-0.6823444962501526, 30.985029220581055]), (('conv1', 78), [-0.6823444962501526, 30.985029220581055]), (('conv1', 79), [-0.6823444962501526, 30.985029220581055]), (('conv1', 80), [-0.6823444962501526, 30.985029220581055]), (('conv1', 81), [-0.6823444962501526, 30.985029220581055]), (('conv1', 82), [-0.6823444962501526, 30.985029220581055]), (('conv1', 83), [-0.6823444962501526, 30.985029220581055]), (('conv1', 84), [-0.6823444962501526, 30.985029220581055]), (('conv1', 85), [-0.6823444962501526, 30.985029220581055]), (('conv1', 86), [-0.6823444962501526, 30.985029220581055]), (('conv1', 87), [-0.6823444962501526, 30.985029220581055]), (('conv1', 88), [-0.6823444962501526, 30.985029220581055]), (('conv1', 89), [-0.6823444962501526, 30.985029220581055]), (('conv1', 90), [-0.6823444962501526, 30.985029220581055]), (('conv1', 91), [-0.6823444962501526, 30.985029220581055]), (('conv1', 92), [-0.6823444962501526, 30.985029220581055]), (('conv1', 93), [-0.6823444962501526, 30.985029220581055]), (('conv1', 94), [-0.6823444962501526, 30.985029220581055]), (('conv1', 95), [-0.6823444962501526, 30.985029220581055]), (('conv1', 96), [-0.6823444962501526, 30.985029220581055]), (('conv1', 97), [-0.6823444962501526, 30.985029220581055]), (('conv1', 98), [-0.6823444962501526, 30.985029220581055]), (('conv1', 99), [-0.6823444962501526, 30.985029220581055]), (('conv1', 100), [-0.6823444962501526, 30.985029220581055]), (('conv1', 101), [-0.6823444962501526, 30.985029220581055]), (('conv1', 102), [-0.6823444962501526, 30.985029220581055]), (('conv1', 103), [-0.6823444962501526, 30.985029220581055]), (('conv1', 104), [-0.6823444962501526, 30.985029220581055]), (('conv1', 105), [-0.6823444962501526, 30.985029220581055]), (('conv1', 106), [-0.6823444962501526, 30.985029220581055]), (('conv1', 107), [-0.6823444962501526, 30.985029220581055]), (('conv1', 108), [-0.6823444962501526, 30.985029220581055]), (('conv1', 109), [-0.6823444962501526, 30.985029220581055]), (('conv1', 110), [-0.6823444962501526, 30.985029220581055]), (('conv1', 111), [-0.6823444962501526, 30.985029220581055]), (('conv1', 112), [-0.6823444962501526, 30.985029220581055]), (('conv1', 113), [-0.6823444962501526, 30.985029220581055]), (('conv1', 114), [-0.6823444962501526, 30.985029220581055]), (('conv1', 115), [-0.6823444962501526, 30.985029220581055]), (('conv1', 116), [-0.6823444962501526, 30.985029220581055]), (('conv1', 117), [-0.6823444962501526, 30.985029220581055]), (('conv1', 118), [-0.6823444962501526, 30.985029220581055]), (('conv1', 119), [-0.6823444962501526, 30.985029220581055]), (('conv1', 120), [-0.6823444962501526, 30.985029220581055]), (('conv1', 121), [-0.6823444962501526, 30.985029220581055]), (('conv1', 122), [-0.6823444962501526, 30.985029220581055]), (('conv1', 123), [-0.6823444962501526, 30.985029220581055]), (('conv1', 124), [-0.6823444962501526, 30.985029220581055]), (('conv1', 125), [-0.6823444962501526, 30.985029220581055]), (('conv1', 126), [-0.6823444962501526, 30.985029220581055]), (('conv1', 127), [-0.6823444962501526, 30.985029220581055]), (('conv1', 128), [-0.6823444962501526, 30.985029220581055]), (('conv1', 129), [-0.6823444962501526, 30.985029220581055]), (('conv1', 130), [-0.6823444962501526, 30.985029220581055]), (('conv1', 131), [-0.6823444962501526, 30.985029220581055]), (('conv1', 132), [-0.6823444962501526, 30.985029220581055]), (('conv1', 133), [-0.6823444962501526, 30.985029220581055]), (('conv1', 134), [-0.6823444962501526, 30.985029220581055]), (('conv1', 135), [-0.6823444962501526, 30.985029220581055]), (('conv1', 136), [-0.6823444962501526, 30.985029220581055]), (('conv1', 137), [-0.6823444962501526, 30.985029220581055]), (('conv1', 138), [-0.6823444962501526, 30.985029220581055]), (('conv1', 139), [-0.6823444962501526, 30.985029220581055]), (('conv1', 140), [-0.6823444962501526, 30.985029220581055]), (('conv1', 141), [-0.6823444962501526, 30.985029220581055]), (('conv1', 142), [-0.6823444962501526, 30.985029220581055]), (('conv1', 143), [-0.6823444962501526, 30.985029220581055]), (('conv1', 144), [-0.6823444962501526, 30.985029220581055]), (('conv1', 145), [-0.6823444962501526, 30.985029220581055]), (('conv1', 146), [-0.6823444962501526, 30.985029220581055]), (('conv1', 147), [-0.6823444962501526, 30.985029220581055]), (('conv1', 148), [-0.6823444962501526, 30.985029220581055]), (('conv1', 149), [-0.6823444962501526, 30.985029220581055]), (('conv1', 150), [-0.6823444962501526, 30.985029220581055]), (('conv1', 151), [-0.6823444962501526, 30.985029220581055]), (('conv1', 152), [-0.6823444962501526, 30.985029220581055]), (('conv1', 153), [-0.6823444962501526, 30.985029220581055]), (('conv1', 154), [-0.6823444962501526, 30.985029220581055]), (('conv1', 155), [-0.6823444962501526, 30.985029220581055]), (('conv1', 156), [-0.6823444962501526, 30.985029220581055]), (('conv1', 157), [-0.6823444962501526, 30.985029220581055]), (('conv1', 158), [-0.6823444962501526, 30.985029220581055]), (('conv1', 159), [-0.6823444962501526, 30.985029220581055]), (('conv1', 160), [-0.6823444962501526, 30.985029220581055]), (('conv1', 161), [-0.6823444962501526, 30.985029220581055]), (('conv1', 162), [-0.6823444962501526, 30.985029220581055]), (('conv1', 163), [-0.6823444962501526, 30.985029220581055]), (('conv1', 164), [-0.6823444962501526, 30.985029220581055]), (('conv1', 165), [-0.6823444962501526, 30.985029220581055]), (('conv1', 166), [-0.6823444962501526, 30.985029220581055]), (('conv1', 167), [-0.6823444962501526, 30.985029220581055]), (('conv1', 168), [-0.6823444962501526, 30.985029220581055]), (('conv1', 169), [-0.6823444962501526, 30.985029220581055]), (('conv1', 170), [-0.6823444962501526, 30.985029220581055]), (('conv1', 171), [-0.6823444962501526, 30.985029220581055]), (('conv1', 172), [-0.6823444962501526, 30.985029220581055]), (('conv1', 173), [-0.6823444962501526, 30.985029220581055]), (('conv1', 174), [-0.6823444962501526, 30.985029220581055]), (('conv1', 175), [-0.6823444962501526, 30.985029220581055]), (('conv1', 176), [-0.6823444962501526, 30.985029220581055]), (('conv1', 177), [-0.6823444962501526, 30.985029220581055]), (('conv1', 178), [-0.6823444962501526, 30.985029220581055]), (('conv1', 179), [-0.6823444962501526, 30.985029220581055]), (('conv1', 180), [-0.6823444962501526, 30.985029220581055]), (('conv1', 181), [-0.6823444962501526, 30.985029220581055]), (('conv1', 182), [-0.6823444962501526, 30.985029220581055]), (('conv1', 183), [-0.6823444962501526, 30.985029220581055]), (('conv1', 184), [-0.6823444962501526, 30.985029220581055]), (('conv1', 185), [-0.6823444962501526, 30.985029220581055]), (('conv1', 186), [-0.6823444962501526, 30.985029220581055]), (('conv1', 187), [-0.6823444962501526, 30.985029220581055]), (('conv1', 188), [-0.6823444962501526, 30.985029220581055]), (('conv1', 189), [-0.6823444962501526, 30.985029220581055]), (('conv1', 190), [-0.6823444962501526, 30.985029220581055]), (('conv1', 191), [-0.6823444962501526, 30.985029220581055]), (('conv1', 192), [-0.6823444962501526, 30.985029220581055]), (('conv1', 193), [-0.6823444962501526, 30.985029220581055]), (('conv1', 194), [-0.6823444962501526, 30.985029220581055]), (('conv1', 195), [-0.6823444962501526, 30.985029220581055]), (('conv1', 196), [-0.6823444962501526, 30.985029220581055]), (('conv1', 197), [-0.6823444962501526, 30.985029220581055]), (('conv1', 198), [-0.6823444962501526, 30.985029220581055]), (('conv1', 199), [-0.6823444962501526, 30.985029220581055]), (('conv1', 200), [-0.6823444962501526, 30.985029220581055]), (('conv1', 201), [-0.6823444962501526, 30.985029220581055]), (('conv1', 202), [-0.6823444962501526, 30.985029220581055]), (('conv1', 203), [-0.6823444962501526, 30.985029220581055]), (('conv1', 204), [-0.6823444962501526, 30.985029220581055]), (('conv1', 205), [-0.6823444962501526, 30.985029220581055]), (('conv1', 206), [-0.6823444962501526, 30.985029220581055]), (('conv1', 207), [-0.6823444962501526, 30.985029220581055]), (('conv1', 208), [-0.6823444962501526, 30.985029220581055]), (('conv1', 209), [-0.6823444962501526, 30.985029220581055]), (('conv1', 210), [-0.6823444962501526, 30.985029220581055]), (('conv1', 211), [-0.6823444962501526, 30.985029220581055]), (('conv1', 212), [-0.6823444962501526, 30.985029220581055]), (('conv1', 213), [-0.6823444962501526, 30.985029220581055]), (('conv1', 214), [-0.6823444962501526, 30.985029220581055]), (('conv1', 215), [-0.6823444962501526, 30.985029220581055]), (('conv1', 216), [-0.6823444962501526, 30.985029220581055]), (('conv1', 217), [-0.6823444962501526, 30.985029220581055]), (('conv1', 218), [-0.6823444962501526, 30.985029220581055]), (('conv1', 219), [-0.6823444962501526, 30.985029220581055]), (('conv1', 220), [-0.6823444962501526, 30.985029220581055]), (('conv1', 221), [-0.6823444962501526, 30.985029220581055]), (('conv1', 222), [-0.6823444962501526, 30.985029220581055]), (('conv1', 223), [-0.6823444962501526, 30.985029220581055]), (('conv1', 224), [-0.6823444962501526, 30.985029220581055]), (('conv1', 225), [-0.6823444962501526, 30.985029220581055]), (('conv1', 226), [-0.6823444962501526, 30.985029220581055]), (('conv1', 227), [-0.6823444962501526, 30.985029220581055]), (('conv1', 228), [-0.6823444962501526, 30.985029220581055]), (('conv1', 229), [-0.6823444962501526, 30.985029220581055]), (('conv1', 230), [-0.6823444962501526, 30.985029220581055]), (('conv1', 231), [-0.6823444962501526, 30.985029220581055]), (('conv1', 232), [-0.6823444962501526, 30.985029220581055]), (('conv1', 233), [-0.6823444962501526, 30.985029220581055]), (('conv1', 234), [-0.6823444962501526, 30.985029220581055]), (('conv1', 235), [-0.6823444962501526, 30.985029220581055]), (('conv1', 236), [-0.6823444962501526, 30.985029220581055]), (('conv1', 237), [-0.6823444962501526, 30.985029220581055]), (('conv1', 238), [-0.6823444962501526, 30.985029220581055]), (('conv1', 239), [-0.6823444962501526, 30.985029220581055]), (('conv1', 240), [-0.6823444962501526, 30.985029220581055]), (('conv1', 241), [-0.6823444962501526, 30.985029220581055]), (('conv1', 242), [-0.6823444962501526, 30.985029220581055]), (('conv1', 243), [-0.6823444962501526, 30.985029220581055]), (('conv1', 244), [-0.6823444962501526, 30.985029220581055]), (('conv1', 245), [-0.6823444962501526, 30.985029220581055]), (('conv1', 246), [-0.6823444962501526, 30.985029220581055]), (('conv1', 247), [-0.6823444962501526, 30.985029220581055]), (('conv1', 248), [-0.6823444962501526, 30.985029220581055]), (('conv1', 249), [-0.6823444962501526, 30.985029220581055]), (('conv1', 250), [-0.6823444962501526, 30.985029220581055]), (('conv1', 251), [-0.6823444962501526, 30.985029220581055]), (('conv1', 252), [-0.6823444962501526, 30.985029220581055]), (('conv1', 253), [-0.6823444962501526, 30.985029220581055]), (('conv1', 254), [-0.6823444962501526, 30.985029220581055]), (('conv1', 255), [-0.6823444962501526, 30.985029220581055]), (('conv1', 256), [-0.6823444962501526, 30.985029220581055]), (('conv1', 257), [-0.6823444962501526, 30.985029220581055]), (('conv1', 258), [-0.6823444962501526, 30.985029220581055]), (('conv1', 259), [-0.6823444962501526, 30.985029220581055]), (('conv1', 260), [-0.6823444962501526, 30.985029220581055]), (('conv1', 261), [-0.6823444962501526, 30.985029220581055]), (('conv1', 262), [-0.6823444962501526, 30.985029220581055]), (('conv1', 263), [-0.6823444962501526, 30.985029220581055]), (('conv1', 264), [-0.6823444962501526, 30.985029220581055]), (('conv1', 265), [-0.6823444962501526, 30.985029220581055]), (('conv1', 266), [-0.6823444962501526, 30.985029220581055]), (('conv1', 267), [-0.6823444962501526, 30.985029220581055]), (('conv1', 268), [-0.6823444962501526, 30.985029220581055]), (('conv1', 269), [-0.6823444962501526, 30.985029220581055]), (('conv1', 270), [-0.6823444962501526, 30.985029220581055]), (('conv1', 271), [-0.6823444962501526, 30.985029220581055]), (('conv1', 272), [-0.6823444962501526, 30.985029220581055]), (('conv1', 273), [-0.6823444962501526, 30.985029220581055]), (('conv1', 274), [-0.6823444962501526, 30.985029220581055]), (('conv1', 275), [-0.6823444962501526, 30.985029220581055]), (('conv1', 276), [-0.6823444962501526, 30.985029220581055]), (('conv1', 277), [-0.6823444962501526, 30.985029220581055]), (('conv1', 278), [-0.6823444962501526, 30.985029220581055]), (('conv1', 279), [-0.6823444962501526, 30.985029220581055]), (('conv1', 280), [-0.6823444962501526, 30.985029220581055]), (('conv1', 281), [-0.6823444962501526, 30.985029220581055]), (('conv1', 282), [-0.6823444962501526, 30.985029220581055]), (('conv1', 283), [-0.6823444962501526, 30.985029220581055]), (('conv1', 284), [-0.6823444962501526, 30.985029220581055]), (('conv1', 285), [-0.6823444962501526, 30.985029220581055]), (('conv1', 286), [-0.6823444962501526, 30.985029220581055]), (('conv1', 287), [-0.6823444962501526, 30.985029220581055]), (('conv1', 288), [-0.6823444962501526, 30.985029220581055]), (('conv1', 289), [-0.6823444962501526, 30.985029220581055]), (('conv1', 290), [-0.6823444962501526, 30.985029220581055]), (('conv1', 291), [-0.6823444962501526, 30.985029220581055]), (('conv1', 292), [-0.6823444962501526, 30.985029220581055]), (('conv1', 293), [-0.6823444962501526, 30.985029220581055]), (('conv1', 294), [-0.6823444962501526, 30.985029220581055]), (('conv1', 295), [-0.6823444962501526, 30.985029220581055]), (('conv1', 296), [-0.6823444962501526, 30.985029220581055]), (('conv1', 297), [-0.6823444962501526, 30.985029220581055]), (('conv1', 298), [-0.6823444962501526, 30.985029220581055]), (('conv1', 299), [-0.6823444962501526, 30.985029220581055]), (('conv1', 300), [-0.6823444962501526, 30.985029220581055]), (('conv1', 301), [-0.6823444962501526, 30.985029220581055]), (('conv1', 302), [-0.6823444962501526, 30.985029220581055]), (('conv1', 303), [-0.6823444962501526, 30.985029220581055]), (('conv1', 304), [-0.6823444962501526, 30.985029220581055]), (('conv1', 305), [-0.6823444962501526, 30.985029220581055]), (('conv1', 306), [-0.6823444962501526, 30.985029220581055]), (('conv1', 307), [-0.6823444962501526, 30.985029220581055]), (('conv1', 308), [-0.6823444962501526, 30.985029220581055]), (('conv1', 309), [-0.6823444962501526, 30.985029220581055]), (('conv1', 310), [-0.6823444962501526, 30.985029220581055]), (('conv1', 311), [-0.6823444962501526, 30.985029220581055]), (('conv1', 312), [-0.6823444962501526, 30.985029220581055]), (('conv1', 313), [-0.6823444962501526, 30.985029220581055]), (('conv1', 314), [-0.6823444962501526, 30.985029220581055]), (('conv1', 315), [-0.6823444962501526, 30.985029220581055]), (('conv1', 316), [-0.6823444962501526, 30.985029220581055]), (('conv1', 317), [-0.6823444962501526, 30.985029220581055]), (('conv1', 318), [-0.6823444962501526, 30.985029220581055]), (('conv1', 319), [-0.6823444962501526, 30.985029220581055]), (('conv1', 320), [-0.6823444962501526, 30.985029220581055]), (('conv1', 321), [-0.6823444962501526, 30.985029220581055]), (('conv1', 322), [-0.6823444962501526, 30.985029220581055]), (('conv1', 323), [-0.6823444962501526, 30.985029220581055]), (('conv1', 324), [-0.6823444962501526, 30.985029220581055]), (('conv1', 325), [-0.6823444962501526, 30.985029220581055]), (('conv1', 326), [-0.6823444962501526, 30.985029220581055]), (('conv1', 327), [-0.6823444962501526, 30.985029220581055]), (('conv1', 328), [-0.6823444962501526, 30.985029220581055]), (('conv1', 329), [-0.6823444962501526, 30.985029220581055]), (('conv1', 330), [-0.6823444962501526, 30.985029220581055]), (('conv1', 331), [-0.6823444962501526, 30.985029220581055]), (('conv1', 332), [-0.6823444962501526, 30.985029220581055]), (('conv1', 333), [-0.6823444962501526, 30.985029220581055]), (('conv1', 334), [-0.6823444962501526, 30.985029220581055]), (('conv1', 335), [-0.6823444962501526, 30.985029220581055]), (('conv1', 336), [-0.6823444962501526, 30.985029220581055]), (('conv1', 337), [-0.6823444962501526, 30.985029220581055]), (('conv1', 338), [-0.6823444962501526, 30.985029220581055]), (('conv1', 339), [-0.6823444962501526, 30.985029220581055]), (('conv1', 340), [-0.6823444962501526, 30.985029220581055]), (('conv1', 341), [-0.6823444962501526, 30.985029220581055]), (('conv1', 342), [-0.6823444962501526, 30.985029220581055]), (('conv1', 343), [-0.6823444962501526, 30.985029220581055]), (('conv1', 344), [-0.6823444962501526, 30.985029220581055]), (('conv1', 345), [-0.6823444962501526, 30.985029220581055]), (('conv1', 346), [-0.6823444962501526, 30.985029220581055]), (('conv1', 347), [-0.6823444962501526, 30.985029220581055]), (('conv1', 348), [-0.6823444962501526, 30.985029220581055]), (('conv1', 349), [-0.6823444962501526, 30.985029220581055]), (('conv1', 350), [-0.6823444962501526, 30.985029220581055]), (('conv1', 351), [-0.6823444962501526, 30.985029220581055]), (('conv1', 352), [-0.6823444962501526, 30.985029220581055]), (('conv1', 353), [-0.6823444962501526, 30.985029220581055]), (('conv1', 354), [-0.6823444962501526, 30.985029220581055]), (('conv1', 355), [-0.6823444962501526, 30.985029220581055]), (('conv1', 356), [-0.6823444962501526, 30.985029220581055]), (('conv1', 357), [-0.6823444962501526, 30.985029220581055]), (('conv1', 358), [-0.6823444962501526, 30.985029220581055]), (('conv1', 359), [-0.6823444962501526, 30.985029220581055]), (('conv1', 360), [-0.6823444962501526, 30.985029220581055]), (('conv1', 361), [-0.6823444962501526, 30.985029220581055]), (('conv1', 362), [-0.6823444962501526, 30.985029220581055]), (('conv1', 363), [-0.6823444962501526, 30.985029220581055]), (('conv1', 364), [-0.6823444962501526, 30.985029220581055]), (('conv1', 365), [-0.6823444962501526, 30.985029220581055]), (('conv1', 366), [-0.6823444962501526, 30.985029220581055]), (('conv1', 367), [-0.6823444962501526, 30.985029220581055]), (('conv1', 368), [-0.6823444962501526, 30.985029220581055]), (('conv1', 369), [-0.6823444962501526, 30.985029220581055]), (('conv1', 370), [-0.6823444962501526, 30.985029220581055]), (('conv1', 371), [-0.6823444962501526, 30.985029220581055]), (('conv1', 372), [-0.6823444962501526, 30.985029220581055]), (('conv1', 373), [-0.6823444962501526, 30.985029220581055]), (('conv1', 374), [-0.6823444962501526, 30.985029220581055]), (('conv1', 375), [-0.6823444962501526, 30.985029220581055]), (('conv1', 376), [-0.6823444962501526, 30.985029220581055]), (('conv1', 377), [-0.6823444962501526, 30.985029220581055]), (('conv1', 378), [-0.6823444962501526, 30.985029220581055]), (('conv1', 379), [-0.6823444962501526, 30.985029220581055]), (('conv1', 380), [-0.6823444962501526, 30.985029220581055]), (('conv1', 381), [-0.6823444962501526, 30.985029220581055]), (('conv1', 382), [-0.6823444962501526, 30.985029220581055]), (('conv1', 383), [-0.6823444962501526, 30.985029220581055]), (('conv1', 384), [-0.6823444962501526, 30.985029220581055]), (('conv1', 385), [-0.6823444962501526, 30.985029220581055]), (('conv1', 386), [-0.6823444962501526, 30.985029220581055]), (('conv1', 387), [-0.6823444962501526, 30.985029220581055]), (('conv1', 388), [-0.6823444962501526, 30.985029220581055]), (('conv1', 389), [-0.6823444962501526, 30.985029220581055]), (('conv1', 390), [-0.6823444962501526, 30.985029220581055]), (('conv1', 391), [-0.6823444962501526, 30.985029220581055]), (('conv1', 392), [-0.6823444962501526, 30.985029220581055]), (('conv1', 393), [-0.6823444962501526, 30.985029220581055]), (('conv1', 394), [-0.6823444962501526, 30.985029220581055]), (('conv1', 395), [-0.6823444962501526, 30.985029220581055]), (('conv1', 396), [-0.6823444962501526, 30.985029220581055]), (('conv1', 397), [-0.6823444962501526, 30.985029220581055]), (('conv1', 398), [-0.6823444962501526, 30.985029220581055]), (('conv1', 399), [-0.6823444962501526, 30.985029220581055]), (('conv1', 400), [-0.6823444962501526, 30.985029220581055]), (('conv1', 401), [-0.6823444962501526, 30.985029220581055]), (('conv1', 402), [-0.6823444962501526, 30.985029220581055]), (('conv1', 403), [-0.6823444962501526, 30.985029220581055]), (('conv1', 404), [-0.6823444962501526, 30.985029220581055]), (('conv1', 405), [-0.6823444962501526, 30.985029220581055]), (('conv1', 406), [-0.6823444962501526, 30.985029220581055]), (('conv1', 407), [-0.6823444962501526, 30.985029220581055]), (('conv1', 408), [-0.6823444962501526, 30.985029220581055]), (('conv1', 409), [-0.6823444962501526, 30.985029220581055]), (('conv1', 410), [-0.6823444962501526, 30.985029220581055]), (('conv1', 411), [-0.6823444962501526, 30.985029220581055]), (('conv1', 412), [-0.6823444962501526, 30.985029220581055]), (('conv1', 413), [-0.6823444962501526, 30.985029220581055]), (('conv1', 414), [-0.6823444962501526, 30.985029220581055]), (('conv1', 415), [-0.6823444962501526, 30.985029220581055]), (('conv1', 416), [-0.6823444962501526, 30.985029220581055]), (('conv1', 417), [-0.6823444962501526, 30.985029220581055]), (('conv1', 418), [-0.6823444962501526, 30.985029220581055]), (('conv1', 419), [-0.6823444962501526, 30.985029220581055]), (('conv1', 420), [-0.6823444962501526, 30.985029220581055]), (('conv1', 421), [-0.6823444962501526, 30.985029220581055]), (('conv1', 422), [-0.6823444962501526, 30.985029220581055]), (('conv1', 423), [-0.6823444962501526, 30.985029220581055]), (('conv1', 424), [-0.6823444962501526, 30.985029220581055]), (('conv1', 425), [-0.6823444962501526, 30.985029220581055]), (('conv1', 426), [-0.6823444962501526, 30.985029220581055]), (('conv1', 427), [-0.6823444962501526, 30.985029220581055]), (('conv1', 428), [-0.6823444962501526, 30.985029220581055]), (('conv1', 429), [-0.6823444962501526, 30.985029220581055]), (('conv1', 430), [-0.6823444962501526, 30.985029220581055]), (('conv1', 431), [-0.6823444962501526, 30.985029220581055]), (('conv1', 432), [-0.6823444962501526, 30.985029220581055]), (('conv1', 433), [-0.6823444962501526, 30.985029220581055]), (('conv1', 434), [-0.6823444962501526, 30.985029220581055]), (('conv1', 435), [-0.6823444962501526, 30.985029220581055]), (('conv1', 436), [-0.6823444962501526, 30.985029220581055]), (('conv1', 437), [-0.6823444962501526, 30.985029220581055]), (('conv1', 438), [-0.6823444962501526, 30.985029220581055]), (('conv1', 439), [-0.6823444962501526, 30.985029220581055]), (('conv1', 440), [-0.6823444962501526, 30.985029220581055]), (('conv1', 441), [-0.6823444962501526, 30.985029220581055]), (('conv1', 442), [-0.6823444962501526, 30.985029220581055]), (('conv1', 443), [-0.6823444962501526, 30.985029220581055]), (('conv1', 444), [-0.6823444962501526, 30.985029220581055]), (('conv1', 445), [-0.6823444962501526, 30.985029220581055]), (('conv1', 446), [-0.6823444962501526, 30.985029220581055]), (('conv1', 447), [-0.6823444962501526, 30.985029220581055]), (('conv1', 448), [-0.6823444962501526, 30.985029220581055]), (('conv1', 449), [-0.6823444962501526, 30.985029220581055]), (('conv1', 450), [-0.6823444962501526, 30.985029220581055]), (('conv1', 451), [-0.6823444962501526, 30.985029220581055]), (('conv1', 452), [-0.6823444962501526, 30.985029220581055]), (('conv1', 453), [-0.6823444962501526, 30.985029220581055]), (('conv1', 454), [-0.6823444962501526, 30.985029220581055]), (('conv1', 455), [-0.6823444962501526, 30.985029220581055]), (('conv1', 456), [-0.6823444962501526, 30.985029220581055]), (('conv1', 457), [-0.6823444962501526, 30.985029220581055]), (('conv1', 458), [-0.6823444962501526, 30.985029220581055]), (('conv1', 459), [-0.6823444962501526, 30.985029220581055]), (('conv1', 460), [-0.6823444962501526, 30.985029220581055]), (('conv1', 461), [-0.6823444962501526, 30.985029220581055]), (('conv1', 462), [-0.6823444962501526, 30.985029220581055]), (('conv1', 463), [-0.6823444962501526, 30.985029220581055]), (('conv1', 464), [-0.6823444962501526, 30.985029220581055]), (('conv1', 465), [-0.6823444962501526, 30.985029220581055]), (('conv1', 466), [-0.6823444962501526, 30.985029220581055]), (('conv1', 467), [-0.6823444962501526, 30.985029220581055]), (('conv1', 468), [-0.6823444962501526, 30.985029220581055]), (('conv1', 469), [-0.6823444962501526, 30.985029220581055]), (('conv1', 470), [-0.6823444962501526, 30.985029220581055]), (('conv1', 471), [-0.6823444962501526, 30.985029220581055]), (('conv1', 472), [-0.6823444962501526, 30.985029220581055]), (('conv1', 473), [-0.6823444962501526, 30.985029220581055]), (('conv1', 474), [-0.6823444962501526, 30.985029220581055]), (('conv1', 475), [-0.6823444962501526, 30.985029220581055]), (('conv1', 476), [-0.6823444962501526, 30.985029220581055]), (('conv1', 477), [-0.6823444962501526, 30.985029220581055]), (('conv1', 478), [-0.6823444962501526, 30.985029220581055]), (('conv1', 479), [-0.6823444962501526, 30.985029220581055]), (('conv1', 480), [-0.6823444962501526, 30.985029220581055]), (('conv1', 481), [-0.6823444962501526, 30.985029220581055]), (('conv1', 482), [-0.6823444962501526, 30.985029220581055]), (('conv1', 483), [-0.6823444962501526, 30.985029220581055]), (('conv1', 484), [-0.6823444962501526, 30.985029220581055]), (('conv1', 485), [-0.6823444962501526, 30.985029220581055]), (('conv1', 486), [-0.6823444962501526, 30.985029220581055]), (('conv1', 487), [-0.6823444962501526, 30.985029220581055]), (('conv1', 488), [-0.6823444962501526, 30.985029220581055]), (('conv1', 489), [-0.6823444962501526, 30.985029220581055]), (('conv1', 490), [-0.6823444962501526, 30.985029220581055]), (('conv1', 491), [-0.6823444962501526, 30.985029220581055]), (('conv1', 492), [-0.6823444962501526, 30.985029220581055]), (('conv1', 493), [-0.6823444962501526, 30.985029220581055]), (('conv1', 494), [-0.6823444962501526, 30.985029220581055]), (('conv1', 495), [-0.6823444962501526, 30.985029220581055]), (('conv1', 496), [-0.6823444962501526, 30.985029220581055]), (('conv1', 497), [-0.6823444962501526, 30.985029220581055]), (('conv1', 498), [-0.6823444962501526, 30.985029220581055]), (('conv1', 499), [-0.6823444962501526, 30.985029220581055]), (('conv1', 500), [-0.6823444962501526, 30.985029220581055]), (('conv1', 501), [-0.6823444962501526, 30.985029220581055]), (('conv1', 502), [-0.6823444962501526, 30.985029220581055]), (('conv1', 503), [-0.6823444962501526, 30.985029220581055]), (('conv1', 504), [-0.6823444962501526, 30.985029220581055]), (('conv1', 505), [-0.6823444962501526, 30.985029220581055]), (('conv1', 506), [-0.6823444962501526, 30.985029220581055]), (('conv1', 507), [-0.6823444962501526, 30.985029220581055]), (('conv1', 508), [-0.6823444962501526, 30.985029220581055]), (('conv1', 509), [-0.6823444962501526, 30.985029220581055]), (('conv1', 510), [-0.6823444962501526, 30.985029220581055]), (('conv1', 511), [-0.6823444962501526, 30.985029220581055]), (('conv1', 512), [-0.6823444962501526, 30.985029220581055]), (('conv1', 513), [-0.6823444962501526, 30.985029220581055]), (('conv1', 514), [-0.6823444962501526, 30.985029220581055]), (('conv1', 515), [-0.6823444962501526, 30.985029220581055]), (('conv1', 516), [-0.6823444962501526, 30.985029220581055]), (('conv1', 517), [-0.6823444962501526, 30.985029220581055]), (('conv1', 518), [-0.6823444962501526, 30.985029220581055]), (('conv1', 519), [-0.6823444962501526, 30.985029220581055]), (('conv1', 520), [-0.6823444962501526, 30.985029220581055]), (('conv1', 521), [-0.6823444962501526, 30.985029220581055]), (('conv1', 522), [-0.6823444962501526, 30.985029220581055]), (('conv1', 523), [-0.6823444962501526, 30.985029220581055]), (('conv1', 524), [-0.6823444962501526, 30.985029220581055]), (('conv1', 525), [-0.6823444962501526, 30.985029220581055]), (('conv1', 526), [-0.6823444962501526, 30.985029220581055]), (('conv1', 527), [-0.6823444962501526, 30.985029220581055]), (('conv1', 528), [-0.6823444962501526, 30.985029220581055]), (('conv1', 529), [-0.6823444962501526, 30.985029220581055]), (('conv1', 530), [-0.6823444962501526, 30.985029220581055]), (('conv1', 531), [-0.6823444962501526, 30.985029220581055]), (('conv1', 532), [-0.6823444962501526, 30.985029220581055]), (('conv1', 533), [-0.6823444962501526, 30.985029220581055]), (('conv1', 534), [-0.6823444962501526, 30.985029220581055]), (('conv1', 535), [-0.6823444962501526, 30.985029220581055]), (('conv1', 536), [-0.6823444962501526, 30.985029220581055]), (('conv1', 537), [-0.6823444962501526, 30.985029220581055]), (('conv1', 538), [-0.6823444962501526, 30.985029220581055]), (('conv1', 539), [-0.6823444962501526, 30.985029220581055]), (('conv1', 540), [-0.6823444962501526, 30.985029220581055]), (('conv1', 541), [-0.6823444962501526, 30.985029220581055]), (('conv1', 542), [-0.6823444962501526, 30.985029220581055]), (('conv1', 543), [-0.6823444962501526, 30.985029220581055]), (('conv1', 544), [-0.6823444962501526, 30.985029220581055]), (('conv1', 545), [-0.6823444962501526, 30.985029220581055]), (('conv1', 546), [-0.6823444962501526, 30.985029220581055]), (('conv1', 547), [-0.6823444962501526, 30.985029220581055]), (('conv1', 548), [-0.6823444962501526, 30.985029220581055]), (('conv1', 549), [-0.6823444962501526, 30.985029220581055]), (('conv1', 550), [-0.6823444962501526, 30.985029220581055]), (('conv1', 551), [-0.6823444962501526, 30.985029220581055]), (('conv1', 552), [-0.6823444962501526, 30.985029220581055]), (('conv1', 553), [-0.6823444962501526, 30.985029220581055]), (('conv1', 554), [-0.6823444962501526, 30.985029220581055]), (('conv1', 555), [-0.6823444962501526, 30.985029220581055]), (('conv1', 556), [-0.6823444962501526, 30.985029220581055]), (('conv1', 557), [-0.6823444962501526, 30.985029220581055]), (('conv1', 558), [-0.6823444962501526, 30.985029220581055]), (('conv1', 559), [-0.6823444962501526, 30.985029220581055]), (('conv1', 560), [-0.6823444962501526, 30.985029220581055]), (('conv1', 561), [-0.6823444962501526, 30.985029220581055]), (('conv1', 562), [-0.6823444962501526, 30.985029220581055]), (('conv1', 563), [-0.6823444962501526, 30.985029220581055]), (('conv1', 564), [-0.6823444962501526, 30.985029220581055]), (('conv1', 565), [-0.6823444962501526, 30.985029220581055]), (('conv1', 566), [-0.6823444962501526, 30.985029220581055]), (('conv1', 567), [-0.6823444962501526, 30.985029220581055]), (('conv1', 568), [-0.6823444962501526, 30.985029220581055]), (('conv1', 569), [-0.6823444962501526, 30.985029220581055]), (('conv1', 570), [-0.6823444962501526, 30.985029220581055]), (('conv1', 571), [-0.6823444962501526, 30.985029220581055]), (('conv1', 572), [-0.6823444962501526, 30.985029220581055]), (('conv1', 573), [-0.6823444962501526, 30.985029220581055]), (('conv1', 574), [-0.6823444962501526, 30.985029220581055]), (('conv1', 575), [-0.6823444962501526, 30.985029220581055]), (('conv1', 576), [-0.6823444962501526, 30.985029220581055]), (('conv1', 577), [-0.6823444962501526, 30.985029220581055]), (('conv1', 578), [-0.6823444962501526, 30.985029220581055]), (('conv1', 579), [-0.6823444962501526, 30.985029220581055]), (('conv1', 580), [-0.6823444962501526, 30.985029220581055]), (('conv1', 581), [-0.6823444962501526, 30.985029220581055]), (('conv1', 582), [-0.6823444962501526, 30.985029220581055]), (('conv1', 583), [-0.6823444962501526, 30.985029220581055]), (('conv1', 584), [-0.6823444962501526, 30.985029220581055]), (('conv1', 585), [-0.6823444962501526, 30.985029220581055]), (('conv1', 586), [-0.6823444962501526, 30.985029220581055]), (('conv1', 587), [-0.6823444962501526, 30.985029220581055]), (('conv1', 588), [-0.6823444962501526, 30.985029220581055]), (('conv1', 589), [-0.6823444962501526, 30.985029220581055]), (('conv1', 590), [-0.6823444962501526, 30.985029220581055]), (('conv1', 591), [-0.6823444962501526, 30.985029220581055]), (('conv1', 592), [-0.6823444962501526, 30.985029220581055]), (('conv1', 593), [-0.6823444962501526, 30.985029220581055]), (('conv1', 594), [-0.6823444962501526, 30.985029220581055]), (('conv1', 595), [-0.6823444962501526, 30.985029220581055]), (('conv1', 596), [-0.6823444962501526, 30.985029220581055]), (('conv1', 597), [-0.6823444962501526, 30.985029220581055]), (('conv1', 598), [-0.6823444962501526, 30.985029220581055]), (('conv1', 599), [-0.6823444962501526, 30.985029220581055]), (('conv1', 600), [-0.6823444962501526, 30.985029220581055]), (('conv1', 601), [-0.6823444962501526, 30.985029220581055]), (('conv1', 602), [-0.6823444962501526, 30.985029220581055]), (('conv1', 603), [-0.6823444962501526, 30.985029220581055]), (('conv1', 604), [-0.6823444962501526, 30.985029220581055]), (('conv1', 605), [-0.6823444962501526, 30.985029220581055]), (('conv1', 606), [-0.6823444962501526, 30.985029220581055]), (('conv1', 607), [-0.6823444962501526, 30.985029220581055]), (('conv1', 608), [-0.6823444962501526, 30.985029220581055]), (('conv1', 609), [-0.6823444962501526, 30.985029220581055]), (('conv1', 610), [-0.6823444962501526, 30.985029220581055]), (('conv1', 611), [-0.6823444962501526, 30.985029220581055]), (('conv1', 612), [-0.6823444962501526, 30.985029220581055]), (('conv1', 613), [-0.6823444962501526, 30.985029220581055]), (('conv1', 614), [-0.6823444962501526, 30.985029220581055]), (('conv1', 615), [-0.6823444962501526, 30.985029220581055]), (('conv1', 616), [-0.6823444962501526, 30.985029220581055]), (('conv1', 617), [-0.6823444962501526, 30.985029220581055]), (('conv1', 618), [-0.6823444962501526, 30.985029220581055]), (('conv1', 619), [-0.6823444962501526, 30.985029220581055]), (('conv1', 620), [-0.6823444962501526, 30.985029220581055]), (('conv1', 621), [-0.6823444962501526, 30.985029220581055]), (('conv1', 622), [-0.6823444962501526, 30.985029220581055]), (('conv1', 623), [-0.6823444962501526, 30.985029220581055]), (('conv1', 624), [-0.6823444962501526, 30.985029220581055]), (('conv1', 625), [-0.6823444962501526, 30.985029220581055]), (('conv1', 626), [-0.6823444962501526, 30.985029220581055]), (('conv1', 627), [-0.6823444962501526, 30.985029220581055]), (('conv1', 628), [-0.6823444962501526, 30.985029220581055]), (('conv1', 629), [-0.6823444962501526, 30.985029220581055]), (('conv1', 630), [-0.6823444962501526, 30.985029220581055]), (('conv1', 631), [-0.6823444962501526, 30.985029220581055]), (('conv1', 632), [-0.6823444962501526, 30.985029220581055]), (('conv1', 633), [-0.6823444962501526, 30.985029220581055]), (('conv1', 634), [-0.6823444962501526, 30.985029220581055]), (('conv1', 635), [-0.6823444962501526, 30.985029220581055]), (('conv1', 636), [-0.6823444962501526, 30.985029220581055]), (('conv1', 637), [-0.6823444962501526, 30.985029220581055]), (('conv1', 638), [-0.6823444962501526, 30.985029220581055]), (('conv1', 639), [-0.6823444962501526, 30.985029220581055]), (('conv1', 640), [-0.6823444962501526, 30.985029220581055]), (('conv1', 641), [-0.6823444962501526, 30.985029220581055]), (('conv1', 642), [-0.6823444962501526, 30.985029220581055]), (('conv1', 643), [-0.6823444962501526, 30.985029220581055]), (('conv1', 644), [-0.6823444962501526, 30.985029220581055]), (('conv1', 645), [-0.6823444962501526, 30.985029220581055]), (('conv1', 646), [-0.6823444962501526, 30.985029220581055]), (('conv1', 647), [-0.6823444962501526, 30.985029220581055]), (('conv1', 648), [-0.6823444962501526, 30.985029220581055]), (('conv1', 649), [-0.6823444962501526, 30.985029220581055]), (('conv1', 650), [-0.6823444962501526, 30.985029220581055]), (('conv1', 651), [-0.6823444962501526, 30.985029220581055]), (('conv1', 652), [-0.6823444962501526, 30.985029220581055]), (('conv1', 653), [-0.6823444962501526, 30.985029220581055]), (('conv1', 654), [-0.6823444962501526, 30.985029220581055]), (('conv1', 655), [-0.6823444962501526, 30.985029220581055]), (('conv1', 656), [-0.6823444962501526, 30.985029220581055]), (('conv1', 657), [-0.6823444962501526, 30.985029220581055]), (('conv1', 658), [-0.6823444962501526, 30.985029220581055]), (('conv1', 659), [-0.6823444962501526, 30.985029220581055]), (('conv1', 660), [-0.6823444962501526, 30.985029220581055]), (('conv1', 661), [-0.6823444962501526, 30.985029220581055]), (('conv1', 662), [-0.6823444962501526, 30.985029220581055]), (('conv1', 663), [-0.6823444962501526, 30.985029220581055]), (('conv1', 664), [-0.6823444962501526, 30.985029220581055]), (('conv1', 665), [-0.6823444962501526, 30.985029220581055]), (('conv1', 666), [-0.6823444962501526, 30.985029220581055]), (('conv1', 667), [-0.6823444962501526, 30.985029220581055]), (('conv1', 668), [-0.6823444962501526, 30.985029220581055]), (('conv1', 669), [-0.6823444962501526, 30.985029220581055]), (('conv1', 670), [-0.6823444962501526, 30.985029220581055]), (('conv1', 671), [-0.6823444962501526, 30.985029220581055]), (('conv1', 672), [-0.6823444962501526, 30.985029220581055]), (('conv1', 673), [-0.6823444962501526, 30.985029220581055]), (('conv1', 674), [-0.6823444962501526, 30.985029220581055]), (('conv1', 675), [-0.6823444962501526, 30.985029220581055]), (('conv1', 676), [-0.6823444962501526, 30.985029220581055]), (('conv1', 677), [-0.6823444962501526, 30.985029220581055]), (('conv1', 678), [-0.6823444962501526, 30.985029220581055]), (('conv1', 679), [-0.6823444962501526, 30.985029220581055]), (('conv1', 680), [-0.6823444962501526, 30.985029220581055]), (('conv1', 681), [-0.6823444962501526, 30.985029220581055]), (('conv1', 682), [-0.6823444962501526, 30.985029220581055]), (('conv1', 683), [-0.6823444962501526, 30.985029220581055]), (('conv1', 684), [-0.6823444962501526, 30.985029220581055]), (('conv1', 685), [-0.6823444962501526, 30.985029220581055]), (('conv1', 686), [-0.6823444962501526, 30.985029220581055]), (('conv1', 687), [-0.6823444962501526, 30.985029220581055]), (('conv1', 688), [-0.6823444962501526, 30.985029220581055]), (('conv1', 689), [-0.6823444962501526, 30.985029220581055]), (('conv1', 690), [-0.6823444962501526, 30.985029220581055]), (('conv1', 691), [-0.6823444962501526, 30.985029220581055]), (('conv1', 692), [-0.6823444962501526, 30.985029220581055]), (('conv1', 693), [-0.6823444962501526, 30.985029220581055]), (('conv1', 694), [-0.6823444962501526, 30.985029220581055]), (('conv1', 695), [-0.6823444962501526, 30.985029220581055]), (('conv1', 696), [-0.6823444962501526, 30.985029220581055]), (('conv1', 697), [-0.6823444962501526, 30.985029220581055]), (('conv1', 698), [-0.6823444962501526, 30.985029220581055]), (('conv1', 699), [-0.6823444962501526, 30.985029220581055]), (('conv1', 700), [-0.6823444962501526, 30.985029220581055]), (('conv1', 701), [-0.6823444962501526, 30.985029220581055]), (('conv1', 702), [-0.6823444962501526, 30.985029220581055]), (('conv1', 703), [-0.6823444962501526, 30.985029220581055]), (('conv1', 704), [-0.6823444962501526, 30.985029220581055]), (('conv1', 705), [-0.6823444962501526, 30.985029220581055]), (('conv1', 706), [-0.6823444962501526, 30.985029220581055]), (('conv1', 707), [-0.6823444962501526, 30.985029220581055]), (('conv1', 708), [-0.6823444962501526, 30.985029220581055]), (('conv1', 709), [-0.6823444962501526, 30.985029220581055]), (('conv1', 710), [-0.6823444962501526, 30.985029220581055]), (('conv1', 711), [-0.6823444962501526, 30.985029220581055]), (('conv1', 712), [-0.6823444962501526, 30.985029220581055]), (('conv1', 713), [-0.6823444962501526, 30.985029220581055]), (('conv1', 714), [-0.6823444962501526, 30.985029220581055]), (('conv1', 715), [-0.6823444962501526, 30.985029220581055]), (('conv1', 716), [-0.6823444962501526, 30.985029220581055]), (('conv1', 717), [-0.6823444962501526, 30.985029220581055]), (('conv1', 718), [-0.6823444962501526, 30.985029220581055]), (('conv1', 719), [-0.6823444962501526, 30.985029220581055]), (('conv1', 720), [-0.6823444962501526, 30.985029220581055]), (('conv1', 721), [-0.6823444962501526, 30.985029220581055]), (('conv1', 722), [-0.6823444962501526, 30.985029220581055]), (('conv1', 723), [-0.6823444962501526, 30.985029220581055]), (('conv1', 724), [-0.6823444962501526, 30.985029220581055]), (('conv1', 725), [-0.6823444962501526, 30.985029220581055]), (('conv1', 726), [-0.6823444962501526, 30.985029220581055]), (('conv1', 727), [-0.6823444962501526, 30.985029220581055]), (('conv1', 728), [-0.6823444962501526, 30.985029220581055]), (('conv1', 729), [-0.6823444962501526, 30.985029220581055]), (('conv1', 730), [-0.6823444962501526, 30.985029220581055]), (('conv1', 731), [-0.6823444962501526, 30.985029220581055]), (('conv1', 732), [-0.6823444962501526, 30.985029220581055]), (('conv1', 733), [-0.6823444962501526, 30.985029220581055]), (('conv1', 734), [-0.6823444962501526, 30.985029220581055]), (('conv1', 735), [-0.6823444962501526, 30.985029220581055]), (('conv1', 736), [-0.6823444962501526, 30.985029220581055]), (('conv1', 737), [-0.6823444962501526, 30.985029220581055]), (('conv1', 738), [-0.6823444962501526, 30.985029220581055]), (('conv1', 739), [-0.6823444962501526, 30.985029220581055]), (('conv1', 740), [-0.6823444962501526, 30.985029220581055]), (('conv1', 741), [-0.6823444962501526, 30.985029220581055]), (('conv1', 742), [-0.6823444962501526, 30.985029220581055]), (('conv1', 743), [-0.6823444962501526, 30.985029220581055]), (('conv1', 744), [-0.6823444962501526, 30.985029220581055]), (('conv1', 745), [-0.6823444962501526, 30.985029220581055]), (('conv1', 746), [-0.6823444962501526, 30.985029220581055]), (('conv1', 747), [-0.6823444962501526, 30.985029220581055]), (('conv1', 748), [-0.6823444962501526, 30.985029220581055]), (('conv1', 749), [-0.6823444962501526, 30.985029220581055]), (('conv1', 750), [-0.6823444962501526, 30.985029220581055]), (('conv1', 751), [-0.6823444962501526, 30.985029220581055]), (('conv1', 752), [-0.6823444962501526, 30.985029220581055]), (('conv1', 753), [-0.6823444962501526, 30.985029220581055]), (('conv1', 754), [-0.6823444962501526, 30.985029220581055]), (('conv1', 755), [-0.6823444962501526, 30.985029220581055]), (('conv1', 756), [-0.6823444962501526, 30.985029220581055]), (('conv1', 757), [-0.6823444962501526, 30.985029220581055]), (('conv1', 758), [-0.6823444962501526, 30.985029220581055]), (('conv1', 759), [-0.6823444962501526, 30.985029220581055]), (('conv1', 760), [-0.6823444962501526, 30.985029220581055]), (('conv1', 761), [-0.6823444962501526, 30.985029220581055]), (('conv1', 762), [-0.6823444962501526, 30.985029220581055]), (('conv1', 763), [-0.6823444962501526, 30.985029220581055]), (('conv1', 764), [-0.6823444962501526, 30.985029220581055]), (('conv1', 765), [-0.6823444962501526, 30.985029220581055]), (('conv1', 766), [-0.6823444962501526, 30.985029220581055]), (('conv1', 767), [-0.6823444962501526, 30.985029220581055]), (('conv1', 768), [-0.6823444962501526, 30.985029220581055]), (('conv1', 769), [-0.6823444962501526, 30.985029220581055]), (('conv1', 770), [-0.6823444962501526, 30.985029220581055]), (('conv1', 771), [-0.6823444962501526, 30.985029220581055]), (('conv1', 772), [-0.6823444962501526, 30.985029220581055]), (('conv1', 773), [-0.6823444962501526, 30.985029220581055]), (('conv1', 774), [-0.6823444962501526, 30.985029220581055]), (('conv1', 775), [-0.6823444962501526, 30.985029220581055]), (('conv1', 776), [-0.6823444962501526, 30.985029220581055]), (('conv1', 777), [-0.6823444962501526, 30.985029220581055]), (('conv1', 778), [-0.6823444962501526, 30.985029220581055]), (('conv1', 779), [-0.6823444962501526, 30.985029220581055]), (('conv1', 780), [-0.6823444962501526, 30.985029220581055]), (('conv1', 781), [-0.6823444962501526, 30.985029220581055]), (('conv1', 782), [-0.6823444962501526, 30.985029220581055]), (('conv1', 783), [-0.6823444962501526, 30.985029220581055]), (('conv1', 784), [-0.6823444962501526, 30.985029220581055]), (('conv1', 785), [-0.6823444962501526, 30.985029220581055]), (('conv1', 786), [-0.6823444962501526, 30.985029220581055]), (('conv1', 787), [-0.6823444962501526, 30.985029220581055]), (('conv1', 788), [-0.6823444962501526, 30.985029220581055]), (('conv1', 789), [-0.6823444962501526, 30.985029220581055]), (('conv1', 790), [-0.6823444962501526, 30.985029220581055]), (('conv1', 791), [-0.6823444962501526, 30.985029220581055]), (('conv1', 792), [-0.6823444962501526, 30.985029220581055]), (('conv1', 793), [-0.6823444962501526, 30.985029220581055]), (('conv1', 794), [-0.6823444962501526, 30.985029220581055]), (('conv1', 795), [-0.6823444962501526, 30.985029220581055]), (('conv1', 796), [-0.6823444962501526, 30.985029220581055]), (('conv1', 797), [-0.6823444962501526, 30.985029220581055]), (('conv1', 798), [-0.6823444962501526, 30.985029220581055]), (('conv1', 799), [-0.6823444962501526, 30.985029220581055]), (('conv1', 800), [-0.6823444962501526, 30.985029220581055]), (('conv1', 801), [-0.6823444962501526, 30.985029220581055]), (('conv1', 802), [-0.6823444962501526, 30.985029220581055]), (('conv1', 803), [-0.6823444962501526, 30.985029220581055]), (('conv1', 804), [-0.6823444962501526, 30.985029220581055]), (('conv1', 805), [-0.6823444962501526, 30.985029220581055]), (('conv1', 806), [-0.6823444962501526, 30.985029220581055]), (('conv1', 807), [-0.6823444962501526, 30.985029220581055]), (('conv1', 808), [-0.6823444962501526, 30.985029220581055]), (('conv1', 809), [-0.6823444962501526, 30.985029220581055]), (('conv1', 810), [-0.6823444962501526, 30.985029220581055]), (('conv1', 811), [-0.6823444962501526, 30.985029220581055]), (('conv1', 812), [-0.6823444962501526, 30.985029220581055]), (('conv1', 813), [-0.6823444962501526, 30.985029220581055]), (('conv1', 814), [-0.6823444962501526, 30.985029220581055]), (('conv1', 815), [-0.6823444962501526, 30.985029220581055]), (('conv1', 816), [-0.6823444962501526, 30.985029220581055]), (('conv1', 817), [-0.6823444962501526, 30.985029220581055]), (('conv1', 818), [-0.6823444962501526, 30.985029220581055]), (('conv1', 819), [-0.6823444962501526, 30.985029220581055]), (('conv1', 820), [-0.6823444962501526, 30.985029220581055]), (('conv1', 821), [-0.6823444962501526, 30.985029220581055]), (('conv1', 822), [-0.6823444962501526, 30.985029220581055]), (('conv1', 823), [-0.6823444962501526, 30.985029220581055]), (('conv1', 824), [-0.6823444962501526, 30.985029220581055]), (('conv1', 825), [-0.6823444962501526, 30.985029220581055]), (('conv1', 826), [-0.6823444962501526, 30.985029220581055]), (('conv1', 827), [-0.6823444962501526, 30.985029220581055]), (('conv1', 828), [-0.6823444962501526, 30.985029220581055]), (('conv1', 829), [-0.6823444962501526, 30.985029220581055]), (('conv1', 830), [-0.6823444962501526, 30.985029220581055]), (('conv1', 831), [-0.6823444962501526, 30.985029220581055]), (('conv1', 832), [-0.6823444962501526, 30.985029220581055]), (('conv1', 833), [-0.6823444962501526, 30.985029220581055]), (('conv1', 834), [-0.6823444962501526, 30.985029220581055]), (('conv1', 835), [-0.6823444962501526, 30.985029220581055]), (('conv1', 836), [-0.6823444962501526, 30.985029220581055]), (('conv1', 837), [-0.6823444962501526, 30.985029220581055]), (('conv1', 838), [-0.6823444962501526, 30.985029220581055]), (('conv1', 839), [-0.6823444962501526, 30.985029220581055]), (('conv1', 840), [-0.6823444962501526, 30.985029220581055]), (('conv1', 841), [-0.6823444962501526, 30.985029220581055]), (('conv1', 842), [-0.6823444962501526, 30.985029220581055]), (('conv1', 843), [-0.6823444962501526, 30.985029220581055]), (('conv1', 844), [-0.6823444962501526, 30.985029220581055]), (('conv1', 845), [-0.6823444962501526, 30.985029220581055]), (('conv1', 846), [-0.6823444962501526, 30.985029220581055]), (('conv1', 847), [-0.6823444962501526, 30.985029220581055]), (('conv1', 848), [-0.6823444962501526, 30.985029220581055]), (('conv1', 849), [-0.6823444962501526, 30.985029220581055]), (('conv1', 850), [-0.6823444962501526, 30.985029220581055]), (('conv1', 851), [-0.6823444962501526, 30.985029220581055]), (('conv1', 852), [-0.6823444962501526, 30.985029220581055]), (('conv1', 853), [-0.6823444962501526, 30.985029220581055]), (('conv1', 854), [-0.6823444962501526, 30.985029220581055]), (('conv1', 855), [-0.6823444962501526, 30.985029220581055]), (('conv1', 856), [-0.6823444962501526, 30.985029220581055]), (('conv1', 857), [-0.6823444962501526, 30.985029220581055]), (('conv1', 858), [-0.6823444962501526, 30.985029220581055]), (('conv1', 859), [-0.6823444962501526, 30.985029220581055]), (('conv1', 860), [-0.6823444962501526, 30.985029220581055]), (('conv1', 861), [-0.6823444962501526, 30.985029220581055]), (('conv1', 862), [-0.6823444962501526, 30.985029220581055]), (('conv1', 863), [-0.6823444962501526, 30.985029220581055]), (('conv1', 864), [-0.6823444962501526, 30.985029220581055]), (('conv1', 865), [-0.6823444962501526, 30.985029220581055]), (('conv1', 866), [-0.6823444962501526, 30.985029220581055]), (('conv1', 867), [-0.6823444962501526, 30.985029220581055]), (('conv1', 868), [-0.6823444962501526, 30.985029220581055]), (('conv1', 869), [-0.6823444962501526, 30.985029220581055]), (('conv1', 870), [-0.6823444962501526, 30.985029220581055]), (('conv1', 871), [-0.6823444962501526, 30.985029220581055]), (('conv1', 872), [-0.6823444962501526, 30.985029220581055]), (('conv1', 873), [-0.6823444962501526, 30.985029220581055]), (('conv1', 874), [-0.6823444962501526, 30.985029220581055]), (('conv1', 875), [-0.6823444962501526, 30.985029220581055]), (('conv1', 876), [-0.6823444962501526, 30.985029220581055]), (('conv1', 877), [-0.6823444962501526, 30.985029220581055]), (('conv1', 878), [-0.6823444962501526, 30.985029220581055]), (('conv1', 879), [-0.6823444962501526, 30.985029220581055]), (('conv1', 880), [-0.6823444962501526, 30.985029220581055]), (('conv1', 881), [-0.6823444962501526, 30.985029220581055]), (('conv1', 882), [-0.6823444962501526, 30.985029220581055]), (('conv1', 883), [-0.6823444962501526, 30.985029220581055]), (('conv1', 884), [-0.6823444962501526, 30.985029220581055]), (('conv1', 885), [-0.6823444962501526, 30.985029220581055]), (('conv1', 886), [-0.6823444962501526, 30.985029220581055]), (('conv1', 887), [-0.6823444962501526, 30.985029220581055]), (('conv1', 888), [-0.6823444962501526, 30.985029220581055]), (('conv1', 889), [-0.6823444962501526, 30.985029220581055]), (('conv1', 890), [-0.6823444962501526, 30.985029220581055]), (('conv1', 891), [-0.6823444962501526, 30.985029220581055]), (('conv1', 892), [-0.6823444962501526, 30.985029220581055]), (('conv1', 893), [-0.6823444962501526, 30.985029220581055]), (('conv1', 894), [-0.6823444962501526, 30.985029220581055]), (('conv1', 895), [-0.6823444962501526, 30.985029220581055]), (('conv1', 896), [-0.6823444962501526, 30.985029220581055]), (('conv1', 897), [-0.6823444962501526, 30.985029220581055]), (('conv1', 898), [-0.6823444962501526, 30.985029220581055]), (('conv1', 899), [-0.6823444962501526, 30.985029220581055]), (('conv1', 900), [-0.6823444962501526, 30.985029220581055]), (('conv1', 901), [-0.6823444962501526, 30.985029220581055]), (('conv1', 902), [-0.6823444962501526, 30.985029220581055]), (('conv1', 903), [-0.6823444962501526, 30.985029220581055]), (('conv1', 904), [-0.6823444962501526, 30.985029220581055]), (('conv1', 905), [-0.6823444962501526, 30.985029220581055]), (('conv1', 906), [-0.6823444962501526, 30.985029220581055]), (('conv1', 907), [-0.6823444962501526, 30.985029220581055]), (('conv1', 908), [-0.6823444962501526, 30.985029220581055]), (('conv1', 909), [-0.6823444962501526, 30.985029220581055]), (('conv1', 910), [-0.6823444962501526, 30.985029220581055]), (('conv1', 911), [-0.6823444962501526, 30.985029220581055]), (('conv1', 912), [-0.6823444962501526, 30.985029220581055]), (('conv1', 913), [-0.6823444962501526, 30.985029220581055]), (('conv1', 914), [-0.6823444962501526, 30.985029220581055]), (('conv1', 915), [-0.6823444962501526, 30.985029220581055]), (('conv1', 916), [-0.6823444962501526, 30.985029220581055]), (('conv1', 917), [-0.6823444962501526, 30.985029220581055]), (('conv1', 918), [-0.6823444962501526, 30.985029220581055]), (('conv1', 919), [-0.6823444962501526, 30.985029220581055]), (('conv1', 920), [-0.6823444962501526, 30.985029220581055]), (('conv1', 921), [-0.6823444962501526, 30.985029220581055]), (('conv1', 922), [-0.6823444962501526, 30.985029220581055]), (('conv1', 923), [-0.6823444962501526, 30.985029220581055]), (('conv1', 924), [-0.6823444962501526, 30.985029220581055]), (('conv1', 925), [-0.6823444962501526, 30.985029220581055]), (('conv1', 926), [-0.6823444962501526, 30.985029220581055]), (('conv1', 927), [-0.6823444962501526, 30.985029220581055]), (('conv1', 928), [-0.6823444962501526, 30.985029220581055]), (('conv1', 929), [-0.6823444962501526, 30.985029220581055]), (('conv1', 930), [-0.6823444962501526, 30.985029220581055]), (('conv1', 931), [-0.6823444962501526, 30.985029220581055]), (('conv1', 932), [-0.6823444962501526, 30.985029220581055]), (('conv1', 933), [-0.6823444962501526, 30.985029220581055]), (('conv1', 934), [-0.6823444962501526, 30.985029220581055]), (('conv1', 935), [-0.6823444962501526, 30.985029220581055]), (('conv1', 936), [-0.6823444962501526, 30.985029220581055]), (('conv1', 937), [-0.6823444962501526, 30.985029220581055]), (('conv1', 938), [-0.6823444962501526, 30.985029220581055]), (('conv1', 939), [-0.6823444962501526, 30.985029220581055]), (('conv1', 940), [-0.6823444962501526, 30.985029220581055]), (('conv1', 941), [-0.6823444962501526, 30.985029220581055]), (('conv1', 942), [-0.6823444962501526, 30.985029220581055]), (('conv1', 943), [-0.6823444962501526, 30.985029220581055]), (('conv1', 944), [-0.6823444962501526, 30.985029220581055]), (('conv1', 945), [-0.6823444962501526, 30.985029220581055]), (('conv1', 946), [-0.6823444962501526, 30.985029220581055]), (('conv1', 947), [-0.6823444962501526, 30.985029220581055]), (('conv1', 948), [-0.6823444962501526, 30.985029220581055]), (('conv1', 949), [-0.6823444962501526, 30.985029220581055]), (('conv1', 950), [-0.6823444962501526, 30.985029220581055]), (('conv1', 951), [-0.6823444962501526, 30.985029220581055]), (('conv1', 952), [-0.6823444962501526, 30.985029220581055]), (('conv1', 953), [-0.6823444962501526, 30.985029220581055]), (('conv1', 954), [-0.6823444962501526, 30.985029220581055]), (('conv1', 955), [-0.6823444962501526, 30.985029220581055]), (('conv1', 956), [-0.6823444962501526, 30.985029220581055]), (('conv1', 957), [-0.6823444962501526, 30.985029220581055]), (('conv1', 958), [-0.6823444962501526, 30.985029220581055]), (('conv1', 959), [-0.6823444962501526, 30.985029220581055]), (('conv1', 960), [-0.6823444962501526, 30.985029220581055]), (('conv1', 961), [-0.6823444962501526, 30.985029220581055]), (('conv1', 962), [-0.6823444962501526, 30.985029220581055]), (('conv1', 963), [-0.6823444962501526, 30.985029220581055]), (('conv1', 964), [-0.6823444962501526, 30.985029220581055]), (('conv1', 965), [-0.6823444962501526, 30.985029220581055]), (('conv1', 966), [-0.6823444962501526, 30.985029220581055]), (('conv1', 967), [-0.6823444962501526, 30.985029220581055]), (('conv1', 968), [-0.6823444962501526, 30.985029220581055]), (('conv1', 969), [-0.6823444962501526, 30.985029220581055]), (('conv1', 970), [-0.6823444962501526, 30.985029220581055]), (('conv1', 971), [-0.6823444962501526, 30.985029220581055]), (('conv1', 972), [-0.6823444962501526, 30.985029220581055]), (('conv1', 973), [-0.6823444962501526, 30.985029220581055]), (('conv1', 974), [-0.6823444962501526, 30.985029220581055]), (('conv1', 975), [-0.6823444962501526, 30.985029220581055]), (('conv1', 976), [-0.6823444962501526, 30.985029220581055]), (('conv1', 977), [-0.6823444962501526, 30.985029220581055]), (('conv1', 978), [-0.6823444962501526, 30.985029220581055]), (('conv1', 979), [-0.6823444962501526, 30.985029220581055]), (('conv1', 980), [-0.6823444962501526, 30.985029220581055]), (('conv1', 981), [-0.6823444962501526, 30.985029220581055]), (('conv1', 982), [-0.6823444962501526, 30.985029220581055]), (('conv1', 983), [-0.6823444962501526, 30.985029220581055]), (('conv1', 984), [-0.6823444962501526, 30.985029220581055]), (('conv1', 985), [-0.6823444962501526, 30.985029220581055]), (('conv1', 986), [-0.6823444962501526, 30.985029220581055]), (('conv1', 987), [-0.6823444962501526, 30.985029220581055]), (('conv1', 988), [-0.6823444962501526, 30.985029220581055]), (('conv1', 989), [-0.6823444962501526, 30.985029220581055]), (('conv1', 990), [-0.6823444962501526, 30.985029220581055]), (('conv1', 991), [-0.6823444962501526, 30.985029220581055]), (('conv1', 992), [-0.6823444962501526, 30.985029220581055]), (('conv1', 993), [-0.6823444962501526, 30.985029220581055]), (('conv1', 994), [-0.6823444962501526, 30.985029220581055]), (('conv1', 995), [-0.6823444962501526, 30.985029220581055]), (('conv1', 996), [-0.6823444962501526, 30.985029220581055]), (('conv1', 997), [-0.6823444962501526, 30.985029220581055]), (('conv1', 998), [-0.6823444962501526, 30.985029220581055]), (('conv1', 999), [-0.6823444962501526, 30.985029220581055]), (('conv1', 1000), [-0.6823444962501526, 30.985029220581055]), (('conv1', 1001), [-0.6823444962501526, 30.985029220581055]), (('conv1', 1002), [-0.6823444962501526, 30.985029220581055]), (('conv1', 1003), [-0.6823444962501526, 30.985029220581055]), (('conv1', 1004), [-0.6823444962501526, 30.985029220581055]), (('conv1', 1005), [-0.6823444962501526, 30.985029220581055]), (('conv1', 1006), [-0.6823444962501526, 30.985029220581055]), (('conv1', 1007), [-0.6823444962501526, 30.985029220581055]), (('conv1', 1008), [-0.6823444962501526, 30.985029220581055]), (('conv1', 1009), [-0.6823444962501526, 30.985029220581055]), (('conv1', 1010), [-0.6823444962501526, 30.985029220581055]), (('conv1', 1011), [-0.6823444962501526, 30.985029220581055]), (('conv1', 1012), [-0.6823444962501526, 30.985029220581055]), (('conv1', 1013), [-0.6823444962501526, 30.985029220581055]), (('conv1', 1014), [-0.6823444962501526, 30.985029220581055]), (('conv1', 1015), [-0.6823444962501526, 30.985029220581055]), (('conv1', 1016), [-0.6823444962501526, 30.985029220581055]), (('conv1', 1017), [-0.6823444962501526, 30.985029220581055]), (('conv1', 1018), [-0.6823444962501526, 30.985029220581055]), (('conv1', 1019), [-0.6823444962501526, 30.985029220581055]), (('conv1', 1020), [-0.6823444962501526, 30.985029220581055]), (('conv1', 1021), [-0.6823444962501526, 30.985029220581055]), (('conv1', 1022), [-0.6823444962501526, 30.985029220581055]), (('conv1', 1023), [-0.6823444962501526, 30.985029220581055]), (('conv1', 1024), [-0.6823444962501526, 30.985029220581055]), (('conv1', 1025), [-0.6823444962501526, 30.985029220581055]), (('conv1', 1026), [-0.6823444962501526, 30.985029220581055]), (('conv1', 1027), [-0.6823444962501526, 30.985029220581055]), (('conv1', 1028), [-0.6823444962501526, 30.985029220581055]), (('conv1', 1029), [-0.6823444962501526, 30.985029220581055]), (('conv1', 1030), [-0.6823444962501526, 30.985029220581055]), (('conv1', 1031), [-0.6823444962501526, 30.985029220581055]), (('conv1', 1032), [-0.6823444962501526, 30.985029220581055]), (('conv1', 1033), [-0.6823444962501526, 30.985029220581055]), (('conv1', 1034), [-0.6823444962501526, 30.985029220581055]), (('conv1', 1035), [-0.6823444962501526, 30.985029220581055]), (('conv1', 1036), [-0.6823444962501526, 30.985029220581055]), (('conv1', 1037), [-0.6823444962501526, 30.985029220581055]), (('conv1', 1038), [-0.6823444962501526, 30.985029220581055]), (('conv1', 1039), [-0.6823444962501526, 30.985029220581055]), (('conv1', 1040), [-0.6823444962501526, 30.985029220581055]), (('conv1', 1041), [-0.6823444962501526, 30.985029220581055]), (('conv1', 1042), [-0.6823444962501526, 30.985029220581055]), (('conv1', 1043), [-0.6823444962501526, 30.985029220581055]), (('conv1', 1044), [-0.6823444962501526, 30.985029220581055]), (('conv1', 1045), [-0.6823444962501526, 30.985029220581055]), (('conv1', 1046), [-0.6823444962501526, 30.985029220581055]), (('conv1', 1047), [-0.6823444962501526, 30.985029220581055]), (('conv1', 1048), [-0.6823444962501526, 30.985029220581055]), (('conv1', 1049), [-0.6823444962501526, 30.985029220581055]), (('conv1', 1050), [-0.6823444962501526, 30.985029220581055]), (('conv1', 1051), [-0.6823444962501526, 30.985029220581055]), (('conv1', 1052), [-0.6823444962501526, 30.985029220581055]), (('conv1', 1053), [-0.6823444962501526, 30.985029220581055]), (('conv1', 1054), [-0.6823444962501526, 30.985029220581055]), (('conv1', 1055), [-0.6823444962501526, 30.985029220581055]), (('conv1', 1056), [-0.6823444962501526, 30.985029220581055]), (('conv1', 1057), [-0.6823444962501526, 30.985029220581055]), (('conv1', 1058), [-0.6823444962501526, 30.985029220581055]), (('conv1', 1059), [-0.6823444962501526, 30.985029220581055]), (('conv1', 1060), [-0.6823444962501526, 30.985029220581055]), (('conv1', 1061), [-0.6823444962501526, 30.985029220581055]), (('conv1', 1062), [-0.6823444962501526, 30.985029220581055]), (('conv1', 1063), [-0.6823444962501526, 30.985029220581055]), (('conv1', 1064), [-0.6823444962501526, 30.985029220581055]), (('conv1', 1065), [-0.6823444962501526, 30.985029220581055]), (('conv1', 1066), [-0.6823444962501526, 30.985029220581055]), (('conv1', 1067), [-0.6823444962501526, 30.985029220581055]), (('conv1', 1068), [-0.6823444962501526, 30.985029220581055]), (('conv1', 1069), [-0.6823444962501526, 30.985029220581055]), (('conv1', 1070), [-0.6823444962501526, 30.985029220581055]), (('conv1', 1071), [-0.6823444962501526, 30.985029220581055]), (('conv1', 1072), [-0.6823444962501526, 30.985029220581055]), (('conv1', 1073), [-0.6823444962501526, 30.985029220581055]), (('conv1', 1074), [-0.6823444962501526, 30.985029220581055]), (('conv1', 1075), [-0.6823444962501526, 30.985029220581055]), (('conv1', 1076), [-0.6823444962501526, 30.985029220581055]), (('conv1', 1077), [-0.6823444962501526, 30.985029220581055]), (('conv1', 1078), [-0.6823444962501526, 30.985029220581055]), (('conv1', 1079), [-0.6823444962501526, 30.985029220581055]), (('conv1', 1080), [-0.6823444962501526, 30.985029220581055]), (('conv1', 1081), [-0.6823444962501526, 30.985029220581055]), (('conv1', 1082), [-0.6823444962501526, 30.985029220581055]), (('conv1', 1083), [-0.6823444962501526, 30.985029220581055]), (('conv1', 1084), [-0.6823444962501526, 30.985029220581055]), (('conv1', 1085), [-0.6823444962501526, 30.985029220581055]), (('conv1', 1086), [-0.6823444962501526, 30.985029220581055]), (('conv1', 1087), [-0.6823444962501526, 30.985029220581055]), (('conv1', 1088), [-0.6823444962501526, 30.985029220581055]), (('conv1', 1089), [-0.6823444962501526, 30.985029220581055]), (('conv1', 1090), [-0.6823444962501526, 30.985029220581055]), (('conv1', 1091), [-0.6823444962501526, 30.985029220581055]), (('conv1', 1092), [-0.6823444962501526, 30.985029220581055]), (('conv1', 1093), [-0.6823444962501526, 30.985029220581055]), (('conv1', 1094), [-0.6823444962501526, 30.985029220581055]), (('conv1', 1095), [-0.6823444962501526, 30.985029220581055]), (('conv1', 1096), [-0.6823444962501526, 30.985029220581055]), (('conv1', 1097), [-0.6823444962501526, 30.985029220581055]), (('conv1', 1098), [-0.6823444962501526, 30.985029220581055]), (('conv1', 1099), [-0.6823444962501526, 30.985029220581055]), (('conv1', 1100), [-0.6823444962501526, 30.985029220581055]), (('conv1', 1101), [-0.6823444962501526, 30.985029220581055]), (('conv1', 1102), [-0.6823444962501526, 30.985029220581055]), (('conv1', 1103), [-0.6823444962501526, 30.985029220581055]), (('conv1', 1104), [-0.6823444962501526, 30.985029220581055]), (('conv1', 1105), [-0.6823444962501526, 30.985029220581055]), (('conv1', 1106), [-0.6823444962501526, 30.985029220581055]), (('conv1', 1107), [-0.6823444962501526, 30.985029220581055]), (('conv1', 1108), [-0.6823444962501526, 30.985029220581055]), (('conv1', 1109), [-0.6823444962501526, 30.985029220581055]), (('conv1', 1110), [-0.6823444962501526, 30.985029220581055]), (('conv1', 1111), [-0.6823444962501526, 30.985029220581055]), (('conv1', 1112), [-0.6823444962501526, 30.985029220581055]), (('conv1', 1113), [-0.6823444962501526, 30.985029220581055]), (('conv1', 1114), [-0.6823444962501526, 30.985029220581055]), (('conv1', 1115), [-0.6823444962501526, 30.985029220581055]), (('conv1', 1116), [-0.6823444962501526, 30.985029220581055]), (('conv1', 1117), [-0.6823444962501526, 30.985029220581055]), (('conv1', 1118), [-0.6823444962501526, 30.985029220581055]), (('conv1', 1119), [-0.6823444962501526, 30.985029220581055]), (('conv1', 1120), [-0.6823444962501526, 30.985029220581055]), (('conv1', 1121), [-0.6823444962501526, 30.985029220581055]), (('conv1', 1122), [-0.6823444962501526, 30.985029220581055]), (('conv1', 1123), [-0.6823444962501526, 30.985029220581055]), (('conv1', 1124), [-0.6823444962501526, 30.985029220581055]), (('conv1', 1125), [-0.6823444962501526, 30.985029220581055]), (('conv1', 1126), [-0.6823444962501526, 30.985029220581055]), (('conv1', 1127), [-0.6823444962501526, 30.985029220581055]), (('conv1', 1128), [-0.6823444962501526, 30.985029220581055]), (('conv1', 1129), [-0.6823444962501526, 30.985029220581055]), (('conv1', 1130), [-0.6823444962501526, 30.985029220581055]), (('conv1', 1131), [-0.6823444962501526, 30.985029220581055]), (('conv1', 1132), [-0.6823444962501526, 30.985029220581055]), (('conv1', 1133), [-0.6823444962501526, 30.985029220581055]), (('conv1', 1134), [-0.6823444962501526, 30.985029220581055]), (('conv1', 1135), [-0.6823444962501526, 30.985029220581055]), (('conv1', 1136), [-0.6823444962501526, 30.985029220581055]), (('conv1', 1137), [-0.6823444962501526, 30.985029220581055]), (('conv1', 1138), [-0.6823444962501526, 30.985029220581055]), (('conv1', 1139), [-0.6823444962501526, 30.985029220581055]), (('conv1', 1140), [-0.6823444962501526, 30.985029220581055]), (('conv1', 1141), [-0.6823444962501526, 30.985029220581055]), (('conv1', 1142), [-0.6823444962501526, 30.985029220581055]), (('conv1', 1143), [-0.6823444962501526, 30.985029220581055]), (('conv1', 1144), [-0.6823444962501526, 30.985029220581055]), (('conv1', 1145), [-0.6823444962501526, 30.985029220581055]), (('conv1', 1146), [-0.6823444962501526, 30.985029220581055]), (('conv1', 1147), [-0.6823444962501526, 30.985029220581055]), (('conv1', 1148), [-0.6823444962501526, 30.985029220581055]), (('conv1', 1149), [-0.6823444962501526, 30.985029220581055]), (('conv1', 1150), [-0.6823444962501526, 30.985029220581055]), (('conv1', 1151), [-0.6823444962501526, 30.985029220581055]), (('conv1', 1152), [-0.6823444962501526, 30.985029220581055]), (('conv1', 1153), [-0.6823444962501526, 30.985029220581055]), (('conv1', 1154), [-0.6823444962501526, 30.985029220581055]), (('conv1', 1155), [-0.6823444962501526, 30.985029220581055]), (('conv1', 1156), [-0.6823444962501526, 30.985029220581055]), (('conv1', 1157), [-0.6823444962501526, 30.985029220581055]), (('conv1', 1158), [-0.6823444962501526, 30.985029220581055]), (('conv1', 1159), [-0.6823444962501526, 30.985029220581055]), (('conv1', 1160), [-0.6823444962501526, 30.985029220581055]), (('conv1', 1161), [-0.6823444962501526, 30.985029220581055]), (('conv1', 1162), [-0.6823444962501526, 30.985029220581055]), (('conv1', 1163), [-0.6823444962501526, 30.985029220581055]), (('conv1', 1164), [-0.6823444962501526, 30.985029220581055]), (('conv1', 1165), [-0.6823444962501526, 30.985029220581055]), (('conv1', 1166), [-0.6823444962501526, 30.985029220581055]), (('conv1', 1167), [-0.6823444962501526, 30.985029220581055]), (('conv1', 1168), [-0.6823444962501526, 30.985029220581055]), (('conv1', 1169), [-0.6823444962501526, 30.985029220581055]), (('conv1', 1170), [-0.6823444962501526, 30.985029220581055]), (('conv1', 1171), [-0.6823444962501526, 30.985029220581055]), (('conv1', 1172), [-0.6823444962501526, 30.985029220581055]), (('conv1', 1173), [-0.6823444962501526, 30.985029220581055]), (('conv1', 1174), [-0.6823444962501526, 30.985029220581055]), (('conv1', 1175), [-0.6823444962501526, 30.985029220581055]), (('conv1', 1176), [-0.6823444962501526, 30.985029220581055]), (('conv1', 1177), [-0.6823444962501526, 30.985029220581055]), (('conv1', 1178), [-0.6823444962501526, 30.985029220581055]), (('conv1', 1179), [-0.6823444962501526, 30.985029220581055]), (('conv1', 1180), [-0.6823444962501526, 30.985029220581055]), (('conv1', 1181), [-0.6823444962501526, 30.985029220581055]), (('conv1', 1182), [-0.6823444962501526, 30.985029220581055]), (('conv1', 1183), [-0.6823444962501526, 30.985029220581055]), (('conv1', 1184), [-0.6823444962501526, 30.985029220581055]), (('conv1', 1185), [-0.6823444962501526, 30.985029220581055]), (('conv1', 1186), [-0.6823444962501526, 30.985029220581055]), (('conv1', 1187), [-0.6823444962501526, 30.985029220581055]), (('conv1', 1188), [-0.6823444962501526, 30.985029220581055]), (('conv1', 1189), [-0.6823444962501526, 30.985029220581055]), (('conv1', 1190), [-0.6823444962501526, 30.985029220581055]), (('conv1', 1191), [-0.6823444962501526, 30.985029220581055]), (('conv1', 1192), [-0.6823444962501526, 30.985029220581055]), (('conv1', 1193), [-0.6823444962501526, 30.985029220581055]), (('conv1', 1194), [-0.6823444962501526, 30.985029220581055]), (('conv1', 1195), [-0.6823444962501526, 30.985029220581055]), (('conv1', 1196), [-0.6823444962501526, 30.985029220581055]), (('conv1', 1197), [-0.6823444962501526, 30.985029220581055]), (('conv1', 1198), [-0.6823444962501526, 30.985029220581055]), (('conv1', 1199), [-0.6823444962501526, 30.985029220581055]), (('conv1', 1200), [-0.6823444962501526, 30.985029220581055]), (('conv1', 1201), [-0.6823444962501526, 30.985029220581055]), (('conv1', 1202), [-0.6823444962501526, 30.985029220581055]), (('conv1', 1203), [-0.6823444962501526, 30.985029220581055]), (('conv1', 1204), [-0.6823444962501526, 30.985029220581055]), (('conv1', 1205), [-0.6823444962501526, 30.985029220581055]), (('conv1', 1206), [-0.6823444962501526, 30.985029220581055]), (('conv1', 1207), [-0.6823444962501526, 30.985029220581055]), (('conv1', 1208), [-0.6823444962501526, 30.985029220581055]), (('conv1', 1209), [-0.6823444962501526, 30.985029220581055]), (('conv1', 1210), [-0.6823444962501526, 30.985029220581055]), (('conv1', 1211), [-0.6823444962501526, 30.985029220581055]), (('conv1', 1212), [-0.6823444962501526, 30.985029220581055]), (('conv1', 1213), [-0.6823444962501526, 30.985029220581055]), (('conv1', 1214), [-0.6823444962501526, 30.985029220581055]), (('conv1', 1215), [-0.6823444962501526, 30.985029220581055]), (('conv1', 1216), [-0.6823444962501526, 30.985029220581055]), (('conv1', 1217), [-0.6823444962501526, 30.985029220581055]), (('conv1', 1218), [-0.6823444962501526, 30.985029220581055]), (('conv1', 1219), [-0.6823444962501526, 30.985029220581055]), (('conv1', 1220), [-0.6823444962501526, 30.985029220581055]), (('conv1', 1221), [-0.6823444962501526, 30.985029220581055]), (('conv1', 1222), [-0.6823444962501526, 30.985029220581055]), (('conv1', 1223), [-0.6823444962501526, 30.985029220581055]), (('conv1', 1224), [-0.6823444962501526, 30.985029220581055]), (('conv1', 1225), [-0.6823444962501526, 30.985029220581055]), (('conv1', 1226), [-0.6823444962501526, 30.985029220581055]), (('conv1', 1227), [-0.6823444962501526, 30.985029220581055]), (('conv1', 1228), [-0.6823444962501526, 30.985029220581055]), (('conv1', 1229), [-0.6823444962501526, 30.985029220581055]), (('conv1', 1230), [-0.6823444962501526, 30.985029220581055]), (('conv1', 1231), [-0.6823444962501526, 30.985029220581055]), (('conv1', 1232), [-0.6823444962501526, 30.985029220581055]), (('conv1', 1233), [-0.6823444962501526, 30.985029220581055]), (('conv1', 1234), [-0.6823444962501526, 30.985029220581055]), (('conv1', 1235), [-0.6823444962501526, 30.985029220581055]), (('conv1', 1236), [-0.6823444962501526, 30.985029220581055]), (('conv1', 1237), [-0.6823444962501526, 30.985029220581055]), (('conv1', 1238), [-0.6823444962501526, 30.985029220581055]), (('conv1', 1239), [-0.6823444962501526, 30.985029220581055]), (('conv1', 1240), [-0.6823444962501526, 30.985029220581055]), (('conv1', 1241), [-0.6823444962501526, 30.985029220581055]), (('conv1', 1242), [-0.6823444962501526, 30.985029220581055]), (('conv1', 1243), [-0.6823444962501526, 30.985029220581055]), (('conv1', 1244), [-0.6823444962501526, 30.985029220581055]), (('conv1', 1245), [-0.6823444962501526, 30.985029220581055]), (('conv1', 1246), [-0.6823444962501526, 30.985029220581055]), (('conv1', 1247), [-0.6823444962501526, 30.985029220581055]), (('conv1', 1248), [-0.6823444962501526, 30.985029220581055]), (('conv1', 1249), [-0.6823444962501526, 30.985029220581055]), (('conv1', 1250), [-0.6823444962501526, 30.985029220581055]), (('conv1', 1251), [-0.6823444962501526, 30.985029220581055]), (('conv1', 1252), [-0.6823444962501526, 30.985029220581055]), (('conv1', 1253), [-0.6823444962501526, 30.985029220581055]), (('conv1', 1254), [-0.6823444962501526, 30.985029220581055]), (('conv1', 1255), [-0.6823444962501526, 30.985029220581055]), (('conv1', 1256), [-0.6823444962501526, 30.985029220581055]), (('conv1', 1257), [-0.6823444962501526, 30.985029220581055]), (('conv1', 1258), [-0.6823444962501526, 30.985029220581055]), (('conv1', 1259), [-0.6823444962501526, 30.985029220581055]), (('conv1', 1260), [-0.6823444962501526, 30.985029220581055]), (('conv1', 1261), [-0.6823444962501526, 30.985029220581055]), (('conv1', 1262), [-0.6823444962501526, 30.985029220581055]), (('conv1', 1263), [-0.6823444962501526, 30.985029220581055]), (('conv1', 1264), [-0.6823444962501526, 30.985029220581055]), (('conv1', 1265), [-0.6823444962501526, 30.985029220581055]), (('conv1', 1266), [-0.6823444962501526, 30.985029220581055]), (('conv1', 1267), [-0.6823444962501526, 30.985029220581055]), (('conv1', 1268), [-0.6823444962501526, 30.985029220581055]), (('conv1', 1269), [-0.6823444962501526, 30.985029220581055]), (('conv1', 1270), [-0.6823444962501526, 30.985029220581055]), (('conv1', 1271), [-0.6823444962501526, 30.985029220581055]), (('conv1', 1272), [-0.6823444962501526, 30.985029220581055]), (('conv1', 1273), [-0.6823444962501526, 30.985029220581055]), (('conv1', 1274), [-0.6823444962501526, 30.985029220581055]), (('conv1', 1275), [-0.6823444962501526, 30.985029220581055]), (('conv1', 1276), [-0.6823444962501526, 30.985029220581055]), (('conv1', 1277), [-0.6823444962501526, 30.985029220581055]), (('conv1', 1278), [-0.6823444962501526, 30.985029220581055]), (('conv1', 1279), [-0.6823444962501526, 30.985029220581055]), (('conv1', 1280), [-0.6823444962501526, 30.985029220581055]), (('conv1', 1281), [-0.6823444962501526, 30.985029220581055]), (('conv1', 1282), [-0.6823444962501526, 30.985029220581055]), (('conv1', 1283), [-0.6823444962501526, 30.985029220581055]), (('conv1', 1284), [-0.6823444962501526, 30.985029220581055]), (('conv1', 1285), [-0.6823444962501526, 30.985029220581055]), (('conv1', 1286), [-0.6823444962501526, 30.985029220581055]), (('conv1', 1287), [-0.6823444962501526, 30.985029220581055]), (('conv1', 1288), [-0.6823444962501526, 30.985029220581055]), (('conv1', 1289), [-0.6823444962501526, 30.985029220581055]), (('conv1', 1290), [-0.6823444962501526, 30.985029220581055]), (('conv1', 1291), [-0.6823444962501526, 30.985029220581055]), (('conv1', 1292), [-0.6823444962501526, 30.985029220581055]), (('conv1', 1293), [-0.6823444962501526, 30.985029220581055]), (('conv1', 1294), [-0.6823444962501526, 30.985029220581055]), (('conv1', 1295), [-0.6823444962501526, 30.985029220581055]), (('conv1', 1296), [-0.6823444962501526, 30.985029220581055]), (('conv1', 1297), [-0.6823444962501526, 30.985029220581055]), (('conv1', 1298), [-0.6823444962501526, 30.985029220581055]), (('conv1', 1299), [-0.6823444962501526, 30.985029220581055]), (('conv1', 1300), [-0.6823444962501526, 30.985029220581055]), (('conv1', 1301), [-0.6823444962501526, 30.985029220581055]), (('conv1', 1302), [-0.6823444962501526, 30.985029220581055]), (('conv1', 1303), [-0.6823444962501526, 30.985029220581055]), (('conv1', 1304), [-0.6823444962501526, 30.985029220581055]), (('conv1', 1305), [-0.6823444962501526, 30.985029220581055]), (('conv1', 1306), [-0.6823444962501526, 30.985029220581055]), (('conv1', 1307), [-0.6823444962501526, 30.985029220581055]), (('conv1', 1308), [-0.6823444962501526, 30.985029220581055]), (('conv1', 1309), [-0.6823444962501526, 30.985029220581055]), (('conv1', 1310), [-0.6823444962501526, 30.985029220581055]), (('conv1', 1311), [-0.6823444962501526, 30.985029220581055]), (('conv1', 1312), [-0.6823444962501526, 30.985029220581055]), (('conv1', 1313), [-0.6823444962501526, 30.985029220581055]), (('conv1', 1314), [-0.6823444962501526, 30.985029220581055]), (('conv1', 1315), [-0.6823444962501526, 30.985029220581055]), (('conv1', 1316), [-0.6823444962501526, 30.985029220581055]), (('conv1', 1317), [-0.6823444962501526, 30.985029220581055]), (('conv1', 1318), [-0.6823444962501526, 30.985029220581055]), (('conv1', 1319), [-0.6823444962501526, 30.985029220581055]), (('conv1', 1320), [-0.6823444962501526, 30.985029220581055]), (('conv1', 1321), [-0.6823444962501526, 30.985029220581055]), (('conv1', 1322), [-0.6823444962501526, 30.985029220581055]), (('conv1', 1323), [-0.6823444962501526, 30.985029220581055]), (('conv1', 1324), [-0.6823444962501526, 30.985029220581055]), (('conv1', 1325), [-0.6823444962501526, 30.985029220581055]), (('conv1', 1326), [-0.6823444962501526, 30.985029220581055]), (('conv1', 1327), [-0.6823444962501526, 30.985029220581055]), (('conv1', 1328), [-0.6823444962501526, 30.985029220581055]), (('conv1', 1329), [-0.6823444962501526, 30.985029220581055]), (('conv1', 1330), [-0.6823444962501526, 30.985029220581055]), (('conv1', 1331), [-0.6823444962501526, 30.985029220581055]), (('conv1', 1332), [-0.6823444962501526, 30.985029220581055]), (('conv1', 1333), [-0.6823444962501526, 30.985029220581055]), (('conv1', 1334), [-0.6823444962501526, 30.985029220581055]), (('conv1', 1335), [-0.6823444962501526, 30.985029220581055]), (('conv1', 1336), [-0.6823444962501526, 30.985029220581055]), (('conv1', 1337), [-0.6823444962501526, 30.985029220581055]), (('conv1', 1338), [-0.6823444962501526, 30.985029220581055]), (('conv1', 1339), [-0.6823444962501526, 30.985029220581055]), (('conv1', 1340), [-0.6823444962501526, 30.985029220581055]), (('conv1', 1341), [-0.6823444962501526, 30.985029220581055]), (('conv1', 1342), [-0.6823444962501526, 30.985029220581055]), (('conv1', 1343), [-0.6823444962501526, 30.985029220581055]), (('conv1', 1344), [-0.6823444962501526, 30.985029220581055]), (('conv1', 1345), [-0.6823444962501526, 30.985029220581055]), (('conv1', 1346), [-0.6823444962501526, 30.985029220581055]), (('conv1', 1347), [-0.6823444962501526, 30.985029220581055]), (('conv1', 1348), [-0.6823444962501526, 30.985029220581055]), (('conv1', 1349), [-0.6823444962501526, 30.985029220581055]), (('conv1', 1350), [-0.6823444962501526, 30.985029220581055]), (('conv1', 1351), [-0.6823444962501526, 30.985029220581055]), (('conv1', 1352), [-0.6823444962501526, 30.985029220581055]), (('conv1', 1353), [-0.6823444962501526, 30.985029220581055]), (('conv1', 1354), [-0.6823444962501526, 30.985029220581055]), (('conv1', 1355), [-0.6823444962501526, 30.985029220581055]), (('conv1', 1356), [-0.6823444962501526, 30.985029220581055]), (('conv1', 1357), [-0.6823444962501526, 30.985029220581055]), (('conv1', 1358), [-0.6823444962501526, 30.985029220581055]), (('conv1', 1359), [-0.6823444962501526, 30.985029220581055]), (('conv1', 1360), [-0.6823444962501526, 30.985029220581055]), (('conv1', 1361), [-0.6823444962501526, 30.985029220581055]), (('conv1', 1362), [-0.6823444962501526, 30.985029220581055]), (('conv1', 1363), [-0.6823444962501526, 30.985029220581055]), (('conv1', 1364), [-0.6823444962501526, 30.985029220581055]), (('conv1', 1365), [-0.6823444962501526, 30.985029220581055]), (('conv1', 1366), [-0.6823444962501526, 30.985029220581055]), (('conv1', 1367), [-0.6823444962501526, 30.985029220581055]), (('conv1', 1368), [-0.6823444962501526, 30.985029220581055]), (('conv1', 1369), [-0.6823444962501526, 30.985029220581055]), (('conv1', 1370), [-0.6823444962501526, 30.985029220581055]), (('conv1', 1371), [-0.6823444962501526, 30.985029220581055]), (('conv1', 1372), [-0.6823444962501526, 30.985029220581055]), (('conv1', 1373), [-0.6823444962501526, 30.985029220581055]), (('conv1', 1374), [-0.6823444962501526, 30.985029220581055]), (('conv1', 1375), [-0.6823444962501526, 30.985029220581055]), (('conv1', 1376), [-0.6823444962501526, 30.985029220581055]), (('conv1', 1377), [-0.6823444962501526, 30.985029220581055]), (('conv1', 1378), [-0.6823444962501526, 30.985029220581055]), (('conv1', 1379), [-0.6823444962501526, 30.985029220581055]), (('conv1', 1380), [-0.6823444962501526, 30.985029220581055]), (('conv1', 1381), [-0.6823444962501526, 30.985029220581055]), (('conv1', 1382), [-0.6823444962501526, 30.985029220581055]), (('conv1', 1383), [-0.6823444962501526, 30.985029220581055]), (('conv1', 1384), [-0.6823444962501526, 30.985029220581055]), (('conv1', 1385), [-0.6823444962501526, 30.985029220581055]), (('conv1', 1386), [-0.6823444962501526, 30.985029220581055]), (('conv1', 1387), [-0.6823444962501526, 30.985029220581055]), (('conv1', 1388), [-0.6823444962501526, 30.985029220581055]), (('conv1', 1389), [-0.6823444962501526, 30.985029220581055]), (('conv1', 1390), [-0.6823444962501526, 30.985029220581055]), (('conv1', 1391), [-0.6823444962501526, 30.985029220581055]), (('conv1', 1392), [-0.6823444962501526, 30.985029220581055]), (('conv1', 1393), [-0.6823444962501526, 30.985029220581055]), (('conv1', 1394), [-0.6823444962501526, 30.985029220581055]), (('conv1', 1395), [-0.6823444962501526, 30.985029220581055]), (('conv1', 1396), [-0.6823444962501526, 30.985029220581055]), (('conv1', 1397), [-0.6823444962501526, 30.985029220581055]), (('conv1', 1398), [-0.6823444962501526, 30.985029220581055]), (('conv1', 1399), [-0.6823444962501526, 30.985029220581055]), (('conv1', 1400), [-0.6823444962501526, 30.985029220581055]), (('conv1', 1401), [-0.6823444962501526, 30.985029220581055]), (('conv1', 1402), [-0.6823444962501526, 30.985029220581055]), (('conv1', 1403), [-0.6823444962501526, 30.985029220581055]), (('conv1', 1404), [-0.6823444962501526, 30.985029220581055]), (('conv1', 1405), [-0.6823444962501526, 30.985029220581055]), (('conv1', 1406), [-0.6823444962501526, 30.985029220581055]), (('conv1', 1407), [-0.6823444962501526, 30.985029220581055]), (('conv1', 1408), [-0.6823444962501526, 30.985029220581055]), (('conv1', 1409), [-0.6823444962501526, 30.985029220581055]), (('conv1', 1410), [-0.6823444962501526, 30.985029220581055]), (('conv1', 1411), [-0.6823444962501526, 30.985029220581055]), (('conv1', 1412), [-0.6823444962501526, 30.985029220581055]), (('conv1', 1413), [-0.6823444962501526, 30.985029220581055]), (('conv1', 1414), [-0.6823444962501526, 30.985029220581055]), (('conv1', 1415), [-0.6823444962501526, 30.985029220581055]), (('conv1', 1416), [-0.6823444962501526, 30.985029220581055]), (('conv1', 1417), [-0.6823444962501526, 30.985029220581055]), (('conv1', 1418), [-0.6823444962501526, 30.985029220581055]), (('conv1', 1419), [-0.6823444962501526, 30.985029220581055]), (('conv1', 1420), [-0.6823444962501526, 30.985029220581055]), (('conv1', 1421), [-0.6823444962501526, 30.985029220581055]), (('conv1', 1422), [-0.6823444962501526, 30.985029220581055]), (('conv1', 1423), [-0.6823444962501526, 30.985029220581055]), (('conv1', 1424), [-0.6823444962501526, 30.985029220581055]), (('conv1', 1425), [-0.6823444962501526, 30.985029220581055]), (('conv1', 1426), [-0.6823444962501526, 30.985029220581055]), (('conv1', 1427), [-0.6823444962501526, 30.985029220581055]), (('conv1', 1428), [-0.6823444962501526, 30.985029220581055]), (('conv1', 1429), [-0.6823444962501526, 30.985029220581055]), (('conv1', 1430), [-0.6823444962501526, 30.985029220581055]), (('conv1', 1431), [-0.6823444962501526, 30.985029220581055]), (('conv1', 1432), [-0.6823444962501526, 30.985029220581055]), (('conv1', 1433), [-0.6823444962501526, 30.985029220581055]), (('conv1', 1434), [-0.6823444962501526, 30.985029220581055]), (('conv1', 1435), [-0.6823444962501526, 30.985029220581055]), (('conv1', 1436), [-0.6823444962501526, 30.985029220581055]), (('conv1', 1437), [-0.6823444962501526, 30.985029220581055]), (('conv1', 1438), [-0.6823444962501526, 30.985029220581055]), (('conv1', 1439), [-0.6823444962501526, 30.985029220581055]), (('conv1', 1440), [-0.6823444962501526, 30.985029220581055]), (('conv1', 1441), [-0.6823444962501526, 30.985029220581055]), (('conv1', 1442), [-0.6823444962501526, 30.985029220581055]), (('conv1', 1443), [-0.6823444962501526, 30.985029220581055]), (('conv1', 1444), [-0.6823444962501526, 30.985029220581055]), (('conv1', 1445), [-0.6823444962501526, 30.985029220581055]), (('conv1', 1446), [-0.6823444962501526, 30.985029220581055]), (('conv1', 1447), [-0.6823444962501526, 30.985029220581055]), (('conv1', 1448), [-0.6823444962501526, 30.985029220581055]), (('conv1', 1449), [-0.6823444962501526, 30.985029220581055]), (('conv1', 1450), [-0.6823444962501526, 30.985029220581055]), (('conv1', 1451), [-0.6823444962501526, 30.985029220581055]), (('conv1', 1452), [-0.6823444962501526, 30.985029220581055]), (('conv1', 1453), [-0.6823444962501526, 30.985029220581055]), (('conv1', 1454), [-0.6823444962501526, 30.985029220581055]), (('conv1', 1455), [-0.6823444962501526, 30.985029220581055]), (('conv1', 1456), [-0.6823444962501526, 30.985029220581055]), (('conv1', 1457), [-0.6823444962501526, 30.985029220581055]), (('conv1', 1458), [-0.6823444962501526, 30.985029220581055]), (('conv1', 1459), [-0.6823444962501526, 30.985029220581055]), (('conv1', 1460), [-0.6823444962501526, 30.985029220581055]), (('conv1', 1461), [-0.6823444962501526, 30.985029220581055]), (('conv1', 1462), [-0.6823444962501526, 30.985029220581055]), (('conv1', 1463), [-0.6823444962501526, 30.985029220581055]), (('conv1', 1464), [-0.6823444962501526, 30.985029220581055]), (('conv1', 1465), [-0.6823444962501526, 30.985029220581055]), (('conv1', 1466), [-0.6823444962501526, 30.985029220581055]), (('conv1', 1467), [-0.6823444962501526, 30.985029220581055]), (('conv1', 1468), [-0.6823444962501526, 30.985029220581055]), (('conv1', 1469), [-0.6823444962501526, 30.985029220581055]), (('conv1', 1470), [-0.6823444962501526, 30.985029220581055]), (('conv1', 1471), [-0.6823444962501526, 30.985029220581055]), (('conv1', 1472), [-0.6823444962501526, 30.985029220581055]), (('conv1', 1473), [-0.6823444962501526, 30.985029220581055]), (('conv1', 1474), [-0.6823444962501526, 30.985029220581055]), (('conv1', 1475), [-0.6823444962501526, 30.985029220581055]), (('conv1', 1476), [-0.6823444962501526, 30.985029220581055]), (('conv1', 1477), [-0.6823444962501526, 30.985029220581055]), (('conv1', 1478), [-0.6823444962501526, 30.985029220581055]), (('conv1', 1479), [-0.6823444962501526, 30.985029220581055]), (('conv1', 1480), [-0.6823444962501526, 30.985029220581055]), (('conv1', 1481), [-0.6823444962501526, 30.985029220581055]), (('conv1', 1482), [-0.6823444962501526, 30.985029220581055]), (('conv1', 1483), [-0.6823444962501526, 30.985029220581055]), (('conv1', 1484), [-0.6823444962501526, 30.985029220581055]), (('conv1', 1485), [-0.6823444962501526, 30.985029220581055]), (('conv1', 1486), [-0.6823444962501526, 30.985029220581055]), (('conv1', 1487), [-0.6823444962501526, 30.985029220581055]), (('conv1', 1488), [-0.6823444962501526, 30.985029220581055]), (('conv1', 1489), [-0.6823444962501526, 30.985029220581055]), (('conv1', 1490), [-0.6823444962501526, 30.985029220581055]), (('conv1', 1491), [-0.6823444962501526, 30.985029220581055]), (('conv1', 1492), [-0.6823444962501526, 30.985029220581055]), (('conv1', 1493), [-0.6823444962501526, 30.985029220581055]), (('conv1', 1494), [-0.6823444962501526, 30.985029220581055]), (('conv1', 1495), [-0.6823444962501526, 30.985029220581055]), (('conv1', 1496), [-0.6823444962501526, 30.985029220581055]), (('conv1', 1497), [-0.6823444962501526, 30.985029220581055]), (('conv1', 1498), [-0.6823444962501526, 30.985029220581055]), (('conv1', 1499), [-0.6823444962501526, 30.985029220581055]), (('conv1', 1500), [-0.6823444962501526, 30.985029220581055]), (('conv1', 1501), [-0.6823444962501526, 30.985029220581055]), (('conv1', 1502), [-0.6823444962501526, 30.985029220581055]), (('conv1', 1503), [-0.6823444962501526, 30.985029220581055]), (('conv1', 1504), [-0.6823444962501526, 30.985029220581055]), (('conv1', 1505), [-0.6823444962501526, 30.985029220581055]), (('conv1', 1506), [-0.6823444962501526, 30.985029220581055]), (('conv1', 1507), [-0.6823444962501526, 30.985029220581055]), (('conv1', 1508), [-0.6823444962501526, 30.985029220581055]), (('conv1', 1509), [-0.6823444962501526, 30.985029220581055]), (('conv1', 1510), [-0.6823444962501526, 30.985029220581055]), (('conv1', 1511), [-0.6823444962501526, 30.985029220581055]), (('conv1', 1512), [-0.6823444962501526, 30.985029220581055]), (('conv1', 1513), [-0.6823444962501526, 30.985029220581055]), (('conv1', 1514), [-0.6823444962501526, 30.985029220581055]), (('conv1', 1515), [-0.6823444962501526, 30.985029220581055]), (('conv1', 1516), [-0.6823444962501526, 30.985029220581055]), (('conv1', 1517), [-0.6823444962501526, 30.985029220581055]), (('conv1', 1518), [-0.6823444962501526, 30.985029220581055]), (('conv1', 1519), [-0.6823444962501526, 30.985029220581055]), (('conv1', 1520), [-0.6823444962501526, 30.985029220581055]), (('conv1', 1521), [-0.6823444962501526, 30.985029220581055]), (('conv1', 1522), [-0.6823444962501526, 30.985029220581055]), (('conv1', 1523), [-0.6823444962501526, 30.985029220581055]), (('conv1', 1524), [-0.6823444962501526, 30.985029220581055]), (('conv1', 1525), [-0.6823444962501526, 30.985029220581055]), (('conv1', 1526), [-0.6823444962501526, 30.985029220581055]), (('conv1', 1527), [-0.6823444962501526, 30.985029220581055]), (('conv1', 1528), [-0.6823444962501526, 30.985029220581055]), (('conv1', 1529), [-0.6823444962501526, 30.985029220581055]), (('conv1', 1530), [-0.6823444962501526, 30.985029220581055]), (('conv1', 1531), [-0.6823444962501526, 30.985029220581055]), (('conv1', 1532), [-0.6823444962501526, 30.985029220581055]), (('conv1', 1533), [-0.6823444962501526, 30.985029220581055]), (('conv1', 1534), [-0.6823444962501526, 30.985029220581055]), (('conv1', 1535), [-0.6823444962501526, 30.985029220581055]), (('conv1', 1536), [-0.6823444962501526, 30.985029220581055]), (('conv1', 1537), [-0.6823444962501526, 30.985029220581055]), (('conv1', 1538), [-0.6823444962501526, 30.985029220581055]), (('conv1', 1539), [-0.6823444962501526, 30.985029220581055]), (('conv1', 1540), [-0.6823444962501526, 30.985029220581055]), (('conv1', 1541), [-0.6823444962501526, 30.985029220581055]), (('conv1', 1542), [-0.6823444962501526, 30.985029220581055]), (('conv1', 1543), [-0.6823444962501526, 30.985029220581055]), (('conv1', 1544), [-0.6823444962501526, 30.985029220581055]), (('conv1', 1545), [-0.6823444962501526, 30.985029220581055]), (('conv1', 1546), [-0.6823444962501526, 30.985029220581055]), (('conv1', 1547), [-0.6823444962501526, 30.985029220581055]), (('conv1', 1548), [-0.6823444962501526, 30.985029220581055]), (('conv1', 1549), [-0.6823444962501526, 30.985029220581055]), (('conv1', 1550), [-0.6823444962501526, 30.985029220581055]), (('conv1', 1551), [-0.6823444962501526, 30.985029220581055]), (('conv1', 1552), [-0.6823444962501526, 30.985029220581055]), (('conv1', 1553), [-0.6823444962501526, 30.985029220581055]), (('conv1', 1554), [-0.6823444962501526, 30.985029220581055]), (('conv1', 1555), [-0.6823444962501526, 30.985029220581055]), (('conv1', 1556), [-0.6823444962501526, 30.985029220581055]), (('conv1', 1557), [-0.6823444962501526, 30.985029220581055]), (('conv1', 1558), [-0.6823444962501526, 30.985029220581055]), (('conv1', 1559), [-0.6823444962501526, 30.985029220581055]), (('conv1', 1560), [-0.6823444962501526, 30.985029220581055]), (('conv1', 1561), [-0.6823444962501526, 30.985029220581055]), (('conv1', 1562), [-0.6823444962501526, 30.985029220581055]), (('conv1', 1563), [-0.6823444962501526, 30.985029220581055]), (('conv1', 1564), [-0.6823444962501526, 30.985029220581055]), (('conv1', 1565), [-0.6823444962501526, 30.985029220581055]), (('conv1', 1566), [-0.6823444962501526, 30.985029220581055]), (('conv1', 1567), [-0.6823444962501526, 30.985029220581055]), (('conv1', 1568), [-0.6823444962501526, 30.985029220581055]), (('conv1', 1569), [-0.6823444962501526, 30.985029220581055]), (('conv1', 1570), [-0.6823444962501526, 30.985029220581055]), (('conv1', 1571), [-0.6823444962501526, 30.985029220581055]), (('conv1', 1572), [-0.6823444962501526, 30.985029220581055]), (('conv1', 1573), [-0.6823444962501526, 30.985029220581055]), (('conv1', 1574), [-0.6823444962501526, 30.985029220581055]), (('conv1', 1575), [-0.6823444962501526, 30.985029220581055]), (('conv1', 1576), [-0.6823444962501526, 30.985029220581055]), (('conv1', 1577), [-0.6823444962501526, 30.985029220581055]), (('conv1', 1578), [-0.6823444962501526, 30.985029220581055]), (('conv1', 1579), [-0.6823444962501526, 30.985029220581055]), (('conv1', 1580), [-0.6823444962501526, 30.985029220581055]), (('conv1', 1581), [-0.6823444962501526, 30.985029220581055]), (('conv1', 1582), [-0.6823444962501526, 30.985029220581055]), (('conv1', 1583), [-0.6823444962501526, 30.985029220581055]), (('conv1', 1584), [-0.6823444962501526, 30.985029220581055]), (('conv1', 1585), [-0.6823444962501526, 30.985029220581055]), (('conv1', 1586), [-0.6823444962501526, 30.985029220581055]), (('conv1', 1587), [-0.6823444962501526, 30.985029220581055]), (('conv1', 1588), [-0.6823444962501526, 30.985029220581055]), (('conv1', 1589), [-0.6823444962501526, 30.985029220581055]), (('conv1', 1590), [-0.6823444962501526, 30.985029220581055]), (('conv1', 1591), [-0.6823444962501526, 30.985029220581055]), (('conv1', 1592), [-0.6823444962501526, 30.985029220581055]), (('conv1', 1593), [-0.6823444962501526, 30.985029220581055]), (('conv1', 1594), [-0.6823444962501526, 30.985029220581055]), (('conv1', 1595), [-0.6823444962501526, 30.985029220581055]), (('conv1', 1596), [-0.6823444962501526, 30.985029220581055]), (('conv1', 1597), [-0.6823444962501526, 30.985029220581055]), (('conv1', 1598), [-0.6823444962501526, 30.985029220581055]), (('conv1', 1599), [-0.6823444962501526, 30.985029220581055]), (('conv1', 1600), [-0.6823444962501526, 30.985029220581055]), (('conv1', 1601), [-0.6823444962501526, 30.985029220581055]), (('conv1', 1602), [-0.6823444962501526, 30.985029220581055]), (('conv1', 1603), [-0.6823444962501526, 30.985029220581055]), (('conv1', 1604), [-0.6823444962501526, 30.985029220581055]), (('conv1', 1605), [-0.6823444962501526, 30.985029220581055]), (('conv1', 1606), [-0.6823444962501526, 30.985029220581055]), (('conv1', 1607), [-0.6823444962501526, 30.985029220581055]), (('conv1', 1608), [-0.6823444962501526, 30.985029220581055]), (('conv1', 1609), [-0.6823444962501526, 30.985029220581055]), (('conv1', 1610), [-0.6823444962501526, 30.985029220581055]), (('conv1', 1611), [-0.6823444962501526, 30.985029220581055]), (('conv1', 1612), [-0.6823444962501526, 30.985029220581055]), (('conv1', 1613), [-0.6823444962501526, 30.985029220581055]), (('conv1', 1614), [-0.6823444962501526, 30.985029220581055]), (('conv1', 1615), [-0.6823444962501526, 30.985029220581055]), (('conv1', 1616), [-0.6823444962501526, 30.985029220581055]), (('conv1', 1617), [-0.6823444962501526, 30.985029220581055]), (('conv1', 1618), [-0.6823444962501526, 30.985029220581055]), (('conv1', 1619), [-0.6823444962501526, 30.985029220581055]), (('conv1', 1620), [-0.6823444962501526, 30.985029220581055]), (('conv1', 1621), [-0.6823444962501526, 30.985029220581055]), (('conv1', 1622), [-0.6823444962501526, 30.985029220581055]), (('conv1', 1623), [-0.6823444962501526, 30.985029220581055]), (('conv1', 1624), [-0.6823444962501526, 30.985029220581055]), (('conv1', 1625), [-0.6823444962501526, 30.985029220581055]), (('conv1', 1626), [-0.6823444962501526, 30.985029220581055]), (('conv1', 1627), [-0.6823444962501526, 30.985029220581055]), (('conv1', 1628), [-0.6823444962501526, 30.985029220581055]), (('conv1', 1629), [-0.6823444962501526, 30.985029220581055]), (('conv1', 1630), [-0.6823444962501526, 30.985029220581055]), (('conv1', 1631), [-0.6823444962501526, 30.985029220581055]), (('conv1', 1632), [-0.6823444962501526, 30.985029220581055]), (('conv1', 1633), [-0.6823444962501526, 30.985029220581055]), (('conv1', 1634), [-0.6823444962501526, 30.985029220581055]), (('conv1', 1635), [-0.6823444962501526, 30.985029220581055]), (('conv1', 1636), [-0.6823444962501526, 30.985029220581055]), (('conv1', 1637), [-0.6823444962501526, 30.985029220581055]), (('conv1', 1638), [-0.6823444962501526, 30.985029220581055]), (('conv1', 1639), [-0.6823444962501526, 30.985029220581055]), (('conv1', 1640), [-0.6823444962501526, 30.985029220581055]), (('conv1', 1641), [-0.6823444962501526, 30.985029220581055]), (('conv1', 1642), [-0.6823444962501526, 30.985029220581055]), (('conv1', 1643), [-0.6823444962501526, 30.985029220581055]), (('conv1', 1644), [-0.6823444962501526, 30.985029220581055]), (('conv1', 1645), [-0.6823444962501526, 30.985029220581055]), (('conv1', 1646), [-0.6823444962501526, 30.985029220581055]), (('conv1', 1647), [-0.6823444962501526, 30.985029220581055]), (('conv1', 1648), [-0.6823444962501526, 30.985029220581055]), (('conv1', 1649), [-0.6823444962501526, 30.985029220581055]), (('conv1', 1650), [-0.6823444962501526, 30.985029220581055]), (('conv1', 1651), [-0.6823444962501526, 30.985029220581055]), (('conv1', 1652), [-0.6823444962501526, 30.985029220581055]), (('conv1', 1653), [-0.6823444962501526, 30.985029220581055]), (('conv1', 1654), [-0.6823444962501526, 30.985029220581055]), (('conv1', 1655), [-0.6823444962501526, 30.985029220581055]), (('conv1', 1656), [-0.6823444962501526, 30.985029220581055]), (('conv1', 1657), [-0.6823444962501526, 30.985029220581055]), (('conv1', 1658), [-0.6823444962501526, 30.985029220581055]), (('conv1', 1659), [-0.6823444962501526, 30.985029220581055]), (('conv1', 1660), [-0.6823444962501526, 30.985029220581055]), (('conv1', 1661), [-0.6823444962501526, 30.985029220581055]), (('conv1', 1662), [-0.6823444962501526, 30.985029220581055]), (('conv1', 1663), [-0.6823444962501526, 30.985029220581055]), (('conv1', 1664), [-0.6823444962501526, 30.985029220581055]), (('conv1', 1665), [-0.6823444962501526, 30.985029220581055]), (('conv1', 1666), [-0.6823444962501526, 30.985029220581055]), (('conv1', 1667), [-0.6823444962501526, 30.985029220581055]), (('conv1', 1668), [-0.6823444962501526, 30.985029220581055]), (('conv1', 1669), [-0.6823444962501526, 30.985029220581055]), (('conv1', 1670), [-0.6823444962501526, 30.985029220581055]), (('conv1', 1671), [-0.6823444962501526, 30.985029220581055]), (('conv1', 1672), [-0.6823444962501526, 30.985029220581055]), (('conv1', 1673), [-0.6823444962501526, 30.985029220581055]), (('conv1', 1674), [-0.6823444962501526, 30.985029220581055]), (('conv1', 1675), [-0.6823444962501526, 30.985029220581055]), (('conv1', 1676), [-0.6823444962501526, 30.985029220581055]), (('conv1', 1677), [-0.6823444962501526, 30.985029220581055]), (('conv1', 1678), [-0.6823444962501526, 30.985029220581055]), (('conv1', 1679), [-0.6823444962501526, 30.985029220581055]), (('conv1', 1680), [-0.6823444962501526, 30.985029220581055]), (('conv1', 1681), [-0.6823444962501526, 30.985029220581055]), (('conv1', 1682), [-0.6823444962501526, 30.985029220581055]), (('conv1', 1683), [-0.6823444962501526, 30.985029220581055]), (('conv1', 1684), [-0.6823444962501526, 30.985029220581055]), (('conv1', 1685), [-0.6823444962501526, 30.985029220581055]), (('conv1', 1686), [-0.6823444962501526, 30.985029220581055]), (('conv1', 1687), [-0.6823444962501526, 30.985029220581055]), (('conv1', 1688), [-0.6823444962501526, 30.985029220581055]), (('conv1', 1689), [-0.6823444962501526, 30.985029220581055]), (('conv1', 1690), [-0.6823444962501526, 30.985029220581055]), (('conv1', 1691), [-0.6823444962501526, 30.985029220581055]), (('conv1', 1692), [-0.6823444962501526, 30.985029220581055]), (('conv1', 1693), [-0.6823444962501526, 30.985029220581055]), (('conv1', 1694), [-0.6823444962501526, 30.985029220581055]), (('conv1', 1695), [-0.6823444962501526, 30.985029220581055]), (('conv1', 1696), [-0.6823444962501526, 30.985029220581055]), (('conv1', 1697), [-0.6823444962501526, 30.985029220581055]), (('conv1', 1698), [-0.6823444962501526, 30.985029220581055]), (('conv1', 1699), [-0.6823444962501526, 30.985029220581055]), (('conv1', 1700), [-0.6823444962501526, 30.985029220581055]), (('conv1', 1701), [-0.6823444962501526, 30.985029220581055]), (('conv1', 1702), [-0.6823444962501526, 30.985029220581055]), (('conv1', 1703), [-0.6823444962501526, 30.985029220581055]), (('conv1', 1704), [-0.6823444962501526, 30.985029220581055]), (('conv1', 1705), [-0.6823444962501526, 30.985029220581055]), (('conv1', 1706), [-0.6823444962501526, 30.985029220581055]), (('conv1', 1707), [-0.6823444962501526, 30.985029220581055]), (('conv1', 1708), [-0.6823444962501526, 30.985029220581055]), (('conv1', 1709), [-0.6823444962501526, 30.985029220581055]), (('conv1', 1710), [-0.6823444962501526, 30.985029220581055]), (('conv1', 1711), [-0.6823444962501526, 30.985029220581055]), (('conv1', 1712), [-0.6823444962501526, 30.985029220581055]), (('conv1', 1713), [-0.6823444962501526, 30.985029220581055]), (('conv1', 1714), [-0.6823444962501526, 30.985029220581055]), (('conv1', 1715), [-0.6823444962501526, 30.985029220581055]), (('conv1', 1716), [-0.6823444962501526, 30.985029220581055]), (('conv1', 1717), [-0.6823444962501526, 30.985029220581055]), (('conv1', 1718), [-0.6823444962501526, 30.985029220581055]), (('conv1', 1719), [-0.6823444962501526, 30.985029220581055]), (('conv1', 1720), [-0.6823444962501526, 30.985029220581055]), (('conv1', 1721), [-0.6823444962501526, 30.985029220581055]), (('conv1', 1722), [-0.6823444962501526, 30.985029220581055]), (('conv1', 1723), [-0.6823444962501526, 30.985029220581055]), (('conv1', 1724), [-0.6823444962501526, 30.985029220581055]), (('conv1', 1725), [-0.6823444962501526, 30.985029220581055]), (('conv1', 1726), [-0.6823444962501526, 30.985029220581055]), (('conv1', 1727), [-0.6823444962501526, 30.985029220581055]), (('conv1', 1728), [-0.6823444962501526, 30.985029220581055]), (('conv1', 1729), [-0.6823444962501526, 30.985029220581055]), (('conv1', 1730), [-0.6823444962501526, 30.985029220581055]), (('conv1', 1731), [-0.6823444962501526, 30.985029220581055]), (('conv1', 1732), [-0.6823444962501526, 30.985029220581055]), (('conv1', 1733), [-0.6823444962501526, 30.985029220581055]), (('conv1', 1734), [-0.6823444962501526, 30.985029220581055]), (('conv1', 1735), [-0.6823444962501526, 30.985029220581055]), (('conv1', 1736), [-0.6823444962501526, 30.985029220581055]), (('conv1', 1737), [-0.6823444962501526, 30.985029220581055]), (('conv1', 1738), [-0.6823444962501526, 30.985029220581055]), (('conv1', 1739), [-0.6823444962501526, 30.985029220581055]), (('conv1', 1740), [-0.6823444962501526, 30.985029220581055]), (('conv1', 1741), [-0.6823444962501526, 30.985029220581055]), (('conv1', 1742), [-0.6823444962501526, 30.985029220581055]), (('conv1', 1743), [-0.6823444962501526, 30.985029220581055]), (('conv1', 1744), [-0.6823444962501526, 30.985029220581055]), (('conv1', 1745), [-0.6823444962501526, 30.985029220581055]), (('conv1', 1746), [-0.6823444962501526, 30.985029220581055]), (('conv1', 1747), [-0.6823444962501526, 30.985029220581055]), (('conv1', 1748), [-0.6823444962501526, 30.985029220581055]), (('conv1', 1749), [-0.6823444962501526, 30.985029220581055]), (('conv1', 1750), [-0.6823444962501526, 30.985029220581055]), (('conv1', 1751), [-0.6823444962501526, 30.985029220581055]), (('conv1', 1752), [-0.6823444962501526, 30.985029220581055]), (('conv1', 1753), [-0.6823444962501526, 30.985029220581055]), (('conv1', 1754), [-0.6823444962501526, 30.985029220581055]), (('conv1', 1755), [-0.6823444962501526, 30.985029220581055]), (('conv1', 1756), [-0.6823444962501526, 30.985029220581055]), (('conv1', 1757), [-0.6823444962501526, 30.985029220581055]), (('conv1', 1758), [-0.6823444962501526, 30.985029220581055]), (('conv1', 1759), [-0.6823444962501526, 30.985029220581055]), (('conv1', 1760), [-0.6823444962501526, 30.985029220581055]), (('conv1', 1761), [-0.6823444962501526, 30.985029220581055]), (('conv1', 1762), [-0.6823444962501526, 30.985029220581055]), (('conv1', 1763), [-0.6823444962501526, 30.985029220581055]), (('conv1', 1764), [-0.6823444962501526, 30.985029220581055]), (('conv1', 1765), [-0.6823444962501526, 30.985029220581055]), (('conv1', 1766), [-0.6823444962501526, 30.985029220581055]), (('conv1', 1767), [-0.6823444962501526, 30.985029220581055]), (('conv1', 1768), [-0.6823444962501526, 30.985029220581055]), (('conv1', 1769), [-0.6823444962501526, 30.985029220581055]), (('conv1', 1770), [-0.6823444962501526, 30.985029220581055]), (('conv1', 1771), [-0.6823444962501526, 30.985029220581055]), (('conv1', 1772), [-0.6823444962501526, 30.985029220581055]), (('conv1', 1773), [-0.6823444962501526, 30.985029220581055]), (('conv1', 1774), [-0.6823444962501526, 30.985029220581055]), (('conv1', 1775), [-0.6823444962501526, 30.985029220581055]), (('conv1', 1776), [-0.6823444962501526, 30.985029220581055]), (('conv1', 1777), [-0.6823444962501526, 30.985029220581055]), (('conv1', 1778), [-0.6823444962501526, 30.985029220581055]), (('conv1', 1779), [-0.6823444962501526, 30.985029220581055]), (('conv1', 1780), [-0.6823444962501526, 30.985029220581055]), (('conv1', 1781), [-0.6823444962501526, 30.985029220581055]), (('conv1', 1782), [-0.6823444962501526, 30.985029220581055]), (('conv1', 1783), [-0.6823444962501526, 30.985029220581055]), (('conv1', 1784), [-0.6823444962501526, 30.985029220581055]), (('conv1', 1785), [-0.6823444962501526, 30.985029220581055]), (('conv1', 1786), [-0.6823444962501526, 30.985029220581055]), (('conv1', 1787), [-0.6823444962501526, 30.985029220581055]), (('conv1', 1788), [-0.6823444962501526, 30.985029220581055]), (('conv1', 1789), [-0.6823444962501526, 30.985029220581055]), (('conv1', 1790), [-0.6823444962501526, 30.985029220581055]), (('conv1', 1791), [-0.6823444962501526, 30.985029220581055]), (('conv1', 1792), [-0.6823444962501526, 30.985029220581055]), (('conv1', 1793), [-0.6823444962501526, 30.985029220581055]), (('conv1', 1794), [-0.6823444962501526, 30.985029220581055]), (('conv1', 1795), [-0.6823444962501526, 30.985029220581055]), (('conv1', 1796), [-0.6823444962501526, 30.985029220581055]), (('conv1', 1797), [-0.6823444962501526, 30.985029220581055]), (('conv1', 1798), [-0.6823444962501526, 30.985029220581055]), (('conv1', 1799), [-0.6823444962501526, 30.985029220581055]), (('conv1', 1800), [-0.6823444962501526, 30.985029220581055]), (('conv1', 1801), [-0.6823444962501526, 30.985029220581055]), (('conv1', 1802), [-0.6823444962501526, 30.985029220581055]), (('conv1', 1803), [-0.6823444962501526, 30.985029220581055]), (('conv1', 1804), [-0.6823444962501526, 30.985029220581055]), (('conv1', 1805), [-0.6823444962501526, 30.985029220581055]), (('conv1', 1806), [-0.6823444962501526, 30.985029220581055]), (('conv1', 1807), [-0.6823444962501526, 30.985029220581055]), (('conv1', 1808), [-0.6823444962501526, 30.985029220581055]), (('conv1', 1809), [-0.6823444962501526, 30.985029220581055]), (('conv1', 1810), [-0.6823444962501526, 30.985029220581055]), (('conv1', 1811), [-0.6823444962501526, 30.985029220581055]), (('conv1', 1812), [-0.6823444962501526, 30.985029220581055]), (('conv1', 1813), [-0.6823444962501526, 30.985029220581055]), (('conv1', 1814), [-0.6823444962501526, 30.985029220581055]), (('conv1', 1815), [-0.6823444962501526, 30.985029220581055]), (('conv1', 1816), [-0.6823444962501526, 30.985029220581055]), (('conv1', 1817), [-0.6823444962501526, 30.985029220581055]), (('conv1', 1818), [-0.6823444962501526, 30.985029220581055]), (('conv1', 1819), [-0.6823444962501526, 30.985029220581055]), (('conv1', 1820), [-0.6823444962501526, 30.985029220581055]), (('conv1', 1821), [-0.6823444962501526, 30.985029220581055]), (('conv1', 1822), [-0.6823444962501526, 30.985029220581055]), (('conv1', 1823), [-0.6823444962501526, 30.985029220581055]), (('conv1', 1824), [-0.6823444962501526, 30.985029220581055]), (('conv1', 1825), [-0.6823444962501526, 30.985029220581055]), (('conv1', 1826), [-0.6823444962501526, 30.985029220581055]), (('conv1', 1827), [-0.6823444962501526, 30.985029220581055]), (('conv1', 1828), [-0.6823444962501526, 30.985029220581055]), (('conv1', 1829), [-0.6823444962501526, 30.985029220581055]), (('conv1', 1830), [-0.6823444962501526, 30.985029220581055]), (('conv1', 1831), [-0.6823444962501526, 30.985029220581055]), (('conv1', 1832), [-0.6823444962501526, 30.985029220581055]), (('conv1', 1833), [-0.6823444962501526, 30.985029220581055]), (('conv1', 1834), [-0.6823444962501526, 30.985029220581055]), (('conv1', 1835), [-0.6823444962501526, 30.985029220581055]), (('conv1', 1836), [-0.6823444962501526, 30.985029220581055]), (('conv1', 1837), [-0.6823444962501526, 30.985029220581055]), (('conv1', 1838), [-0.6823444962501526, 30.985029220581055]), (('conv1', 1839), [-0.6823444962501526, 30.985029220581055]), (('conv1', 1840), [-0.6823444962501526, 30.985029220581055]), (('conv1', 1841), [-0.6823444962501526, 30.985029220581055]), (('conv1', 1842), [-0.6823444962501526, 30.985029220581055]), (('conv1', 1843), [-0.6823444962501526, 30.985029220581055]), (('conv1', 1844), [-0.6823444962501526, 30.985029220581055]), (('conv1', 1845), [-0.6823444962501526, 30.985029220581055]), (('conv1', 1846), [-0.6823444962501526, 30.985029220581055]), (('conv1', 1847), [-0.6823444962501526, 30.985029220581055]), (('conv1', 1848), [-0.6823444962501526, 30.985029220581055]), (('conv1', 1849), [-0.6823444962501526, 30.985029220581055]), (('conv1', 1850), [-0.6823444962501526, 30.985029220581055]), (('conv1', 1851), [-0.6823444962501526, 30.985029220581055]), (('conv1', 1852), [-0.6823444962501526, 30.985029220581055]), (('conv1', 1853), [-0.6823444962501526, 30.985029220581055]), (('conv1', 1854), [-0.6823444962501526, 30.985029220581055]), (('conv1', 1855), [-0.6823444962501526, 30.985029220581055]), (('conv1', 1856), [-0.6823444962501526, 30.985029220581055]), (('conv1', 1857), [-0.6823444962501526, 30.985029220581055]), (('conv1', 1858), [-0.6823444962501526, 30.985029220581055]), (('conv1', 1859), [-0.6823444962501526, 30.985029220581055]), (('conv1', 1860), [-0.6823444962501526, 30.985029220581055]), (('conv1', 1861), [-0.6823444962501526, 30.985029220581055]), (('conv1', 1862), [-0.6823444962501526, 30.985029220581055]), (('conv1', 1863), [-0.6823444962501526, 30.985029220581055]), (('conv1', 1864), [-0.6823444962501526, 30.985029220581055]), (('conv1', 1865), [-0.6823444962501526, 30.985029220581055]), (('conv1', 1866), [-0.6823444962501526, 30.985029220581055]), (('conv1', 1867), [-0.6823444962501526, 30.985029220581055]), (('conv1', 1868), [-0.6823444962501526, 30.985029220581055]), (('conv1', 1869), [-0.6823444962501526, 30.985029220581055]), (('conv1', 1870), [-0.6823444962501526, 30.985029220581055]), (('conv1', 1871), [-0.6823444962501526, 30.985029220581055]), (('conv1', 1872), [-0.6823444962501526, 30.985029220581055]), (('conv1', 1873), [-0.6823444962501526, 30.985029220581055]), (('conv1', 1874), [-0.6823444962501526, 30.985029220581055]), (('conv1', 1875), [-0.6823444962501526, 30.985029220581055]), (('conv1', 1876), [-0.6823444962501526, 30.985029220581055]), (('conv1', 1877), [-0.6823444962501526, 30.985029220581055]), (('conv1', 1878), [-0.6823444962501526, 30.985029220581055]), (('conv1', 1879), [-0.6823444962501526, 30.985029220581055]), (('conv1', 1880), [-0.6823444962501526, 30.985029220581055]), (('conv1', 1881), [-0.6823444962501526, 30.985029220581055]), (('conv1', 1882), [-0.6823444962501526, 30.985029220581055]), (('conv1', 1883), [-0.6823444962501526, 30.985029220581055]), (('conv1', 1884), [-0.6823444962501526, 30.985029220581055]), (('conv1', 1885), [-0.6823444962501526, 30.985029220581055]), (('conv1', 1886), [-0.6823444962501526, 30.985029220581055]), (('conv1', 1887), [-0.6823444962501526, 30.985029220581055]), (('conv1', 1888), [-0.6823444962501526, 30.985029220581055]), (('conv1', 1889), [-0.6823444962501526, 30.985029220581055]), (('conv1', 1890), [-0.6823444962501526, 30.985029220581055]), (('conv1', 1891), [-0.6823444962501526, 30.985029220581055]), (('conv1', 1892), [-0.6823444962501526, 30.985029220581055]), (('conv1', 1893), [-0.6823444962501526, 30.985029220581055]), (('conv1', 1894), [-0.6823444962501526, 30.985029220581055]), (('conv1', 1895), [-0.6823444962501526, 30.985029220581055]), (('conv1', 1896), [-0.6823444962501526, 30.985029220581055]), (('conv1', 1897), [-0.6823444962501526, 30.985029220581055]), (('conv1', 1898), [-0.6823444962501526, 30.985029220581055]), (('conv1', 1899), [-0.6823444962501526, 30.985029220581055]), (('conv1', 1900), [-0.6823444962501526, 30.985029220581055]), (('conv1', 1901), [-0.6823444962501526, 30.985029220581055]), (('conv1', 1902), [-0.6823444962501526, 30.985029220581055]), (('conv1', 1903), [-0.6823444962501526, 30.985029220581055]), (('conv1', 1904), [-0.6823444962501526, 30.985029220581055]), (('conv1', 1905), [-0.6823444962501526, 30.985029220581055]), (('conv1', 1906), [-0.6823444962501526, 30.985029220581055]), (('conv1', 1907), [-0.6823444962501526, 30.985029220581055]), (('conv1', 1908), [-0.6823444962501526, 30.985029220581055]), (('conv1', 1909), [-0.6823444962501526, 30.985029220581055]), (('conv1', 1910), [-0.6823444962501526, 30.985029220581055]), (('conv1', 1911), [-0.6823444962501526, 30.985029220581055]), (('conv1', 1912), [-0.6823444962501526, 30.985029220581055]), (('conv1', 1913), [-0.6823444962501526, 30.985029220581055]), (('conv1', 1914), [-0.6823444962501526, 30.985029220581055]), (('conv1', 1915), [-0.6823444962501526, 30.985029220581055]), (('conv1', 1916), [-0.6823444962501526, 30.985029220581055]), (('conv1', 1917), [-0.6823444962501526, 30.985029220581055]), (('conv1', 1918), [-0.6823444962501526, 30.985029220581055]), (('conv1', 1919), [-0.6823444962501526, 30.985029220581055]), (('conv1', 1920), [-0.6823444962501526, 30.985029220581055]), (('conv1', 1921), [-0.6823444962501526, 30.985029220581055]), (('conv1', 1922), [-0.6823444962501526, 30.985029220581055]), (('conv1', 1923), [-0.6823444962501526, 30.985029220581055]), (('conv1', 1924), [-0.6823444962501526, 30.985029220581055]), (('conv1', 1925), [-0.6823444962501526, 30.985029220581055]), (('conv1', 1926), [-0.6823444962501526, 30.985029220581055]), (('conv1', 1927), [-0.6823444962501526, 30.985029220581055]), (('conv1', 1928), [-0.6823444962501526, 30.985029220581055]), (('conv1', 1929), [-0.6823444962501526, 30.985029220581055]), (('conv1', 1930), [-0.6823444962501526, 30.985029220581055]), (('conv1', 1931), [-0.6823444962501526, 30.985029220581055]), (('conv1', 1932), [-0.6823444962501526, 30.985029220581055]), (('conv1', 1933), [-0.6823444962501526, 30.985029220581055]), (('conv1', 1934), [-0.6823444962501526, 30.985029220581055]), (('conv1', 1935), [-0.6823444962501526, 30.985029220581055]), (('conv1', 1936), [-0.6823444962501526, 30.985029220581055]), (('conv1', 1937), [-0.6823444962501526, 30.985029220581055]), (('conv1', 1938), [-0.6823444962501526, 30.985029220581055]), (('conv1', 1939), [-0.6823444962501526, 30.985029220581055]), (('conv1', 1940), [-0.6823444962501526, 30.985029220581055]), (('conv1', 1941), [-0.6823444962501526, 30.985029220581055]), (('conv1', 1942), [-0.6823444962501526, 30.985029220581055]), (('conv1', 1943), [-0.6823444962501526, 30.985029220581055]), (('conv1', 1944), [-0.6823444962501526, 30.985029220581055]), (('conv1', 1945), [-0.6823444962501526, 30.985029220581055]), (('conv1', 1946), [-0.6823444962501526, 30.985029220581055]), (('conv1', 1947), [-0.6823444962501526, 30.985029220581055]), (('conv1', 1948), [-0.6823444962501526, 30.985029220581055]), (('conv1', 1949), [-0.6823444962501526, 30.985029220581055]), (('conv1', 1950), [-0.6823444962501526, 30.985029220581055]), (('conv1', 1951), [-0.6823444962501526, 30.985029220581055]), (('conv1', 1952), [-0.6823444962501526, 30.985029220581055]), (('conv1', 1953), [-0.6823444962501526, 30.985029220581055]), (('conv1', 1954), [-0.6823444962501526, 30.985029220581055]), (('conv1', 1955), [-0.6823444962501526, 30.985029220581055]), (('conv1', 1956), [-0.6823444962501526, 30.985029220581055]), (('conv1', 1957), [-0.6823444962501526, 30.985029220581055]), (('conv1', 1958), [-0.6823444962501526, 30.985029220581055]), (('conv1', 1959), [-0.6823444962501526, 30.985029220581055]), (('conv1', 1960), [-0.6823444962501526, 30.985029220581055]), (('conv1', 1961), [-0.6823444962501526, 30.985029220581055]), (('conv1', 1962), [-0.6823444962501526, 30.985029220581055]), (('conv1', 1963), [-0.6823444962501526, 30.985029220581055]), (('conv1', 1964), [-0.6823444962501526, 30.985029220581055]), (('conv1', 1965), [-0.6823444962501526, 30.985029220581055]), (('conv1', 1966), [-0.6823444962501526, 30.985029220581055]), (('conv1', 1967), [-0.6823444962501526, 30.985029220581055]), (('conv1', 1968), [-0.6823444962501526, 30.985029220581055]), (('conv1', 1969), [-0.6823444962501526, 30.985029220581055]), (('conv1', 1970), [-0.6823444962501526, 30.985029220581055]), (('conv1', 1971), [-0.6823444962501526, 30.985029220581055]), (('conv1', 1972), [-0.6823444962501526, 30.985029220581055]), (('conv1', 1973), [-0.6823444962501526, 30.985029220581055]), (('conv1', 1974), [-0.6823444962501526, 30.985029220581055]), (('conv1', 1975), [-0.6823444962501526, 30.985029220581055]), (('conv1', 1976), [-0.6823444962501526, 30.985029220581055]), (('conv1', 1977), [-0.6823444962501526, 30.985029220581055]), (('conv1', 1978), [-0.6823444962501526, 30.985029220581055]), (('conv1', 1979), [-0.6823444962501526, 30.985029220581055]), (('conv1', 1980), [-0.6823444962501526, 30.985029220581055]), (('conv1', 1981), [-0.6823444962501526, 30.985029220581055]), (('conv1', 1982), [-0.6823444962501526, 30.985029220581055]), (('conv1', 1983), [-0.6823444962501526, 30.985029220581055]), (('conv1', 1984), [-0.6823444962501526, 30.985029220581055]), (('conv1', 1985), [-0.6823444962501526, 30.985029220581055]), (('conv1', 1986), [-0.6823444962501526, 30.985029220581055]), (('conv1', 1987), [-0.6823444962501526, 30.985029220581055]), (('conv1', 1988), [-0.6823444962501526, 30.985029220581055]), (('conv1', 1989), [-0.6823444962501526, 30.985029220581055]), (('conv1', 1990), [-0.6823444962501526, 30.985029220581055]), (('conv1', 1991), [-0.6823444962501526, 30.985029220581055]), (('conv1', 1992), [-0.6823444962501526, 30.985029220581055]), (('conv1', 1993), [-0.6823444962501526, 30.985029220581055]), (('conv1', 1994), [-0.6823444962501526, 30.985029220581055]), (('conv1', 1995), [-0.6823444962501526, 30.985029220581055]), (('conv1', 1996), [-0.6823444962501526, 30.985029220581055]), (('conv1', 1997), [-0.6823444962501526, 30.985029220581055]), (('conv1', 1998), [-0.6823444962501526, 30.985029220581055]), (('conv1', 1999), [-0.6823444962501526, 30.985029220581055]), (('conv1', 2000), [-0.6823444962501526, 30.985029220581055]), (('conv1', 2001), [-0.6823444962501526, 30.985029220581055]), (('conv1', 2002), [-0.6823444962501526, 30.985029220581055]), (('conv1', 2003), [-0.6823444962501526, 30.985029220581055]), (('conv1', 2004), [-0.6823444962501526, 30.985029220581055]), (('conv1', 2005), [-0.6823444962501526, 30.985029220581055]), (('conv1', 2006), [-0.6823444962501526, 30.985029220581055]), (('conv1', 2007), [-0.6823444962501526, 30.985029220581055]), (('conv1', 2008), [-0.6823444962501526, 30.985029220581055]), (('conv1', 2009), [-0.6823444962501526, 30.985029220581055]), (('conv1', 2010), [-0.6823444962501526, 30.985029220581055]), (('conv1', 2011), [-0.6823444962501526, 30.985029220581055]), (('conv1', 2012), [-0.6823444962501526, 30.985029220581055]), (('conv1', 2013), [-0.6823444962501526, 30.985029220581055]), (('conv1', 2014), [-0.6823444962501526, 30.985029220581055]), (('conv1', 2015), [-0.6823444962501526, 30.985029220581055]), (('conv1', 2016), [-0.6823444962501526, 30.985029220581055]), (('conv1', 2017), [-0.6823444962501526, 30.985029220581055]), (('conv1', 2018), [-0.6823444962501526, 30.985029220581055]), (('conv1', 2019), [-0.6823444962501526, 30.985029220581055]), (('conv1', 2020), [-0.6823444962501526, 30.985029220581055]), (('conv1', 2021), [-0.6823444962501526, 30.985029220581055]), (('conv1', 2022), [-0.6823444962501526, 30.985029220581055]), (('conv1', 2023), [-0.6823444962501526, 30.985029220581055]), (('conv1', 2024), [-0.6823444962501526, 30.985029220581055]), (('conv1', 2025), [-0.6823444962501526, 30.985029220581055]), (('conv1', 2026), [-0.6823444962501526, 30.985029220581055]), (('conv1', 2027), [-0.6823444962501526, 30.985029220581055]), (('conv1', 2028), [-0.6823444962501526, 30.985029220581055]), (('conv1', 2029), [-0.6823444962501526, 30.985029220581055]), (('conv1', 2030), [-0.6823444962501526, 30.985029220581055]), (('conv1', 2031), [-0.6823444962501526, 30.985029220581055]), (('conv1', 2032), [-0.6823444962501526, 30.985029220581055]), (('conv1', 2033), [-0.6823444962501526, 30.985029220581055]), (('conv1', 2034), [-0.6823444962501526, 30.985029220581055]), (('conv1', 2035), [-0.6823444962501526, 30.985029220581055]), (('conv1', 2036), [-0.6823444962501526, 30.985029220581055]), (('conv1', 2037), [-0.6823444962501526, 30.985029220581055]), (('conv1', 2038), [-0.6823444962501526, 30.985029220581055]), (('conv1', 2039), [-0.6823444962501526, 30.985029220581055]), (('conv1', 2040), [-0.6823444962501526, 30.985029220581055]), (('conv1', 2041), [-0.6823444962501526, 30.985029220581055]), (('conv1', 2042), [-0.6823444962501526, 30.985029220581055]), (('conv1', 2043), [-0.6823444962501526, 30.985029220581055]), (('conv1', 2044), [-0.6823444962501526, 30.985029220581055]), (('conv1', 2045), [-0.6823444962501526, 30.985029220581055]), (('conv1', 2046), [-0.6823444962501526, 30.985029220581055]), (('conv1', 2047), [-0.6823444962501526, 30.985029220581055]), (('conv1', 2048), [-0.6823444962501526, 30.985029220581055]), (('conv1', 2049), [-0.6823444962501526, 30.985029220581055]), (('conv1', 2050), [-0.6823444962501526, 30.985029220581055]), (('conv1', 2051), [-0.6823444962501526, 30.985029220581055]), (('conv1', 2052), [-0.6823444962501526, 30.985029220581055]), (('conv1', 2053), [-0.6823444962501526, 30.985029220581055]), (('conv1', 2054), [-0.6823444962501526, 30.985029220581055]), (('conv1', 2055), [-0.6823444962501526, 30.985029220581055]), (('conv1', 2056), [-0.6823444962501526, 30.985029220581055]), (('conv1', 2057), [-0.6823444962501526, 30.985029220581055]), (('conv1', 2058), [-0.6823444962501526, 30.985029220581055]), (('conv1', 2059), [-0.6823444962501526, 30.985029220581055]), (('conv1', 2060), [-0.6823444962501526, 30.985029220581055]), (('conv1', 2061), [-0.6823444962501526, 30.985029220581055]), (('conv1', 2062), [-0.6823444962501526, 30.985029220581055]), (('conv1', 2063), [-0.6823444962501526, 30.985029220581055]), (('conv1', 2064), [-0.6823444962501526, 30.985029220581055]), (('conv1', 2065), [-0.6823444962501526, 30.985029220581055]), (('conv1', 2066), [-0.6823444962501526, 30.985029220581055]), (('conv1', 2067), [-0.6823444962501526, 30.985029220581055]), (('conv1', 2068), [-0.6823444962501526, 30.985029220581055]), (('conv1', 2069), [-0.6823444962501526, 30.985029220581055]), (('conv1', 2070), [-0.6823444962501526, 30.985029220581055]), (('conv1', 2071), [-0.6823444962501526, 30.985029220581055]), (('conv1', 2072), [-0.6823444962501526, 30.985029220581055]), (('conv1', 2073), [-0.6823444962501526, 30.985029220581055]), (('conv1', 2074), [-0.6823444962501526, 30.985029220581055]), (('conv1', 2075), [-0.6823444962501526, 30.985029220581055]), (('conv1', 2076), [-0.6823444962501526, 30.985029220581055]), (('conv1', 2077), [-0.6823444962501526, 30.985029220581055]), (('conv1', 2078), [-0.6823444962501526, 30.985029220581055]), (('conv1', 2079), [-0.6823444962501526, 30.985029220581055]), (('conv1', 2080), [-0.6823444962501526, 30.985029220581055]), (('conv1', 2081), [-0.6823444962501526, 30.985029220581055]), (('conv1', 2082), [-0.6823444962501526, 30.985029220581055]), (('conv1', 2083), [-0.6823444962501526, 30.985029220581055]), (('conv1', 2084), [-0.6823444962501526, 30.985029220581055]), (('conv1', 2085), [-0.6823444962501526, 30.985029220581055]), (('conv1', 2086), [-0.6823444962501526, 30.985029220581055]), (('conv1', 2087), [-0.6823444962501526, 30.985029220581055]), (('conv1', 2088), [-0.6823444962501526, 30.985029220581055]), (('conv1', 2089), [-0.6823444962501526, 30.985029220581055]), (('conv1', 2090), [-0.6823444962501526, 30.985029220581055]), (('conv1', 2091), [-0.6823444962501526, 30.985029220581055]), (('conv1', 2092), [-0.6823444962501526, 30.985029220581055]), (('conv1', 2093), [-0.6823444962501526, 30.985029220581055]), (('conv1', 2094), [-0.6823444962501526, 30.985029220581055]), (('conv1', 2095), [-0.6823444962501526, 30.985029220581055]), (('conv1', 2096), [-0.6823444962501526, 30.985029220581055]), (('conv1', 2097), [-0.6823444962501526, 30.985029220581055]), (('conv1', 2098), [-0.6823444962501526, 30.985029220581055]), (('conv1', 2099), [-0.6823444962501526, 30.985029220581055]), (('conv1', 2100), [-0.6823444962501526, 30.985029220581055]), (('conv1', 2101), [-0.6823444962501526, 30.985029220581055]), (('conv1', 2102), [-0.6823444962501526, 30.985029220581055]), (('conv1', 2103), [-0.6823444962501526, 30.985029220581055]), (('conv1', 2104), [-0.6823444962501526, 30.985029220581055]), (('conv1', 2105), [-0.6823444962501526, 30.985029220581055]), (('conv1', 2106), [-0.6823444962501526, 30.985029220581055]), (('conv1', 2107), [-0.6823444962501526, 30.985029220581055]), (('conv1', 2108), [-0.6823444962501526, 30.985029220581055]), (('conv1', 2109), [-0.6823444962501526, 30.985029220581055]), (('conv1', 2110), [-0.6823444962501526, 30.985029220581055]), (('conv1', 2111), [-0.6823444962501526, 30.985029220581055]), (('conv1', 2112), [-0.6823444962501526, 30.985029220581055]), (('conv1', 2113), [-0.6823444962501526, 30.985029220581055]), (('conv1', 2114), [-0.6823444962501526, 30.985029220581055]), (('conv1', 2115), [-0.6823444962501526, 30.985029220581055]), (('conv1', 2116), [-0.6823444962501526, 30.985029220581055]), (('conv1', 2117), [-0.6823444962501526, 30.985029220581055]), (('conv1', 2118), [-0.6823444962501526, 30.985029220581055]), (('conv1', 2119), [-0.6823444962501526, 30.985029220581055]), (('conv1', 2120), [-0.6823444962501526, 30.985029220581055]), (('conv1', 2121), [-0.6823444962501526, 30.985029220581055]), (('conv1', 2122), [-0.6823444962501526, 30.985029220581055]), (('conv1', 2123), [-0.6823444962501526, 30.985029220581055]), (('conv1', 2124), [-0.6823444962501526, 30.985029220581055]), (('conv1', 2125), [-0.6823444962501526, 30.985029220581055]), (('conv1', 2126), [-0.6823444962501526, 30.985029220581055]), (('conv1', 2127), [-0.6823444962501526, 30.985029220581055]), (('conv1', 2128), [-0.6823444962501526, 30.985029220581055]), (('conv1', 2129), [-0.6823444962501526, 30.985029220581055]), (('conv1', 2130), [-0.6823444962501526, 30.985029220581055]), (('conv1', 2131), [-0.6823444962501526, 30.985029220581055]), (('conv1', 2132), [-0.6823444962501526, 30.985029220581055]), (('conv1', 2133), [-0.6823444962501526, 30.985029220581055]), (('conv1', 2134), [-0.6823444962501526, 30.985029220581055]), (('conv1', 2135), [-0.6823444962501526, 30.985029220581055]), (('conv1', 2136), [-0.6823444962501526, 30.985029220581055]), (('conv1', 2137), [-0.6823444962501526, 30.985029220581055]), (('conv1', 2138), [-0.6823444962501526, 30.985029220581055]), (('conv1', 2139), [-0.6823444962501526, 30.985029220581055]), (('conv1', 2140), [-0.6823444962501526, 30.985029220581055]), (('conv1', 2141), [-0.6823444962501526, 30.985029220581055]), (('conv1', 2142), [-0.6823444962501526, 30.985029220581055]), (('conv1', 2143), [-0.6823444962501526, 30.985029220581055]), (('conv1', 2144), [-0.6823444962501526, 30.985029220581055]), (('conv1', 2145), [-0.6823444962501526, 30.985029220581055]), (('conv1', 2146), [-0.6823444962501526, 30.985029220581055]), (('conv1', 2147), [-0.6823444962501526, 30.985029220581055]), (('conv1', 2148), [-0.6823444962501526, 30.985029220581055]), (('conv1', 2149), [-0.6823444962501526, 30.985029220581055]), (('conv1', 2150), [-0.6823444962501526, 30.985029220581055]), (('conv1', 2151), [-0.6823444962501526, 30.985029220581055]), (('conv1', 2152), [-0.6823444962501526, 30.985029220581055]), (('conv1', 2153), [-0.6823444962501526, 30.985029220581055]), (('conv1', 2154), [-0.6823444962501526, 30.985029220581055]), (('conv1', 2155), [-0.6823444962501526, 30.985029220581055]), (('conv1', 2156), [-0.6823444962501526, 30.985029220581055]), (('conv1', 2157), [-0.6823444962501526, 30.985029220581055]), (('conv1', 2158), [-0.6823444962501526, 30.985029220581055]), (('conv1', 2159), [-0.6823444962501526, 30.985029220581055]), (('conv1', 2160), [-0.6823444962501526, 30.985029220581055]), (('conv1', 2161), [-0.6823444962501526, 30.985029220581055]), (('conv1', 2162), [-0.6823444962501526, 30.985029220581055]), (('conv1', 2163), [-0.6823444962501526, 30.985029220581055]), (('conv1', 2164), [-0.6823444962501526, 30.985029220581055]), (('conv1', 2165), [-0.6823444962501526, 30.985029220581055]), (('conv1', 2166), [-0.6823444962501526, 30.985029220581055]), (('conv1', 2167), [-0.6823444962501526, 30.985029220581055]), (('conv1', 2168), [-0.6823444962501526, 30.985029220581055]), (('conv1', 2169), [-0.6823444962501526, 30.985029220581055]), (('conv1', 2170), [-0.6823444962501526, 30.985029220581055]), (('conv1', 2171), [-0.6823444962501526, 30.985029220581055]), (('conv1', 2172), [-0.6823444962501526, 30.985029220581055]), (('conv1', 2173), [-0.6823444962501526, 30.985029220581055]), (('conv1', 2174), [-0.6823444962501526, 30.985029220581055]), (('conv1', 2175), [-0.6823444962501526, 30.985029220581055]), (('conv1', 2176), [-0.6823444962501526, 30.985029220581055]), (('conv1', 2177), [-0.6823444962501526, 30.985029220581055]), (('conv1', 2178), [-0.6823444962501526, 30.985029220581055]), (('conv1', 2179), [-0.6823444962501526, 30.985029220581055]), (('conv1', 2180), [-0.6823444962501526, 30.985029220581055]), (('conv1', 2181), [-0.6823444962501526, 30.985029220581055]), (('conv1', 2182), [-0.6823444962501526, 30.985029220581055]), (('conv1', 2183), [-0.6823444962501526, 30.985029220581055]), (('conv1', 2184), [-0.6823444962501526, 30.985029220581055]), (('conv1', 2185), [-0.6823444962501526, 30.985029220581055]), (('conv1', 2186), [-0.6823444962501526, 30.985029220581055]), (('conv1', 2187), [-0.6823444962501526, 30.985029220581055]), (('conv1', 2188), [-0.6823444962501526, 30.985029220581055]), (('conv1', 2189), [-0.6823444962501526, 30.985029220581055]), (('conv1', 2190), [-0.6823444962501526, 30.985029220581055]), (('conv1', 2191), [-0.6823444962501526, 30.985029220581055]), (('conv1', 2192), [-0.6823444962501526, 30.985029220581055]), (('conv1', 2193), [-0.6823444962501526, 30.985029220581055]), (('conv1', 2194), [-0.6823444962501526, 30.985029220581055]), (('conv1', 2195), [-0.6823444962501526, 30.985029220581055]), (('conv1', 2196), [-0.6823444962501526, 30.985029220581055]), (('conv1', 2197), [-0.6823444962501526, 30.985029220581055]), (('conv1', 2198), [-0.6823444962501526, 30.985029220581055]), (('conv1', 2199), [-0.6823444962501526, 30.985029220581055]), (('conv1', 2200), [-0.6823444962501526, 30.985029220581055]), (('conv1', 2201), [-0.6823444962501526, 30.985029220581055]), (('conv1', 2202), [-0.6823444962501526, 30.985029220581055]), (('conv1', 2203), [-0.6823444962501526, 30.985029220581055]), (('conv1', 2204), [-0.6823444962501526, 30.985029220581055]), (('conv1', 2205), [-0.6823444962501526, 30.985029220581055]), (('conv1', 2206), [-0.6823444962501526, 30.985029220581055]), (('conv1', 2207), [-0.6823444962501526, 30.985029220581055]), (('conv1', 2208), [-0.6823444962501526, 30.985029220581055]), (('conv1', 2209), [-0.6823444962501526, 30.985029220581055]), (('conv1', 2210), [-0.6823444962501526, 30.985029220581055]), (('conv1', 2211), [-0.6823444962501526, 30.985029220581055]), (('conv1', 2212), [-0.6823444962501526, 30.985029220581055]), (('conv1', 2213), [-0.6823444962501526, 30.985029220581055]), (('conv1', 2214), [-0.6823444962501526, 30.985029220581055]), (('conv1', 2215), [-0.6823444962501526, 30.985029220581055]), (('conv1', 2216), [-0.6823444962501526, 30.985029220581055]), (('conv1', 2217), [-0.6823444962501526, 30.985029220581055]), (('conv1', 2218), [-0.6823444962501526, 30.985029220581055]), (('conv1', 2219), [-0.6823444962501526, 30.985029220581055]), (('conv1', 2220), [-0.6823444962501526, 30.985029220581055]), (('conv1', 2221), [-0.6823444962501526, 30.985029220581055]), (('conv1', 2222), [-0.6823444962501526, 30.985029220581055]), (('conv1', 2223), [-0.6823444962501526, 30.985029220581055]), (('conv1', 2224), [-0.6823444962501526, 30.985029220581055]), (('conv1', 2225), [-0.6823444962501526, 30.985029220581055]), (('conv1', 2226), [-0.6823444962501526, 30.985029220581055]), (('conv1', 2227), [-0.6823444962501526, 30.985029220581055]), (('conv1', 2228), [-0.6823444962501526, 30.985029220581055]), (('conv1', 2229), [-0.6823444962501526, 30.985029220581055]), (('conv1', 2230), [-0.6823444962501526, 30.985029220581055]), (('conv1', 2231), [-0.6823444962501526, 30.985029220581055]), (('conv1', 2232), [-0.6823444962501526, 30.985029220581055]), (('conv1', 2233), [-0.6823444962501526, 30.985029220581055]), (('conv1', 2234), [-0.6823444962501526, 30.985029220581055]), (('conv1', 2235), [-0.6823444962501526, 30.985029220581055]), (('conv1', 2236), [-0.6823444962501526, 30.985029220581055]), (('conv1', 2237), [-0.6823444962501526, 30.985029220581055]), (('conv1', 2238), [-0.6823444962501526, 30.985029220581055]), (('conv1', 2239), [-0.6823444962501526, 30.985029220581055]), (('conv1', 2240), [-0.6823444962501526, 30.985029220581055]), (('conv1', 2241), [-0.6823444962501526, 30.985029220581055]), (('conv1', 2242), [-0.6823444962501526, 30.985029220581055]), (('conv1', 2243), [-0.6823444962501526, 30.985029220581055]), (('conv1', 2244), [-0.6823444962501526, 30.985029220581055]), (('conv1', 2245), [-0.6823444962501526, 30.985029220581055]), (('conv1', 2246), [-0.6823444962501526, 30.985029220581055]), (('conv1', 2247), [-0.6823444962501526, 30.985029220581055]), (('conv1', 2248), [-0.6823444962501526, 30.985029220581055]), (('conv1', 2249), [-0.6823444962501526, 30.985029220581055]), (('conv1', 2250), [-0.6823444962501526, 30.985029220581055]), (('conv1', 2251), [-0.6823444962501526, 30.985029220581055]), (('conv1', 2252), [-0.6823444962501526, 30.985029220581055]), (('conv1', 2253), [-0.6823444962501526, 30.985029220581055]), (('conv1', 2254), [-0.6823444962501526, 30.985029220581055]), (('conv1', 2255), [-0.6823444962501526, 30.985029220581055]), (('conv1', 2256), [-0.6823444962501526, 30.985029220581055]), (('conv1', 2257), [-0.6823444962501526, 30.985029220581055]), (('conv1', 2258), [-0.6823444962501526, 30.985029220581055]), (('conv1', 2259), [-0.6823444962501526, 30.985029220581055]), (('conv1', 2260), [-0.6823444962501526, 30.985029220581055]), (('conv1', 2261), [-0.6823444962501526, 30.985029220581055]), (('conv1', 2262), [-0.6823444962501526, 30.985029220581055]), (('conv1', 2263), [-0.6823444962501526, 30.985029220581055]), (('conv1', 2264), [-0.6823444962501526, 30.985029220581055]), (('conv1', 2265), [-0.6823444962501526, 30.985029220581055]), (('conv1', 2266), [-0.6823444962501526, 30.985029220581055]), (('conv1', 2267), [-0.6823444962501526, 30.985029220581055]), (('conv1', 2268), [-0.6823444962501526, 30.985029220581055]), (('conv1', 2269), [-0.6823444962501526, 30.985029220581055]), (('conv1', 2270), [-0.6823444962501526, 30.985029220581055]), (('conv1', 2271), [-0.6823444962501526, 30.985029220581055]), (('conv1', 2272), [-0.6823444962501526, 30.985029220581055]), (('conv1', 2273), [-0.6823444962501526, 30.985029220581055]), (('conv1', 2274), [-0.6823444962501526, 30.985029220581055]), (('conv1', 2275), [-0.6823444962501526, 30.985029220581055]), (('conv1', 2276), [-0.6823444962501526, 30.985029220581055]), (('conv1', 2277), [-0.6823444962501526, 30.985029220581055]), (('conv1', 2278), [-0.6823444962501526, 30.985029220581055]), (('conv1', 2279), [-0.6823444962501526, 30.985029220581055]), (('conv1', 2280), [-0.6823444962501526, 30.985029220581055]), (('conv1', 2281), [-0.6823444962501526, 30.985029220581055]), (('conv1', 2282), [-0.6823444962501526, 30.985029220581055]), (('conv1', 2283), [-0.6823444962501526, 30.985029220581055]), (('conv1', 2284), [-0.6823444962501526, 30.985029220581055]), (('conv1', 2285), [-0.6823444962501526, 30.985029220581055]), (('conv1', 2286), [-0.6823444962501526, 30.985029220581055]), (('conv1', 2287), [-0.6823444962501526, 30.985029220581055]), (('conv1', 2288), [-0.6823444962501526, 30.985029220581055]), (('conv1', 2289), [-0.6823444962501526, 30.985029220581055]), (('conv1', 2290), [-0.6823444962501526, 30.985029220581055]), (('conv1', 2291), [-0.6823444962501526, 30.985029220581055]), (('conv1', 2292), [-0.6823444962501526, 30.985029220581055]), (('conv1', 2293), [-0.6823444962501526, 30.985029220581055]), (('conv1', 2294), [-0.6823444962501526, 30.985029220581055]), (('conv1', 2295), [-0.6823444962501526, 30.985029220581055]), (('conv1', 2296), [-0.6823444962501526, 30.985029220581055]), (('conv1', 2297), [-0.6823444962501526, 30.985029220581055]), (('conv1', 2298), [-0.6823444962501526, 30.985029220581055]), (('conv1', 2299), [-0.6823444962501526, 30.985029220581055]), (('conv1', 2300), [-0.6823444962501526, 30.985029220581055]), (('conv1', 2301), [-0.6823444962501526, 30.985029220581055]), (('conv1', 2302), [-0.6823444962501526, 30.985029220581055]), (('conv1', 2303), [-0.6823444962501526, 30.985029220581055]), (('conv1', 2304), [-0.6823444962501526, 30.985029220581055]), (('conv1', 2305), [-0.6823444962501526, 30.985029220581055]), (('conv1', 2306), [-0.6823444962501526, 30.985029220581055]), (('conv1', 2307), [-0.6823444962501526, 30.985029220581055]), (('conv1', 2308), [-0.6823444962501526, 30.985029220581055]), (('conv1', 2309), [-0.6823444962501526, 30.985029220581055]), (('conv1', 2310), [-0.6823444962501526, 30.985029220581055]), (('conv1', 2311), [-0.6823444962501526, 30.985029220581055]), (('conv1', 2312), [-0.6823444962501526, 30.985029220581055]), (('conv1', 2313), [-0.6823444962501526, 30.985029220581055]), (('conv1', 2314), [-0.6823444962501526, 30.985029220581055]), (('conv1', 2315), [-0.6823444962501526, 30.985029220581055]), (('conv1', 2316), [-0.6823444962501526, 30.985029220581055]), (('conv1', 2317), [-0.6823444962501526, 30.985029220581055]), (('conv1', 2318), [-0.6823444962501526, 30.985029220581055]), (('conv1', 2319), [-0.6823444962501526, 30.985029220581055]), (('conv1', 2320), [-0.6823444962501526, 30.985029220581055]), (('conv1', 2321), [-0.6823444962501526, 30.985029220581055]), (('conv1', 2322), [-0.6823444962501526, 30.985029220581055]), (('conv1', 2323), [-0.6823444962501526, 30.985029220581055]), (('conv1', 2324), [-0.6823444962501526, 30.985029220581055]), (('conv1', 2325), [-0.6823444962501526, 30.985029220581055]), (('conv1', 2326), [-0.6823444962501526, 30.985029220581055]), (('conv1', 2327), [-0.6823444962501526, 30.985029220581055]), (('conv1', 2328), [-0.6823444962501526, 30.985029220581055]), (('conv1', 2329), [-0.6823444962501526, 30.985029220581055]), (('conv1', 2330), [-0.6823444962501526, 30.985029220581055]), (('conv1', 2331), [-0.6823444962501526, 30.985029220581055]), (('conv1', 2332), [-0.6823444962501526, 30.985029220581055]), (('conv1', 2333), [-0.6823444962501526, 30.985029220581055]), (('conv1', 2334), [-0.6823444962501526, 30.985029220581055]), (('conv1', 2335), [-0.6823444962501526, 30.985029220581055]), (('conv1', 2336), [-0.6823444962501526, 30.985029220581055]), (('conv1', 2337), [-0.6823444962501526, 30.985029220581055]), (('conv1', 2338), [-0.6823444962501526, 30.985029220581055]), (('conv1', 2339), [-0.6823444962501526, 30.985029220581055]), (('conv1', 2340), [-0.6823444962501526, 30.985029220581055]), (('conv1', 2341), [-0.6823444962501526, 30.985029220581055]), (('conv1', 2342), [-0.6823444962501526, 30.985029220581055]), (('conv1', 2343), [-0.6823444962501526, 30.985029220581055]), (('conv1', 2344), [-0.6823444962501526, 30.985029220581055]), (('conv1', 2345), [-0.6823444962501526, 30.985029220581055]), (('conv1', 2346), [-0.6823444962501526, 30.985029220581055]), (('conv1', 2347), [-0.6823444962501526, 30.985029220581055]), (('conv1', 2348), [-0.6823444962501526, 30.985029220581055]), (('conv1', 2349), [-0.6823444962501526, 30.985029220581055]), (('conv1', 2350), [-0.6823444962501526, 30.985029220581055]), (('conv1', 2351), [-0.6823444962501526, 30.985029220581055]), (('conv1', 2352), [-0.6823444962501526, 30.985029220581055]), (('conv1', 2353), [-0.6823444962501526, 30.985029220581055]), (('conv1', 2354), [-0.6823444962501526, 30.985029220581055]), (('conv1', 2355), [-0.6823444962501526, 30.985029220581055]), (('conv1', 2356), [-0.6823444962501526, 30.985029220581055]), (('conv1', 2357), [-0.6823444962501526, 30.985029220581055]), (('conv1', 2358), [-0.6823444962501526, 30.985029220581055]), (('conv1', 2359), [-0.6823444962501526, 30.985029220581055]), (('conv1', 2360), [-0.6823444962501526, 30.985029220581055]), (('conv1', 2361), [-0.6823444962501526, 30.985029220581055]), (('conv1', 2362), [-0.6823444962501526, 30.985029220581055]), (('conv1', 2363), [-0.6823444962501526, 30.985029220581055]), (('conv1', 2364), [-0.6823444962501526, 30.985029220581055]), (('conv1', 2365), [-0.6823444962501526, 30.985029220581055]), (('conv1', 2366), [-0.6823444962501526, 30.985029220581055]), (('conv1', 2367), [-0.6823444962501526, 30.985029220581055]), (('conv1', 2368), [-0.6823444962501526, 30.985029220581055]), (('conv1', 2369), [-0.6823444962501526, 30.985029220581055]), (('conv1', 2370), [-0.6823444962501526, 30.985029220581055]), (('conv1', 2371), [-0.6823444962501526, 30.985029220581055]), (('conv1', 2372), [-0.6823444962501526, 30.985029220581055]), (('conv1', 2373), [-0.6823444962501526, 30.985029220581055]), (('conv1', 2374), [-0.6823444962501526, 30.985029220581055]), (('conv1', 2375), [-0.6823444962501526, 30.985029220581055]), (('conv1', 2376), [-0.6823444962501526, 30.985029220581055]), (('conv1', 2377), [-0.6823444962501526, 30.985029220581055]), (('conv1', 2378), [-0.6823444962501526, 30.985029220581055]), (('conv1', 2379), [-0.6823444962501526, 30.985029220581055]), (('conv1', 2380), [-0.6823444962501526, 30.985029220581055]), (('conv1', 2381), [-0.6823444962501526, 30.985029220581055]), (('conv1', 2382), [-0.6823444962501526, 30.985029220581055]), (('conv1', 2383), [-0.6823444962501526, 30.985029220581055]), (('conv1', 2384), [-0.6823444962501526, 30.985029220581055]), (('conv1', 2385), [-0.6823444962501526, 30.985029220581055]), (('conv1', 2386), [-0.6823444962501526, 30.985029220581055]), (('conv1', 2387), [-0.6823444962501526, 30.985029220581055]), (('conv1', 2388), [-0.6823444962501526, 30.985029220581055]), (('conv1', 2389), [-0.6823444962501526, 30.985029220581055]), (('conv1', 2390), [-0.6823444962501526, 30.985029220581055]), (('conv1', 2391), [-0.6823444962501526, 30.985029220581055]), (('conv1', 2392), [-0.6823444962501526, 30.985029220581055]), (('conv1', 2393), [-0.6823444962501526, 30.985029220581055]), (('conv1', 2394), [-0.6823444962501526, 30.985029220581055]), (('conv1', 2395), [-0.6823444962501526, 30.985029220581055]), (('conv1', 2396), [-0.6823444962501526, 30.985029220581055]), (('conv1', 2397), [-0.6823444962501526, 30.985029220581055]), (('conv1', 2398), [-0.6823444962501526, 30.985029220581055]), (('conv1', 2399), [-0.6823444962501526, 30.985029220581055]), (('conv1', 2400), [-0.6823444962501526, 30.985029220581055]), (('conv1', 2401), [-0.6823444962501526, 30.985029220581055]), (('conv1', 2402), [-0.6823444962501526, 30.985029220581055]), (('conv1', 2403), [-0.6823444962501526, 30.985029220581055]), (('conv1', 2404), [-0.6823444962501526, 30.985029220581055]), (('conv1', 2405), [-0.6823444962501526, 30.985029220581055]), (('conv1', 2406), [-0.6823444962501526, 30.985029220581055]), (('conv1', 2407), [-0.6823444962501526, 30.985029220581055]), (('conv1', 2408), [-0.6823444962501526, 30.985029220581055]), (('conv1', 2409), [-0.6823444962501526, 30.985029220581055]), (('conv1', 2410), [-0.6823444962501526, 30.985029220581055]), (('conv1', 2411), [-0.6823444962501526, 30.985029220581055]), (('conv1', 2412), [-0.6823444962501526, 30.985029220581055]), (('conv1', 2413), [-0.6823444962501526, 30.985029220581055]), (('conv1', 2414), [-0.6823444962501526, 30.985029220581055]), (('conv1', 2415), [-0.6823444962501526, 30.985029220581055]), (('conv1', 2416), [-0.6823444962501526, 30.985029220581055]), (('conv1', 2417), [-0.6823444962501526, 30.985029220581055]), (('conv1', 2418), [-0.6823444962501526, 30.985029220581055]), (('conv1', 2419), [-0.6823444962501526, 30.985029220581055]), (('conv1', 2420), [-0.6823444962501526, 30.985029220581055]), (('conv1', 2421), [-0.6823444962501526, 30.985029220581055]), (('conv1', 2422), [-0.6823444962501526, 30.985029220581055]), (('conv1', 2423), [-0.6823444962501526, 30.985029220581055]), (('conv1', 2424), [-0.6823444962501526, 30.985029220581055]), (('conv1', 2425), [-0.6823444962501526, 30.985029220581055]), (('conv1', 2426), [-0.6823444962501526, 30.985029220581055]), (('conv1', 2427), [-0.6823444962501526, 30.985029220581055]), (('conv1', 2428), [-0.6823444962501526, 30.985029220581055]), (('conv1', 2429), [-0.6823444962501526, 30.985029220581055]), (('conv1', 2430), [-0.6823444962501526, 30.985029220581055]), (('conv1', 2431), [-0.6823444962501526, 30.985029220581055]), (('conv1', 2432), [-0.6823444962501526, 30.985029220581055]), (('conv1', 2433), [-0.6823444962501526, 30.985029220581055]), (('conv1', 2434), [-0.6823444962501526, 30.985029220581055]), (('conv1', 2435), [-0.6823444962501526, 30.985029220581055]), (('conv1', 2436), [-0.6823444962501526, 30.985029220581055]), (('conv1', 2437), [-0.6823444962501526, 30.985029220581055]), (('conv1', 2438), [-0.6823444962501526, 30.985029220581055]), (('conv1', 2439), [-0.6823444962501526, 30.985029220581055]), (('conv1', 2440), [-0.6823444962501526, 30.985029220581055]), (('conv1', 2441), [-0.6823444962501526, 30.985029220581055]), (('conv1', 2442), [-0.6823444962501526, 30.985029220581055]), (('conv1', 2443), [-0.6823444962501526, 30.985029220581055]), (('conv1', 2444), [-0.6823444962501526, 30.985029220581055]), (('conv1', 2445), [-0.6823444962501526, 30.985029220581055]), (('conv1', 2446), [-0.6823444962501526, 30.985029220581055]), (('conv1', 2447), [-0.6823444962501526, 30.985029220581055]), (('conv1', 2448), [-0.6823444962501526, 30.985029220581055]), (('conv1', 2449), [-0.6823444962501526, 30.985029220581055]), (('conv1', 2450), [-0.6823444962501526, 30.985029220581055]), (('conv1', 2451), [-0.6823444962501526, 30.985029220581055]), (('conv1', 2452), [-0.6823444962501526, 30.985029220581055]), (('conv1', 2453), [-0.6823444962501526, 30.985029220581055]), (('conv1', 2454), [-0.6823444962501526, 30.985029220581055]), (('conv1', 2455), [-0.6823444962501526, 30.985029220581055]), (('conv1', 2456), [-0.6823444962501526, 30.985029220581055]), (('conv1', 2457), [-0.6823444962501526, 30.985029220581055]), (('conv1', 2458), [-0.6823444962501526, 30.985029220581055]), (('conv1', 2459), [-0.6823444962501526, 30.985029220581055]), (('conv1', 2460), [-0.6823444962501526, 30.985029220581055]), (('conv1', 2461), [-0.6823444962501526, 30.985029220581055]), (('conv1', 2462), [-0.6823444962501526, 30.985029220581055]), (('conv1', 2463), [-0.6823444962501526, 30.985029220581055]), (('conv1', 2464), [-0.6823444962501526, 30.985029220581055]), (('conv1', 2465), [-0.6823444962501526, 30.985029220581055]), (('conv1', 2466), [-0.6823444962501526, 30.985029220581055]), (('conv1', 2467), [-0.6823444962501526, 30.985029220581055]), (('conv1', 2468), [-0.6823444962501526, 30.985029220581055]), (('conv1', 2469), [-0.6823444962501526, 30.985029220581055]), (('conv1', 2470), [-0.6823444962501526, 30.985029220581055]), (('conv1', 2471), [-0.6823444962501526, 30.985029220581055]), (('conv1', 2472), [-0.6823444962501526, 30.985029220581055]), (('conv1', 2473), [-0.6823444962501526, 30.985029220581055]), (('conv1', 2474), [-0.6823444962501526, 30.985029220581055]), (('conv1', 2475), [-0.6823444962501526, 30.985029220581055]), (('conv1', 2476), [-0.6823444962501526, 30.985029220581055]), (('conv1', 2477), [-0.6823444962501526, 30.985029220581055]), (('conv1', 2478), [-0.6823444962501526, 30.985029220581055]), (('conv1', 2479), [-0.6823444962501526, 30.985029220581055]), (('conv1', 2480), [-0.6823444962501526, 30.985029220581055]), (('conv1', 2481), [-0.6823444962501526, 30.985029220581055]), (('conv1', 2482), [-0.6823444962501526, 30.985029220581055]), (('conv1', 2483), [-0.6823444962501526, 30.985029220581055]), (('conv1', 2484), [-0.6823444962501526, 30.985029220581055]), (('conv1', 2485), [-0.6823444962501526, 30.985029220581055]), (('conv1', 2486), [-0.6823444962501526, 30.985029220581055]), (('conv1', 2487), [-0.6823444962501526, 30.985029220581055]), (('conv1', 2488), [-0.6823444962501526, 30.985029220581055]), (('conv1', 2489), [-0.6823444962501526, 30.985029220581055]), (('conv1', 2490), [-0.6823444962501526, 30.985029220581055]), (('conv1', 2491), [-0.6823444962501526, 30.985029220581055]), (('conv1', 2492), [-0.6823444962501526, 30.985029220581055]), (('conv1', 2493), [-0.6823444962501526, 30.985029220581055]), (('conv1', 2494), [-0.6823444962501526, 30.985029220581055]), (('conv1', 2495), [-0.6823444962501526, 30.985029220581055]), (('conv1', 2496), [-0.6823444962501526, 30.985029220581055]), (('conv1', 2497), [-0.6823444962501526, 30.985029220581055]), (('conv1', 2498), [-0.6823444962501526, 30.985029220581055]), (('conv1', 2499), [-0.6823444962501526, 30.985029220581055]), (('conv1', 2500), [-0.6823444962501526, 30.985029220581055]), (('conv1', 2501), [-0.6823444962501526, 30.985029220581055]), (('conv1', 2502), [-0.6823444962501526, 30.985029220581055]), (('conv1', 2503), [-0.6823444962501526, 30.985029220581055]), (('conv1', 2504), [-0.6823444962501526, 30.985029220581055]), (('conv1', 2505), [-0.6823444962501526, 30.985029220581055]), (('conv1', 2506), [-0.6823444962501526, 30.985029220581055]), (('conv1', 2507), [-0.6823444962501526, 30.985029220581055]), (('conv1', 2508), [-0.6823444962501526, 30.985029220581055]), (('conv1', 2509), [-0.6823444962501526, 30.985029220581055]), (('conv1', 2510), [-0.6823444962501526, 30.985029220581055]), (('conv1', 2511), [-0.6823444962501526, 30.985029220581055]), (('conv1', 2512), [-0.6823444962501526, 30.985029220581055]), (('conv1', 2513), [-0.6823444962501526, 30.985029220581055]), (('conv1', 2514), [-0.6823444962501526, 30.985029220581055]), (('conv1', 2515), [-0.6823444962501526, 30.985029220581055]), (('conv1', 2516), [-0.6823444962501526, 30.985029220581055]), (('conv1', 2517), [-0.6823444962501526, 30.985029220581055]), (('conv1', 2518), [-0.6823444962501526, 30.985029220581055]), (('conv1', 2519), [-0.6823444962501526, 30.985029220581055]), (('conv1', 2520), [-0.6823444962501526, 30.985029220581055]), (('conv1', 2521), [-0.6823444962501526, 30.985029220581055]), (('conv1', 2522), [-0.6823444962501526, 30.985029220581055]), (('conv1', 2523), [-0.6823444962501526, 30.985029220581055]), (('conv1', 2524), [-0.6823444962501526, 30.985029220581055]), (('conv1', 2525), [-0.6823444962501526, 30.985029220581055]), (('conv1', 2526), [-0.6823444962501526, 30.985029220581055]), (('conv1', 2527), [-0.6823444962501526, 30.985029220581055]), (('conv1', 2528), [-0.6823444962501526, 30.985029220581055]), (('conv1', 2529), [-0.6823444962501526, 30.985029220581055]), (('conv1', 2530), [-0.6823444962501526, 30.985029220581055]), (('conv1', 2531), [-0.6823444962501526, 30.985029220581055]), (('conv1', 2532), [-0.6823444962501526, 30.985029220581055]), (('conv1', 2533), [-0.6823444962501526, 30.985029220581055]), (('conv1', 2534), [-0.6823444962501526, 30.985029220581055]), (('conv1', 2535), [-0.6823444962501526, 30.985029220581055]), (('conv1', 2536), [-0.6823444962501526, 30.985029220581055]), (('conv1', 2537), [-0.6823444962501526, 30.985029220581055]), (('conv1', 2538), [-0.6823444962501526, 30.985029220581055]), (('conv1', 2539), [-0.6823444962501526, 30.985029220581055]), (('conv1', 2540), [-0.6823444962501526, 30.985029220581055]), (('conv1', 2541), [-0.6823444962501526, 30.985029220581055]), (('conv1', 2542), [-0.6823444962501526, 30.985029220581055]), (('conv1', 2543), [-0.6823444962501526, 30.985029220581055]), (('conv1', 2544), [-0.6823444962501526, 30.985029220581055]), (('conv1', 2545), [-0.6823444962501526, 30.985029220581055]), (('conv1', 2546), [-0.6823444962501526, 30.985029220581055]), (('conv1', 2547), [-0.6823444962501526, 30.985029220581055]), (('conv1', 2548), [-0.6823444962501526, 30.985029220581055]), (('conv1', 2549), [-0.6823444962501526, 30.985029220581055]), (('conv1', 2550), [-0.6823444962501526, 30.985029220581055]), (('conv1', 2551), [-0.6823444962501526, 30.985029220581055]), (('conv1', 2552), [-0.6823444962501526, 30.985029220581055]), (('conv1', 2553), [-0.6823444962501526, 30.985029220581055]), (('conv1', 2554), [-0.6823444962501526, 30.985029220581055]), (('conv1', 2555), [-0.6823444962501526, 30.985029220581055]), (('conv1', 2556), [-0.6823444962501526, 30.985029220581055]), (('conv1', 2557), [-0.6823444962501526, 30.985029220581055]), (('conv1', 2558), [-0.6823444962501526, 30.985029220581055]), (('conv1', 2559), [-0.6823444962501526, 30.985029220581055]), (('conv1', 2560), [-0.6823444962501526, 30.985029220581055]), (('conv1', 2561), [-0.6823444962501526, 30.985029220581055]), (('conv1', 2562), [-0.6823444962501526, 30.985029220581055]), (('conv1', 2563), [-0.6823444962501526, 30.985029220581055]), (('conv1', 2564), [-0.6823444962501526, 30.985029220581055]), (('conv1', 2565), [-0.6823444962501526, 30.985029220581055]), (('conv1', 2566), [-0.6823444962501526, 30.985029220581055]), (('conv1', 2567), [-0.6823444962501526, 30.985029220581055]), (('conv1', 2568), [-0.6823444962501526, 30.985029220581055]), (('conv1', 2569), [-0.6823444962501526, 30.985029220581055]), (('conv1', 2570), [-0.6823444962501526, 30.985029220581055]), (('conv1', 2571), [-0.6823444962501526, 30.985029220581055]), (('conv1', 2572), [-0.6823444962501526, 30.985029220581055]), (('conv1', 2573), [-0.6823444962501526, 30.985029220581055]), (('conv1', 2574), [-0.6823444962501526, 30.985029220581055]), (('conv1', 2575), [-0.6823444962501526, 30.985029220581055]), (('conv1', 2576), [-0.6823444962501526, 30.985029220581055]), (('conv1', 2577), [-0.6823444962501526, 30.985029220581055]), (('conv1', 2578), [-0.6823444962501526, 30.985029220581055]), (('conv1', 2579), [-0.6823444962501526, 30.985029220581055]), (('conv1', 2580), [-0.6823444962501526, 30.985029220581055]), (('conv1', 2581), [-0.6823444962501526, 30.985029220581055]), (('conv1', 2582), [-0.6823444962501526, 30.985029220581055]), (('conv1', 2583), [-0.6823444962501526, 30.985029220581055]), (('conv1', 2584), [-0.6823444962501526, 30.985029220581055]), (('conv1', 2585), [-0.6823444962501526, 30.985029220581055]), (('conv1', 2586), [-0.6823444962501526, 30.985029220581055]), (('conv1', 2587), [-0.6823444962501526, 30.985029220581055]), (('conv1', 2588), [-0.6823444962501526, 30.985029220581055]), (('conv1', 2589), [-0.6823444962501526, 30.985029220581055]), (('conv1', 2590), [-0.6823444962501526, 30.985029220581055]), (('conv1', 2591), [-0.6823444962501526, 30.985029220581055]), (('conv1', 2592), [-0.6823444962501526, 30.985029220581055]), (('conv1', 2593), [-0.6823444962501526, 30.985029220581055]), (('conv1', 2594), [-0.6823444962501526, 30.985029220581055]), (('conv1', 2595), [-0.6823444962501526, 30.985029220581055]), (('conv1', 2596), [-0.6823444962501526, 30.985029220581055]), (('conv1', 2597), [-0.6823444962501526, 30.985029220581055]), (('conv1', 2598), [-0.6823444962501526, 30.985029220581055]), (('conv1', 2599), [-0.6823444962501526, 30.985029220581055]), (('conv1', 2600), [-0.6823444962501526, 30.985029220581055]), (('conv1', 2601), [-0.6823444962501526, 30.985029220581055]), (('conv1', 2602), [-0.6823444962501526, 30.985029220581055]), (('conv1', 2603), [-0.6823444962501526, 30.985029220581055]), (('conv1', 2604), [-0.6823444962501526, 30.985029220581055]), (('conv1', 2605), [-0.6823444962501526, 30.985029220581055]), (('conv1', 2606), [-0.6823444962501526, 30.985029220581055]), (('conv1', 2607), [-0.6823444962501526, 30.985029220581055]), (('conv1', 2608), [-0.6823444962501526, 30.985029220581055]), (('conv1', 2609), [-0.6823444962501526, 30.985029220581055]), (('conv1', 2610), [-0.6823444962501526, 30.985029220581055]), (('conv1', 2611), [-0.6823444962501526, 30.985029220581055]), (('conv1', 2612), [-0.6823444962501526, 30.985029220581055]), (('conv1', 2613), [-0.6823444962501526, 30.985029220581055]), (('conv1', 2614), [-0.6823444962501526, 30.985029220581055]), (('conv1', 2615), [-0.6823444962501526, 30.985029220581055]), (('conv1', 2616), [-0.6823444962501526, 30.985029220581055]), (('conv1', 2617), [-0.6823444962501526, 30.985029220581055]), (('conv1', 2618), [-0.6823444962501526, 30.985029220581055]), (('conv1', 2619), [-0.6823444962501526, 30.985029220581055]), (('conv1', 2620), [-0.6823444962501526, 30.985029220581055]), (('conv1', 2621), [-0.6823444962501526, 30.985029220581055]), (('conv1', 2622), [-0.6823444962501526, 30.985029220581055]), (('conv1', 2623), [-0.6823444962501526, 30.985029220581055]), (('conv1', 2624), [-0.6823444962501526, 30.985029220581055]), (('conv1', 2625), [-0.6823444962501526, 30.985029220581055]), (('conv1', 2626), [-0.6823444962501526, 30.985029220581055]), (('conv1', 2627), [-0.6823444962501526, 30.985029220581055]), (('conv1', 2628), [-0.6823444962501526, 30.985029220581055]), (('conv1', 2629), [-0.6823444962501526, 30.985029220581055]), (('conv1', 2630), [-0.6823444962501526, 30.985029220581055]), (('conv1', 2631), [-0.6823444962501526, 30.985029220581055]), (('conv1', 2632), [-0.6823444962501526, 30.985029220581055]), (('conv1', 2633), [-0.6823444962501526, 30.985029220581055]), (('conv1', 2634), [-0.6823444962501526, 30.985029220581055]), (('conv1', 2635), [-0.6823444962501526, 30.985029220581055]), (('conv1', 2636), [-0.6823444962501526, 30.985029220581055]), (('conv1', 2637), [-0.6823444962501526, 30.985029220581055]), (('conv1', 2638), [-0.6823444962501526, 30.985029220581055]), (('conv1', 2639), [-0.6823444962501526, 30.985029220581055]), (('conv1', 2640), [-0.6823444962501526, 30.985029220581055]), (('conv1', 2641), [-0.6823444962501526, 30.985029220581055]), (('conv1', 2642), [-0.6823444962501526, 30.985029220581055]), (('conv1', 2643), [-0.6823444962501526, 30.985029220581055]), (('conv1', 2644), [-0.6823444962501526, 30.985029220581055]), (('conv1', 2645), [-0.6823444962501526, 30.985029220581055]), (('conv1', 2646), [-0.6823444962501526, 30.985029220581055]), (('conv1', 2647), [-0.6823444962501526, 30.985029220581055]), (('conv1', 2648), [-0.6823444962501526, 30.985029220581055]), (('conv1', 2649), [-0.6823444962501526, 30.985029220581055]), (('conv1', 2650), [-0.6823444962501526, 30.985029220581055]), (('conv1', 2651), [-0.6823444962501526, 30.985029220581055]), (('conv1', 2652), [-0.6823444962501526, 30.985029220581055]), (('conv1', 2653), [-0.6823444962501526, 30.985029220581055]), (('conv1', 2654), [-0.6823444962501526, 30.985029220581055]), (('conv1', 2655), [-0.6823444962501526, 30.985029220581055]), (('conv1', 2656), [-0.6823444962501526, 30.985029220581055]), (('conv1', 2657), [-0.6823444962501526, 30.985029220581055]), (('conv1', 2658), [-0.6823444962501526, 30.985029220581055]), (('conv1', 2659), [-0.6823444962501526, 30.985029220581055]), (('conv1', 2660), [-0.6823444962501526, 30.985029220581055]), (('conv1', 2661), [-0.6823444962501526, 30.985029220581055]), (('conv1', 2662), [-0.6823444962501526, 30.985029220581055]), (('conv1', 2663), [-0.6823444962501526, 30.985029220581055]), (('conv1', 2664), [-0.6823444962501526, 30.985029220581055]), (('conv1', 2665), [-0.6823444962501526, 30.985029220581055]), (('conv1', 2666), [-0.6823444962501526, 30.985029220581055]), (('conv1', 2667), [-0.6823444962501526, 30.985029220581055]), (('conv1', 2668), [-0.6823444962501526, 30.985029220581055]), (('conv1', 2669), [-0.6823444962501526, 30.985029220581055]), (('conv1', 2670), [-0.6823444962501526, 30.985029220581055]), (('conv1', 2671), [-0.6823444962501526, 30.985029220581055]), (('conv1', 2672), [-0.6823444962501526, 30.985029220581055]), (('conv1', 2673), [-0.6823444962501526, 30.985029220581055]), (('conv1', 2674), [-0.6823444962501526, 30.985029220581055]), (('conv1', 2675), [-0.6823444962501526, 30.985029220581055]), (('conv1', 2676), [-0.6823444962501526, 30.985029220581055]), (('conv1', 2677), [-0.6823444962501526, 30.985029220581055]), (('conv1', 2678), [-0.6823444962501526, 30.985029220581055]), (('conv1', 2679), [-0.6823444962501526, 30.985029220581055]), (('conv1', 2680), [-0.6823444962501526, 30.985029220581055]), (('conv1', 2681), [-0.6823444962501526, 30.985029220581055]), (('conv1', 2682), [-0.6823444962501526, 30.985029220581055]), (('conv1', 2683), [-0.6823444962501526, 30.985029220581055]), (('conv1', 2684), [-0.6823444962501526, 30.985029220581055]), (('conv1', 2685), [-0.6823444962501526, 30.985029220581055]), (('conv1', 2686), [-0.6823444962501526, 30.985029220581055]), (('conv1', 2687), [-0.6823444962501526, 30.985029220581055]), (('conv1', 2688), [-0.6823444962501526, 30.985029220581055]), (('conv1', 2689), [-0.6823444962501526, 30.985029220581055]), (('conv1', 2690), [-0.6823444962501526, 30.985029220581055]), (('conv1', 2691), [-0.6823444962501526, 30.985029220581055]), (('conv1', 2692), [-0.6823444962501526, 30.985029220581055]), (('conv1', 2693), [-0.6823444962501526, 30.985029220581055]), (('conv1', 2694), [-0.6823444962501526, 30.985029220581055]), (('conv1', 2695), [-0.6823444962501526, 30.985029220581055]), (('conv1', 2696), [-0.6823444962501526, 30.985029220581055]), (('conv1', 2697), [-0.6823444962501526, 30.985029220581055]), (('conv1', 2698), [-0.6823444962501526, 30.985029220581055]), (('conv1', 2699), [-0.6823444962501526, 30.985029220581055]), (('conv1', 2700), [-0.6823444962501526, 30.985029220581055]), (('conv1', 2701), [-0.6823444962501526, 30.985029220581055]), (('conv1', 2702), [-0.6823444962501526, 30.985029220581055]), (('conv1', 2703), [-0.6823444962501526, 30.985029220581055]), (('conv1', 2704), [-0.6823444962501526, 30.985029220581055]), (('conv1', 2705), [-0.6823444962501526, 30.985029220581055]), (('conv1', 2706), [-0.6823444962501526, 30.985029220581055]), (('conv1', 2707), [-0.6823444962501526, 30.985029220581055]), (('conv1', 2708), [-0.6823444962501526, 30.985029220581055]), (('conv1', 2709), [-0.6823444962501526, 30.985029220581055]), (('conv1', 2710), [-0.6823444962501526, 30.985029220581055]), (('conv1', 2711), [-0.6823444962501526, 30.985029220581055]), (('conv1', 2712), [-0.6823444962501526, 30.985029220581055]), (('conv1', 2713), [-0.6823444962501526, 30.985029220581055]), (('conv1', 2714), [-0.6823444962501526, 30.985029220581055]), (('conv1', 2715), [-0.6823444962501526, 30.985029220581055]), (('conv1', 2716), [-0.6823444962501526, 30.985029220581055]), (('conv1', 2717), [-0.6823444962501526, 30.985029220581055]), (('conv1', 2718), [-0.6823444962501526, 30.985029220581055]), (('conv1', 2719), [-0.6823444962501526, 30.985029220581055]), (('conv1', 2720), [-0.6823444962501526, 30.985029220581055]), (('conv1', 2721), [-0.6823444962501526, 30.985029220581055]), (('conv1', 2722), [-0.6823444962501526, 30.985029220581055]), (('conv1', 2723), [-0.6823444962501526, 30.985029220581055]), (('conv1', 2724), [-0.6823444962501526, 30.985029220581055]), (('conv1', 2725), [-0.6823444962501526, 30.985029220581055]), (('conv1', 2726), [-0.6823444962501526, 30.985029220581055]), (('conv1', 2727), [-0.6823444962501526, 30.985029220581055]), (('conv1', 2728), [-0.6823444962501526, 30.985029220581055]), (('conv1', 2729), [-0.6823444962501526, 30.985029220581055]), (('conv1', 2730), [-0.6823444962501526, 30.985029220581055]), (('conv1', 2731), [-0.6823444962501526, 30.985029220581055]), (('conv1', 2732), [-0.6823444962501526, 30.985029220581055]), (('conv1', 2733), [-0.6823444962501526, 30.985029220581055]), (('conv1', 2734), [-0.6823444962501526, 30.985029220581055]), (('conv1', 2735), [-0.6823444962501526, 30.985029220581055]), (('conv1', 2736), [-0.6823444962501526, 30.985029220581055]), (('conv1', 2737), [-0.6823444962501526, 30.985029220581055]), (('conv1', 2738), [-0.6823444962501526, 30.985029220581055]), (('conv1', 2739), [-0.6823444962501526, 30.985029220581055]), (('conv1', 2740), [-0.6823444962501526, 30.985029220581055]), (('conv1', 2741), [-0.6823444962501526, 30.985029220581055]), (('conv1', 2742), [-0.6823444962501526, 30.985029220581055]), (('conv1', 2743), [-0.6823444962501526, 30.985029220581055]), (('conv1', 2744), [-0.6823444962501526, 30.985029220581055]), (('conv1', 2745), [-0.6823444962501526, 30.985029220581055]), (('conv1', 2746), [-0.6823444962501526, 30.985029220581055]), (('conv1', 2747), [-0.6823444962501526, 30.985029220581055]), (('conv1', 2748), [-0.6823444962501526, 30.985029220581055]), (('conv1', 2749), [-0.6823444962501526, 30.985029220581055]), (('conv1', 2750), [-0.6823444962501526, 30.985029220581055]), (('conv1', 2751), [-0.6823444962501526, 30.985029220581055]), (('conv1', 2752), [-0.6823444962501526, 30.985029220581055]), (('conv1', 2753), [-0.6823444962501526, 30.985029220581055]), (('conv1', 2754), [-0.6823444962501526, 30.985029220581055]), (('conv1', 2755), [-0.6823444962501526, 30.985029220581055]), (('conv1', 2756), [-0.6823444962501526, 30.985029220581055]), (('conv1', 2757), [-0.6823444962501526, 30.985029220581055]), (('conv1', 2758), [-0.6823444962501526, 30.985029220581055]), (('conv1', 2759), [-0.6823444962501526, 30.985029220581055]), (('conv1', 2760), [-0.6823444962501526, 30.985029220581055]), (('conv1', 2761), [-0.6823444962501526, 30.985029220581055]), (('conv1', 2762), [-0.6823444962501526, 30.985029220581055]), (('conv1', 2763), [-0.6823444962501526, 30.985029220581055]), (('conv1', 2764), [-0.6823444962501526, 30.985029220581055]), (('conv1', 2765), [-0.6823444962501526, 30.985029220581055]), (('conv1', 2766), [-0.6823444962501526, 30.985029220581055]), (('conv1', 2767), [-0.6823444962501526, 30.985029220581055]), (('conv1', 2768), [-0.6823444962501526, 30.985029220581055]), (('conv1', 2769), [-0.6823444962501526, 30.985029220581055]), (('conv1', 2770), [-0.6823444962501526, 30.985029220581055]), (('conv1', 2771), [-0.6823444962501526, 30.985029220581055]), (('conv1', 2772), [-0.6823444962501526, 30.985029220581055]), (('conv1', 2773), [-0.6823444962501526, 30.985029220581055]), (('conv1', 2774), [-0.6823444962501526, 30.985029220581055]), (('conv1', 2775), [-0.6823444962501526, 30.985029220581055]), (('conv1', 2776), [-0.6823444962501526, 30.985029220581055]), (('conv1', 2777), [-0.6823444962501526, 30.985029220581055]), (('conv1', 2778), [-0.6823444962501526, 30.985029220581055]), (('conv1', 2779), [-0.6823444962501526, 30.985029220581055]), (('conv1', 2780), [-0.6823444962501526, 30.985029220581055]), (('conv1', 2781), [-0.6823444962501526, 30.985029220581055]), (('conv1', 2782), [-0.6823444962501526, 30.985029220581055]), (('conv1', 2783), [-0.6823444962501526, 30.985029220581055]), (('conv1', 2784), [-0.6823444962501526, 30.985029220581055]), (('conv1', 2785), [-0.6823444962501526, 30.985029220581055]), (('conv1', 2786), [-0.6823444962501526, 30.985029220581055]), (('conv1', 2787), [-0.6823444962501526, 30.985029220581055]), (('conv1', 2788), [-0.6823444962501526, 30.985029220581055]), (('conv1', 2789), [-0.6823444962501526, 30.985029220581055]), (('conv1', 2790), [-0.6823444962501526, 30.985029220581055]), (('conv1', 2791), [-0.6823444962501526, 30.985029220581055]), (('conv1', 2792), [-0.6823444962501526, 30.985029220581055]), (('conv1', 2793), [-0.6823444962501526, 30.985029220581055]), (('conv1', 2794), [-0.6823444962501526, 30.985029220581055]), (('conv1', 2795), [-0.6823444962501526, 30.985029220581055]), (('conv1', 2796), [-0.6823444962501526, 30.985029220581055]), (('conv1', 2797), [-0.6823444962501526, 30.985029220581055]), (('conv1', 2798), [-0.6823444962501526, 30.985029220581055]), (('conv1', 2799), [-0.6823444962501526, 30.985029220581055]), (('conv1', 2800), [-0.6823444962501526, 30.985029220581055]), (('conv1', 2801), [-0.6823444962501526, 30.985029220581055]), (('conv1', 2802), [-0.6823444962501526, 30.985029220581055]), (('conv1', 2803), [-0.6823444962501526, 30.985029220581055]), (('conv1', 2804), [-0.6823444962501526, 30.985029220581055]), (('conv1', 2805), [-0.6823444962501526, 30.985029220581055]), (('conv1', 2806), [-0.6823444962501526, 30.985029220581055]), (('conv1', 2807), [-0.6823444962501526, 30.985029220581055]), (('conv1', 2808), [-0.6823444962501526, 30.985029220581055]), (('conv1', 2809), [-0.6823444962501526, 30.985029220581055]), (('conv1', 2810), [-0.6823444962501526, 30.985029220581055]), (('conv1', 2811), [-0.6823444962501526, 30.985029220581055]), (('conv1', 2812), [-0.6823444962501526, 30.985029220581055]), (('conv1', 2813), [-0.6823444962501526, 30.985029220581055]), (('conv1', 2814), [-0.6823444962501526, 30.985029220581055]), (('conv1', 2815), [-0.6823444962501526, 30.985029220581055]), (('conv1', 2816), [-0.6823444962501526, 30.985029220581055]), (('conv1', 2817), [-0.6823444962501526, 30.985029220581055]), (('conv1', 2818), [-0.6823444962501526, 30.985029220581055]), (('conv1', 2819), [-0.6823444962501526, 30.985029220581055]), (('conv1', 2820), [-0.6823444962501526, 30.985029220581055]), (('conv1', 2821), [-0.6823444962501526, 30.985029220581055]), (('conv1', 2822), [-0.6823444962501526, 30.985029220581055]), (('conv1', 2823), [-0.6823444962501526, 30.985029220581055]), (('conv1', 2824), [-0.6823444962501526, 30.985029220581055]), (('conv1', 2825), [-0.6823444962501526, 30.985029220581055]), (('conv1', 2826), [-0.6823444962501526, 30.985029220581055]), (('conv1', 2827), [-0.6823444962501526, 30.985029220581055]), (('conv1', 2828), [-0.6823444962501526, 30.985029220581055]), (('conv1', 2829), [-0.6823444962501526, 30.985029220581055]), (('conv1', 2830), [-0.6823444962501526, 30.985029220581055]), (('conv1', 2831), [-0.6823444962501526, 30.985029220581055]), (('conv1', 2832), [-0.6823444962501526, 30.985029220581055]), (('conv1', 2833), [-0.6823444962501526, 30.985029220581055]), (('conv1', 2834), [-0.6823444962501526, 30.985029220581055]), (('conv1', 2835), [-0.6823444962501526, 30.985029220581055]), (('conv1', 2836), [-0.6823444962501526, 30.985029220581055]), (('conv1', 2837), [-0.6823444962501526, 30.985029220581055]), (('conv1', 2838), [-0.6823444962501526, 30.985029220581055]), (('conv1', 2839), [-0.6823444962501526, 30.985029220581055]), (('conv1', 2840), [-0.6823444962501526, 30.985029220581055]), (('conv1', 2841), [-0.6823444962501526, 30.985029220581055]), (('conv1', 2842), [-0.6823444962501526, 30.985029220581055]), (('conv1', 2843), [-0.6823444962501526, 30.985029220581055]), (('conv1', 2844), [-0.6823444962501526, 30.985029220581055]), (('conv1', 2845), [-0.6823444962501526, 30.985029220581055]), (('conv1', 2846), [-0.6823444962501526, 30.985029220581055]), (('conv1', 2847), [-0.6823444962501526, 30.985029220581055]), (('conv1', 2848), [-0.6823444962501526, 30.985029220581055]), (('conv1', 2849), [-0.6823444962501526, 30.985029220581055]), (('conv1', 2850), [-0.6823444962501526, 30.985029220581055]), (('conv1', 2851), [-0.6823444962501526, 30.985029220581055]), (('conv1', 2852), [-0.6823444962501526, 30.985029220581055]), (('conv1', 2853), [-0.6823444962501526, 30.985029220581055]), (('conv1', 2854), [-0.6823444962501526, 30.985029220581055]), (('conv1', 2855), [-0.6823444962501526, 30.985029220581055]), (('conv1', 2856), [-0.6823444962501526, 30.985029220581055]), (('conv1', 2857), [-0.6823444962501526, 30.985029220581055]), (('conv1', 2858), [-0.6823444962501526, 30.985029220581055]), (('conv1', 2859), [-0.6823444962501526, 30.985029220581055]), (('conv1', 2860), [-0.6823444962501526, 30.985029220581055]), (('conv1', 2861), [-0.6823444962501526, 30.985029220581055]), (('conv1', 2862), [-0.6823444962501526, 30.985029220581055]), (('conv1', 2863), [-0.6823444962501526, 30.985029220581055]), (('conv1', 2864), [-0.6823444962501526, 30.985029220581055]), (('conv1', 2865), [-0.6823444962501526, 30.985029220581055]), (('conv1', 2866), [-0.6823444962501526, 30.985029220581055]), (('conv1', 2867), [-0.6823444962501526, 30.985029220581055]), (('conv1', 2868), [-0.6823444962501526, 30.985029220581055]), (('conv1', 2869), [-0.6823444962501526, 30.985029220581055]), (('conv1', 2870), [-0.6823444962501526, 30.985029220581055]), (('conv1', 2871), [-0.6823444962501526, 30.985029220581055]), (('conv1', 2872), [-0.6823444962501526, 30.985029220581055]), (('conv1', 2873), [-0.6823444962501526, 30.985029220581055]), (('conv1', 2874), [-0.6823444962501526, 30.985029220581055]), (('conv1', 2875), [-0.6823444962501526, 30.985029220581055]), (('conv1', 2876), [-0.6823444962501526, 30.985029220581055]), (('conv1', 2877), [-0.6823444962501526, 30.985029220581055]), (('conv1', 2878), [-0.6823444962501526, 30.985029220581055]), (('conv1', 2879), [-0.6823444962501526, 30.985029220581055]), (('conv1', 2880), [-0.6823444962501526, 30.985029220581055]), (('conv1', 2881), [-0.6823444962501526, 30.985029220581055]), (('conv1', 2882), [-0.6823444962501526, 30.985029220581055]), (('conv1', 2883), [-0.6823444962501526, 30.985029220581055]), (('conv1', 2884), [-0.6823444962501526, 30.985029220581055]), (('conv1', 2885), [-0.6823444962501526, 30.985029220581055]), (('conv1', 2886), [-0.6823444962501526, 30.985029220581055]), (('conv1', 2887), [-0.6823444962501526, 30.985029220581055]), (('conv1', 2888), [-0.6823444962501526, 30.985029220581055]), (('conv1', 2889), [-0.6823444962501526, 30.985029220581055]), (('conv1', 2890), [-0.6823444962501526, 30.985029220581055]), (('conv1', 2891), [-0.6823444962501526, 30.985029220581055]), (('conv1', 2892), [-0.6823444962501526, 30.985029220581055]), (('conv1', 2893), [-0.6823444962501526, 30.985029220581055]), (('conv1', 2894), [-0.6823444962501526, 30.985029220581055]), (('conv1', 2895), [-0.6823444962501526, 30.985029220581055]), (('conv1', 2896), [-0.6823444962501526, 30.985029220581055]), (('conv1', 2897), [-0.6823444962501526, 30.985029220581055]), (('conv1', 2898), [-0.6823444962501526, 30.985029220581055]), (('conv1', 2899), [-0.6823444962501526, 30.985029220581055]), (('conv1', 2900), [-0.6823444962501526, 30.985029220581055]), (('conv1', 2901), [-0.6823444962501526, 30.985029220581055]), (('conv1', 2902), [-0.6823444962501526, 30.985029220581055]), (('conv1', 2903), [-0.6823444962501526, 30.985029220581055]), (('conv1', 2904), [-0.6823444962501526, 30.985029220581055]), (('conv1', 2905), [-0.6823444962501526, 30.985029220581055]), (('conv1', 2906), [-0.6823444962501526, 30.985029220581055]), (('conv1', 2907), [-0.6823444962501526, 30.985029220581055]), (('conv1', 2908), [-0.6823444962501526, 30.985029220581055]), (('conv1', 2909), [-0.6823444962501526, 30.985029220581055]), (('conv1', 2910), [-0.6823444962501526, 30.985029220581055]), (('conv1', 2911), [-0.6823444962501526, 30.985029220581055]), (('conv1', 2912), [-0.6823444962501526, 30.985029220581055]), (('conv1', 2913), [-0.6823444962501526, 30.985029220581055]), (('conv1', 2914), [-0.6823444962501526, 30.985029220581055]), (('conv1', 2915), [-0.6823444962501526, 30.985029220581055]), (('conv1', 2916), [-0.6823444962501526, 30.985029220581055]), (('conv1', 2917), [-0.6823444962501526, 30.985029220581055]), (('conv1', 2918), [-0.6823444962501526, 30.985029220581055]), (('conv1', 2919), [-0.6823444962501526, 30.985029220581055]), (('conv1', 2920), [-0.6823444962501526, 30.985029220581055]), (('conv1', 2921), [-0.6823444962501526, 30.985029220581055]), (('conv1', 2922), [-0.6823444962501526, 30.985029220581055]), (('conv1', 2923), [-0.6823444962501526, 30.985029220581055]), (('conv1', 2924), [-0.6823444962501526, 30.985029220581055]), (('conv1', 2925), [-0.6823444962501526, 30.985029220581055]), (('conv1', 2926), [-0.6823444962501526, 30.985029220581055]), (('conv1', 2927), [-0.6823444962501526, 30.985029220581055]), (('conv1', 2928), [-0.6823444962501526, 30.985029220581055]), (('conv1', 2929), [-0.6823444962501526, 30.985029220581055]), (('conv1', 2930), [-0.6823444962501526, 30.985029220581055]), (('conv1', 2931), [-0.6823444962501526, 30.985029220581055]), (('conv1', 2932), [-0.6823444962501526, 30.985029220581055]), (('conv1', 2933), [-0.6823444962501526, 30.985029220581055]), (('conv1', 2934), [-0.6823444962501526, 30.985029220581055]), (('conv1', 2935), [-0.6823444962501526, 30.985029220581055]), (('conv1', 2936), [-0.6823444962501526, 30.985029220581055]), (('conv1', 2937), [-0.6823444962501526, 30.985029220581055]), (('conv1', 2938), [-0.6823444962501526, 30.985029220581055]), (('conv1', 2939), [-0.6823444962501526, 30.985029220581055]), (('conv1', 2940), [-0.6823444962501526, 30.985029220581055]), (('conv1', 2941), [-0.6823444962501526, 30.985029220581055]), (('conv1', 2942), [-0.6823444962501526, 30.985029220581055]), (('conv1', 2943), [-0.6823444962501526, 30.985029220581055]), (('conv1', 2944), [-0.6823444962501526, 30.985029220581055]), (('conv1', 2945), [-0.6823444962501526, 30.985029220581055]), (('conv1', 2946), [-0.6823444962501526, 30.985029220581055]), (('conv1', 2947), [-0.6823444962501526, 30.985029220581055]), (('conv1', 2948), [-0.6823444962501526, 30.985029220581055]), (('conv1', 2949), [-0.6823444962501526, 30.985029220581055]), (('conv1', 2950), [-0.6823444962501526, 30.985029220581055]), (('conv1', 2951), [-0.6823444962501526, 30.985029220581055]), (('conv1', 2952), [-0.6823444962501526, 30.985029220581055]), (('conv1', 2953), [-0.6823444962501526, 30.985029220581055]), (('conv1', 2954), [-0.6823444962501526, 30.985029220581055]), (('conv1', 2955), [-0.6823444962501526, 30.985029220581055]), (('conv1', 2956), [-0.6823444962501526, 30.985029220581055]), (('conv1', 2957), [-0.6823444962501526, 30.985029220581055]), (('conv1', 2958), [-0.6823444962501526, 30.985029220581055]), (('conv1', 2959), [-0.6823444962501526, 30.985029220581055]), (('conv1', 2960), [-0.6823444962501526, 30.985029220581055]), (('conv1', 2961), [-0.6823444962501526, 30.985029220581055]), (('conv1', 2962), [-0.6823444962501526, 30.985029220581055]), (('conv1', 2963), [-0.6823444962501526, 30.985029220581055]), (('conv1', 2964), [-0.6823444962501526, 30.985029220581055]), (('conv1', 2965), [-0.6823444962501526, 30.985029220581055]), (('conv1', 2966), [-0.6823444962501526, 30.985029220581055]), (('conv1', 2967), [-0.6823444962501526, 30.985029220581055]), (('conv1', 2968), [-0.6823444962501526, 30.985029220581055]), (('conv1', 2969), [-0.6823444962501526, 30.985029220581055]), (('conv1', 2970), [-0.6823444962501526, 30.985029220581055]), (('conv1', 2971), [-0.6823444962501526, 30.985029220581055]), (('conv1', 2972), [-0.6823444962501526, 30.985029220581055]), (('conv1', 2973), [-0.6823444962501526, 30.985029220581055]), (('conv1', 2974), [-0.6823444962501526, 30.985029220581055]), (('conv1', 2975), [-0.6823444962501526, 30.985029220581055]), (('conv1', 2976), [-0.6823444962501526, 30.985029220581055]), (('conv1', 2977), [-0.6823444962501526, 30.985029220581055]), (('conv1', 2978), [-0.6823444962501526, 30.985029220581055]), (('conv1', 2979), [-0.6823444962501526, 30.985029220581055]), (('conv1', 2980), [-0.6823444962501526, 30.985029220581055]), (('conv1', 2981), [-0.6823444962501526, 30.985029220581055]), (('conv1', 2982), [-0.6823444962501526, 30.985029220581055]), (('conv1', 2983), [-0.6823444962501526, 30.985029220581055]), (('conv1', 2984), [-0.6823444962501526, 30.985029220581055]), (('conv1', 2985), [-0.6823444962501526, 30.985029220581055]), (('conv1', 2986), [-0.6823444962501526, 30.985029220581055]), (('conv1', 2987), [-0.6823444962501526, 30.985029220581055]), (('conv1', 2988), [-0.6823444962501526, 30.985029220581055]), (('conv1', 2989), [-0.6823444962501526, 30.985029220581055]), (('conv1', 2990), [-0.6823444962501526, 30.985029220581055]), (('conv1', 2991), [-0.6823444962501526, 30.985029220581055]), (('conv1', 2992), [-0.6823444962501526, 30.985029220581055]), (('conv1', 2993), [-0.6823444962501526, 30.985029220581055]), (('conv1', 2994), [-0.6823444962501526, 30.985029220581055]), (('conv1', 2995), [-0.6823444962501526, 30.985029220581055]), (('conv1', 2996), [-0.6823444962501526, 30.985029220581055]), (('conv1', 2997), [-0.6823444962501526, 30.985029220581055]), (('conv1', 2998), [-0.6823444962501526, 30.985029220581055]), (('conv1', 2999), [-0.6823444962501526, 30.985029220581055]), (('conv1', 3000), [-0.6823444962501526, 30.985029220581055]), (('conv1', 3001), [-0.6823444962501526, 30.985029220581055]), (('conv1', 3002), [-0.6823444962501526, 30.985029220581055]), (('conv1', 3003), [-0.6823444962501526, 30.985029220581055]), (('conv1', 3004), [-0.6823444962501526, 30.985029220581055]), (('conv1', 3005), [-0.6823444962501526, 30.985029220581055]), (('conv1', 3006), [-0.6823444962501526, 30.985029220581055]), (('conv1', 3007), [-0.6823444962501526, 30.985029220581055]), (('conv1', 3008), [-0.6823444962501526, 30.985029220581055]), (('conv1', 3009), [-0.6823444962501526, 30.985029220581055]), (('conv1', 3010), [-0.6823444962501526, 30.985029220581055]), (('conv1', 3011), [-0.6823444962501526, 30.985029220581055]), (('conv1', 3012), [-0.6823444962501526, 30.985029220581055]), (('conv1', 3013), [-0.6823444962501526, 30.985029220581055]), (('conv1', 3014), [-0.6823444962501526, 30.985029220581055]), (('conv1', 3015), [-0.6823444962501526, 30.985029220581055]), (('conv1', 3016), [-0.6823444962501526, 30.985029220581055]), (('conv1', 3017), [-0.6823444962501526, 30.985029220581055]), (('conv1', 3018), [-0.6823444962501526, 30.985029220581055]), (('conv1', 3019), [-0.6823444962501526, 30.985029220581055]), (('conv1', 3020), [-0.6823444962501526, 30.985029220581055]), (('conv1', 3021), [-0.6823444962501526, 30.985029220581055]), (('conv1', 3022), [-0.6823444962501526, 30.985029220581055]), (('conv1', 3023), [-0.6823444962501526, 30.985029220581055]), (('conv1', 3024), [-0.6823444962501526, 30.985029220581055]), (('conv1', 3025), [-0.6823444962501526, 30.985029220581055]), (('conv1', 3026), [-0.6823444962501526, 30.985029220581055]), (('conv1', 3027), [-0.6823444962501526, 30.985029220581055]), (('conv1', 3028), [-0.6823444962501526, 30.985029220581055]), (('conv1', 3029), [-0.6823444962501526, 30.985029220581055]), (('conv1', 3030), [-0.6823444962501526, 30.985029220581055]), (('conv1', 3031), [-0.6823444962501526, 30.985029220581055]), (('conv1', 3032), [-0.6823444962501526, 30.985029220581055]), (('conv1', 3033), [-0.6823444962501526, 30.985029220581055]), (('conv1', 3034), [-0.6823444962501526, 30.985029220581055]), (('conv1', 3035), [-0.6823444962501526, 30.985029220581055]), (('conv1', 3036), [-0.6823444962501526, 30.985029220581055]), (('conv1', 3037), [-0.6823444962501526, 30.985029220581055]), (('conv1', 3038), [-0.6823444962501526, 30.985029220581055]), (('conv1', 3039), [-0.6823444962501526, 30.985029220581055]), (('conv1', 3040), [-0.6823444962501526, 30.985029220581055]), (('conv1', 3041), [-0.6823444962501526, 30.985029220581055]), (('conv1', 3042), [-0.6823444962501526, 30.985029220581055]), (('conv1', 3043), [-0.6823444962501526, 30.985029220581055]), (('conv1', 3044), [-0.6823444962501526, 30.985029220581055]), (('conv1', 3045), [-0.6823444962501526, 30.985029220581055]), (('conv1', 3046), [-0.6823444962501526, 30.985029220581055]), (('conv1', 3047), [-0.6823444962501526, 30.985029220581055]), (('conv1', 3048), [-0.6823444962501526, 30.985029220581055]), (('conv1', 3049), [-0.6823444962501526, 30.985029220581055]), (('conv1', 3050), [-0.6823444962501526, 30.985029220581055]), (('conv1', 3051), [-0.6823444962501526, 30.985029220581055]), (('conv1', 3052), [-0.6823444962501526, 30.985029220581055]), (('conv1', 3053), [-0.6823444962501526, 30.985029220581055]), (('conv1', 3054), [-0.6823444962501526, 30.985029220581055]), (('conv1', 3055), [-0.6823444962501526, 30.985029220581055]), (('conv1', 3056), [-0.6823444962501526, 30.985029220581055]), (('conv1', 3057), [-0.6823444962501526, 30.985029220581055]), (('conv1', 3058), [-0.6823444962501526, 30.985029220581055]), (('conv1', 3059), [-0.6823444962501526, 30.985029220581055]), (('conv1', 3060), [-0.6823444962501526, 30.985029220581055]), (('conv1', 3061), [-0.6823444962501526, 30.985029220581055]), (('conv1', 3062), [-0.6823444962501526, 30.985029220581055]), (('conv1', 3063), [-0.6823444962501526, 30.985029220581055]), (('conv1', 3064), [-0.6823444962501526, 30.985029220581055]), (('conv1', 3065), [-0.6823444962501526, 30.985029220581055]), (('conv1', 3066), [-0.6823444962501526, 30.985029220581055]), (('conv1', 3067), [-0.6823444962501526, 30.985029220581055]), (('conv1', 3068), [-0.6823444962501526, 30.985029220581055]), (('conv1', 3069), [-0.6823444962501526, 30.985029220581055]), (('conv1', 3070), [-0.6823444962501526, 30.985029220581055]), (('conv1', 3071), [-0.6823444962501526, 30.985029220581055]), (('conv1', 3072), [-0.6823444962501526, 30.985029220581055]), (('conv1', 3073), [-0.6823444962501526, 30.985029220581055]), (('conv1', 3074), [-0.6823444962501526, 30.985029220581055]), (('conv1', 3075), [-0.6823444962501526, 30.985029220581055]), (('conv1', 3076), [-0.6823444962501526, 30.985029220581055]), (('conv1', 3077), [-0.6823444962501526, 30.985029220581055]), (('conv1', 3078), [-0.6823444962501526, 30.985029220581055]), (('conv1', 3079), [-0.6823444962501526, 30.985029220581055]), (('conv1', 3080), [-0.6823444962501526, 30.985029220581055]), (('conv1', 3081), [-0.6823444962501526, 30.985029220581055]), (('conv1', 3082), [-0.6823444962501526, 30.985029220581055]), (('conv1', 3083), [-0.6823444962501526, 30.985029220581055]), (('conv1', 3084), [-0.6823444962501526, 30.985029220581055]), (('conv1', 3085), [-0.6823444962501526, 30.985029220581055]), (('conv1', 3086), [-0.6823444962501526, 30.985029220581055]), (('conv1', 3087), [-0.6823444962501526, 30.985029220581055]), (('conv1', 3088), [-0.6823444962501526, 30.985029220581055]), (('conv1', 3089), [-0.6823444962501526, 30.985029220581055]), (('conv1', 3090), [-0.6823444962501526, 30.985029220581055]), (('conv1', 3091), [-0.6823444962501526, 30.985029220581055]), (('conv1', 3092), [-0.6823444962501526, 30.985029220581055]), (('conv1', 3093), [-0.6823444962501526, 30.985029220581055]), (('conv1', 3094), [-0.6823444962501526, 30.985029220581055]), (('conv1', 3095), [-0.6823444962501526, 30.985029220581055]), (('conv1', 3096), [-0.6823444962501526, 30.985029220581055]), (('conv1', 3097), [-0.6823444962501526, 30.985029220581055]), (('conv1', 3098), [-0.6823444962501526, 30.985029220581055]), (('conv1', 3099), [-0.6823444962501526, 30.985029220581055]), (('conv1', 3100), [-0.6823444962501526, 30.985029220581055]), (('conv1', 3101), [-0.6823444962501526, 30.985029220581055]), (('conv1', 3102), [-0.6823444962501526, 30.985029220581055]), (('conv1', 3103), [-0.6823444962501526, 30.985029220581055]), (('conv1', 3104), [-0.6823444962501526, 30.985029220581055]), (('conv1', 3105), [-0.6823444962501526, 30.985029220581055]), (('conv1', 3106), [-0.6823444962501526, 30.985029220581055]), (('conv1', 3107), [-0.6823444962501526, 30.985029220581055]), (('conv1', 3108), [-0.6823444962501526, 30.985029220581055]), (('conv1', 3109), [-0.6823444962501526, 30.985029220581055]), (('conv1', 3110), [-0.6823444962501526, 30.985029220581055]), (('conv1', 3111), [-0.6823444962501526, 30.985029220581055]), (('conv1', 3112), [-0.6823444962501526, 30.985029220581055]), (('conv1', 3113), [-0.6823444962501526, 30.985029220581055]), (('conv1', 3114), [-0.6823444962501526, 30.985029220581055]), (('conv1', 3115), [-0.6823444962501526, 30.985029220581055]), (('conv1', 3116), [-0.6823444962501526, 30.985029220581055]), (('conv1', 3117), [-0.6823444962501526, 30.985029220581055]), (('conv1', 3118), [-0.6823444962501526, 30.985029220581055]), (('conv1', 3119), [-0.6823444962501526, 30.985029220581055]), (('conv1', 3120), [-0.6823444962501526, 30.985029220581055]), (('conv1', 3121), [-0.6823444962501526, 30.985029220581055]), (('conv1', 3122), [-0.6823444962501526, 30.985029220581055]), (('conv1', 3123), [-0.6823444962501526, 30.985029220581055]), (('conv1', 3124), [-0.6823444962501526, 30.985029220581055]), (('conv1', 3125), [-0.6823444962501526, 30.985029220581055]), (('conv1', 3126), [-0.6823444962501526, 30.985029220581055]), (('conv1', 3127), [-0.6823444962501526, 30.985029220581055]), (('conv1', 3128), [-0.6823444962501526, 30.985029220581055]), (('conv1', 3129), [-0.6823444962501526, 30.985029220581055]), (('conv1', 3130), [-0.6823444962501526, 30.985029220581055]), (('conv1', 3131), [-0.6823444962501526, 30.985029220581055]), (('conv1', 3132), [-0.6823444962501526, 30.985029220581055]), (('conv1', 3133), [-0.6823444962501526, 30.985029220581055]), (('conv1', 3134), [-0.6823444962501526, 30.985029220581055]), (('conv1', 3135), [-0.6823444962501526, 30.985029220581055]), (('conv1', 3136), [-0.6823444962501526, 30.985029220581055]), (('conv1', 3137), [-0.6823444962501526, 30.985029220581055]), (('conv1', 3138), [-0.6823444962501526, 30.985029220581055]), (('conv1', 3139), [-0.6823444962501526, 30.985029220581055]), (('conv1', 3140), [-0.6823444962501526, 30.985029220581055]), (('conv1', 3141), [-0.6823444962501526, 30.985029220581055]), (('conv1', 3142), [-0.6823444962501526, 30.985029220581055]), (('conv1', 3143), [-0.6823444962501526, 30.985029220581055]), (('conv1', 3144), [-0.6823444962501526, 30.985029220581055]), (('conv1', 3145), [-0.6823444962501526, 30.985029220581055]), (('conv1', 3146), [-0.6823444962501526, 30.985029220581055]), (('conv1', 3147), [-0.6823444962501526, 30.985029220581055]), (('conv1', 3148), [-0.6823444962501526, 30.985029220581055]), (('conv1', 3149), [-0.6823444962501526, 30.985029220581055]), (('conv1', 3150), [-0.6823444962501526, 30.985029220581055]), (('conv1', 3151), [-0.6823444962501526, 30.985029220581055]), (('conv1', 3152), [-0.6823444962501526, 30.985029220581055]), (('conv1', 3153), [-0.6823444962501526, 30.985029220581055]), (('conv1', 3154), [-0.6823444962501526, 30.985029220581055]), (('conv1', 3155), [-0.6823444962501526, 30.985029220581055]), (('conv1', 3156), [-0.6823444962501526, 30.985029220581055]), (('conv1', 3157), [-0.6823444962501526, 30.985029220581055]), (('conv1', 3158), [-0.6823444962501526, 30.985029220581055]), (('conv1', 3159), [-0.6823444962501526, 30.985029220581055]), (('conv1', 3160), [-0.6823444962501526, 30.985029220581055]), (('conv1', 3161), [-0.6823444962501526, 30.985029220581055]), (('conv1', 3162), [-0.6823444962501526, 30.985029220581055]), (('conv1', 3163), [-0.6823444962501526, 30.985029220581055]), (('conv1', 3164), [-0.6823444962501526, 30.985029220581055]), (('conv1', 3165), [-0.6823444962501526, 30.985029220581055]), (('conv1', 3166), [-0.6823444962501526, 30.985029220581055]), (('conv1', 3167), [-0.6823444962501526, 30.985029220581055]), (('conv1', 3168), [-0.6823444962501526, 30.985029220581055]), (('conv1', 3169), [-0.6823444962501526, 30.985029220581055]), (('conv1', 3170), [-0.6823444962501526, 30.985029220581055]), (('conv1', 3171), [-0.6823444962501526, 30.985029220581055]), (('conv1', 3172), [-0.6823444962501526, 30.985029220581055]), (('conv1', 3173), [-0.6823444962501526, 30.985029220581055]), (('conv1', 3174), [-0.6823444962501526, 30.985029220581055]), (('conv1', 3175), [-0.6823444962501526, 30.985029220581055]), (('conv1', 3176), [-0.6823444962501526, 30.985029220581055]), (('conv1', 3177), [-0.6823444962501526, 30.985029220581055]), (('conv1', 3178), [-0.6823444962501526, 30.985029220581055]), (('conv1', 3179), [-0.6823444962501526, 30.985029220581055]), (('conv1', 3180), [-0.6823444962501526, 30.985029220581055]), (('conv1', 3181), [-0.6823444962501526, 30.985029220581055]), (('conv1', 3182), [-0.6823444962501526, 30.985029220581055]), (('conv1', 3183), [-0.6823444962501526, 30.985029220581055]), (('conv1', 3184), [-0.6823444962501526, 30.985029220581055]), (('conv1', 3185), [-0.6823444962501526, 30.985029220581055]), (('conv1', 3186), [-0.6823444962501526, 30.985029220581055]), (('conv1', 3187), [-0.6823444962501526, 30.985029220581055]), (('conv1', 3188), [-0.6823444962501526, 30.985029220581055]), (('conv1', 3189), [-0.6823444962501526, 30.985029220581055]), (('conv1', 3190), [-0.6823444962501526, 30.985029220581055]), (('conv1', 3191), [-0.6823444962501526, 30.985029220581055]), (('conv1', 3192), [-0.6823444962501526, 30.985029220581055]), (('conv1', 3193), [-0.6823444962501526, 30.985029220581055]), (('conv1', 3194), [-0.6823444962501526, 30.985029220581055]), (('conv1', 3195), [-0.6823444962501526, 30.985029220581055]), (('conv1', 3196), [-0.6823444962501526, 30.985029220581055]), (('conv1', 3197), [-0.6823444962501526, 30.985029220581055]), (('conv1', 3198), [-0.6823444962501526, 30.985029220581055]), (('conv1', 3199), [-0.6823444962501526, 30.985029220581055]), (('conv1', 3200), [-0.6823444962501526, 30.985029220581055]), (('conv1', 3201), [-0.6823444962501526, 30.985029220581055]), (('conv1', 3202), [-0.6823444962501526, 30.985029220581055]), (('conv1', 3203), [-0.6823444962501526, 30.985029220581055]), (('conv1', 3204), [-0.6823444962501526, 30.985029220581055]), (('conv1', 3205), [-0.6823444962501526, 30.985029220581055]), (('conv1', 3206), [-0.6823444962501526, 30.985029220581055]), (('conv1', 3207), [-0.6823444962501526, 30.985029220581055]), (('conv1', 3208), [-0.6823444962501526, 30.985029220581055]), (('conv1', 3209), [-0.6823444962501526, 30.985029220581055]), (('conv1', 3210), [-0.6823444962501526, 30.985029220581055]), (('conv1', 3211), [-0.6823444962501526, 30.985029220581055]), (('conv1', 3212), [-0.6823444962501526, 30.985029220581055]), (('conv1', 3213), [-0.6823444962501526, 30.985029220581055]), (('conv1', 3214), [-0.6823444962501526, 30.985029220581055]), (('conv1', 3215), [-0.6823444962501526, 30.985029220581055]), (('conv1', 3216), [-0.6823444962501526, 30.985029220581055]), (('conv1', 3217), [-0.6823444962501526, 30.985029220581055]), (('conv1', 3218), [-0.6823444962501526, 30.985029220581055]), (('conv1', 3219), [-0.6823444962501526, 30.985029220581055]), (('conv1', 3220), [-0.6823444962501526, 30.985029220581055]), (('conv1', 3221), [-0.6823444962501526, 30.985029220581055]), (('conv1', 3222), [-0.6823444962501526, 30.985029220581055]), (('conv1', 3223), [-0.6823444962501526, 30.985029220581055]), (('conv1', 3224), [-0.6823444962501526, 30.985029220581055]), (('conv1', 3225), [-0.6823444962501526, 30.985029220581055]), (('conv1', 3226), [-0.6823444962501526, 30.985029220581055]), (('conv1', 3227), [-0.6823444962501526, 30.985029220581055]), (('conv1', 3228), [-0.6823444962501526, 30.985029220581055]), (('conv1', 3229), [-0.6823444962501526, 30.985029220581055]), (('conv1', 3230), [-0.6823444962501526, 30.985029220581055]), (('conv1', 3231), [-0.6823444962501526, 30.985029220581055]), (('conv1', 3232), [-0.6823444962501526, 30.985029220581055]), (('conv1', 3233), [-0.6823444962501526, 30.985029220581055]), (('conv1', 3234), [-0.6823444962501526, 30.985029220581055]), (('conv1', 3235), [-0.6823444962501526, 30.985029220581055]), (('conv1', 3236), [-0.6823444962501526, 30.985029220581055]), (('conv1', 3237), [-0.6823444962501526, 30.985029220581055]), (('conv1', 3238), [-0.6823444962501526, 30.985029220581055]), (('conv1', 3239), [-0.6823444962501526, 30.985029220581055]), (('conv1', 3240), [-0.6823444962501526, 30.985029220581055]), (('conv1', 3241), [-0.6823444962501526, 30.985029220581055]), (('conv1', 3242), [-0.6823444962501526, 30.985029220581055]), (('conv1', 3243), [-0.6823444962501526, 30.985029220581055]), (('conv1', 3244), [-0.6823444962501526, 30.985029220581055]), (('conv1', 3245), [-0.6823444962501526, 30.985029220581055]), (('conv1', 3246), [-0.6823444962501526, 30.985029220581055]), (('conv1', 3247), [-0.6823444962501526, 30.985029220581055]), (('conv1', 3248), [-0.6823444962501526, 30.985029220581055]), (('conv1', 3249), [-0.6823444962501526, 30.985029220581055]), (('conv1', 3250), [-0.6823444962501526, 30.985029220581055]), (('conv1', 3251), [-0.6823444962501526, 30.985029220581055]), (('conv1', 3252), [-0.6823444962501526, 30.985029220581055]), (('conv1', 3253), [-0.6823444962501526, 30.985029220581055]), (('conv1', 3254), [-0.6823444962501526, 30.985029220581055]), (('conv1', 3255), [-0.6823444962501526, 30.985029220581055]), (('conv1', 3256), [-0.6823444962501526, 30.985029220581055]), (('conv1', 3257), [-0.6823444962501526, 30.985029220581055]), (('conv1', 3258), [-0.6823444962501526, 30.985029220581055]), (('conv1', 3259), [-0.6823444962501526, 30.985029220581055]), (('conv1', 3260), [-0.6823444962501526, 30.985029220581055]), (('conv1', 3261), [-0.6823444962501526, 30.985029220581055]), (('conv1', 3262), [-0.6823444962501526, 30.985029220581055]), (('conv1', 3263), [-0.6823444962501526, 30.985029220581055]), (('conv1', 3264), [-0.6823444962501526, 30.985029220581055]), (('conv1', 3265), [-0.6823444962501526, 30.985029220581055]), (('conv1', 3266), [-0.6823444962501526, 30.985029220581055]), (('conv1', 3267), [-0.6823444962501526, 30.985029220581055]), (('conv1', 3268), [-0.6823444962501526, 30.985029220581055]), (('conv1', 3269), [-0.6823444962501526, 30.985029220581055]), (('conv1', 3270), [-0.6823444962501526, 30.985029220581055]), (('conv1', 3271), [-0.6823444962501526, 30.985029220581055]), (('conv1', 3272), [-0.6823444962501526, 30.985029220581055]), (('conv1', 3273), [-0.6823444962501526, 30.985029220581055]), (('conv1', 3274), [-0.6823444962501526, 30.985029220581055]), (('conv1', 3275), [-0.6823444962501526, 30.985029220581055]), (('conv1', 3276), [-0.6823444962501526, 30.985029220581055]), (('conv1', 3277), [-0.6823444962501526, 30.985029220581055]), (('conv1', 3278), [-0.6823444962501526, 30.985029220581055]), (('conv1', 3279), [-0.6823444962501526, 30.985029220581055]), (('conv1', 3280), [-0.6823444962501526, 30.985029220581055]), (('conv1', 3281), [-0.6823444962501526, 30.985029220581055]), (('conv1', 3282), [-0.6823444962501526, 30.985029220581055]), (('conv1', 3283), [-0.6823444962501526, 30.985029220581055]), (('conv1', 3284), [-0.6823444962501526, 30.985029220581055]), (('conv1', 3285), [-0.6823444962501526, 30.985029220581055]), (('conv1', 3286), [-0.6823444962501526, 30.985029220581055]), (('conv1', 3287), [-0.6823444962501526, 30.985029220581055]), (('conv1', 3288), [-0.6823444962501526, 30.985029220581055]), (('conv1', 3289), [-0.6823444962501526, 30.985029220581055]), (('conv1', 3290), [-0.6823444962501526, 30.985029220581055]), (('conv1', 3291), [-0.6823444962501526, 30.985029220581055]), (('conv1', 3292), [-0.6823444962501526, 30.985029220581055]), (('conv1', 3293), [-0.6823444962501526, 30.985029220581055]), (('conv1', 3294), [-0.6823444962501526, 30.985029220581055]), (('conv1', 3295), [-0.6823444962501526, 30.985029220581055]), (('conv1', 3296), [-0.6823444962501526, 30.985029220581055]), (('conv1', 3297), [-0.6823444962501526, 30.985029220581055]), (('conv1', 3298), [-0.6823444962501526, 30.985029220581055]), (('conv1', 3299), [-0.6823444962501526, 30.985029220581055]), (('conv1', 3300), [-0.6823444962501526, 30.985029220581055]), (('conv1', 3301), [-0.6823444962501526, 30.985029220581055]), (('conv1', 3302), [-0.6823444962501526, 30.985029220581055]), (('conv1', 3303), [-0.6823444962501526, 30.985029220581055]), (('conv1', 3304), [-0.6823444962501526, 30.985029220581055]), (('conv1', 3305), [-0.6823444962501526, 30.985029220581055]), (('conv1', 3306), [-0.6823444962501526, 30.985029220581055]), (('conv1', 3307), [-0.6823444962501526, 30.985029220581055]), (('conv1', 3308), [-0.6823444962501526, 30.985029220581055]), (('conv1', 3309), [-0.6823444962501526, 30.985029220581055]), (('conv1', 3310), [-0.6823444962501526, 30.985029220581055]), (('conv1', 3311), [-0.6823444962501526, 30.985029220581055]), (('conv1', 3312), [-0.6823444962501526, 30.985029220581055]), (('conv1', 3313), [-0.6823444962501526, 30.985029220581055]), (('conv1', 3314), [-0.6823444962501526, 30.985029220581055]), (('conv1', 3315), [-0.6823444962501526, 30.985029220581055]), (('conv1', 3316), [-0.6823444962501526, 30.985029220581055]), (('conv1', 3317), [-0.6823444962501526, 30.985029220581055]), (('conv1', 3318), [-0.6823444962501526, 30.985029220581055]), (('conv1', 3319), [-0.6823444962501526, 30.985029220581055]), (('conv1', 3320), [-0.6823444962501526, 30.985029220581055]), (('conv1', 3321), [-0.6823444962501526, 30.985029220581055]), (('conv1', 3322), [-0.6823444962501526, 30.985029220581055]), (('conv1', 3323), [-0.6823444962501526, 30.985029220581055]), (('conv1', 3324), [-0.6823444962501526, 30.985029220581055]), (('conv1', 3325), [-0.6823444962501526, 30.985029220581055]), (('conv1', 3326), [-0.6823444962501526, 30.985029220581055]), (('conv1', 3327), [-0.6823444962501526, 30.985029220581055]), (('conv1', 3328), [-0.6823444962501526, 30.985029220581055]), (('conv1', 3329), [-0.6823444962501526, 30.985029220581055]), (('conv1', 3330), [-0.6823444962501526, 30.985029220581055]), (('conv1', 3331), [-0.6823444962501526, 30.985029220581055]), (('conv1', 3332), [-0.6823444962501526, 30.985029220581055]), (('conv1', 3333), [-0.6823444962501526, 30.985029220581055]), (('conv1', 3334), [-0.6823444962501526, 30.985029220581055]), (('conv1', 3335), [-0.6823444962501526, 30.985029220581055]), (('conv1', 3336), [-0.6823444962501526, 30.985029220581055]), (('conv1', 3337), [-0.6823444962501526, 30.985029220581055]), (('conv1', 3338), [-0.6823444962501526, 30.985029220581055]), (('conv1', 3339), [-0.6823444962501526, 30.985029220581055]), (('conv1', 3340), [-0.6823444962501526, 30.985029220581055]), (('conv1', 3341), [-0.6823444962501526, 30.985029220581055]), (('conv1', 3342), [-0.6823444962501526, 30.985029220581055]), (('conv1', 3343), [-0.6823444962501526, 30.985029220581055]), (('conv1', 3344), [-0.6823444962501526, 30.985029220581055]), (('conv1', 3345), [-0.6823444962501526, 30.985029220581055]), (('conv1', 3346), [-0.6823444962501526, 30.985029220581055]), (('conv1', 3347), [-0.6823444962501526, 30.985029220581055]), (('conv1', 3348), [-0.6823444962501526, 30.985029220581055]), (('conv1', 3349), [-0.6823444962501526, 30.985029220581055]), (('conv1', 3350), [-0.6823444962501526, 30.985029220581055]), (('conv1', 3351), [-0.6823444962501526, 30.985029220581055]), (('conv1', 3352), [-0.6823444962501526, 30.985029220581055]), (('conv1', 3353), [-0.6823444962501526, 30.985029220581055]), (('conv1', 3354), [-0.6823444962501526, 30.985029220581055]), (('conv1', 3355), [-0.6823444962501526, 30.985029220581055]), (('conv1', 3356), [-0.6823444962501526, 30.985029220581055]), (('conv1', 3357), [-0.6823444962501526, 30.985029220581055]), (('conv1', 3358), [-0.6823444962501526, 30.985029220581055]), (('conv1', 3359), [-0.6823444962501526, 30.985029220581055]), (('conv1', 3360), [-0.6823444962501526, 30.985029220581055]), (('conv1', 3361), [-0.6823444962501526, 30.985029220581055]), (('conv1', 3362), [-0.6823444962501526, 30.985029220581055]), (('conv1', 3363), [-0.6823444962501526, 30.985029220581055]), (('conv1', 3364), [-0.6823444962501526, 30.985029220581055]), (('conv1', 3365), [-0.6823444962501526, 30.985029220581055]), (('conv1', 3366), [-0.6823444962501526, 30.985029220581055]), (('conv1', 3367), [-0.6823444962501526, 30.985029220581055]), (('conv1', 3368), [-0.6823444962501526, 30.985029220581055]), (('conv1', 3369), [-0.6823444962501526, 30.985029220581055]), (('conv1', 3370), [-0.6823444962501526, 30.985029220581055]), (('conv1', 3371), [-0.6823444962501526, 30.985029220581055]), (('conv1', 3372), [-0.6823444962501526, 30.985029220581055]), (('conv1', 3373), [-0.6823444962501526, 30.985029220581055]), (('conv1', 3374), [-0.6823444962501526, 30.985029220581055]), (('conv1', 3375), [-0.6823444962501526, 30.985029220581055]), (('conv1', 3376), [-0.6823444962501526, 30.985029220581055]), (('conv1', 3377), [-0.6823444962501526, 30.985029220581055]), (('conv1', 3378), [-0.6823444962501526, 30.985029220581055]), (('conv1', 3379), [-0.6823444962501526, 30.985029220581055]), (('conv1', 3380), [-0.6823444962501526, 30.985029220581055]), (('conv1', 3381), [-0.6823444962501526, 30.985029220581055]), (('conv1', 3382), [-0.6823444962501526, 30.985029220581055]), (('conv1', 3383), [-0.6823444962501526, 30.985029220581055]), (('conv1', 3384), [-0.6823444962501526, 30.985029220581055]), (('conv1', 3385), [-0.6823444962501526, 30.985029220581055]), (('conv1', 3386), [-0.6823444962501526, 30.985029220581055]), (('conv1', 3387), [-0.6823444962501526, 30.985029220581055]), (('conv1', 3388), [-0.6823444962501526, 30.985029220581055]), (('conv1', 3389), [-0.6823444962501526, 30.985029220581055]), (('conv1', 3390), [-0.6823444962501526, 30.985029220581055]), (('conv1', 3391), [-0.6823444962501526, 30.985029220581055]), (('conv1', 3392), [-0.6823444962501526, 30.985029220581055]), (('conv1', 3393), [-0.6823444962501526, 30.985029220581055]), (('conv1', 3394), [-0.6823444962501526, 30.985029220581055]), (('conv1', 3395), [-0.6823444962501526, 30.985029220581055]), (('conv1', 3396), [-0.6823444962501526, 30.985029220581055]), (('conv1', 3397), [-0.6823444962501526, 30.985029220581055]), (('conv1', 3398), [-0.6823444962501526, 30.985029220581055]), (('conv1', 3399), [-0.6823444962501526, 30.985029220581055]), (('conv1', 3400), [-0.6823444962501526, 30.985029220581055]), (('conv1', 3401), [-0.6823444962501526, 30.985029220581055]), (('conv1', 3402), [-0.6823444962501526, 30.985029220581055]), (('conv1', 3403), [-0.6823444962501526, 30.985029220581055]), (('conv1', 3404), [-0.6823444962501526, 30.985029220581055]), (('conv1', 3405), [-0.6823444962501526, 30.985029220581055]), (('conv1', 3406), [-0.6823444962501526, 30.985029220581055]), (('conv1', 3407), [-0.6823444962501526, 30.985029220581055]), (('conv1', 3408), [-0.6823444962501526, 30.985029220581055]), (('conv1', 3409), [-0.6823444962501526, 30.985029220581055]), (('conv1', 3410), [-0.6823444962501526, 30.985029220581055]), (('conv1', 3411), [-0.6823444962501526, 30.985029220581055]), (('conv1', 3412), [-0.6823444962501526, 30.985029220581055]), (('conv1', 3413), [-0.6823444962501526, 30.985029220581055]), (('conv1', 3414), [-0.6823444962501526, 30.985029220581055]), (('conv1', 3415), [-0.6823444962501526, 30.985029220581055]), (('conv1', 3416), [-0.6823444962501526, 30.985029220581055]), (('conv1', 3417), [-0.6823444962501526, 30.985029220581055]), (('conv1', 3418), [-0.6823444962501526, 30.985029220581055]), (('conv1', 3419), [-0.6823444962501526, 30.985029220581055]), (('conv1', 3420), [-0.6823444962501526, 30.985029220581055]), (('conv1', 3421), [-0.6823444962501526, 30.985029220581055]), (('conv1', 3422), [-0.6823444962501526, 30.985029220581055]), (('conv1', 3423), [-0.6823444962501526, 30.985029220581055]), (('conv1', 3424), [-0.6823444962501526, 30.985029220581055]), (('conv1', 3425), [-0.6823444962501526, 30.985029220581055]), (('conv1', 3426), [-0.6823444962501526, 30.985029220581055]), (('conv1', 3427), [-0.6823444962501526, 30.985029220581055]), (('conv1', 3428), [-0.6823444962501526, 30.985029220581055]), (('conv1', 3429), [-0.6823444962501526, 30.985029220581055]), (('conv1', 3430), [-0.6823444962501526, 30.985029220581055]), (('conv1', 3431), [-0.6823444962501526, 30.985029220581055]), (('conv1', 3432), [-0.6823444962501526, 30.985029220581055]), (('conv1', 3433), [-0.6823444962501526, 30.985029220581055]), (('conv1', 3434), [-0.6823444962501526, 30.985029220581055]), (('conv1', 3435), [-0.6823444962501526, 30.985029220581055]), (('conv1', 3436), [-0.6823444962501526, 30.985029220581055]), (('conv1', 3437), [-0.6823444962501526, 30.985029220581055]), (('conv1', 3438), [-0.6823444962501526, 30.985029220581055]), (('conv1', 3439), [-0.6823444962501526, 30.985029220581055]), (('conv1', 3440), [-0.6823444962501526, 30.985029220581055]), (('conv1', 3441), [-0.6823444962501526, 30.985029220581055]), (('conv1', 3442), [-0.6823444962501526, 30.985029220581055]), (('conv1', 3443), [-0.6823444962501526, 30.985029220581055]), (('conv1', 3444), [-0.6823444962501526, 30.985029220581055]), (('conv1', 3445), [-0.6823444962501526, 30.985029220581055]), (('conv1', 3446), [-0.6823444962501526, 30.985029220581055]), (('conv1', 3447), [-0.6823444962501526, 30.985029220581055]), (('conv1', 3448), [-0.6823444962501526, 30.985029220581055]), (('conv1', 3449), [-0.6823444962501526, 30.985029220581055]), (('conv1', 3450), [-0.6823444962501526, 30.985029220581055]), (('conv1', 3451), [-0.6823444962501526, 30.985029220581055]), (('conv1', 3452), [-0.6823444962501526, 30.985029220581055]), (('conv1', 3453), [-0.6823444962501526, 30.985029220581055]), (('conv1', 3454), [-0.6823444962501526, 30.985029220581055]), (('conv1', 3455), [-0.6823444962501526, 30.985029220581055]), (('conv2', 0), [-0.6823444962501526, 30.985029220581055]), (('conv2', 1), [-0.6823444962501526, 30.985029220581055]), (('conv2', 2), [-0.6823444962501526, 30.985029220581055]), (('conv2', 3), [-0.6823444962501526, 30.985029220581055]), (('conv2', 4), [-0.6823444962501526, 30.985029220581055]), (('conv2', 5), [-0.6823444962501526, 30.985029220581055]), (('conv2', 6), [-0.6823444962501526, 30.985029220581055]), (('conv2', 7), [-0.6823444962501526, 30.985029220581055]), (('conv2', 8), [-0.6823444962501526, 30.985029220581055]), (('conv2', 9), [-0.6823444962501526, 30.985029220581055]), (('conv2', 10), [-0.6823444962501526, 30.985029220581055]), (('conv2', 11), [-0.6823444962501526, 30.985029220581055]), (('conv2', 12), [-0.6823444962501526, 30.985029220581055]), (('conv2', 13), [-0.6823444962501526, 30.985029220581055]), (('conv2', 14), [-0.6823444962501526, 30.985029220581055]), (('conv2', 15), [-0.6823444962501526, 30.985029220581055]), (('conv2', 16), [-0.6823444962501526, 30.985029220581055]), (('conv2', 17), [-0.6823444962501526, 30.985029220581055]), (('conv2', 18), [-0.6823444962501526, 30.985029220581055]), (('conv2', 19), [-0.6823444962501526, 30.985029220581055]), (('conv2', 20), [-0.6823444962501526, 30.985029220581055]), (('conv2', 21), [-0.6823444962501526, 30.985029220581055]), (('conv2', 22), [-0.6823444962501526, 30.985029220581055]), (('conv2', 23), [-0.6823444962501526, 30.985029220581055]), (('conv2', 24), [-0.6823444962501526, 30.985029220581055]), (('conv2', 25), [-0.6823444962501526, 30.985029220581055]), (('conv2', 26), [-0.6823444962501526, 30.985029220581055]), (('conv2', 27), [-0.6823444962501526, 30.985029220581055]), (('conv2', 28), [-0.6823444962501526, 30.985029220581055]), (('conv2', 29), [-0.6823444962501526, 30.985029220581055]), (('conv2', 30), [-0.6823444962501526, 30.985029220581055]), (('conv2', 31), [-0.6823444962501526, 30.985029220581055]), (('conv2', 32), [-0.6823444962501526, 30.985029220581055]), (('conv2', 33), [-0.6823444962501526, 30.985029220581055]), (('conv2', 34), [-0.6823444962501526, 30.985029220581055]), (('conv2', 35), [-0.6823444962501526, 30.985029220581055]), (('conv2', 36), [-0.6823444962501526, 30.985029220581055]), (('conv2', 37), [-0.6823444962501526, 30.985029220581055]), (('conv2', 38), [-0.6823444962501526, 30.985029220581055]), (('conv2', 39), [-0.6823444962501526, 30.985029220581055]), (('conv2', 40), [-0.6823444962501526, 30.985029220581055]), (('conv2', 41), [-0.6823444962501526, 30.985029220581055]), (('conv2', 42), [-0.6823444962501526, 30.985029220581055]), (('conv2', 43), [-0.6823444962501526, 30.985029220581055]), (('conv2', 44), [-0.6823444962501526, 30.985029220581055]), (('conv2', 45), [-0.6823444962501526, 30.985029220581055]), (('conv2', 46), [-0.6823444962501526, 30.985029220581055]), (('conv2', 47), [-0.6823444962501526, 30.985029220581055]), (('conv2', 48), [-0.6823444962501526, 30.985029220581055]), (('conv2', 49), [-0.6823444962501526, 30.985029220581055]), (('conv2', 50), [-0.6823444962501526, 30.985029220581055]), (('conv2', 51), [-0.6823444962501526, 30.985029220581055]), (('conv2', 52), [-0.6823444962501526, 30.985029220581055]), (('conv2', 53), [-0.6823444962501526, 30.985029220581055]), (('conv2', 54), [-0.6823444962501526, 30.985029220581055]), (('conv2', 55), [-0.6823444962501526, 30.985029220581055]), (('conv2', 56), [-0.6823444962501526, 30.985029220581055]), (('conv2', 57), [-0.6823444962501526, 30.985029220581055]), (('conv2', 58), [-0.6823444962501526, 30.985029220581055]), (('conv2', 59), [-0.6823444962501526, 30.985029220581055]), (('conv2', 60), [-0.6823444962501526, 30.985029220581055]), (('conv2', 61), [-0.6823444962501526, 30.985029220581055]), (('conv2', 62), [-0.6823444962501526, 30.985029220581055]), (('conv2', 63), [-0.6823444962501526, 30.985029220581055]), (('conv2', 64), [-0.6823444962501526, 30.985029220581055]), (('conv2', 65), [-0.6823444962501526, 30.985029220581055]), (('conv2', 66), [-0.6823444962501526, 30.985029220581055]), (('conv2', 67), [-0.6823444962501526, 30.985029220581055]), (('conv2', 68), [-0.6823444962501526, 30.985029220581055]), (('conv2', 69), [-0.6823444962501526, 30.985029220581055]), (('conv2', 70), [-0.6823444962501526, 30.985029220581055]), (('conv2', 71), [-0.6823444962501526, 30.985029220581055]), (('conv2', 72), [-0.6823444962501526, 30.985029220581055]), (('conv2', 73), [-0.6823444962501526, 30.985029220581055]), (('conv2', 74), [-0.6823444962501526, 30.985029220581055]), (('conv2', 75), [-0.6823444962501526, 30.985029220581055]), (('conv2', 76), [-0.6823444962501526, 30.985029220581055]), (('conv2', 77), [-0.6823444962501526, 30.985029220581055]), (('conv2', 78), [-0.6823444962501526, 30.985029220581055]), (('conv2', 79), [-0.6823444962501526, 30.985029220581055]), (('conv2', 80), [-0.6823444962501526, 30.985029220581055]), (('conv2', 81), [-0.6823444962501526, 30.985029220581055]), (('conv2', 82), [-0.6823444962501526, 30.985029220581055]), (('conv2', 83), [-0.6823444962501526, 30.985029220581055]), (('conv2', 84), [-0.6823444962501526, 30.985029220581055]), (('conv2', 85), [-0.6823444962501526, 30.985029220581055]), (('conv2', 86), [-0.6823444962501526, 30.985029220581055]), (('conv2', 87), [-0.6823444962501526, 30.985029220581055]), (('conv2', 88), [-0.6823444962501526, 30.985029220581055]), (('conv2', 89), [-0.6823444962501526, 30.985029220581055]), (('conv2', 90), [-0.6823444962501526, 30.985029220581055]), (('conv2', 91), [-0.6823444962501526, 30.985029220581055]), (('conv2', 92), [-0.6823444962501526, 30.985029220581055]), (('conv2', 93), [-0.6823444962501526, 30.985029220581055]), (('conv2', 94), [-0.6823444962501526, 30.985029220581055]), (('conv2', 95), [-0.6823444962501526, 30.985029220581055]), (('conv2', 96), [-0.6823444962501526, 30.985029220581055]), (('conv2', 97), [-0.6823444962501526, 30.985029220581055]), (('conv2', 98), [-0.6823444962501526, 30.985029220581055]), (('conv2', 99), [-0.6823444962501526, 30.985029220581055]), (('conv2', 100), [-0.6823444962501526, 30.985029220581055]), (('conv2', 101), [-0.6823444962501526, 30.985029220581055]), (('conv2', 102), [-0.6823444962501526, 30.985029220581055]), (('conv2', 103), [-0.6823444962501526, 30.985029220581055]), (('conv2', 104), [-0.6823444962501526, 30.985029220581055]), (('conv2', 105), [-0.6823444962501526, 30.985029220581055]), (('conv2', 106), [-0.6823444962501526, 30.985029220581055]), (('conv2', 107), [-0.6823444962501526, 30.985029220581055]), (('conv2', 108), [-0.6823444962501526, 30.985029220581055]), (('conv2', 109), [-0.6823444962501526, 30.985029220581055]), (('conv2', 110), [-0.6823444962501526, 30.985029220581055]), (('conv2', 111), [-0.6823444962501526, 30.985029220581055]), (('conv2', 112), [-0.6823444962501526, 30.985029220581055]), (('conv2', 113), [-0.6823444962501526, 30.985029220581055]), (('conv2', 114), [-0.6823444962501526, 30.985029220581055]), (('conv2', 115), [-0.6823444962501526, 30.985029220581055]), (('conv2', 116), [-0.6823444962501526, 30.985029220581055]), (('conv2', 117), [-0.6823444962501526, 30.985029220581055]), (('conv2', 118), [-0.6823444962501526, 30.985029220581055]), (('conv2', 119), [-0.6823444962501526, 30.985029220581055]), (('conv2', 120), [-0.6823444962501526, 30.985029220581055]), (('conv2', 121), [-0.6823444962501526, 30.985029220581055]), (('conv2', 122), [-0.6823444962501526, 30.985029220581055]), (('conv2', 123), [-0.6823444962501526, 30.985029220581055]), (('conv2', 124), [-0.6823444962501526, 30.985029220581055]), (('conv2', 125), [-0.6823444962501526, 30.985029220581055]), (('conv2', 126), [-0.6823444962501526, 30.985029220581055]), (('conv2', 127), [-0.6823444962501526, 30.985029220581055]), (('conv2', 128), [-0.6823444962501526, 30.985029220581055]), (('conv2', 129), [-0.6823444962501526, 30.985029220581055]), (('conv2', 130), [-0.6823444962501526, 30.985029220581055]), (('conv2', 131), [-0.6823444962501526, 30.985029220581055]), (('conv2', 132), [-0.6823444962501526, 30.985029220581055]), (('conv2', 133), [-0.6823444962501526, 30.985029220581055]), (('conv2', 134), [-0.6823444962501526, 30.985029220581055]), (('conv2', 135), [-0.6823444962501526, 30.985029220581055]), (('conv2', 136), [-0.6823444962501526, 30.985029220581055]), (('conv2', 137), [-0.6823444962501526, 30.985029220581055]), (('conv2', 138), [-0.6823444962501526, 30.985029220581055]), (('conv2', 139), [-0.6823444962501526, 30.985029220581055]), (('conv2', 140), [-0.6823444962501526, 30.985029220581055]), (('conv2', 141), [-0.6823444962501526, 30.985029220581055]), (('conv2', 142), [-0.6823444962501526, 30.985029220581055]), (('conv2', 143), [-0.6823444962501526, 30.985029220581055]), (('conv2', 144), [-0.6823444962501526, 30.985029220581055]), (('conv2', 145), [-0.6823444962501526, 30.985029220581055]), (('conv2', 146), [-0.6823444962501526, 30.985029220581055]), (('conv2', 147), [-0.6823444962501526, 30.985029220581055]), (('conv2', 148), [-0.6823444962501526, 30.985029220581055]), (('conv2', 149), [-0.6823444962501526, 30.985029220581055]), (('conv2', 150), [-0.6823444962501526, 30.985029220581055]), (('conv2', 151), [-0.6823444962501526, 30.985029220581055]), (('conv2', 152), [-0.6823444962501526, 30.985029220581055]), (('conv2', 153), [-0.6823444962501526, 30.985029220581055]), (('conv2', 154), [-0.6823444962501526, 30.985029220581055]), (('conv2', 155), [-0.6823444962501526, 30.985029220581055]), (('conv2', 156), [-0.6823444962501526, 30.985029220581055]), (('conv2', 157), [-0.6823444962501526, 30.985029220581055]), (('conv2', 158), [-0.6823444962501526, 30.985029220581055]), (('conv2', 159), [-0.6823444962501526, 30.985029220581055]), (('conv2', 160), [-0.6823444962501526, 30.985029220581055]), (('conv2', 161), [-0.6823444962501526, 30.985029220581055]), (('conv2', 162), [-0.6823444962501526, 30.985029220581055]), (('conv2', 163), [-0.6823444962501526, 30.985029220581055]), (('conv2', 164), [-0.6823444962501526, 30.985029220581055]), (('conv2', 165), [-0.6823444962501526, 30.985029220581055]), (('conv2', 166), [-0.6823444962501526, 30.985029220581055]), (('conv2', 167), [-0.6823444962501526, 30.985029220581055]), (('conv2', 168), [-0.6823444962501526, 30.985029220581055]), (('conv2', 169), [-0.6823444962501526, 30.985029220581055]), (('conv2', 170), [-0.6823444962501526, 30.985029220581055]), (('conv2', 171), [-0.6823444962501526, 30.985029220581055]), (('conv2', 172), [-0.6823444962501526, 30.985029220581055]), (('conv2', 173), [-0.6823444962501526, 30.985029220581055]), (('conv2', 174), [-0.6823444962501526, 30.985029220581055]), (('conv2', 175), [-0.6823444962501526, 30.985029220581055]), (('conv2', 176), [-0.6823444962501526, 30.985029220581055]), (('conv2', 177), [-0.6823444962501526, 30.985029220581055]), (('conv2', 178), [-0.6823444962501526, 30.985029220581055]), (('conv2', 179), [-0.6823444962501526, 30.985029220581055]), (('conv2', 180), [-0.6823444962501526, 30.985029220581055]), (('conv2', 181), [-0.6823444962501526, 30.985029220581055]), (('conv2', 182), [-0.6823444962501526, 30.985029220581055]), (('conv2', 183), [-0.6823444962501526, 30.985029220581055]), (('conv2', 184), [-0.6823444962501526, 30.985029220581055]), (('conv2', 185), [-0.6823444962501526, 30.985029220581055]), (('conv2', 186), [-0.6823444962501526, 30.985029220581055]), (('conv2', 187), [-0.6823444962501526, 30.985029220581055]), (('conv2', 188), [-0.6823444962501526, 30.985029220581055]), (('conv2', 189), [-0.6823444962501526, 30.985029220581055]), (('conv2', 190), [-0.6823444962501526, 30.985029220581055]), (('conv2', 191), [-0.6823444962501526, 30.985029220581055]), (('conv2', 192), [-0.6823444962501526, 30.985029220581055]), (('conv2', 193), [-0.6823444962501526, 30.985029220581055]), (('conv2', 194), [-0.6823444962501526, 30.985029220581055]), (('conv2', 195), [-0.6823444962501526, 30.985029220581055]), (('conv2', 196), [-0.6823444962501526, 30.985029220581055]), (('conv2', 197), [-0.6823444962501526, 30.985029220581055]), (('conv2', 198), [-0.6823444962501526, 30.985029220581055]), (('conv2', 199), [-0.6823444962501526, 30.985029220581055]), (('conv2', 200), [-0.6823444962501526, 30.985029220581055]), (('conv2', 201), [-0.6823444962501526, 30.985029220581055]), (('conv2', 202), [-0.6823444962501526, 30.985029220581055]), (('conv2', 203), [-0.6823444962501526, 30.985029220581055]), (('conv2', 204), [-0.6823444962501526, 30.985029220581055]), (('conv2', 205), [-0.6823444962501526, 30.985029220581055]), (('conv2', 206), [-0.6823444962501526, 30.985029220581055]), (('conv2', 207), [-0.6823444962501526, 30.985029220581055]), (('conv2', 208), [-0.6823444962501526, 30.985029220581055]), (('conv2', 209), [-0.6823444962501526, 30.985029220581055]), (('conv2', 210), [-0.6823444962501526, 30.985029220581055]), (('conv2', 211), [-0.6823444962501526, 30.985029220581055]), (('conv2', 212), [-0.6823444962501526, 30.985029220581055]), (('conv2', 213), [-0.6823444962501526, 30.985029220581055]), (('conv2', 214), [-0.6823444962501526, 30.985029220581055]), (('conv2', 215), [-0.6823444962501526, 30.985029220581055]), (('conv2', 216), [-0.6823444962501526, 30.985029220581055]), (('conv2', 217), [-0.6823444962501526, 30.985029220581055]), (('conv2', 218), [-0.6823444962501526, 30.985029220581055]), (('conv2', 219), [-0.6823444962501526, 30.985029220581055]), (('conv2', 220), [-0.6823444962501526, 30.985029220581055]), (('conv2', 221), [-0.6823444962501526, 30.985029220581055]), (('conv2', 222), [-0.6823444962501526, 30.985029220581055]), (('conv2', 223), [-0.6823444962501526, 30.985029220581055]), (('conv2', 224), [-0.6823444962501526, 30.985029220581055]), (('conv2', 225), [-0.6823444962501526, 30.985029220581055]), (('conv2', 226), [-0.6823444962501526, 30.985029220581055]), (('conv2', 227), [-0.6823444962501526, 30.985029220581055]), (('conv2', 228), [-0.6823444962501526, 30.985029220581055]), (('conv2', 229), [-0.6823444962501526, 30.985029220581055]), (('conv2', 230), [-0.6823444962501526, 30.985029220581055]), (('conv2', 231), [-0.6823444962501526, 30.985029220581055]), (('conv2', 232), [-0.6823444962501526, 30.985029220581055]), (('conv2', 233), [-0.6823444962501526, 30.985029220581055]), (('conv2', 234), [-0.6823444962501526, 30.985029220581055]), (('conv2', 235), [-0.6823444962501526, 30.985029220581055]), (('conv2', 236), [-0.6823444962501526, 30.985029220581055]), (('conv2', 237), [-0.6823444962501526, 30.985029220581055]), (('conv2', 238), [-0.6823444962501526, 30.985029220581055]), (('conv2', 239), [-0.6823444962501526, 30.985029220581055]), (('conv2', 240), [-0.6823444962501526, 30.985029220581055]), (('conv2', 241), [-0.6823444962501526, 30.985029220581055]), (('conv2', 242), [-0.6823444962501526, 30.985029220581055]), (('conv2', 243), [-0.6823444962501526, 30.985029220581055]), (('conv2', 244), [-0.6823444962501526, 30.985029220581055]), (('conv2', 245), [-0.6823444962501526, 30.985029220581055]), (('conv2', 246), [-0.6823444962501526, 30.985029220581055]), (('conv2', 247), [-0.6823444962501526, 30.985029220581055]), (('conv2', 248), [-0.6823444962501526, 30.985029220581055]), (('conv2', 249), [-0.6823444962501526, 30.985029220581055]), (('conv2', 250), [-0.6823444962501526, 30.985029220581055]), (('conv2', 251), [-0.6823444962501526, 30.985029220581055]), (('conv2', 252), [-0.6823444962501526, 30.985029220581055]), (('conv2', 253), [-0.6823444962501526, 30.985029220581055]), (('conv2', 254), [-0.6823444962501526, 30.985029220581055]), (('conv2', 255), [-0.6823444962501526, 30.985029220581055]), (('conv2', 256), [-0.6823444962501526, 30.985029220581055]), (('conv2', 257), [-0.6823444962501526, 30.985029220581055]), (('conv2', 258), [-0.6823444962501526, 30.985029220581055]), (('conv2', 259), [-0.6823444962501526, 30.985029220581055]), (('conv2', 260), [-0.6823444962501526, 30.985029220581055]), (('conv2', 261), [-0.6823444962501526, 30.985029220581055]), (('conv2', 262), [-0.6823444962501526, 30.985029220581055]), (('conv2', 263), [-0.6823444962501526, 30.985029220581055]), (('conv2', 264), [-0.6823444962501526, 30.985029220581055]), (('conv2', 265), [-0.6823444962501526, 30.985029220581055]), (('conv2', 266), [-0.6823444962501526, 30.985029220581055]), (('conv2', 267), [-0.6823444962501526, 30.985029220581055]), (('conv2', 268), [-0.6823444962501526, 30.985029220581055]), (('conv2', 269), [-0.6823444962501526, 30.985029220581055]), (('conv2', 270), [-0.6823444962501526, 30.985029220581055]), (('conv2', 271), [-0.6823444962501526, 30.985029220581055]), (('conv2', 272), [-0.6823444962501526, 30.985029220581055]), (('conv2', 273), [-0.6823444962501526, 30.985029220581055]), (('conv2', 274), [-0.6823444962501526, 30.985029220581055]), (('conv2', 275), [-0.6823444962501526, 30.985029220581055]), (('conv2', 276), [-0.6823444962501526, 30.985029220581055]), (('conv2', 277), [-0.6823444962501526, 30.985029220581055]), (('conv2', 278), [-0.6823444962501526, 30.985029220581055]), (('conv2', 279), [-0.6823444962501526, 30.985029220581055]), (('conv2', 280), [-0.6823444962501526, 30.985029220581055]), (('conv2', 281), [-0.6823444962501526, 30.985029220581055]), (('conv2', 282), [-0.6823444962501526, 30.985029220581055]), (('conv2', 283), [-0.6823444962501526, 30.985029220581055]), (('conv2', 284), [-0.6823444962501526, 30.985029220581055]), (('conv2', 285), [-0.6823444962501526, 30.985029220581055]), (('conv2', 286), [-0.6823444962501526, 30.985029220581055]), (('conv2', 287), [-0.6823444962501526, 30.985029220581055]), (('conv2', 288), [-0.6823444962501526, 30.985029220581055]), (('conv2', 289), [-0.6823444962501526, 30.985029220581055]), (('conv2', 290), [-0.6823444962501526, 30.985029220581055]), (('conv2', 291), [-0.6823444962501526, 30.985029220581055]), (('conv2', 292), [-0.6823444962501526, 30.985029220581055]), (('conv2', 293), [-0.6823444962501526, 30.985029220581055]), (('conv2', 294), [-0.6823444962501526, 30.985029220581055]), (('conv2', 295), [-0.6823444962501526, 30.985029220581055]), (('conv2', 296), [-0.6823444962501526, 30.985029220581055]), (('conv2', 297), [-0.6823444962501526, 30.985029220581055]), (('conv2', 298), [-0.6823444962501526, 30.985029220581055]), (('conv2', 299), [-0.6823444962501526, 30.985029220581055]), (('conv2', 300), [-0.6823444962501526, 30.985029220581055]), (('conv2', 301), [-0.6823444962501526, 30.985029220581055]), (('conv2', 302), [-0.6823444962501526, 30.985029220581055]), (('conv2', 303), [-0.6823444962501526, 30.985029220581055]), (('conv2', 304), [-0.6823444962501526, 30.985029220581055]), (('conv2', 305), [-0.6823444962501526, 30.985029220581055]), (('conv2', 306), [-0.6823444962501526, 30.985029220581055]), (('conv2', 307), [-0.6823444962501526, 30.985029220581055]), (('conv2', 308), [-0.6823444962501526, 30.985029220581055]), (('conv2', 309), [-0.6823444962501526, 30.985029220581055]), (('conv2', 310), [-0.6823444962501526, 30.985029220581055]), (('conv2', 311), [-0.6823444962501526, 30.985029220581055]), (('conv2', 312), [-0.6823444962501526, 30.985029220581055]), (('conv2', 313), [-0.6823444962501526, 30.985029220581055]), (('conv2', 314), [-0.6823444962501526, 30.985029220581055]), (('conv2', 315), [-0.6823444962501526, 30.985029220581055]), (('conv2', 316), [-0.6823444962501526, 30.985029220581055]), (('conv2', 317), [-0.6823444962501526, 30.985029220581055]), (('conv2', 318), [-0.6823444962501526, 30.985029220581055]), (('conv2', 319), [-0.6823444962501526, 30.985029220581055]), (('conv2', 320), [-0.6823444962501526, 30.985029220581055]), (('conv2', 321), [-0.6823444962501526, 30.985029220581055]), (('conv2', 322), [-0.6823444962501526, 30.985029220581055]), (('conv2', 323), [-0.6823444962501526, 30.985029220581055]), (('conv2', 324), [-0.6823444962501526, 30.985029220581055]), (('conv2', 325), [-0.6823444962501526, 30.985029220581055]), (('conv2', 326), [-0.6823444962501526, 30.985029220581055]), (('conv2', 327), [-0.6823444962501526, 30.985029220581055]), (('conv2', 328), [-0.6823444962501526, 30.985029220581055]), (('conv2', 329), [-0.6823444962501526, 30.985029220581055]), (('conv2', 330), [-0.6823444962501526, 30.985029220581055]), (('conv2', 331), [-0.6823444962501526, 30.985029220581055]), (('conv2', 332), [-0.6823444962501526, 30.985029220581055]), (('conv2', 333), [-0.6823444962501526, 30.985029220581055]), (('conv2', 334), [-0.6823444962501526, 30.985029220581055]), (('conv2', 335), [-0.6823444962501526, 30.985029220581055]), (('conv2', 336), [-0.6823444962501526, 30.985029220581055]), (('conv2', 337), [-0.6823444962501526, 30.985029220581055]), (('conv2', 338), [-0.6823444962501526, 30.985029220581055]), (('conv2', 339), [-0.6823444962501526, 30.985029220581055]), (('conv2', 340), [-0.6823444962501526, 30.985029220581055]), (('conv2', 341), [-0.6823444962501526, 30.985029220581055]), (('conv2', 342), [-0.6823444962501526, 30.985029220581055]), (('conv2', 343), [-0.6823444962501526, 30.985029220581055]), (('conv2', 344), [-0.6823444962501526, 30.985029220581055]), (('conv2', 345), [-0.6823444962501526, 30.985029220581055]), (('conv2', 346), [-0.6823444962501526, 30.985029220581055]), (('conv2', 347), [-0.6823444962501526, 30.985029220581055]), (('conv2', 348), [-0.6823444962501526, 30.985029220581055]), (('conv2', 349), [-0.6823444962501526, 30.985029220581055]), (('conv2', 350), [-0.6823444962501526, 30.985029220581055]), (('conv2', 351), [-0.6823444962501526, 30.985029220581055]), (('conv2', 352), [-0.6823444962501526, 30.985029220581055]), (('conv2', 353), [-0.6823444962501526, 30.985029220581055]), (('conv2', 354), [-0.6823444962501526, 30.985029220581055]), (('conv2', 355), [-0.6823444962501526, 30.985029220581055]), (('conv2', 356), [-0.6823444962501526, 30.985029220581055]), (('conv2', 357), [-0.6823444962501526, 30.985029220581055]), (('conv2', 358), [-0.6823444962501526, 30.985029220581055]), (('conv2', 359), [-0.6823444962501526, 30.985029220581055]), (('conv2', 360), [-0.6823444962501526, 30.985029220581055]), (('conv2', 361), [-0.6823444962501526, 30.985029220581055]), (('conv2', 362), [-0.6823444962501526, 30.985029220581055]), (('conv2', 363), [-0.6823444962501526, 30.985029220581055]), (('conv2', 364), [-0.6823444962501526, 30.985029220581055]), (('conv2', 365), [-0.6823444962501526, 30.985029220581055]), (('conv2', 366), [-0.6823444962501526, 30.985029220581055]), (('conv2', 367), [-0.6823444962501526, 30.985029220581055]), (('conv2', 368), [-0.6823444962501526, 30.985029220581055]), (('conv2', 369), [-0.6823444962501526, 30.985029220581055]), (('conv2', 370), [-0.6823444962501526, 30.985029220581055]), (('conv2', 371), [-0.6823444962501526, 30.985029220581055]), (('conv2', 372), [-0.6823444962501526, 30.985029220581055]), (('conv2', 373), [-0.6823444962501526, 30.985029220581055]), (('conv2', 374), [-0.6823444962501526, 30.985029220581055]), (('conv2', 375), [-0.6823444962501526, 30.985029220581055]), (('conv2', 376), [-0.6823444962501526, 30.985029220581055]), (('conv2', 377), [-0.6823444962501526, 30.985029220581055]), (('conv2', 378), [-0.6823444962501526, 30.985029220581055]), (('conv2', 379), [-0.6823444962501526, 30.985029220581055]), (('conv2', 380), [-0.6823444962501526, 30.985029220581055]), (('conv2', 381), [-0.6823444962501526, 30.985029220581055]), (('conv2', 382), [-0.6823444962501526, 30.985029220581055]), (('conv2', 383), [-0.6823444962501526, 30.985029220581055]), (('conv2', 384), [-0.6823444962501526, 30.985029220581055]), (('conv2', 385), [-0.6823444962501526, 30.985029220581055]), (('conv2', 386), [-0.6823444962501526, 30.985029220581055]), (('conv2', 387), [-0.6823444962501526, 30.985029220581055]), (('conv2', 388), [-0.6823444962501526, 30.985029220581055]), (('conv2', 389), [-0.6823444962501526, 30.985029220581055]), (('conv2', 390), [-0.6823444962501526, 30.985029220581055]), (('conv2', 391), [-0.6823444962501526, 30.985029220581055]), (('conv2', 392), [-0.6823444962501526, 30.985029220581055]), (('conv2', 393), [-0.6823444962501526, 30.985029220581055]), (('conv2', 394), [-0.6823444962501526, 30.985029220581055]), (('conv2', 395), [-0.6823444962501526, 30.985029220581055]), (('conv2', 396), [-0.6823444962501526, 30.985029220581055]), (('conv2', 397), [-0.6823444962501526, 30.985029220581055]), (('conv2', 398), [-0.6823444962501526, 30.985029220581055]), (('conv2', 399), [-0.6823444962501526, 30.985029220581055]), (('conv2', 400), [-0.6823444962501526, 30.985029220581055]), (('conv2', 401), [-0.6823444962501526, 30.985029220581055]), (('conv2', 402), [-0.6823444962501526, 30.985029220581055]), (('conv2', 403), [-0.6823444962501526, 30.985029220581055]), (('conv2', 404), [-0.6823444962501526, 30.985029220581055]), (('conv2', 405), [-0.6823444962501526, 30.985029220581055]), (('conv2', 406), [-0.6823444962501526, 30.985029220581055]), (('conv2', 407), [-0.6823444962501526, 30.985029220581055]), (('conv2', 408), [-0.6823444962501526, 30.985029220581055]), (('conv2', 409), [-0.6823444962501526, 30.985029220581055]), (('conv2', 410), [-0.6823444962501526, 30.985029220581055]), (('conv2', 411), [-0.6823444962501526, 30.985029220581055]), (('conv2', 412), [-0.6823444962501526, 30.985029220581055]), (('conv2', 413), [-0.6823444962501526, 30.985029220581055]), (('conv2', 414), [-0.6823444962501526, 30.985029220581055]), (('conv2', 415), [-0.6823444962501526, 30.985029220581055]), (('conv2', 416), [-0.6823444962501526, 30.985029220581055]), (('conv2', 417), [-0.6823444962501526, 30.985029220581055]), (('conv2', 418), [-0.6823444962501526, 30.985029220581055]), (('conv2', 419), [-0.6823444962501526, 30.985029220581055]), (('conv2', 420), [-0.6823444962501526, 30.985029220581055]), (('conv2', 421), [-0.6823444962501526, 30.985029220581055]), (('conv2', 422), [-0.6823444962501526, 30.985029220581055]), (('conv2', 423), [-0.6823444962501526, 30.985029220581055]), (('conv2', 424), [-0.6823444962501526, 30.985029220581055]), (('conv2', 425), [-0.6823444962501526, 30.985029220581055]), (('conv2', 426), [-0.6823444962501526, 30.985029220581055]), (('conv2', 427), [-0.6823444962501526, 30.985029220581055]), (('conv2', 428), [-0.6823444962501526, 30.985029220581055]), (('conv2', 429), [-0.6823444962501526, 30.985029220581055]), (('conv2', 430), [-0.6823444962501526, 30.985029220581055]), (('conv2', 431), [-0.6823444962501526, 30.985029220581055]), (('conv2', 432), [-0.6823444962501526, 30.985029220581055]), (('conv2', 433), [-0.6823444962501526, 30.985029220581055]), (('conv2', 434), [-0.6823444962501526, 30.985029220581055]), (('conv2', 435), [-0.6823444962501526, 30.985029220581055]), (('conv2', 436), [-0.6823444962501526, 30.985029220581055]), (('conv2', 437), [-0.6823444962501526, 30.985029220581055]), (('conv2', 438), [-0.6823444962501526, 30.985029220581055]), (('conv2', 439), [-0.6823444962501526, 30.985029220581055]), (('conv2', 440), [-0.6823444962501526, 30.985029220581055]), (('conv2', 441), [-0.6823444962501526, 30.985029220581055]), (('conv2', 442), [-0.6823444962501526, 30.985029220581055]), (('conv2', 443), [-0.6823444962501526, 30.985029220581055]), (('conv2', 444), [-0.6823444962501526, 30.985029220581055]), (('conv2', 445), [-0.6823444962501526, 30.985029220581055]), (('conv2', 446), [-0.6823444962501526, 30.985029220581055]), (('conv2', 447), [-0.6823444962501526, 30.985029220581055]), (('conv2', 448), [-0.6823444962501526, 30.985029220581055]), (('conv2', 449), [-0.6823444962501526, 30.985029220581055]), (('conv2', 450), [-0.6823444962501526, 30.985029220581055]), (('conv2', 451), [-0.6823444962501526, 30.985029220581055]), (('conv2', 452), [-0.6823444962501526, 30.985029220581055]), (('conv2', 453), [-0.6823444962501526, 30.985029220581055]), (('conv2', 454), [-0.6823444962501526, 30.985029220581055]), (('conv2', 455), [-0.6823444962501526, 30.985029220581055]), (('conv2', 456), [-0.6823444962501526, 30.985029220581055]), (('conv2', 457), [-0.6823444962501526, 30.985029220581055]), (('conv2', 458), [-0.6823444962501526, 30.985029220581055]), (('conv2', 459), [-0.6823444962501526, 30.985029220581055]), (('conv2', 460), [-0.6823444962501526, 30.985029220581055]), (('conv2', 461), [-0.6823444962501526, 30.985029220581055]), (('conv2', 462), [-0.6823444962501526, 30.985029220581055]), (('conv2', 463), [-0.6823444962501526, 30.985029220581055]), (('conv2', 464), [-0.6823444962501526, 30.985029220581055]), (('conv2', 465), [-0.6823444962501526, 30.985029220581055]), (('conv2', 466), [-0.6823444962501526, 30.985029220581055]), (('conv2', 467), [-0.6823444962501526, 30.985029220581055]), (('conv2', 468), [-0.6823444962501526, 30.985029220581055]), (('conv2', 469), [-0.6823444962501526, 30.985029220581055]), (('conv2', 470), [-0.6823444962501526, 30.985029220581055]), (('conv2', 471), [-0.6823444962501526, 30.985029220581055]), (('conv2', 472), [-0.6823444962501526, 30.985029220581055]), (('conv2', 473), [-0.6823444962501526, 30.985029220581055]), (('conv2', 474), [-0.6823444962501526, 30.985029220581055]), (('conv2', 475), [-0.6823444962501526, 30.985029220581055]), (('conv2', 476), [-0.6823444962501526, 30.985029220581055]), (('conv2', 477), [-0.6823444962501526, 30.985029220581055]), (('conv2', 478), [-0.6823444962501526, 30.985029220581055]), (('conv2', 479), [-0.6823444962501526, 30.985029220581055]), (('conv2', 480), [-0.6823444962501526, 30.985029220581055]), (('conv2', 481), [-0.6823444962501526, 30.985029220581055]), (('conv2', 482), [-0.6823444962501526, 30.985029220581055]), (('conv2', 483), [-0.6823444962501526, 30.985029220581055]), (('conv2', 484), [-0.6823444962501526, 30.985029220581055]), (('conv2', 485), [-0.6823444962501526, 30.985029220581055]), (('conv2', 486), [-0.6823444962501526, 30.985029220581055]), (('conv2', 487), [-0.6823444962501526, 30.985029220581055]), (('conv2', 488), [-0.6823444962501526, 30.985029220581055]), (('conv2', 489), [-0.6823444962501526, 30.985029220581055]), (('conv2', 490), [-0.6823444962501526, 30.985029220581055]), (('conv2', 491), [-0.6823444962501526, 30.985029220581055]), (('conv2', 492), [-0.6823444962501526, 30.985029220581055]), (('conv2', 493), [-0.6823444962501526, 30.985029220581055]), (('conv2', 494), [-0.6823444962501526, 30.985029220581055]), (('conv2', 495), [-0.6823444962501526, 30.985029220581055]), (('conv2', 496), [-0.6823444962501526, 30.985029220581055]), (('conv2', 497), [-0.6823444962501526, 30.985029220581055]), (('conv2', 498), [-0.6823444962501526, 30.985029220581055]), (('conv2', 499), [-0.6823444962501526, 30.985029220581055]), (('conv2', 500), [-0.6823444962501526, 30.985029220581055]), (('conv2', 501), [-0.6823444962501526, 30.985029220581055]), (('conv2', 502), [-0.6823444962501526, 30.985029220581055]), (('conv2', 503), [-0.6823444962501526, 30.985029220581055]), (('conv2', 504), [-0.6823444962501526, 30.985029220581055]), (('conv2', 505), [-0.6823444962501526, 30.985029220581055]), (('conv2', 506), [-0.6823444962501526, 30.985029220581055]), (('conv2', 507), [-0.6823444962501526, 30.985029220581055]), (('conv2', 508), [-0.6823444962501526, 30.985029220581055]), (('conv2', 509), [-0.6823444962501526, 30.985029220581055]), (('conv2', 510), [-0.6823444962501526, 30.985029220581055]), (('conv2', 511), [-0.6823444962501526, 30.985029220581055]), (('conv2', 512), [-0.6823444962501526, 30.985029220581055]), (('conv2', 513), [-0.6823444962501526, 30.985029220581055]), (('conv2', 514), [-0.6823444962501526, 30.985029220581055]), (('conv2', 515), [-0.6823444962501526, 30.985029220581055]), (('conv2', 516), [-0.6823444962501526, 30.985029220581055]), (('conv2', 517), [-0.6823444962501526, 30.985029220581055]), (('conv2', 518), [-0.6823444962501526, 30.985029220581055]), (('conv2', 519), [-0.6823444962501526, 30.985029220581055]), (('conv2', 520), [-0.6823444962501526, 30.985029220581055]), (('conv2', 521), [-0.6823444962501526, 30.985029220581055]), (('conv2', 522), [-0.6823444962501526, 30.985029220581055]), (('conv2', 523), [-0.6823444962501526, 30.985029220581055]), (('conv2', 524), [-0.6823444962501526, 30.985029220581055]), (('conv2', 525), [-0.6823444962501526, 30.985029220581055]), (('conv2', 526), [-0.6823444962501526, 30.985029220581055]), (('conv2', 527), [-0.6823444962501526, 30.985029220581055]), (('conv2', 528), [-0.6823444962501526, 30.985029220581055]), (('conv2', 529), [-0.6823444962501526, 30.985029220581055]), (('conv2', 530), [-0.6823444962501526, 30.985029220581055]), (('conv2', 531), [-0.6823444962501526, 30.985029220581055]), (('conv2', 532), [-0.6823444962501526, 30.985029220581055]), (('conv2', 533), [-0.6823444962501526, 30.985029220581055]), (('conv2', 534), [-0.6823444962501526, 30.985029220581055]), (('conv2', 535), [-0.6823444962501526, 30.985029220581055]), (('conv2', 536), [-0.6823444962501526, 30.985029220581055]), (('conv2', 537), [-0.6823444962501526, 30.985029220581055]), (('conv2', 538), [-0.6823444962501526, 30.985029220581055]), (('conv2', 539), [-0.6823444962501526, 30.985029220581055]), (('conv2', 540), [-0.6823444962501526, 30.985029220581055]), (('conv2', 541), [-0.6823444962501526, 30.985029220581055]), (('conv2', 542), [-0.6823444962501526, 30.985029220581055]), (('conv2', 543), [-0.6823444962501526, 30.985029220581055]), (('conv2', 544), [-0.6823444962501526, 30.985029220581055]), (('conv2', 545), [-0.6823444962501526, 30.985029220581055]), (('conv2', 546), [-0.6823444962501526, 30.985029220581055]), (('conv2', 547), [-0.6823444962501526, 30.985029220581055]), (('conv2', 548), [-0.6823444962501526, 30.985029220581055]), (('conv2', 549), [-0.6823444962501526, 30.985029220581055]), (('conv2', 550), [-0.6823444962501526, 30.985029220581055]), (('conv2', 551), [-0.6823444962501526, 30.985029220581055]), (('conv2', 552), [-0.6823444962501526, 30.985029220581055]), (('conv2', 553), [-0.6823444962501526, 30.985029220581055]), (('conv2', 554), [-0.6823444962501526, 30.985029220581055]), (('conv2', 555), [-0.6823444962501526, 30.985029220581055]), (('conv2', 556), [-0.6823444962501526, 30.985029220581055]), (('conv2', 557), [-0.6823444962501526, 30.985029220581055]), (('conv2', 558), [-0.6823444962501526, 30.985029220581055]), (('conv2', 559), [-0.6823444962501526, 30.985029220581055]), (('conv2', 560), [-0.6823444962501526, 30.985029220581055]), (('conv2', 561), [-0.6823444962501526, 30.985029220581055]), (('conv2', 562), [-0.6823444962501526, 30.985029220581055]), (('conv2', 563), [-0.6823444962501526, 30.985029220581055]), (('conv2', 564), [-0.6823444962501526, 30.985029220581055]), (('conv2', 565), [-0.6823444962501526, 30.985029220581055]), (('conv2', 566), [-0.6823444962501526, 30.985029220581055]), (('conv2', 567), [-0.6823444962501526, 30.985029220581055]), (('conv2', 568), [-0.6823444962501526, 30.985029220581055]), (('conv2', 569), [-0.6823444962501526, 30.985029220581055]), (('conv2', 570), [-0.6823444962501526, 30.985029220581055]), (('conv2', 571), [-0.6823444962501526, 30.985029220581055]), (('conv2', 572), [-0.6823444962501526, 30.985029220581055]), (('conv2', 573), [-0.6823444962501526, 30.985029220581055]), (('conv2', 574), [-0.6823444962501526, 30.985029220581055]), (('conv2', 575), [-0.6823444962501526, 30.985029220581055]), (('conv2', 576), [-0.6823444962501526, 30.985029220581055]), (('conv2', 577), [-0.6823444962501526, 30.985029220581055]), (('conv2', 578), [-0.6823444962501526, 30.985029220581055]), (('conv2', 579), [-0.6823444962501526, 30.985029220581055]), (('conv2', 580), [-0.6823444962501526, 30.985029220581055]), (('conv2', 581), [-0.6823444962501526, 30.985029220581055]), (('conv2', 582), [-0.6823444962501526, 30.985029220581055]), (('conv2', 583), [-0.6823444962501526, 30.985029220581055]), (('conv2', 584), [-0.6823444962501526, 30.985029220581055]), (('conv2', 585), [-0.6823444962501526, 30.985029220581055]), (('conv2', 586), [-0.6823444962501526, 30.985029220581055]), (('conv2', 587), [-0.6823444962501526, 30.985029220581055]), (('conv2', 588), [-0.6823444962501526, 30.985029220581055]), (('conv2', 589), [-0.6823444962501526, 30.985029220581055]), (('conv2', 590), [-0.6823444962501526, 30.985029220581055]), (('conv2', 591), [-0.6823444962501526, 30.985029220581055]), (('conv2', 592), [-0.6823444962501526, 30.985029220581055]), (('conv2', 593), [-0.6823444962501526, 30.985029220581055]), (('conv2', 594), [-0.6823444962501526, 30.985029220581055]), (('conv2', 595), [-0.6823444962501526, 30.985029220581055]), (('conv2', 596), [-0.6823444962501526, 30.985029220581055]), (('conv2', 597), [-0.6823444962501526, 30.985029220581055]), (('conv2', 598), [-0.6823444962501526, 30.985029220581055]), (('conv2', 599), [-0.6823444962501526, 30.985029220581055]), (('conv2', 600), [-0.6823444962501526, 30.985029220581055]), (('conv2', 601), [-0.6823444962501526, 30.985029220581055]), (('conv2', 602), [-0.6823444962501526, 30.985029220581055]), (('conv2', 603), [-0.6823444962501526, 30.985029220581055]), (('conv2', 604), [-0.6823444962501526, 30.985029220581055]), (('conv2', 605), [-0.6823444962501526, 30.985029220581055]), (('conv2', 606), [-0.6823444962501526, 30.985029220581055]), (('conv2', 607), [-0.6823444962501526, 30.985029220581055]), (('conv2', 608), [-0.6823444962501526, 30.985029220581055]), (('conv2', 609), [-0.6823444962501526, 30.985029220581055]), (('conv2', 610), [-0.6823444962501526, 30.985029220581055]), (('conv2', 611), [-0.6823444962501526, 30.985029220581055]), (('conv2', 612), [-0.6823444962501526, 30.985029220581055]), (('conv2', 613), [-0.6823444962501526, 30.985029220581055]), (('conv2', 614), [-0.6823444962501526, 30.985029220581055]), (('conv2', 615), [-0.6823444962501526, 30.985029220581055]), (('conv2', 616), [-0.6823444962501526, 30.985029220581055]), (('conv2', 617), [-0.6823444962501526, 30.985029220581055]), (('conv2', 618), [-0.6823444962501526, 30.985029220581055]), (('conv2', 619), [-0.6823444962501526, 30.985029220581055]), (('conv2', 620), [-0.6823444962501526, 30.985029220581055]), (('conv2', 621), [-0.6823444962501526, 30.985029220581055]), (('conv2', 622), [-0.6823444962501526, 30.985029220581055]), (('conv2', 623), [-0.6823444962501526, 30.985029220581055]), (('conv2', 624), [-0.6823444962501526, 30.985029220581055]), (('conv2', 625), [-0.6823444962501526, 30.985029220581055]), (('conv2', 626), [-0.6823444962501526, 30.985029220581055]), (('conv2', 627), [-0.6823444962501526, 30.985029220581055]), (('conv2', 628), [-0.6823444962501526, 30.985029220581055]), (('conv2', 629), [-0.6823444962501526, 30.985029220581055]), (('conv2', 630), [-0.6823444962501526, 30.985029220581055]), (('conv2', 631), [-0.6823444962501526, 30.985029220581055]), (('conv2', 632), [-0.6823444962501526, 30.985029220581055]), (('conv2', 633), [-0.6823444962501526, 30.985029220581055]), (('conv2', 634), [-0.6823444962501526, 30.985029220581055]), (('conv2', 635), [-0.6823444962501526, 30.985029220581055]), (('conv2', 636), [-0.6823444962501526, 30.985029220581055]), (('conv2', 637), [-0.6823444962501526, 30.985029220581055]), (('conv2', 638), [-0.6823444962501526, 30.985029220581055]), (('conv2', 639), [-0.6823444962501526, 30.985029220581055]), (('conv2', 640), [-0.6823444962501526, 30.985029220581055]), (('conv2', 641), [-0.6823444962501526, 30.985029220581055]), (('conv2', 642), [-0.6823444962501526, 30.985029220581055]), (('conv2', 643), [-0.6823444962501526, 30.985029220581055]), (('conv2', 644), [-0.6823444962501526, 30.985029220581055]), (('conv2', 645), [-0.6823444962501526, 30.985029220581055]), (('conv2', 646), [-0.6823444962501526, 30.985029220581055]), (('conv2', 647), [-0.6823444962501526, 30.985029220581055]), (('conv2', 648), [-0.6823444962501526, 30.985029220581055]), (('conv2', 649), [-0.6823444962501526, 30.985029220581055]), (('conv2', 650), [-0.6823444962501526, 30.985029220581055]), (('conv2', 651), [-0.6823444962501526, 30.985029220581055]), (('conv2', 652), [-0.6823444962501526, 30.985029220581055]), (('conv2', 653), [-0.6823444962501526, 30.985029220581055]), (('conv2', 654), [-0.6823444962501526, 30.985029220581055]), (('conv2', 655), [-0.6823444962501526, 30.985029220581055]), (('conv2', 656), [-0.6823444962501526, 30.985029220581055]), (('conv2', 657), [-0.6823444962501526, 30.985029220581055]), (('conv2', 658), [-0.6823444962501526, 30.985029220581055]), (('conv2', 659), [-0.6823444962501526, 30.985029220581055]), (('conv2', 660), [-0.6823444962501526, 30.985029220581055]), (('conv2', 661), [-0.6823444962501526, 30.985029220581055]), (('conv2', 662), [-0.6823444962501526, 30.985029220581055]), (('conv2', 663), [-0.6823444962501526, 30.985029220581055]), (('conv2', 664), [-0.6823444962501526, 30.985029220581055]), (('conv2', 665), [-0.6823444962501526, 30.985029220581055]), (('conv2', 666), [-0.6823444962501526, 30.985029220581055]), (('conv2', 667), [-0.6823444962501526, 30.985029220581055]), (('conv2', 668), [-0.6823444962501526, 30.985029220581055]), (('conv2', 669), [-0.6823444962501526, 30.985029220581055]), (('conv2', 670), [-0.6823444962501526, 30.985029220581055]), (('conv2', 671), [-0.6823444962501526, 30.985029220581055]), (('conv2', 672), [-0.6823444962501526, 30.985029220581055]), (('conv2', 673), [-0.6823444962501526, 30.985029220581055]), (('conv2', 674), [-0.6823444962501526, 30.985029220581055]), (('conv2', 675), [-0.6823444962501526, 30.985029220581055]), (('conv2', 676), [-0.6823444962501526, 30.985029220581055]), (('conv2', 677), [-0.6823444962501526, 30.985029220581055]), (('conv2', 678), [-0.6823444962501526, 30.985029220581055]), (('conv2', 679), [-0.6823444962501526, 30.985029220581055]), (('conv2', 680), [-0.6823444962501526, 30.985029220581055]), (('conv2', 681), [-0.6823444962501526, 30.985029220581055]), (('conv2', 682), [-0.6823444962501526, 30.985029220581055]), (('conv2', 683), [-0.6823444962501526, 30.985029220581055]), (('conv2', 684), [-0.6823444962501526, 30.985029220581055]), (('conv2', 685), [-0.6823444962501526, 30.985029220581055]), (('conv2', 686), [-0.6823444962501526, 30.985029220581055]), (('conv2', 687), [-0.6823444962501526, 30.985029220581055]), (('conv2', 688), [-0.6823444962501526, 30.985029220581055]), (('conv2', 689), [-0.6823444962501526, 30.985029220581055]), (('conv2', 690), [-0.6823444962501526, 30.985029220581055]), (('conv2', 691), [-0.6823444962501526, 30.985029220581055]), (('conv2', 692), [-0.6823444962501526, 30.985029220581055]), (('conv2', 693), [-0.6823444962501526, 30.985029220581055]), (('conv2', 694), [-0.6823444962501526, 30.985029220581055]), (('conv2', 695), [-0.6823444962501526, 30.985029220581055]), (('conv2', 696), [-0.6823444962501526, 30.985029220581055]), (('conv2', 697), [-0.6823444962501526, 30.985029220581055]), (('conv2', 698), [-0.6823444962501526, 30.985029220581055]), (('conv2', 699), [-0.6823444962501526, 30.985029220581055]), (('conv2', 700), [-0.6823444962501526, 30.985029220581055]), (('conv2', 701), [-0.6823444962501526, 30.985029220581055]), (('conv2', 702), [-0.6823444962501526, 30.985029220581055]), (('conv2', 703), [-0.6823444962501526, 30.985029220581055]), (('conv2', 704), [-0.6823444962501526, 30.985029220581055]), (('conv2', 705), [-0.6823444962501526, 30.985029220581055]), (('conv2', 706), [-0.6823444962501526, 30.985029220581055]), (('conv2', 707), [-0.6823444962501526, 30.985029220581055]), (('conv2', 708), [-0.6823444962501526, 30.985029220581055]), (('conv2', 709), [-0.6823444962501526, 30.985029220581055]), (('conv2', 710), [-0.6823444962501526, 30.985029220581055]), (('conv2', 711), [-0.6823444962501526, 30.985029220581055]), (('conv2', 712), [-0.6823444962501526, 30.985029220581055]), (('conv2', 713), [-0.6823444962501526, 30.985029220581055]), (('conv2', 714), [-0.6823444962501526, 30.985029220581055]), (('conv2', 715), [-0.6823444962501526, 30.985029220581055]), (('conv2', 716), [-0.6823444962501526, 30.985029220581055]), (('conv2', 717), [-0.6823444962501526, 30.985029220581055]), (('conv2', 718), [-0.6823444962501526, 30.985029220581055]), (('conv2', 719), [-0.6823444962501526, 30.985029220581055]), (('conv2', 720), [-0.6823444962501526, 30.985029220581055]), (('conv2', 721), [-0.6823444962501526, 30.985029220581055]), (('conv2', 722), [-0.6823444962501526, 30.985029220581055]), (('conv2', 723), [-0.6823444962501526, 30.985029220581055]), (('conv2', 724), [-0.6823444962501526, 30.985029220581055]), (('conv2', 725), [-0.6823444962501526, 30.985029220581055]), (('conv2', 726), [-0.6823444962501526, 30.985029220581055]), (('conv2', 727), [-0.6823444962501526, 30.985029220581055]), (('conv2', 728), [-0.6823444962501526, 30.985029220581055]), (('conv2', 729), [-0.6823444962501526, 30.985029220581055]), (('conv2', 730), [-0.6823444962501526, 30.985029220581055]), (('conv2', 731), [-0.6823444962501526, 30.985029220581055]), (('conv2', 732), [-0.6823444962501526, 30.985029220581055]), (('conv2', 733), [-0.6823444962501526, 30.985029220581055]), (('conv2', 734), [-0.6823444962501526, 30.985029220581055]), (('conv2', 735), [-0.6823444962501526, 30.985029220581055]), (('conv2', 736), [-0.6823444962501526, 30.985029220581055]), (('conv2', 737), [-0.6823444962501526, 30.985029220581055]), (('conv2', 738), [-0.6823444962501526, 30.985029220581055]), (('conv2', 739), [-0.6823444962501526, 30.985029220581055]), (('conv2', 740), [-0.6823444962501526, 30.985029220581055]), (('conv2', 741), [-0.6823444962501526, 30.985029220581055]), (('conv2', 742), [-0.6823444962501526, 30.985029220581055]), (('conv2', 743), [-0.6823444962501526, 30.985029220581055]), (('conv2', 744), [-0.6823444962501526, 30.985029220581055]), (('conv2', 745), [-0.6823444962501526, 30.985029220581055]), (('conv2', 746), [-0.6823444962501526, 30.985029220581055]), (('conv2', 747), [-0.6823444962501526, 30.985029220581055]), (('conv2', 748), [-0.6823444962501526, 30.985029220581055]), (('conv2', 749), [-0.6823444962501526, 30.985029220581055]), (('conv2', 750), [-0.6823444962501526, 30.985029220581055]), (('conv2', 751), [-0.6823444962501526, 30.985029220581055]), (('conv2', 752), [-0.6823444962501526, 30.985029220581055]), (('conv2', 753), [-0.6823444962501526, 30.985029220581055]), (('conv2', 754), [-0.6823444962501526, 30.985029220581055]), (('conv2', 755), [-0.6823444962501526, 30.985029220581055]), (('conv2', 756), [-0.6823444962501526, 30.985029220581055]), (('conv2', 757), [-0.6823444962501526, 30.985029220581055]), (('conv2', 758), [-0.6823444962501526, 30.985029220581055]), (('conv2', 759), [-0.6823444962501526, 30.985029220581055]), (('conv2', 760), [-0.6823444962501526, 30.985029220581055]), (('conv2', 761), [-0.6823444962501526, 30.985029220581055]), (('conv2', 762), [-0.6823444962501526, 30.985029220581055]), (('conv2', 763), [-0.6823444962501526, 30.985029220581055]), (('conv2', 764), [-0.6823444962501526, 30.985029220581055]), (('conv2', 765), [-0.6823444962501526, 30.985029220581055]), (('conv2', 766), [-0.6823444962501526, 30.985029220581055]), (('conv2', 767), [-0.6823444962501526, 30.985029220581055]), (('conv2', 768), [-0.6823444962501526, 30.985029220581055]), (('conv2', 769), [-0.6823444962501526, 30.985029220581055]), (('conv2', 770), [-0.6823444962501526, 30.985029220581055]), (('conv2', 771), [-0.6823444962501526, 30.985029220581055]), (('conv2', 772), [-0.6823444962501526, 30.985029220581055]), (('conv2', 773), [-0.6823444962501526, 30.985029220581055]), (('conv2', 774), [-0.6823444962501526, 30.985029220581055]), (('conv2', 775), [-0.6823444962501526, 30.985029220581055]), (('conv2', 776), [-0.6823444962501526, 30.985029220581055]), (('conv2', 777), [-0.6823444962501526, 30.985029220581055]), (('conv2', 778), [-0.6823444962501526, 30.985029220581055]), (('conv2', 779), [-0.6823444962501526, 30.985029220581055]), (('conv2', 780), [-0.6823444962501526, 30.985029220581055]), (('conv2', 781), [-0.6823444962501526, 30.985029220581055]), (('conv2', 782), [-0.6823444962501526, 30.985029220581055]), (('conv2', 783), [-0.6823444962501526, 30.985029220581055]), (('conv2', 784), [-0.6823444962501526, 30.985029220581055]), (('conv2', 785), [-0.6823444962501526, 30.985029220581055]), (('conv2', 786), [-0.6823444962501526, 30.985029220581055]), (('conv2', 787), [-0.6823444962501526, 30.985029220581055]), (('conv2', 788), [-0.6823444962501526, 30.985029220581055]), (('conv2', 789), [-0.6823444962501526, 30.985029220581055]), (('conv2', 790), [-0.6823444962501526, 30.985029220581055]), (('conv2', 791), [-0.6823444962501526, 30.985029220581055]), (('conv2', 792), [-0.6823444962501526, 30.985029220581055]), (('conv2', 793), [-0.6823444962501526, 30.985029220581055]), (('conv2', 794), [-0.6823444962501526, 30.985029220581055]), (('conv2', 795), [-0.6823444962501526, 30.985029220581055]), (('conv2', 796), [-0.6823444962501526, 30.985029220581055]), (('conv2', 797), [-0.6823444962501526, 30.985029220581055]), (('conv2', 798), [-0.6823444962501526, 30.985029220581055]), (('conv2', 799), [-0.6823444962501526, 30.985029220581055]), (('conv2', 800), [-0.6823444962501526, 30.985029220581055]), (('conv2', 801), [-0.6823444962501526, 30.985029220581055]), (('conv2', 802), [-0.6823444962501526, 30.985029220581055]), (('conv2', 803), [-0.6823444962501526, 30.985029220581055]), (('conv2', 804), [-0.6823444962501526, 30.985029220581055]), (('conv2', 805), [-0.6823444962501526, 30.985029220581055]), (('conv2', 806), [-0.6823444962501526, 30.985029220581055]), (('conv2', 807), [-0.6823444962501526, 30.985029220581055]), (('conv2', 808), [-0.6823444962501526, 30.985029220581055]), (('conv2', 809), [-0.6823444962501526, 30.985029220581055]), (('conv2', 810), [-0.6823444962501526, 30.985029220581055]), (('conv2', 811), [-0.6823444962501526, 30.985029220581055]), (('conv2', 812), [-0.6823444962501526, 30.985029220581055]), (('conv2', 813), [-0.6823444962501526, 30.985029220581055]), (('conv2', 814), [-0.6823444962501526, 30.985029220581055]), (('conv2', 815), [-0.6823444962501526, 30.985029220581055]), (('conv2', 816), [-0.6823444962501526, 30.985029220581055]), (('conv2', 817), [-0.6823444962501526, 30.985029220581055]), (('conv2', 818), [-0.6823444962501526, 30.985029220581055]), (('conv2', 819), [-0.6823444962501526, 30.985029220581055]), (('conv2', 820), [-0.6823444962501526, 30.985029220581055]), (('conv2', 821), [-0.6823444962501526, 30.985029220581055]), (('conv2', 822), [-0.6823444962501526, 30.985029220581055]), (('conv2', 823), [-0.6823444962501526, 30.985029220581055]), (('conv2', 824), [-0.6823444962501526, 30.985029220581055]), (('conv2', 825), [-0.6823444962501526, 30.985029220581055]), (('conv2', 826), [-0.6823444962501526, 30.985029220581055]), (('conv2', 827), [-0.6823444962501526, 30.985029220581055]), (('conv2', 828), [-0.6823444962501526, 30.985029220581055]), (('conv2', 829), [-0.6823444962501526, 30.985029220581055]), (('conv2', 830), [-0.6823444962501526, 30.985029220581055]), (('conv2', 831), [-0.6823444962501526, 30.985029220581055]), (('conv2', 832), [-0.6823444962501526, 30.985029220581055]), (('conv2', 833), [-0.6823444962501526, 30.985029220581055]), (('conv2', 834), [-0.6823444962501526, 30.985029220581055]), (('conv2', 835), [-0.6823444962501526, 30.985029220581055]), (('conv2', 836), [-0.6823444962501526, 30.985029220581055]), (('conv2', 837), [-0.6823444962501526, 30.985029220581055]), (('conv2', 838), [-0.6823444962501526, 30.985029220581055]), (('conv2', 839), [-0.6823444962501526, 30.985029220581055]), (('conv2', 840), [-0.6823444962501526, 30.985029220581055]), (('conv2', 841), [-0.6823444962501526, 30.985029220581055]), (('conv2', 842), [-0.6823444962501526, 30.985029220581055]), (('conv2', 843), [-0.6823444962501526, 30.985029220581055]), (('conv2', 844), [-0.6823444962501526, 30.985029220581055]), (('conv2', 845), [-0.6823444962501526, 30.985029220581055]), (('conv2', 846), [-0.6823444962501526, 30.985029220581055]), (('conv2', 847), [-0.6823444962501526, 30.985029220581055]), (('conv2', 848), [-0.6823444962501526, 30.985029220581055]), (('conv2', 849), [-0.6823444962501526, 30.985029220581055]), (('conv2', 850), [-0.6823444962501526, 30.985029220581055]), (('conv2', 851), [-0.6823444962501526, 30.985029220581055]), (('conv2', 852), [-0.6823444962501526, 30.985029220581055]), (('conv2', 853), [-0.6823444962501526, 30.985029220581055]), (('conv2', 854), [-0.6823444962501526, 30.985029220581055]), (('conv2', 855), [-0.6823444962501526, 30.985029220581055]), (('conv2', 856), [-0.6823444962501526, 30.985029220581055]), (('conv2', 857), [-0.6823444962501526, 30.985029220581055]), (('conv2', 858), [-0.6823444962501526, 30.985029220581055]), (('conv2', 859), [-0.6823444962501526, 30.985029220581055]), (('conv2', 860), [-0.6823444962501526, 30.985029220581055]), (('conv2', 861), [-0.6823444962501526, 30.985029220581055]), (('conv2', 862), [-0.6823444962501526, 30.985029220581055]), (('conv2', 863), [-0.6823444962501526, 30.985029220581055]), (('conv2', 864), [-0.6823444962501526, 30.985029220581055]), (('conv2', 865), [-0.6823444962501526, 30.985029220581055]), (('conv2', 866), [-0.6823444962501526, 30.985029220581055]), (('conv2', 867), [-0.6823444962501526, 30.985029220581055]), (('conv2', 868), [-0.6823444962501526, 30.985029220581055]), (('conv2', 869), [-0.6823444962501526, 30.985029220581055]), (('conv2', 870), [-0.6823444962501526, 30.985029220581055]), (('conv2', 871), [-0.6823444962501526, 30.985029220581055]), (('conv2', 872), [-0.6823444962501526, 30.985029220581055]), (('conv2', 873), [-0.6823444962501526, 30.985029220581055]), (('conv2', 874), [-0.6823444962501526, 30.985029220581055]), (('conv2', 875), [-0.6823444962501526, 30.985029220581055]), (('conv2', 876), [-0.6823444962501526, 30.985029220581055]), (('conv2', 877), [-0.6823444962501526, 30.985029220581055]), (('conv2', 878), [-0.6823444962501526, 30.985029220581055]), (('conv2', 879), [-0.6823444962501526, 30.985029220581055]), (('conv2', 880), [-0.6823444962501526, 30.985029220581055]), (('conv2', 881), [-0.6823444962501526, 30.985029220581055]), (('conv2', 882), [-0.6823444962501526, 30.985029220581055]), (('conv2', 883), [-0.6823444962501526, 30.985029220581055]), (('conv2', 884), [-0.6823444962501526, 30.985029220581055]), (('conv2', 885), [-0.6823444962501526, 30.985029220581055]), (('conv2', 886), [-0.6823444962501526, 30.985029220581055]), (('conv2', 887), [-0.6823444962501526, 30.985029220581055]), (('conv2', 888), [-0.6823444962501526, 30.985029220581055]), (('conv2', 889), [-0.6823444962501526, 30.985029220581055]), (('conv2', 890), [-0.6823444962501526, 30.985029220581055]), (('conv2', 891), [-0.6823444962501526, 30.985029220581055]), (('conv2', 892), [-0.6823444962501526, 30.985029220581055]), (('conv2', 893), [-0.6823444962501526, 30.985029220581055]), (('conv2', 894), [-0.6823444962501526, 30.985029220581055]), (('conv2', 895), [-0.6823444962501526, 30.985029220581055]), (('conv2', 896), [-0.6823444962501526, 30.985029220581055]), (('conv2', 897), [-0.6823444962501526, 30.985029220581055]), (('conv2', 898), [-0.6823444962501526, 30.985029220581055]), (('conv2', 899), [-0.6823444962501526, 30.985029220581055]), (('conv2', 900), [-0.6823444962501526, 30.985029220581055]), (('conv2', 901), [-0.6823444962501526, 30.985029220581055]), (('conv2', 902), [-0.6823444962501526, 30.985029220581055]), (('conv2', 903), [-0.6823444962501526, 30.985029220581055]), (('conv2', 904), [-0.6823444962501526, 30.985029220581055]), (('conv2', 905), [-0.6823444962501526, 30.985029220581055]), (('conv2', 906), [-0.6823444962501526, 30.985029220581055]), (('conv2', 907), [-0.6823444962501526, 30.985029220581055]), (('conv2', 908), [-0.6823444962501526, 30.985029220581055]), (('conv2', 909), [-0.6823444962501526, 30.985029220581055]), (('conv2', 910), [-0.6823444962501526, 30.985029220581055]), (('conv2', 911), [-0.6823444962501526, 30.985029220581055]), (('conv2', 912), [-0.6823444962501526, 30.985029220581055]), (('conv2', 913), [-0.6823444962501526, 30.985029220581055]), (('conv2', 914), [-0.6823444962501526, 30.985029220581055]), (('conv2', 915), [-0.6823444962501526, 30.985029220581055]), (('conv2', 916), [-0.6823444962501526, 30.985029220581055]), (('conv2', 917), [-0.6823444962501526, 30.985029220581055]), (('conv2', 918), [-0.6823444962501526, 30.985029220581055]), (('conv2', 919), [-0.6823444962501526, 30.985029220581055]), (('conv2', 920), [-0.6823444962501526, 30.985029220581055]), (('conv2', 921), [-0.6823444962501526, 30.985029220581055]), (('conv2', 922), [-0.6823444962501526, 30.985029220581055]), (('conv2', 923), [-0.6823444962501526, 30.985029220581055]), (('conv2', 924), [-0.6823444962501526, 30.985029220581055]), (('conv2', 925), [-0.6823444962501526, 30.985029220581055]), (('conv2', 926), [-0.6823444962501526, 30.985029220581055]), (('conv2', 927), [-0.6823444962501526, 30.985029220581055]), (('conv2', 928), [-0.6823444962501526, 30.985029220581055]), (('conv2', 929), [-0.6823444962501526, 30.985029220581055]), (('conv2', 930), [-0.6823444962501526, 30.985029220581055]), (('conv2', 931), [-0.6823444962501526, 30.985029220581055]), (('conv2', 932), [-0.6823444962501526, 30.985029220581055]), (('conv2', 933), [-0.6823444962501526, 30.985029220581055]), (('conv2', 934), [-0.6823444962501526, 30.985029220581055]), (('conv2', 935), [-0.6823444962501526, 30.985029220581055]), (('conv2', 936), [-0.6823444962501526, 30.985029220581055]), (('conv2', 937), [-0.6823444962501526, 30.985029220581055]), (('conv2', 938), [-0.6823444962501526, 30.985029220581055]), (('conv2', 939), [-0.6823444962501526, 30.985029220581055]), (('conv2', 940), [-0.6823444962501526, 30.985029220581055]), (('conv2', 941), [-0.6823444962501526, 30.985029220581055]), (('conv2', 942), [-0.6823444962501526, 30.985029220581055]), (('conv2', 943), [-0.6823444962501526, 30.985029220581055]), (('conv2', 944), [-0.6823444962501526, 30.985029220581055]), (('conv2', 945), [-0.6823444962501526, 30.985029220581055]), (('conv2', 946), [-0.6823444962501526, 30.985029220581055]), (('conv2', 947), [-0.6823444962501526, 30.985029220581055]), (('conv2', 948), [-0.6823444962501526, 30.985029220581055]), (('conv2', 949), [-0.6823444962501526, 30.985029220581055]), (('conv2', 950), [-0.6823444962501526, 30.985029220581055]), (('conv2', 951), [-0.6823444962501526, 30.985029220581055]), (('conv2', 952), [-0.6823444962501526, 30.985029220581055]), (('conv2', 953), [-0.6823444962501526, 30.985029220581055]), (('conv2', 954), [-0.6823444962501526, 30.985029220581055]), (('conv2', 955), [-0.6823444962501526, 30.985029220581055]), (('conv2', 956), [-0.6823444962501526, 30.985029220581055]), (('conv2', 957), [-0.6823444962501526, 30.985029220581055]), (('conv2', 958), [-0.6823444962501526, 30.985029220581055]), (('conv2', 959), [-0.6823444962501526, 30.985029220581055]), (('conv2', 960), [-0.6823444962501526, 30.985029220581055]), (('conv2', 961), [-0.6823444962501526, 30.985029220581055]), (('conv2', 962), [-0.6823444962501526, 30.985029220581055]), (('conv2', 963), [-0.6823444962501526, 30.985029220581055]), (('conv2', 964), [-0.6823444962501526, 30.985029220581055]), (('conv2', 965), [-0.6823444962501526, 30.985029220581055]), (('conv2', 966), [-0.6823444962501526, 30.985029220581055]), (('conv2', 967), [-0.6823444962501526, 30.985029220581055]), (('conv2', 968), [-0.6823444962501526, 30.985029220581055]), (('conv2', 969), [-0.6823444962501526, 30.985029220581055]), (('conv2', 970), [-0.6823444962501526, 30.985029220581055]), (('conv2', 971), [-0.6823444962501526, 30.985029220581055]), (('conv2', 972), [-0.6823444962501526, 30.985029220581055]), (('conv2', 973), [-0.6823444962501526, 30.985029220581055]), (('conv2', 974), [-0.6823444962501526, 30.985029220581055]), (('conv2', 975), [-0.6823444962501526, 30.985029220581055]), (('conv2', 976), [-0.6823444962501526, 30.985029220581055]), (('conv2', 977), [-0.6823444962501526, 30.985029220581055]), (('conv2', 978), [-0.6823444962501526, 30.985029220581055]), (('conv2', 979), [-0.6823444962501526, 30.985029220581055]), (('conv2', 980), [-0.6823444962501526, 30.985029220581055]), (('conv2', 981), [-0.6823444962501526, 30.985029220581055]), (('conv2', 982), [-0.6823444962501526, 30.985029220581055]), (('conv2', 983), [-0.6823444962501526, 30.985029220581055]), (('conv2', 984), [-0.6823444962501526, 30.985029220581055]), (('conv2', 985), [-0.6823444962501526, 30.985029220581055]), (('conv2', 986), [-0.6823444962501526, 30.985029220581055]), (('conv2', 987), [-0.6823444962501526, 30.985029220581055]), (('conv2', 988), [-0.6823444962501526, 30.985029220581055]), (('conv2', 989), [-0.6823444962501526, 30.985029220581055]), (('conv2', 990), [-0.6823444962501526, 30.985029220581055]), (('conv2', 991), [-0.6823444962501526, 30.985029220581055]), (('conv2', 992), [-0.6823444962501526, 30.985029220581055]), (('conv2', 993), [-0.6823444962501526, 30.985029220581055]), (('conv2', 994), [-0.6823444962501526, 30.985029220581055]), (('conv2', 995), [-0.6823444962501526, 30.985029220581055]), (('conv2', 996), [-0.6823444962501526, 30.985029220581055]), (('conv2', 997), [-0.6823444962501526, 30.985029220581055]), (('conv2', 998), [-0.6823444962501526, 30.985029220581055]), (('conv2', 999), [-0.6823444962501526, 30.985029220581055]), (('conv2', 1000), [-0.6823444962501526, 30.985029220581055]), (('conv2', 1001), [-0.6823444962501526, 30.985029220581055]), (('conv2', 1002), [-0.6823444962501526, 30.985029220581055]), (('conv2', 1003), [-0.6823444962501526, 30.985029220581055]), (('conv2', 1004), [-0.6823444962501526, 30.985029220581055]), (('conv2', 1005), [-0.6823444962501526, 30.985029220581055]), (('conv2', 1006), [-0.6823444962501526, 30.985029220581055]), (('conv2', 1007), [-0.6823444962501526, 30.985029220581055]), (('conv2', 1008), [-0.6823444962501526, 30.985029220581055]), (('conv2', 1009), [-0.6823444962501526, 30.985029220581055]), (('conv2', 1010), [-0.6823444962501526, 30.985029220581055]), (('conv2', 1011), [-0.6823444962501526, 30.985029220581055]), (('conv2', 1012), [-0.6823444962501526, 30.985029220581055]), (('conv2', 1013), [-0.6823444962501526, 30.985029220581055]), (('conv2', 1014), [-0.6823444962501526, 30.985029220581055]), (('conv2', 1015), [-0.6823444962501526, 30.985029220581055]), (('conv2', 1016), [-0.6823444962501526, 30.985029220581055]), (('conv2', 1017), [-0.6823444962501526, 30.985029220581055]), (('conv2', 1018), [-0.6823444962501526, 30.985029220581055]), (('conv2', 1019), [-0.6823444962501526, 30.985029220581055]), (('conv2', 1020), [-0.6823444962501526, 30.985029220581055]), (('conv2', 1021), [-0.6823444962501526, 30.985029220581055]), (('conv2', 1022), [-0.6823444962501526, 30.985029220581055]), (('conv2', 1023), [-0.6823444962501526, 30.985029220581055]), (('fc1', 0), [-0.6823444962501526, 30.985029220581055]), (('fc1', 1), [-0.6823444962501526, 30.985029220581055]), (('fc1', 2), [-0.6823444962501526, 30.985029220581055]), (('fc1', 3), [-0.6823444962501526, 30.985029220581055]), (('fc1', 4), [-0.6823444962501526, 30.985029220581055]), (('fc1', 5), [-0.6823444962501526, 30.985029220581055]), (('fc1', 6), [-0.6823444962501526, 30.985029220581055]), (('fc1', 7), [-0.6823444962501526, 30.985029220581055]), (('fc1', 8), [-0.6823444962501526, 30.985029220581055]), (('fc1', 9), [-0.6823444962501526, 30.985029220581055]), (('fc1', 10), [-0.6823444962501526, 30.985029220581055]), (('fc1', 11), [-0.6823444962501526, 30.985029220581055]), (('fc1', 12), [-0.6823444962501526, 30.985029220581055]), (('fc1', 13), [-0.6823444962501526, 30.985029220581055]), (('fc1', 14), [-0.6823444962501526, 30.985029220581055]), (('fc1', 15), [-0.6823444962501526, 30.985029220581055]), (('fc1', 16), [-0.6823444962501526, 30.985029220581055]), (('fc1', 17), [-0.6823444962501526, 30.985029220581055]), (('fc1', 18), [-0.6823444962501526, 30.985029220581055]), (('fc1', 19), [-0.6823444962501526, 30.985029220581055]), (('fc1', 20), [-0.6823444962501526, 30.985029220581055]), (('fc1', 21), [-0.6823444962501526, 30.985029220581055]), (('fc1', 22), [-0.6823444962501526, 30.985029220581055]), (('fc1', 23), [-0.6823444962501526, 30.985029220581055]), (('fc1', 24), [-0.6823444962501526, 30.985029220581055]), (('fc1', 25), [-0.6823444962501526, 30.985029220581055]), (('fc1', 26), [-0.6823444962501526, 30.985029220581055]), (('fc1', 27), [-0.6823444962501526, 30.985029220581055]), (('fc1', 28), [-0.6823444962501526, 30.985029220581055]), (('fc1', 29), [-0.6823444962501526, 30.985029220581055]), (('fc1', 30), [-0.6823444962501526, 30.985029220581055]), (('fc1', 31), [-0.6823444962501526, 30.985029220581055]), (('fc1', 32), [-0.6823444962501526, 30.985029220581055]), (('fc1', 33), [-0.6823444962501526, 30.985029220581055]), (('fc1', 34), [-0.6823444962501526, 30.985029220581055]), (('fc1', 35), [-0.6823444962501526, 30.985029220581055]), (('fc1', 36), [-0.6823444962501526, 30.985029220581055]), (('fc1', 37), [-0.6823444962501526, 30.985029220581055]), (('fc1', 38), [-0.6823444962501526, 30.985029220581055]), (('fc1', 39), [-0.6823444962501526, 30.985029220581055]), (('fc1', 40), [-0.6823444962501526, 30.985029220581055]), (('fc1', 41), [-0.6823444962501526, 30.985029220581055]), (('fc1', 42), [-0.6823444962501526, 30.985029220581055]), (('fc1', 43), [-0.6823444962501526, 30.985029220581055]), (('fc1', 44), [-0.6823444962501526, 30.985029220581055]), (('fc1', 45), [-0.6823444962501526, 30.985029220581055]), (('fc1', 46), [-0.6823444962501526, 30.985029220581055]), (('fc1', 47), [-0.6823444962501526, 30.985029220581055]), (('fc1', 48), [-0.6823444962501526, 30.985029220581055]), (('fc1', 49), [-0.6823444962501526, 30.985029220581055]), (('fc1', 50), [-0.6823444962501526, 30.985029220581055]), (('fc1', 51), [-0.6823444962501526, 30.985029220581055]), (('fc1', 52), [-0.6823444962501526, 30.985029220581055]), (('fc1', 53), [-0.6823444962501526, 30.985029220581055]), (('fc1', 54), [-0.6823444962501526, 30.985029220581055]), (('fc1', 55), [-0.6823444962501526, 30.985029220581055]), (('fc1', 56), [-0.6823444962501526, 30.985029220581055]), (('fc1', 57), [-0.6823444962501526, 30.985029220581055]), (('fc1', 58), [-0.6823444962501526, 30.985029220581055]), (('fc1', 59), [-0.6823444962501526, 30.985029220581055]), (('fc1', 60), [-0.6823444962501526, 30.985029220581055]), (('fc1', 61), [-0.6823444962501526, 30.985029220581055]), (('fc1', 62), [-0.6823444962501526, 30.985029220581055]), (('fc1', 63), [-0.6823444962501526, 30.985029220581055]), (('fc1', 64), [-0.6823444962501526, 30.985029220581055]), (('fc1', 65), [-0.6823444962501526, 30.985029220581055]), (('fc1', 66), [-0.6823444962501526, 30.985029220581055]), (('fc1', 67), [-0.6823444962501526, 30.985029220581055]), (('fc1', 68), [-0.6823444962501526, 30.985029220581055]), (('fc1', 69), [-0.6823444962501526, 30.985029220581055]), (('fc1', 70), [-0.6823444962501526, 30.985029220581055]), (('fc1', 71), [-0.6823444962501526, 30.985029220581055]), (('fc1', 72), [-0.6823444962501526, 30.985029220581055]), (('fc1', 73), [-0.6823444962501526, 30.985029220581055]), (('fc1', 74), [-0.6823444962501526, 30.985029220581055]), (('fc1', 75), [-0.6823444962501526, 30.985029220581055]), (('fc1', 76), [-0.6823444962501526, 30.985029220581055]), (('fc1', 77), [-0.6823444962501526, 30.985029220581055]), (('fc1', 78), [-0.6823444962501526, 30.985029220581055]), (('fc1', 79), [-0.6823444962501526, 30.985029220581055]), (('fc1', 80), [-0.6823444962501526, 30.985029220581055]), (('fc1', 81), [-0.6823444962501526, 30.985029220581055]), (('fc1', 82), [-0.6823444962501526, 30.985029220581055]), (('fc1', 83), [-0.6823444962501526, 30.985029220581055]), (('fc1', 84), [-0.6823444962501526, 30.985029220581055]), (('fc1', 85), [-0.6823444962501526, 30.985029220581055]), (('fc1', 86), [-0.6823444962501526, 30.985029220581055]), (('fc1', 87), [-0.6823444962501526, 30.985029220581055]), (('fc1', 88), [-0.6823444962501526, 30.985029220581055]), (('fc1', 89), [-0.6823444962501526, 30.985029220581055]), (('fc1', 90), [-0.6823444962501526, 30.985029220581055]), (('fc1', 91), [-0.6823444962501526, 30.985029220581055]), (('fc1', 92), [-0.6823444962501526, 30.985029220581055]), (('fc1', 93), [-0.6823444962501526, 30.985029220581055]), (('fc1', 94), [-0.6823444962501526, 30.985029220581055]), (('fc1', 95), [-0.6823444962501526, 30.985029220581055]), (('fc1', 96), [-0.6823444962501526, 30.985029220581055]), (('fc1', 97), [-0.6823444962501526, 30.985029220581055]), (('fc1', 98), [-0.6823444962501526, 30.985029220581055]), (('fc1', 99), [-0.6823444962501526, 30.985029220581055]), (('fc1', 100), [-0.6823444962501526, 30.985029220581055]), (('fc1', 101), [-0.6823444962501526, 30.985029220581055]), (('fc1', 102), [-0.6823444962501526, 30.985029220581055]), (('fc1', 103), [-0.6823444962501526, 30.985029220581055]), (('fc1', 104), [-0.6823444962501526, 30.985029220581055]), (('fc1', 105), [-0.6823444962501526, 30.985029220581055]), (('fc1', 106), [-0.6823444962501526, 30.985029220581055]), (('fc1', 107), [-0.6823444962501526, 30.985029220581055]), (('fc1', 108), [-0.6823444962501526, 30.985029220581055]), (('fc1', 109), [-0.6823444962501526, 30.985029220581055]), (('fc1', 110), [-0.6823444962501526, 30.985029220581055]), (('fc1', 111), [-0.6823444962501526, 30.985029220581055]), (('fc1', 112), [-0.6823444962501526, 30.985029220581055]), (('fc1', 113), [-0.6823444962501526, 30.985029220581055]), (('fc1', 114), [-0.6823444962501526, 30.985029220581055]), (('fc1', 115), [-0.6823444962501526, 30.985029220581055]), (('fc1', 116), [-0.6823444962501526, 30.985029220581055]), (('fc1', 117), [-0.6823444962501526, 30.985029220581055]), (('fc1', 118), [-0.6823444962501526, 30.985029220581055]), (('fc1', 119), [-0.6823444962501526, 30.985029220581055]), (('fc2', 0), [-0.6823444962501526, 30.985029220581055]), (('fc2', 1), [-0.6823444962501526, 30.985029220581055]), (('fc2', 2), [-0.6823444962501526, 30.985029220581055]), (('fc2', 3), [-0.6823444962501526, 30.985029220581055]), (('fc2', 4), [-0.6823444962501526, 30.985029220581055]), (('fc2', 5), [-0.6823444962501526, 30.985029220581055]), (('fc2', 6), [-0.6823444962501526, 30.985029220581055]), (('fc2', 7), [-0.6823444962501526, 30.985029220581055]), (('fc2', 8), [-0.6823444962501526, 30.985029220581055]), (('fc2', 9), [-0.6823444962501526, 30.985029220581055]), (('fc2', 10), [-0.6823444962501526, 30.985029220581055]), (('fc2', 11), [-0.6823444962501526, 30.985029220581055]), (('fc2', 12), [-0.6823444962501526, 30.985029220581055]), (('fc2', 13), [-0.6823444962501526, 30.985029220581055]), (('fc2', 14), [-0.6823444962501526, 30.985029220581055]), (('fc2', 15), [-0.6823444962501526, 30.985029220581055]), (('fc2', 16), [-0.6823444962501526, 30.985029220581055]), (('fc2', 17), [-0.6823444962501526, 30.985029220581055]), (('fc2', 18), [-0.6823444962501526, 30.985029220581055]), (('fc2', 19), [-0.6823444962501526, 30.985029220581055]), (('fc2', 20), [-0.6823444962501526, 30.985029220581055]), (('fc2', 21), [-0.6823444962501526, 30.985029220581055]), (('fc2', 22), [-0.6823444962501526, 30.985029220581055]), (('fc2', 23), [-0.6823444962501526, 30.985029220581055]), (('fc2', 24), [-0.6823444962501526, 30.985029220581055]), (('fc2', 25), [-0.6823444962501526, 30.985029220581055]), (('fc2', 26), [-0.6823444962501526, 30.985029220581055]), (('fc2', 27), [-0.6823444962501526, 30.985029220581055]), (('fc2', 28), [-0.6823444962501526, 30.985029220581055]), (('fc2', 29), [-0.6823444962501526, 30.985029220581055]), (('fc2', 30), [-0.6823444962501526, 30.985029220581055]), (('fc2', 31), [-0.6823444962501526, 30.985029220581055]), (('fc2', 32), [-0.6823444962501526, 30.985029220581055]), (('fc2', 33), [-0.6823444962501526, 30.985029220581055]), (('fc2', 34), [-0.6823444962501526, 30.985029220581055]), (('fc2', 35), [-0.6823444962501526, 30.985029220581055]), (('fc2', 36), [-0.6823444962501526, 30.985029220581055]), (('fc2', 37), [-0.6823444962501526, 30.985029220581055]), (('fc2', 38), [-0.6823444962501526, 30.985029220581055]), (('fc2', 39), [-0.6823444962501526, 30.985029220581055]), (('fc2', 40), [-0.6823444962501526, 30.985029220581055]), (('fc2', 41), [-0.6823444962501526, 30.985029220581055]), (('fc2', 42), [-0.6823444962501526, 30.985029220581055]), (('fc2', 43), [-0.6823444962501526, 30.985029220581055]), (('fc2', 44), [-0.6823444962501526, 30.985029220581055]), (('fc2', 45), [-0.6823444962501526, 30.985029220581055]), (('fc2', 46), [-0.6823444962501526, 30.985029220581055]), (('fc2', 47), [-0.6823444962501526, 30.985029220581055]), (('fc2', 48), [-0.6823444962501526, 30.985029220581055]), (('fc2', 49), [-0.6823444962501526, 30.985029220581055]), (('fc2', 50), [-0.6823444962501526, 30.985029220581055]), (('fc2', 51), [-0.6823444962501526, 30.985029220581055]), (('fc2', 52), [-0.6823444962501526, 30.985029220581055]), (('fc2', 53), [-0.6823444962501526, 30.985029220581055]), (('fc2', 54), [-0.6823444962501526, 30.985029220581055]), (('fc2', 55), [-0.6823444962501526, 30.985029220581055]), (('fc2', 56), [-0.6823444962501526, 30.985029220581055]), (('fc2', 57), [-0.6823444962501526, 30.985029220581055]), (('fc2', 58), [-0.6823444962501526, 30.985029220581055]), (('fc2', 59), [-0.6823444962501526, 30.985029220581055]), (('fc2', 60), [-0.6823444962501526, 30.985029220581055]), (('fc2', 61), [-0.6823444962501526, 30.985029220581055]), (('fc2', 62), [-0.6823444962501526, 30.985029220581055]), (('fc2', 63), [-0.6823444962501526, 30.985029220581055]), (('fc2', 64), [-0.6823444962501526, 30.985029220581055]), (('fc2', 65), [-0.6823444962501526, 30.985029220581055]), (('fc2', 66), [-0.6823444962501526, 30.985029220581055]), (('fc2', 67), [-0.6823444962501526, 30.985029220581055]), (('fc2', 68), [-0.6823444962501526, 30.985029220581055]), (('fc2', 69), [-0.6823444962501526, 30.985029220581055]), (('fc2', 70), [-0.6823444962501526, 30.985029220581055]), (('fc2', 71), [-0.6823444962501526, 30.985029220581055]), (('fc2', 72), [-0.6823444962501526, 30.985029220581055]), (('fc2', 73), [-0.6823444962501526, 30.985029220581055]), (('fc2', 74), [-0.6823444962501526, 30.985029220581055]), (('fc2', 75), [-0.6823444962501526, 30.985029220581055]), (('fc2', 76), [-0.6823444962501526, 30.985029220581055]), (('fc2', 77), [-0.6823444962501526, 30.985029220581055]), (('fc2', 78), [-0.6823444962501526, 30.985029220581055]), (('fc2', 79), [-0.6823444962501526, 30.985029220581055]), (('fc2', 80), [-0.6823444962501526, 30.985029220581055]), (('fc2', 81), [-0.6823444962501526, 30.985029220581055]), (('fc2', 82), [-0.6823444962501526, 30.985029220581055]), (('fc2', 83), [-0.6823444962501526, 30.985029220581055]), (('logits', 0), [-0.6823444962501526, 30.985029220581055]), (('logits', 1), [-0.6823444962501526, 30.985029220581055]), (('logits', 2), [-0.6823444962501526, 30.985029220581055]), (('logits', 3), [-0.6823444962501526, 30.985029220581055]), (('logits', 4), [-0.6823444962501526, 30.985029220581055]), (('logits', 5), [-0.6823444962501526, 30.985029220581055]), (('logits', 6), [-0.6823444962501526, 30.985029220581055]), (('logits', 7), [-0.6823444962501526, 30.985029220581055]), (('logits', 8), [-0.6823444962501526, 30.985029220581055]), (('logits', 9), [-0.6823444962501526, 30.985029220581055])])\n"
          ]
        },
        {
          "output_type": "execute_result",
          "data": {
            "application/vnd.google.colaboratory.intrinsic+json": {
              "type": "string"
            },
            "text/plain": [
              "'Congratulation! You have passed the sanity check'"
            ]
          },
          "metadata": {},
          "execution_count": 14
        }
      ],
      "source": [
        "train_cov_dict = profile_DNN(model, train_loader)\n",
        "print(train_cov_dict)\n",
        "check_cov_list(train_cov_dict)"
      ]
    },
    {
      "cell_type": "markdown",
      "id": "04fc431d",
      "metadata": {
        "id": "04fc431d"
      },
      "source": [
        "Well Done! Let's now implement the NBC metric"
      ]
    },
    {
      "cell_type": "markdown",
      "id": "6e7d4e55",
      "metadata": {
        "id": "6e7d4e55"
      },
      "source": [
        "<font color='blue' size=4> Implement NBC</font>"
      ]
    },
    {
      "cell_type": "markdown",
      "id": "b90a5c2d",
      "metadata": {
        "id": "b90a5c2d"
      },
      "source": [
        "<font color='blue' size=3> Please complete the todo listed in the function shown below</font> <font color='red' size=3> (4 points)</font>"
      ]
    },
    {
      "cell_type": "code",
      "execution_count": null,
      "id": "1f17b3f7",
      "metadata": {
        "id": "1f17b3f7"
      },
      "outputs": [],
      "source": [
        "def compute_NBCov(net, dataloader, cov_dict):\n",
        "    \"\"\"\n",
        "    Compute the Neuron Boundary Coverage metric on a given data loader.\n",
        "    ---\n",
        "    Args\n",
        "        net: torch.nn.Module Deep learning model.\n",
        "        dataloader: torch.utils.data.DataLoader The pytorch dataloader.\n",
        "        cov_dict: a dict contains (layer_name, neuron_id) --> (neurons_min, neurons_max) mapping.\n",
        "    Returns:\n",
        "        result: the coverage result\n",
        "    \n",
        "    \"\"\"\n",
        "    net.eval()\n",
        "    coverage_recorder = collections.OrderedDict()\n",
        "    batch_num = len(dataloader)\n",
        "    for idx, (data, label) in enumerate(dataloader):\n",
        "        with torch.no_grad():\n",
        "            logits, out_list, name_list = net.feature_list(data)\n",
        "        if idx % 100 == 0:\n",
        "            print(\"* finish {}/{} proportion\".format(idx, batch_num))\n",
        "        \n",
        "        # Iterate through all output layers in the output list\n",
        "        for layer_id in range(len(out_list)):\n",
        "            # record the name of current layer\n",
        "            cur_layer = name_list[layer_id]\n",
        "            cur_neuron_num = 1\n",
        "            \n",
        "            '''\n",
        "            Please compute the number of neurons in the DNN and store the result in cur_neuron_num.\n",
        "            Compute neurons_max and neurons_min based on **out_list**\n",
        "            '''\n",
        "\n",
        "            # ======Below is TODO====== #\n",
        "            if len(out_list[layer_id].shape) == 4:\n",
        "              cur_neuron_num = out_list[layer_id].shape[1] * out_list[layer_id].shape[2] * out_list[layer_id].shape[3]\n",
        "            else:\n",
        "              cur_neuron_num = out_list[layer_id].shape[1]   \n",
        "\n",
        "            out_list[layer_id] = torch.flatten(out_list[layer_id],start_dim=1)\n",
        "            neurons_max = torch.max(out_list[layer_id][1])\n",
        "            neurons_min = torch.min(out_list[layer_id][1])\n",
        "            # ======Above is TODO====== #\n",
        "\n",
        "            # Compare the result in cov_dict and record neurons who has been covered.\n",
        "            for neuron_id in range(cur_neuron_num):\n",
        "                if (cur_layer, neuron_id) not in coverage_recorder:\n",
        "                    # Init the coverage_recorder\n",
        "                    # [(cur_layer, neuron_id)] = [0, 0] (LowerCornerNeuron, UpperCornerNeuron)\n",
        "                    coverage_recorder[(cur_layer, neuron_id)] = [0, 0] # LowerCornerNeuron, UpperCornerNeuron\n",
        "                \n",
        "                '''\n",
        "                Compare the output in neurons_min(neurons_max) and and cov_dict\n",
        "                If the neuron is covered in LowerCorner, set LowerCornerNeuron = 1\n",
        "                If the neuron is covered in UpperCorner, set UpperCornerNeuron = 1\n",
        "                Data sturcture used here: cov_dict, neurons_min, neurons_max, coverage_recorder\n",
        "                '''\n",
        "                \n",
        "                # ======Below is TODO====== #\n",
        "                if neurons_min <= cov_dict[(cur_layer, neuron_id)][0]:\n",
        "                  coverage_recorder[(cur_layer, neuron_id)][0] = 1\n",
        "                if neurons_max >=cov_dict[(cur_layer, neuron_id)][1]:\n",
        "                  coverage_recorder[(cur_layer, neuron_id)][1] = 1  \n",
        "                # ======Above is TODO====== #\n",
        "    \n",
        "    num_of_coverage_neuron = 0\n",
        "    \n",
        "    '''\n",
        "    Compute the number of neurons that are covered\n",
        "    Data sturcture used here: coverage_recorder, result\n",
        "    '''\n",
        "    \n",
        "    # ======Below is TODO====== #\n",
        "    print(coverage_recorder)\n",
        "    for value in coverage_recorder.values():\n",
        "      if value == [1,1]:\n",
        "        num_of_coverage_neuron += 1\n",
        "\n",
        "    result = num_of_coverage_neuron\n",
        "    # ======Above is TODO====== #\n",
        "    \n",
        "    return result"
      ]
    },
    {
      "cell_type": "code",
      "execution_count": null,
      "id": "0f1c4189",
      "metadata": {
        "colab": {
          "base_uri": "https://localhost:8080/"
        },
        "id": "0f1c4189",
        "outputId": "f5f20b99-c9ac-4a62-99a4-b9c4ce0fe5e6"
      },
      "outputs": [
        {
          "output_type": "stream",
          "name": "stdout",
          "text": [
            "* finish 0/157 proportion\n",
            "* finish 100/157 proportion\n",
            "OrderedDict([(('conv1', 0), [1, 0]), (('conv1', 1), [1, 0]), (('conv1', 2), [1, 0]), (('conv1', 3), [1, 0]), (('conv1', 4), [1, 0]), (('conv1', 5), [1, 0]), (('conv1', 6), [1, 0]), (('conv1', 7), [1, 0]), (('conv1', 8), [1, 0]), (('conv1', 9), [1, 0]), (('conv1', 10), [1, 0]), (('conv1', 11), [1, 0]), (('conv1', 12), [1, 0]), (('conv1', 13), [1, 0]), (('conv1', 14), [1, 0]), (('conv1', 15), [1, 0]), (('conv1', 16), [1, 0]), (('conv1', 17), [1, 0]), (('conv1', 18), [1, 0]), (('conv1', 19), [1, 0]), (('conv1', 20), [1, 0]), (('conv1', 21), [1, 0]), (('conv1', 22), [1, 0]), (('conv1', 23), [1, 0]), (('conv1', 24), [1, 0]), (('conv1', 25), [1, 0]), (('conv1', 26), [1, 0]), (('conv1', 27), [1, 0]), (('conv1', 28), [1, 0]), (('conv1', 29), [1, 0]), (('conv1', 30), [1, 0]), (('conv1', 31), [1, 0]), (('conv1', 32), [1, 0]), (('conv1', 33), [1, 0]), (('conv1', 34), [1, 0]), (('conv1', 35), [1, 0]), (('conv1', 36), [1, 0]), (('conv1', 37), [1, 0]), (('conv1', 38), [1, 0]), (('conv1', 39), [1, 0]), (('conv1', 40), [1, 0]), (('conv1', 41), [1, 0]), (('conv1', 42), [1, 0]), (('conv1', 43), [1, 0]), (('conv1', 44), [1, 0]), (('conv1', 45), [1, 0]), (('conv1', 46), [1, 0]), (('conv1', 47), [1, 0]), (('conv1', 48), [1, 0]), (('conv1', 49), [1, 0]), (('conv1', 50), [1, 0]), (('conv1', 51), [1, 0]), (('conv1', 52), [1, 0]), (('conv1', 53), [1, 0]), (('conv1', 54), [1, 0]), (('conv1', 55), [1, 0]), (('conv1', 56), [1, 0]), (('conv1', 57), [1, 0]), (('conv1', 58), [1, 0]), (('conv1', 59), [1, 0]), (('conv1', 60), [1, 0]), (('conv1', 61), [1, 0]), (('conv1', 62), [1, 0]), (('conv1', 63), [1, 0]), (('conv1', 64), [1, 0]), (('conv1', 65), [1, 0]), (('conv1', 66), [1, 0]), (('conv1', 67), [1, 0]), (('conv1', 68), [1, 0]), (('conv1', 69), [1, 0]), (('conv1', 70), [1, 0]), (('conv1', 71), [1, 0]), (('conv1', 72), [1, 0]), (('conv1', 73), [1, 0]), (('conv1', 74), [1, 0]), (('conv1', 75), [1, 0]), (('conv1', 76), [1, 0]), (('conv1', 77), [1, 0]), (('conv1', 78), [1, 0]), (('conv1', 79), [1, 0]), (('conv1', 80), [1, 0]), (('conv1', 81), [1, 0]), (('conv1', 82), [1, 0]), (('conv1', 83), [1, 0]), (('conv1', 84), [1, 0]), (('conv1', 85), [1, 0]), (('conv1', 86), [1, 0]), (('conv1', 87), [1, 0]), (('conv1', 88), [1, 0]), (('conv1', 89), [1, 0]), (('conv1', 90), [1, 0]), (('conv1', 91), [1, 0]), (('conv1', 92), [1, 0]), (('conv1', 93), [1, 0]), (('conv1', 94), [1, 0]), (('conv1', 95), [1, 0]), (('conv1', 96), [1, 0]), (('conv1', 97), [1, 0]), (('conv1', 98), [1, 0]), (('conv1', 99), [1, 0]), (('conv1', 100), [1, 0]), (('conv1', 101), [1, 0]), (('conv1', 102), [1, 0]), (('conv1', 103), [1, 0]), (('conv1', 104), [1, 0]), (('conv1', 105), [1, 0]), (('conv1', 106), [1, 0]), (('conv1', 107), [1, 0]), (('conv1', 108), [1, 0]), (('conv1', 109), [1, 0]), (('conv1', 110), [1, 0]), (('conv1', 111), [1, 0]), (('conv1', 112), [1, 0]), (('conv1', 113), [1, 0]), (('conv1', 114), [1, 0]), (('conv1', 115), [1, 0]), (('conv1', 116), [1, 0]), (('conv1', 117), [1, 0]), (('conv1', 118), [1, 0]), (('conv1', 119), [1, 0]), (('conv1', 120), [1, 0]), (('conv1', 121), [1, 0]), (('conv1', 122), [1, 0]), (('conv1', 123), [1, 0]), (('conv1', 124), [1, 0]), (('conv1', 125), [1, 0]), (('conv1', 126), [1, 0]), (('conv1', 127), [1, 0]), (('conv1', 128), [1, 0]), (('conv1', 129), [1, 0]), (('conv1', 130), [1, 0]), (('conv1', 131), [1, 0]), (('conv1', 132), [1, 0]), (('conv1', 133), [1, 0]), (('conv1', 134), [1, 0]), (('conv1', 135), [1, 0]), (('conv1', 136), [1, 0]), (('conv1', 137), [1, 0]), (('conv1', 138), [1, 0]), (('conv1', 139), [1, 0]), (('conv1', 140), [1, 0]), (('conv1', 141), [1, 0]), (('conv1', 142), [1, 0]), (('conv1', 143), [1, 0]), (('conv1', 144), [1, 0]), (('conv1', 145), [1, 0]), (('conv1', 146), [1, 0]), (('conv1', 147), [1, 0]), (('conv1', 148), [1, 0]), (('conv1', 149), [1, 0]), (('conv1', 150), [1, 0]), (('conv1', 151), [1, 0]), (('conv1', 152), [1, 0]), (('conv1', 153), [1, 0]), (('conv1', 154), [1, 0]), (('conv1', 155), [1, 0]), (('conv1', 156), [1, 0]), (('conv1', 157), [1, 0]), (('conv1', 158), [1, 0]), (('conv1', 159), [1, 0]), (('conv1', 160), [1, 0]), (('conv1', 161), [1, 0]), (('conv1', 162), [1, 0]), (('conv1', 163), [1, 0]), (('conv1', 164), [1, 0]), (('conv1', 165), [1, 0]), (('conv1', 166), [1, 0]), (('conv1', 167), [1, 0]), (('conv1', 168), [1, 0]), (('conv1', 169), [1, 0]), (('conv1', 170), [1, 0]), (('conv1', 171), [1, 0]), (('conv1', 172), [1, 0]), (('conv1', 173), [1, 0]), (('conv1', 174), [1, 0]), (('conv1', 175), [1, 0]), (('conv1', 176), [1, 0]), (('conv1', 177), [1, 0]), (('conv1', 178), [1, 0]), (('conv1', 179), [1, 0]), (('conv1', 180), [1, 0]), (('conv1', 181), [1, 0]), (('conv1', 182), [1, 0]), (('conv1', 183), [1, 0]), (('conv1', 184), [1, 0]), (('conv1', 185), [1, 0]), (('conv1', 186), [1, 0]), (('conv1', 187), [1, 0]), (('conv1', 188), [1, 0]), (('conv1', 189), [1, 0]), (('conv1', 190), [1, 0]), (('conv1', 191), [1, 0]), (('conv1', 192), [1, 0]), (('conv1', 193), [1, 0]), (('conv1', 194), [1, 0]), (('conv1', 195), [1, 0]), (('conv1', 196), [1, 0]), (('conv1', 197), [1, 0]), (('conv1', 198), [1, 0]), (('conv1', 199), [1, 0]), (('conv1', 200), [1, 0]), (('conv1', 201), [1, 0]), (('conv1', 202), [1, 0]), (('conv1', 203), [1, 0]), (('conv1', 204), [1, 0]), (('conv1', 205), [1, 0]), (('conv1', 206), [1, 0]), (('conv1', 207), [1, 0]), (('conv1', 208), [1, 0]), (('conv1', 209), [1, 0]), (('conv1', 210), [1, 0]), (('conv1', 211), [1, 0]), (('conv1', 212), [1, 0]), (('conv1', 213), [1, 0]), (('conv1', 214), [1, 0]), (('conv1', 215), [1, 0]), (('conv1', 216), [1, 0]), (('conv1', 217), [1, 0]), (('conv1', 218), [1, 0]), (('conv1', 219), [1, 0]), (('conv1', 220), [1, 0]), (('conv1', 221), [1, 0]), (('conv1', 222), [1, 0]), (('conv1', 223), [1, 0]), (('conv1', 224), [1, 0]), (('conv1', 225), [1, 0]), (('conv1', 226), [1, 0]), (('conv1', 227), [1, 0]), (('conv1', 228), [1, 0]), (('conv1', 229), [1, 0]), (('conv1', 230), [1, 0]), (('conv1', 231), [1, 0]), (('conv1', 232), [1, 0]), (('conv1', 233), [1, 0]), (('conv1', 234), [1, 0]), (('conv1', 235), [1, 0]), (('conv1', 236), [1, 0]), (('conv1', 237), [1, 0]), (('conv1', 238), [1, 0]), (('conv1', 239), [1, 0]), (('conv1', 240), [1, 0]), (('conv1', 241), [1, 0]), (('conv1', 242), [1, 0]), (('conv1', 243), [1, 0]), (('conv1', 244), [1, 0]), (('conv1', 245), [1, 0]), (('conv1', 246), [1, 0]), (('conv1', 247), [1, 0]), (('conv1', 248), [1, 0]), (('conv1', 249), [1, 0]), (('conv1', 250), [1, 0]), (('conv1', 251), [1, 0]), (('conv1', 252), [1, 0]), (('conv1', 253), [1, 0]), (('conv1', 254), [1, 0]), (('conv1', 255), [1, 0]), (('conv1', 256), [1, 0]), (('conv1', 257), [1, 0]), (('conv1', 258), [1, 0]), (('conv1', 259), [1, 0]), (('conv1', 260), [1, 0]), (('conv1', 261), [1, 0]), (('conv1', 262), [1, 0]), (('conv1', 263), [1, 0]), (('conv1', 264), [1, 0]), (('conv1', 265), [1, 0]), (('conv1', 266), [1, 0]), (('conv1', 267), [1, 0]), (('conv1', 268), [1, 0]), (('conv1', 269), [1, 0]), (('conv1', 270), [1, 0]), (('conv1', 271), [1, 0]), (('conv1', 272), [1, 0]), (('conv1', 273), [1, 0]), (('conv1', 274), [1, 0]), (('conv1', 275), [1, 0]), (('conv1', 276), [1, 0]), (('conv1', 277), [1, 0]), (('conv1', 278), [1, 0]), (('conv1', 279), [1, 0]), (('conv1', 280), [1, 0]), (('conv1', 281), [1, 0]), (('conv1', 282), [1, 0]), (('conv1', 283), [1, 0]), (('conv1', 284), [1, 0]), (('conv1', 285), [1, 0]), (('conv1', 286), [1, 0]), (('conv1', 287), [1, 0]), (('conv1', 288), [1, 0]), (('conv1', 289), [1, 0]), (('conv1', 290), [1, 0]), (('conv1', 291), [1, 0]), (('conv1', 292), [1, 0]), (('conv1', 293), [1, 0]), (('conv1', 294), [1, 0]), (('conv1', 295), [1, 0]), (('conv1', 296), [1, 0]), (('conv1', 297), [1, 0]), (('conv1', 298), [1, 0]), (('conv1', 299), [1, 0]), (('conv1', 300), [1, 0]), (('conv1', 301), [1, 0]), (('conv1', 302), [1, 0]), (('conv1', 303), [1, 0]), (('conv1', 304), [1, 0]), (('conv1', 305), [1, 0]), (('conv1', 306), [1, 0]), (('conv1', 307), [1, 0]), (('conv1', 308), [1, 0]), (('conv1', 309), [1, 0]), (('conv1', 310), [1, 0]), (('conv1', 311), [1, 0]), (('conv1', 312), [1, 0]), (('conv1', 313), [1, 0]), (('conv1', 314), [1, 0]), (('conv1', 315), [1, 0]), (('conv1', 316), [1, 0]), (('conv1', 317), [1, 0]), (('conv1', 318), [1, 0]), (('conv1', 319), [1, 0]), (('conv1', 320), [1, 0]), (('conv1', 321), [1, 0]), (('conv1', 322), [1, 0]), (('conv1', 323), [1, 0]), (('conv1', 324), [1, 0]), (('conv1', 325), [1, 0]), (('conv1', 326), [1, 0]), (('conv1', 327), [1, 0]), (('conv1', 328), [1, 0]), (('conv1', 329), [1, 0]), (('conv1', 330), [1, 0]), (('conv1', 331), [1, 0]), (('conv1', 332), [1, 0]), (('conv1', 333), [1, 0]), (('conv1', 334), [1, 0]), (('conv1', 335), [1, 0]), (('conv1', 336), [1, 0]), (('conv1', 337), [1, 0]), (('conv1', 338), [1, 0]), (('conv1', 339), [1, 0]), (('conv1', 340), [1, 0]), (('conv1', 341), [1, 0]), (('conv1', 342), [1, 0]), (('conv1', 343), [1, 0]), (('conv1', 344), [1, 0]), (('conv1', 345), [1, 0]), (('conv1', 346), [1, 0]), (('conv1', 347), [1, 0]), (('conv1', 348), [1, 0]), (('conv1', 349), [1, 0]), (('conv1', 350), [1, 0]), (('conv1', 351), [1, 0]), (('conv1', 352), [1, 0]), (('conv1', 353), [1, 0]), (('conv1', 354), [1, 0]), (('conv1', 355), [1, 0]), (('conv1', 356), [1, 0]), (('conv1', 357), [1, 0]), (('conv1', 358), [1, 0]), (('conv1', 359), [1, 0]), (('conv1', 360), [1, 0]), (('conv1', 361), [1, 0]), (('conv1', 362), [1, 0]), (('conv1', 363), [1, 0]), (('conv1', 364), [1, 0]), (('conv1', 365), [1, 0]), (('conv1', 366), [1, 0]), (('conv1', 367), [1, 0]), (('conv1', 368), [1, 0]), (('conv1', 369), [1, 0]), (('conv1', 370), [1, 0]), (('conv1', 371), [1, 0]), (('conv1', 372), [1, 0]), (('conv1', 373), [1, 0]), (('conv1', 374), [1, 0]), (('conv1', 375), [1, 0]), (('conv1', 376), [1, 0]), (('conv1', 377), [1, 0]), (('conv1', 378), [1, 0]), (('conv1', 379), [1, 0]), (('conv1', 380), [1, 0]), (('conv1', 381), [1, 0]), (('conv1', 382), [1, 0]), (('conv1', 383), [1, 0]), (('conv1', 384), [1, 0]), (('conv1', 385), [1, 0]), (('conv1', 386), [1, 0]), (('conv1', 387), [1, 0]), (('conv1', 388), [1, 0]), (('conv1', 389), [1, 0]), (('conv1', 390), [1, 0]), (('conv1', 391), [1, 0]), (('conv1', 392), [1, 0]), (('conv1', 393), [1, 0]), (('conv1', 394), [1, 0]), (('conv1', 395), [1, 0]), (('conv1', 396), [1, 0]), (('conv1', 397), [1, 0]), (('conv1', 398), [1, 0]), (('conv1', 399), [1, 0]), (('conv1', 400), [1, 0]), (('conv1', 401), [1, 0]), (('conv1', 402), [1, 0]), (('conv1', 403), [1, 0]), (('conv1', 404), [1, 0]), (('conv1', 405), [1, 0]), (('conv1', 406), [1, 0]), (('conv1', 407), [1, 0]), (('conv1', 408), [1, 0]), (('conv1', 409), [1, 0]), (('conv1', 410), [1, 0]), (('conv1', 411), [1, 0]), (('conv1', 412), [1, 0]), (('conv1', 413), [1, 0]), (('conv1', 414), [1, 0]), (('conv1', 415), [1, 0]), (('conv1', 416), [1, 0]), (('conv1', 417), [1, 0]), (('conv1', 418), [1, 0]), (('conv1', 419), [1, 0]), (('conv1', 420), [1, 0]), (('conv1', 421), [1, 0]), (('conv1', 422), [1, 0]), (('conv1', 423), [1, 0]), (('conv1', 424), [1, 0]), (('conv1', 425), [1, 0]), (('conv1', 426), [1, 0]), (('conv1', 427), [1, 0]), (('conv1', 428), [1, 0]), (('conv1', 429), [1, 0]), (('conv1', 430), [1, 0]), (('conv1', 431), [1, 0]), (('conv1', 432), [1, 0]), (('conv1', 433), [1, 0]), (('conv1', 434), [1, 0]), (('conv1', 435), [1, 0]), (('conv1', 436), [1, 0]), (('conv1', 437), [1, 0]), (('conv1', 438), [1, 0]), (('conv1', 439), [1, 0]), (('conv1', 440), [1, 0]), (('conv1', 441), [1, 0]), (('conv1', 442), [1, 0]), (('conv1', 443), [1, 0]), (('conv1', 444), [1, 0]), (('conv1', 445), [1, 0]), (('conv1', 446), [1, 0]), (('conv1', 447), [1, 0]), (('conv1', 448), [1, 0]), (('conv1', 449), [1, 0]), (('conv1', 450), [1, 0]), (('conv1', 451), [1, 0]), (('conv1', 452), [1, 0]), (('conv1', 453), [1, 0]), (('conv1', 454), [1, 0]), (('conv1', 455), [1, 0]), (('conv1', 456), [1, 0]), (('conv1', 457), [1, 0]), (('conv1', 458), [1, 0]), (('conv1', 459), [1, 0]), (('conv1', 460), [1, 0]), (('conv1', 461), [1, 0]), (('conv1', 462), [1, 0]), (('conv1', 463), [1, 0]), (('conv1', 464), [1, 0]), (('conv1', 465), [1, 0]), (('conv1', 466), [1, 0]), (('conv1', 467), [1, 0]), (('conv1', 468), [1, 0]), (('conv1', 469), [1, 0]), (('conv1', 470), [1, 0]), (('conv1', 471), [1, 0]), (('conv1', 472), [1, 0]), (('conv1', 473), [1, 0]), (('conv1', 474), [1, 0]), (('conv1', 475), [1, 0]), (('conv1', 476), [1, 0]), (('conv1', 477), [1, 0]), (('conv1', 478), [1, 0]), (('conv1', 479), [1, 0]), (('conv1', 480), [1, 0]), (('conv1', 481), [1, 0]), (('conv1', 482), [1, 0]), (('conv1', 483), [1, 0]), (('conv1', 484), [1, 0]), (('conv1', 485), [1, 0]), (('conv1', 486), [1, 0]), (('conv1', 487), [1, 0]), (('conv1', 488), [1, 0]), (('conv1', 489), [1, 0]), (('conv1', 490), [1, 0]), (('conv1', 491), [1, 0]), (('conv1', 492), [1, 0]), (('conv1', 493), [1, 0]), (('conv1', 494), [1, 0]), (('conv1', 495), [1, 0]), (('conv1', 496), [1, 0]), (('conv1', 497), [1, 0]), (('conv1', 498), [1, 0]), (('conv1', 499), [1, 0]), (('conv1', 500), [1, 0]), (('conv1', 501), [1, 0]), (('conv1', 502), [1, 0]), (('conv1', 503), [1, 0]), (('conv1', 504), [1, 0]), (('conv1', 505), [1, 0]), (('conv1', 506), [1, 0]), (('conv1', 507), [1, 0]), (('conv1', 508), [1, 0]), (('conv1', 509), [1, 0]), (('conv1', 510), [1, 0]), (('conv1', 511), [1, 0]), (('conv1', 512), [1, 0]), (('conv1', 513), [1, 0]), (('conv1', 514), [1, 0]), (('conv1', 515), [1, 0]), (('conv1', 516), [1, 0]), (('conv1', 517), [1, 0]), (('conv1', 518), [1, 0]), (('conv1', 519), [1, 0]), (('conv1', 520), [1, 0]), (('conv1', 521), [1, 0]), (('conv1', 522), [1, 0]), (('conv1', 523), [1, 0]), (('conv1', 524), [1, 0]), (('conv1', 525), [1, 0]), (('conv1', 526), [1, 0]), (('conv1', 527), [1, 0]), (('conv1', 528), [1, 0]), (('conv1', 529), [1, 0]), (('conv1', 530), [1, 0]), (('conv1', 531), [1, 0]), (('conv1', 532), [1, 0]), (('conv1', 533), [1, 0]), (('conv1', 534), [1, 0]), (('conv1', 535), [1, 0]), (('conv1', 536), [1, 0]), (('conv1', 537), [1, 0]), (('conv1', 538), [1, 0]), (('conv1', 539), [1, 0]), (('conv1', 540), [1, 0]), (('conv1', 541), [1, 0]), (('conv1', 542), [1, 0]), (('conv1', 543), [1, 0]), (('conv1', 544), [1, 0]), (('conv1', 545), [1, 0]), (('conv1', 546), [1, 0]), (('conv1', 547), [1, 0]), (('conv1', 548), [1, 0]), (('conv1', 549), [1, 0]), (('conv1', 550), [1, 0]), (('conv1', 551), [1, 0]), (('conv1', 552), [1, 0]), (('conv1', 553), [1, 0]), (('conv1', 554), [1, 0]), (('conv1', 555), [1, 0]), (('conv1', 556), [1, 0]), (('conv1', 557), [1, 0]), (('conv1', 558), [1, 0]), (('conv1', 559), [1, 0]), (('conv1', 560), [1, 0]), (('conv1', 561), [1, 0]), (('conv1', 562), [1, 0]), (('conv1', 563), [1, 0]), (('conv1', 564), [1, 0]), (('conv1', 565), [1, 0]), (('conv1', 566), [1, 0]), (('conv1', 567), [1, 0]), (('conv1', 568), [1, 0]), (('conv1', 569), [1, 0]), (('conv1', 570), [1, 0]), (('conv1', 571), [1, 0]), (('conv1', 572), [1, 0]), (('conv1', 573), [1, 0]), (('conv1', 574), [1, 0]), (('conv1', 575), [1, 0]), (('conv1', 576), [1, 0]), (('conv1', 577), [1, 0]), (('conv1', 578), [1, 0]), (('conv1', 579), [1, 0]), (('conv1', 580), [1, 0]), (('conv1', 581), [1, 0]), (('conv1', 582), [1, 0]), (('conv1', 583), [1, 0]), (('conv1', 584), [1, 0]), (('conv1', 585), [1, 0]), (('conv1', 586), [1, 0]), (('conv1', 587), [1, 0]), (('conv1', 588), [1, 0]), (('conv1', 589), [1, 0]), (('conv1', 590), [1, 0]), (('conv1', 591), [1, 0]), (('conv1', 592), [1, 0]), (('conv1', 593), [1, 0]), (('conv1', 594), [1, 0]), (('conv1', 595), [1, 0]), (('conv1', 596), [1, 0]), (('conv1', 597), [1, 0]), (('conv1', 598), [1, 0]), (('conv1', 599), [1, 0]), (('conv1', 600), [1, 0]), (('conv1', 601), [1, 0]), (('conv1', 602), [1, 0]), (('conv1', 603), [1, 0]), (('conv1', 604), [1, 0]), (('conv1', 605), [1, 0]), (('conv1', 606), [1, 0]), (('conv1', 607), [1, 0]), (('conv1', 608), [1, 0]), (('conv1', 609), [1, 0]), (('conv1', 610), [1, 0]), (('conv1', 611), [1, 0]), (('conv1', 612), [1, 0]), (('conv1', 613), [1, 0]), (('conv1', 614), [1, 0]), (('conv1', 615), [1, 0]), (('conv1', 616), [1, 0]), (('conv1', 617), [1, 0]), (('conv1', 618), [1, 0]), (('conv1', 619), [1, 0]), (('conv1', 620), [1, 0]), (('conv1', 621), [1, 0]), (('conv1', 622), [1, 0]), (('conv1', 623), [1, 0]), (('conv1', 624), [1, 0]), (('conv1', 625), [1, 0]), (('conv1', 626), [1, 0]), (('conv1', 627), [1, 0]), (('conv1', 628), [1, 0]), (('conv1', 629), [1, 0]), (('conv1', 630), [1, 0]), (('conv1', 631), [1, 0]), (('conv1', 632), [1, 0]), (('conv1', 633), [1, 0]), (('conv1', 634), [1, 0]), (('conv1', 635), [1, 0]), (('conv1', 636), [1, 0]), (('conv1', 637), [1, 0]), (('conv1', 638), [1, 0]), (('conv1', 639), [1, 0]), (('conv1', 640), [1, 0]), (('conv1', 641), [1, 0]), (('conv1', 642), [1, 0]), (('conv1', 643), [1, 0]), (('conv1', 644), [1, 0]), (('conv1', 645), [1, 0]), (('conv1', 646), [1, 0]), (('conv1', 647), [1, 0]), (('conv1', 648), [1, 0]), (('conv1', 649), [1, 0]), (('conv1', 650), [1, 0]), (('conv1', 651), [1, 0]), (('conv1', 652), [1, 0]), (('conv1', 653), [1, 0]), (('conv1', 654), [1, 0]), (('conv1', 655), [1, 0]), (('conv1', 656), [1, 0]), (('conv1', 657), [1, 0]), (('conv1', 658), [1, 0]), (('conv1', 659), [1, 0]), (('conv1', 660), [1, 0]), (('conv1', 661), [1, 0]), (('conv1', 662), [1, 0]), (('conv1', 663), [1, 0]), (('conv1', 664), [1, 0]), (('conv1', 665), [1, 0]), (('conv1', 666), [1, 0]), (('conv1', 667), [1, 0]), (('conv1', 668), [1, 0]), (('conv1', 669), [1, 0]), (('conv1', 670), [1, 0]), (('conv1', 671), [1, 0]), (('conv1', 672), [1, 0]), (('conv1', 673), [1, 0]), (('conv1', 674), [1, 0]), (('conv1', 675), [1, 0]), (('conv1', 676), [1, 0]), (('conv1', 677), [1, 0]), (('conv1', 678), [1, 0]), (('conv1', 679), [1, 0]), (('conv1', 680), [1, 0]), (('conv1', 681), [1, 0]), (('conv1', 682), [1, 0]), (('conv1', 683), [1, 0]), (('conv1', 684), [1, 0]), (('conv1', 685), [1, 0]), (('conv1', 686), [1, 0]), (('conv1', 687), [1, 0]), (('conv1', 688), [1, 0]), (('conv1', 689), [1, 0]), (('conv1', 690), [1, 0]), (('conv1', 691), [1, 0]), (('conv1', 692), [1, 0]), (('conv1', 693), [1, 0]), (('conv1', 694), [1, 0]), (('conv1', 695), [1, 0]), (('conv1', 696), [1, 0]), (('conv1', 697), [1, 0]), (('conv1', 698), [1, 0]), (('conv1', 699), [1, 0]), (('conv1', 700), [1, 0]), (('conv1', 701), [1, 0]), (('conv1', 702), [1, 0]), (('conv1', 703), [1, 0]), (('conv1', 704), [1, 0]), (('conv1', 705), [1, 0]), (('conv1', 706), [1, 0]), (('conv1', 707), [1, 0]), (('conv1', 708), [1, 0]), (('conv1', 709), [1, 0]), (('conv1', 710), [1, 0]), (('conv1', 711), [1, 0]), (('conv1', 712), [1, 0]), (('conv1', 713), [1, 0]), (('conv1', 714), [1, 0]), (('conv1', 715), [1, 0]), (('conv1', 716), [1, 0]), (('conv1', 717), [1, 0]), (('conv1', 718), [1, 0]), (('conv1', 719), [1, 0]), (('conv1', 720), [1, 0]), (('conv1', 721), [1, 0]), (('conv1', 722), [1, 0]), (('conv1', 723), [1, 0]), (('conv1', 724), [1, 0]), (('conv1', 725), [1, 0]), (('conv1', 726), [1, 0]), (('conv1', 727), [1, 0]), (('conv1', 728), [1, 0]), (('conv1', 729), [1, 0]), (('conv1', 730), [1, 0]), (('conv1', 731), [1, 0]), (('conv1', 732), [1, 0]), (('conv1', 733), [1, 0]), (('conv1', 734), [1, 0]), (('conv1', 735), [1, 0]), (('conv1', 736), [1, 0]), (('conv1', 737), [1, 0]), (('conv1', 738), [1, 0]), (('conv1', 739), [1, 0]), (('conv1', 740), [1, 0]), (('conv1', 741), [1, 0]), (('conv1', 742), [1, 0]), (('conv1', 743), [1, 0]), (('conv1', 744), [1, 0]), (('conv1', 745), [1, 0]), (('conv1', 746), [1, 0]), (('conv1', 747), [1, 0]), (('conv1', 748), [1, 0]), (('conv1', 749), [1, 0]), (('conv1', 750), [1, 0]), (('conv1', 751), [1, 0]), (('conv1', 752), [1, 0]), (('conv1', 753), [1, 0]), (('conv1', 754), [1, 0]), (('conv1', 755), [1, 0]), (('conv1', 756), [1, 0]), (('conv1', 757), [1, 0]), (('conv1', 758), [1, 0]), (('conv1', 759), [1, 0]), (('conv1', 760), [1, 0]), (('conv1', 761), [1, 0]), (('conv1', 762), [1, 0]), (('conv1', 763), [1, 0]), (('conv1', 764), [1, 0]), (('conv1', 765), [1, 0]), (('conv1', 766), [1, 0]), (('conv1', 767), [1, 0]), (('conv1', 768), [1, 0]), (('conv1', 769), [1, 0]), (('conv1', 770), [1, 0]), (('conv1', 771), [1, 0]), (('conv1', 772), [1, 0]), (('conv1', 773), [1, 0]), (('conv1', 774), [1, 0]), (('conv1', 775), [1, 0]), (('conv1', 776), [1, 0]), (('conv1', 777), [1, 0]), (('conv1', 778), [1, 0]), (('conv1', 779), [1, 0]), (('conv1', 780), [1, 0]), (('conv1', 781), [1, 0]), (('conv1', 782), [1, 0]), (('conv1', 783), [1, 0]), (('conv1', 784), [1, 0]), (('conv1', 785), [1, 0]), (('conv1', 786), [1, 0]), (('conv1', 787), [1, 0]), (('conv1', 788), [1, 0]), (('conv1', 789), [1, 0]), (('conv1', 790), [1, 0]), (('conv1', 791), [1, 0]), (('conv1', 792), [1, 0]), (('conv1', 793), [1, 0]), (('conv1', 794), [1, 0]), (('conv1', 795), [1, 0]), (('conv1', 796), [1, 0]), (('conv1', 797), [1, 0]), (('conv1', 798), [1, 0]), (('conv1', 799), [1, 0]), (('conv1', 800), [1, 0]), (('conv1', 801), [1, 0]), (('conv1', 802), [1, 0]), (('conv1', 803), [1, 0]), (('conv1', 804), [1, 0]), (('conv1', 805), [1, 0]), (('conv1', 806), [1, 0]), (('conv1', 807), [1, 0]), (('conv1', 808), [1, 0]), (('conv1', 809), [1, 0]), (('conv1', 810), [1, 0]), (('conv1', 811), [1, 0]), (('conv1', 812), [1, 0]), (('conv1', 813), [1, 0]), (('conv1', 814), [1, 0]), (('conv1', 815), [1, 0]), (('conv1', 816), [1, 0]), (('conv1', 817), [1, 0]), (('conv1', 818), [1, 0]), (('conv1', 819), [1, 0]), (('conv1', 820), [1, 0]), (('conv1', 821), [1, 0]), (('conv1', 822), [1, 0]), (('conv1', 823), [1, 0]), (('conv1', 824), [1, 0]), (('conv1', 825), [1, 0]), (('conv1', 826), [1, 0]), (('conv1', 827), [1, 0]), (('conv1', 828), [1, 0]), (('conv1', 829), [1, 0]), (('conv1', 830), [1, 0]), (('conv1', 831), [1, 0]), (('conv1', 832), [1, 0]), (('conv1', 833), [1, 0]), (('conv1', 834), [1, 0]), (('conv1', 835), [1, 0]), (('conv1', 836), [1, 0]), (('conv1', 837), [1, 0]), (('conv1', 838), [1, 0]), (('conv1', 839), [1, 0]), (('conv1', 840), [1, 0]), (('conv1', 841), [1, 0]), (('conv1', 842), [1, 0]), (('conv1', 843), [1, 0]), (('conv1', 844), [1, 0]), (('conv1', 845), [1, 0]), (('conv1', 846), [1, 0]), (('conv1', 847), [1, 0]), (('conv1', 848), [1, 0]), (('conv1', 849), [1, 0]), (('conv1', 850), [1, 0]), (('conv1', 851), [1, 0]), (('conv1', 852), [1, 0]), (('conv1', 853), [1, 0]), (('conv1', 854), [1, 0]), (('conv1', 855), [1, 0]), (('conv1', 856), [1, 0]), (('conv1', 857), [1, 0]), (('conv1', 858), [1, 0]), (('conv1', 859), [1, 0]), (('conv1', 860), [1, 0]), (('conv1', 861), [1, 0]), (('conv1', 862), [1, 0]), (('conv1', 863), [1, 0]), (('conv1', 864), [1, 0]), (('conv1', 865), [1, 0]), (('conv1', 866), [1, 0]), (('conv1', 867), [1, 0]), (('conv1', 868), [1, 0]), (('conv1', 869), [1, 0]), (('conv1', 870), [1, 0]), (('conv1', 871), [1, 0]), (('conv1', 872), [1, 0]), (('conv1', 873), [1, 0]), (('conv1', 874), [1, 0]), (('conv1', 875), [1, 0]), (('conv1', 876), [1, 0]), (('conv1', 877), [1, 0]), (('conv1', 878), [1, 0]), (('conv1', 879), [1, 0]), (('conv1', 880), [1, 0]), (('conv1', 881), [1, 0]), (('conv1', 882), [1, 0]), (('conv1', 883), [1, 0]), (('conv1', 884), [1, 0]), (('conv1', 885), [1, 0]), (('conv1', 886), [1, 0]), (('conv1', 887), [1, 0]), (('conv1', 888), [1, 0]), (('conv1', 889), [1, 0]), (('conv1', 890), [1, 0]), (('conv1', 891), [1, 0]), (('conv1', 892), [1, 0]), (('conv1', 893), [1, 0]), (('conv1', 894), [1, 0]), (('conv1', 895), [1, 0]), (('conv1', 896), [1, 0]), (('conv1', 897), [1, 0]), (('conv1', 898), [1, 0]), (('conv1', 899), [1, 0]), (('conv1', 900), [1, 0]), (('conv1', 901), [1, 0]), (('conv1', 902), [1, 0]), (('conv1', 903), [1, 0]), (('conv1', 904), [1, 0]), (('conv1', 905), [1, 0]), (('conv1', 906), [1, 0]), (('conv1', 907), [1, 0]), (('conv1', 908), [1, 0]), (('conv1', 909), [1, 0]), (('conv1', 910), [1, 0]), (('conv1', 911), [1, 0]), (('conv1', 912), [1, 0]), (('conv1', 913), [1, 0]), (('conv1', 914), [1, 0]), (('conv1', 915), [1, 0]), (('conv1', 916), [1, 0]), (('conv1', 917), [1, 0]), (('conv1', 918), [1, 0]), (('conv1', 919), [1, 0]), (('conv1', 920), [1, 0]), (('conv1', 921), [1, 0]), (('conv1', 922), [1, 0]), (('conv1', 923), [1, 0]), (('conv1', 924), [1, 0]), (('conv1', 925), [1, 0]), (('conv1', 926), [1, 0]), (('conv1', 927), [1, 0]), (('conv1', 928), [1, 0]), (('conv1', 929), [1, 0]), (('conv1', 930), [1, 0]), (('conv1', 931), [1, 0]), (('conv1', 932), [1, 0]), (('conv1', 933), [1, 0]), (('conv1', 934), [1, 0]), (('conv1', 935), [1, 0]), (('conv1', 936), [1, 0]), (('conv1', 937), [1, 0]), (('conv1', 938), [1, 0]), (('conv1', 939), [1, 0]), (('conv1', 940), [1, 0]), (('conv1', 941), [1, 0]), (('conv1', 942), [1, 0]), (('conv1', 943), [1, 0]), (('conv1', 944), [1, 0]), (('conv1', 945), [1, 0]), (('conv1', 946), [1, 0]), (('conv1', 947), [1, 0]), (('conv1', 948), [1, 0]), (('conv1', 949), [1, 0]), (('conv1', 950), [1, 0]), (('conv1', 951), [1, 0]), (('conv1', 952), [1, 0]), (('conv1', 953), [1, 0]), (('conv1', 954), [1, 0]), (('conv1', 955), [1, 0]), (('conv1', 956), [1, 0]), (('conv1', 957), [1, 0]), (('conv1', 958), [1, 0]), (('conv1', 959), [1, 0]), (('conv1', 960), [1, 0]), (('conv1', 961), [1, 0]), (('conv1', 962), [1, 0]), (('conv1', 963), [1, 0]), (('conv1', 964), [1, 0]), (('conv1', 965), [1, 0]), (('conv1', 966), [1, 0]), (('conv1', 967), [1, 0]), (('conv1', 968), [1, 0]), (('conv1', 969), [1, 0]), (('conv1', 970), [1, 0]), (('conv1', 971), [1, 0]), (('conv1', 972), [1, 0]), (('conv1', 973), [1, 0]), (('conv1', 974), [1, 0]), (('conv1', 975), [1, 0]), (('conv1', 976), [1, 0]), (('conv1', 977), [1, 0]), (('conv1', 978), [1, 0]), (('conv1', 979), [1, 0]), (('conv1', 980), [1, 0]), (('conv1', 981), [1, 0]), (('conv1', 982), [1, 0]), (('conv1', 983), [1, 0]), (('conv1', 984), [1, 0]), (('conv1', 985), [1, 0]), (('conv1', 986), [1, 0]), (('conv1', 987), [1, 0]), (('conv1', 988), [1, 0]), (('conv1', 989), [1, 0]), (('conv1', 990), [1, 0]), (('conv1', 991), [1, 0]), (('conv1', 992), [1, 0]), (('conv1', 993), [1, 0]), (('conv1', 994), [1, 0]), (('conv1', 995), [1, 0]), (('conv1', 996), [1, 0]), (('conv1', 997), [1, 0]), (('conv1', 998), [1, 0]), (('conv1', 999), [1, 0]), (('conv1', 1000), [1, 0]), (('conv1', 1001), [1, 0]), (('conv1', 1002), [1, 0]), (('conv1', 1003), [1, 0]), (('conv1', 1004), [1, 0]), (('conv1', 1005), [1, 0]), (('conv1', 1006), [1, 0]), (('conv1', 1007), [1, 0]), (('conv1', 1008), [1, 0]), (('conv1', 1009), [1, 0]), (('conv1', 1010), [1, 0]), (('conv1', 1011), [1, 0]), (('conv1', 1012), [1, 0]), (('conv1', 1013), [1, 0]), (('conv1', 1014), [1, 0]), (('conv1', 1015), [1, 0]), (('conv1', 1016), [1, 0]), (('conv1', 1017), [1, 0]), (('conv1', 1018), [1, 0]), (('conv1', 1019), [1, 0]), (('conv1', 1020), [1, 0]), (('conv1', 1021), [1, 0]), (('conv1', 1022), [1, 0]), (('conv1', 1023), [1, 0]), (('conv1', 1024), [1, 0]), (('conv1', 1025), [1, 0]), (('conv1', 1026), [1, 0]), (('conv1', 1027), [1, 0]), (('conv1', 1028), [1, 0]), (('conv1', 1029), [1, 0]), (('conv1', 1030), [1, 0]), (('conv1', 1031), [1, 0]), (('conv1', 1032), [1, 0]), (('conv1', 1033), [1, 0]), (('conv1', 1034), [1, 0]), (('conv1', 1035), [1, 0]), (('conv1', 1036), [1, 0]), (('conv1', 1037), [1, 0]), (('conv1', 1038), [1, 0]), (('conv1', 1039), [1, 0]), (('conv1', 1040), [1, 0]), (('conv1', 1041), [1, 0]), (('conv1', 1042), [1, 0]), (('conv1', 1043), [1, 0]), (('conv1', 1044), [1, 0]), (('conv1', 1045), [1, 0]), (('conv1', 1046), [1, 0]), (('conv1', 1047), [1, 0]), (('conv1', 1048), [1, 0]), (('conv1', 1049), [1, 0]), (('conv1', 1050), [1, 0]), (('conv1', 1051), [1, 0]), (('conv1', 1052), [1, 0]), (('conv1', 1053), [1, 0]), (('conv1', 1054), [1, 0]), (('conv1', 1055), [1, 0]), (('conv1', 1056), [1, 0]), (('conv1', 1057), [1, 0]), (('conv1', 1058), [1, 0]), (('conv1', 1059), [1, 0]), (('conv1', 1060), [1, 0]), (('conv1', 1061), [1, 0]), (('conv1', 1062), [1, 0]), (('conv1', 1063), [1, 0]), (('conv1', 1064), [1, 0]), (('conv1', 1065), [1, 0]), (('conv1', 1066), [1, 0]), (('conv1', 1067), [1, 0]), (('conv1', 1068), [1, 0]), (('conv1', 1069), [1, 0]), (('conv1', 1070), [1, 0]), (('conv1', 1071), [1, 0]), (('conv1', 1072), [1, 0]), (('conv1', 1073), [1, 0]), (('conv1', 1074), [1, 0]), (('conv1', 1075), [1, 0]), (('conv1', 1076), [1, 0]), (('conv1', 1077), [1, 0]), (('conv1', 1078), [1, 0]), (('conv1', 1079), [1, 0]), (('conv1', 1080), [1, 0]), (('conv1', 1081), [1, 0]), (('conv1', 1082), [1, 0]), (('conv1', 1083), [1, 0]), (('conv1', 1084), [1, 0]), (('conv1', 1085), [1, 0]), (('conv1', 1086), [1, 0]), (('conv1', 1087), [1, 0]), (('conv1', 1088), [1, 0]), (('conv1', 1089), [1, 0]), (('conv1', 1090), [1, 0]), (('conv1', 1091), [1, 0]), (('conv1', 1092), [1, 0]), (('conv1', 1093), [1, 0]), (('conv1', 1094), [1, 0]), (('conv1', 1095), [1, 0]), (('conv1', 1096), [1, 0]), (('conv1', 1097), [1, 0]), (('conv1', 1098), [1, 0]), (('conv1', 1099), [1, 0]), (('conv1', 1100), [1, 0]), (('conv1', 1101), [1, 0]), (('conv1', 1102), [1, 0]), (('conv1', 1103), [1, 0]), (('conv1', 1104), [1, 0]), (('conv1', 1105), [1, 0]), (('conv1', 1106), [1, 0]), (('conv1', 1107), [1, 0]), (('conv1', 1108), [1, 0]), (('conv1', 1109), [1, 0]), (('conv1', 1110), [1, 0]), (('conv1', 1111), [1, 0]), (('conv1', 1112), [1, 0]), (('conv1', 1113), [1, 0]), (('conv1', 1114), [1, 0]), (('conv1', 1115), [1, 0]), (('conv1', 1116), [1, 0]), (('conv1', 1117), [1, 0]), (('conv1', 1118), [1, 0]), (('conv1', 1119), [1, 0]), (('conv1', 1120), [1, 0]), (('conv1', 1121), [1, 0]), (('conv1', 1122), [1, 0]), (('conv1', 1123), [1, 0]), (('conv1', 1124), [1, 0]), (('conv1', 1125), [1, 0]), (('conv1', 1126), [1, 0]), (('conv1', 1127), [1, 0]), (('conv1', 1128), [1, 0]), (('conv1', 1129), [1, 0]), (('conv1', 1130), [1, 0]), (('conv1', 1131), [1, 0]), (('conv1', 1132), [1, 0]), (('conv1', 1133), [1, 0]), (('conv1', 1134), [1, 0]), (('conv1', 1135), [1, 0]), (('conv1', 1136), [1, 0]), (('conv1', 1137), [1, 0]), (('conv1', 1138), [1, 0]), (('conv1', 1139), [1, 0]), (('conv1', 1140), [1, 0]), (('conv1', 1141), [1, 0]), (('conv1', 1142), [1, 0]), (('conv1', 1143), [1, 0]), (('conv1', 1144), [1, 0]), (('conv1', 1145), [1, 0]), (('conv1', 1146), [1, 0]), (('conv1', 1147), [1, 0]), (('conv1', 1148), [1, 0]), (('conv1', 1149), [1, 0]), (('conv1', 1150), [1, 0]), (('conv1', 1151), [1, 0]), (('conv1', 1152), [1, 0]), (('conv1', 1153), [1, 0]), (('conv1', 1154), [1, 0]), (('conv1', 1155), [1, 0]), (('conv1', 1156), [1, 0]), (('conv1', 1157), [1, 0]), (('conv1', 1158), [1, 0]), (('conv1', 1159), [1, 0]), (('conv1', 1160), [1, 0]), (('conv1', 1161), [1, 0]), (('conv1', 1162), [1, 0]), (('conv1', 1163), [1, 0]), (('conv1', 1164), [1, 0]), (('conv1', 1165), [1, 0]), (('conv1', 1166), [1, 0]), (('conv1', 1167), [1, 0]), (('conv1', 1168), [1, 0]), (('conv1', 1169), [1, 0]), (('conv1', 1170), [1, 0]), (('conv1', 1171), [1, 0]), (('conv1', 1172), [1, 0]), (('conv1', 1173), [1, 0]), (('conv1', 1174), [1, 0]), (('conv1', 1175), [1, 0]), (('conv1', 1176), [1, 0]), (('conv1', 1177), [1, 0]), (('conv1', 1178), [1, 0]), (('conv1', 1179), [1, 0]), (('conv1', 1180), [1, 0]), (('conv1', 1181), [1, 0]), (('conv1', 1182), [1, 0]), (('conv1', 1183), [1, 0]), (('conv1', 1184), [1, 0]), (('conv1', 1185), [1, 0]), (('conv1', 1186), [1, 0]), (('conv1', 1187), [1, 0]), (('conv1', 1188), [1, 0]), (('conv1', 1189), [1, 0]), (('conv1', 1190), [1, 0]), (('conv1', 1191), [1, 0]), (('conv1', 1192), [1, 0]), (('conv1', 1193), [1, 0]), (('conv1', 1194), [1, 0]), (('conv1', 1195), [1, 0]), (('conv1', 1196), [1, 0]), (('conv1', 1197), [1, 0]), (('conv1', 1198), [1, 0]), (('conv1', 1199), [1, 0]), (('conv1', 1200), [1, 0]), (('conv1', 1201), [1, 0]), (('conv1', 1202), [1, 0]), (('conv1', 1203), [1, 0]), (('conv1', 1204), [1, 0]), (('conv1', 1205), [1, 0]), (('conv1', 1206), [1, 0]), (('conv1', 1207), [1, 0]), (('conv1', 1208), [1, 0]), (('conv1', 1209), [1, 0]), (('conv1', 1210), [1, 0]), (('conv1', 1211), [1, 0]), (('conv1', 1212), [1, 0]), (('conv1', 1213), [1, 0]), (('conv1', 1214), [1, 0]), (('conv1', 1215), [1, 0]), (('conv1', 1216), [1, 0]), (('conv1', 1217), [1, 0]), (('conv1', 1218), [1, 0]), (('conv1', 1219), [1, 0]), (('conv1', 1220), [1, 0]), (('conv1', 1221), [1, 0]), (('conv1', 1222), [1, 0]), (('conv1', 1223), [1, 0]), (('conv1', 1224), [1, 0]), (('conv1', 1225), [1, 0]), (('conv1', 1226), [1, 0]), (('conv1', 1227), [1, 0]), (('conv1', 1228), [1, 0]), (('conv1', 1229), [1, 0]), (('conv1', 1230), [1, 0]), (('conv1', 1231), [1, 0]), (('conv1', 1232), [1, 0]), (('conv1', 1233), [1, 0]), (('conv1', 1234), [1, 0]), (('conv1', 1235), [1, 0]), (('conv1', 1236), [1, 0]), (('conv1', 1237), [1, 0]), (('conv1', 1238), [1, 0]), (('conv1', 1239), [1, 0]), (('conv1', 1240), [1, 0]), (('conv1', 1241), [1, 0]), (('conv1', 1242), [1, 0]), (('conv1', 1243), [1, 0]), (('conv1', 1244), [1, 0]), (('conv1', 1245), [1, 0]), (('conv1', 1246), [1, 0]), (('conv1', 1247), [1, 0]), (('conv1', 1248), [1, 0]), (('conv1', 1249), [1, 0]), (('conv1', 1250), [1, 0]), (('conv1', 1251), [1, 0]), (('conv1', 1252), [1, 0]), (('conv1', 1253), [1, 0]), (('conv1', 1254), [1, 0]), (('conv1', 1255), [1, 0]), (('conv1', 1256), [1, 0]), (('conv1', 1257), [1, 0]), (('conv1', 1258), [1, 0]), (('conv1', 1259), [1, 0]), (('conv1', 1260), [1, 0]), (('conv1', 1261), [1, 0]), (('conv1', 1262), [1, 0]), (('conv1', 1263), [1, 0]), (('conv1', 1264), [1, 0]), (('conv1', 1265), [1, 0]), (('conv1', 1266), [1, 0]), (('conv1', 1267), [1, 0]), (('conv1', 1268), [1, 0]), (('conv1', 1269), [1, 0]), (('conv1', 1270), [1, 0]), (('conv1', 1271), [1, 0]), (('conv1', 1272), [1, 0]), (('conv1', 1273), [1, 0]), (('conv1', 1274), [1, 0]), (('conv1', 1275), [1, 0]), (('conv1', 1276), [1, 0]), (('conv1', 1277), [1, 0]), (('conv1', 1278), [1, 0]), (('conv1', 1279), [1, 0]), (('conv1', 1280), [1, 0]), (('conv1', 1281), [1, 0]), (('conv1', 1282), [1, 0]), (('conv1', 1283), [1, 0]), (('conv1', 1284), [1, 0]), (('conv1', 1285), [1, 0]), (('conv1', 1286), [1, 0]), (('conv1', 1287), [1, 0]), (('conv1', 1288), [1, 0]), (('conv1', 1289), [1, 0]), (('conv1', 1290), [1, 0]), (('conv1', 1291), [1, 0]), (('conv1', 1292), [1, 0]), (('conv1', 1293), [1, 0]), (('conv1', 1294), [1, 0]), (('conv1', 1295), [1, 0]), (('conv1', 1296), [1, 0]), (('conv1', 1297), [1, 0]), (('conv1', 1298), [1, 0]), (('conv1', 1299), [1, 0]), (('conv1', 1300), [1, 0]), (('conv1', 1301), [1, 0]), (('conv1', 1302), [1, 0]), (('conv1', 1303), [1, 0]), (('conv1', 1304), [1, 0]), (('conv1', 1305), [1, 0]), (('conv1', 1306), [1, 0]), (('conv1', 1307), [1, 0]), (('conv1', 1308), [1, 0]), (('conv1', 1309), [1, 0]), (('conv1', 1310), [1, 0]), (('conv1', 1311), [1, 0]), (('conv1', 1312), [1, 0]), (('conv1', 1313), [1, 0]), (('conv1', 1314), [1, 0]), (('conv1', 1315), [1, 0]), (('conv1', 1316), [1, 0]), (('conv1', 1317), [1, 0]), (('conv1', 1318), [1, 0]), (('conv1', 1319), [1, 0]), (('conv1', 1320), [1, 0]), (('conv1', 1321), [1, 0]), (('conv1', 1322), [1, 0]), (('conv1', 1323), [1, 0]), (('conv1', 1324), [1, 0]), (('conv1', 1325), [1, 0]), (('conv1', 1326), [1, 0]), (('conv1', 1327), [1, 0]), (('conv1', 1328), [1, 0]), (('conv1', 1329), [1, 0]), (('conv1', 1330), [1, 0]), (('conv1', 1331), [1, 0]), (('conv1', 1332), [1, 0]), (('conv1', 1333), [1, 0]), (('conv1', 1334), [1, 0]), (('conv1', 1335), [1, 0]), (('conv1', 1336), [1, 0]), (('conv1', 1337), [1, 0]), (('conv1', 1338), [1, 0]), (('conv1', 1339), [1, 0]), (('conv1', 1340), [1, 0]), (('conv1', 1341), [1, 0]), (('conv1', 1342), [1, 0]), (('conv1', 1343), [1, 0]), (('conv1', 1344), [1, 0]), (('conv1', 1345), [1, 0]), (('conv1', 1346), [1, 0]), (('conv1', 1347), [1, 0]), (('conv1', 1348), [1, 0]), (('conv1', 1349), [1, 0]), (('conv1', 1350), [1, 0]), (('conv1', 1351), [1, 0]), (('conv1', 1352), [1, 0]), (('conv1', 1353), [1, 0]), (('conv1', 1354), [1, 0]), (('conv1', 1355), [1, 0]), (('conv1', 1356), [1, 0]), (('conv1', 1357), [1, 0]), (('conv1', 1358), [1, 0]), (('conv1', 1359), [1, 0]), (('conv1', 1360), [1, 0]), (('conv1', 1361), [1, 0]), (('conv1', 1362), [1, 0]), (('conv1', 1363), [1, 0]), (('conv1', 1364), [1, 0]), (('conv1', 1365), [1, 0]), (('conv1', 1366), [1, 0]), (('conv1', 1367), [1, 0]), (('conv1', 1368), [1, 0]), (('conv1', 1369), [1, 0]), (('conv1', 1370), [1, 0]), (('conv1', 1371), [1, 0]), (('conv1', 1372), [1, 0]), (('conv1', 1373), [1, 0]), (('conv1', 1374), [1, 0]), (('conv1', 1375), [1, 0]), (('conv1', 1376), [1, 0]), (('conv1', 1377), [1, 0]), (('conv1', 1378), [1, 0]), (('conv1', 1379), [1, 0]), (('conv1', 1380), [1, 0]), (('conv1', 1381), [1, 0]), (('conv1', 1382), [1, 0]), (('conv1', 1383), [1, 0]), (('conv1', 1384), [1, 0]), (('conv1', 1385), [1, 0]), (('conv1', 1386), [1, 0]), (('conv1', 1387), [1, 0]), (('conv1', 1388), [1, 0]), (('conv1', 1389), [1, 0]), (('conv1', 1390), [1, 0]), (('conv1', 1391), [1, 0]), (('conv1', 1392), [1, 0]), (('conv1', 1393), [1, 0]), (('conv1', 1394), [1, 0]), (('conv1', 1395), [1, 0]), (('conv1', 1396), [1, 0]), (('conv1', 1397), [1, 0]), (('conv1', 1398), [1, 0]), (('conv1', 1399), [1, 0]), (('conv1', 1400), [1, 0]), (('conv1', 1401), [1, 0]), (('conv1', 1402), [1, 0]), (('conv1', 1403), [1, 0]), (('conv1', 1404), [1, 0]), (('conv1', 1405), [1, 0]), (('conv1', 1406), [1, 0]), (('conv1', 1407), [1, 0]), (('conv1', 1408), [1, 0]), (('conv1', 1409), [1, 0]), (('conv1', 1410), [1, 0]), (('conv1', 1411), [1, 0]), (('conv1', 1412), [1, 0]), (('conv1', 1413), [1, 0]), (('conv1', 1414), [1, 0]), (('conv1', 1415), [1, 0]), (('conv1', 1416), [1, 0]), (('conv1', 1417), [1, 0]), (('conv1', 1418), [1, 0]), (('conv1', 1419), [1, 0]), (('conv1', 1420), [1, 0]), (('conv1', 1421), [1, 0]), (('conv1', 1422), [1, 0]), (('conv1', 1423), [1, 0]), (('conv1', 1424), [1, 0]), (('conv1', 1425), [1, 0]), (('conv1', 1426), [1, 0]), (('conv1', 1427), [1, 0]), (('conv1', 1428), [1, 0]), (('conv1', 1429), [1, 0]), (('conv1', 1430), [1, 0]), (('conv1', 1431), [1, 0]), (('conv1', 1432), [1, 0]), (('conv1', 1433), [1, 0]), (('conv1', 1434), [1, 0]), (('conv1', 1435), [1, 0]), (('conv1', 1436), [1, 0]), (('conv1', 1437), [1, 0]), (('conv1', 1438), [1, 0]), (('conv1', 1439), [1, 0]), (('conv1', 1440), [1, 0]), (('conv1', 1441), [1, 0]), (('conv1', 1442), [1, 0]), (('conv1', 1443), [1, 0]), (('conv1', 1444), [1, 0]), (('conv1', 1445), [1, 0]), (('conv1', 1446), [1, 0]), (('conv1', 1447), [1, 0]), (('conv1', 1448), [1, 0]), (('conv1', 1449), [1, 0]), (('conv1', 1450), [1, 0]), (('conv1', 1451), [1, 0]), (('conv1', 1452), [1, 0]), (('conv1', 1453), [1, 0]), (('conv1', 1454), [1, 0]), (('conv1', 1455), [1, 0]), (('conv1', 1456), [1, 0]), (('conv1', 1457), [1, 0]), (('conv1', 1458), [1, 0]), (('conv1', 1459), [1, 0]), (('conv1', 1460), [1, 0]), (('conv1', 1461), [1, 0]), (('conv1', 1462), [1, 0]), (('conv1', 1463), [1, 0]), (('conv1', 1464), [1, 0]), (('conv1', 1465), [1, 0]), (('conv1', 1466), [1, 0]), (('conv1', 1467), [1, 0]), (('conv1', 1468), [1, 0]), (('conv1', 1469), [1, 0]), (('conv1', 1470), [1, 0]), (('conv1', 1471), [1, 0]), (('conv1', 1472), [1, 0]), (('conv1', 1473), [1, 0]), (('conv1', 1474), [1, 0]), (('conv1', 1475), [1, 0]), (('conv1', 1476), [1, 0]), (('conv1', 1477), [1, 0]), (('conv1', 1478), [1, 0]), (('conv1', 1479), [1, 0]), (('conv1', 1480), [1, 0]), (('conv1', 1481), [1, 0]), (('conv1', 1482), [1, 0]), (('conv1', 1483), [1, 0]), (('conv1', 1484), [1, 0]), (('conv1', 1485), [1, 0]), (('conv1', 1486), [1, 0]), (('conv1', 1487), [1, 0]), (('conv1', 1488), [1, 0]), (('conv1', 1489), [1, 0]), (('conv1', 1490), [1, 0]), (('conv1', 1491), [1, 0]), (('conv1', 1492), [1, 0]), (('conv1', 1493), [1, 0]), (('conv1', 1494), [1, 0]), (('conv1', 1495), [1, 0]), (('conv1', 1496), [1, 0]), (('conv1', 1497), [1, 0]), (('conv1', 1498), [1, 0]), (('conv1', 1499), [1, 0]), (('conv1', 1500), [1, 0]), (('conv1', 1501), [1, 0]), (('conv1', 1502), [1, 0]), (('conv1', 1503), [1, 0]), (('conv1', 1504), [1, 0]), (('conv1', 1505), [1, 0]), (('conv1', 1506), [1, 0]), (('conv1', 1507), [1, 0]), (('conv1', 1508), [1, 0]), (('conv1', 1509), [1, 0]), (('conv1', 1510), [1, 0]), (('conv1', 1511), [1, 0]), (('conv1', 1512), [1, 0]), (('conv1', 1513), [1, 0]), (('conv1', 1514), [1, 0]), (('conv1', 1515), [1, 0]), (('conv1', 1516), [1, 0]), (('conv1', 1517), [1, 0]), (('conv1', 1518), [1, 0]), (('conv1', 1519), [1, 0]), (('conv1', 1520), [1, 0]), (('conv1', 1521), [1, 0]), (('conv1', 1522), [1, 0]), (('conv1', 1523), [1, 0]), (('conv1', 1524), [1, 0]), (('conv1', 1525), [1, 0]), (('conv1', 1526), [1, 0]), (('conv1', 1527), [1, 0]), (('conv1', 1528), [1, 0]), (('conv1', 1529), [1, 0]), (('conv1', 1530), [1, 0]), (('conv1', 1531), [1, 0]), (('conv1', 1532), [1, 0]), (('conv1', 1533), [1, 0]), (('conv1', 1534), [1, 0]), (('conv1', 1535), [1, 0]), (('conv1', 1536), [1, 0]), (('conv1', 1537), [1, 0]), (('conv1', 1538), [1, 0]), (('conv1', 1539), [1, 0]), (('conv1', 1540), [1, 0]), (('conv1', 1541), [1, 0]), (('conv1', 1542), [1, 0]), (('conv1', 1543), [1, 0]), (('conv1', 1544), [1, 0]), (('conv1', 1545), [1, 0]), (('conv1', 1546), [1, 0]), (('conv1', 1547), [1, 0]), (('conv1', 1548), [1, 0]), (('conv1', 1549), [1, 0]), (('conv1', 1550), [1, 0]), (('conv1', 1551), [1, 0]), (('conv1', 1552), [1, 0]), (('conv1', 1553), [1, 0]), (('conv1', 1554), [1, 0]), (('conv1', 1555), [1, 0]), (('conv1', 1556), [1, 0]), (('conv1', 1557), [1, 0]), (('conv1', 1558), [1, 0]), (('conv1', 1559), [1, 0]), (('conv1', 1560), [1, 0]), (('conv1', 1561), [1, 0]), (('conv1', 1562), [1, 0]), (('conv1', 1563), [1, 0]), (('conv1', 1564), [1, 0]), (('conv1', 1565), [1, 0]), (('conv1', 1566), [1, 0]), (('conv1', 1567), [1, 0]), (('conv1', 1568), [1, 0]), (('conv1', 1569), [1, 0]), (('conv1', 1570), [1, 0]), (('conv1', 1571), [1, 0]), (('conv1', 1572), [1, 0]), (('conv1', 1573), [1, 0]), (('conv1', 1574), [1, 0]), (('conv1', 1575), [1, 0]), (('conv1', 1576), [1, 0]), (('conv1', 1577), [1, 0]), (('conv1', 1578), [1, 0]), (('conv1', 1579), [1, 0]), (('conv1', 1580), [1, 0]), (('conv1', 1581), [1, 0]), (('conv1', 1582), [1, 0]), (('conv1', 1583), [1, 0]), (('conv1', 1584), [1, 0]), (('conv1', 1585), [1, 0]), (('conv1', 1586), [1, 0]), (('conv1', 1587), [1, 0]), (('conv1', 1588), [1, 0]), (('conv1', 1589), [1, 0]), (('conv1', 1590), [1, 0]), (('conv1', 1591), [1, 0]), (('conv1', 1592), [1, 0]), (('conv1', 1593), [1, 0]), (('conv1', 1594), [1, 0]), (('conv1', 1595), [1, 0]), (('conv1', 1596), [1, 0]), (('conv1', 1597), [1, 0]), (('conv1', 1598), [1, 0]), (('conv1', 1599), [1, 0]), (('conv1', 1600), [1, 0]), (('conv1', 1601), [1, 0]), (('conv1', 1602), [1, 0]), (('conv1', 1603), [1, 0]), (('conv1', 1604), [1, 0]), (('conv1', 1605), [1, 0]), (('conv1', 1606), [1, 0]), (('conv1', 1607), [1, 0]), (('conv1', 1608), [1, 0]), (('conv1', 1609), [1, 0]), (('conv1', 1610), [1, 0]), (('conv1', 1611), [1, 0]), (('conv1', 1612), [1, 0]), (('conv1', 1613), [1, 0]), (('conv1', 1614), [1, 0]), (('conv1', 1615), [1, 0]), (('conv1', 1616), [1, 0]), (('conv1', 1617), [1, 0]), (('conv1', 1618), [1, 0]), (('conv1', 1619), [1, 0]), (('conv1', 1620), [1, 0]), (('conv1', 1621), [1, 0]), (('conv1', 1622), [1, 0]), (('conv1', 1623), [1, 0]), (('conv1', 1624), [1, 0]), (('conv1', 1625), [1, 0]), (('conv1', 1626), [1, 0]), (('conv1', 1627), [1, 0]), (('conv1', 1628), [1, 0]), (('conv1', 1629), [1, 0]), (('conv1', 1630), [1, 0]), (('conv1', 1631), [1, 0]), (('conv1', 1632), [1, 0]), (('conv1', 1633), [1, 0]), (('conv1', 1634), [1, 0]), (('conv1', 1635), [1, 0]), (('conv1', 1636), [1, 0]), (('conv1', 1637), [1, 0]), (('conv1', 1638), [1, 0]), (('conv1', 1639), [1, 0]), (('conv1', 1640), [1, 0]), (('conv1', 1641), [1, 0]), (('conv1', 1642), [1, 0]), (('conv1', 1643), [1, 0]), (('conv1', 1644), [1, 0]), (('conv1', 1645), [1, 0]), (('conv1', 1646), [1, 0]), (('conv1', 1647), [1, 0]), (('conv1', 1648), [1, 0]), (('conv1', 1649), [1, 0]), (('conv1', 1650), [1, 0]), (('conv1', 1651), [1, 0]), (('conv1', 1652), [1, 0]), (('conv1', 1653), [1, 0]), (('conv1', 1654), [1, 0]), (('conv1', 1655), [1, 0]), (('conv1', 1656), [1, 0]), (('conv1', 1657), [1, 0]), (('conv1', 1658), [1, 0]), (('conv1', 1659), [1, 0]), (('conv1', 1660), [1, 0]), (('conv1', 1661), [1, 0]), (('conv1', 1662), [1, 0]), (('conv1', 1663), [1, 0]), (('conv1', 1664), [1, 0]), (('conv1', 1665), [1, 0]), (('conv1', 1666), [1, 0]), (('conv1', 1667), [1, 0]), (('conv1', 1668), [1, 0]), (('conv1', 1669), [1, 0]), (('conv1', 1670), [1, 0]), (('conv1', 1671), [1, 0]), (('conv1', 1672), [1, 0]), (('conv1', 1673), [1, 0]), (('conv1', 1674), [1, 0]), (('conv1', 1675), [1, 0]), (('conv1', 1676), [1, 0]), (('conv1', 1677), [1, 0]), (('conv1', 1678), [1, 0]), (('conv1', 1679), [1, 0]), (('conv1', 1680), [1, 0]), (('conv1', 1681), [1, 0]), (('conv1', 1682), [1, 0]), (('conv1', 1683), [1, 0]), (('conv1', 1684), [1, 0]), (('conv1', 1685), [1, 0]), (('conv1', 1686), [1, 0]), (('conv1', 1687), [1, 0]), (('conv1', 1688), [1, 0]), (('conv1', 1689), [1, 0]), (('conv1', 1690), [1, 0]), (('conv1', 1691), [1, 0]), (('conv1', 1692), [1, 0]), (('conv1', 1693), [1, 0]), (('conv1', 1694), [1, 0]), (('conv1', 1695), [1, 0]), (('conv1', 1696), [1, 0]), (('conv1', 1697), [1, 0]), (('conv1', 1698), [1, 0]), (('conv1', 1699), [1, 0]), (('conv1', 1700), [1, 0]), (('conv1', 1701), [1, 0]), (('conv1', 1702), [1, 0]), (('conv1', 1703), [1, 0]), (('conv1', 1704), [1, 0]), (('conv1', 1705), [1, 0]), (('conv1', 1706), [1, 0]), (('conv1', 1707), [1, 0]), (('conv1', 1708), [1, 0]), (('conv1', 1709), [1, 0]), (('conv1', 1710), [1, 0]), (('conv1', 1711), [1, 0]), (('conv1', 1712), [1, 0]), (('conv1', 1713), [1, 0]), (('conv1', 1714), [1, 0]), (('conv1', 1715), [1, 0]), (('conv1', 1716), [1, 0]), (('conv1', 1717), [1, 0]), (('conv1', 1718), [1, 0]), (('conv1', 1719), [1, 0]), (('conv1', 1720), [1, 0]), (('conv1', 1721), [1, 0]), (('conv1', 1722), [1, 0]), (('conv1', 1723), [1, 0]), (('conv1', 1724), [1, 0]), (('conv1', 1725), [1, 0]), (('conv1', 1726), [1, 0]), (('conv1', 1727), [1, 0]), (('conv1', 1728), [1, 0]), (('conv1', 1729), [1, 0]), (('conv1', 1730), [1, 0]), (('conv1', 1731), [1, 0]), (('conv1', 1732), [1, 0]), (('conv1', 1733), [1, 0]), (('conv1', 1734), [1, 0]), (('conv1', 1735), [1, 0]), (('conv1', 1736), [1, 0]), (('conv1', 1737), [1, 0]), (('conv1', 1738), [1, 0]), (('conv1', 1739), [1, 0]), (('conv1', 1740), [1, 0]), (('conv1', 1741), [1, 0]), (('conv1', 1742), [1, 0]), (('conv1', 1743), [1, 0]), (('conv1', 1744), [1, 0]), (('conv1', 1745), [1, 0]), (('conv1', 1746), [1, 0]), (('conv1', 1747), [1, 0]), (('conv1', 1748), [1, 0]), (('conv1', 1749), [1, 0]), (('conv1', 1750), [1, 0]), (('conv1', 1751), [1, 0]), (('conv1', 1752), [1, 0]), (('conv1', 1753), [1, 0]), (('conv1', 1754), [1, 0]), (('conv1', 1755), [1, 0]), (('conv1', 1756), [1, 0]), (('conv1', 1757), [1, 0]), (('conv1', 1758), [1, 0]), (('conv1', 1759), [1, 0]), (('conv1', 1760), [1, 0]), (('conv1', 1761), [1, 0]), (('conv1', 1762), [1, 0]), (('conv1', 1763), [1, 0]), (('conv1', 1764), [1, 0]), (('conv1', 1765), [1, 0]), (('conv1', 1766), [1, 0]), (('conv1', 1767), [1, 0]), (('conv1', 1768), [1, 0]), (('conv1', 1769), [1, 0]), (('conv1', 1770), [1, 0]), (('conv1', 1771), [1, 0]), (('conv1', 1772), [1, 0]), (('conv1', 1773), [1, 0]), (('conv1', 1774), [1, 0]), (('conv1', 1775), [1, 0]), (('conv1', 1776), [1, 0]), (('conv1', 1777), [1, 0]), (('conv1', 1778), [1, 0]), (('conv1', 1779), [1, 0]), (('conv1', 1780), [1, 0]), (('conv1', 1781), [1, 0]), (('conv1', 1782), [1, 0]), (('conv1', 1783), [1, 0]), (('conv1', 1784), [1, 0]), (('conv1', 1785), [1, 0]), (('conv1', 1786), [1, 0]), (('conv1', 1787), [1, 0]), (('conv1', 1788), [1, 0]), (('conv1', 1789), [1, 0]), (('conv1', 1790), [1, 0]), (('conv1', 1791), [1, 0]), (('conv1', 1792), [1, 0]), (('conv1', 1793), [1, 0]), (('conv1', 1794), [1, 0]), (('conv1', 1795), [1, 0]), (('conv1', 1796), [1, 0]), (('conv1', 1797), [1, 0]), (('conv1', 1798), [1, 0]), (('conv1', 1799), [1, 0]), (('conv1', 1800), [1, 0]), (('conv1', 1801), [1, 0]), (('conv1', 1802), [1, 0]), (('conv1', 1803), [1, 0]), (('conv1', 1804), [1, 0]), (('conv1', 1805), [1, 0]), (('conv1', 1806), [1, 0]), (('conv1', 1807), [1, 0]), (('conv1', 1808), [1, 0]), (('conv1', 1809), [1, 0]), (('conv1', 1810), [1, 0]), (('conv1', 1811), [1, 0]), (('conv1', 1812), [1, 0]), (('conv1', 1813), [1, 0]), (('conv1', 1814), [1, 0]), (('conv1', 1815), [1, 0]), (('conv1', 1816), [1, 0]), (('conv1', 1817), [1, 0]), (('conv1', 1818), [1, 0]), (('conv1', 1819), [1, 0]), (('conv1', 1820), [1, 0]), (('conv1', 1821), [1, 0]), (('conv1', 1822), [1, 0]), (('conv1', 1823), [1, 0]), (('conv1', 1824), [1, 0]), (('conv1', 1825), [1, 0]), (('conv1', 1826), [1, 0]), (('conv1', 1827), [1, 0]), (('conv1', 1828), [1, 0]), (('conv1', 1829), [1, 0]), (('conv1', 1830), [1, 0]), (('conv1', 1831), [1, 0]), (('conv1', 1832), [1, 0]), (('conv1', 1833), [1, 0]), (('conv1', 1834), [1, 0]), (('conv1', 1835), [1, 0]), (('conv1', 1836), [1, 0]), (('conv1', 1837), [1, 0]), (('conv1', 1838), [1, 0]), (('conv1', 1839), [1, 0]), (('conv1', 1840), [1, 0]), (('conv1', 1841), [1, 0]), (('conv1', 1842), [1, 0]), (('conv1', 1843), [1, 0]), (('conv1', 1844), [1, 0]), (('conv1', 1845), [1, 0]), (('conv1', 1846), [1, 0]), (('conv1', 1847), [1, 0]), (('conv1', 1848), [1, 0]), (('conv1', 1849), [1, 0]), (('conv1', 1850), [1, 0]), (('conv1', 1851), [1, 0]), (('conv1', 1852), [1, 0]), (('conv1', 1853), [1, 0]), (('conv1', 1854), [1, 0]), (('conv1', 1855), [1, 0]), (('conv1', 1856), [1, 0]), (('conv1', 1857), [1, 0]), (('conv1', 1858), [1, 0]), (('conv1', 1859), [1, 0]), (('conv1', 1860), [1, 0]), (('conv1', 1861), [1, 0]), (('conv1', 1862), [1, 0]), (('conv1', 1863), [1, 0]), (('conv1', 1864), [1, 0]), (('conv1', 1865), [1, 0]), (('conv1', 1866), [1, 0]), (('conv1', 1867), [1, 0]), (('conv1', 1868), [1, 0]), (('conv1', 1869), [1, 0]), (('conv1', 1870), [1, 0]), (('conv1', 1871), [1, 0]), (('conv1', 1872), [1, 0]), (('conv1', 1873), [1, 0]), (('conv1', 1874), [1, 0]), (('conv1', 1875), [1, 0]), (('conv1', 1876), [1, 0]), (('conv1', 1877), [1, 0]), (('conv1', 1878), [1, 0]), (('conv1', 1879), [1, 0]), (('conv1', 1880), [1, 0]), (('conv1', 1881), [1, 0]), (('conv1', 1882), [1, 0]), (('conv1', 1883), [1, 0]), (('conv1', 1884), [1, 0]), (('conv1', 1885), [1, 0]), (('conv1', 1886), [1, 0]), (('conv1', 1887), [1, 0]), (('conv1', 1888), [1, 0]), (('conv1', 1889), [1, 0]), (('conv1', 1890), [1, 0]), (('conv1', 1891), [1, 0]), (('conv1', 1892), [1, 0]), (('conv1', 1893), [1, 0]), (('conv1', 1894), [1, 0]), (('conv1', 1895), [1, 0]), (('conv1', 1896), [1, 0]), (('conv1', 1897), [1, 0]), (('conv1', 1898), [1, 0]), (('conv1', 1899), [1, 0]), (('conv1', 1900), [1, 0]), (('conv1', 1901), [1, 0]), (('conv1', 1902), [1, 0]), (('conv1', 1903), [1, 0]), (('conv1', 1904), [1, 0]), (('conv1', 1905), [1, 0]), (('conv1', 1906), [1, 0]), (('conv1', 1907), [1, 0]), (('conv1', 1908), [1, 0]), (('conv1', 1909), [1, 0]), (('conv1', 1910), [1, 0]), (('conv1', 1911), [1, 0]), (('conv1', 1912), [1, 0]), (('conv1', 1913), [1, 0]), (('conv1', 1914), [1, 0]), (('conv1', 1915), [1, 0]), (('conv1', 1916), [1, 0]), (('conv1', 1917), [1, 0]), (('conv1', 1918), [1, 0]), (('conv1', 1919), [1, 0]), (('conv1', 1920), [1, 0]), (('conv1', 1921), [1, 0]), (('conv1', 1922), [1, 0]), (('conv1', 1923), [1, 0]), (('conv1', 1924), [1, 0]), (('conv1', 1925), [1, 0]), (('conv1', 1926), [1, 0]), (('conv1', 1927), [1, 0]), (('conv1', 1928), [1, 0]), (('conv1', 1929), [1, 0]), (('conv1', 1930), [1, 0]), (('conv1', 1931), [1, 0]), (('conv1', 1932), [1, 0]), (('conv1', 1933), [1, 0]), (('conv1', 1934), [1, 0]), (('conv1', 1935), [1, 0]), (('conv1', 1936), [1, 0]), (('conv1', 1937), [1, 0]), (('conv1', 1938), [1, 0]), (('conv1', 1939), [1, 0]), (('conv1', 1940), [1, 0]), (('conv1', 1941), [1, 0]), (('conv1', 1942), [1, 0]), (('conv1', 1943), [1, 0]), (('conv1', 1944), [1, 0]), (('conv1', 1945), [1, 0]), (('conv1', 1946), [1, 0]), (('conv1', 1947), [1, 0]), (('conv1', 1948), [1, 0]), (('conv1', 1949), [1, 0]), (('conv1', 1950), [1, 0]), (('conv1', 1951), [1, 0]), (('conv1', 1952), [1, 0]), (('conv1', 1953), [1, 0]), (('conv1', 1954), [1, 0]), (('conv1', 1955), [1, 0]), (('conv1', 1956), [1, 0]), (('conv1', 1957), [1, 0]), (('conv1', 1958), [1, 0]), (('conv1', 1959), [1, 0]), (('conv1', 1960), [1, 0]), (('conv1', 1961), [1, 0]), (('conv1', 1962), [1, 0]), (('conv1', 1963), [1, 0]), (('conv1', 1964), [1, 0]), (('conv1', 1965), [1, 0]), (('conv1', 1966), [1, 0]), (('conv1', 1967), [1, 0]), (('conv1', 1968), [1, 0]), (('conv1', 1969), [1, 0]), (('conv1', 1970), [1, 0]), (('conv1', 1971), [1, 0]), (('conv1', 1972), [1, 0]), (('conv1', 1973), [1, 0]), (('conv1', 1974), [1, 0]), (('conv1', 1975), [1, 0]), (('conv1', 1976), [1, 0]), (('conv1', 1977), [1, 0]), (('conv1', 1978), [1, 0]), (('conv1', 1979), [1, 0]), (('conv1', 1980), [1, 0]), (('conv1', 1981), [1, 0]), (('conv1', 1982), [1, 0]), (('conv1', 1983), [1, 0]), (('conv1', 1984), [1, 0]), (('conv1', 1985), [1, 0]), (('conv1', 1986), [1, 0]), (('conv1', 1987), [1, 0]), (('conv1', 1988), [1, 0]), (('conv1', 1989), [1, 0]), (('conv1', 1990), [1, 0]), (('conv1', 1991), [1, 0]), (('conv1', 1992), [1, 0]), (('conv1', 1993), [1, 0]), (('conv1', 1994), [1, 0]), (('conv1', 1995), [1, 0]), (('conv1', 1996), [1, 0]), (('conv1', 1997), [1, 0]), (('conv1', 1998), [1, 0]), (('conv1', 1999), [1, 0]), (('conv1', 2000), [1, 0]), (('conv1', 2001), [1, 0]), (('conv1', 2002), [1, 0]), (('conv1', 2003), [1, 0]), (('conv1', 2004), [1, 0]), (('conv1', 2005), [1, 0]), (('conv1', 2006), [1, 0]), (('conv1', 2007), [1, 0]), (('conv1', 2008), [1, 0]), (('conv1', 2009), [1, 0]), (('conv1', 2010), [1, 0]), (('conv1', 2011), [1, 0]), (('conv1', 2012), [1, 0]), (('conv1', 2013), [1, 0]), (('conv1', 2014), [1, 0]), (('conv1', 2015), [1, 0]), (('conv1', 2016), [1, 0]), (('conv1', 2017), [1, 0]), (('conv1', 2018), [1, 0]), (('conv1', 2019), [1, 0]), (('conv1', 2020), [1, 0]), (('conv1', 2021), [1, 0]), (('conv1', 2022), [1, 0]), (('conv1', 2023), [1, 0]), (('conv1', 2024), [1, 0]), (('conv1', 2025), [1, 0]), (('conv1', 2026), [1, 0]), (('conv1', 2027), [1, 0]), (('conv1', 2028), [1, 0]), (('conv1', 2029), [1, 0]), (('conv1', 2030), [1, 0]), (('conv1', 2031), [1, 0]), (('conv1', 2032), [1, 0]), (('conv1', 2033), [1, 0]), (('conv1', 2034), [1, 0]), (('conv1', 2035), [1, 0]), (('conv1', 2036), [1, 0]), (('conv1', 2037), [1, 0]), (('conv1', 2038), [1, 0]), (('conv1', 2039), [1, 0]), (('conv1', 2040), [1, 0]), (('conv1', 2041), [1, 0]), (('conv1', 2042), [1, 0]), (('conv1', 2043), [1, 0]), (('conv1', 2044), [1, 0]), (('conv1', 2045), [1, 0]), (('conv1', 2046), [1, 0]), (('conv1', 2047), [1, 0]), (('conv1', 2048), [1, 0]), (('conv1', 2049), [1, 0]), (('conv1', 2050), [1, 0]), (('conv1', 2051), [1, 0]), (('conv1', 2052), [1, 0]), (('conv1', 2053), [1, 0]), (('conv1', 2054), [1, 0]), (('conv1', 2055), [1, 0]), (('conv1', 2056), [1, 0]), (('conv1', 2057), [1, 0]), (('conv1', 2058), [1, 0]), (('conv1', 2059), [1, 0]), (('conv1', 2060), [1, 0]), (('conv1', 2061), [1, 0]), (('conv1', 2062), [1, 0]), (('conv1', 2063), [1, 0]), (('conv1', 2064), [1, 0]), (('conv1', 2065), [1, 0]), (('conv1', 2066), [1, 0]), (('conv1', 2067), [1, 0]), (('conv1', 2068), [1, 0]), (('conv1', 2069), [1, 0]), (('conv1', 2070), [1, 0]), (('conv1', 2071), [1, 0]), (('conv1', 2072), [1, 0]), (('conv1', 2073), [1, 0]), (('conv1', 2074), [1, 0]), (('conv1', 2075), [1, 0]), (('conv1', 2076), [1, 0]), (('conv1', 2077), [1, 0]), (('conv1', 2078), [1, 0]), (('conv1', 2079), [1, 0]), (('conv1', 2080), [1, 0]), (('conv1', 2081), [1, 0]), (('conv1', 2082), [1, 0]), (('conv1', 2083), [1, 0]), (('conv1', 2084), [1, 0]), (('conv1', 2085), [1, 0]), (('conv1', 2086), [1, 0]), (('conv1', 2087), [1, 0]), (('conv1', 2088), [1, 0]), (('conv1', 2089), [1, 0]), (('conv1', 2090), [1, 0]), (('conv1', 2091), [1, 0]), (('conv1', 2092), [1, 0]), (('conv1', 2093), [1, 0]), (('conv1', 2094), [1, 0]), (('conv1', 2095), [1, 0]), (('conv1', 2096), [1, 0]), (('conv1', 2097), [1, 0]), (('conv1', 2098), [1, 0]), (('conv1', 2099), [1, 0]), (('conv1', 2100), [1, 0]), (('conv1', 2101), [1, 0]), (('conv1', 2102), [1, 0]), (('conv1', 2103), [1, 0]), (('conv1', 2104), [1, 0]), (('conv1', 2105), [1, 0]), (('conv1', 2106), [1, 0]), (('conv1', 2107), [1, 0]), (('conv1', 2108), [1, 0]), (('conv1', 2109), [1, 0]), (('conv1', 2110), [1, 0]), (('conv1', 2111), [1, 0]), (('conv1', 2112), [1, 0]), (('conv1', 2113), [1, 0]), (('conv1', 2114), [1, 0]), (('conv1', 2115), [1, 0]), (('conv1', 2116), [1, 0]), (('conv1', 2117), [1, 0]), (('conv1', 2118), [1, 0]), (('conv1', 2119), [1, 0]), (('conv1', 2120), [1, 0]), (('conv1', 2121), [1, 0]), (('conv1', 2122), [1, 0]), (('conv1', 2123), [1, 0]), (('conv1', 2124), [1, 0]), (('conv1', 2125), [1, 0]), (('conv1', 2126), [1, 0]), (('conv1', 2127), [1, 0]), (('conv1', 2128), [1, 0]), (('conv1', 2129), [1, 0]), (('conv1', 2130), [1, 0]), (('conv1', 2131), [1, 0]), (('conv1', 2132), [1, 0]), (('conv1', 2133), [1, 0]), (('conv1', 2134), [1, 0]), (('conv1', 2135), [1, 0]), (('conv1', 2136), [1, 0]), (('conv1', 2137), [1, 0]), (('conv1', 2138), [1, 0]), (('conv1', 2139), [1, 0]), (('conv1', 2140), [1, 0]), (('conv1', 2141), [1, 0]), (('conv1', 2142), [1, 0]), (('conv1', 2143), [1, 0]), (('conv1', 2144), [1, 0]), (('conv1', 2145), [1, 0]), (('conv1', 2146), [1, 0]), (('conv1', 2147), [1, 0]), (('conv1', 2148), [1, 0]), (('conv1', 2149), [1, 0]), (('conv1', 2150), [1, 0]), (('conv1', 2151), [1, 0]), (('conv1', 2152), [1, 0]), (('conv1', 2153), [1, 0]), (('conv1', 2154), [1, 0]), (('conv1', 2155), [1, 0]), (('conv1', 2156), [1, 0]), (('conv1', 2157), [1, 0]), (('conv1', 2158), [1, 0]), (('conv1', 2159), [1, 0]), (('conv1', 2160), [1, 0]), (('conv1', 2161), [1, 0]), (('conv1', 2162), [1, 0]), (('conv1', 2163), [1, 0]), (('conv1', 2164), [1, 0]), (('conv1', 2165), [1, 0]), (('conv1', 2166), [1, 0]), (('conv1', 2167), [1, 0]), (('conv1', 2168), [1, 0]), (('conv1', 2169), [1, 0]), (('conv1', 2170), [1, 0]), (('conv1', 2171), [1, 0]), (('conv1', 2172), [1, 0]), (('conv1', 2173), [1, 0]), (('conv1', 2174), [1, 0]), (('conv1', 2175), [1, 0]), (('conv1', 2176), [1, 0]), (('conv1', 2177), [1, 0]), (('conv1', 2178), [1, 0]), (('conv1', 2179), [1, 0]), (('conv1', 2180), [1, 0]), (('conv1', 2181), [1, 0]), (('conv1', 2182), [1, 0]), (('conv1', 2183), [1, 0]), (('conv1', 2184), [1, 0]), (('conv1', 2185), [1, 0]), (('conv1', 2186), [1, 0]), (('conv1', 2187), [1, 0]), (('conv1', 2188), [1, 0]), (('conv1', 2189), [1, 0]), (('conv1', 2190), [1, 0]), (('conv1', 2191), [1, 0]), (('conv1', 2192), [1, 0]), (('conv1', 2193), [1, 0]), (('conv1', 2194), [1, 0]), (('conv1', 2195), [1, 0]), (('conv1', 2196), [1, 0]), (('conv1', 2197), [1, 0]), (('conv1', 2198), [1, 0]), (('conv1', 2199), [1, 0]), (('conv1', 2200), [1, 0]), (('conv1', 2201), [1, 0]), (('conv1', 2202), [1, 0]), (('conv1', 2203), [1, 0]), (('conv1', 2204), [1, 0]), (('conv1', 2205), [1, 0]), (('conv1', 2206), [1, 0]), (('conv1', 2207), [1, 0]), (('conv1', 2208), [1, 0]), (('conv1', 2209), [1, 0]), (('conv1', 2210), [1, 0]), (('conv1', 2211), [1, 0]), (('conv1', 2212), [1, 0]), (('conv1', 2213), [1, 0]), (('conv1', 2214), [1, 0]), (('conv1', 2215), [1, 0]), (('conv1', 2216), [1, 0]), (('conv1', 2217), [1, 0]), (('conv1', 2218), [1, 0]), (('conv1', 2219), [1, 0]), (('conv1', 2220), [1, 0]), (('conv1', 2221), [1, 0]), (('conv1', 2222), [1, 0]), (('conv1', 2223), [1, 0]), (('conv1', 2224), [1, 0]), (('conv1', 2225), [1, 0]), (('conv1', 2226), [1, 0]), (('conv1', 2227), [1, 0]), (('conv1', 2228), [1, 0]), (('conv1', 2229), [1, 0]), (('conv1', 2230), [1, 0]), (('conv1', 2231), [1, 0]), (('conv1', 2232), [1, 0]), (('conv1', 2233), [1, 0]), (('conv1', 2234), [1, 0]), (('conv1', 2235), [1, 0]), (('conv1', 2236), [1, 0]), (('conv1', 2237), [1, 0]), (('conv1', 2238), [1, 0]), (('conv1', 2239), [1, 0]), (('conv1', 2240), [1, 0]), (('conv1', 2241), [1, 0]), (('conv1', 2242), [1, 0]), (('conv1', 2243), [1, 0]), (('conv1', 2244), [1, 0]), (('conv1', 2245), [1, 0]), (('conv1', 2246), [1, 0]), (('conv1', 2247), [1, 0]), (('conv1', 2248), [1, 0]), (('conv1', 2249), [1, 0]), (('conv1', 2250), [1, 0]), (('conv1', 2251), [1, 0]), (('conv1', 2252), [1, 0]), (('conv1', 2253), [1, 0]), (('conv1', 2254), [1, 0]), (('conv1', 2255), [1, 0]), (('conv1', 2256), [1, 0]), (('conv1', 2257), [1, 0]), (('conv1', 2258), [1, 0]), (('conv1', 2259), [1, 0]), (('conv1', 2260), [1, 0]), (('conv1', 2261), [1, 0]), (('conv1', 2262), [1, 0]), (('conv1', 2263), [1, 0]), (('conv1', 2264), [1, 0]), (('conv1', 2265), [1, 0]), (('conv1', 2266), [1, 0]), (('conv1', 2267), [1, 0]), (('conv1', 2268), [1, 0]), (('conv1', 2269), [1, 0]), (('conv1', 2270), [1, 0]), (('conv1', 2271), [1, 0]), (('conv1', 2272), [1, 0]), (('conv1', 2273), [1, 0]), (('conv1', 2274), [1, 0]), (('conv1', 2275), [1, 0]), (('conv1', 2276), [1, 0]), (('conv1', 2277), [1, 0]), (('conv1', 2278), [1, 0]), (('conv1', 2279), [1, 0]), (('conv1', 2280), [1, 0]), (('conv1', 2281), [1, 0]), (('conv1', 2282), [1, 0]), (('conv1', 2283), [1, 0]), (('conv1', 2284), [1, 0]), (('conv1', 2285), [1, 0]), (('conv1', 2286), [1, 0]), (('conv1', 2287), [1, 0]), (('conv1', 2288), [1, 0]), (('conv1', 2289), [1, 0]), (('conv1', 2290), [1, 0]), (('conv1', 2291), [1, 0]), (('conv1', 2292), [1, 0]), (('conv1', 2293), [1, 0]), (('conv1', 2294), [1, 0]), (('conv1', 2295), [1, 0]), (('conv1', 2296), [1, 0]), (('conv1', 2297), [1, 0]), (('conv1', 2298), [1, 0]), (('conv1', 2299), [1, 0]), (('conv1', 2300), [1, 0]), (('conv1', 2301), [1, 0]), (('conv1', 2302), [1, 0]), (('conv1', 2303), [1, 0]), (('conv1', 2304), [1, 0]), (('conv1', 2305), [1, 0]), (('conv1', 2306), [1, 0]), (('conv1', 2307), [1, 0]), (('conv1', 2308), [1, 0]), (('conv1', 2309), [1, 0]), (('conv1', 2310), [1, 0]), (('conv1', 2311), [1, 0]), (('conv1', 2312), [1, 0]), (('conv1', 2313), [1, 0]), (('conv1', 2314), [1, 0]), (('conv1', 2315), [1, 0]), (('conv1', 2316), [1, 0]), (('conv1', 2317), [1, 0]), (('conv1', 2318), [1, 0]), (('conv1', 2319), [1, 0]), (('conv1', 2320), [1, 0]), (('conv1', 2321), [1, 0]), (('conv1', 2322), [1, 0]), (('conv1', 2323), [1, 0]), (('conv1', 2324), [1, 0]), (('conv1', 2325), [1, 0]), (('conv1', 2326), [1, 0]), (('conv1', 2327), [1, 0]), (('conv1', 2328), [1, 0]), (('conv1', 2329), [1, 0]), (('conv1', 2330), [1, 0]), (('conv1', 2331), [1, 0]), (('conv1', 2332), [1, 0]), (('conv1', 2333), [1, 0]), (('conv1', 2334), [1, 0]), (('conv1', 2335), [1, 0]), (('conv1', 2336), [1, 0]), (('conv1', 2337), [1, 0]), (('conv1', 2338), [1, 0]), (('conv1', 2339), [1, 0]), (('conv1', 2340), [1, 0]), (('conv1', 2341), [1, 0]), (('conv1', 2342), [1, 0]), (('conv1', 2343), [1, 0]), (('conv1', 2344), [1, 0]), (('conv1', 2345), [1, 0]), (('conv1', 2346), [1, 0]), (('conv1', 2347), [1, 0]), (('conv1', 2348), [1, 0]), (('conv1', 2349), [1, 0]), (('conv1', 2350), [1, 0]), (('conv1', 2351), [1, 0]), (('conv1', 2352), [1, 0]), (('conv1', 2353), [1, 0]), (('conv1', 2354), [1, 0]), (('conv1', 2355), [1, 0]), (('conv1', 2356), [1, 0]), (('conv1', 2357), [1, 0]), (('conv1', 2358), [1, 0]), (('conv1', 2359), [1, 0]), (('conv1', 2360), [1, 0]), (('conv1', 2361), [1, 0]), (('conv1', 2362), [1, 0]), (('conv1', 2363), [1, 0]), (('conv1', 2364), [1, 0]), (('conv1', 2365), [1, 0]), (('conv1', 2366), [1, 0]), (('conv1', 2367), [1, 0]), (('conv1', 2368), [1, 0]), (('conv1', 2369), [1, 0]), (('conv1', 2370), [1, 0]), (('conv1', 2371), [1, 0]), (('conv1', 2372), [1, 0]), (('conv1', 2373), [1, 0]), (('conv1', 2374), [1, 0]), (('conv1', 2375), [1, 0]), (('conv1', 2376), [1, 0]), (('conv1', 2377), [1, 0]), (('conv1', 2378), [1, 0]), (('conv1', 2379), [1, 0]), (('conv1', 2380), [1, 0]), (('conv1', 2381), [1, 0]), (('conv1', 2382), [1, 0]), (('conv1', 2383), [1, 0]), (('conv1', 2384), [1, 0]), (('conv1', 2385), [1, 0]), (('conv1', 2386), [1, 0]), (('conv1', 2387), [1, 0]), (('conv1', 2388), [1, 0]), (('conv1', 2389), [1, 0]), (('conv1', 2390), [1, 0]), (('conv1', 2391), [1, 0]), (('conv1', 2392), [1, 0]), (('conv1', 2393), [1, 0]), (('conv1', 2394), [1, 0]), (('conv1', 2395), [1, 0]), (('conv1', 2396), [1, 0]), (('conv1', 2397), [1, 0]), (('conv1', 2398), [1, 0]), (('conv1', 2399), [1, 0]), (('conv1', 2400), [1, 0]), (('conv1', 2401), [1, 0]), (('conv1', 2402), [1, 0]), (('conv1', 2403), [1, 0]), (('conv1', 2404), [1, 0]), (('conv1', 2405), [1, 0]), (('conv1', 2406), [1, 0]), (('conv1', 2407), [1, 0]), (('conv1', 2408), [1, 0]), (('conv1', 2409), [1, 0]), (('conv1', 2410), [1, 0]), (('conv1', 2411), [1, 0]), (('conv1', 2412), [1, 0]), (('conv1', 2413), [1, 0]), (('conv1', 2414), [1, 0]), (('conv1', 2415), [1, 0]), (('conv1', 2416), [1, 0]), (('conv1', 2417), [1, 0]), (('conv1', 2418), [1, 0]), (('conv1', 2419), [1, 0]), (('conv1', 2420), [1, 0]), (('conv1', 2421), [1, 0]), (('conv1', 2422), [1, 0]), (('conv1', 2423), [1, 0]), (('conv1', 2424), [1, 0]), (('conv1', 2425), [1, 0]), (('conv1', 2426), [1, 0]), (('conv1', 2427), [1, 0]), (('conv1', 2428), [1, 0]), (('conv1', 2429), [1, 0]), (('conv1', 2430), [1, 0]), (('conv1', 2431), [1, 0]), (('conv1', 2432), [1, 0]), (('conv1', 2433), [1, 0]), (('conv1', 2434), [1, 0]), (('conv1', 2435), [1, 0]), (('conv1', 2436), [1, 0]), (('conv1', 2437), [1, 0]), (('conv1', 2438), [1, 0]), (('conv1', 2439), [1, 0]), (('conv1', 2440), [1, 0]), (('conv1', 2441), [1, 0]), (('conv1', 2442), [1, 0]), (('conv1', 2443), [1, 0]), (('conv1', 2444), [1, 0]), (('conv1', 2445), [1, 0]), (('conv1', 2446), [1, 0]), (('conv1', 2447), [1, 0]), (('conv1', 2448), [1, 0]), (('conv1', 2449), [1, 0]), (('conv1', 2450), [1, 0]), (('conv1', 2451), [1, 0]), (('conv1', 2452), [1, 0]), (('conv1', 2453), [1, 0]), (('conv1', 2454), [1, 0]), (('conv1', 2455), [1, 0]), (('conv1', 2456), [1, 0]), (('conv1', 2457), [1, 0]), (('conv1', 2458), [1, 0]), (('conv1', 2459), [1, 0]), (('conv1', 2460), [1, 0]), (('conv1', 2461), [1, 0]), (('conv1', 2462), [1, 0]), (('conv1', 2463), [1, 0]), (('conv1', 2464), [1, 0]), (('conv1', 2465), [1, 0]), (('conv1', 2466), [1, 0]), (('conv1', 2467), [1, 0]), (('conv1', 2468), [1, 0]), (('conv1', 2469), [1, 0]), (('conv1', 2470), [1, 0]), (('conv1', 2471), [1, 0]), (('conv1', 2472), [1, 0]), (('conv1', 2473), [1, 0]), (('conv1', 2474), [1, 0]), (('conv1', 2475), [1, 0]), (('conv1', 2476), [1, 0]), (('conv1', 2477), [1, 0]), (('conv1', 2478), [1, 0]), (('conv1', 2479), [1, 0]), (('conv1', 2480), [1, 0]), (('conv1', 2481), [1, 0]), (('conv1', 2482), [1, 0]), (('conv1', 2483), [1, 0]), (('conv1', 2484), [1, 0]), (('conv1', 2485), [1, 0]), (('conv1', 2486), [1, 0]), (('conv1', 2487), [1, 0]), (('conv1', 2488), [1, 0]), (('conv1', 2489), [1, 0]), (('conv1', 2490), [1, 0]), (('conv1', 2491), [1, 0]), (('conv1', 2492), [1, 0]), (('conv1', 2493), [1, 0]), (('conv1', 2494), [1, 0]), (('conv1', 2495), [1, 0]), (('conv1', 2496), [1, 0]), (('conv1', 2497), [1, 0]), (('conv1', 2498), [1, 0]), (('conv1', 2499), [1, 0]), (('conv1', 2500), [1, 0]), (('conv1', 2501), [1, 0]), (('conv1', 2502), [1, 0]), (('conv1', 2503), [1, 0]), (('conv1', 2504), [1, 0]), (('conv1', 2505), [1, 0]), (('conv1', 2506), [1, 0]), (('conv1', 2507), [1, 0]), (('conv1', 2508), [1, 0]), (('conv1', 2509), [1, 0]), (('conv1', 2510), [1, 0]), (('conv1', 2511), [1, 0]), (('conv1', 2512), [1, 0]), (('conv1', 2513), [1, 0]), (('conv1', 2514), [1, 0]), (('conv1', 2515), [1, 0]), (('conv1', 2516), [1, 0]), (('conv1', 2517), [1, 0]), (('conv1', 2518), [1, 0]), (('conv1', 2519), [1, 0]), (('conv1', 2520), [1, 0]), (('conv1', 2521), [1, 0]), (('conv1', 2522), [1, 0]), (('conv1', 2523), [1, 0]), (('conv1', 2524), [1, 0]), (('conv1', 2525), [1, 0]), (('conv1', 2526), [1, 0]), (('conv1', 2527), [1, 0]), (('conv1', 2528), [1, 0]), (('conv1', 2529), [1, 0]), (('conv1', 2530), [1, 0]), (('conv1', 2531), [1, 0]), (('conv1', 2532), [1, 0]), (('conv1', 2533), [1, 0]), (('conv1', 2534), [1, 0]), (('conv1', 2535), [1, 0]), (('conv1', 2536), [1, 0]), (('conv1', 2537), [1, 0]), (('conv1', 2538), [1, 0]), (('conv1', 2539), [1, 0]), (('conv1', 2540), [1, 0]), (('conv1', 2541), [1, 0]), (('conv1', 2542), [1, 0]), (('conv1', 2543), [1, 0]), (('conv1', 2544), [1, 0]), (('conv1', 2545), [1, 0]), (('conv1', 2546), [1, 0]), (('conv1', 2547), [1, 0]), (('conv1', 2548), [1, 0]), (('conv1', 2549), [1, 0]), (('conv1', 2550), [1, 0]), (('conv1', 2551), [1, 0]), (('conv1', 2552), [1, 0]), (('conv1', 2553), [1, 0]), (('conv1', 2554), [1, 0]), (('conv1', 2555), [1, 0]), (('conv1', 2556), [1, 0]), (('conv1', 2557), [1, 0]), (('conv1', 2558), [1, 0]), (('conv1', 2559), [1, 0]), (('conv1', 2560), [1, 0]), (('conv1', 2561), [1, 0]), (('conv1', 2562), [1, 0]), (('conv1', 2563), [1, 0]), (('conv1', 2564), [1, 0]), (('conv1', 2565), [1, 0]), (('conv1', 2566), [1, 0]), (('conv1', 2567), [1, 0]), (('conv1', 2568), [1, 0]), (('conv1', 2569), [1, 0]), (('conv1', 2570), [1, 0]), (('conv1', 2571), [1, 0]), (('conv1', 2572), [1, 0]), (('conv1', 2573), [1, 0]), (('conv1', 2574), [1, 0]), (('conv1', 2575), [1, 0]), (('conv1', 2576), [1, 0]), (('conv1', 2577), [1, 0]), (('conv1', 2578), [1, 0]), (('conv1', 2579), [1, 0]), (('conv1', 2580), [1, 0]), (('conv1', 2581), [1, 0]), (('conv1', 2582), [1, 0]), (('conv1', 2583), [1, 0]), (('conv1', 2584), [1, 0]), (('conv1', 2585), [1, 0]), (('conv1', 2586), [1, 0]), (('conv1', 2587), [1, 0]), (('conv1', 2588), [1, 0]), (('conv1', 2589), [1, 0]), (('conv1', 2590), [1, 0]), (('conv1', 2591), [1, 0]), (('conv1', 2592), [1, 0]), (('conv1', 2593), [1, 0]), (('conv1', 2594), [1, 0]), (('conv1', 2595), [1, 0]), (('conv1', 2596), [1, 0]), (('conv1', 2597), [1, 0]), (('conv1', 2598), [1, 0]), (('conv1', 2599), [1, 0]), (('conv1', 2600), [1, 0]), (('conv1', 2601), [1, 0]), (('conv1', 2602), [1, 0]), (('conv1', 2603), [1, 0]), (('conv1', 2604), [1, 0]), (('conv1', 2605), [1, 0]), (('conv1', 2606), [1, 0]), (('conv1', 2607), [1, 0]), (('conv1', 2608), [1, 0]), (('conv1', 2609), [1, 0]), (('conv1', 2610), [1, 0]), (('conv1', 2611), [1, 0]), (('conv1', 2612), [1, 0]), (('conv1', 2613), [1, 0]), (('conv1', 2614), [1, 0]), (('conv1', 2615), [1, 0]), (('conv1', 2616), [1, 0]), (('conv1', 2617), [1, 0]), (('conv1', 2618), [1, 0]), (('conv1', 2619), [1, 0]), (('conv1', 2620), [1, 0]), (('conv1', 2621), [1, 0]), (('conv1', 2622), [1, 0]), (('conv1', 2623), [1, 0]), (('conv1', 2624), [1, 0]), (('conv1', 2625), [1, 0]), (('conv1', 2626), [1, 0]), (('conv1', 2627), [1, 0]), (('conv1', 2628), [1, 0]), (('conv1', 2629), [1, 0]), (('conv1', 2630), [1, 0]), (('conv1', 2631), [1, 0]), (('conv1', 2632), [1, 0]), (('conv1', 2633), [1, 0]), (('conv1', 2634), [1, 0]), (('conv1', 2635), [1, 0]), (('conv1', 2636), [1, 0]), (('conv1', 2637), [1, 0]), (('conv1', 2638), [1, 0]), (('conv1', 2639), [1, 0]), (('conv1', 2640), [1, 0]), (('conv1', 2641), [1, 0]), (('conv1', 2642), [1, 0]), (('conv1', 2643), [1, 0]), (('conv1', 2644), [1, 0]), (('conv1', 2645), [1, 0]), (('conv1', 2646), [1, 0]), (('conv1', 2647), [1, 0]), (('conv1', 2648), [1, 0]), (('conv1', 2649), [1, 0]), (('conv1', 2650), [1, 0]), (('conv1', 2651), [1, 0]), (('conv1', 2652), [1, 0]), (('conv1', 2653), [1, 0]), (('conv1', 2654), [1, 0]), (('conv1', 2655), [1, 0]), (('conv1', 2656), [1, 0]), (('conv1', 2657), [1, 0]), (('conv1', 2658), [1, 0]), (('conv1', 2659), [1, 0]), (('conv1', 2660), [1, 0]), (('conv1', 2661), [1, 0]), (('conv1', 2662), [1, 0]), (('conv1', 2663), [1, 0]), (('conv1', 2664), [1, 0]), (('conv1', 2665), [1, 0]), (('conv1', 2666), [1, 0]), (('conv1', 2667), [1, 0]), (('conv1', 2668), [1, 0]), (('conv1', 2669), [1, 0]), (('conv1', 2670), [1, 0]), (('conv1', 2671), [1, 0]), (('conv1', 2672), [1, 0]), (('conv1', 2673), [1, 0]), (('conv1', 2674), [1, 0]), (('conv1', 2675), [1, 0]), (('conv1', 2676), [1, 0]), (('conv1', 2677), [1, 0]), (('conv1', 2678), [1, 0]), (('conv1', 2679), [1, 0]), (('conv1', 2680), [1, 0]), (('conv1', 2681), [1, 0]), (('conv1', 2682), [1, 0]), (('conv1', 2683), [1, 0]), (('conv1', 2684), [1, 0]), (('conv1', 2685), [1, 0]), (('conv1', 2686), [1, 0]), (('conv1', 2687), [1, 0]), (('conv1', 2688), [1, 0]), (('conv1', 2689), [1, 0]), (('conv1', 2690), [1, 0]), (('conv1', 2691), [1, 0]), (('conv1', 2692), [1, 0]), (('conv1', 2693), [1, 0]), (('conv1', 2694), [1, 0]), (('conv1', 2695), [1, 0]), (('conv1', 2696), [1, 0]), (('conv1', 2697), [1, 0]), (('conv1', 2698), [1, 0]), (('conv1', 2699), [1, 0]), (('conv1', 2700), [1, 0]), (('conv1', 2701), [1, 0]), (('conv1', 2702), [1, 0]), (('conv1', 2703), [1, 0]), (('conv1', 2704), [1, 0]), (('conv1', 2705), [1, 0]), (('conv1', 2706), [1, 0]), (('conv1', 2707), [1, 0]), (('conv1', 2708), [1, 0]), (('conv1', 2709), [1, 0]), (('conv1', 2710), [1, 0]), (('conv1', 2711), [1, 0]), (('conv1', 2712), [1, 0]), (('conv1', 2713), [1, 0]), (('conv1', 2714), [1, 0]), (('conv1', 2715), [1, 0]), (('conv1', 2716), [1, 0]), (('conv1', 2717), [1, 0]), (('conv1', 2718), [1, 0]), (('conv1', 2719), [1, 0]), (('conv1', 2720), [1, 0]), (('conv1', 2721), [1, 0]), (('conv1', 2722), [1, 0]), (('conv1', 2723), [1, 0]), (('conv1', 2724), [1, 0]), (('conv1', 2725), [1, 0]), (('conv1', 2726), [1, 0]), (('conv1', 2727), [1, 0]), (('conv1', 2728), [1, 0]), (('conv1', 2729), [1, 0]), (('conv1', 2730), [1, 0]), (('conv1', 2731), [1, 0]), (('conv1', 2732), [1, 0]), (('conv1', 2733), [1, 0]), (('conv1', 2734), [1, 0]), (('conv1', 2735), [1, 0]), (('conv1', 2736), [1, 0]), (('conv1', 2737), [1, 0]), (('conv1', 2738), [1, 0]), (('conv1', 2739), [1, 0]), (('conv1', 2740), [1, 0]), (('conv1', 2741), [1, 0]), (('conv1', 2742), [1, 0]), (('conv1', 2743), [1, 0]), (('conv1', 2744), [1, 0]), (('conv1', 2745), [1, 0]), (('conv1', 2746), [1, 0]), (('conv1', 2747), [1, 0]), (('conv1', 2748), [1, 0]), (('conv1', 2749), [1, 0]), (('conv1', 2750), [1, 0]), (('conv1', 2751), [1, 0]), (('conv1', 2752), [1, 0]), (('conv1', 2753), [1, 0]), (('conv1', 2754), [1, 0]), (('conv1', 2755), [1, 0]), (('conv1', 2756), [1, 0]), (('conv1', 2757), [1, 0]), (('conv1', 2758), [1, 0]), (('conv1', 2759), [1, 0]), (('conv1', 2760), [1, 0]), (('conv1', 2761), [1, 0]), (('conv1', 2762), [1, 0]), (('conv1', 2763), [1, 0]), (('conv1', 2764), [1, 0]), (('conv1', 2765), [1, 0]), (('conv1', 2766), [1, 0]), (('conv1', 2767), [1, 0]), (('conv1', 2768), [1, 0]), (('conv1', 2769), [1, 0]), (('conv1', 2770), [1, 0]), (('conv1', 2771), [1, 0]), (('conv1', 2772), [1, 0]), (('conv1', 2773), [1, 0]), (('conv1', 2774), [1, 0]), (('conv1', 2775), [1, 0]), (('conv1', 2776), [1, 0]), (('conv1', 2777), [1, 0]), (('conv1', 2778), [1, 0]), (('conv1', 2779), [1, 0]), (('conv1', 2780), [1, 0]), (('conv1', 2781), [1, 0]), (('conv1', 2782), [1, 0]), (('conv1', 2783), [1, 0]), (('conv1', 2784), [1, 0]), (('conv1', 2785), [1, 0]), (('conv1', 2786), [1, 0]), (('conv1', 2787), [1, 0]), (('conv1', 2788), [1, 0]), (('conv1', 2789), [1, 0]), (('conv1', 2790), [1, 0]), (('conv1', 2791), [1, 0]), (('conv1', 2792), [1, 0]), (('conv1', 2793), [1, 0]), (('conv1', 2794), [1, 0]), (('conv1', 2795), [1, 0]), (('conv1', 2796), [1, 0]), (('conv1', 2797), [1, 0]), (('conv1', 2798), [1, 0]), (('conv1', 2799), [1, 0]), (('conv1', 2800), [1, 0]), (('conv1', 2801), [1, 0]), (('conv1', 2802), [1, 0]), (('conv1', 2803), [1, 0]), (('conv1', 2804), [1, 0]), (('conv1', 2805), [1, 0]), (('conv1', 2806), [1, 0]), (('conv1', 2807), [1, 0]), (('conv1', 2808), [1, 0]), (('conv1', 2809), [1, 0]), (('conv1', 2810), [1, 0]), (('conv1', 2811), [1, 0]), (('conv1', 2812), [1, 0]), (('conv1', 2813), [1, 0]), (('conv1', 2814), [1, 0]), (('conv1', 2815), [1, 0]), (('conv1', 2816), [1, 0]), (('conv1', 2817), [1, 0]), (('conv1', 2818), [1, 0]), (('conv1', 2819), [1, 0]), (('conv1', 2820), [1, 0]), (('conv1', 2821), [1, 0]), (('conv1', 2822), [1, 0]), (('conv1', 2823), [1, 0]), (('conv1', 2824), [1, 0]), (('conv1', 2825), [1, 0]), (('conv1', 2826), [1, 0]), (('conv1', 2827), [1, 0]), (('conv1', 2828), [1, 0]), (('conv1', 2829), [1, 0]), (('conv1', 2830), [1, 0]), (('conv1', 2831), [1, 0]), (('conv1', 2832), [1, 0]), (('conv1', 2833), [1, 0]), (('conv1', 2834), [1, 0]), (('conv1', 2835), [1, 0]), (('conv1', 2836), [1, 0]), (('conv1', 2837), [1, 0]), (('conv1', 2838), [1, 0]), (('conv1', 2839), [1, 0]), (('conv1', 2840), [1, 0]), (('conv1', 2841), [1, 0]), (('conv1', 2842), [1, 0]), (('conv1', 2843), [1, 0]), (('conv1', 2844), [1, 0]), (('conv1', 2845), [1, 0]), (('conv1', 2846), [1, 0]), (('conv1', 2847), [1, 0]), (('conv1', 2848), [1, 0]), (('conv1', 2849), [1, 0]), (('conv1', 2850), [1, 0]), (('conv1', 2851), [1, 0]), (('conv1', 2852), [1, 0]), (('conv1', 2853), [1, 0]), (('conv1', 2854), [1, 0]), (('conv1', 2855), [1, 0]), (('conv1', 2856), [1, 0]), (('conv1', 2857), [1, 0]), (('conv1', 2858), [1, 0]), (('conv1', 2859), [1, 0]), (('conv1', 2860), [1, 0]), (('conv1', 2861), [1, 0]), (('conv1', 2862), [1, 0]), (('conv1', 2863), [1, 0]), (('conv1', 2864), [1, 0]), (('conv1', 2865), [1, 0]), (('conv1', 2866), [1, 0]), (('conv1', 2867), [1, 0]), (('conv1', 2868), [1, 0]), (('conv1', 2869), [1, 0]), (('conv1', 2870), [1, 0]), (('conv1', 2871), [1, 0]), (('conv1', 2872), [1, 0]), (('conv1', 2873), [1, 0]), (('conv1', 2874), [1, 0]), (('conv1', 2875), [1, 0]), (('conv1', 2876), [1, 0]), (('conv1', 2877), [1, 0]), (('conv1', 2878), [1, 0]), (('conv1', 2879), [1, 0]), (('conv1', 2880), [1, 0]), (('conv1', 2881), [1, 0]), (('conv1', 2882), [1, 0]), (('conv1', 2883), [1, 0]), (('conv1', 2884), [1, 0]), (('conv1', 2885), [1, 0]), (('conv1', 2886), [1, 0]), (('conv1', 2887), [1, 0]), (('conv1', 2888), [1, 0]), (('conv1', 2889), [1, 0]), (('conv1', 2890), [1, 0]), (('conv1', 2891), [1, 0]), (('conv1', 2892), [1, 0]), (('conv1', 2893), [1, 0]), (('conv1', 2894), [1, 0]), (('conv1', 2895), [1, 0]), (('conv1', 2896), [1, 0]), (('conv1', 2897), [1, 0]), (('conv1', 2898), [1, 0]), (('conv1', 2899), [1, 0]), (('conv1', 2900), [1, 0]), (('conv1', 2901), [1, 0]), (('conv1', 2902), [1, 0]), (('conv1', 2903), [1, 0]), (('conv1', 2904), [1, 0]), (('conv1', 2905), [1, 0]), (('conv1', 2906), [1, 0]), (('conv1', 2907), [1, 0]), (('conv1', 2908), [1, 0]), (('conv1', 2909), [1, 0]), (('conv1', 2910), [1, 0]), (('conv1', 2911), [1, 0]), (('conv1', 2912), [1, 0]), (('conv1', 2913), [1, 0]), (('conv1', 2914), [1, 0]), (('conv1', 2915), [1, 0]), (('conv1', 2916), [1, 0]), (('conv1', 2917), [1, 0]), (('conv1', 2918), [1, 0]), (('conv1', 2919), [1, 0]), (('conv1', 2920), [1, 0]), (('conv1', 2921), [1, 0]), (('conv1', 2922), [1, 0]), (('conv1', 2923), [1, 0]), (('conv1', 2924), [1, 0]), (('conv1', 2925), [1, 0]), (('conv1', 2926), [1, 0]), (('conv1', 2927), [1, 0]), (('conv1', 2928), [1, 0]), (('conv1', 2929), [1, 0]), (('conv1', 2930), [1, 0]), (('conv1', 2931), [1, 0]), (('conv1', 2932), [1, 0]), (('conv1', 2933), [1, 0]), (('conv1', 2934), [1, 0]), (('conv1', 2935), [1, 0]), (('conv1', 2936), [1, 0]), (('conv1', 2937), [1, 0]), (('conv1', 2938), [1, 0]), (('conv1', 2939), [1, 0]), (('conv1', 2940), [1, 0]), (('conv1', 2941), [1, 0]), (('conv1', 2942), [1, 0]), (('conv1', 2943), [1, 0]), (('conv1', 2944), [1, 0]), (('conv1', 2945), [1, 0]), (('conv1', 2946), [1, 0]), (('conv1', 2947), [1, 0]), (('conv1', 2948), [1, 0]), (('conv1', 2949), [1, 0]), (('conv1', 2950), [1, 0]), (('conv1', 2951), [1, 0]), (('conv1', 2952), [1, 0]), (('conv1', 2953), [1, 0]), (('conv1', 2954), [1, 0]), (('conv1', 2955), [1, 0]), (('conv1', 2956), [1, 0]), (('conv1', 2957), [1, 0]), (('conv1', 2958), [1, 0]), (('conv1', 2959), [1, 0]), (('conv1', 2960), [1, 0]), (('conv1', 2961), [1, 0]), (('conv1', 2962), [1, 0]), (('conv1', 2963), [1, 0]), (('conv1', 2964), [1, 0]), (('conv1', 2965), [1, 0]), (('conv1', 2966), [1, 0]), (('conv1', 2967), [1, 0]), (('conv1', 2968), [1, 0]), (('conv1', 2969), [1, 0]), (('conv1', 2970), [1, 0]), (('conv1', 2971), [1, 0]), (('conv1', 2972), [1, 0]), (('conv1', 2973), [1, 0]), (('conv1', 2974), [1, 0]), (('conv1', 2975), [1, 0]), (('conv1', 2976), [1, 0]), (('conv1', 2977), [1, 0]), (('conv1', 2978), [1, 0]), (('conv1', 2979), [1, 0]), (('conv1', 2980), [1, 0]), (('conv1', 2981), [1, 0]), (('conv1', 2982), [1, 0]), (('conv1', 2983), [1, 0]), (('conv1', 2984), [1, 0]), (('conv1', 2985), [1, 0]), (('conv1', 2986), [1, 0]), (('conv1', 2987), [1, 0]), (('conv1', 2988), [1, 0]), (('conv1', 2989), [1, 0]), (('conv1', 2990), [1, 0]), (('conv1', 2991), [1, 0]), (('conv1', 2992), [1, 0]), (('conv1', 2993), [1, 0]), (('conv1', 2994), [1, 0]), (('conv1', 2995), [1, 0]), (('conv1', 2996), [1, 0]), (('conv1', 2997), [1, 0]), (('conv1', 2998), [1, 0]), (('conv1', 2999), [1, 0]), (('conv1', 3000), [1, 0]), (('conv1', 3001), [1, 0]), (('conv1', 3002), [1, 0]), (('conv1', 3003), [1, 0]), (('conv1', 3004), [1, 0]), (('conv1', 3005), [1, 0]), (('conv1', 3006), [1, 0]), (('conv1', 3007), [1, 0]), (('conv1', 3008), [1, 0]), (('conv1', 3009), [1, 0]), (('conv1', 3010), [1, 0]), (('conv1', 3011), [1, 0]), (('conv1', 3012), [1, 0]), (('conv1', 3013), [1, 0]), (('conv1', 3014), [1, 0]), (('conv1', 3015), [1, 0]), (('conv1', 3016), [1, 0]), (('conv1', 3017), [1, 0]), (('conv1', 3018), [1, 0]), (('conv1', 3019), [1, 0]), (('conv1', 3020), [1, 0]), (('conv1', 3021), [1, 0]), (('conv1', 3022), [1, 0]), (('conv1', 3023), [1, 0]), (('conv1', 3024), [1, 0]), (('conv1', 3025), [1, 0]), (('conv1', 3026), [1, 0]), (('conv1', 3027), [1, 0]), (('conv1', 3028), [1, 0]), (('conv1', 3029), [1, 0]), (('conv1', 3030), [1, 0]), (('conv1', 3031), [1, 0]), (('conv1', 3032), [1, 0]), (('conv1', 3033), [1, 0]), (('conv1', 3034), [1, 0]), (('conv1', 3035), [1, 0]), (('conv1', 3036), [1, 0]), (('conv1', 3037), [1, 0]), (('conv1', 3038), [1, 0]), (('conv1', 3039), [1, 0]), (('conv1', 3040), [1, 0]), (('conv1', 3041), [1, 0]), (('conv1', 3042), [1, 0]), (('conv1', 3043), [1, 0]), (('conv1', 3044), [1, 0]), (('conv1', 3045), [1, 0]), (('conv1', 3046), [1, 0]), (('conv1', 3047), [1, 0]), (('conv1', 3048), [1, 0]), (('conv1', 3049), [1, 0]), (('conv1', 3050), [1, 0]), (('conv1', 3051), [1, 0]), (('conv1', 3052), [1, 0]), (('conv1', 3053), [1, 0]), (('conv1', 3054), [1, 0]), (('conv1', 3055), [1, 0]), (('conv1', 3056), [1, 0]), (('conv1', 3057), [1, 0]), (('conv1', 3058), [1, 0]), (('conv1', 3059), [1, 0]), (('conv1', 3060), [1, 0]), (('conv1', 3061), [1, 0]), (('conv1', 3062), [1, 0]), (('conv1', 3063), [1, 0]), (('conv1', 3064), [1, 0]), (('conv1', 3065), [1, 0]), (('conv1', 3066), [1, 0]), (('conv1', 3067), [1, 0]), (('conv1', 3068), [1, 0]), (('conv1', 3069), [1, 0]), (('conv1', 3070), [1, 0]), (('conv1', 3071), [1, 0]), (('conv1', 3072), [1, 0]), (('conv1', 3073), [1, 0]), (('conv1', 3074), [1, 0]), (('conv1', 3075), [1, 0]), (('conv1', 3076), [1, 0]), (('conv1', 3077), [1, 0]), (('conv1', 3078), [1, 0]), (('conv1', 3079), [1, 0]), (('conv1', 3080), [1, 0]), (('conv1', 3081), [1, 0]), (('conv1', 3082), [1, 0]), (('conv1', 3083), [1, 0]), (('conv1', 3084), [1, 0]), (('conv1', 3085), [1, 0]), (('conv1', 3086), [1, 0]), (('conv1', 3087), [1, 0]), (('conv1', 3088), [1, 0]), (('conv1', 3089), [1, 0]), (('conv1', 3090), [1, 0]), (('conv1', 3091), [1, 0]), (('conv1', 3092), [1, 0]), (('conv1', 3093), [1, 0]), (('conv1', 3094), [1, 0]), (('conv1', 3095), [1, 0]), (('conv1', 3096), [1, 0]), (('conv1', 3097), [1, 0]), (('conv1', 3098), [1, 0]), (('conv1', 3099), [1, 0]), (('conv1', 3100), [1, 0]), (('conv1', 3101), [1, 0]), (('conv1', 3102), [1, 0]), (('conv1', 3103), [1, 0]), (('conv1', 3104), [1, 0]), (('conv1', 3105), [1, 0]), (('conv1', 3106), [1, 0]), (('conv1', 3107), [1, 0]), (('conv1', 3108), [1, 0]), (('conv1', 3109), [1, 0]), (('conv1', 3110), [1, 0]), (('conv1', 3111), [1, 0]), (('conv1', 3112), [1, 0]), (('conv1', 3113), [1, 0]), (('conv1', 3114), [1, 0]), (('conv1', 3115), [1, 0]), (('conv1', 3116), [1, 0]), (('conv1', 3117), [1, 0]), (('conv1', 3118), [1, 0]), (('conv1', 3119), [1, 0]), (('conv1', 3120), [1, 0]), (('conv1', 3121), [1, 0]), (('conv1', 3122), [1, 0]), (('conv1', 3123), [1, 0]), (('conv1', 3124), [1, 0]), (('conv1', 3125), [1, 0]), (('conv1', 3126), [1, 0]), (('conv1', 3127), [1, 0]), (('conv1', 3128), [1, 0]), (('conv1', 3129), [1, 0]), (('conv1', 3130), [1, 0]), (('conv1', 3131), [1, 0]), (('conv1', 3132), [1, 0]), (('conv1', 3133), [1, 0]), (('conv1', 3134), [1, 0]), (('conv1', 3135), [1, 0]), (('conv1', 3136), [1, 0]), (('conv1', 3137), [1, 0]), (('conv1', 3138), [1, 0]), (('conv1', 3139), [1, 0]), (('conv1', 3140), [1, 0]), (('conv1', 3141), [1, 0]), (('conv1', 3142), [1, 0]), (('conv1', 3143), [1, 0]), (('conv1', 3144), [1, 0]), (('conv1', 3145), [1, 0]), (('conv1', 3146), [1, 0]), (('conv1', 3147), [1, 0]), (('conv1', 3148), [1, 0]), (('conv1', 3149), [1, 0]), (('conv1', 3150), [1, 0]), (('conv1', 3151), [1, 0]), (('conv1', 3152), [1, 0]), (('conv1', 3153), [1, 0]), (('conv1', 3154), [1, 0]), (('conv1', 3155), [1, 0]), (('conv1', 3156), [1, 0]), (('conv1', 3157), [1, 0]), (('conv1', 3158), [1, 0]), (('conv1', 3159), [1, 0]), (('conv1', 3160), [1, 0]), (('conv1', 3161), [1, 0]), (('conv1', 3162), [1, 0]), (('conv1', 3163), [1, 0]), (('conv1', 3164), [1, 0]), (('conv1', 3165), [1, 0]), (('conv1', 3166), [1, 0]), (('conv1', 3167), [1, 0]), (('conv1', 3168), [1, 0]), (('conv1', 3169), [1, 0]), (('conv1', 3170), [1, 0]), (('conv1', 3171), [1, 0]), (('conv1', 3172), [1, 0]), (('conv1', 3173), [1, 0]), (('conv1', 3174), [1, 0]), (('conv1', 3175), [1, 0]), (('conv1', 3176), [1, 0]), (('conv1', 3177), [1, 0]), (('conv1', 3178), [1, 0]), (('conv1', 3179), [1, 0]), (('conv1', 3180), [1, 0]), (('conv1', 3181), [1, 0]), (('conv1', 3182), [1, 0]), (('conv1', 3183), [1, 0]), (('conv1', 3184), [1, 0]), (('conv1', 3185), [1, 0]), (('conv1', 3186), [1, 0]), (('conv1', 3187), [1, 0]), (('conv1', 3188), [1, 0]), (('conv1', 3189), [1, 0]), (('conv1', 3190), [1, 0]), (('conv1', 3191), [1, 0]), (('conv1', 3192), [1, 0]), (('conv1', 3193), [1, 0]), (('conv1', 3194), [1, 0]), (('conv1', 3195), [1, 0]), (('conv1', 3196), [1, 0]), (('conv1', 3197), [1, 0]), (('conv1', 3198), [1, 0]), (('conv1', 3199), [1, 0]), (('conv1', 3200), [1, 0]), (('conv1', 3201), [1, 0]), (('conv1', 3202), [1, 0]), (('conv1', 3203), [1, 0]), (('conv1', 3204), [1, 0]), (('conv1', 3205), [1, 0]), (('conv1', 3206), [1, 0]), (('conv1', 3207), [1, 0]), (('conv1', 3208), [1, 0]), (('conv1', 3209), [1, 0]), (('conv1', 3210), [1, 0]), (('conv1', 3211), [1, 0]), (('conv1', 3212), [1, 0]), (('conv1', 3213), [1, 0]), (('conv1', 3214), [1, 0]), (('conv1', 3215), [1, 0]), (('conv1', 3216), [1, 0]), (('conv1', 3217), [1, 0]), (('conv1', 3218), [1, 0]), (('conv1', 3219), [1, 0]), (('conv1', 3220), [1, 0]), (('conv1', 3221), [1, 0]), (('conv1', 3222), [1, 0]), (('conv1', 3223), [1, 0]), (('conv1', 3224), [1, 0]), (('conv1', 3225), [1, 0]), (('conv1', 3226), [1, 0]), (('conv1', 3227), [1, 0]), (('conv1', 3228), [1, 0]), (('conv1', 3229), [1, 0]), (('conv1', 3230), [1, 0]), (('conv1', 3231), [1, 0]), (('conv1', 3232), [1, 0]), (('conv1', 3233), [1, 0]), (('conv1', 3234), [1, 0]), (('conv1', 3235), [1, 0]), (('conv1', 3236), [1, 0]), (('conv1', 3237), [1, 0]), (('conv1', 3238), [1, 0]), (('conv1', 3239), [1, 0]), (('conv1', 3240), [1, 0]), (('conv1', 3241), [1, 0]), (('conv1', 3242), [1, 0]), (('conv1', 3243), [1, 0]), (('conv1', 3244), [1, 0]), (('conv1', 3245), [1, 0]), (('conv1', 3246), [1, 0]), (('conv1', 3247), [1, 0]), (('conv1', 3248), [1, 0]), (('conv1', 3249), [1, 0]), (('conv1', 3250), [1, 0]), (('conv1', 3251), [1, 0]), (('conv1', 3252), [1, 0]), (('conv1', 3253), [1, 0]), (('conv1', 3254), [1, 0]), (('conv1', 3255), [1, 0]), (('conv1', 3256), [1, 0]), (('conv1', 3257), [1, 0]), (('conv1', 3258), [1, 0]), (('conv1', 3259), [1, 0]), (('conv1', 3260), [1, 0]), (('conv1', 3261), [1, 0]), (('conv1', 3262), [1, 0]), (('conv1', 3263), [1, 0]), (('conv1', 3264), [1, 0]), (('conv1', 3265), [1, 0]), (('conv1', 3266), [1, 0]), (('conv1', 3267), [1, 0]), (('conv1', 3268), [1, 0]), (('conv1', 3269), [1, 0]), (('conv1', 3270), [1, 0]), (('conv1', 3271), [1, 0]), (('conv1', 3272), [1, 0]), (('conv1', 3273), [1, 0]), (('conv1', 3274), [1, 0]), (('conv1', 3275), [1, 0]), (('conv1', 3276), [1, 0]), (('conv1', 3277), [1, 0]), (('conv1', 3278), [1, 0]), (('conv1', 3279), [1, 0]), (('conv1', 3280), [1, 0]), (('conv1', 3281), [1, 0]), (('conv1', 3282), [1, 0]), (('conv1', 3283), [1, 0]), (('conv1', 3284), [1, 0]), (('conv1', 3285), [1, 0]), (('conv1', 3286), [1, 0]), (('conv1', 3287), [1, 0]), (('conv1', 3288), [1, 0]), (('conv1', 3289), [1, 0]), (('conv1', 3290), [1, 0]), (('conv1', 3291), [1, 0]), (('conv1', 3292), [1, 0]), (('conv1', 3293), [1, 0]), (('conv1', 3294), [1, 0]), (('conv1', 3295), [1, 0]), (('conv1', 3296), [1, 0]), (('conv1', 3297), [1, 0]), (('conv1', 3298), [1, 0]), (('conv1', 3299), [1, 0]), (('conv1', 3300), [1, 0]), (('conv1', 3301), [1, 0]), (('conv1', 3302), [1, 0]), (('conv1', 3303), [1, 0]), (('conv1', 3304), [1, 0]), (('conv1', 3305), [1, 0]), (('conv1', 3306), [1, 0]), (('conv1', 3307), [1, 0]), (('conv1', 3308), [1, 0]), (('conv1', 3309), [1, 0]), (('conv1', 3310), [1, 0]), (('conv1', 3311), [1, 0]), (('conv1', 3312), [1, 0]), (('conv1', 3313), [1, 0]), (('conv1', 3314), [1, 0]), (('conv1', 3315), [1, 0]), (('conv1', 3316), [1, 0]), (('conv1', 3317), [1, 0]), (('conv1', 3318), [1, 0]), (('conv1', 3319), [1, 0]), (('conv1', 3320), [1, 0]), (('conv1', 3321), [1, 0]), (('conv1', 3322), [1, 0]), (('conv1', 3323), [1, 0]), (('conv1', 3324), [1, 0]), (('conv1', 3325), [1, 0]), (('conv1', 3326), [1, 0]), (('conv1', 3327), [1, 0]), (('conv1', 3328), [1, 0]), (('conv1', 3329), [1, 0]), (('conv1', 3330), [1, 0]), (('conv1', 3331), [1, 0]), (('conv1', 3332), [1, 0]), (('conv1', 3333), [1, 0]), (('conv1', 3334), [1, 0]), (('conv1', 3335), [1, 0]), (('conv1', 3336), [1, 0]), (('conv1', 3337), [1, 0]), (('conv1', 3338), [1, 0]), (('conv1', 3339), [1, 0]), (('conv1', 3340), [1, 0]), (('conv1', 3341), [1, 0]), (('conv1', 3342), [1, 0]), (('conv1', 3343), [1, 0]), (('conv1', 3344), [1, 0]), (('conv1', 3345), [1, 0]), (('conv1', 3346), [1, 0]), (('conv1', 3347), [1, 0]), (('conv1', 3348), [1, 0]), (('conv1', 3349), [1, 0]), (('conv1', 3350), [1, 0]), (('conv1', 3351), [1, 0]), (('conv1', 3352), [1, 0]), (('conv1', 3353), [1, 0]), (('conv1', 3354), [1, 0]), (('conv1', 3355), [1, 0]), (('conv1', 3356), [1, 0]), (('conv1', 3357), [1, 0]), (('conv1', 3358), [1, 0]), (('conv1', 3359), [1, 0]), (('conv1', 3360), [1, 0]), (('conv1', 3361), [1, 0]), (('conv1', 3362), [1, 0]), (('conv1', 3363), [1, 0]), (('conv1', 3364), [1, 0]), (('conv1', 3365), [1, 0]), (('conv1', 3366), [1, 0]), (('conv1', 3367), [1, 0]), (('conv1', 3368), [1, 0]), (('conv1', 3369), [1, 0]), (('conv1', 3370), [1, 0]), (('conv1', 3371), [1, 0]), (('conv1', 3372), [1, 0]), (('conv1', 3373), [1, 0]), (('conv1', 3374), [1, 0]), (('conv1', 3375), [1, 0]), (('conv1', 3376), [1, 0]), (('conv1', 3377), [1, 0]), (('conv1', 3378), [1, 0]), (('conv1', 3379), [1, 0]), (('conv1', 3380), [1, 0]), (('conv1', 3381), [1, 0]), (('conv1', 3382), [1, 0]), (('conv1', 3383), [1, 0]), (('conv1', 3384), [1, 0]), (('conv1', 3385), [1, 0]), (('conv1', 3386), [1, 0]), (('conv1', 3387), [1, 0]), (('conv1', 3388), [1, 0]), (('conv1', 3389), [1, 0]), (('conv1', 3390), [1, 0]), (('conv1', 3391), [1, 0]), (('conv1', 3392), [1, 0]), (('conv1', 3393), [1, 0]), (('conv1', 3394), [1, 0]), (('conv1', 3395), [1, 0]), (('conv1', 3396), [1, 0]), (('conv1', 3397), [1, 0]), (('conv1', 3398), [1, 0]), (('conv1', 3399), [1, 0]), (('conv1', 3400), [1, 0]), (('conv1', 3401), [1, 0]), (('conv1', 3402), [1, 0]), (('conv1', 3403), [1, 0]), (('conv1', 3404), [1, 0]), (('conv1', 3405), [1, 0]), (('conv1', 3406), [1, 0]), (('conv1', 3407), [1, 0]), (('conv1', 3408), [1, 0]), (('conv1', 3409), [1, 0]), (('conv1', 3410), [1, 0]), (('conv1', 3411), [1, 0]), (('conv1', 3412), [1, 0]), (('conv1', 3413), [1, 0]), (('conv1', 3414), [1, 0]), (('conv1', 3415), [1, 0]), (('conv1', 3416), [1, 0]), (('conv1', 3417), [1, 0]), (('conv1', 3418), [1, 0]), (('conv1', 3419), [1, 0]), (('conv1', 3420), [1, 0]), (('conv1', 3421), [1, 0]), (('conv1', 3422), [1, 0]), (('conv1', 3423), [1, 0]), (('conv1', 3424), [1, 0]), (('conv1', 3425), [1, 0]), (('conv1', 3426), [1, 0]), (('conv1', 3427), [1, 0]), (('conv1', 3428), [1, 0]), (('conv1', 3429), [1, 0]), (('conv1', 3430), [1, 0]), (('conv1', 3431), [1, 0]), (('conv1', 3432), [1, 0]), (('conv1', 3433), [1, 0]), (('conv1', 3434), [1, 0]), (('conv1', 3435), [1, 0]), (('conv1', 3436), [1, 0]), (('conv1', 3437), [1, 0]), (('conv1', 3438), [1, 0]), (('conv1', 3439), [1, 0]), (('conv1', 3440), [1, 0]), (('conv1', 3441), [1, 0]), (('conv1', 3442), [1, 0]), (('conv1', 3443), [1, 0]), (('conv1', 3444), [1, 0]), (('conv1', 3445), [1, 0]), (('conv1', 3446), [1, 0]), (('conv1', 3447), [1, 0]), (('conv1', 3448), [1, 0]), (('conv1', 3449), [1, 0]), (('conv1', 3450), [1, 0]), (('conv1', 3451), [1, 0]), (('conv1', 3452), [1, 0]), (('conv1', 3453), [1, 0]), (('conv1', 3454), [1, 0]), (('conv1', 3455), [1, 0]), (('conv2', 0), [1, 0]), (('conv2', 1), [1, 0]), (('conv2', 2), [1, 0]), (('conv2', 3), [1, 0]), (('conv2', 4), [1, 0]), (('conv2', 5), [1, 0]), (('conv2', 6), [1, 0]), (('conv2', 7), [1, 0]), (('conv2', 8), [1, 0]), (('conv2', 9), [1, 0]), (('conv2', 10), [1, 0]), (('conv2', 11), [1, 0]), (('conv2', 12), [1, 0]), (('conv2', 13), [1, 0]), (('conv2', 14), [1, 0]), (('conv2', 15), [1, 0]), (('conv2', 16), [1, 0]), (('conv2', 17), [1, 0]), (('conv2', 18), [1, 0]), (('conv2', 19), [1, 0]), (('conv2', 20), [1, 0]), (('conv2', 21), [1, 0]), (('conv2', 22), [1, 0]), (('conv2', 23), [1, 0]), (('conv2', 24), [1, 0]), (('conv2', 25), [1, 0]), (('conv2', 26), [1, 0]), (('conv2', 27), [1, 0]), (('conv2', 28), [1, 0]), (('conv2', 29), [1, 0]), (('conv2', 30), [1, 0]), (('conv2', 31), [1, 0]), (('conv2', 32), [1, 0]), (('conv2', 33), [1, 0]), (('conv2', 34), [1, 0]), (('conv2', 35), [1, 0]), (('conv2', 36), [1, 0]), (('conv2', 37), [1, 0]), (('conv2', 38), [1, 0]), (('conv2', 39), [1, 0]), (('conv2', 40), [1, 0]), (('conv2', 41), [1, 0]), (('conv2', 42), [1, 0]), (('conv2', 43), [1, 0]), (('conv2', 44), [1, 0]), (('conv2', 45), [1, 0]), (('conv2', 46), [1, 0]), (('conv2', 47), [1, 0]), (('conv2', 48), [1, 0]), (('conv2', 49), [1, 0]), (('conv2', 50), [1, 0]), (('conv2', 51), [1, 0]), (('conv2', 52), [1, 0]), (('conv2', 53), [1, 0]), (('conv2', 54), [1, 0]), (('conv2', 55), [1, 0]), (('conv2', 56), [1, 0]), (('conv2', 57), [1, 0]), (('conv2', 58), [1, 0]), (('conv2', 59), [1, 0]), (('conv2', 60), [1, 0]), (('conv2', 61), [1, 0]), (('conv2', 62), [1, 0]), (('conv2', 63), [1, 0]), (('conv2', 64), [1, 0]), (('conv2', 65), [1, 0]), (('conv2', 66), [1, 0]), (('conv2', 67), [1, 0]), (('conv2', 68), [1, 0]), (('conv2', 69), [1, 0]), (('conv2', 70), [1, 0]), (('conv2', 71), [1, 0]), (('conv2', 72), [1, 0]), (('conv2', 73), [1, 0]), (('conv2', 74), [1, 0]), (('conv2', 75), [1, 0]), (('conv2', 76), [1, 0]), (('conv2', 77), [1, 0]), (('conv2', 78), [1, 0]), (('conv2', 79), [1, 0]), (('conv2', 80), [1, 0]), (('conv2', 81), [1, 0]), (('conv2', 82), [1, 0]), (('conv2', 83), [1, 0]), (('conv2', 84), [1, 0]), (('conv2', 85), [1, 0]), (('conv2', 86), [1, 0]), (('conv2', 87), [1, 0]), (('conv2', 88), [1, 0]), (('conv2', 89), [1, 0]), (('conv2', 90), [1, 0]), (('conv2', 91), [1, 0]), (('conv2', 92), [1, 0]), (('conv2', 93), [1, 0]), (('conv2', 94), [1, 0]), (('conv2', 95), [1, 0]), (('conv2', 96), [1, 0]), (('conv2', 97), [1, 0]), (('conv2', 98), [1, 0]), (('conv2', 99), [1, 0]), (('conv2', 100), [1, 0]), (('conv2', 101), [1, 0]), (('conv2', 102), [1, 0]), (('conv2', 103), [1, 0]), (('conv2', 104), [1, 0]), (('conv2', 105), [1, 0]), (('conv2', 106), [1, 0]), (('conv2', 107), [1, 0]), (('conv2', 108), [1, 0]), (('conv2', 109), [1, 0]), (('conv2', 110), [1, 0]), (('conv2', 111), [1, 0]), (('conv2', 112), [1, 0]), (('conv2', 113), [1, 0]), (('conv2', 114), [1, 0]), (('conv2', 115), [1, 0]), (('conv2', 116), [1, 0]), (('conv2', 117), [1, 0]), (('conv2', 118), [1, 0]), (('conv2', 119), [1, 0]), (('conv2', 120), [1, 0]), (('conv2', 121), [1, 0]), (('conv2', 122), [1, 0]), (('conv2', 123), [1, 0]), (('conv2', 124), [1, 0]), (('conv2', 125), [1, 0]), (('conv2', 126), [1, 0]), (('conv2', 127), [1, 0]), (('conv2', 128), [1, 0]), (('conv2', 129), [1, 0]), (('conv2', 130), [1, 0]), (('conv2', 131), [1, 0]), (('conv2', 132), [1, 0]), (('conv2', 133), [1, 0]), (('conv2', 134), [1, 0]), (('conv2', 135), [1, 0]), (('conv2', 136), [1, 0]), (('conv2', 137), [1, 0]), (('conv2', 138), [1, 0]), (('conv2', 139), [1, 0]), (('conv2', 140), [1, 0]), (('conv2', 141), [1, 0]), (('conv2', 142), [1, 0]), (('conv2', 143), [1, 0]), (('conv2', 144), [1, 0]), (('conv2', 145), [1, 0]), (('conv2', 146), [1, 0]), (('conv2', 147), [1, 0]), (('conv2', 148), [1, 0]), (('conv2', 149), [1, 0]), (('conv2', 150), [1, 0]), (('conv2', 151), [1, 0]), (('conv2', 152), [1, 0]), (('conv2', 153), [1, 0]), (('conv2', 154), [1, 0]), (('conv2', 155), [1, 0]), (('conv2', 156), [1, 0]), (('conv2', 157), [1, 0]), (('conv2', 158), [1, 0]), (('conv2', 159), [1, 0]), (('conv2', 160), [1, 0]), (('conv2', 161), [1, 0]), (('conv2', 162), [1, 0]), (('conv2', 163), [1, 0]), (('conv2', 164), [1, 0]), (('conv2', 165), [1, 0]), (('conv2', 166), [1, 0]), (('conv2', 167), [1, 0]), (('conv2', 168), [1, 0]), (('conv2', 169), [1, 0]), (('conv2', 170), [1, 0]), (('conv2', 171), [1, 0]), (('conv2', 172), [1, 0]), (('conv2', 173), [1, 0]), (('conv2', 174), [1, 0]), (('conv2', 175), [1, 0]), (('conv2', 176), [1, 0]), (('conv2', 177), [1, 0]), (('conv2', 178), [1, 0]), (('conv2', 179), [1, 0]), (('conv2', 180), [1, 0]), (('conv2', 181), [1, 0]), (('conv2', 182), [1, 0]), (('conv2', 183), [1, 0]), (('conv2', 184), [1, 0]), (('conv2', 185), [1, 0]), (('conv2', 186), [1, 0]), (('conv2', 187), [1, 0]), (('conv2', 188), [1, 0]), (('conv2', 189), [1, 0]), (('conv2', 190), [1, 0]), (('conv2', 191), [1, 0]), (('conv2', 192), [1, 0]), (('conv2', 193), [1, 0]), (('conv2', 194), [1, 0]), (('conv2', 195), [1, 0]), (('conv2', 196), [1, 0]), (('conv2', 197), [1, 0]), (('conv2', 198), [1, 0]), (('conv2', 199), [1, 0]), (('conv2', 200), [1, 0]), (('conv2', 201), [1, 0]), (('conv2', 202), [1, 0]), (('conv2', 203), [1, 0]), (('conv2', 204), [1, 0]), (('conv2', 205), [1, 0]), (('conv2', 206), [1, 0]), (('conv2', 207), [1, 0]), (('conv2', 208), [1, 0]), (('conv2', 209), [1, 0]), (('conv2', 210), [1, 0]), (('conv2', 211), [1, 0]), (('conv2', 212), [1, 0]), (('conv2', 213), [1, 0]), (('conv2', 214), [1, 0]), (('conv2', 215), [1, 0]), (('conv2', 216), [1, 0]), (('conv2', 217), [1, 0]), (('conv2', 218), [1, 0]), (('conv2', 219), [1, 0]), (('conv2', 220), [1, 0]), (('conv2', 221), [1, 0]), (('conv2', 222), [1, 0]), (('conv2', 223), [1, 0]), (('conv2', 224), [1, 0]), (('conv2', 225), [1, 0]), (('conv2', 226), [1, 0]), (('conv2', 227), [1, 0]), (('conv2', 228), [1, 0]), (('conv2', 229), [1, 0]), (('conv2', 230), [1, 0]), (('conv2', 231), [1, 0]), (('conv2', 232), [1, 0]), (('conv2', 233), [1, 0]), (('conv2', 234), [1, 0]), (('conv2', 235), [1, 0]), (('conv2', 236), [1, 0]), (('conv2', 237), [1, 0]), (('conv2', 238), [1, 0]), (('conv2', 239), [1, 0]), (('conv2', 240), [1, 0]), (('conv2', 241), [1, 0]), (('conv2', 242), [1, 0]), (('conv2', 243), [1, 0]), (('conv2', 244), [1, 0]), (('conv2', 245), [1, 0]), (('conv2', 246), [1, 0]), (('conv2', 247), [1, 0]), (('conv2', 248), [1, 0]), (('conv2', 249), [1, 0]), (('conv2', 250), [1, 0]), (('conv2', 251), [1, 0]), (('conv2', 252), [1, 0]), (('conv2', 253), [1, 0]), (('conv2', 254), [1, 0]), (('conv2', 255), [1, 0]), (('conv2', 256), [1, 0]), (('conv2', 257), [1, 0]), (('conv2', 258), [1, 0]), (('conv2', 259), [1, 0]), (('conv2', 260), [1, 0]), (('conv2', 261), [1, 0]), (('conv2', 262), [1, 0]), (('conv2', 263), [1, 0]), (('conv2', 264), [1, 0]), (('conv2', 265), [1, 0]), (('conv2', 266), [1, 0]), (('conv2', 267), [1, 0]), (('conv2', 268), [1, 0]), (('conv2', 269), [1, 0]), (('conv2', 270), [1, 0]), (('conv2', 271), [1, 0]), (('conv2', 272), [1, 0]), (('conv2', 273), [1, 0]), (('conv2', 274), [1, 0]), (('conv2', 275), [1, 0]), (('conv2', 276), [1, 0]), (('conv2', 277), [1, 0]), (('conv2', 278), [1, 0]), (('conv2', 279), [1, 0]), (('conv2', 280), [1, 0]), (('conv2', 281), [1, 0]), (('conv2', 282), [1, 0]), (('conv2', 283), [1, 0]), (('conv2', 284), [1, 0]), (('conv2', 285), [1, 0]), (('conv2', 286), [1, 0]), (('conv2', 287), [1, 0]), (('conv2', 288), [1, 0]), (('conv2', 289), [1, 0]), (('conv2', 290), [1, 0]), (('conv2', 291), [1, 0]), (('conv2', 292), [1, 0]), (('conv2', 293), [1, 0]), (('conv2', 294), [1, 0]), (('conv2', 295), [1, 0]), (('conv2', 296), [1, 0]), (('conv2', 297), [1, 0]), (('conv2', 298), [1, 0]), (('conv2', 299), [1, 0]), (('conv2', 300), [1, 0]), (('conv2', 301), [1, 0]), (('conv2', 302), [1, 0]), (('conv2', 303), [1, 0]), (('conv2', 304), [1, 0]), (('conv2', 305), [1, 0]), (('conv2', 306), [1, 0]), (('conv2', 307), [1, 0]), (('conv2', 308), [1, 0]), (('conv2', 309), [1, 0]), (('conv2', 310), [1, 0]), (('conv2', 311), [1, 0]), (('conv2', 312), [1, 0]), (('conv2', 313), [1, 0]), (('conv2', 314), [1, 0]), (('conv2', 315), [1, 0]), (('conv2', 316), [1, 0]), (('conv2', 317), [1, 0]), (('conv2', 318), [1, 0]), (('conv2', 319), [1, 0]), (('conv2', 320), [1, 0]), (('conv2', 321), [1, 0]), (('conv2', 322), [1, 0]), (('conv2', 323), [1, 0]), (('conv2', 324), [1, 0]), (('conv2', 325), [1, 0]), (('conv2', 326), [1, 0]), (('conv2', 327), [1, 0]), (('conv2', 328), [1, 0]), (('conv2', 329), [1, 0]), (('conv2', 330), [1, 0]), (('conv2', 331), [1, 0]), (('conv2', 332), [1, 0]), (('conv2', 333), [1, 0]), (('conv2', 334), [1, 0]), (('conv2', 335), [1, 0]), (('conv2', 336), [1, 0]), (('conv2', 337), [1, 0]), (('conv2', 338), [1, 0]), (('conv2', 339), [1, 0]), (('conv2', 340), [1, 0]), (('conv2', 341), [1, 0]), (('conv2', 342), [1, 0]), (('conv2', 343), [1, 0]), (('conv2', 344), [1, 0]), (('conv2', 345), [1, 0]), (('conv2', 346), [1, 0]), (('conv2', 347), [1, 0]), (('conv2', 348), [1, 0]), (('conv2', 349), [1, 0]), (('conv2', 350), [1, 0]), (('conv2', 351), [1, 0]), (('conv2', 352), [1, 0]), (('conv2', 353), [1, 0]), (('conv2', 354), [1, 0]), (('conv2', 355), [1, 0]), (('conv2', 356), [1, 0]), (('conv2', 357), [1, 0]), (('conv2', 358), [1, 0]), (('conv2', 359), [1, 0]), (('conv2', 360), [1, 0]), (('conv2', 361), [1, 0]), (('conv2', 362), [1, 0]), (('conv2', 363), [1, 0]), (('conv2', 364), [1, 0]), (('conv2', 365), [1, 0]), (('conv2', 366), [1, 0]), (('conv2', 367), [1, 0]), (('conv2', 368), [1, 0]), (('conv2', 369), [1, 0]), (('conv2', 370), [1, 0]), (('conv2', 371), [1, 0]), (('conv2', 372), [1, 0]), (('conv2', 373), [1, 0]), (('conv2', 374), [1, 0]), (('conv2', 375), [1, 0]), (('conv2', 376), [1, 0]), (('conv2', 377), [1, 0]), (('conv2', 378), [1, 0]), (('conv2', 379), [1, 0]), (('conv2', 380), [1, 0]), (('conv2', 381), [1, 0]), (('conv2', 382), [1, 0]), (('conv2', 383), [1, 0]), (('conv2', 384), [1, 0]), (('conv2', 385), [1, 0]), (('conv2', 386), [1, 0]), (('conv2', 387), [1, 0]), (('conv2', 388), [1, 0]), (('conv2', 389), [1, 0]), (('conv2', 390), [1, 0]), (('conv2', 391), [1, 0]), (('conv2', 392), [1, 0]), (('conv2', 393), [1, 0]), (('conv2', 394), [1, 0]), (('conv2', 395), [1, 0]), (('conv2', 396), [1, 0]), (('conv2', 397), [1, 0]), (('conv2', 398), [1, 0]), (('conv2', 399), [1, 0]), (('conv2', 400), [1, 0]), (('conv2', 401), [1, 0]), (('conv2', 402), [1, 0]), (('conv2', 403), [1, 0]), (('conv2', 404), [1, 0]), (('conv2', 405), [1, 0]), (('conv2', 406), [1, 0]), (('conv2', 407), [1, 0]), (('conv2', 408), [1, 0]), (('conv2', 409), [1, 0]), (('conv2', 410), [1, 0]), (('conv2', 411), [1, 0]), (('conv2', 412), [1, 0]), (('conv2', 413), [1, 0]), (('conv2', 414), [1, 0]), (('conv2', 415), [1, 0]), (('conv2', 416), [1, 0]), (('conv2', 417), [1, 0]), (('conv2', 418), [1, 0]), (('conv2', 419), [1, 0]), (('conv2', 420), [1, 0]), (('conv2', 421), [1, 0]), (('conv2', 422), [1, 0]), (('conv2', 423), [1, 0]), (('conv2', 424), [1, 0]), (('conv2', 425), [1, 0]), (('conv2', 426), [1, 0]), (('conv2', 427), [1, 0]), (('conv2', 428), [1, 0]), (('conv2', 429), [1, 0]), (('conv2', 430), [1, 0]), (('conv2', 431), [1, 0]), (('conv2', 432), [1, 0]), (('conv2', 433), [1, 0]), (('conv2', 434), [1, 0]), (('conv2', 435), [1, 0]), (('conv2', 436), [1, 0]), (('conv2', 437), [1, 0]), (('conv2', 438), [1, 0]), (('conv2', 439), [1, 0]), (('conv2', 440), [1, 0]), (('conv2', 441), [1, 0]), (('conv2', 442), [1, 0]), (('conv2', 443), [1, 0]), (('conv2', 444), [1, 0]), (('conv2', 445), [1, 0]), (('conv2', 446), [1, 0]), (('conv2', 447), [1, 0]), (('conv2', 448), [1, 0]), (('conv2', 449), [1, 0]), (('conv2', 450), [1, 0]), (('conv2', 451), [1, 0]), (('conv2', 452), [1, 0]), (('conv2', 453), [1, 0]), (('conv2', 454), [1, 0]), (('conv2', 455), [1, 0]), (('conv2', 456), [1, 0]), (('conv2', 457), [1, 0]), (('conv2', 458), [1, 0]), (('conv2', 459), [1, 0]), (('conv2', 460), [1, 0]), (('conv2', 461), [1, 0]), (('conv2', 462), [1, 0]), (('conv2', 463), [1, 0]), (('conv2', 464), [1, 0]), (('conv2', 465), [1, 0]), (('conv2', 466), [1, 0]), (('conv2', 467), [1, 0]), (('conv2', 468), [1, 0]), (('conv2', 469), [1, 0]), (('conv2', 470), [1, 0]), (('conv2', 471), [1, 0]), (('conv2', 472), [1, 0]), (('conv2', 473), [1, 0]), (('conv2', 474), [1, 0]), (('conv2', 475), [1, 0]), (('conv2', 476), [1, 0]), (('conv2', 477), [1, 0]), (('conv2', 478), [1, 0]), (('conv2', 479), [1, 0]), (('conv2', 480), [1, 0]), (('conv2', 481), [1, 0]), (('conv2', 482), [1, 0]), (('conv2', 483), [1, 0]), (('conv2', 484), [1, 0]), (('conv2', 485), [1, 0]), (('conv2', 486), [1, 0]), (('conv2', 487), [1, 0]), (('conv2', 488), [1, 0]), (('conv2', 489), [1, 0]), (('conv2', 490), [1, 0]), (('conv2', 491), [1, 0]), (('conv2', 492), [1, 0]), (('conv2', 493), [1, 0]), (('conv2', 494), [1, 0]), (('conv2', 495), [1, 0]), (('conv2', 496), [1, 0]), (('conv2', 497), [1, 0]), (('conv2', 498), [1, 0]), (('conv2', 499), [1, 0]), (('conv2', 500), [1, 0]), (('conv2', 501), [1, 0]), (('conv2', 502), [1, 0]), (('conv2', 503), [1, 0]), (('conv2', 504), [1, 0]), (('conv2', 505), [1, 0]), (('conv2', 506), [1, 0]), (('conv2', 507), [1, 0]), (('conv2', 508), [1, 0]), (('conv2', 509), [1, 0]), (('conv2', 510), [1, 0]), (('conv2', 511), [1, 0]), (('conv2', 512), [1, 0]), (('conv2', 513), [1, 0]), (('conv2', 514), [1, 0]), (('conv2', 515), [1, 0]), (('conv2', 516), [1, 0]), (('conv2', 517), [1, 0]), (('conv2', 518), [1, 0]), (('conv2', 519), [1, 0]), (('conv2', 520), [1, 0]), (('conv2', 521), [1, 0]), (('conv2', 522), [1, 0]), (('conv2', 523), [1, 0]), (('conv2', 524), [1, 0]), (('conv2', 525), [1, 0]), (('conv2', 526), [1, 0]), (('conv2', 527), [1, 0]), (('conv2', 528), [1, 0]), (('conv2', 529), [1, 0]), (('conv2', 530), [1, 0]), (('conv2', 531), [1, 0]), (('conv2', 532), [1, 0]), (('conv2', 533), [1, 0]), (('conv2', 534), [1, 0]), (('conv2', 535), [1, 0]), (('conv2', 536), [1, 0]), (('conv2', 537), [1, 0]), (('conv2', 538), [1, 0]), (('conv2', 539), [1, 0]), (('conv2', 540), [1, 0]), (('conv2', 541), [1, 0]), (('conv2', 542), [1, 0]), (('conv2', 543), [1, 0]), (('conv2', 544), [1, 0]), (('conv2', 545), [1, 0]), (('conv2', 546), [1, 0]), (('conv2', 547), [1, 0]), (('conv2', 548), [1, 0]), (('conv2', 549), [1, 0]), (('conv2', 550), [1, 0]), (('conv2', 551), [1, 0]), (('conv2', 552), [1, 0]), (('conv2', 553), [1, 0]), (('conv2', 554), [1, 0]), (('conv2', 555), [1, 0]), (('conv2', 556), [1, 0]), (('conv2', 557), [1, 0]), (('conv2', 558), [1, 0]), (('conv2', 559), [1, 0]), (('conv2', 560), [1, 0]), (('conv2', 561), [1, 0]), (('conv2', 562), [1, 0]), (('conv2', 563), [1, 0]), (('conv2', 564), [1, 0]), (('conv2', 565), [1, 0]), (('conv2', 566), [1, 0]), (('conv2', 567), [1, 0]), (('conv2', 568), [1, 0]), (('conv2', 569), [1, 0]), (('conv2', 570), [1, 0]), (('conv2', 571), [1, 0]), (('conv2', 572), [1, 0]), (('conv2', 573), [1, 0]), (('conv2', 574), [1, 0]), (('conv2', 575), [1, 0]), (('conv2', 576), [1, 0]), (('conv2', 577), [1, 0]), (('conv2', 578), [1, 0]), (('conv2', 579), [1, 0]), (('conv2', 580), [1, 0]), (('conv2', 581), [1, 0]), (('conv2', 582), [1, 0]), (('conv2', 583), [1, 0]), (('conv2', 584), [1, 0]), (('conv2', 585), [1, 0]), (('conv2', 586), [1, 0]), (('conv2', 587), [1, 0]), (('conv2', 588), [1, 0]), (('conv2', 589), [1, 0]), (('conv2', 590), [1, 0]), (('conv2', 591), [1, 0]), (('conv2', 592), [1, 0]), (('conv2', 593), [1, 0]), (('conv2', 594), [1, 0]), (('conv2', 595), [1, 0]), (('conv2', 596), [1, 0]), (('conv2', 597), [1, 0]), (('conv2', 598), [1, 0]), (('conv2', 599), [1, 0]), (('conv2', 600), [1, 0]), (('conv2', 601), [1, 0]), (('conv2', 602), [1, 0]), (('conv2', 603), [1, 0]), (('conv2', 604), [1, 0]), (('conv2', 605), [1, 0]), (('conv2', 606), [1, 0]), (('conv2', 607), [1, 0]), (('conv2', 608), [1, 0]), (('conv2', 609), [1, 0]), (('conv2', 610), [1, 0]), (('conv2', 611), [1, 0]), (('conv2', 612), [1, 0]), (('conv2', 613), [1, 0]), (('conv2', 614), [1, 0]), (('conv2', 615), [1, 0]), (('conv2', 616), [1, 0]), (('conv2', 617), [1, 0]), (('conv2', 618), [1, 0]), (('conv2', 619), [1, 0]), (('conv2', 620), [1, 0]), (('conv2', 621), [1, 0]), (('conv2', 622), [1, 0]), (('conv2', 623), [1, 0]), (('conv2', 624), [1, 0]), (('conv2', 625), [1, 0]), (('conv2', 626), [1, 0]), (('conv2', 627), [1, 0]), (('conv2', 628), [1, 0]), (('conv2', 629), [1, 0]), (('conv2', 630), [1, 0]), (('conv2', 631), [1, 0]), (('conv2', 632), [1, 0]), (('conv2', 633), [1, 0]), (('conv2', 634), [1, 0]), (('conv2', 635), [1, 0]), (('conv2', 636), [1, 0]), (('conv2', 637), [1, 0]), (('conv2', 638), [1, 0]), (('conv2', 639), [1, 0]), (('conv2', 640), [1, 0]), (('conv2', 641), [1, 0]), (('conv2', 642), [1, 0]), (('conv2', 643), [1, 0]), (('conv2', 644), [1, 0]), (('conv2', 645), [1, 0]), (('conv2', 646), [1, 0]), (('conv2', 647), [1, 0]), (('conv2', 648), [1, 0]), (('conv2', 649), [1, 0]), (('conv2', 650), [1, 0]), (('conv2', 651), [1, 0]), (('conv2', 652), [1, 0]), (('conv2', 653), [1, 0]), (('conv2', 654), [1, 0]), (('conv2', 655), [1, 0]), (('conv2', 656), [1, 0]), (('conv2', 657), [1, 0]), (('conv2', 658), [1, 0]), (('conv2', 659), [1, 0]), (('conv2', 660), [1, 0]), (('conv2', 661), [1, 0]), (('conv2', 662), [1, 0]), (('conv2', 663), [1, 0]), (('conv2', 664), [1, 0]), (('conv2', 665), [1, 0]), (('conv2', 666), [1, 0]), (('conv2', 667), [1, 0]), (('conv2', 668), [1, 0]), (('conv2', 669), [1, 0]), (('conv2', 670), [1, 0]), (('conv2', 671), [1, 0]), (('conv2', 672), [1, 0]), (('conv2', 673), [1, 0]), (('conv2', 674), [1, 0]), (('conv2', 675), [1, 0]), (('conv2', 676), [1, 0]), (('conv2', 677), [1, 0]), (('conv2', 678), [1, 0]), (('conv2', 679), [1, 0]), (('conv2', 680), [1, 0]), (('conv2', 681), [1, 0]), (('conv2', 682), [1, 0]), (('conv2', 683), [1, 0]), (('conv2', 684), [1, 0]), (('conv2', 685), [1, 0]), (('conv2', 686), [1, 0]), (('conv2', 687), [1, 0]), (('conv2', 688), [1, 0]), (('conv2', 689), [1, 0]), (('conv2', 690), [1, 0]), (('conv2', 691), [1, 0]), (('conv2', 692), [1, 0]), (('conv2', 693), [1, 0]), (('conv2', 694), [1, 0]), (('conv2', 695), [1, 0]), (('conv2', 696), [1, 0]), (('conv2', 697), [1, 0]), (('conv2', 698), [1, 0]), (('conv2', 699), [1, 0]), (('conv2', 700), [1, 0]), (('conv2', 701), [1, 0]), (('conv2', 702), [1, 0]), (('conv2', 703), [1, 0]), (('conv2', 704), [1, 0]), (('conv2', 705), [1, 0]), (('conv2', 706), [1, 0]), (('conv2', 707), [1, 0]), (('conv2', 708), [1, 0]), (('conv2', 709), [1, 0]), (('conv2', 710), [1, 0]), (('conv2', 711), [1, 0]), (('conv2', 712), [1, 0]), (('conv2', 713), [1, 0]), (('conv2', 714), [1, 0]), (('conv2', 715), [1, 0]), (('conv2', 716), [1, 0]), (('conv2', 717), [1, 0]), (('conv2', 718), [1, 0]), (('conv2', 719), [1, 0]), (('conv2', 720), [1, 0]), (('conv2', 721), [1, 0]), (('conv2', 722), [1, 0]), (('conv2', 723), [1, 0]), (('conv2', 724), [1, 0]), (('conv2', 725), [1, 0]), (('conv2', 726), [1, 0]), (('conv2', 727), [1, 0]), (('conv2', 728), [1, 0]), (('conv2', 729), [1, 0]), (('conv2', 730), [1, 0]), (('conv2', 731), [1, 0]), (('conv2', 732), [1, 0]), (('conv2', 733), [1, 0]), (('conv2', 734), [1, 0]), (('conv2', 735), [1, 0]), (('conv2', 736), [1, 0]), (('conv2', 737), [1, 0]), (('conv2', 738), [1, 0]), (('conv2', 739), [1, 0]), (('conv2', 740), [1, 0]), (('conv2', 741), [1, 0]), (('conv2', 742), [1, 0]), (('conv2', 743), [1, 0]), (('conv2', 744), [1, 0]), (('conv2', 745), [1, 0]), (('conv2', 746), [1, 0]), (('conv2', 747), [1, 0]), (('conv2', 748), [1, 0]), (('conv2', 749), [1, 0]), (('conv2', 750), [1, 0]), (('conv2', 751), [1, 0]), (('conv2', 752), [1, 0]), (('conv2', 753), [1, 0]), (('conv2', 754), [1, 0]), (('conv2', 755), [1, 0]), (('conv2', 756), [1, 0]), (('conv2', 757), [1, 0]), (('conv2', 758), [1, 0]), (('conv2', 759), [1, 0]), (('conv2', 760), [1, 0]), (('conv2', 761), [1, 0]), (('conv2', 762), [1, 0]), (('conv2', 763), [1, 0]), (('conv2', 764), [1, 0]), (('conv2', 765), [1, 0]), (('conv2', 766), [1, 0]), (('conv2', 767), [1, 0]), (('conv2', 768), [1, 0]), (('conv2', 769), [1, 0]), (('conv2', 770), [1, 0]), (('conv2', 771), [1, 0]), (('conv2', 772), [1, 0]), (('conv2', 773), [1, 0]), (('conv2', 774), [1, 0]), (('conv2', 775), [1, 0]), (('conv2', 776), [1, 0]), (('conv2', 777), [1, 0]), (('conv2', 778), [1, 0]), (('conv2', 779), [1, 0]), (('conv2', 780), [1, 0]), (('conv2', 781), [1, 0]), (('conv2', 782), [1, 0]), (('conv2', 783), [1, 0]), (('conv2', 784), [1, 0]), (('conv2', 785), [1, 0]), (('conv2', 786), [1, 0]), (('conv2', 787), [1, 0]), (('conv2', 788), [1, 0]), (('conv2', 789), [1, 0]), (('conv2', 790), [1, 0]), (('conv2', 791), [1, 0]), (('conv2', 792), [1, 0]), (('conv2', 793), [1, 0]), (('conv2', 794), [1, 0]), (('conv2', 795), [1, 0]), (('conv2', 796), [1, 0]), (('conv2', 797), [1, 0]), (('conv2', 798), [1, 0]), (('conv2', 799), [1, 0]), (('conv2', 800), [1, 0]), (('conv2', 801), [1, 0]), (('conv2', 802), [1, 0]), (('conv2', 803), [1, 0]), (('conv2', 804), [1, 0]), (('conv2', 805), [1, 0]), (('conv2', 806), [1, 0]), (('conv2', 807), [1, 0]), (('conv2', 808), [1, 0]), (('conv2', 809), [1, 0]), (('conv2', 810), [1, 0]), (('conv2', 811), [1, 0]), (('conv2', 812), [1, 0]), (('conv2', 813), [1, 0]), (('conv2', 814), [1, 0]), (('conv2', 815), [1, 0]), (('conv2', 816), [1, 0]), (('conv2', 817), [1, 0]), (('conv2', 818), [1, 0]), (('conv2', 819), [1, 0]), (('conv2', 820), [1, 0]), (('conv2', 821), [1, 0]), (('conv2', 822), [1, 0]), (('conv2', 823), [1, 0]), (('conv2', 824), [1, 0]), (('conv2', 825), [1, 0]), (('conv2', 826), [1, 0]), (('conv2', 827), [1, 0]), (('conv2', 828), [1, 0]), (('conv2', 829), [1, 0]), (('conv2', 830), [1, 0]), (('conv2', 831), [1, 0]), (('conv2', 832), [1, 0]), (('conv2', 833), [1, 0]), (('conv2', 834), [1, 0]), (('conv2', 835), [1, 0]), (('conv2', 836), [1, 0]), (('conv2', 837), [1, 0]), (('conv2', 838), [1, 0]), (('conv2', 839), [1, 0]), (('conv2', 840), [1, 0]), (('conv2', 841), [1, 0]), (('conv2', 842), [1, 0]), (('conv2', 843), [1, 0]), (('conv2', 844), [1, 0]), (('conv2', 845), [1, 0]), (('conv2', 846), [1, 0]), (('conv2', 847), [1, 0]), (('conv2', 848), [1, 0]), (('conv2', 849), [1, 0]), (('conv2', 850), [1, 0]), (('conv2', 851), [1, 0]), (('conv2', 852), [1, 0]), (('conv2', 853), [1, 0]), (('conv2', 854), [1, 0]), (('conv2', 855), [1, 0]), (('conv2', 856), [1, 0]), (('conv2', 857), [1, 0]), (('conv2', 858), [1, 0]), (('conv2', 859), [1, 0]), (('conv2', 860), [1, 0]), (('conv2', 861), [1, 0]), (('conv2', 862), [1, 0]), (('conv2', 863), [1, 0]), (('conv2', 864), [1, 0]), (('conv2', 865), [1, 0]), (('conv2', 866), [1, 0]), (('conv2', 867), [1, 0]), (('conv2', 868), [1, 0]), (('conv2', 869), [1, 0]), (('conv2', 870), [1, 0]), (('conv2', 871), [1, 0]), (('conv2', 872), [1, 0]), (('conv2', 873), [1, 0]), (('conv2', 874), [1, 0]), (('conv2', 875), [1, 0]), (('conv2', 876), [1, 0]), (('conv2', 877), [1, 0]), (('conv2', 878), [1, 0]), (('conv2', 879), [1, 0]), (('conv2', 880), [1, 0]), (('conv2', 881), [1, 0]), (('conv2', 882), [1, 0]), (('conv2', 883), [1, 0]), (('conv2', 884), [1, 0]), (('conv2', 885), [1, 0]), (('conv2', 886), [1, 0]), (('conv2', 887), [1, 0]), (('conv2', 888), [1, 0]), (('conv2', 889), [1, 0]), (('conv2', 890), [1, 0]), (('conv2', 891), [1, 0]), (('conv2', 892), [1, 0]), (('conv2', 893), [1, 0]), (('conv2', 894), [1, 0]), (('conv2', 895), [1, 0]), (('conv2', 896), [1, 0]), (('conv2', 897), [1, 0]), (('conv2', 898), [1, 0]), (('conv2', 899), [1, 0]), (('conv2', 900), [1, 0]), (('conv2', 901), [1, 0]), (('conv2', 902), [1, 0]), (('conv2', 903), [1, 0]), (('conv2', 904), [1, 0]), (('conv2', 905), [1, 0]), (('conv2', 906), [1, 0]), (('conv2', 907), [1, 0]), (('conv2', 908), [1, 0]), (('conv2', 909), [1, 0]), (('conv2', 910), [1, 0]), (('conv2', 911), [1, 0]), (('conv2', 912), [1, 0]), (('conv2', 913), [1, 0]), (('conv2', 914), [1, 0]), (('conv2', 915), [1, 0]), (('conv2', 916), [1, 0]), (('conv2', 917), [1, 0]), (('conv2', 918), [1, 0]), (('conv2', 919), [1, 0]), (('conv2', 920), [1, 0]), (('conv2', 921), [1, 0]), (('conv2', 922), [1, 0]), (('conv2', 923), [1, 0]), (('conv2', 924), [1, 0]), (('conv2', 925), [1, 0]), (('conv2', 926), [1, 0]), (('conv2', 927), [1, 0]), (('conv2', 928), [1, 0]), (('conv2', 929), [1, 0]), (('conv2', 930), [1, 0]), (('conv2', 931), [1, 0]), (('conv2', 932), [1, 0]), (('conv2', 933), [1, 0]), (('conv2', 934), [1, 0]), (('conv2', 935), [1, 0]), (('conv2', 936), [1, 0]), (('conv2', 937), [1, 0]), (('conv2', 938), [1, 0]), (('conv2', 939), [1, 0]), (('conv2', 940), [1, 0]), (('conv2', 941), [1, 0]), (('conv2', 942), [1, 0]), (('conv2', 943), [1, 0]), (('conv2', 944), [1, 0]), (('conv2', 945), [1, 0]), (('conv2', 946), [1, 0]), (('conv2', 947), [1, 0]), (('conv2', 948), [1, 0]), (('conv2', 949), [1, 0]), (('conv2', 950), [1, 0]), (('conv2', 951), [1, 0]), (('conv2', 952), [1, 0]), (('conv2', 953), [1, 0]), (('conv2', 954), [1, 0]), (('conv2', 955), [1, 0]), (('conv2', 956), [1, 0]), (('conv2', 957), [1, 0]), (('conv2', 958), [1, 0]), (('conv2', 959), [1, 0]), (('conv2', 960), [1, 0]), (('conv2', 961), [1, 0]), (('conv2', 962), [1, 0]), (('conv2', 963), [1, 0]), (('conv2', 964), [1, 0]), (('conv2', 965), [1, 0]), (('conv2', 966), [1, 0]), (('conv2', 967), [1, 0]), (('conv2', 968), [1, 0]), (('conv2', 969), [1, 0]), (('conv2', 970), [1, 0]), (('conv2', 971), [1, 0]), (('conv2', 972), [1, 0]), (('conv2', 973), [1, 0]), (('conv2', 974), [1, 0]), (('conv2', 975), [1, 0]), (('conv2', 976), [1, 0]), (('conv2', 977), [1, 0]), (('conv2', 978), [1, 0]), (('conv2', 979), [1, 0]), (('conv2', 980), [1, 0]), (('conv2', 981), [1, 0]), (('conv2', 982), [1, 0]), (('conv2', 983), [1, 0]), (('conv2', 984), [1, 0]), (('conv2', 985), [1, 0]), (('conv2', 986), [1, 0]), (('conv2', 987), [1, 0]), (('conv2', 988), [1, 0]), (('conv2', 989), [1, 0]), (('conv2', 990), [1, 0]), (('conv2', 991), [1, 0]), (('conv2', 992), [1, 0]), (('conv2', 993), [1, 0]), (('conv2', 994), [1, 0]), (('conv2', 995), [1, 0]), (('conv2', 996), [1, 0]), (('conv2', 997), [1, 0]), (('conv2', 998), [1, 0]), (('conv2', 999), [1, 0]), (('conv2', 1000), [1, 0]), (('conv2', 1001), [1, 0]), (('conv2', 1002), [1, 0]), (('conv2', 1003), [1, 0]), (('conv2', 1004), [1, 0]), (('conv2', 1005), [1, 0]), (('conv2', 1006), [1, 0]), (('conv2', 1007), [1, 0]), (('conv2', 1008), [1, 0]), (('conv2', 1009), [1, 0]), (('conv2', 1010), [1, 0]), (('conv2', 1011), [1, 0]), (('conv2', 1012), [1, 0]), (('conv2', 1013), [1, 0]), (('conv2', 1014), [1, 0]), (('conv2', 1015), [1, 0]), (('conv2', 1016), [1, 0]), (('conv2', 1017), [1, 0]), (('conv2', 1018), [1, 0]), (('conv2', 1019), [1, 0]), (('conv2', 1020), [1, 0]), (('conv2', 1021), [1, 0]), (('conv2', 1022), [1, 0]), (('conv2', 1023), [1, 0]), (('fc1', 0), [1, 0]), (('fc1', 1), [1, 0]), (('fc1', 2), [1, 0]), (('fc1', 3), [1, 0]), (('fc1', 4), [1, 0]), (('fc1', 5), [1, 0]), (('fc1', 6), [1, 0]), (('fc1', 7), [1, 0]), (('fc1', 8), [1, 0]), (('fc1', 9), [1, 0]), (('fc1', 10), [1, 0]), (('fc1', 11), [1, 0]), (('fc1', 12), [1, 0]), (('fc1', 13), [1, 0]), (('fc1', 14), [1, 0]), (('fc1', 15), [1, 0]), (('fc1', 16), [1, 0]), (('fc1', 17), [1, 0]), (('fc1', 18), [1, 0]), (('fc1', 19), [1, 0]), (('fc1', 20), [1, 0]), (('fc1', 21), [1, 0]), (('fc1', 22), [1, 0]), (('fc1', 23), [1, 0]), (('fc1', 24), [1, 0]), (('fc1', 25), [1, 0]), (('fc1', 26), [1, 0]), (('fc1', 27), [1, 0]), (('fc1', 28), [1, 0]), (('fc1', 29), [1, 0]), (('fc1', 30), [1, 0]), (('fc1', 31), [1, 0]), (('fc1', 32), [1, 0]), (('fc1', 33), [1, 0]), (('fc1', 34), [1, 0]), (('fc1', 35), [1, 0]), (('fc1', 36), [1, 0]), (('fc1', 37), [1, 0]), (('fc1', 38), [1, 0]), (('fc1', 39), [1, 0]), (('fc1', 40), [1, 0]), (('fc1', 41), [1, 0]), (('fc1', 42), [1, 0]), (('fc1', 43), [1, 0]), (('fc1', 44), [1, 0]), (('fc1', 45), [1, 0]), (('fc1', 46), [1, 0]), (('fc1', 47), [1, 0]), (('fc1', 48), [1, 0]), (('fc1', 49), [1, 0]), (('fc1', 50), [1, 0]), (('fc1', 51), [1, 0]), (('fc1', 52), [1, 0]), (('fc1', 53), [1, 0]), (('fc1', 54), [1, 0]), (('fc1', 55), [1, 0]), (('fc1', 56), [1, 0]), (('fc1', 57), [1, 0]), (('fc1', 58), [1, 0]), (('fc1', 59), [1, 0]), (('fc1', 60), [1, 0]), (('fc1', 61), [1, 0]), (('fc1', 62), [1, 0]), (('fc1', 63), [1, 0]), (('fc1', 64), [1, 0]), (('fc1', 65), [1, 0]), (('fc1', 66), [1, 0]), (('fc1', 67), [1, 0]), (('fc1', 68), [1, 0]), (('fc1', 69), [1, 0]), (('fc1', 70), [1, 0]), (('fc1', 71), [1, 0]), (('fc1', 72), [1, 0]), (('fc1', 73), [1, 0]), (('fc1', 74), [1, 0]), (('fc1', 75), [1, 0]), (('fc1', 76), [1, 0]), (('fc1', 77), [1, 0]), (('fc1', 78), [1, 0]), (('fc1', 79), [1, 0]), (('fc1', 80), [1, 0]), (('fc1', 81), [1, 0]), (('fc1', 82), [1, 0]), (('fc1', 83), [1, 0]), (('fc1', 84), [1, 0]), (('fc1', 85), [1, 0]), (('fc1', 86), [1, 0]), (('fc1', 87), [1, 0]), (('fc1', 88), [1, 0]), (('fc1', 89), [1, 0]), (('fc1', 90), [1, 0]), (('fc1', 91), [1, 0]), (('fc1', 92), [1, 0]), (('fc1', 93), [1, 0]), (('fc1', 94), [1, 0]), (('fc1', 95), [1, 0]), (('fc1', 96), [1, 0]), (('fc1', 97), [1, 0]), (('fc1', 98), [1, 0]), (('fc1', 99), [1, 0]), (('fc1', 100), [1, 0]), (('fc1', 101), [1, 0]), (('fc1', 102), [1, 0]), (('fc1', 103), [1, 0]), (('fc1', 104), [1, 0]), (('fc1', 105), [1, 0]), (('fc1', 106), [1, 0]), (('fc1', 107), [1, 0]), (('fc1', 108), [1, 0]), (('fc1', 109), [1, 0]), (('fc1', 110), [1, 0]), (('fc1', 111), [1, 0]), (('fc1', 112), [1, 0]), (('fc1', 113), [1, 0]), (('fc1', 114), [1, 0]), (('fc1', 115), [1, 0]), (('fc1', 116), [1, 0]), (('fc1', 117), [1, 0]), (('fc1', 118), [1, 0]), (('fc1', 119), [1, 0]), (('fc2', 0), [1, 0]), (('fc2', 1), [1, 0]), (('fc2', 2), [1, 0]), (('fc2', 3), [1, 0]), (('fc2', 4), [1, 0]), (('fc2', 5), [1, 0]), (('fc2', 6), [1, 0]), (('fc2', 7), [1, 0]), (('fc2', 8), [1, 0]), (('fc2', 9), [1, 0]), (('fc2', 10), [1, 0]), (('fc2', 11), [1, 0]), (('fc2', 12), [1, 0]), (('fc2', 13), [1, 0]), (('fc2', 14), [1, 0]), (('fc2', 15), [1, 0]), (('fc2', 16), [1, 0]), (('fc2', 17), [1, 0]), (('fc2', 18), [1, 0]), (('fc2', 19), [1, 0]), (('fc2', 20), [1, 0]), (('fc2', 21), [1, 0]), (('fc2', 22), [1, 0]), (('fc2', 23), [1, 0]), (('fc2', 24), [1, 0]), (('fc2', 25), [1, 0]), (('fc2', 26), [1, 0]), (('fc2', 27), [1, 0]), (('fc2', 28), [1, 0]), (('fc2', 29), [1, 0]), (('fc2', 30), [1, 0]), (('fc2', 31), [1, 0]), (('fc2', 32), [1, 0]), (('fc2', 33), [1, 0]), (('fc2', 34), [1, 0]), (('fc2', 35), [1, 0]), (('fc2', 36), [1, 0]), (('fc2', 37), [1, 0]), (('fc2', 38), [1, 0]), (('fc2', 39), [1, 0]), (('fc2', 40), [1, 0]), (('fc2', 41), [1, 0]), (('fc2', 42), [1, 0]), (('fc2', 43), [1, 0]), (('fc2', 44), [1, 0]), (('fc2', 45), [1, 0]), (('fc2', 46), [1, 0]), (('fc2', 47), [1, 0]), (('fc2', 48), [1, 0]), (('fc2', 49), [1, 0]), (('fc2', 50), [1, 0]), (('fc2', 51), [1, 0]), (('fc2', 52), [1, 0]), (('fc2', 53), [1, 0]), (('fc2', 54), [1, 0]), (('fc2', 55), [1, 0]), (('fc2', 56), [1, 0]), (('fc2', 57), [1, 0]), (('fc2', 58), [1, 0]), (('fc2', 59), [1, 0]), (('fc2', 60), [1, 0]), (('fc2', 61), [1, 0]), (('fc2', 62), [1, 0]), (('fc2', 63), [1, 0]), (('fc2', 64), [1, 0]), (('fc2', 65), [1, 0]), (('fc2', 66), [1, 0]), (('fc2', 67), [1, 0]), (('fc2', 68), [1, 0]), (('fc2', 69), [1, 0]), (('fc2', 70), [1, 0]), (('fc2', 71), [1, 0]), (('fc2', 72), [1, 0]), (('fc2', 73), [1, 0]), (('fc2', 74), [1, 0]), (('fc2', 75), [1, 0]), (('fc2', 76), [1, 0]), (('fc2', 77), [1, 0]), (('fc2', 78), [1, 0]), (('fc2', 79), [1, 0]), (('fc2', 80), [1, 0]), (('fc2', 81), [1, 0]), (('fc2', 82), [1, 0]), (('fc2', 83), [1, 0]), (('logits', 0), [1, 0]), (('logits', 1), [1, 0]), (('logits', 2), [1, 0]), (('logits', 3), [1, 0]), (('logits', 4), [1, 0]), (('logits', 5), [1, 0]), (('logits', 6), [1, 0]), (('logits', 7), [1, 0]), (('logits', 8), [1, 0]), (('logits', 9), [1, 0])])\n",
            "Your cov result is 0\n"
          ]
        }
      ],
      "source": [
        "cov_result = compute_NBCov(model, test_loader, train_cov_dict)\n",
        "print(\"Your cov result is {}\".format(cov_result))"
      ]
    },
    {
      "cell_type": "markdown",
      "id": "01bf737a",
      "metadata": {
        "id": "01bf737a"
      },
      "source": [
        "### 2.2 Mutation <font color='red' size=3> (6 points)</font>"
      ]
    },
    {
      "cell_type": "markdown",
      "id": "f0522196",
      "metadata": {
        "id": "f0522196"
      },
      "source": [
        "We have successfully implemented one testing metric. Now let's move to the next task: test generation.\n",
        "\n",
        "As we've mentioned before, the size of test set is usually limited, but it's necessary to have more test cases if we want to know whether the trained DNN works well in a diverse environment. \n",
        "\n",
        "In traditional software testing, there is a technique called [mutation testing](https://en.wikipedia.org/wiki/Mutation_testing). Based on a limited number of initial testing programs (seeds), we can apply mutations (modifying a program in small ways) on them to get more testing cases.\n",
        "\n",
        "In mutation testing, there are two things to keep in mind:\n",
        "\n",
        "1. How to define the mutation operations, so the test cases after mutation is valid.\n",
        "\n",
        "2. What's the expeceted behavior of the system under test for the mutated result?"
      ]
    },
    {
      "cell_type": "markdown",
      "id": "d5d0d9a2",
      "metadata": {
        "id": "d5d0d9a2"
      },
      "source": [
        "#### 2.2.1 Mutation Testing: generate valid test cases <font color='red' size=3> (6 points)</font>"
      ]
    },
    {
      "cell_type": "markdown",
      "id": "9840574d",
      "metadata": {
        "id": "9840574d"
      },
      "source": [
        "#### Mutation on images:\n",
        "\n",
        "Since we are testing an image classifier, we need to search for transformations that are capable of transforming an image while keeping its semantics. There are many choices available, for example:\n",
        "    \n",
        "1. image_brightness: adjust the brightness of image.\n",
        "\n",
        "2. image_noise: add some noise to the image.\n",
        "\n",
        "3. image_scale: scale the image.\n",
        "\n",
        "4. ..."
      ]
    },
    {
      "cell_type": "code",
      "execution_count": null,
      "id": "543d739d",
      "metadata": {
        "id": "543d739d"
      },
      "outputs": [],
      "source": [
        "# Let's see some examples\n",
        "# This is image_scale\n",
        "from all_utils import image_scale\n",
        "seed = np.expand_dims(number_a, 0)\n",
        "result = image_scale(seed, 2)\n",
        "plot_image(result)"
      ]
    },
    {
      "cell_type": "code",
      "execution_count": null,
      "id": "65107b0f",
      "metadata": {
        "id": "65107b0f"
      },
      "outputs": [],
      "source": [
        "# Let's see some examples\n",
        "# This is image_noise\n",
        "from all_utils import image_noise\n",
        "seed = np.expand_dims(number_a, 0)\n",
        "result = image_noise(seed, 1)\n",
        "plot_image(result)"
      ]
    },
    {
      "cell_type": "markdown",
      "id": "f78695d5",
      "metadata": {
        "id": "f78695d5"
      },
      "source": [
        "These transformations are already been implemented, which could be classified as two types: \n",
        "\n",
        "class A (pixel value transformation).\n",
        "\n",
        "class B (Affine transformation)."
      ]
    },
    {
      "cell_type": "code",
      "execution_count": null,
      "id": "3044e352",
      "metadata": {
        "id": "3044e352"
      },
      "outputs": [],
      "source": [
        "from all_utils import Mutators\n",
        "mutator_instance = Mutators()"
      ]
    },
    {
      "cell_type": "code",
      "execution_count": null,
      "id": "208c44a2",
      "metadata": {
        "id": "208c44a2"
      },
      "outputs": [],
      "source": [
        "print(\"===Pixel value transformation===\")\n",
        "for i in mutator_instance.classA:\n",
        "    print(mutator_instance.transformations[i].__name__)\n",
        "print()\n",
        "print(\"===Affine transformation===\")\n",
        "for i in mutator_instance.classB:\n",
        "    print(mutator_instance.transformations[i].__name__)"
      ]
    },
    {
      "cell_type": "markdown",
      "id": "8189bce2",
      "metadata": {
        "id": "8189bce2"
      },
      "source": [
        "We can easily define what is valid test cases for classical software. For example, a program that add `int a` with `int b` should not receive two imaginary numbers as input. But what is \"valid\" for DNN? Let's take a look at some definitions from DeepHunter."
      ]
    },
    {
      "cell_type": "markdown",
      "id": "f90c3808",
      "metadata": {
        "id": "f90c3808"
      },
      "source": [
        "<font color='red' size=3> Definition 5</font> \n",
        "\n",
        "Given an ideal human oracle O and a test x of a specific input domain, we define metamorphic mutation $M$ on $x$, if\n",
        "$\\forall x  \\in M(x)$, we have $O(x') = O(x)$ .\n",
        "\n",
        "This is to say, the metamorphic mutation does not change the semantic of the image. At least human should identify $x$ and $x'$ as the same image"
      ]
    },
    {
      "cell_type": "markdown",
      "id": "1f03d080",
      "metadata": {
        "id": "1f03d080"
      },
      "source": [
        "<font color='red' size=3> Definition 6</font> \n",
        "\n",
        "An image $s'$ is one-time mutated from $s$ if $s'$ is generated after a transformation $t$ on $s$ (denoted as $s \\stackrel{t}{\\longrightarrow}$ $s'$). An image $s'$ is sequentially mutated from s if $s'$ is generated after a sequence of one-time mutations (denoted as $s \\stackrel{t_0, t_1, \\ldots, t_n}{\\longrightarrow}$ $s'$).\n",
        "\n",
        "Allow sequential mutataion can greatly improve the diversity of th testing"
      ]
    },
    {
      "cell_type": "markdown",
      "id": "f84d30d0",
      "metadata": {
        "id": "f84d30d0"
      },
      "source": [
        "<font color='green' size=3> Summary: No matter for one-time mutations or a sequence of mutations, we have to ensure that they are metamorphic mutations</font> "
      ]
    },
    {
      "cell_type": "markdown",
      "id": "a5c683bd",
      "metadata": {
        "id": "a5c683bd"
      },
      "source": [
        "<font color='red' size=3> Definition 7</font>\n",
        "\n",
        "The image $s'$ after transformation, and the original image $s$ are the same if:\n",
        "\n",
        "1. There are no more than one affine transformation between $s'$ and $s$.\n",
        "\n",
        "2. The pixel value changes between $s'$ and $s$ satisfied:\n",
        "\n",
        "\\begin{equation*}\n",
        "    f(s, s') = \\left\\{\\begin{array}{lr}\n",
        "        L_{\\infty}(s, s')  \\leq 255 &\\qquad \\text{if} \n",
        "        \\quad L_0(s, s') < \\alpha \\times size(s) \\\\\n",
        "        L_{\\infty}(s, s') < \\beta \\times 255 & \\text{otherwise} \\\\\n",
        "        \\end{array}\\right\\} \\\\\n",
        "\\end{equation*}\n",
        "\n",
        "(Equation 1 in [DeepHunter: A Coverage-Guided Fuzz Testing Framework for Deep Neural Networks](https://dl.acm.org/doi/pdf/10.1145/3293882.3330579?casa_token=mGUOGHi9qrcAAAAA:G28BWlY6XueMERjYHKWyW7w5jfGQrzF3fyml6ThPX0Rq8yUE4NYTz28s83fllXvaRItcpflNbBtdEYs))\n",
        "\n",
        "Where:\n",
        "\n",
        "\\begin{equation*}\n",
        "\\begin{aligned}\n",
        "    L_0(s, s') &= L_0(s_0, s_{j-1}) + L_0(s_j, s') \\\\\n",
        "    L_{\\infty}(s, s') &= L_0(s_0, s_{j-1}) + L_0(s_j, s') \\\\\n",
        "\\end{aligned}\n",
        "\\end{equation*}\n",
        "\n",
        "$s_{j-1}$ is the transformed image before one affine transformation\n",
        "\n",
        "$L_0$ and $L_{\\infty}$ is the 0-norm and infinity-norm. $L_0(a, b) = sum((a - b) != 0)$, $L_0(a, b) = sum((a - b) != 0)$, $L_{\\infty}(a, b) = max((a-b))$"
      ]
    },
    {
      "cell_type": "markdown",
      "id": "c316587f",
      "metadata": {
        "id": "c316587f"
      },
      "source": [
        "The intuition behind Definition 7:\n",
        "\n",
        "1. The pixel value should not be changed too much, so the semantic of the transformed image does not change. This change is measured by the subtraction.\n",
        "\n",
        "2. Affine transformation will change the position of each pixel, making the norm measurement inaccurate (Take a look at `image_scale` example). As a result, we cut the sequence of transformations into two parts, measuring each independently."
      ]
    },
    {
      "cell_type": "markdown",
      "id": "87df8163",
      "metadata": {
        "id": "87df8163"
      },
      "source": [
        "Based on all the definitions above, we have Algorithm 2 in [DeepHunter: A Coverage-Guided Fuzz Testing Framework for Deep Neural Networks](https://dl.acm.org/doi/pdf/10.1145/3293882.3330579?casa_token=mGUOGHi9qrcAAAAA:G28BWlY6XueMERjYHKWyW7w5jfGQrzF3fyml6ThPX0Rq8yUE4NYTz28s83fllXvaRItcpflNbBtdEYs)"
      ]
    },
    {
      "cell_type": "markdown",
      "id": "184dacef",
      "metadata": {
        "id": "184dacef"
      },
      "source": [
        "![Title](https://raw.githubusercontent.com/momentum-openspace/momentum-openspace.github.io/new-template/files/asg2/pic/alg_2.png)"
      ]
    },
    {
      "cell_type": "markdown",
      "id": "17dfa018",
      "metadata": {
        "id": "17dfa018"
      },
      "source": [
        "<font color='blue' size=4> Please answer the following question</font> <font color='red' size=4> (2 points)</font>"
      ]
    },
    {
      "cell_type": "markdown",
      "id": "8d1907bb",
      "metadata": {
        "id": "8d1907bb"
      },
      "source": [
        "<font color='blue' size=3> For all images returned in Algorithm 2, how many mutations are applied for each image if the success flag is True ? How does sequential mutations done in Deephunter? </font>"
      ]
    },
    {
      "cell_type": "markdown",
      "id": "c29f72fd",
      "metadata": {
        "id": "c29f72fd"
      },
      "source": [
        "Hint: Take a look at algorithm 1"
      ]
    },
    {
      "cell_type": "markdown",
      "id": "eb91f542",
      "metadata": {
        "id": "eb91f542"
      },
      "source": [
        "![Title](https://raw.githubusercontent.com/momentum-openspace/momentum-openspace.github.io/new-template/files/asg2/pic/alg_1.png)"
      ]
    },
    {
      "cell_type": "markdown",
      "id": "0f631676",
      "metadata": {
        "id": "0f631676"
      },
      "source": [
        "<font color='blue' size=4> Please complete the todo listed in the function shown below</font> <font color='red' size=4> (4 points)</font>"
      ]
    },
    {
      "cell_type": "markdown",
      "id": "e5e427df",
      "metadata": {
        "id": "e5e427df"
      },
      "source": [
        "<font color='blue' size=3> Please also attach three images after mutating in the final report</font> "
      ]
    },
    {
      "cell_type": "code",
      "execution_count": null,
      "id": "f08f8c2d",
      "metadata": {
        "id": "f08f8c2d"
      },
      "outputs": [],
      "source": [
        "import random\n",
        "from all_utils import Mutators\n",
        "import cv2\n",
        "import time\n",
        "import copy\n",
        "\n",
        "# We are going to implement Line 5 ~ 18 in Algorithm 2 in the original paper.\n",
        "\n",
        "\n",
        "def mutate_one(ref_img, \n",
        "               img, \n",
        "               has_Affine, \n",
        "               l0_ref, \n",
        "               linf_ref,\n",
        "               alpha=0.02,\n",
        "               beta=0.20, \n",
        "               try_num=50):\n",
        "    \"\"\"\n",
        "    Mutate the image for once.\n",
        "    Line 5 ~ 18 in Algorithm 2 in the original paper.\n",
        "    Args\n",
        "    ---\n",
        "        ref_img: reference image. s0' in the original paper. In the format (C, H, W)\n",
        "            Notice: s0 is the original reference image and we actually does not need it here.\n",
        "        img: the seed. s in the original paper. In the format (C, H, W)\n",
        "        has_Affine: Flag for indicating whether we have applied affine transformation on the image.\n",
        "        l0_ref: The value for L_0(s_0, s_{j-1}). It is used to compute L_0(s_0, s_n) in the equation 2.\n",
        "        linf_ref: The value for L_infinity(s_0, s_{j-1}). It is used to \n",
        "            compute L_infinity(s_0, s_n) in the equation 2.\n",
        "        alpha: alpha in equation 1.\n",
        "        betra: beta in equation 1.\n",
        "        try_num: TRY_NUM in Algorithm 2.\n",
        "        \n",
        "    Returns:\n",
        "        ref_img: reference image. s0' in the original paper.\n",
        "        img: the image after transformation\n",
        "        has_Affine: Updated flag\n",
        "        changed: whether there is actually change for the image.\n",
        "        l0_ref: updated l0_ref.\n",
        "        linf_ref: updated line_ref.\n",
        "    \"\"\"\n",
        "    # ref_img is the reference image, img is the seed\n",
        "\n",
        "    # cl means the current state of transformation\n",
        "    # 0 means it can select both of Affine and Pixel transformations\n",
        "    # 1 means it only select pixel transformation because an Affine transformation has been used before\n",
        "\n",
        "    # l0_ref, linf_ref: if the current seed is mutated from affine transformation, we will record the l0, l_inf\n",
        "    # between initial image and the reference image. i.e., L0(s_0,s_{j-1}) L_inf(s_0,s_{j-1}) in Equation 2 of the paper\n",
        "\n",
        "    # tyr_num is the maximum number of trials in Algorithm 2\n",
        "    \n",
        "    if isinstance(ref_img, torch.Tensor):\n",
        "        ref_img = ref_img.numpy()\n",
        "        img = img.numpy()\n",
        "        is_torch = True\n",
        "    else:\n",
        "        is_torch = False\n",
        "        \n",
        "    c, h, w = img.shape\n",
        "    mutator_instance = Mutators()\n",
        "    # a, b is the alpha and beta in Equation 1 in the paper\n",
        "\n",
        "    # l0_threshold: alpha * size(s), l_infinity_threshold: beta * 255 in Equation 1\n",
        "    l0_threshold = int(alpha * c * h * w)\n",
        "    l_infinity_threshold = int(beta * 255)\n",
        "    ori_shape = ref_img.shape\n",
        "    \n",
        "    for ii in range(try_num):\n",
        "        random.seed(time.time())\n",
        "        if has_Affine == 0:  # 0: can choose class A and B Line-6 of the algorithm\n",
        "            tid = random.sample(mutator_instance.classA + mutator_instance.classB, 1)[0]\n",
        "            # Randomly select one transformation   Line-7 in Algorithm2\n",
        "            transformation = mutator_instance.transformations[tid]\n",
        "            params = mutator_instance.params[tid]\n",
        "            # Randomly select one parameter Line 10 in Algo2\n",
        "            param = random.sample(params, 1)[0]\n",
        "\n",
        "            # Perform the transformation  Line 11 in Algo2\n",
        "            img_new = transformation(copy.deepcopy(img), param)\n",
        "            img_new = img_new.reshape(ori_shape)\n",
        "            \n",
        "            \n",
        "            '''\n",
        "            Notice: the Equation 1 and Line 12 in Algo2 is satisfied \n",
        "            if the transformation is affine transformation\n",
        "            So the line 12 of the algorithm is moved down.\n",
        "            '''\n",
        "            \n",
        "            if tid in mutator_instance.classA: # Line\n",
        "                \n",
        "                '''\n",
        "                check whether it is a valid mutation. i.e., Equation 1 and Line 12 in Algo2\n",
        "                You need to compute l0_ref, linf_ref, and compare them with their own\n",
        "                threshold.\n",
        "                Data structure used here:  ref_img, img_new, l0_ref, l0_threshold\n",
        "                  linf_ref, l_infinity_threshold\n",
        "                '''\n",
        "                \n",
        "                # ======Below is TODO====== #\n",
        "                if : # line 12 of the algorithm 2. We move the comparision down here.\n",
        "            \n",
        "\n",
        "                    return # Please fill the return field.\n",
        "                # ======Above is TODO====== #\n",
        "                \n",
        "            else:  # B, C\n",
        "                \n",
        "                '''\n",
        "                If the current transformation is an Affine trans, we will update the reference image and\n",
        "                the transformation state of the seed.\n",
        "                '''\n",
        "                \n",
        "                ref_img = transformation(copy.deepcopy(ref_img), param)\n",
        "                ref_img = ref_img.reshape(ori_shape)\n",
        "                    \n",
        "                # ======Below is TODO====== #\n",
        "                return # Please fill the return field.\n",
        "                # ======Above is TODO====== #\n",
        "            \n",
        "        elif has_Affine == 1: # 0: can only choose class A. Line 6 of the original algorithm fails.\n",
        "            tid = random.sample(mutator_instance.classA, 1)[0]\n",
        "            transformation = mutator_instance.transformations[tid]\n",
        "            params = mutator_instance.params[tid]\n",
        "            param = random.sample(params, 1)[0]\n",
        "            img_new = transformation(copy.deepcopy(img), param)\n",
        "            \n",
        "            \n",
        "            '''\n",
        "            Compute the value in Equation 2 in the paper.\n",
        "            So the comparision can be done below.\n",
        "            Data structure used here: ref_img, img_new, l0_ref, linf_ref\n",
        "            '''\n",
        "            \n",
        "            # ======Below is TODO====== #\n",
        "\n",
        "            if  : # line 12 of the algorithm 2. We move the comparision down here.\n",
        "                # The if statement is satisified, we can return the result.\n",
        "                return # Fill the return field.\n",
        "            \n",
        "            # ======Above is TODO====== #\n",
        "            \n",
        "    # Otherwise the mutation is failed. Line 20 in Algo 2\n",
        "    return ref_img, img, has_Affine, False, l0_ref, linf_ref"
      ]
    },
    {
      "cell_type": "code",
      "execution_count": null,
      "id": "0c501087",
      "metadata": {
        "id": "0c501087"
      },
      "outputs": [],
      "source": [
        "seed = np.expand_dims(number_a, 0)"
      ]
    },
    {
      "cell_type": "code",
      "execution_count": null,
      "id": "830608c6",
      "metadata": {
        "id": "830608c6"
      },
      "outputs": [],
      "source": [
        "ref_img_list = list()\n",
        "new_img_list = list()\n",
        "affline_flag_list = list()\n",
        "l0_ref_list = list()\n",
        "linf_ref_list = list()"
      ]
    },
    {
      "cell_type": "code",
      "execution_count": null,
      "id": "30adf1ff",
      "metadata": {
        "id": "30adf1ff"
      },
      "outputs": [],
      "source": [
        "result = mutate_one(\n",
        "        seed,\n",
        "        seed,\n",
        "        False,\n",
        "        0,\n",
        "        0\n",
        ")\n",
        "result = all_utils.turn_numpy_into_torch_array(result)\n",
        "# Below are the data structures that store the necessary info\n",
        "# for future mutation.\n",
        "ref_img_list.append(result[0])\n",
        "new_img_list.append(result[1]) # T in the original paper\n",
        "affline_flag_list.append(result[2])\n",
        "l0_ref_list.append(result[3])\n",
        "linf_ref_list.append(result[4])"
      ]
    },
    {
      "cell_type": "code",
      "execution_count": null,
      "id": "3a93bfa6",
      "metadata": {
        "id": "3a93bfa6"
      },
      "outputs": [],
      "source": [
        "plot_image(result[1])"
      ]
    },
    {
      "cell_type": "markdown",
      "id": "2ada28a2",
      "metadata": {
        "id": "2ada28a2"
      },
      "source": [
        "## 3. Experiments <font color='red' size=5> (3 points)</font>"
      ]
    },
    {
      "cell_type": "markdown",
      "id": "f1793ae4",
      "metadata": {
        "id": "f1793ae4"
      },
      "source": [
        "In this section, you are asked to use `Algorithm 2` to do the mutation testing and use function `compute_NBCov` to evaluate the results.\n",
        "\n",
        "There are multiple ways to do the mutation testing:\n",
        "\n",
        "1. Just mutate every image for once in the test set. And combine the test set and mutated images as new dataset for testing.\n",
        "\n",
        "2. Implement Algorithm 1 in the original paper to guide the testing.\n",
        "\n",
        "3. Random select part of the images for testing.\n",
        "\n",
        "4. ...\n",
        "\n",
        "This is an open-ended question, feel free to use any ideas that come to your mind"
      ]
    },
    {
      "cell_type": "markdown",
      "id": "b746137a",
      "metadata": {
        "id": "b746137a"
      },
      "source": [
        "Here is an example to build self-defined dataset."
      ]
    },
    {
      "cell_type": "code",
      "execution_count": null,
      "id": "b030645e",
      "metadata": {
        "id": "b030645e"
      },
      "outputs": [],
      "source": [
        "from torch.utils.data import TensorDataset"
      ]
    },
    {
      "cell_type": "code",
      "execution_count": null,
      "id": "264a4d14",
      "metadata": {
        "id": "264a4d14"
      },
      "outputs": [],
      "source": [
        "test_image_set = list()\n",
        "labels = list()\n",
        "\n",
        "for imgs, label in test_loader:\n",
        "    for i in range(len(imgs)):\n",
        "        test_image_set.append(imgs[i].unsqueeze(0))\n",
        "        labels.append(int(label[i]))\n",
        "        \n",
        "        # ======Below is TODO====== #\n",
        "        # Please remember to use `result = all_utils.turn_numpy_into_torch_array(result)`\n",
        "            \n",
        "        # ======Above is TODO====== #"
      ]
    },
    {
      "cell_type": "code",
      "execution_count": null,
      "id": "cfa5a26c",
      "metadata": {
        "id": "cfa5a26c"
      },
      "outputs": [],
      "source": [
        "new_test_dataset = TensorDataset(torch.cat(test_image_set), torch.tensor(labels))\n",
        "new_test_dataloader = torch.utils.data.DataLoader(new_test_dataset, batch_size=64)"
      ]
    },
    {
      "cell_type": "code",
      "execution_count": null,
      "id": "9e58e7ca",
      "metadata": {
        "id": "9e58e7ca"
      },
      "outputs": [],
      "source": [
        "# train_cov_dict is obtained at section 2.1.2\n",
        "cov_result = compute_NBCov(model, new_test_dataloader, train_cov_dict)"
      ]
    },
    {
      "cell_type": "code",
      "execution_count": null,
      "id": "ePN1txNn9jjN",
      "metadata": {
        "id": "ePN1txNn9jjN"
      },
      "outputs": [],
      "source": [
        "print(cov_result)"
      ]
    }
  ],
  "metadata": {
    "colab": {
      "collapsed_sections": [],
      "name": "HW2.ipynb",
      "provenance": [],
      "include_colab_link": true
    },
    "kernelspec": {
      "display_name": "Python 3 (ipykernel)",
      "language": "python",
      "name": "python3"
    },
    "language_info": {
      "codemirror_mode": {
        "name": "ipython",
        "version": 3
      },
      "file_extension": ".py",
      "mimetype": "text/x-python",
      "name": "python",
      "nbconvert_exporter": "python",
      "pygments_lexer": "ipython3",
      "version": "3.8.9"
    },
    "widgets": {
      "application/vnd.jupyter.widget-state+json": {
        "f8d56248120a4a839c6635f3681103a3": {
          "model_module": "@jupyter-widgets/controls",
          "model_name": "HBoxModel",
          "model_module_version": "1.5.0",
          "state": {
            "_view_name": "HBoxView",
            "_dom_classes": [],
            "_model_name": "HBoxModel",
            "_view_module": "@jupyter-widgets/controls",
            "_model_module_version": "1.5.0",
            "_view_count": null,
            "_view_module_version": "1.5.0",
            "box_style": "",
            "layout": "IPY_MODEL_de492813fee94011b1a056d7c0752e3f",
            "_model_module": "@jupyter-widgets/controls",
            "children": [
              "IPY_MODEL_68b0130b084d4db5a1503d0a86c6a6ec",
              "IPY_MODEL_69c6a989b5524fd59450e0b37dd23224",
              "IPY_MODEL_c9e6f6fba4724405ad9babb876a64cef"
            ]
          }
        },
        "de492813fee94011b1a056d7c0752e3f": {
          "model_module": "@jupyter-widgets/base",
          "model_name": "LayoutModel",
          "model_module_version": "1.2.0",
          "state": {
            "_view_name": "LayoutView",
            "grid_template_rows": null,
            "right": null,
            "justify_content": null,
            "_view_module": "@jupyter-widgets/base",
            "overflow": null,
            "_model_module_version": "1.2.0",
            "_view_count": null,
            "flex_flow": null,
            "width": null,
            "min_width": null,
            "border": null,
            "align_items": null,
            "bottom": null,
            "_model_module": "@jupyter-widgets/base",
            "top": null,
            "grid_column": null,
            "overflow_y": null,
            "overflow_x": null,
            "grid_auto_flow": null,
            "grid_area": null,
            "grid_template_columns": null,
            "flex": null,
            "_model_name": "LayoutModel",
            "justify_items": null,
            "grid_row": null,
            "max_height": null,
            "align_content": null,
            "visibility": null,
            "align_self": null,
            "height": null,
            "min_height": null,
            "padding": null,
            "grid_auto_rows": null,
            "grid_gap": null,
            "max_width": null,
            "order": null,
            "_view_module_version": "1.2.0",
            "grid_template_areas": null,
            "object_position": null,
            "object_fit": null,
            "grid_auto_columns": null,
            "margin": null,
            "display": null,
            "left": null
          }
        },
        "68b0130b084d4db5a1503d0a86c6a6ec": {
          "model_module": "@jupyter-widgets/controls",
          "model_name": "HTMLModel",
          "model_module_version": "1.5.0",
          "state": {
            "_view_name": "HTMLView",
            "style": "IPY_MODEL_8298ff08c59a4b3a997c971033c85fbb",
            "_dom_classes": [],
            "description": "",
            "_model_name": "HTMLModel",
            "placeholder": "​",
            "_view_module": "@jupyter-widgets/controls",
            "_model_module_version": "1.5.0",
            "value": "",
            "_view_count": null,
            "_view_module_version": "1.5.0",
            "description_tooltip": null,
            "_model_module": "@jupyter-widgets/controls",
            "layout": "IPY_MODEL_3efc89b2399b4a75b3fbe827e78ed2fd"
          }
        },
        "69c6a989b5524fd59450e0b37dd23224": {
          "model_module": "@jupyter-widgets/controls",
          "model_name": "FloatProgressModel",
          "model_module_version": "1.5.0",
          "state": {
            "_view_name": "ProgressView",
            "style": "IPY_MODEL_18234619f9f046e09fff9d837ed06f9b",
            "_dom_classes": [],
            "description": "",
            "_model_name": "FloatProgressModel",
            "bar_style": "success",
            "max": 9912422,
            "_view_module": "@jupyter-widgets/controls",
            "_model_module_version": "1.5.0",
            "value": 9912422,
            "_view_count": null,
            "_view_module_version": "1.5.0",
            "orientation": "horizontal",
            "min": 0,
            "description_tooltip": null,
            "_model_module": "@jupyter-widgets/controls",
            "layout": "IPY_MODEL_b8d07692044c4acf95673122c4201051"
          }
        },
        "c9e6f6fba4724405ad9babb876a64cef": {
          "model_module": "@jupyter-widgets/controls",
          "model_name": "HTMLModel",
          "model_module_version": "1.5.0",
          "state": {
            "_view_name": "HTMLView",
            "style": "IPY_MODEL_389cac77f9314976967b608434c77b18",
            "_dom_classes": [],
            "description": "",
            "_model_name": "HTMLModel",
            "placeholder": "​",
            "_view_module": "@jupyter-widgets/controls",
            "_model_module_version": "1.5.0",
            "value": " 9913344/? [00:00&lt;00:00, 18041369.81it/s]",
            "_view_count": null,
            "_view_module_version": "1.5.0",
            "description_tooltip": null,
            "_model_module": "@jupyter-widgets/controls",
            "layout": "IPY_MODEL_a169f0c04c7e44008039ac175a70c180"
          }
        },
        "8298ff08c59a4b3a997c971033c85fbb": {
          "model_module": "@jupyter-widgets/controls",
          "model_name": "DescriptionStyleModel",
          "model_module_version": "1.5.0",
          "state": {
            "_view_name": "StyleView",
            "_model_name": "DescriptionStyleModel",
            "description_width": "",
            "_view_module": "@jupyter-widgets/base",
            "_model_module_version": "1.5.0",
            "_view_count": null,
            "_view_module_version": "1.2.0",
            "_model_module": "@jupyter-widgets/controls"
          }
        },
        "3efc89b2399b4a75b3fbe827e78ed2fd": {
          "model_module": "@jupyter-widgets/base",
          "model_name": "LayoutModel",
          "model_module_version": "1.2.0",
          "state": {
            "_view_name": "LayoutView",
            "grid_template_rows": null,
            "right": null,
            "justify_content": null,
            "_view_module": "@jupyter-widgets/base",
            "overflow": null,
            "_model_module_version": "1.2.0",
            "_view_count": null,
            "flex_flow": null,
            "width": null,
            "min_width": null,
            "border": null,
            "align_items": null,
            "bottom": null,
            "_model_module": "@jupyter-widgets/base",
            "top": null,
            "grid_column": null,
            "overflow_y": null,
            "overflow_x": null,
            "grid_auto_flow": null,
            "grid_area": null,
            "grid_template_columns": null,
            "flex": null,
            "_model_name": "LayoutModel",
            "justify_items": null,
            "grid_row": null,
            "max_height": null,
            "align_content": null,
            "visibility": null,
            "align_self": null,
            "height": null,
            "min_height": null,
            "padding": null,
            "grid_auto_rows": null,
            "grid_gap": null,
            "max_width": null,
            "order": null,
            "_view_module_version": "1.2.0",
            "grid_template_areas": null,
            "object_position": null,
            "object_fit": null,
            "grid_auto_columns": null,
            "margin": null,
            "display": null,
            "left": null
          }
        },
        "18234619f9f046e09fff9d837ed06f9b": {
          "model_module": "@jupyter-widgets/controls",
          "model_name": "ProgressStyleModel",
          "model_module_version": "1.5.0",
          "state": {
            "_view_name": "StyleView",
            "_model_name": "ProgressStyleModel",
            "description_width": "",
            "_view_module": "@jupyter-widgets/base",
            "_model_module_version": "1.5.0",
            "_view_count": null,
            "_view_module_version": "1.2.0",
            "bar_color": null,
            "_model_module": "@jupyter-widgets/controls"
          }
        },
        "b8d07692044c4acf95673122c4201051": {
          "model_module": "@jupyter-widgets/base",
          "model_name": "LayoutModel",
          "model_module_version": "1.2.0",
          "state": {
            "_view_name": "LayoutView",
            "grid_template_rows": null,
            "right": null,
            "justify_content": null,
            "_view_module": "@jupyter-widgets/base",
            "overflow": null,
            "_model_module_version": "1.2.0",
            "_view_count": null,
            "flex_flow": null,
            "width": null,
            "min_width": null,
            "border": null,
            "align_items": null,
            "bottom": null,
            "_model_module": "@jupyter-widgets/base",
            "top": null,
            "grid_column": null,
            "overflow_y": null,
            "overflow_x": null,
            "grid_auto_flow": null,
            "grid_area": null,
            "grid_template_columns": null,
            "flex": null,
            "_model_name": "LayoutModel",
            "justify_items": null,
            "grid_row": null,
            "max_height": null,
            "align_content": null,
            "visibility": null,
            "align_self": null,
            "height": null,
            "min_height": null,
            "padding": null,
            "grid_auto_rows": null,
            "grid_gap": null,
            "max_width": null,
            "order": null,
            "_view_module_version": "1.2.0",
            "grid_template_areas": null,
            "object_position": null,
            "object_fit": null,
            "grid_auto_columns": null,
            "margin": null,
            "display": null,
            "left": null
          }
        },
        "389cac77f9314976967b608434c77b18": {
          "model_module": "@jupyter-widgets/controls",
          "model_name": "DescriptionStyleModel",
          "model_module_version": "1.5.0",
          "state": {
            "_view_name": "StyleView",
            "_model_name": "DescriptionStyleModel",
            "description_width": "",
            "_view_module": "@jupyter-widgets/base",
            "_model_module_version": "1.5.0",
            "_view_count": null,
            "_view_module_version": "1.2.0",
            "_model_module": "@jupyter-widgets/controls"
          }
        },
        "a169f0c04c7e44008039ac175a70c180": {
          "model_module": "@jupyter-widgets/base",
          "model_name": "LayoutModel",
          "model_module_version": "1.2.0",
          "state": {
            "_view_name": "LayoutView",
            "grid_template_rows": null,
            "right": null,
            "justify_content": null,
            "_view_module": "@jupyter-widgets/base",
            "overflow": null,
            "_model_module_version": "1.2.0",
            "_view_count": null,
            "flex_flow": null,
            "width": null,
            "min_width": null,
            "border": null,
            "align_items": null,
            "bottom": null,
            "_model_module": "@jupyter-widgets/base",
            "top": null,
            "grid_column": null,
            "overflow_y": null,
            "overflow_x": null,
            "grid_auto_flow": null,
            "grid_area": null,
            "grid_template_columns": null,
            "flex": null,
            "_model_name": "LayoutModel",
            "justify_items": null,
            "grid_row": null,
            "max_height": null,
            "align_content": null,
            "visibility": null,
            "align_self": null,
            "height": null,
            "min_height": null,
            "padding": null,
            "grid_auto_rows": null,
            "grid_gap": null,
            "max_width": null,
            "order": null,
            "_view_module_version": "1.2.0",
            "grid_template_areas": null,
            "object_position": null,
            "object_fit": null,
            "grid_auto_columns": null,
            "margin": null,
            "display": null,
            "left": null
          }
        },
        "ec8c3705c14c4465847420af0f0105ba": {
          "model_module": "@jupyter-widgets/controls",
          "model_name": "HBoxModel",
          "model_module_version": "1.5.0",
          "state": {
            "_view_name": "HBoxView",
            "_dom_classes": [],
            "_model_name": "HBoxModel",
            "_view_module": "@jupyter-widgets/controls",
            "_model_module_version": "1.5.0",
            "_view_count": null,
            "_view_module_version": "1.5.0",
            "box_style": "",
            "layout": "IPY_MODEL_ebc36fa0789544788f82c7055622466d",
            "_model_module": "@jupyter-widgets/controls",
            "children": [
              "IPY_MODEL_a6ea36742b704ccea67a81d47f7c9a2e",
              "IPY_MODEL_3e53c5fbabcb4698b545a395701f8097",
              "IPY_MODEL_2e1bd124a8404c469572029958c226b0"
            ]
          }
        },
        "ebc36fa0789544788f82c7055622466d": {
          "model_module": "@jupyter-widgets/base",
          "model_name": "LayoutModel",
          "model_module_version": "1.2.0",
          "state": {
            "_view_name": "LayoutView",
            "grid_template_rows": null,
            "right": null,
            "justify_content": null,
            "_view_module": "@jupyter-widgets/base",
            "overflow": null,
            "_model_module_version": "1.2.0",
            "_view_count": null,
            "flex_flow": null,
            "width": null,
            "min_width": null,
            "border": null,
            "align_items": null,
            "bottom": null,
            "_model_module": "@jupyter-widgets/base",
            "top": null,
            "grid_column": null,
            "overflow_y": null,
            "overflow_x": null,
            "grid_auto_flow": null,
            "grid_area": null,
            "grid_template_columns": null,
            "flex": null,
            "_model_name": "LayoutModel",
            "justify_items": null,
            "grid_row": null,
            "max_height": null,
            "align_content": null,
            "visibility": null,
            "align_self": null,
            "height": null,
            "min_height": null,
            "padding": null,
            "grid_auto_rows": null,
            "grid_gap": null,
            "max_width": null,
            "order": null,
            "_view_module_version": "1.2.0",
            "grid_template_areas": null,
            "object_position": null,
            "object_fit": null,
            "grid_auto_columns": null,
            "margin": null,
            "display": null,
            "left": null
          }
        },
        "a6ea36742b704ccea67a81d47f7c9a2e": {
          "model_module": "@jupyter-widgets/controls",
          "model_name": "HTMLModel",
          "model_module_version": "1.5.0",
          "state": {
            "_view_name": "HTMLView",
            "style": "IPY_MODEL_b54d1ad5c67d4240a311b8f4509af749",
            "_dom_classes": [],
            "description": "",
            "_model_name": "HTMLModel",
            "placeholder": "​",
            "_view_module": "@jupyter-widgets/controls",
            "_model_module_version": "1.5.0",
            "value": "",
            "_view_count": null,
            "_view_module_version": "1.5.0",
            "description_tooltip": null,
            "_model_module": "@jupyter-widgets/controls",
            "layout": "IPY_MODEL_e27a941a784a444385674cf068b75d78"
          }
        },
        "3e53c5fbabcb4698b545a395701f8097": {
          "model_module": "@jupyter-widgets/controls",
          "model_name": "FloatProgressModel",
          "model_module_version": "1.5.0",
          "state": {
            "_view_name": "ProgressView",
            "style": "IPY_MODEL_a27f679e13994e43b3ec7490e3eece22",
            "_dom_classes": [],
            "description": "",
            "_model_name": "FloatProgressModel",
            "bar_style": "success",
            "max": 28881,
            "_view_module": "@jupyter-widgets/controls",
            "_model_module_version": "1.5.0",
            "value": 28881,
            "_view_count": null,
            "_view_module_version": "1.5.0",
            "orientation": "horizontal",
            "min": 0,
            "description_tooltip": null,
            "_model_module": "@jupyter-widgets/controls",
            "layout": "IPY_MODEL_340898da1efd417896bc0b09d576effa"
          }
        },
        "2e1bd124a8404c469572029958c226b0": {
          "model_module": "@jupyter-widgets/controls",
          "model_name": "HTMLModel",
          "model_module_version": "1.5.0",
          "state": {
            "_view_name": "HTMLView",
            "style": "IPY_MODEL_fa0b66fe9aeb4a3ba197fc0ebd715b07",
            "_dom_classes": [],
            "description": "",
            "_model_name": "HTMLModel",
            "placeholder": "​",
            "_view_module": "@jupyter-widgets/controls",
            "_model_module_version": "1.5.0",
            "value": " 29696/? [00:00&lt;00:00, 927749.28it/s]",
            "_view_count": null,
            "_view_module_version": "1.5.0",
            "description_tooltip": null,
            "_model_module": "@jupyter-widgets/controls",
            "layout": "IPY_MODEL_a99184c4f17a4415b96f113b17d4d291"
          }
        },
        "b54d1ad5c67d4240a311b8f4509af749": {
          "model_module": "@jupyter-widgets/controls",
          "model_name": "DescriptionStyleModel",
          "model_module_version": "1.5.0",
          "state": {
            "_view_name": "StyleView",
            "_model_name": "DescriptionStyleModel",
            "description_width": "",
            "_view_module": "@jupyter-widgets/base",
            "_model_module_version": "1.5.0",
            "_view_count": null,
            "_view_module_version": "1.2.0",
            "_model_module": "@jupyter-widgets/controls"
          }
        },
        "e27a941a784a444385674cf068b75d78": {
          "model_module": "@jupyter-widgets/base",
          "model_name": "LayoutModel",
          "model_module_version": "1.2.0",
          "state": {
            "_view_name": "LayoutView",
            "grid_template_rows": null,
            "right": null,
            "justify_content": null,
            "_view_module": "@jupyter-widgets/base",
            "overflow": null,
            "_model_module_version": "1.2.0",
            "_view_count": null,
            "flex_flow": null,
            "width": null,
            "min_width": null,
            "border": null,
            "align_items": null,
            "bottom": null,
            "_model_module": "@jupyter-widgets/base",
            "top": null,
            "grid_column": null,
            "overflow_y": null,
            "overflow_x": null,
            "grid_auto_flow": null,
            "grid_area": null,
            "grid_template_columns": null,
            "flex": null,
            "_model_name": "LayoutModel",
            "justify_items": null,
            "grid_row": null,
            "max_height": null,
            "align_content": null,
            "visibility": null,
            "align_self": null,
            "height": null,
            "min_height": null,
            "padding": null,
            "grid_auto_rows": null,
            "grid_gap": null,
            "max_width": null,
            "order": null,
            "_view_module_version": "1.2.0",
            "grid_template_areas": null,
            "object_position": null,
            "object_fit": null,
            "grid_auto_columns": null,
            "margin": null,
            "display": null,
            "left": null
          }
        },
        "a27f679e13994e43b3ec7490e3eece22": {
          "model_module": "@jupyter-widgets/controls",
          "model_name": "ProgressStyleModel",
          "model_module_version": "1.5.0",
          "state": {
            "_view_name": "StyleView",
            "_model_name": "ProgressStyleModel",
            "description_width": "",
            "_view_module": "@jupyter-widgets/base",
            "_model_module_version": "1.5.0",
            "_view_count": null,
            "_view_module_version": "1.2.0",
            "bar_color": null,
            "_model_module": "@jupyter-widgets/controls"
          }
        },
        "340898da1efd417896bc0b09d576effa": {
          "model_module": "@jupyter-widgets/base",
          "model_name": "LayoutModel",
          "model_module_version": "1.2.0",
          "state": {
            "_view_name": "LayoutView",
            "grid_template_rows": null,
            "right": null,
            "justify_content": null,
            "_view_module": "@jupyter-widgets/base",
            "overflow": null,
            "_model_module_version": "1.2.0",
            "_view_count": null,
            "flex_flow": null,
            "width": null,
            "min_width": null,
            "border": null,
            "align_items": null,
            "bottom": null,
            "_model_module": "@jupyter-widgets/base",
            "top": null,
            "grid_column": null,
            "overflow_y": null,
            "overflow_x": null,
            "grid_auto_flow": null,
            "grid_area": null,
            "grid_template_columns": null,
            "flex": null,
            "_model_name": "LayoutModel",
            "justify_items": null,
            "grid_row": null,
            "max_height": null,
            "align_content": null,
            "visibility": null,
            "align_self": null,
            "height": null,
            "min_height": null,
            "padding": null,
            "grid_auto_rows": null,
            "grid_gap": null,
            "max_width": null,
            "order": null,
            "_view_module_version": "1.2.0",
            "grid_template_areas": null,
            "object_position": null,
            "object_fit": null,
            "grid_auto_columns": null,
            "margin": null,
            "display": null,
            "left": null
          }
        },
        "fa0b66fe9aeb4a3ba197fc0ebd715b07": {
          "model_module": "@jupyter-widgets/controls",
          "model_name": "DescriptionStyleModel",
          "model_module_version": "1.5.0",
          "state": {
            "_view_name": "StyleView",
            "_model_name": "DescriptionStyleModel",
            "description_width": "",
            "_view_module": "@jupyter-widgets/base",
            "_model_module_version": "1.5.0",
            "_view_count": null,
            "_view_module_version": "1.2.0",
            "_model_module": "@jupyter-widgets/controls"
          }
        },
        "a99184c4f17a4415b96f113b17d4d291": {
          "model_module": "@jupyter-widgets/base",
          "model_name": "LayoutModel",
          "model_module_version": "1.2.0",
          "state": {
            "_view_name": "LayoutView",
            "grid_template_rows": null,
            "right": null,
            "justify_content": null,
            "_view_module": "@jupyter-widgets/base",
            "overflow": null,
            "_model_module_version": "1.2.0",
            "_view_count": null,
            "flex_flow": null,
            "width": null,
            "min_width": null,
            "border": null,
            "align_items": null,
            "bottom": null,
            "_model_module": "@jupyter-widgets/base",
            "top": null,
            "grid_column": null,
            "overflow_y": null,
            "overflow_x": null,
            "grid_auto_flow": null,
            "grid_area": null,
            "grid_template_columns": null,
            "flex": null,
            "_model_name": "LayoutModel",
            "justify_items": null,
            "grid_row": null,
            "max_height": null,
            "align_content": null,
            "visibility": null,
            "align_self": null,
            "height": null,
            "min_height": null,
            "padding": null,
            "grid_auto_rows": null,
            "grid_gap": null,
            "max_width": null,
            "order": null,
            "_view_module_version": "1.2.0",
            "grid_template_areas": null,
            "object_position": null,
            "object_fit": null,
            "grid_auto_columns": null,
            "margin": null,
            "display": null,
            "left": null
          }
        },
        "1c49c952f9f241d783e76a73d253df8d": {
          "model_module": "@jupyter-widgets/controls",
          "model_name": "HBoxModel",
          "model_module_version": "1.5.0",
          "state": {
            "_view_name": "HBoxView",
            "_dom_classes": [],
            "_model_name": "HBoxModel",
            "_view_module": "@jupyter-widgets/controls",
            "_model_module_version": "1.5.0",
            "_view_count": null,
            "_view_module_version": "1.5.0",
            "box_style": "",
            "layout": "IPY_MODEL_329c896bf51647d68172dfd18eab96d1",
            "_model_module": "@jupyter-widgets/controls",
            "children": [
              "IPY_MODEL_f4ce7f93c6d04b97ad79a02b82ccea48",
              "IPY_MODEL_fb88660cecb14a759530c412a15b38ef",
              "IPY_MODEL_d02fb1c6641b4784b88b3f2767aa0356"
            ]
          }
        },
        "329c896bf51647d68172dfd18eab96d1": {
          "model_module": "@jupyter-widgets/base",
          "model_name": "LayoutModel",
          "model_module_version": "1.2.0",
          "state": {
            "_view_name": "LayoutView",
            "grid_template_rows": null,
            "right": null,
            "justify_content": null,
            "_view_module": "@jupyter-widgets/base",
            "overflow": null,
            "_model_module_version": "1.2.0",
            "_view_count": null,
            "flex_flow": null,
            "width": null,
            "min_width": null,
            "border": null,
            "align_items": null,
            "bottom": null,
            "_model_module": "@jupyter-widgets/base",
            "top": null,
            "grid_column": null,
            "overflow_y": null,
            "overflow_x": null,
            "grid_auto_flow": null,
            "grid_area": null,
            "grid_template_columns": null,
            "flex": null,
            "_model_name": "LayoutModel",
            "justify_items": null,
            "grid_row": null,
            "max_height": null,
            "align_content": null,
            "visibility": null,
            "align_self": null,
            "height": null,
            "min_height": null,
            "padding": null,
            "grid_auto_rows": null,
            "grid_gap": null,
            "max_width": null,
            "order": null,
            "_view_module_version": "1.2.0",
            "grid_template_areas": null,
            "object_position": null,
            "object_fit": null,
            "grid_auto_columns": null,
            "margin": null,
            "display": null,
            "left": null
          }
        },
        "f4ce7f93c6d04b97ad79a02b82ccea48": {
          "model_module": "@jupyter-widgets/controls",
          "model_name": "HTMLModel",
          "model_module_version": "1.5.0",
          "state": {
            "_view_name": "HTMLView",
            "style": "IPY_MODEL_dc4f3f153f5e47188e71ea1d064d5f7a",
            "_dom_classes": [],
            "description": "",
            "_model_name": "HTMLModel",
            "placeholder": "​",
            "_view_module": "@jupyter-widgets/controls",
            "_model_module_version": "1.5.0",
            "value": "",
            "_view_count": null,
            "_view_module_version": "1.5.0",
            "description_tooltip": null,
            "_model_module": "@jupyter-widgets/controls",
            "layout": "IPY_MODEL_3d60511f231a439b8f0b08cc149cacf1"
          }
        },
        "fb88660cecb14a759530c412a15b38ef": {
          "model_module": "@jupyter-widgets/controls",
          "model_name": "FloatProgressModel",
          "model_module_version": "1.5.0",
          "state": {
            "_view_name": "ProgressView",
            "style": "IPY_MODEL_fab57bb906174a4db502ece82e0259ed",
            "_dom_classes": [],
            "description": "",
            "_model_name": "FloatProgressModel",
            "bar_style": "success",
            "max": 1648877,
            "_view_module": "@jupyter-widgets/controls",
            "_model_module_version": "1.5.0",
            "value": 1648877,
            "_view_count": null,
            "_view_module_version": "1.5.0",
            "orientation": "horizontal",
            "min": 0,
            "description_tooltip": null,
            "_model_module": "@jupyter-widgets/controls",
            "layout": "IPY_MODEL_81ea365842dd4c8cac0ce9032da79212"
          }
        },
        "d02fb1c6641b4784b88b3f2767aa0356": {
          "model_module": "@jupyter-widgets/controls",
          "model_name": "HTMLModel",
          "model_module_version": "1.5.0",
          "state": {
            "_view_name": "HTMLView",
            "style": "IPY_MODEL_156b23f4a29d4fa09517d49ffc8d5922",
            "_dom_classes": [],
            "description": "",
            "_model_name": "HTMLModel",
            "placeholder": "​",
            "_view_module": "@jupyter-widgets/controls",
            "_model_module_version": "1.5.0",
            "value": " 1649664/? [00:00&lt;00:00, 3496173.31it/s]",
            "_view_count": null,
            "_view_module_version": "1.5.0",
            "description_tooltip": null,
            "_model_module": "@jupyter-widgets/controls",
            "layout": "IPY_MODEL_b121fef25c634c6a86f6e398a269c689"
          }
        },
        "dc4f3f153f5e47188e71ea1d064d5f7a": {
          "model_module": "@jupyter-widgets/controls",
          "model_name": "DescriptionStyleModel",
          "model_module_version": "1.5.0",
          "state": {
            "_view_name": "StyleView",
            "_model_name": "DescriptionStyleModel",
            "description_width": "",
            "_view_module": "@jupyter-widgets/base",
            "_model_module_version": "1.5.0",
            "_view_count": null,
            "_view_module_version": "1.2.0",
            "_model_module": "@jupyter-widgets/controls"
          }
        },
        "3d60511f231a439b8f0b08cc149cacf1": {
          "model_module": "@jupyter-widgets/base",
          "model_name": "LayoutModel",
          "model_module_version": "1.2.0",
          "state": {
            "_view_name": "LayoutView",
            "grid_template_rows": null,
            "right": null,
            "justify_content": null,
            "_view_module": "@jupyter-widgets/base",
            "overflow": null,
            "_model_module_version": "1.2.0",
            "_view_count": null,
            "flex_flow": null,
            "width": null,
            "min_width": null,
            "border": null,
            "align_items": null,
            "bottom": null,
            "_model_module": "@jupyter-widgets/base",
            "top": null,
            "grid_column": null,
            "overflow_y": null,
            "overflow_x": null,
            "grid_auto_flow": null,
            "grid_area": null,
            "grid_template_columns": null,
            "flex": null,
            "_model_name": "LayoutModel",
            "justify_items": null,
            "grid_row": null,
            "max_height": null,
            "align_content": null,
            "visibility": null,
            "align_self": null,
            "height": null,
            "min_height": null,
            "padding": null,
            "grid_auto_rows": null,
            "grid_gap": null,
            "max_width": null,
            "order": null,
            "_view_module_version": "1.2.0",
            "grid_template_areas": null,
            "object_position": null,
            "object_fit": null,
            "grid_auto_columns": null,
            "margin": null,
            "display": null,
            "left": null
          }
        },
        "fab57bb906174a4db502ece82e0259ed": {
          "model_module": "@jupyter-widgets/controls",
          "model_name": "ProgressStyleModel",
          "model_module_version": "1.5.0",
          "state": {
            "_view_name": "StyleView",
            "_model_name": "ProgressStyleModel",
            "description_width": "",
            "_view_module": "@jupyter-widgets/base",
            "_model_module_version": "1.5.0",
            "_view_count": null,
            "_view_module_version": "1.2.0",
            "bar_color": null,
            "_model_module": "@jupyter-widgets/controls"
          }
        },
        "81ea365842dd4c8cac0ce9032da79212": {
          "model_module": "@jupyter-widgets/base",
          "model_name": "LayoutModel",
          "model_module_version": "1.2.0",
          "state": {
            "_view_name": "LayoutView",
            "grid_template_rows": null,
            "right": null,
            "justify_content": null,
            "_view_module": "@jupyter-widgets/base",
            "overflow": null,
            "_model_module_version": "1.2.0",
            "_view_count": null,
            "flex_flow": null,
            "width": null,
            "min_width": null,
            "border": null,
            "align_items": null,
            "bottom": null,
            "_model_module": "@jupyter-widgets/base",
            "top": null,
            "grid_column": null,
            "overflow_y": null,
            "overflow_x": null,
            "grid_auto_flow": null,
            "grid_area": null,
            "grid_template_columns": null,
            "flex": null,
            "_model_name": "LayoutModel",
            "justify_items": null,
            "grid_row": null,
            "max_height": null,
            "align_content": null,
            "visibility": null,
            "align_self": null,
            "height": null,
            "min_height": null,
            "padding": null,
            "grid_auto_rows": null,
            "grid_gap": null,
            "max_width": null,
            "order": null,
            "_view_module_version": "1.2.0",
            "grid_template_areas": null,
            "object_position": null,
            "object_fit": null,
            "grid_auto_columns": null,
            "margin": null,
            "display": null,
            "left": null
          }
        },
        "156b23f4a29d4fa09517d49ffc8d5922": {
          "model_module": "@jupyter-widgets/controls",
          "model_name": "DescriptionStyleModel",
          "model_module_version": "1.5.0",
          "state": {
            "_view_name": "StyleView",
            "_model_name": "DescriptionStyleModel",
            "description_width": "",
            "_view_module": "@jupyter-widgets/base",
            "_model_module_version": "1.5.0",
            "_view_count": null,
            "_view_module_version": "1.2.0",
            "_model_module": "@jupyter-widgets/controls"
          }
        },
        "b121fef25c634c6a86f6e398a269c689": {
          "model_module": "@jupyter-widgets/base",
          "model_name": "LayoutModel",
          "model_module_version": "1.2.0",
          "state": {
            "_view_name": "LayoutView",
            "grid_template_rows": null,
            "right": null,
            "justify_content": null,
            "_view_module": "@jupyter-widgets/base",
            "overflow": null,
            "_model_module_version": "1.2.0",
            "_view_count": null,
            "flex_flow": null,
            "width": null,
            "min_width": null,
            "border": null,
            "align_items": null,
            "bottom": null,
            "_model_module": "@jupyter-widgets/base",
            "top": null,
            "grid_column": null,
            "overflow_y": null,
            "overflow_x": null,
            "grid_auto_flow": null,
            "grid_area": null,
            "grid_template_columns": null,
            "flex": null,
            "_model_name": "LayoutModel",
            "justify_items": null,
            "grid_row": null,
            "max_height": null,
            "align_content": null,
            "visibility": null,
            "align_self": null,
            "height": null,
            "min_height": null,
            "padding": null,
            "grid_auto_rows": null,
            "grid_gap": null,
            "max_width": null,
            "order": null,
            "_view_module_version": "1.2.0",
            "grid_template_areas": null,
            "object_position": null,
            "object_fit": null,
            "grid_auto_columns": null,
            "margin": null,
            "display": null,
            "left": null
          }
        },
        "11eaed6420b745609b347e076f7f1cb6": {
          "model_module": "@jupyter-widgets/controls",
          "model_name": "HBoxModel",
          "model_module_version": "1.5.0",
          "state": {
            "_view_name": "HBoxView",
            "_dom_classes": [],
            "_model_name": "HBoxModel",
            "_view_module": "@jupyter-widgets/controls",
            "_model_module_version": "1.5.0",
            "_view_count": null,
            "_view_module_version": "1.5.0",
            "box_style": "",
            "layout": "IPY_MODEL_0c00981a636f4940961a7ce2678dfacd",
            "_model_module": "@jupyter-widgets/controls",
            "children": [
              "IPY_MODEL_31befbe1a731468da5ba6bf6e7152640",
              "IPY_MODEL_49658c203e6942598258eeed4914c672",
              "IPY_MODEL_314b621be6394b8abf47270a071ca6b7"
            ]
          }
        },
        "0c00981a636f4940961a7ce2678dfacd": {
          "model_module": "@jupyter-widgets/base",
          "model_name": "LayoutModel",
          "model_module_version": "1.2.0",
          "state": {
            "_view_name": "LayoutView",
            "grid_template_rows": null,
            "right": null,
            "justify_content": null,
            "_view_module": "@jupyter-widgets/base",
            "overflow": null,
            "_model_module_version": "1.2.0",
            "_view_count": null,
            "flex_flow": null,
            "width": null,
            "min_width": null,
            "border": null,
            "align_items": null,
            "bottom": null,
            "_model_module": "@jupyter-widgets/base",
            "top": null,
            "grid_column": null,
            "overflow_y": null,
            "overflow_x": null,
            "grid_auto_flow": null,
            "grid_area": null,
            "grid_template_columns": null,
            "flex": null,
            "_model_name": "LayoutModel",
            "justify_items": null,
            "grid_row": null,
            "max_height": null,
            "align_content": null,
            "visibility": null,
            "align_self": null,
            "height": null,
            "min_height": null,
            "padding": null,
            "grid_auto_rows": null,
            "grid_gap": null,
            "max_width": null,
            "order": null,
            "_view_module_version": "1.2.0",
            "grid_template_areas": null,
            "object_position": null,
            "object_fit": null,
            "grid_auto_columns": null,
            "margin": null,
            "display": null,
            "left": null
          }
        },
        "31befbe1a731468da5ba6bf6e7152640": {
          "model_module": "@jupyter-widgets/controls",
          "model_name": "HTMLModel",
          "model_module_version": "1.5.0",
          "state": {
            "_view_name": "HTMLView",
            "style": "IPY_MODEL_7de4db27d5f447f4a813eaf7def2bd1a",
            "_dom_classes": [],
            "description": "",
            "_model_name": "HTMLModel",
            "placeholder": "​",
            "_view_module": "@jupyter-widgets/controls",
            "_model_module_version": "1.5.0",
            "value": "",
            "_view_count": null,
            "_view_module_version": "1.5.0",
            "description_tooltip": null,
            "_model_module": "@jupyter-widgets/controls",
            "layout": "IPY_MODEL_53261a690ca8481cbce3d37438ed8a36"
          }
        },
        "49658c203e6942598258eeed4914c672": {
          "model_module": "@jupyter-widgets/controls",
          "model_name": "FloatProgressModel",
          "model_module_version": "1.5.0",
          "state": {
            "_view_name": "ProgressView",
            "style": "IPY_MODEL_328c043c6b8c4c5780fecd9b12ae7d5a",
            "_dom_classes": [],
            "description": "",
            "_model_name": "FloatProgressModel",
            "bar_style": "success",
            "max": 4542,
            "_view_module": "@jupyter-widgets/controls",
            "_model_module_version": "1.5.0",
            "value": 4542,
            "_view_count": null,
            "_view_module_version": "1.5.0",
            "orientation": "horizontal",
            "min": 0,
            "description_tooltip": null,
            "_model_module": "@jupyter-widgets/controls",
            "layout": "IPY_MODEL_65ae7566b0a24e7b8b6857ba5134fee1"
          }
        },
        "314b621be6394b8abf47270a071ca6b7": {
          "model_module": "@jupyter-widgets/controls",
          "model_name": "HTMLModel",
          "model_module_version": "1.5.0",
          "state": {
            "_view_name": "HTMLView",
            "style": "IPY_MODEL_c5a30a384c644a93a88e322354b86d74",
            "_dom_classes": [],
            "description": "",
            "_model_name": "HTMLModel",
            "placeholder": "​",
            "_view_module": "@jupyter-widgets/controls",
            "_model_module_version": "1.5.0",
            "value": " 5120/? [00:00&lt;00:00, 153024.43it/s]",
            "_view_count": null,
            "_view_module_version": "1.5.0",
            "description_tooltip": null,
            "_model_module": "@jupyter-widgets/controls",
            "layout": "IPY_MODEL_b7e99205f6ac4cd09e4fc3d3ec1a8bf0"
          }
        },
        "7de4db27d5f447f4a813eaf7def2bd1a": {
          "model_module": "@jupyter-widgets/controls",
          "model_name": "DescriptionStyleModel",
          "model_module_version": "1.5.0",
          "state": {
            "_view_name": "StyleView",
            "_model_name": "DescriptionStyleModel",
            "description_width": "",
            "_view_module": "@jupyter-widgets/base",
            "_model_module_version": "1.5.0",
            "_view_count": null,
            "_view_module_version": "1.2.0",
            "_model_module": "@jupyter-widgets/controls"
          }
        },
        "53261a690ca8481cbce3d37438ed8a36": {
          "model_module": "@jupyter-widgets/base",
          "model_name": "LayoutModel",
          "model_module_version": "1.2.0",
          "state": {
            "_view_name": "LayoutView",
            "grid_template_rows": null,
            "right": null,
            "justify_content": null,
            "_view_module": "@jupyter-widgets/base",
            "overflow": null,
            "_model_module_version": "1.2.0",
            "_view_count": null,
            "flex_flow": null,
            "width": null,
            "min_width": null,
            "border": null,
            "align_items": null,
            "bottom": null,
            "_model_module": "@jupyter-widgets/base",
            "top": null,
            "grid_column": null,
            "overflow_y": null,
            "overflow_x": null,
            "grid_auto_flow": null,
            "grid_area": null,
            "grid_template_columns": null,
            "flex": null,
            "_model_name": "LayoutModel",
            "justify_items": null,
            "grid_row": null,
            "max_height": null,
            "align_content": null,
            "visibility": null,
            "align_self": null,
            "height": null,
            "min_height": null,
            "padding": null,
            "grid_auto_rows": null,
            "grid_gap": null,
            "max_width": null,
            "order": null,
            "_view_module_version": "1.2.0",
            "grid_template_areas": null,
            "object_position": null,
            "object_fit": null,
            "grid_auto_columns": null,
            "margin": null,
            "display": null,
            "left": null
          }
        },
        "328c043c6b8c4c5780fecd9b12ae7d5a": {
          "model_module": "@jupyter-widgets/controls",
          "model_name": "ProgressStyleModel",
          "model_module_version": "1.5.0",
          "state": {
            "_view_name": "StyleView",
            "_model_name": "ProgressStyleModel",
            "description_width": "",
            "_view_module": "@jupyter-widgets/base",
            "_model_module_version": "1.5.0",
            "_view_count": null,
            "_view_module_version": "1.2.0",
            "bar_color": null,
            "_model_module": "@jupyter-widgets/controls"
          }
        },
        "65ae7566b0a24e7b8b6857ba5134fee1": {
          "model_module": "@jupyter-widgets/base",
          "model_name": "LayoutModel",
          "model_module_version": "1.2.0",
          "state": {
            "_view_name": "LayoutView",
            "grid_template_rows": null,
            "right": null,
            "justify_content": null,
            "_view_module": "@jupyter-widgets/base",
            "overflow": null,
            "_model_module_version": "1.2.0",
            "_view_count": null,
            "flex_flow": null,
            "width": null,
            "min_width": null,
            "border": null,
            "align_items": null,
            "bottom": null,
            "_model_module": "@jupyter-widgets/base",
            "top": null,
            "grid_column": null,
            "overflow_y": null,
            "overflow_x": null,
            "grid_auto_flow": null,
            "grid_area": null,
            "grid_template_columns": null,
            "flex": null,
            "_model_name": "LayoutModel",
            "justify_items": null,
            "grid_row": null,
            "max_height": null,
            "align_content": null,
            "visibility": null,
            "align_self": null,
            "height": null,
            "min_height": null,
            "padding": null,
            "grid_auto_rows": null,
            "grid_gap": null,
            "max_width": null,
            "order": null,
            "_view_module_version": "1.2.0",
            "grid_template_areas": null,
            "object_position": null,
            "object_fit": null,
            "grid_auto_columns": null,
            "margin": null,
            "display": null,
            "left": null
          }
        },
        "c5a30a384c644a93a88e322354b86d74": {
          "model_module": "@jupyter-widgets/controls",
          "model_name": "DescriptionStyleModel",
          "model_module_version": "1.5.0",
          "state": {
            "_view_name": "StyleView",
            "_model_name": "DescriptionStyleModel",
            "description_width": "",
            "_view_module": "@jupyter-widgets/base",
            "_model_module_version": "1.5.0",
            "_view_count": null,
            "_view_module_version": "1.2.0",
            "_model_module": "@jupyter-widgets/controls"
          }
        },
        "b7e99205f6ac4cd09e4fc3d3ec1a8bf0": {
          "model_module": "@jupyter-widgets/base",
          "model_name": "LayoutModel",
          "model_module_version": "1.2.0",
          "state": {
            "_view_name": "LayoutView",
            "grid_template_rows": null,
            "right": null,
            "justify_content": null,
            "_view_module": "@jupyter-widgets/base",
            "overflow": null,
            "_model_module_version": "1.2.0",
            "_view_count": null,
            "flex_flow": null,
            "width": null,
            "min_width": null,
            "border": null,
            "align_items": null,
            "bottom": null,
            "_model_module": "@jupyter-widgets/base",
            "top": null,
            "grid_column": null,
            "overflow_y": null,
            "overflow_x": null,
            "grid_auto_flow": null,
            "grid_area": null,
            "grid_template_columns": null,
            "flex": null,
            "_model_name": "LayoutModel",
            "justify_items": null,
            "grid_row": null,
            "max_height": null,
            "align_content": null,
            "visibility": null,
            "align_self": null,
            "height": null,
            "min_height": null,
            "padding": null,
            "grid_auto_rows": null,
            "grid_gap": null,
            "max_width": null,
            "order": null,
            "_view_module_version": "1.2.0",
            "grid_template_areas": null,
            "object_position": null,
            "object_fit": null,
            "grid_auto_columns": null,
            "margin": null,
            "display": null,
            "left": null
          }
        }
      }
    }
  },
  "nbformat": 4,
  "nbformat_minor": 5
}