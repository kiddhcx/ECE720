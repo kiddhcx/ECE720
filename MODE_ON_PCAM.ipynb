{
  "cells": [
    {
      "cell_type": "markdown",
      "metadata": {
        "id": "view-in-github",
        "colab_type": "text"
      },
      "source": [
        "<a href=\"https://colab.research.google.com/github/kiddhcx/ECE720/blob/main/MODE_ON_PCAM.ipynb\" target=\"_parent\"><img src=\"https://colab.research.google.com/assets/colab-badge.svg\" alt=\"Open In Colab\"/></a>"
      ]
    },
    {
      "cell_type": "code",
      "execution_count": 2,
      "metadata": {
        "colab": {
          "base_uri": "https://localhost:8080/"
        },
        "id": "E2MB2u1188IO",
        "outputId": "e8bffc18-6cb1-45c2-efee-601f9bfa48d0"
      },
      "outputs": [
        {
          "output_type": "stream",
          "name": "stdout",
          "text": [
            "Drive already mounted at /content/drive; to attempt to forcibly remount, call drive.mount(\"/content/drive\", force_remount=True).\n"
          ]
        }
      ],
      "source": [
        "from google.colab import drive\n",
        "drive.mount('/content/drive')\n",
        "import sys\n",
        "sys.path.insert(0,'/content/drive/My Drive/MODE')"
      ]
    },
    {
      "cell_type": "code",
      "execution_count": 3,
      "metadata": {
        "colab": {
          "base_uri": "https://localhost:8080/"
        },
        "id": "G72JTCTAR0U9",
        "outputId": "1607d5b1-e9ba-48c7-e764-faf2450a3241"
      },
      "outputs": [
        {
          "output_type": "stream",
          "name": "stdout",
          "text": [
            "cuda\n"
          ]
        }
      ],
      "source": [
        "import torch\n",
        "device = torch.device('cuda' if torch.cuda.is_available() else 'cpu')\n",
        "print(device)"
      ]
    },
    {
      "cell_type": "code",
      "execution_count": 4,
      "metadata": {
        "colab": {
          "base_uri": "https://localhost:8080/"
        },
        "id": "b4eIj3-_bRyk",
        "outputId": "6c174c54-4d57-40ef-f949-08c6a6c5ccb0"
      },
      "outputs": [
        {
          "output_type": "stream",
          "name": "stdout",
          "text": [
            "Sun Mar 27 02:00:50 2022       \n",
            "+-----------------------------------------------------------------------------+\n",
            "| NVIDIA-SMI 460.32.03    Driver Version: 460.32.03    CUDA Version: 11.2     |\n",
            "|-------------------------------+----------------------+----------------------+\n",
            "| GPU  Name        Persistence-M| Bus-Id        Disp.A | Volatile Uncorr. ECC |\n",
            "| Fan  Temp  Perf  Pwr:Usage/Cap|         Memory-Usage | GPU-Util  Compute M. |\n",
            "|                               |                      |               MIG M. |\n",
            "|===============================+======================+======================|\n",
            "|   0  Tesla P100-PCIE...  Off  | 00000000:00:04.0 Off |                    0 |\n",
            "| N/A   51C    P0    32W / 250W |      2MiB / 16280MiB |      0%      Default |\n",
            "|                               |                      |                  N/A |\n",
            "+-------------------------------+----------------------+----------------------+\n",
            "                                                                               \n",
            "+-----------------------------------------------------------------------------+\n",
            "| Processes:                                                                  |\n",
            "|  GPU   GI   CI        PID   Type   Process name                  GPU Memory |\n",
            "|        ID   ID                                                   Usage      |\n",
            "|=============================================================================|\n",
            "|  No running processes found                                                 |\n",
            "+-----------------------------------------------------------------------------+\n",
            "Your runtime has 27.3 gigabytes of available RAM\n",
            "\n",
            "You are using a high-RAM runtime!\n"
          ]
        }
      ],
      "source": [
        "gpu_info = !nvidia-smi\n",
        "gpu_info = '\\n'.join(gpu_info)\n",
        "if gpu_info.find('failed') >= 0:\n",
        "  print('Not connected to a GPU')\n",
        "else:\n",
        "  print(gpu_info)\n",
        "\n",
        "from psutil import virtual_memory\n",
        "ram_gb = virtual_memory().total / 1e9\n",
        "print('Your runtime has {:.1f} gigabytes of available RAM\\n'.format(ram_gb))\n",
        "\n",
        "if ram_gb < 20:\n",
        "  print('Not using a high-RAM runtime')\n",
        "else:\n",
        "  print('You are using a high-RAM runtime!')"
      ]
    },
    {
      "cell_type": "code",
      "execution_count": null,
      "metadata": {
        "id": "rxJDfakABr0a"
      },
      "outputs": [],
      "source": [
        "!pip uninstall tensorflow-gpu\n",
        "!pip install tensorflow==2.2\n",
        "!pip uninstall keras\n",
        "!pip install keras==2.3.1\n",
        "!pip install git+https://www.github.com/keras-team/keras-contrib.git\n",
        "!pip install keras-efficientnets"
      ]
    },
    {
      "cell_type": "code",
      "execution_count": 13,
      "metadata": {
        "id": "Ql_--bONANI5"
      },
      "outputs": [],
      "source": [
        "from keras.utils import HDF5Matrix\n",
        "import h5py\n",
        "import numpy as np\n",
        "import tensorflow as tf\n",
        "import keras as k\n",
        "from keras.preprocessing.image import ImageDataGenerator\n",
        "from keras.layers import Input, Lambda, Dense, Flatten, Dropout, Reshape, Conv2D, Activation, GlobalAveragePooling2D\n",
        "from keras.models import Model\n",
        "from keras.models import Sequential\n",
        "from keras_efficientnets import EfficientNetB0\n",
        "from keras.applications.mobilenet import preprocess_input\n",
        "from keras.preprocessing import image\n",
        "from keras.preprocessing.image import ImageDataGenerator\n",
        "from keras.models import load_model\n",
        "import matplotlib.pyplot as plt\n",
        "\n",
        "# personal modules\n",
        "from distance_metrics import bhattacharyya\n",
        "from eval import get_eval_datasets, replicate_model\n",
        "from layer_selection import (Forward_Layer_Select, \n",
        "                                calculate_acc_for_labels, \n",
        "                                get_overfit_labels, \n",
        "                                get_underfit_labels,\n",
        "                                get_faultiest_label)\n",
        "from heatmap import get_heatmaps\n",
        "from input_selection import select_next_inputs\n",
        "from visualizations import (get_plot, \n",
        "                               visualize_array, \n",
        "                               get_samples_for_label,\n",
        "                               sample_misclassifications, \n",
        "                               viz_heatmaps_for_correct_prediction, \n",
        "                               viz_heatmaps_for_false_positives, \n",
        "                               viz_heatmaps_for_false_negatives,\n",
        "                               DHCI_i_k,\n",
        "                               DHMI_i,\n",
        "                               DHWI_i,\n",
        "                               viz_most_least_similar,\n",
        "                               viz_most_similar,\n",
        "                               viz_least_similar)\n",
        "\n",
        "# plot defaults\n",
        "%matplotlib inline\n",
        "plt.rcParams['figure.figsize'] = (5.0, 4.0) # set default size of plots\n",
        "plt.rcParams['image.interpolation'] = 'nearest'\n",
        "plt.rcParams['image.cmap'] = 'gray'\n",
        "\n",
        "\n"
      ]
    },
    {
      "cell_type": "code",
      "execution_count": 6,
      "metadata": {
        "colab": {
          "base_uri": "https://localhost:8080/"
        },
        "id": "759IzC3_PWfY",
        "outputId": "7e022c0e-5c8e-4c10-c12f-f39cd7590662"
      },
      "outputs": [
        {
          "output_type": "stream",
          "name": "stderr",
          "text": [
            "/usr/local/lib/python3.7/dist-packages/keras/utils/io_utils.py:60: H5pyDeprecationWarning: The default file mode will change to 'r' (read-only) in h5py 3.0. To suppress this warning, pass the mode you need to h5py.File(), or set the global default h5.get_config().default_file_mode, or set the environment variable H5PY_DEFAULT_READONLY=1. Available modes are: 'r', 'r+', 'w', 'w-'/'x', 'a'. See the docs for details.\n",
            "  f = h5py.File(datapath)\n"
          ]
        }
      ],
      "source": [
        "x_train = HDF5Matrix('/content/drive/My Drive/MODE/pcamv1/camelyonpatch_level_2_split_train_x.h5', 'x')\n",
        "f_train = h5py.File('/content/drive/My Drive/MODE/pcamv1/camelyonpatch_level_2_split_train_y.h5', 'r')\n",
        "dset = f_train['y']\n",
        "y_train = np.array(dset[:,:,:,:])\n",
        "y_train = y_train.reshape(262144,1)\n",
        "\n",
        "x_test = HDF5Matrix(r'/content/drive/My Drive/MODE/pcamv1/camelyonpatch_level_2_split_test_x.h5', 'x')\n",
        "f_test = h5py.File(r'/content/drive/My Drive/MODE/pcamv1/camelyonpatch_level_2_split_test_y.h5', 'r')\n",
        "y_test_set = f_test['y']\n",
        "y_test = np.array(y_test_set[:,:,:,:])\n",
        "y_test = y_test.reshape(32768,1)\n",
        "\n",
        "x_bug_fixes= HDF5Matrix(r'/content/drive/My Drive/MODE/pcamv1/camelyonpatch_level_2_split_valid_x.h5', 'x')\n",
        "f_bug_fixes = h5py.File(r'/content/drive/My Drive/MODE/pcamv1/camelyonpatch_level_2_split_valid_y.h5', 'r')\n",
        "y_bug_fixes_set = f_bug_fixes['y']\n",
        "y_bug_fixes= np.array(y_bug_fixes_set[:,:,:,:])\n",
        "y_bug_fixes = y_bug_fixes.reshape(32768,1)"
      ]
    },
    {
      "cell_type": "code",
      "execution_count": 7,
      "metadata": {
        "id": "ISPea6O9Mt7u"
      },
      "outputs": [],
      "source": [
        "theta = 0.90\n",
        "gamma = 0.10\n",
        "alpha = 0.25\n",
        "similarity_threshold = 0.01\n"
      ]
    },
    {
      "cell_type": "code",
      "execution_count": 8,
      "metadata": {
        "colab": {
          "base_uri": "https://localhost:8080/"
        },
        "id": "3gb3GEkxPs3z",
        "outputId": "9cee11a7-02ec-4417-99cf-5ca30468f83e"
      },
      "outputs": [
        {
          "output_type": "stream",
          "name": "stdout",
          "text": [
            "Training data shape:  (62144, 96, 96, 3)\n",
            "Training labels shape:  (62144, 1)\n",
            "Bug Fixing data shape:  (32768, 96, 96, 3)\n",
            "Bug Fixing labels shape:  (32768, 1)\n",
            "Test data shape:  (32768, 96, 96, 3)\n",
            "Test labels shape:  (32768, 1)\n"
          ]
        }
      ],
      "source": [
        "x_train = x_train[0:62144]\n",
        "y_train = y_train[0:62144]\n",
        "print('Training data shape: ', x_train.shape)\n",
        "print('Training labels shape: ', y_train.shape)\n",
        "\n",
        "print('Bug Fixing data shape: ', x_bug_fixes.shape)\n",
        "print('Bug Fixing labels shape: ', y_bug_fixes.shape)\n",
        "\n",
        "print('Test data shape: ', x_test.shape)\n",
        "print('Test labels shape: ', y_test.shape)"
      ]
    },
    {
      "cell_type": "code",
      "execution_count": 14,
      "metadata": {
        "id": "jz-ZCvAlVuu2"
      },
      "outputs": [],
      "source": [
        "DENSE_KERNEL_INITIALIZER = {\n",
        "    'class_name': 'VarianceScaling',\n",
        "    'config': {\n",
        "        'scale': 1. / 3.,\n",
        "        'mode': 'fan_out',\n",
        "        'distribution': 'uniform'\n",
        "    }\n",
        "}\n",
        "\n",
        "def swish(x):\n",
        "    return x * tf.sigmoid(x)\n",
        "\n",
        "model = EfficientNetB0(input_shape = (96,96,3), weights = 'imagenet', include_top = False)\n",
        "x = model.output\n",
        "x = GlobalAveragePooling2D(name = 'avg_pool')(x)\n",
        "x = Dropout(0.2)(x)\n",
        "x = Dense(1, activation = swish, kernel_initializer = DENSE_KERNEL_INITIALIZER)(x)\n",
        "prediction = Activation('sigmoid')(x)\n",
        "model = Model(inputs=model.input, outputs=prediction)"
      ]
    },
    {
      "cell_type": "code",
      "execution_count": 15,
      "metadata": {
        "id": "j5-zPfpfXcKA"
      },
      "outputs": [],
      "source": [
        "model.compile(optimizer='adam',\n",
        "              loss='binary_crossentropy',\n",
        "              metrics=['accuracy'])"
      ]
    },
    {
      "cell_type": "code",
      "execution_count": 16,
      "metadata": {
        "id": "1VEnUKGGXo_A"
      },
      "outputs": [],
      "source": [
        "datagen = ImageDataGenerator(\n",
        "    preprocessing_function=lambda x: x/255.)\n",
        "valid_datagen = ImageDataGenerator(\n",
        "    preprocessing_function=lambda x: x/255. )"
      ]
    },
    {
      "cell_type": "code",
      "execution_count": 17,
      "metadata": {
        "id": "osDreYW1YAsn",
        "colab": {
          "base_uri": "https://localhost:8080/"
        },
        "outputId": "9a9e34cf-a7fb-49f7-c612-5c232f8b8543"
      },
      "outputs": [
        {
          "output_type": "stream",
          "name": "stdout",
          "text": [
            "Epoch 1/5\n",
            "486/486 [==============================] - 140s 287ms/step - loss: 0.6104 - accuracy: 0.7143\n",
            "Epoch 2/5\n",
            "486/486 [==============================] - 124s 254ms/step - loss: 0.4745 - accuracy: 0.8658\n",
            "Epoch 3/5\n",
            "486/486 [==============================] - 123s 253ms/step - loss: 0.4385 - accuracy: 0.9035\n",
            "Epoch 4/5\n",
            "486/486 [==============================] - 123s 253ms/step - loss: 0.4359 - accuracy: 0.9035\n",
            "Epoch 5/5\n",
            "486/486 [==============================] - 123s 254ms/step - loss: 0.4180 - accuracy: 0.9090\n"
          ]
        },
        {
          "output_type": "execute_result",
          "data": {
            "text/plain": [
              "<keras.callbacks.callbacks.History at 0x7ef9ebd49390>"
            ]
          },
          "metadata": {},
          "execution_count": 17
        }
      ],
      "source": [
        "model.fit_generator(\n",
        "  datagen.flow(x_train, y_train, batch_size=128),\n",
        "  epochs=5\n",
        "  )"
      ]
    },
    {
      "cell_type": "code",
      "source": [
        "# predict train (to get distributions)\n",
        "y_pred_train = model.predict(x_train)\n",
        "\n",
        "# predict test (to get distributions)\n",
        "y_pred = model.predict(x_test)"
      ],
      "metadata": {
        "id": "wma8VgZ-5FMM"
      },
      "execution_count": 18,
      "outputs": []
    },
    {
      "cell_type": "code",
      "source": [
        "(loss, accuracy) = model.evaluate_generator(\n",
        "   datagen.flow(x_test, y_test, batch_size=128), \n",
        "   verbose=1)\n",
        "\n",
        "print('loss={:.4f}, accuracy: {:.4f}%'.format(loss, accuracy * 100))"
      ],
      "metadata": {
        "colab": {
          "base_uri": "https://localhost:8080/"
        },
        "id": "XI6hZ4-TDB2z",
        "outputId": "14f70296-e71c-4625-a141-09abb225775d"
      },
      "execution_count": 21,
      "outputs": [
        {
          "output_type": "stream",
          "name": "stdout",
          "text": [
            "256/256 [==============================] - 14s 55ms/step\n",
            "loss=0.5106, accuracy: 80.0415%\n"
          ]
        }
      ]
    }
  ],
  "metadata": {
    "accelerator": "GPU",
    "colab": {
      "collapsed_sections": [],
      "machine_shape": "hm",
      "name": "MODE_ON_PCAM.ipynb",
      "provenance": [],
      "authorship_tag": "ABX9TyP7by9nJUDuB9hJ0RaVpHOW",
      "include_colab_link": true
    },
    "kernelspec": {
      "display_name": "Python 3",
      "name": "python3"
    },
    "language_info": {
      "name": "python"
    }
  },
  "nbformat": 4,
  "nbformat_minor": 0
}