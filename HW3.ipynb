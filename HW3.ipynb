{
  "cells": [
    {
      "cell_type": "markdown",
      "metadata": {
        "id": "view-in-github",
        "colab_type": "text"
      },
      "source": [
        "<a href=\"https://colab.research.google.com/github/kiddhcx/ECE720/blob/main/HW3.ipynb\" target=\"_parent\"><img src=\"https://colab.research.google.com/assets/colab-badge.svg\" alt=\"Open In Colab\"/></a>"
      ]
    },
    {
      "cell_type": "markdown",
      "metadata": {
        "id": "Yz1XiLw3xvEQ"
      },
      "source": [
        "# ECE 720 Assignment Hands-on Project 3\n",
        "\n",
        "In this assignment, we will explore how to quantitatively analyze an RNN model.\n",
        "\n",
        "Before working on the assignment, it is highly recommended reading the paper: [DeepStellar: model-based quantitative analysis of stateful deep learning systems](https://dl.acm.org/doi/10.1145/3338906.3338954) . Our materials will be highly relevant to this paper."
      ]
    },
    {
      "cell_type": "markdown",
      "metadata": {
        "id": "dwRAhwrYxvEW"
      },
      "source": [
        "## Content:\n",
        "\n",
        "1. Implement state abstraction---a key component in DeepStellar. (7pt)\n",
        "\n",
        "   1.1 Build state abstraction and transition model based on training data. (4pt)\n",
        "   \n",
        "   1.2 Based on your implementation, which state is most frequently visited? (3pt)\n",
        "   \n",
        "2. Implement a function to obtain the corresponding trace* (state transition) in the abstracted model of a given text. (4pt)\n",
        "\n",
        "3. Implement the metrics for measuring **state-based trace similarity** and **transition-based trace similarity**. (4pt, 2pt for each metric)\n",
        "\n",
        "4. Use DeepStellar to analyze adversarial attack (4pt)\n",
        "\n",
        "    4.1 Output traces of original data and attacked data. (1pt)\n",
        "    \n",
        "    4.2 Draw a figure to visualize each trace. (1pt)\n",
        "    \n",
        "    4.3 Calculate their **state-based trace similarity** and **transition-based trace similarity** based on the defined functions in 3. (1pt)\n",
        "    \n",
        "    4.4 Analyze the difference between original data and attacked data: give a brief explanation on why the model's prediction result is incorrect on the attacked data. (1pt)\n",
        "    \n",
        "5. Brief discussion on the open question: how to further improve the state abstraction method? (1pt)\n",
        "\n",
        "**trace: a sequence of RNN state vectors*"
      ]
    },
    {
      "cell_type": "markdown",
      "metadata": {
        "id": "8io55tt5xvEX"
      },
      "source": [
        "## Background"
      ]
    },
    {
      "cell_type": "markdown",
      "metadata": {
        "id": "SC5HMjfpxvEY"
      },
      "source": [
        "In this assignment, let's consider the following task: **multi-class text classification**.\n",
        "\n",
        "The data used is AGNews dataset [\\[1\\]](http://groups.di.unipi.it/~gulli/AG_corpus_of_news_articles.html),[\\[2\\]](https://pytorch.org/text/stable/datasets.html#ag-news). In this dataset, each news corpus is labeled as one of four classes:\n",
        "\n",
        "- 0-World\n",
        "- 1-Sports\n",
        "- 2-Business\n",
        "- 3-Sci/Tech"
      ]
    },
    {
      "cell_type": "markdown",
      "metadata": {
        "id": "I8NPZZ8IxvEZ"
      },
      "source": [
        "Then, let's consider using this RNN model, specifically, a simple one-layer GRU model, the hidden-state size is 256.\n",
        "\n",
        "![RNN model](https://raw.githubusercontent.com/momentum-openspace/momentum-openspace.github.io/new-template/files/asg3/rnn-many-to-one-ltr.png)"
      ]
    },
    {
      "cell_type": "markdown",
      "metadata": {
        "id": "L1WkWEd5xvEa"
      },
      "source": [
        "In this RNN model, we used a word-based tokenizer to tokenize a sentence and the vocab was built with top-30000 frequent words in the training data. The embedding layer has a size of 200. The final hidden states will go into two linear layers to generate the classification result. Since this is a multi-class classification problem, we utilize the `nn.CrossEntropyLoss` for training.\n",
        "\n",
        "We have done the training for you, therefore you will have a pre-trained RNN model for this assigment. The training accuracy is around 91.5%.\n",
        "\n",
        "The detailed model architecture is listed as below:\n",
        "\n",
        "```\n",
        "SimpleGRUMultiClassification(\n",
        "  (embedding): Embedding(30002, 200)\n",
        "  (dropout): Dropout(p=0.3, inplace=False)\n",
        "  (lstm): GRU(200, 256, num_layers=2, batch_first=True, dropout=0.3)\n",
        "  (softmax): Softmax(dim=-1)\n",
        "  (dense): Sequential(\n",
        "    (0): Linear(in_features=256, out_features=64, bias=True)\n",
        "    (1): ReLU()\n",
        "    (2): Linear(in_features=64, out_features=4, bias=True)\n",
        "  )\n",
        ")\n",
        "```"
      ]
    },
    {
      "cell_type": "markdown",
      "metadata": {
        "id": "sHkNa2_rxvEb"
      },
      "source": [
        "Now let's try to load the pretrained model!"
      ]
    },
    {
      "cell_type": "code",
      "execution_count": 3,
      "metadata": {
        "colab": {
          "base_uri": "https://localhost:8080/"
        },
        "id": "Xn6edarxxvEc",
        "outputId": "4654626f-b2f2-459a-a878-11fe533ce9cf"
      },
      "outputs": [
        {
          "output_type": "stream",
          "name": "stdout",
          "text": [
            "--2022-03-18 20:45:35--  https://onedrive.live.com/download?cid=9F719B6A4F197D9C&resid=9F719B6A4F197D9C%214304&authkey=ABp_zbZfV0lDbBI\n",
            "Resolving onedrive.live.com (onedrive.live.com)... 13.107.43.13\n",
            "Connecting to onedrive.live.com (onedrive.live.com)|13.107.43.13|:443... connected.\n",
            "HTTP request sent, awaiting response... 302 Found\n",
            "Location: https://2wk5yg.bn.files.1drv.com/y4mcvy8DSAA2wE3O_tAuIbeFV8K2hAfaFsyeh_OM4iZoKaq8b79onYMFMJ5-fByyEcIIl9vVQPRtG-2y1Di56IsojyWbIoq9XkvfcsrN4aq8B108VdCXRg4pMX5HesqBpcVI6J_ls20cDLN49zmd85JqwncbcKTtBp8Rif5MYCN5H_8mk4H7XRQ-FrdBnqutjyO7tNqR6AZoatf5-WxW1WSmA/asg3.zip?download&psid=1 [following]\n",
            "--2022-03-18 20:45:36--  https://2wk5yg.bn.files.1drv.com/y4mcvy8DSAA2wE3O_tAuIbeFV8K2hAfaFsyeh_OM4iZoKaq8b79onYMFMJ5-fByyEcIIl9vVQPRtG-2y1Di56IsojyWbIoq9XkvfcsrN4aq8B108VdCXRg4pMX5HesqBpcVI6J_ls20cDLN49zmd85JqwncbcKTtBp8Rif5MYCN5H_8mk4H7XRQ-FrdBnqutjyO7tNqR6AZoatf5-WxW1WSmA/asg3.zip?download&psid=1\n",
            "Resolving 2wk5yg.bn.files.1drv.com (2wk5yg.bn.files.1drv.com)... 13.107.43.12\n",
            "Connecting to 2wk5yg.bn.files.1drv.com (2wk5yg.bn.files.1drv.com)|13.107.43.12|:443... connected.\n",
            "HTTP request sent, awaiting response... 200 OK\n",
            "Length: 180241637 (172M) [application/zip]\n",
            "Saving to: ‘asg3.zip’\n",
            "\n",
            "asg3.zip            100%[===================>] 171.89M  48.8MB/s    in 3.5s    \n",
            "\n",
            "2022-03-18 20:45:40 (48.8 MB/s) - ‘asg3.zip’ saved [180241637/180241637]\n",
            "\n",
            "Archive:  asg3.zip\n",
            "   creating: file/\n",
            "  inflating: file/tokenizer.pt       \n",
            "  inflating: __MACOSX/file/._tokenizer.pt  \n",
            "  inflating: file/.DS_Store          \n",
            "  inflating: __MACOSX/file/._.DS_Store  \n",
            "  inflating: file/agnews_ckpt_best.pth  \n",
            "  inflating: __MACOSX/file/._agnews_ckpt_best.pth  \n",
            "  inflating: file/pca_data.prt       \n",
            "  inflating: file/pca_model.pt       \n",
            "  inflating: requirements.txt        \n",
            "  inflating: rnn-many-to-one-ltr.png  \n",
            "  inflating: __MACOSX/._rnn-many-to-one-ltr.png  \n",
            "  inflating: util.cpython-37.pyc     \n",
            "  inflating: util.cpython-38.pyc     \n",
            "  inflating: util.cpython-39.pyc     \n"
          ]
        }
      ],
      "source": [
        "! wget --no-check-certificate \"https://onedrive.live.com/download?cid=9F719B6A4F197D9C&resid=9F719B6A4F197D9C%214304&authkey=ABp_zbZfV0lDbBI\" -O asg3.zip\n",
        "! unzip asg3.zip\n",
        "\n",
        "# install some libraries if you're working with your own PC.\n",
        "# pip install -r requirements.txt"
      ]
    },
    {
      "cell_type": "code",
      "execution_count": 4,
      "metadata": {
        "id": "Pwd8Qyb8xvEe"
      },
      "outputs": [],
      "source": [
        "import imp\n",
        "import platform\n",
        "\n",
        "py_version = platform.python_version().split('.')[1]\n",
        "if py_version == '7':\n",
        "    util = imp.load_compiled(\"util\", \"./util.cpython-37.pyc\")\n",
        "elif py_version == '8':\n",
        "    util = imp.load_compiled(\"util\", \"./util.cpython-38.pyc\")\n",
        "elif py_version == '9':\n",
        "    util = imp.load_compiled(\"util\", \"./util.cpython-39.pyc\")\n",
        "else:\n",
        "    raise NotImplementedError('Only supports Python>=3.7')"
      ]
    },
    {
      "cell_type": "code",
      "execution_count": 5,
      "metadata": {
        "id": "48G1JhvpxvEf"
      },
      "outputs": [],
      "source": [
        "import joblib\n",
        "import torch\n",
        "import numpy as np\n",
        "import math\n",
        "\n",
        "from util import load_tokenizer, SimpleGRUMultiClassification"
      ]
    },
    {
      "cell_type": "code",
      "execution_count": 6,
      "metadata": {
        "colab": {
          "base_uri": "https://localhost:8080/"
        },
        "id": "iS2e_0-1xvEg",
        "outputId": "ddd74253-be54-46da-dae5-91214e4047f1"
      },
      "outputs": [
        {
          "output_type": "stream",
          "name": "stdout",
          "text": [
            "cpu\n"
          ]
        }
      ],
      "source": [
        "# load pre-trained model and tokenizer\n",
        "\n",
        "device = torch.device('cuda' if torch.cuda.is_available() else 'cpu')\n",
        "print(device)\n",
        "ckpt = torch.load('./file/agnews_ckpt_best.pth', map_location=device)\n",
        "model = SimpleGRUMultiClassification(*ckpt['model_args'])\n",
        "model = model.to(device)\n",
        "model.eval()\n",
        "model.load_state_dict(ckpt['model'])\n",
        "\n",
        "_, tokenizer, _, _ = load_tokenizer('./file/tokenizer.pt')"
      ]
    },
    {
      "cell_type": "markdown",
      "metadata": {
        "id": "e7NaxZhcxvEg"
      },
      "source": [
        "Here we provide a simple example on how to use this pretrained model to predict a new corpus. We use the `model.proifle` function to get both the hidden states and the prediction results on each hidden state. The result from final hidden state is used as the model's prediction result."
      ]
    },
    {
      "cell_type": "code",
      "execution_count": 7,
      "metadata": {
        "colab": {
          "base_uri": "https://localhost:8080/"
        },
        "id": "g8uLxSRMxvEh",
        "outputId": "def170df-31ee-4ed6-ce64-caf0dae8018b"
      },
      "outputs": [
        {
          "output_type": "stream",
          "name": "stdout",
          "text": [
            "The predicted label is: Sci/Tech\n"
          ]
        }
      ],
      "source": [
        "example_text = \"Yahoo introducing new search engine tools\\\",\\\"Internet giant Yahoo is introducing new search engine tools that will enable users to create personal folders and share their favorite links with others.\"\n",
        "\n",
        "label2text = {0: \"World\", 1: \"Sports\", 2: \"Business\", 3: \"Sci/Tech\"}\n",
        "\n",
        "# Convert the text corpus into tokens, and transform the token list into a torch tensor.\n",
        "tokens = torch.tensor(tokenizer(example_text)).to(device).long()\n",
        "\n",
        "# add a dimension to the tensor, to let it become a tensor with a size of (1, n), where 1 represent the batch size, and n is the number of tokens.\n",
        "input_tensor = tokens.view(1, -1)\n",
        "\n",
        "# use ``model.profile`` to predict on the input tensor.\n",
        "hidden_states, pred_tensor = model.profile(input_tensor)\n",
        "\n",
        "# recall that the output is a 4-dim array processed by softmax function, therefore we utilize the ``argmax`` function to get the prediction result.\n",
        "pred = np.argmax(pred_tensor[0].cpu().detach().numpy()[-1])\n",
        "print('The predicted label is: %s' % label2text[pred])"
      ]
    },
    {
      "cell_type": "markdown",
      "metadata": {
        "id": "UMI_xt-exvEi"
      },
      "source": [
        "Now, we can profile on the training data, to get all the hidden states and prediction results. Since this process is time-consuming, we've done it for you. Besides, in DeepStellar, the high-dimension hidden states also need to be processed by PCA to get low-dimension ones. We've also done the PCA process for you. And you can simply load the processed data and the pca model, which will be used in the remaining parts of this assignment. In this assignment, we take top-3 principal components in PCA."
      ]
    },
    {
      "cell_type": "code",
      "execution_count": 8,
      "metadata": {
        "id": "YMcntiYxxvEi"
      },
      "outputs": [],
      "source": [
        "# load pre-processed data and pca model\n",
        "\n",
        "(pca_data, embedding, text, _, label, pred, pred_pro) = joblib.load('./file/pca_data.prt')\n",
        "pca_model = joblib.load('./file/pca_model.pt')"
      ]
    },
    {
      "cell_type": "markdown",
      "metadata": {
        "id": "snF2SWC0xvEj"
      },
      "source": [
        "### Data Structure\n",
        "- `pca_data` is a list. Each element in this list is a numpy array of size `(n,3)`, representing the pca-processed hidden states of this training text corpus.\n",
        "- `embedding` is a list. Each element in this list is a numpy array of size `(n,)`, representing the embeddings of this training text corpus.\n",
        "- `text` is a list. Each element in this list is a numpy array of size `(n,)`, representing the tokenized words of this training text corpus.\n",
        "- `label` is a list. Each element in this list is an integer, representing the ground-truth label of this training text corpus.\n",
        "- `pred` is a list. Each element in this list is an integer, representing the prediction result of this training text corpus.\n",
        "- `pred_pro` is a list. Each element in this list is a numpy array of size `(n,4)`, representing all the intermediate prediction probabilities of this training text corpus."
      ]
    },
    {
      "cell_type": "markdown",
      "metadata": {
        "id": "vi8TC_QYxvEj"
      },
      "source": [
        "`pca_model` is a Python object of PCA, which is trained on the training data, and we provide the API reference about how to use this."
      ]
    },
    {
      "cell_type": "markdown",
      "metadata": {
        "id": "jfnuJqJexvEk"
      },
      "source": [
        "### API Reference (all relevant APIs included)\n",
        "\n",
        "#### pca_model.do_reduction(data_list)\n",
        "\n",
        "**Parameter:**\n",
        "- **data_list** (list) - A list of numpy array where each array stores a sequence of hidden states\n",
        "\n",
        "**Returns:**\n",
        "- **pca_data** (list) - A list of numpy array where each array stores a sequence of concrete states processed by pca\n",
        "\n",
        "#### Examples\n",
        "```\n",
        ">>> data_list = [np.random.random((200, 256))]\n",
        ">>> pca_data = pca_model.do_reduction(data_list)\n",
        ">>> pca_data[0].shape\n",
        "'(200, 3)'\n",
        "```\n",
        "---\n",
        "\n",
        "#### tokenizer(text)\n",
        "\n",
        "**Parameter:**\n",
        "- **text** (str) - A string of text corpus.\n",
        "\n",
        "**Returns:**\n",
        "- **tokens** (list) - A list of word tokens.\n",
        "\n",
        "#### Examples\n",
        "```\n",
        ">>> tokens = tokenizer(\"hello world\")\n",
        ">>> tokens\n",
        "'[12225, 47]'\n",
        "```\n",
        "---\n",
        "\n",
        "#### model.profile(input_tensor)\n",
        "\n",
        "**Parameter:**\n",
        "- **input_tensor** (torch.Tensor) - The input tensor should be a torch Long tensor of shape `(B,N)`, `B`\n",
        "is the batch size, and `N` is the number of tokens.\n",
        "\n",
        "**Returns:**\n",
        "- **hidden_states** (torch.Tensor) - The hidden states of shape `(B,N,H)`, `B` is the batch size, and `N` is\n",
        "the number of tokens, `H` is the dimension of hidden states.\n",
        "- **pred_tensor** (torch.Tensor) - The prediction result of shape `(B,N,C)`, `B` is the batch size, and `N` is\n",
        "the number of tokens, `C` is the number of class (classification target).\n",
        "\n",
        "#### Examples\n",
        "```\n",
        ">>> tokens = tokenizer(\"hello world\")\n",
        ">>> tokens\n",
        "'[12225, 47]'\n",
        ">>> hidden_states, pred_tensor = model.profile(torch.tensor(tokens).long().view(1, -1))\n",
        ">>> hidden_states.size()\n",
        "'torch.Size([1, 2, 256])'\n",
        ">>> pred_tensor.size()\n",
        "'torch.Size([1, 2, 4])'\n",
        "```\n",
        "---\n"
      ]
    },
    {
      "cell_type": "markdown",
      "metadata": {
        "id": "5P7BewD5xvEk"
      },
      "source": [
        "You can spend some time on trying these functions and APIs. Once you feel good about using them, let's turn to the assignment quesions ;-)"
      ]
    },
    {
      "cell_type": "markdown",
      "metadata": {
        "id": "GB0VE0S2xvEk"
      },
      "source": [
        "## 1. Implement DeepStellar. (7pt)"
      ]
    },
    {
      "cell_type": "markdown",
      "metadata": {
        "id": "soaT5XgaxvEl"
      },
      "source": [
        "### The following `class DeepStellar` is the basic class of DeepStellar model, you will need to finish the todo blocks in order to:\n",
        "\n",
        "1. Build state transition model based on training data. (4pt)\n",
        "\n",
        "2. Based on your implementation, which state is most frequently visited? (3pt)\n"
      ]
    },
    {
      "cell_type": "code",
      "execution_count": 90,
      "metadata": {
        "id": "_YoqX439xvEl"
      },
      "outputs": [],
      "source": [
        "class DeepStellar(object):\n",
        "    r\"\"\"The class of DeepStellar model.\n",
        "    Arguments\n",
        "    ---------\n",
        "    rnn : torch.nn.Module\n",
        "        A PyTorch based RNN model that would be analyzed in DeepStellar.\n",
        "    tokenizer : tokenizer_pipeline object\n",
        "        The tokenizer used when training the RNN model. This is used to split\n",
        "        text corpus and convert them into word-based tokens.\n",
        "    pca_model : PCAReduction object\n",
        "        The PCA model. This is to transform a high-dimension data into low-dimension\n",
        "        one. Note that in this assignment, we keep top-3 dimension in PCA.\n",
        "    pca_data : list\n",
        "        This is a list of numpy array, which should be the pca-processed hidden states.\n",
        "        The shape of each numpy array should be ``(n, 3)``, where n is the length of\n",
        "        each sequence.\n",
        "    m_split : int\n",
        "        m_split decides how many intervals to be split on each dimension.\n",
        "    Example\n",
        "    -------\n",
        "    >>> deep_stellar_model = DeepStellar(rnn, tokenizer, pca_model, pca_data, 10)\n",
        "    >>> state_distribution = deep_stellar_model.get_state_distribution()\n",
        "    \"\"\"\n",
        "    def __init__(self, rnn, tokenizer, pca_model, pca_data, m_split=10):\n",
        "        self.rnn = rnn\n",
        "        self.tokenizer = tokenizer\n",
        "        self.pca = pca_model\n",
        "        self.m_split = m_split\n",
        "        self.pca_data = pca_data\n",
        "        self.traces = self._build_abstraction_model()\n",
        "        self.min = 0\n",
        "        self.max = 0\n",
        "        self.interval = 0\n",
        "        \n",
        "    def _build_abstraction_model(self):\n",
        "        \"\"\"Iterate all the training data (``self.pca_data``) to build DeepStellar\n",
        "        Returns\n",
        "        -------\n",
        "        traces : list\n",
        "            A list of numpy array which should be the abstracted states. Each numpy\n",
        "            array should look like\n",
        "            ``[[1, 2, 3], [4, 5, 6], ...]``,\n",
        "            and each element represents which interval it belongs to.\n",
        "            For example, suppose the lower bound of first dimension is -10, the upper\n",
        "            bound is 10, we split the grid into 10 intervals, then each interval\n",
        "            has a size of 2. Hence, 4.67 should belong to the grid 7 because\n",
        "            ``(4.67 - (-10)) / 2 = 7.335`` (We use 0 to denote the first interval\n",
        "            therefore 10th interval will be 9)\n",
        "        \"\"\"\n",
        "\n",
        "        '''\n",
        "        Hint: you might want to first iterative through all arrays in\n",
        "        ``self.pca_data`` to find the min value and max value of each PCA dimension.\n",
        "        Then, you can calculate the size of each interval, and transform the concrete\n",
        "        states in ``self.pca_data`` into abstracted states.\n",
        "        \n",
        "        And you might want to add some attributes to this class for future accessing \n",
        "        your state abstraction model.\n",
        "\n",
        "        Your final output should be a list of state trace as addressed in the above\n",
        "        comments.\n",
        "        '''\n",
        "\n",
        "        # ======= Below is assignment TODO ======= #\n",
        "        pca_min = []\n",
        "        pca_max = []\n",
        "        for values in self.pca_data: \n",
        "          pca_min.append(np.min(values,0))\n",
        "          pca_max.append(np.max(values,0))\n",
        "        self.max = np.max(pca_max,0)\n",
        "        self.min = np.min(pca_min,0) \n",
        "        # print(self.min,self.max)\n",
        "        self.interval = (self.max - self.min) / self.m_split\n",
        "        # print(self.interval)\n",
        "        traces = []\n",
        "        for values in self.pca_data: # (24,3)\n",
        "          trace = []\n",
        "          for value in values: # (1,3)\n",
        "            a = [(value[i] - self.min[i]) / self.interval[i] - 1 for i in range(3)]\n",
        "            a = np.array(a,dtype=np.int32) - 1\n",
        "            trace.append(a)\n",
        "          traces.append(trace)\n",
        "        # ======= Above is assignment TODO ======= #\n",
        "        return traces\n",
        "\n",
        "    def get_state_distribution(self):\n",
        "        \"\"\"Iterate all the traces to calculate the state distribution.\n",
        "        Returns\n",
        "        -------\n",
        "        states : numpy.array()\n",
        "            A numpy array which has a size of ``(m_split, m_split, m_split)``, and the\n",
        "            value of represents the visit time of this abstract state.\n",
        "        \"\"\"\n",
        "        states = np.zeros((self.m_split, self.m_split, self.m_split))\n",
        "        for trace in self.traces:\n",
        "            for state in trace:\n",
        "                states[state[0], state[1], state[2]] += 1\n",
        "        return states"
      ]
    },
    {
      "cell_type": "markdown",
      "metadata": {
        "id": "UOLRXPwwxvEm"
      },
      "source": [
        "Now let's build the DeepStellar model. Note that `m_split` will be set as **10** in this assignment."
      ]
    },
    {
      "cell_type": "code",
      "execution_count": 91,
      "metadata": {
        "colab": {
          "base_uri": "https://localhost:8080/"
        },
        "id": "S2NBVFMTxvEn",
        "outputId": "f299cb19-5c11-4c3d-d36f-6033ff5cce4d"
      },
      "outputs": [
        {
          "output_type": "stream",
          "name": "stdout",
          "text": [
            "0\n"
          ]
        }
      ],
      "source": [
        "deep_stellar = DeepStellar(model, tokenizer, pca_model, pca_data, 10)\n",
        "print(deep_stellar.min)\n",
        "states = deep_stellar.get_state_distribution()"
      ]
    },
    {
      "cell_type": "markdown",
      "metadata": {
        "id": "rSm1WTB5xvEn"
      },
      "source": [
        "Then, you can try to find the most frequently visited state by iterate through `states`. Please write your code\n",
        "in the following cell and paste your results in the project report."
      ]
    },
    {
      "cell_type": "code",
      "execution_count": null,
      "metadata": {
        "id": "K1pdoGx5xvEn"
      },
      "outputs": [],
      "source": [
        "# ======= Below is assignment TODO ======= #\n",
        "freq = {}\n",
        "for state in states:\n",
        "  for s in state:\n",
        "    for i in range(len(s)):\n",
        "      if (s[i] in freq):\n",
        "        freq[s[i]] += 1\n",
        "      else:\n",
        "        freq[s[i]] = 1\n",
        "\n",
        "for key, value in freq.items():\n",
        "        print (\"% d : % d\"%(key, value))\n",
        "# ======= Above is assignment TODO ======= #"
      ]
    },
    {
      "cell_type": "markdown",
      "metadata": {
        "id": "hVsKSrXvxvEn"
      },
      "source": [
        "## 2. Implement a function to obtain trace of a given text. (4pt)"
      ]
    },
    {
      "cell_type": "markdown",
      "metadata": {
        "id": "Aa_nQU1cxvEo"
      },
      "source": [
        "Since we have build the DeepStellar model, now we'd like to think about how to extract trace on a new text corpus.\n",
        "\n",
        "You will need to finish the following function, and please following the comments on the returns types. :-)"
      ]
    },
    {
      "cell_type": "code",
      "execution_count": 85,
      "metadata": {
        "id": "EkoE8CGyxvEo"
      },
      "outputs": [],
      "source": [
        "def get_trace(deep_stellar, text):\n",
        "    \"\"\"Get the state trace of a new text corpus.\n",
        "    Arguments\n",
        "    ---------\n",
        "    deep_stellar : DeepStellar object\n",
        "    text : str\n",
        "    Returns\n",
        "    -------\n",
        "    trace : numpy.array()\n",
        "        A numpy array to store the state trace, and this numpy array should look like\n",
        "        ``[[1, 2, 3], [4, 5, 6], ...]``,\n",
        "        and each element represents which interval it belongs to.\n",
        "        If the value is smaller than the lower bound, then we denote it as -1, if it's\n",
        "        larger than the higher bound, then we denote it as 10 (recall that we denote 10\n",
        "        intervals from 0 to 9).\n",
        "    pred : int\n",
        "        The prediction result of this text.\n",
        "    \"\"\"\n",
        "\n",
        "    # ======= Below is assignment TODO ======= #\n",
        "    tokens = deep_stellar.tokenizer(text)\n",
        "    hidden_states, pred_tensor = deep_stellar.rnn.profile(torch.tensor(tokens).long().view(1, -1))\n",
        "    pred = np.argmax(pred_tensor[0].cpu().detach().numpy()[-1])\n",
        "    pca_data = deep_stellar.pca.do_reduction(hidden_states.numpy())[0]    \n",
        "    trace = []\n",
        "    print(pca_data)\n",
        "    trace = []\n",
        "    print(deep_stellar.min)\n",
        "    print(deep_stellar.interval)\n",
        "    for data in pca_data:\n",
        "      a = (data - deep_stellar.min) / deep_stellar.interval\n",
        "      a = np.array(a,dtype=np.int32)\n",
        "      a[0] = min(max(a[0], -1), 10)\n",
        "      a[1] = min(max(a[1], -1), 10)\n",
        "      a[2] = min(max(a[2], -1), 10)\n",
        "      trace.append(a)\n",
        "\n",
        "    # ======= Above is assignment TODO ======= #\n",
        "\n"
      ]
    },
    {
      "cell_type": "markdown",
      "metadata": {
        "id": "ZrKNeEahxvEp"
      },
      "source": [
        "Now let's test this function using a minimal example."
      ]
    },
    {
      "cell_type": "code",
      "execution_count": 86,
      "metadata": {
        "id": "aNblrAbNxvEp",
        "colab": {
          "base_uri": "https://localhost:8080/",
          "height": 286
        },
        "outputId": "6ee8ce3f-2d03-4b4e-c818-8295a797a68b"
      },
      "outputs": [
        {
          "output_type": "stream",
          "name": "stdout",
          "text": [
            "[[ 0.70168084 -0.21699391  0.9874352 ]\n",
            " [ 0.577323    0.07901311  0.7257762 ]]\n",
            "0\n",
            "0\n"
          ]
        },
        {
          "output_type": "stream",
          "name": "stderr",
          "text": [
            "/usr/local/lib/python3.7/dist-packages/ipykernel_launcher.py:31: RuntimeWarning: divide by zero encountered in true_divide\n"
          ]
        },
        {
          "output_type": "error",
          "ename": "TypeError",
          "evalue": "ignored",
          "traceback": [
            "\u001b[0;31m---------------------------------------------------------------------------\u001b[0m",
            "\u001b[0;31mTypeError\u001b[0m                                 Traceback (most recent call last)",
            "\u001b[0;32m<ipython-input-86-021d1d11bd17>\u001b[0m in \u001b[0;36m<module>\u001b[0;34m()\u001b[0m\n\u001b[0;32m----> 1\u001b[0;31m \u001b[0mtrace\u001b[0m\u001b[0;34m,\u001b[0m \u001b[0mpred\u001b[0m \u001b[0;34m=\u001b[0m \u001b[0mget_trace\u001b[0m\u001b[0;34m(\u001b[0m\u001b[0mdeep_stellar\u001b[0m\u001b[0;34m,\u001b[0m \u001b[0;34m\"hello world\"\u001b[0m\u001b[0;34m)\u001b[0m\u001b[0;34m\u001b[0m\u001b[0;34m\u001b[0m\u001b[0m\n\u001b[0m\u001b[1;32m      2\u001b[0m \u001b[0mprint\u001b[0m\u001b[0;34m(\u001b[0m\u001b[0mpred\u001b[0m\u001b[0;34m)\u001b[0m\u001b[0;34m\u001b[0m\u001b[0;34m\u001b[0m\u001b[0m\n\u001b[1;32m      3\u001b[0m \u001b[0mprint\u001b[0m\u001b[0;34m(\u001b[0m\u001b[0mtrace\u001b[0m\u001b[0;34m)\u001b[0m\u001b[0;34m\u001b[0m\u001b[0;34m\u001b[0m\u001b[0m\n",
            "\u001b[0;31mTypeError\u001b[0m: cannot unpack non-iterable NoneType object"
          ]
        }
      ],
      "source": [
        "trace, pred = get_trace(deep_stellar, \"hello world\")\n",
        "print(pred)\n",
        "print(trace)"
      ]
    },
    {
      "cell_type": "markdown",
      "metadata": {
        "id": "cE5P1A_nxvEp"
      },
      "source": [
        "## 3. Implement **state-based trace similarity** and **transition-based trace similarity**. (4pt)"
      ]
    },
    {
      "cell_type": "code",
      "execution_count": null,
      "metadata": {
        "id": "kWjHeurOxvEp"
      },
      "outputs": [],
      "source": [
        "def state_based_trace_similarity(tr1, tr2):\n",
        "    \"\"\"Calculate the state-based trace similarity\n",
        "    Arguments\n",
        "    ---------\n",
        "    tr1 : numpy.array()\n",
        "        A numpy array to store the state trace, and this numpy array should look like\n",
        "        ``[[1, 2, 3], [4, 5, 6], ...]``\n",
        "    tr2 : numpy.array()\n",
        "        A numpy array to store the state trace, and this numpy array should look like\n",
        "        ``[[1, 2, 3], [4, 5, 6], ...]``\n",
        "    Returns\n",
        "    -------\n",
        "    similarity : float\n",
        "    \"\"\"\n",
        "    # ======= Below is assignment TODO ======= #\n",
        "\n",
        "    \n",
        "    \n",
        "    \n",
        "    # ======= Above is assignment TODO ======= #"
      ]
    },
    {
      "cell_type": "code",
      "execution_count": null,
      "metadata": {
        "id": "-_mHdDhDxvEq"
      },
      "outputs": [],
      "source": [
        "def transition_based_trace_similarity(tr1, tr2):\n",
        "    \"\"\"Calculate the transition-based trace similarity\n",
        "    Arguments\n",
        "    ---------\n",
        "    tr1 : numpy.array()\n",
        "        A numpy array to store the state trace, and this numpy array should look like\n",
        "        ``[[1, 2, 3], [4, 5, 6], ...]``\n",
        "    tr2 : numpy.array()\n",
        "        A numpy array to store the state trace, and this numpy array should look like\n",
        "        ``[[1, 2, 3], [4, 5, 6], ...]``\n",
        "    Returns\n",
        "    -------\n",
        "    similarity : float\n",
        "    \"\"\"\n",
        "    # ======= Below is assignment TODO ======= #\n",
        "\n",
        "    \n",
        "    \n",
        "    \n",
        "    # ======= Above is assignment TODO ======= #"
      ]
    },
    {
      "cell_type": "markdown",
      "metadata": {
        "id": "f-ZSyTb1xvEq"
      },
      "source": [
        "## 4. Use DeepStellar to analyze adversarial attack (4pt)"
      ]
    },
    {
      "cell_type": "markdown",
      "metadata": {
        "id": "hgwWLnwJxvEq"
      },
      "source": [
        "Now consider the following two paragraphs of text.\n",
        "\n",
        "> House defeats FDA proposal, House lawmakers yesterday killed a Senate proposal to give the Food and Drug Administration authority over the manufacture and marketing of tobacco.\n",
        "\n",
        "> House kills FDA proposal, House lawmakers yesterday killed a Senate proposal to give the Food and Drug Administration authority over the manufacture and marketing of tobacco."
      ]
    },
    {
      "cell_type": "markdown",
      "metadata": {
        "id": "7IgiH8V1xvEr"
      },
      "source": [
        "Let's first see their prediction results. Try to use `get_trace(deep_stellar, text)` to print their traces and prediction results."
      ]
    },
    {
      "cell_type": "code",
      "execution_count": null,
      "metadata": {
        "id": "YPqF6IyKxvEr"
      },
      "outputs": [],
      "source": [
        "text1 = \"House defeats FDA proposal, House lawmakers yesterday killed a Senate proposal to give the Food and Drug Administration authority over the manufacture and marketing of tobacco.\"\n",
        "text2 = \"House kills FDA proposal, House lawmakers yesterday killed a Senate proposal to give the Food and Drug Administration authority over the manufacture and marketing of tobacco.\""
      ]
    },
    {
      "cell_type": "code",
      "execution_count": null,
      "metadata": {
        "id": "ADO1sk0exvEr"
      },
      "outputs": [],
      "source": [
        "# ======= Below is assignment TODO ======= #\n",
        "\n",
        "\n",
        "\n",
        "\n",
        "# ======= Above is assignment TODO ======= #"
      ]
    },
    {
      "cell_type": "markdown",
      "metadata": {
        "id": "epVLpz2txvEr"
      },
      "source": [
        "Now, try to use some graphic lib to plot these two traces. You might want to take a look on this (https://matplotlib.org/stable/gallery/mplot3d/scatter3d.html)."
      ]
    },
    {
      "cell_type": "code",
      "execution_count": null,
      "metadata": {
        "id": "DNmAZBA4xvEs"
      },
      "outputs": [],
      "source": [
        "import matplotlib.pyplot as plt\n",
        "\n",
        "# ======= Below is assignment TODO ======= #\n",
        "\n",
        "\n",
        "\n",
        "\n",
        "# ======= Above is assignment TODO ======= #"
      ]
    },
    {
      "cell_type": "markdown",
      "metadata": {
        "id": "FGKBqRS8xvEs"
      },
      "source": [
        "What is the state-based trace similarity and transition-based trace similarity of them?"
      ]
    },
    {
      "cell_type": "code",
      "execution_count": null,
      "metadata": {
        "id": "Rgzrq9lHxvEs"
      },
      "outputs": [],
      "source": [
        "print('State-based trace similarity: %.2f' % state_based_trace_similarity(tr1, tr2))\n",
        "print('Transition-based trace similarity: %.2f' % transition_based_trace_similarity(tr1, tr2))"
      ]
    },
    {
      "cell_type": "markdown",
      "metadata": {
        "id": "ShbOXBncxvEt"
      },
      "source": [
        "## Remark\n",
        "\n",
        "At this point (after finishing these three assignments), you should be ready with basis of machine learning testing techniques!;-) Now you can go further to explore and contribute to this research area!"
      ]
    },
    {
      "cell_type": "code",
      "execution_count": null,
      "metadata": {
        "id": "tOMTuzhbxvEt"
      },
      "outputs": [],
      "source": [
        ""
      ]
    }
  ],
  "metadata": {
    "colab": {
      "collapsed_sections": [],
      "name": "HW3.ipynb",
      "provenance": [],
      "include_colab_link": true
    },
    "kernelspec": {
      "display_name": "Python 3 (ipykernel)",
      "language": "python",
      "name": "python3"
    },
    "language_info": {
      "codemirror_mode": {
        "name": "ipython",
        "version": 3
      },
      "file_extension": ".py",
      "mimetype": "text/x-python",
      "name": "python",
      "nbconvert_exporter": "python",
      "pygments_lexer": "ipython3",
      "version": "3.8.9"
    }
  },
  "nbformat": 4,
  "nbformat_minor": 0
}